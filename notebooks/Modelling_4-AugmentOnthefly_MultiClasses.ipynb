{
 "cells": [
  {
   "cell_type": "markdown",
   "id": "0c408c59-80be-47e4-8ca8-f8be5dd9299a",
   "metadata": {},
   "source": [
    "# CNN trained with data augmentation on the fly"
   ]
  },
  {
   "cell_type": "markdown",
   "id": "06755b1c-27aa-483d-8ebf-09e52eacbcb0",
   "metadata": {},
   "source": [
    "l'augmentaion des données se fait dans le bacth pour avoir un modèle qui optimize des features non dépendantes du numéro d'échantillon\n",
    "\n",
    "on applique donc un décalage temporel de l'ensemble du signal. la décalage est au maximum le nombre d'échantillons de zero padding on applique aussi un léger filtre gaussien, léger car les pics de faibles largeurs sont fortement impactés."
   ]
  },
  {
   "cell_type": "code",
   "execution_count": 1,
   "id": "19170d7e-82d4-4427-a1aa-e1790c449ca1",
   "metadata": {},
   "outputs": [],
   "source": [
    "import os\n",
    "import sys\n",
    "sys.path.append('../src')\n",
    "import time\n",
    "\n",
    "from balance import load_balanced\n",
    "import pandas as pd\n",
    "import numpy as np\n",
    "import matplotlib.pyplot as plt\n",
    "from sklearn import preprocessing\n",
    "from sklearn.metrics import classification_report\n",
    "from sklearn.metrics import recall_score, precision_score\n",
    "\n",
    "import torch.nn as nn\n",
    "import torch\n",
    "from torch.utils.data import TensorDataset, DataLoader\n",
    "from torchsummary import summary\n",
    "from torch import optim\n",
    "from sklearn.model_selection import train_test_split\n",
    "import joblib"
   ]
  },
  {
   "cell_type": "code",
   "execution_count": 8,
   "id": "dc13f715-96e6-43b9-b9f9-b2a0fc32f9ba",
   "metadata": {},
   "outputs": [],
   "source": [
    "from tqdm.notebook import tqdm"
   ]
  },
  {
   "cell_type": "code",
   "execution_count": 7,
   "id": "bcd7ee85-2190-4145-b53d-f568159f2835",
   "metadata": {},
   "outputs": [],
   "source": [
    "from scipy import ndimage\n",
    "import  seaborn as sns"
   ]
  },
  {
   "cell_type": "markdown",
   "id": "252efe47-763b-442c-add2-82c8752ffe0a",
   "metadata": {},
   "source": [
    "## MODEL"
   ]
  },
  {
   "cell_type": "code",
   "execution_count": 4,
   "id": "6560f290-ac47-44bb-875e-e806f3655948",
   "metadata": {},
   "outputs": [],
   "source": [
    "def timeshiftsignal(X_batch):\n",
    "    n_zeros_pad = ((X_batch.flip(dims=[2])!=0)).to(float).argmax(dim=2)\n",
    "    n_zeros_pad = n_zeros_pad.detach().numpy().flatten()\n",
    "    \n",
    "    n_shift = X_batch.shape[0]\n",
    "    n_apply_shift = np.random.randint(n_shift)\n",
    "    if n_apply_shift>1:\n",
    "        index_apply_shift = list(range(X_batch.shape[0]))\n",
    "        np.random.shuffle(index_apply_shift)\n",
    "        ii_shift = index_apply_shift[0:n_shift]\n",
    " \n",
    "        for ii in ii_shift:\n",
    "            if n_zeros_pad[ii]>0:\n",
    "                X_batch[ii,:,:] = X_batch[ii,:,:].roll(np.random.randint(n_zeros_pad[ii]),dims=[1])\n",
    "\n",
    "    return X_batch"
   ]
  },
  {
   "cell_type": "code",
   "execution_count": 5,
   "id": "e4b5d22b-2db1-4ae0-87bc-1830aa217bb5",
   "metadata": {},
   "outputs": [],
   "source": [
    "def fly_shift_and_gauss(X_batch,Gau,n_Gauss=None,n_shift=None):\n",
    "    with torch.no_grad():\n",
    "        n_zeros_pad = ((X_batch.flip(dims=[2])!=0)).to(float).argmax(dim=2)\n",
    "        n_zeros_pad = n_zeros_pad.detach().numpy().flatten()\n",
    "        if n_Gauss is None:\n",
    "            n_Gauss = X_batch.shape[0]\n",
    "        if n_shift is None:\n",
    "            n_shift = X_batch.shape[0]\n",
    "        # apply gaussian filter randomnly to N signal\n",
    "        # N must be at least the number of gussian filters defined : 3\n",
    "        n_apply_gauss = X_batch.shape[0] //2 #np.random.randint(n_Gauss)\n",
    "        # number of gaussian filter to apply\n",
    "        n_filter_gauss = len(Gau)\n",
    "        #if n_apply_gauss>=n_filter_gauss:\n",
    "        index_apply_gauss = list(range(X_batch.shape[0]))\n",
    "        np.random.shuffle(index_apply_gauss)\n",
    "        # apply eahc gaussian to a part of the N signals \n",
    "        gn = int(n_apply_gauss/n_filter_gauss) # number of signals filtered by 1 gaussian\n",
    "        for kg in range(n_filter_gauss):              \n",
    "            ii_gauss = index_apply_gauss[kg*gn:(kg+1)*gn]        \n",
    "            X_batch[ii_gauss,:,:] =  Gau[kg](X_batch[ii_gauss,:,:])\n",
    "\n",
    "        n_apply_shift = X_batch.shape[0] //2 #np.random.randint(n_shift)\n",
    "        #if n_apply_shift>1:\n",
    "        index_apply_shift = list(range(X_batch.shape[0]))\n",
    "        np.random.shuffle(index_apply_shift)\n",
    "        ii_shift = index_apply_shift[0:n_shift]\n",
    "     \n",
    "        for ii in ii_shift:\n",
    "            if n_zeros_pad[ii]>0:\n",
    "                X_batch[ii,:,:] = X_batch[ii,:,:].roll(np.random.randint(n_zeros_pad[ii]),dims=[1])\n",
    "    return X_batch"
   ]
  },
  {
   "cell_type": "code",
   "execution_count": 6,
   "id": "63ffc56b-8009-4da2-93e9-9a5d288b75fe",
   "metadata": {},
   "outputs": [],
   "source": [
    "Gau = []\n",
    "with torch.no_grad():\n",
    "    for sigma in [0.5,0.7]:\n",
    "        weights = ndimage._filters._gaussian_kernel1d(sigma, 0, int(4 * sigma + 0.5))[::-1]\n",
    "        conv = nn.Conv1d(1, 1, weights.shape[0], stride=1, padding='same',bias=False)\n",
    "        for k in range(conv.weight.shape[2]):\n",
    "            conv.weight[0,0,k]= torch.tensor(weights[k])\n",
    "        Gau.append(conv)"
   ]
  },
  {
   "cell_type": "code",
   "execution_count": 3,
   "id": "b19c85b5-7cc2-47a9-a2d4-f66e2ced5512",
   "metadata": {},
   "outputs": [],
   "source": [
    "def evaluate_model(model, test_set):\n",
    "    X, y_true = test_set[:]\n",
    "   \n",
    "    model.eval()\n",
    "    criterion = nn.CrossEntropyLoss()\n",
    "    # Calcul de la fonction de perte\n",
    "    \n",
    "    with torch.no_grad():\n",
    "        # Prédiction du modèle pour un batch donné\n",
    "        y_pred = model(X)\n",
    "\n",
    "    loss_test = criterion(y_pred, y_true)\n",
    "    \n",
    "    y_pred = np.argmax(y_pred.detach().numpy(),axis=1)\n",
    "    y_true = y_true.numpy()\n",
    "    accuracy = precision_score(y_true, y_pred,average='macro')\n",
    "    recall = recall_score(y_true, y_pred,average='macro')\n",
    "    return y_true, y_pred, accuracy, recall, loss_test.item()\n",
    "    \n",
    "def train_a_model(model,train_loader,Gau,test_set,epochs = 100,lr=1e-3,device='cpu',outmodelname=None):\n",
    "\n",
    "\n",
    "  \n",
    "    \n",
    "    best_accuracy = 0\n",
    "    optimizer = optim.Adam(model.parameters(), lr)\n",
    "\n",
    "       # Définir le scheduler ReduceLROnPlateau\n",
    "    scheduler = optim.lr_scheduler.ReduceLROnPlateau(optimizer,\n",
    "                                                    mode='min',\n",
    "                                                    factor=0.5,\n",
    "                                                    patience=5,\n",
    "                                                    verbose=True)\n",
    "    # Définition de la fonction de perte\n",
    "    criterion = nn.CrossEntropyLoss()\n",
    "\n",
    "    loss_list = []\n",
    "    loss_list_test = []\n",
    "\n",
    "    accuracy_list = []\n",
    "    start = time.time()\n",
    "    \n",
    "    for epoch in range(epochs):\n",
    "        progress_bar = tqdm(\n",
    "            train_loader, desc=\"train\", leave=True, disable=False\n",
    "        )\n",
    "        # Dans ce mode certaines couches du modèle agissent différemment\n",
    "        model.train()\n",
    "        loss_total = 0\n",
    "        \n",
    "        for i, batch in enumerate(progress_bar):\n",
    "            # Batch de données\n",
    "            X_batch, y_batch = batch\n",
    "\n",
    "            X_batch = fly_shift_and_gauss(X_batch,Gau)\n",
    "\n",
    "            \n",
    "            # Device\n",
    "            X_batch = X_batch.to(device)\n",
    "            y_batch = y_batch.to(device)\n",
    "            \n",
    "            # Gradient mis 0\n",
    "            model.zero_grad()\n",
    "    \n",
    "            # Calcul de prédiction\n",
    "            y_pred = model(X_batch)\n",
    "    \n",
    "            # Calcul de la fonction de perte\n",
    "            loss = criterion(y_pred, y_batch)\n",
    "    \n",
    "            # Backpropagation : calculer le gradient de la loss en fonction de chaque couche\n",
    "            loss.backward()\n",
    "            \n",
    "            # Clipper le gradient entre 0 et 1 pour plus de stabilité\n",
    "            torch.nn.utils.clip_grad_norm_(model.parameters(), max_norm=1.0)\n",
    "            \n",
    "            # Descente de gradient : actualisation des paramètres\n",
    "            optimizer.step()\n",
    "            \n",
    "            loss_total += loss.item()\n",
    "            \n",
    "        scheduler.step(loss_total/len(train_loader))\n",
    "\n",
    "        \n",
    "        y_true, y_pred, accuracy, recall, loss = evaluate_model(model, test_set)\n",
    "        if accuracy > best_accuracy and outmodelname is not None:\n",
    "            joblib.dump(model, outmodelname)\n",
    "            print('save model')\n",
    "            best_accuracy = accuracy\n",
    "        loss_list.append(loss_total/len(train_loader))\n",
    "        loss_list_test.append(loss)\n",
    "        accuracy_list.append(accuracy)\n",
    "        print(f\"Epoch : {epoch+1}/{epochs} -- Training loss {loss_total/len(train_loader)}, --- Val loss {loss}, --- accuray : {accuracy}, --- recall : {recall}\")\n",
    "    \n",
    "    end = time.time()\n",
    "    \n",
    "    print(\"execution time: \",end - start)\n",
    "    fig = plt.figure()\n",
    "    ax = fig.add_subplot()\n",
    "    ax.plot(loss_list,label='loss train')\n",
    "    ax.plot(loss_list_test,label='loss test')\n",
    "    ax.legend()\n",
    "\n",
    "    table = pd.crosstab(y_true,y_pred,rownames=['True'],colnames=['Predicted'])\n",
    "    print(table)\n",
    "\n",
    "    print(classification_report(y_true, y_pred))"
   ]
  },
  {
   "cell_type": "code",
   "execution_count": 8,
   "id": "e3ae4fbb-83d3-4054-8f74-241072bd80bf",
   "metadata": {},
   "outputs": [],
   "source": [
    "def mycnn(input_shape=187,device='cpu',dropout=0.4):\n",
    "    # shape: (batch_size, n, 187)\n",
    "    model = nn.Sequential(\n",
    "        nn.Conv1d(in_channels=1, out_channels=80, kernel_size=5, stride=1, padding=0), # shape: (batch_size, n, 183)\n",
    "        nn.ReLU(),\n",
    "        nn.BatchNorm1d(num_features=80),\n",
    "        nn.MaxPool1d(2, stride=2), # shape: (batch_size, n, 91)\n",
    "        \n",
    "        nn.Conv1d(in_channels=80, out_channels=80, kernel_size=3, stride=1, padding=0), # shape: (batch_size, n, 89)\n",
    "        nn.ReLU(),\n",
    "        nn.BatchNorm1d(num_features=80),\n",
    "        nn.MaxPool1d(2, stride=2), # shape: (batch_size, n, 44)\n",
    "        \n",
    "        nn.Conv1d(in_channels=80, out_channels=80, kernel_size=3, stride=1, padding=0), # shape: (batch_size, n, 42)\n",
    "        nn.ReLU(),\n",
    "        nn.BatchNorm1d(num_features=80),\n",
    "        nn.MaxPool1d(2, stride=2), # shape: (batch_size, n, 21)\n",
    "        \n",
    "        nn.Flatten() , # shape: (batch_size, 10*n)\n",
    "        nn.Dropout(dropout),\n",
    "        nn.Linear(21*80, 50),\n",
    "        nn.ReLU(),\n",
    "        nn.Linear(50, 5),\n",
    "         #nn.Softmax(dim=-1)\n",
    "    )\n",
    "    model.to(device)\n",
    "    summary(model, input_size=(input_shape,), device=device)\n",
    "    return model\n",
    "   "
   ]
  },
  {
   "cell_type": "code",
   "execution_count": 9,
   "id": "aad1024d-2bea-41b8-a8f9-7c36d86d649d",
   "metadata": {},
   "outputs": [],
   "source": [
    "epochs = 250"
   ]
  },
  {
   "cell_type": "code",
   "execution_count": 5,
   "id": "5af84104-6b4e-4cf8-98bb-79b71aa057e0",
   "metadata": {},
   "outputs": [
    {
     "name": "stdout",
     "output_type": "stream",
     "text": [
      "(212500, 1, 187)\n"
     ]
    }
   ],
   "source": [
    "X_train, y_train = load_balanced.load('../data/processed/mitbih_train_smote_perturb_50000.csv')\n",
    "X_train,X_cross, y_train, y_cross = train_test_split(X_train,y_train,test_size=0.15,random_state=12)\n",
    "\n",
    "X_train =np.expand_dims(X_train,axis=1)\n",
    "X_cross =np.expand_dims(X_cross,axis=1)\n",
    "\n",
    "print(X_train.shape)\n",
    "\n",
    "train_set = TensorDataset(torch.from_numpy(X_train).float(), torch.Tensor(torch.from_numpy(y_train).long()))\n",
    "test_set = TensorDataset(torch.from_numpy(X_cross).float(), torch.Tensor(torch.from_numpy(y_cross).long()))\n",
    "\n",
    "train_loader = DataLoader(train_set, batch_size=100, shuffle=True)\n",
    "\n",
    "X_valid, y_valid = load_balanced.load('../data/raw/mitbih_test.csv')\n",
    "X_valid =np.expand_dims(X_valid,axis=1)\n",
    "\n",
    "valid_set =  TensorDataset(torch.from_numpy(X_valid).float(), torch.Tensor(torch.from_numpy(y_valid).long()))"
   ]
  },
  {
   "cell_type": "markdown",
   "id": "cebbe1dc-b214-4faf-b4b3-3efc72ef6dd9",
   "metadata": {},
   "source": [
    "## train"
   ]
  },
  {
   "cell_type": "code",
   "execution_count": 13,
   "id": "11e20841-7676-4829-a0c0-0850f804ee96",
   "metadata": {},
   "outputs": [
    {
     "name": "stdout",
     "output_type": "stream",
     "text": [
      "=================================================================\n",
      "Layer (type:depth-idx)                   Param #\n",
      "=================================================================\n",
      "├─Conv1d: 1-1                            480\n",
      "├─ReLU: 1-2                              --\n",
      "├─BatchNorm1d: 1-3                       160\n",
      "├─MaxPool1d: 1-4                         --\n",
      "├─Conv1d: 1-5                            19,280\n",
      "├─ReLU: 1-6                              --\n",
      "├─BatchNorm1d: 1-7                       160\n",
      "├─MaxPool1d: 1-8                         --\n",
      "├─Conv1d: 1-9                            19,280\n",
      "├─ReLU: 1-10                             --\n",
      "├─BatchNorm1d: 1-11                      160\n",
      "├─MaxPool1d: 1-12                        --\n",
      "├─Flatten: 1-13                          --\n",
      "├─Dropout: 1-14                          --\n",
      "├─Linear: 1-15                           84,050\n",
      "├─ReLU: 1-16                             --\n",
      "├─Linear: 1-17                           255\n",
      "=================================================================\n",
      "Total params: 123,825\n",
      "Trainable params: 123,825\n",
      "Non-trainable params: 0\n",
      "=================================================================\n"
     ]
    }
   ],
   "source": [
    "model = mycnn()"
   ]
  },
  {
   "cell_type": "code",
   "execution_count": 14,
   "id": "2810c0f7-c6d3-419c-8a8f-015e600a35ac",
   "metadata": {},
   "outputs": [
    {
     "data": {
      "application/vnd.jupyter.widget-view+json": {
       "model_id": "202c3b2f59f84a309f3298a3a33ab68f",
       "version_major": 2,
       "version_minor": 0
      },
      "text/plain": [
       "train:   0%|          | 0/2125 [00:00<?, ?it/s]"
      ]
     },
     "metadata": {},
     "output_type": "display_data"
    },
    {
     "name": "stdout",
     "output_type": "stream",
     "text": [
      "save model\n",
      "Epoch : 1/250 -- Training loss 0.3160326231998556, --- Val loss 0.25382453203201294, --- accuray : 0.9129994174928656, --- recall : 0.9095008893093531\n"
     ]
    },
    {
     "data": {
      "application/vnd.jupyter.widget-view+json": {
       "model_id": "e44645d59e2a49d093d6495aafed6af3",
       "version_major": 2,
       "version_minor": 0
      },
      "text/plain": [
       "train:   0%|          | 0/2125 [00:00<?, ?it/s]"
      ]
     },
     "metadata": {},
     "output_type": "display_data"
    },
    {
     "name": "stdout",
     "output_type": "stream",
     "text": [
      "save model\n",
      "Epoch : 2/250 -- Training loss 0.18481198825730996, --- Val loss 0.195648655295372, --- accuray : 0.9335898476207939, --- recall : 0.9323107889391554\n"
     ]
    },
    {
     "data": {
      "application/vnd.jupyter.widget-view+json": {
       "model_id": "775868961376488f8867d2e3f436e30d",
       "version_major": 2,
       "version_minor": 0
      },
      "text/plain": [
       "train:   0%|          | 0/2125 [00:00<?, ?it/s]"
      ]
     },
     "metadata": {},
     "output_type": "display_data"
    },
    {
     "name": "stdout",
     "output_type": "stream",
     "text": [
      "save model\n",
      "Epoch : 3/250 -- Training loss 0.15523707421912866, --- Val loss 0.1590559184551239, --- accuray : 0.9462681390674978, --- recall : 0.9444714681002037\n"
     ]
    },
    {
     "data": {
      "application/vnd.jupyter.widget-view+json": {
       "model_id": "15f8f423a4fb4f558d8d95d6a6e93412",
       "version_major": 2,
       "version_minor": 0
      },
      "text/plain": [
       "train:   0%|          | 0/2125 [00:00<?, ?it/s]"
      ]
     },
     "metadata": {},
     "output_type": "display_data"
    },
    {
     "name": "stdout",
     "output_type": "stream",
     "text": [
      "save model\n",
      "Epoch : 4/250 -- Training loss 0.1378230723572128, --- Val loss 0.14816270768642426, --- accuray : 0.949603080777314, --- recall : 0.946839333438237\n"
     ]
    },
    {
     "data": {
      "application/vnd.jupyter.widget-view+json": {
       "model_id": "59a6ed8ec08245b9ad9128f5d40fa8a6",
       "version_major": 2,
       "version_minor": 0
      },
      "text/plain": [
       "train:   0%|          | 0/2125 [00:00<?, ?it/s]"
      ]
     },
     "metadata": {},
     "output_type": "display_data"
    },
    {
     "name": "stdout",
     "output_type": "stream",
     "text": [
      "save model\n",
      "Epoch : 5/250 -- Training loss 0.12581846784493503, --- Val loss 0.1378968060016632, --- accuray : 0.9512869232833067, --- recall : 0.9495795262225277\n"
     ]
    },
    {
     "data": {
      "application/vnd.jupyter.widget-view+json": {
       "model_id": "88777ae54e5845da826fc311d5ab9444",
       "version_major": 2,
       "version_minor": 0
      },
      "text/plain": [
       "train:   0%|          | 0/2125 [00:00<?, ?it/s]"
      ]
     },
     "metadata": {},
     "output_type": "display_data"
    },
    {
     "name": "stdout",
     "output_type": "stream",
     "text": [
      "save model\n",
      "Epoch : 6/250 -- Training loss 0.11665914515055278, --- Val loss 0.12677961587905884, --- accuray : 0.9565662353136789, --- recall : 0.9548912690999252\n"
     ]
    },
    {
     "data": {
      "application/vnd.jupyter.widget-view+json": {
       "model_id": "dc0d49e041b9444d997da2deed2351ca",
       "version_major": 2,
       "version_minor": 0
      },
      "text/plain": [
       "train:   0%|          | 0/2125 [00:00<?, ?it/s]"
      ]
     },
     "metadata": {},
     "output_type": "display_data"
    },
    {
     "name": "stdout",
     "output_type": "stream",
     "text": [
      "save model\n",
      "Epoch : 7/250 -- Training loss 0.1101668659387266, --- Val loss 0.10971120744943619, --- accuray : 0.9612545147117796, --- recall : 0.9604276757976301\n"
     ]
    },
    {
     "data": {
      "application/vnd.jupyter.widget-view+json": {
       "model_id": "721dd4a97ac142c0b49e067dfef1f8ca",
       "version_major": 2,
       "version_minor": 0
      },
      "text/plain": [
       "train:   0%|          | 0/2125 [00:00<?, ?it/s]"
      ]
     },
     "metadata": {},
     "output_type": "display_data"
    },
    {
     "name": "stdout",
     "output_type": "stream",
     "text": [
      "save model\n",
      "Epoch : 8/250 -- Training loss 0.1046448704839191, --- Val loss 0.10562048107385635, --- accuray : 0.9626225561743894, --- recall : 0.9626023027208845\n"
     ]
    },
    {
     "data": {
      "application/vnd.jupyter.widget-view+json": {
       "model_id": "17b90e7a51144114a56a8fc7be566ca1",
       "version_major": 2,
       "version_minor": 0
      },
      "text/plain": [
       "train:   0%|          | 0/2125 [00:00<?, ?it/s]"
      ]
     },
     "metadata": {},
     "output_type": "display_data"
    },
    {
     "name": "stdout",
     "output_type": "stream",
     "text": [
      "save model\n",
      "Epoch : 9/250 -- Training loss 0.09986687397518579, --- Val loss 0.10521386563777924, --- accuray : 0.9641571754875196, --- recall : 0.9640711360874639\n"
     ]
    },
    {
     "data": {
      "application/vnd.jupyter.widget-view+json": {
       "model_id": "967c4c9371f6476ba3ed5edce21a23d9",
       "version_major": 2,
       "version_minor": 0
      },
      "text/plain": [
       "train:   0%|          | 0/2125 [00:00<?, ?it/s]"
      ]
     },
     "metadata": {},
     "output_type": "display_data"
    },
    {
     "name": "stdout",
     "output_type": "stream",
     "text": [
      "save model\n",
      "Epoch : 10/250 -- Training loss 0.0953617025999462, --- Val loss 0.09751547873020172, --- accuray : 0.968357512415521, --- recall : 0.967976485489087\n"
     ]
    },
    {
     "data": {
      "application/vnd.jupyter.widget-view+json": {
       "model_id": "9f2424f2e32b4b7780df3abce062fc31",
       "version_major": 2,
       "version_minor": 0
      },
      "text/plain": [
       "train:   0%|          | 0/2125 [00:00<?, ?it/s]"
      ]
     },
     "metadata": {},
     "output_type": "display_data"
    },
    {
     "name": "stdout",
     "output_type": "stream",
     "text": [
      "Epoch : 11/250 -- Training loss 0.09234080873692736, --- Val loss 0.10080017894506454, --- accuray : 0.9657632564870295, --- recall : 0.9649651744104923\n"
     ]
    },
    {
     "data": {
      "application/vnd.jupyter.widget-view+json": {
       "model_id": "ab8c13c10b1d40359e2adc21397d49db",
       "version_major": 2,
       "version_minor": 0
      },
      "text/plain": [
       "train:   0%|          | 0/2125 [00:00<?, ?it/s]"
      ]
     },
     "metadata": {},
     "output_type": "display_data"
    },
    {
     "name": "stdout",
     "output_type": "stream",
     "text": [
      "Epoch : 12/250 -- Training loss 0.08938513125260086, --- Val loss 0.11073216050863266, --- accuray : 0.962630290312853, --- recall : 0.9614456229003159\n"
     ]
    },
    {
     "data": {
      "application/vnd.jupyter.widget-view+json": {
       "model_id": "ca425bf4d3b54866b4add33fe35a1abd",
       "version_major": 2,
       "version_minor": 0
      },
      "text/plain": [
       "train:   0%|          | 0/2125 [00:00<?, ?it/s]"
      ]
     },
     "metadata": {},
     "output_type": "display_data"
    },
    {
     "name": "stdout",
     "output_type": "stream",
     "text": [
      "Epoch : 13/250 -- Training loss 0.08704575616734869, --- Val loss 0.11442190408706665, --- accuray : 0.9601084658327043, --- recall : 0.9574580170329637\n"
     ]
    },
    {
     "data": {
      "application/vnd.jupyter.widget-view+json": {
       "model_id": "01bbba5b00fc4aa580f537724acb3a9a",
       "version_major": 2,
       "version_minor": 0
      },
      "text/plain": [
       "train:   0%|          | 0/2125 [00:00<?, ?it/s]"
      ]
     },
     "metadata": {},
     "output_type": "display_data"
    },
    {
     "name": "stdout",
     "output_type": "stream",
     "text": [
      "save model\n",
      "Epoch : 14/250 -- Training loss 0.08421002432594404, --- Val loss 0.07942652702331543, --- accuray : 0.9723786891134687, --- recall : 0.9719302849621968\n"
     ]
    },
    {
     "data": {
      "application/vnd.jupyter.widget-view+json": {
       "model_id": "4a92c576cce04447a1204385c9ad43e4",
       "version_major": 2,
       "version_minor": 0
      },
      "text/plain": [
       "train:   0%|          | 0/2125 [00:00<?, ?it/s]"
      ]
     },
     "metadata": {},
     "output_type": "display_data"
    },
    {
     "name": "stdout",
     "output_type": "stream",
     "text": [
      "Epoch : 15/250 -- Training loss 0.0823737677839749, --- Val loss 0.09054400026798248, --- accuray : 0.9689042659924935, --- recall : 0.9681348421090787\n"
     ]
    },
    {
     "data": {
      "application/vnd.jupyter.widget-view+json": {
       "model_id": "a2d5f098cfa148908a5d472af7286ab3",
       "version_major": 2,
       "version_minor": 0
      },
      "text/plain": [
       "train:   0%|          | 0/2125 [00:00<?, ?it/s]"
      ]
     },
     "metadata": {},
     "output_type": "display_data"
    },
    {
     "name": "stdout",
     "output_type": "stream",
     "text": [
      "Epoch : 16/250 -- Training loss 0.07990275575921817, --- Val loss 0.09013757854700089, --- accuray : 0.96835635812321, --- recall : 0.9680003873255837\n"
     ]
    },
    {
     "data": {
      "application/vnd.jupyter.widget-view+json": {
       "model_id": "1a3c77a6230f41f2a866c0ab5a8fc80c",
       "version_major": 2,
       "version_minor": 0
      },
      "text/plain": [
       "train:   0%|          | 0/2125 [00:00<?, ?it/s]"
      ]
     },
     "metadata": {},
     "output_type": "display_data"
    },
    {
     "name": "stdout",
     "output_type": "stream",
     "text": [
      "Epoch : 17/250 -- Training loss 0.07810517481320045, --- Val loss 0.0887475460767746, --- accuray : 0.9702133843088744, --- recall : 0.9691081187820659\n"
     ]
    },
    {
     "data": {
      "application/vnd.jupyter.widget-view+json": {
       "model_id": "77e1424866b44f5a89be4eabbaf99b89",
       "version_major": 2,
       "version_minor": 0
      },
      "text/plain": [
       "train:   0%|          | 0/2125 [00:00<?, ?it/s]"
      ]
     },
     "metadata": {},
     "output_type": "display_data"
    },
    {
     "name": "stdout",
     "output_type": "stream",
     "text": [
      "Epoch : 18/250 -- Training loss 0.07661780640899259, --- Val loss 0.08388592302799225, --- accuray : 0.9702844527964499, --- recall : 0.9697036403034269\n"
     ]
    },
    {
     "data": {
      "application/vnd.jupyter.widget-view+json": {
       "model_id": "97c398d9aaaa4e0bbf6cdb7a3847a84f",
       "version_major": 2,
       "version_minor": 0
      },
      "text/plain": [
       "train:   0%|          | 0/2125 [00:00<?, ?it/s]"
      ]
     },
     "metadata": {},
     "output_type": "display_data"
    },
    {
     "name": "stdout",
     "output_type": "stream",
     "text": [
      "save model\n",
      "Epoch : 19/250 -- Training loss 0.07464532939574736, --- Val loss 0.07820142805576324, --- accuray : 0.9738135750713776, --- recall : 0.9736556409691246\n"
     ]
    },
    {
     "data": {
      "application/vnd.jupyter.widget-view+json": {
       "model_id": "d65b867127154e1aa6d70a5b16d98485",
       "version_major": 2,
       "version_minor": 0
      },
      "text/plain": [
       "train:   0%|          | 0/2125 [00:00<?, ?it/s]"
      ]
     },
     "metadata": {},
     "output_type": "display_data"
    },
    {
     "name": "stdout",
     "output_type": "stream",
     "text": [
      "save model\n",
      "Epoch : 20/250 -- Training loss 0.07254438154530876, --- Val loss 0.07123346626758575, --- accuray : 0.9762365474719953, --- recall : 0.9760936524682255\n"
     ]
    },
    {
     "data": {
      "application/vnd.jupyter.widget-view+json": {
       "model_id": "2fd1306e72e442fdb5722930d1041c4e",
       "version_major": 2,
       "version_minor": 0
      },
      "text/plain": [
       "train:   0%|          | 0/2125 [00:00<?, ?it/s]"
      ]
     },
     "metadata": {},
     "output_type": "display_data"
    },
    {
     "name": "stdout",
     "output_type": "stream",
     "text": [
      "Epoch : 21/250 -- Training loss 0.07218861497741412, --- Val loss 0.08591683954000473, --- accuray : 0.9722063236825413, --- recall : 0.9717049174849246\n"
     ]
    },
    {
     "data": {
      "application/vnd.jupyter.widget-view+json": {
       "model_id": "4808781d5ddf4c4c956a026ed3fe01c0",
       "version_major": 2,
       "version_minor": 0
      },
      "text/plain": [
       "train:   0%|          | 0/2125 [00:00<?, ?it/s]"
      ]
     },
     "metadata": {},
     "output_type": "display_data"
    },
    {
     "name": "stdout",
     "output_type": "stream",
     "text": [
      "Epoch : 22/250 -- Training loss 0.07119095023064052, --- Val loss 0.07058271020650864, --- accuray : 0.9757408388352553, --- recall : 0.9755875646689892\n"
     ]
    },
    {
     "data": {
      "application/vnd.jupyter.widget-view+json": {
       "model_id": "6e68dfb3e1114a4a924b775a2414adda",
       "version_major": 2,
       "version_minor": 0
      },
      "text/plain": [
       "train:   0%|          | 0/2125 [00:00<?, ?it/s]"
      ]
     },
     "metadata": {},
     "output_type": "display_data"
    },
    {
     "name": "stdout",
     "output_type": "stream",
     "text": [
      "Epoch : 23/250 -- Training loss 0.06881508983211482, --- Val loss 0.0771147608757019, --- accuray : 0.9746577978164895, --- recall : 0.9740573200617902\n"
     ]
    },
    {
     "data": {
      "application/vnd.jupyter.widget-view+json": {
       "model_id": "958c8f0ffe3842fb855a974ca71e4801",
       "version_major": 2,
       "version_minor": 0
      },
      "text/plain": [
       "train:   0%|          | 0/2125 [00:00<?, ?it/s]"
      ]
     },
     "metadata": {},
     "output_type": "display_data"
    },
    {
     "name": "stdout",
     "output_type": "stream",
     "text": [
      "save model\n",
      "Epoch : 24/250 -- Training loss 0.0680704967322595, --- Val loss 0.06496939063072205, --- accuray : 0.9776068565025927, --- recall : 0.9772433152938167\n"
     ]
    },
    {
     "data": {
      "application/vnd.jupyter.widget-view+json": {
       "model_id": "006de2bb011c42fe8fe78e12b3603908",
       "version_major": 2,
       "version_minor": 0
      },
      "text/plain": [
       "train:   0%|          | 0/2125 [00:00<?, ?it/s]"
      ]
     },
     "metadata": {},
     "output_type": "display_data"
    },
    {
     "name": "stdout",
     "output_type": "stream",
     "text": [
      "Epoch : 25/250 -- Training loss 0.06679105279046824, --- Val loss 0.0951763242483139, --- accuray : 0.9687562716263596, --- recall : 0.9669205503138946\n"
     ]
    },
    {
     "data": {
      "application/vnd.jupyter.widget-view+json": {
       "model_id": "a7382e379c0d4d85878a39e9b51d0d76",
       "version_major": 2,
       "version_minor": 0
      },
      "text/plain": [
       "train:   0%|          | 0/2125 [00:00<?, ?it/s]"
      ]
     },
     "metadata": {},
     "output_type": "display_data"
    },
    {
     "name": "stdout",
     "output_type": "stream",
     "text": [
      "Epoch : 26/250 -- Training loss 0.06617635058545891, --- Val loss 0.06976572424173355, --- accuray : 0.9759331300427478, --- recall : 0.9758949487971019\n"
     ]
    },
    {
     "data": {
      "application/vnd.jupyter.widget-view+json": {
       "model_id": "fefee004ea9e450cb88708bfbd371d17",
       "version_major": 2,
       "version_minor": 0
      },
      "text/plain": [
       "train:   0%|          | 0/2125 [00:00<?, ?it/s]"
      ]
     },
     "metadata": {},
     "output_type": "display_data"
    },
    {
     "name": "stdout",
     "output_type": "stream",
     "text": [
      "Epoch : 27/250 -- Training loss 0.06448576924993711, --- Val loss 0.08159291744232178, --- accuray : 0.9709017559239216, --- recall : 0.9703525876079425\n"
     ]
    },
    {
     "data": {
      "application/vnd.jupyter.widget-view+json": {
       "model_id": "eaa048b50b1048898bbc171e753f34d5",
       "version_major": 2,
       "version_minor": 0
      },
      "text/plain": [
       "train:   0%|          | 0/2125 [00:00<?, ?it/s]"
      ]
     },
     "metadata": {},
     "output_type": "display_data"
    },
    {
     "name": "stdout",
     "output_type": "stream",
     "text": [
      "Epoch : 28/250 -- Training loss 0.06522912065925844, --- Val loss 0.07596419006586075, --- accuray : 0.9742693619806648, --- recall : 0.9736450295639065\n"
     ]
    },
    {
     "data": {
      "application/vnd.jupyter.widget-view+json": {
       "model_id": "6202773fd9f34dd89b999294b6e3e9a3",
       "version_major": 2,
       "version_minor": 0
      },
      "text/plain": [
       "train:   0%|          | 0/2125 [00:00<?, ?it/s]"
      ]
     },
     "metadata": {},
     "output_type": "display_data"
    },
    {
     "name": "stdout",
     "output_type": "stream",
     "text": [
      "save model\n",
      "Epoch : 29/250 -- Training loss 0.06285424748008304, --- Val loss 0.06093050166964531, --- accuray : 0.9794647247613089, --- recall : 0.9793220357440072\n"
     ]
    },
    {
     "data": {
      "application/vnd.jupyter.widget-view+json": {
       "model_id": "1329c6b7dca240979c623f5fa54f4420",
       "version_major": 2,
       "version_minor": 0
      },
      "text/plain": [
       "train:   0%|          | 0/2125 [00:00<?, ?it/s]"
      ]
     },
     "metadata": {},
     "output_type": "display_data"
    },
    {
     "name": "stdout",
     "output_type": "stream",
     "text": [
      "save model\n",
      "Epoch : 30/250 -- Training loss 0.061788991719922595, --- Val loss 0.06262093037366867, --- accuray : 0.979600426048697, --- recall : 0.9795546633276903\n"
     ]
    },
    {
     "data": {
      "application/vnd.jupyter.widget-view+json": {
       "model_id": "dd79c1f19a394ce19a3634445879b399",
       "version_major": 2,
       "version_minor": 0
      },
      "text/plain": [
       "train:   0%|          | 0/2125 [00:00<?, ?it/s]"
      ]
     },
     "metadata": {},
     "output_type": "display_data"
    },
    {
     "name": "stdout",
     "output_type": "stream",
     "text": [
      "Epoch : 31/250 -- Training loss 0.062095845051164576, --- Val loss 0.06335628777742386, --- accuray : 0.9792111570731642, --- recall : 0.9790115614754991\n"
     ]
    },
    {
     "data": {
      "application/vnd.jupyter.widget-view+json": {
       "model_id": "0c6f5d2525f943ec810bbd294c1faef9",
       "version_major": 2,
       "version_minor": 0
      },
      "text/plain": [
       "train:   0%|          | 0/2125 [00:00<?, ?it/s]"
      ]
     },
     "metadata": {},
     "output_type": "display_data"
    },
    {
     "name": "stdout",
     "output_type": "stream",
     "text": [
      "Epoch : 32/250 -- Training loss 0.06161365363538703, --- Val loss 0.06446763873100281, --- accuray : 0.9788822712543939, --- recall : 0.978646250747067\n"
     ]
    },
    {
     "data": {
      "application/vnd.jupyter.widget-view+json": {
       "model_id": "0d020e5efded4afebc694b43f26e6f7e",
       "version_major": 2,
       "version_minor": 0
      },
      "text/plain": [
       "train:   0%|          | 0/2125 [00:00<?, ?it/s]"
      ]
     },
     "metadata": {},
     "output_type": "display_data"
    },
    {
     "name": "stdout",
     "output_type": "stream",
     "text": [
      "save model\n",
      "Epoch : 33/250 -- Training loss 0.05968178970476284, --- Val loss 0.05997033789753914, --- accuray : 0.9796385425678669, --- recall : 0.9795183584279841\n"
     ]
    },
    {
     "data": {
      "application/vnd.jupyter.widget-view+json": {
       "model_id": "56a815911a5b49d18b4203e269466ade",
       "version_major": 2,
       "version_minor": 0
      },
      "text/plain": [
       "train:   0%|          | 0/2125 [00:00<?, ?it/s]"
      ]
     },
     "metadata": {},
     "output_type": "display_data"
    },
    {
     "name": "stdout",
     "output_type": "stream",
     "text": [
      "Epoch : 34/250 -- Training loss 0.059182131736703655, --- Val loss 0.08013463020324707, --- accuray : 0.9718429590287337, --- recall : 0.9706075802253789\n"
     ]
    },
    {
     "data": {
      "application/vnd.jupyter.widget-view+json": {
       "model_id": "c01b827a675c4fb6b72151a717dfbf4c",
       "version_major": 2,
       "version_minor": 0
      },
      "text/plain": [
       "train:   0%|          | 0/2125 [00:00<?, ?it/s]"
      ]
     },
     "metadata": {},
     "output_type": "display_data"
    },
    {
     "name": "stdout",
     "output_type": "stream",
     "text": [
      "save model\n",
      "Epoch : 35/250 -- Training loss 0.05856204954063629, --- Val loss 0.06024157628417015, --- accuray : 0.9797995551697589, --- recall : 0.9794606596360195\n"
     ]
    },
    {
     "data": {
      "application/vnd.jupyter.widget-view+json": {
       "model_id": "62943f7fc6d74e0fb29d851b50af07ef",
       "version_major": 2,
       "version_minor": 0
      },
      "text/plain": [
       "train:   0%|          | 0/2125 [00:00<?, ?it/s]"
      ]
     },
     "metadata": {},
     "output_type": "display_data"
    },
    {
     "name": "stdout",
     "output_type": "stream",
     "text": [
      "save model\n",
      "Epoch : 36/250 -- Training loss 0.058198402715408624, --- Val loss 0.058013979345560074, --- accuray : 0.9806975994287782, --- recall : 0.9805165297692845\n"
     ]
    },
    {
     "data": {
      "application/vnd.jupyter.widget-view+json": {
       "model_id": "499d7ce5005c446abdb62d2c5132def9",
       "version_major": 2,
       "version_minor": 0
      },
      "text/plain": [
       "train:   0%|          | 0/2125 [00:00<?, ?it/s]"
      ]
     },
     "metadata": {},
     "output_type": "display_data"
    },
    {
     "name": "stdout",
     "output_type": "stream",
     "text": [
      "Epoch : 37/250 -- Training loss 0.058502029633587777, --- Val loss 0.057637590914964676, --- accuray : 0.9805125840993837, --- recall : 0.980431573338618\n"
     ]
    },
    {
     "data": {
      "application/vnd.jupyter.widget-view+json": {
       "model_id": "263dfae19a98429e8b1490769b1d4ccb",
       "version_major": 2,
       "version_minor": 0
      },
      "text/plain": [
       "train:   0%|          | 0/2125 [00:00<?, ?it/s]"
      ]
     },
     "metadata": {},
     "output_type": "display_data"
    },
    {
     "name": "stdout",
     "output_type": "stream",
     "text": [
      "Epoch : 38/250 -- Training loss 0.05607330894612653, --- Val loss 0.06096546724438667, --- accuray : 0.9795416206583942, --- recall : 0.979256124752618\n"
     ]
    },
    {
     "data": {
      "application/vnd.jupyter.widget-view+json": {
       "model_id": "2c924ab658804ee7bd3d417c7d131057",
       "version_major": 2,
       "version_minor": 0
      },
      "text/plain": [
       "train:   0%|          | 0/2125 [00:00<?, ?it/s]"
      ]
     },
     "metadata": {},
     "output_type": "display_data"
    },
    {
     "name": "stdout",
     "output_type": "stream",
     "text": [
      "Epoch : 39/250 -- Training loss 0.055346891311709494, --- Val loss 0.06882038712501526, --- accuray : 0.9778255504090829, --- recall : 0.9767846127247208\n"
     ]
    },
    {
     "data": {
      "application/vnd.jupyter.widget-view+json": {
       "model_id": "2ecb5efbde4c4244b8d6e8aad7246836",
       "version_major": 2,
       "version_minor": 0
      },
      "text/plain": [
       "train:   0%|          | 0/2125 [00:00<?, ?it/s]"
      ]
     },
     "metadata": {},
     "output_type": "display_data"
    },
    {
     "name": "stdout",
     "output_type": "stream",
     "text": [
      "save model\n",
      "Epoch : 40/250 -- Training loss 0.05634252493346439, --- Val loss 0.05555815249681473, --- accuray : 0.9814767688606063, --- recall : 0.9811161609456468\n"
     ]
    },
    {
     "data": {
      "application/vnd.jupyter.widget-view+json": {
       "model_id": "fc27361f3dc34d19ae4b3ca90a689100",
       "version_major": 2,
       "version_minor": 0
      },
      "text/plain": [
       "train:   0%|          | 0/2125 [00:00<?, ?it/s]"
      ]
     },
     "metadata": {},
     "output_type": "display_data"
    },
    {
     "name": "stdout",
     "output_type": "stream",
     "text": [
      "Epoch : 41/250 -- Training loss 0.055546715272590516, --- Val loss 0.0544489361345768, --- accuray : 0.9812021402659796, --- recall : 0.9811623376794241\n"
     ]
    },
    {
     "data": {
      "application/vnd.jupyter.widget-view+json": {
       "model_id": "b29037a1ddba4a428ff05112b9a846ce",
       "version_major": 2,
       "version_minor": 0
      },
      "text/plain": [
       "train:   0%|          | 0/2125 [00:00<?, ?it/s]"
      ]
     },
     "metadata": {},
     "output_type": "display_data"
    },
    {
     "name": "stdout",
     "output_type": "stream",
     "text": [
      "Epoch : 42/250 -- Training loss 0.05395814445012194, --- Val loss 0.05871167406439781, --- accuray : 0.9796981880224278, --- recall : 0.9795284916863144\n"
     ]
    },
    {
     "data": {
      "application/vnd.jupyter.widget-view+json": {
       "model_id": "de1a6935845e4f01b0038ddc39da94fb",
       "version_major": 2,
       "version_minor": 0
      },
      "text/plain": [
       "train:   0%|          | 0/2125 [00:00<?, ?it/s]"
      ]
     },
     "metadata": {},
     "output_type": "display_data"
    },
    {
     "name": "stdout",
     "output_type": "stream",
     "text": [
      "Epoch : 43/250 -- Training loss 0.055172438392141726, --- Val loss 0.05620431527495384, --- accuray : 0.9810374805246246, --- recall : 0.9808134441070241\n"
     ]
    },
    {
     "data": {
      "application/vnd.jupyter.widget-view+json": {
       "model_id": "122a414f261d43e491c4922cea71a998",
       "version_major": 2,
       "version_minor": 0
      },
      "text/plain": [
       "train:   0%|          | 0/2125 [00:00<?, ?it/s]"
      ]
     },
     "metadata": {},
     "output_type": "display_data"
    },
    {
     "name": "stdout",
     "output_type": "stream",
     "text": [
      "Epoch : 44/250 -- Training loss 0.053613954327671846, --- Val loss 0.06658973544836044, --- accuray : 0.9782406138565356, --- recall : 0.9779271955016172\n"
     ]
    },
    {
     "data": {
      "application/vnd.jupyter.widget-view+json": {
       "model_id": "c70562ad5a584313a30cf8d560408fd8",
       "version_major": 2,
       "version_minor": 0
      },
      "text/plain": [
       "train:   0%|          | 0/2125 [00:00<?, ?it/s]"
      ]
     },
     "metadata": {},
     "output_type": "display_data"
    },
    {
     "name": "stdout",
     "output_type": "stream",
     "text": [
      "save model\n",
      "Epoch : 45/250 -- Training loss 0.05290287415458656, --- Val loss 0.05285672843456268, --- accuray : 0.9826824761126076, --- recall : 0.9824976401384047\n"
     ]
    },
    {
     "data": {
      "application/vnd.jupyter.widget-view+json": {
       "model_id": "d852501b07594e8c9643db2b07acf823",
       "version_major": 2,
       "version_minor": 0
      },
      "text/plain": [
       "train:   0%|          | 0/2125 [00:00<?, ?it/s]"
      ]
     },
     "metadata": {},
     "output_type": "display_data"
    },
    {
     "name": "stdout",
     "output_type": "stream",
     "text": [
      "Epoch : 46/250 -- Training loss 0.05356835909532931, --- Val loss 0.053274769335985184, --- accuray : 0.9818371767150456, --- recall : 0.9816189263312856\n"
     ]
    },
    {
     "data": {
      "application/vnd.jupyter.widget-view+json": {
       "model_id": "fd8f991079284916b4ab1865c6554708",
       "version_major": 2,
       "version_minor": 0
      },
      "text/plain": [
       "train:   0%|          | 0/2125 [00:00<?, ?it/s]"
      ]
     },
     "metadata": {},
     "output_type": "display_data"
    },
    {
     "name": "stdout",
     "output_type": "stream",
     "text": [
      "Epoch : 47/250 -- Training loss 0.05337681326850811, --- Val loss 0.055855926126241684, --- accuray : 0.9814781937139598, --- recall : 0.9813336316880656\n"
     ]
    },
    {
     "data": {
      "application/vnd.jupyter.widget-view+json": {
       "model_id": "43b27e2fe06f4fe6a9c20d848e52a866",
       "version_major": 2,
       "version_minor": 0
      },
      "text/plain": [
       "train:   0%|          | 0/2125 [00:00<?, ?it/s]"
      ]
     },
     "metadata": {},
     "output_type": "display_data"
    },
    {
     "name": "stdout",
     "output_type": "stream",
     "text": [
      "save model\n",
      "Epoch : 48/250 -- Training loss 0.05257941533329294, --- Val loss 0.05068887025117874, --- accuray : 0.9828646237516192, --- recall : 0.9826833998765754\n"
     ]
    },
    {
     "data": {
      "application/vnd.jupyter.widget-view+json": {
       "model_id": "1b79f8332ca64642a1656459695e1feb",
       "version_major": 2,
       "version_minor": 0
      },
      "text/plain": [
       "train:   0%|          | 0/2125 [00:00<?, ?it/s]"
      ]
     },
     "metadata": {},
     "output_type": "display_data"
    },
    {
     "name": "stdout",
     "output_type": "stream",
     "text": [
      "Epoch : 49/250 -- Training loss 0.051278594292481154, --- Val loss 0.054235633462667465, --- accuray : 0.9820921849571272, --- recall : 0.9819212117400339\n"
     ]
    },
    {
     "data": {
      "application/vnd.jupyter.widget-view+json": {
       "model_id": "c47fcec98db74af78b5ab7033521d005",
       "version_major": 2,
       "version_minor": 0
      },
      "text/plain": [
       "train:   0%|          | 0/2125 [00:00<?, ?it/s]"
      ]
     },
     "metadata": {},
     "output_type": "display_data"
    },
    {
     "name": "stdout",
     "output_type": "stream",
     "text": [
      "save model\n",
      "Epoch : 50/250 -- Training loss 0.05144166699753088, --- Val loss 0.048679884523153305, --- accuray : 0.9832278803724449, --- recall : 0.9831981552041938\n"
     ]
    },
    {
     "data": {
      "application/vnd.jupyter.widget-view+json": {
       "model_id": "e580597e28be4066bac23c6a588d1314",
       "version_major": 2,
       "version_minor": 0
      },
      "text/plain": [
       "train:   0%|          | 0/2125 [00:00<?, ?it/s]"
      ]
     },
     "metadata": {},
     "output_type": "display_data"
    },
    {
     "name": "stdout",
     "output_type": "stream",
     "text": [
      "Epoch : 51/250 -- Training loss 0.05080462990881985, --- Val loss 0.05122019723057747, --- accuray : 0.9825104328141375, --- recall : 0.9823489411062992\n"
     ]
    },
    {
     "data": {
      "application/vnd.jupyter.widget-view+json": {
       "model_id": "d023a07d60f643e2a4733dcf922a5eaf",
       "version_major": 2,
       "version_minor": 0
      },
      "text/plain": [
       "train:   0%|          | 0/2125 [00:00<?, ?it/s]"
      ]
     },
     "metadata": {},
     "output_type": "display_data"
    },
    {
     "name": "stdout",
     "output_type": "stream",
     "text": [
      "Epoch : 52/250 -- Training loss 0.05066652093225104, --- Val loss 0.050816167145967484, --- accuray : 0.9820940858143435, --- recall : 0.9820321034292215\n"
     ]
    },
    {
     "data": {
      "application/vnd.jupyter.widget-view+json": {
       "model_id": "5879bf0e3db84660956873daef5cc6c8",
       "version_major": 2,
       "version_minor": 0
      },
      "text/plain": [
       "train:   0%|          | 0/2125 [00:00<?, ?it/s]"
      ]
     },
     "metadata": {},
     "output_type": "display_data"
    },
    {
     "name": "stdout",
     "output_type": "stream",
     "text": [
      "Epoch : 53/250 -- Training loss 0.0512401321513907, --- Val loss 0.053776178508996964, --- accuray : 0.9812123400634445, --- recall : 0.9810868478206729\n"
     ]
    },
    {
     "data": {
      "application/vnd.jupyter.widget-view+json": {
       "model_id": "38be0fc45f7f4180a64c50b17ba8946b",
       "version_major": 2,
       "version_minor": 0
      },
      "text/plain": [
       "train:   0%|          | 0/2125 [00:00<?, ?it/s]"
      ]
     },
     "metadata": {},
     "output_type": "display_data"
    },
    {
     "name": "stdout",
     "output_type": "stream",
     "text": [
      "Epoch : 54/250 -- Training loss 0.04939022164906868, --- Val loss 0.05285976082086563, --- accuray : 0.9818498698440976, --- recall : 0.9815009930089225\n"
     ]
    },
    {
     "data": {
      "application/vnd.jupyter.widget-view+json": {
       "model_id": "7461d763ef8f48a28d5379ba6fa4bb3b",
       "version_major": 2,
       "version_minor": 0
      },
      "text/plain": [
       "train:   0%|          | 0/2125 [00:00<?, ?it/s]"
      ]
     },
     "metadata": {},
     "output_type": "display_data"
    },
    {
     "name": "stdout",
     "output_type": "stream",
     "text": [
      "Epoch : 55/250 -- Training loss 0.04892182604935678, --- Val loss 0.052693646401166916, --- accuray : 0.9820847390437912, --- recall : 0.9816799291284498\n"
     ]
    },
    {
     "data": {
      "application/vnd.jupyter.widget-view+json": {
       "model_id": "5b75539b0e5d49d4a4bf4a77bf51e2a6",
       "version_major": 2,
       "version_minor": 0
      },
      "text/plain": [
       "train:   0%|          | 0/2125 [00:00<?, ?it/s]"
      ]
     },
     "metadata": {},
     "output_type": "display_data"
    },
    {
     "name": "stdout",
     "output_type": "stream",
     "text": [
      "Epoch : 56/250 -- Training loss 0.049700794353916805, --- Val loss 0.049266017973423004, --- accuray : 0.9828267855898242, --- recall : 0.9826004801014225\n"
     ]
    },
    {
     "data": {
      "application/vnd.jupyter.widget-view+json": {
       "model_id": "063744ea17ab4f9e86f74ca21e4751fa",
       "version_major": 2,
       "version_minor": 0
      },
      "text/plain": [
       "train:   0%|          | 0/2125 [00:00<?, ?it/s]"
      ]
     },
     "metadata": {},
     "output_type": "display_data"
    },
    {
     "name": "stdout",
     "output_type": "stream",
     "text": [
      "Epoch : 57/250 -- Training loss 0.048747725653215584, --- Val loss 0.05151556804776192, --- accuray : 0.9825013986659983, --- recall : 0.9823669760614813\n"
     ]
    },
    {
     "data": {
      "application/vnd.jupyter.widget-view+json": {
       "model_id": "1cc48bc1b3a04310b649fa8e86d944cd",
       "version_major": 2,
       "version_minor": 0
      },
      "text/plain": [
       "train:   0%|          | 0/2125 [00:00<?, ?it/s]"
      ]
     },
     "metadata": {},
     "output_type": "display_data"
    },
    {
     "name": "stdout",
     "output_type": "stream",
     "text": [
      "save model\n",
      "Epoch : 58/250 -- Training loss 0.04956247377187452, --- Val loss 0.0478055514395237, --- accuray : 0.9842082505382477, --- recall : 0.9841969895367633\n"
     ]
    },
    {
     "data": {
      "application/vnd.jupyter.widget-view+json": {
       "model_id": "c5c083ed4a814f4f91976cd7ea33171a",
       "version_major": 2,
       "version_minor": 0
      },
      "text/plain": [
       "train:   0%|          | 0/2125 [00:00<?, ?it/s]"
      ]
     },
     "metadata": {},
     "output_type": "display_data"
    },
    {
     "name": "stdout",
     "output_type": "stream",
     "text": [
      "Epoch : 59/250 -- Training loss 0.04786047535121222, --- Val loss 0.050937410444021225, --- accuray : 0.9830142522244565, --- recall : 0.9827925403710281\n"
     ]
    },
    {
     "data": {
      "application/vnd.jupyter.widget-view+json": {
       "model_id": "14a63977b19d492b95baa2e4f37aba82",
       "version_major": 2,
       "version_minor": 0
      },
      "text/plain": [
       "train:   0%|          | 0/2125 [00:00<?, ?it/s]"
      ]
     },
     "metadata": {},
     "output_type": "display_data"
    },
    {
     "name": "stdout",
     "output_type": "stream",
     "text": [
      "Epoch : 60/250 -- Training loss 0.04842023493837127, --- Val loss 0.04980356991291046, --- accuray : 0.982725794687789, --- recall : 0.9826227193115409\n"
     ]
    },
    {
     "data": {
      "application/vnd.jupyter.widget-view+json": {
       "model_id": "de59877ceda94648b4ec05097a12b336",
       "version_major": 2,
       "version_minor": 0
      },
      "text/plain": [
       "train:   0%|          | 0/2125 [00:00<?, ?it/s]"
      ]
     },
     "metadata": {},
     "output_type": "display_data"
    },
    {
     "name": "stdout",
     "output_type": "stream",
     "text": [
      "save model\n",
      "Epoch : 61/250 -- Training loss 0.046437983153826176, --- Val loss 0.0457654669880867, --- accuray : 0.9844296623655792, --- recall : 0.9844362898652232\n"
     ]
    },
    {
     "data": {
      "application/vnd.jupyter.widget-view+json": {
       "model_id": "5a4918cf2cd74af79877f5d367e075b0",
       "version_major": 2,
       "version_minor": 0
      },
      "text/plain": [
       "train:   0%|          | 0/2125 [00:00<?, ?it/s]"
      ]
     },
     "metadata": {},
     "output_type": "display_data"
    },
    {
     "name": "stdout",
     "output_type": "stream",
     "text": [
      "Epoch : 62/250 -- Training loss 0.04775967800091295, --- Val loss 0.04842560365796089, --- accuray : 0.9840019147816685, --- recall : 0.9838129206858731\n"
     ]
    },
    {
     "data": {
      "application/vnd.jupyter.widget-view+json": {
       "model_id": "87bd3524be194a24afb7d5777d12dd1b",
       "version_major": 2,
       "version_minor": 0
      },
      "text/plain": [
       "train:   0%|          | 0/2125 [00:00<?, ?it/s]"
      ]
     },
     "metadata": {},
     "output_type": "display_data"
    },
    {
     "name": "stdout",
     "output_type": "stream",
     "text": [
      "Epoch : 63/250 -- Training loss 0.047111548571025626, --- Val loss 0.046839695423841476, --- accuray : 0.9839036626165363, --- recall : 0.9838882397039879\n"
     ]
    },
    {
     "data": {
      "application/vnd.jupyter.widget-view+json": {
       "model_id": "4d9df7e0d2a84f61bd6b8c34364b4f42",
       "version_major": 2,
       "version_minor": 0
      },
      "text/plain": [
       "train:   0%|          | 0/2125 [00:00<?, ?it/s]"
      ]
     },
     "metadata": {},
     "output_type": "display_data"
    },
    {
     "name": "stdout",
     "output_type": "stream",
     "text": [
      "Epoch : 64/250 -- Training loss 0.047379847433472816, --- Val loss 0.05518252030014992, --- accuray : 0.9805129335067881, --- recall : 0.9801697115325757\n"
     ]
    },
    {
     "data": {
      "application/vnd.jupyter.widget-view+json": {
       "model_id": "c2991818ab5b48a0b193eba1a7ce190f",
       "version_major": 2,
       "version_minor": 0
      },
      "text/plain": [
       "train:   0%|          | 0/2125 [00:00<?, ?it/s]"
      ]
     },
     "metadata": {},
     "output_type": "display_data"
    },
    {
     "name": "stdout",
     "output_type": "stream",
     "text": [
      "save model\n",
      "Epoch : 65/250 -- Training loss 0.04638982858174645, --- Val loss 0.044553060084581375, --- accuray : 0.9850794370427727, --- recall : 0.9849329207144206\n"
     ]
    },
    {
     "data": {
      "application/vnd.jupyter.widget-view+json": {
       "model_id": "a74fe36257014e12a36bc49919bae5bb",
       "version_major": 2,
       "version_minor": 0
      },
      "text/plain": [
       "train:   0%|          | 0/2125 [00:00<?, ?it/s]"
      ]
     },
     "metadata": {},
     "output_type": "display_data"
    },
    {
     "name": "stdout",
     "output_type": "stream",
     "text": [
      "Epoch : 66/250 -- Training loss 0.04555777946377502, --- Val loss 0.047872982919216156, --- accuray : 0.9835009507393659, --- recall : 0.9830869952144138\n"
     ]
    },
    {
     "data": {
      "application/vnd.jupyter.widget-view+json": {
       "model_id": "76920efcf0c448f79caf26ad3ab06d2b",
       "version_major": 2,
       "version_minor": 0
      },
      "text/plain": [
       "train:   0%|          | 0/2125 [00:00<?, ?it/s]"
      ]
     },
     "metadata": {},
     "output_type": "display_data"
    },
    {
     "name": "stdout",
     "output_type": "stream",
     "text": [
      "Epoch : 67/250 -- Training loss 0.04526610682647237, --- Val loss 0.04790526255965233, --- accuray : 0.9831439677309193, --- recall : 0.9827936231486273\n"
     ]
    },
    {
     "data": {
      "application/vnd.jupyter.widget-view+json": {
       "model_id": "313617a8343c4375a9faa5107e8d82f7",
       "version_major": 2,
       "version_minor": 0
      },
      "text/plain": [
       "train:   0%|          | 0/2125 [00:00<?, ?it/s]"
      ]
     },
     "metadata": {},
     "output_type": "display_data"
    },
    {
     "name": "stdout",
     "output_type": "stream",
     "text": [
      "Epoch : 68/250 -- Training loss 0.04645768738888642, --- Val loss 0.05545247346162796, --- accuray : 0.9801730419217105, --- recall : 0.9796236591432315\n"
     ]
    },
    {
     "data": {
      "application/vnd.jupyter.widget-view+json": {
       "model_id": "f2696e6346a24db0a80cbe0e557d476b",
       "version_major": 2,
       "version_minor": 0
      },
      "text/plain": [
       "train:   0%|          | 0/2125 [00:00<?, ?it/s]"
      ]
     },
     "metadata": {},
     "output_type": "display_data"
    },
    {
     "name": "stdout",
     "output_type": "stream",
     "text": [
      "Epoch : 69/250 -- Training loss 0.04530203604490003, --- Val loss 0.04715830460190773, --- accuray : 0.9841682480734303, --- recall : 0.9836937736720006\n"
     ]
    },
    {
     "data": {
      "application/vnd.jupyter.widget-view+json": {
       "model_id": "77de7f73a4bd467ea8f5a8d1aa5d83de",
       "version_major": 2,
       "version_minor": 0
      },
      "text/plain": [
       "train:   0%|          | 0/2125 [00:00<?, ?it/s]"
      ]
     },
     "metadata": {},
     "output_type": "display_data"
    },
    {
     "name": "stdout",
     "output_type": "stream",
     "text": [
      "save model\n",
      "Epoch : 70/250 -- Training loss 0.04557427853154128, --- Val loss 0.04486527293920517, --- accuray : 0.9852814464063678, --- recall : 0.9852109094413051\n"
     ]
    },
    {
     "data": {
      "application/vnd.jupyter.widget-view+json": {
       "model_id": "e2618f9010884ffeb4cee23efd2eea12",
       "version_major": 2,
       "version_minor": 0
      },
      "text/plain": [
       "train:   0%|          | 0/2125 [00:00<?, ?it/s]"
      ]
     },
     "metadata": {},
     "output_type": "display_data"
    },
    {
     "name": "stdout",
     "output_type": "stream",
     "text": [
      "Epoch : 71/250 -- Training loss 0.04449599690483335, --- Val loss 0.05352015793323517, --- accuray : 0.9818809548694805, --- recall : 0.9818039646656824\n"
     ]
    },
    {
     "data": {
      "application/vnd.jupyter.widget-view+json": {
       "model_id": "80b3e73ff6d0468faf79ace0f1fa8768",
       "version_major": 2,
       "version_minor": 0
      },
      "text/plain": [
       "train:   0%|          | 0/2125 [00:00<?, ?it/s]"
      ]
     },
     "metadata": {},
     "output_type": "display_data"
    },
    {
     "name": "stdout",
     "output_type": "stream",
     "text": [
      "Epoch : 72/250 -- Training loss 0.044621739642475455, --- Val loss 0.056518588215112686, --- accuray : 0.9805128550180605, --- recall : 0.9801271887152708\n"
     ]
    },
    {
     "data": {
      "application/vnd.jupyter.widget-view+json": {
       "model_id": "fcd17558b6274ed8b3ddd650190bbded",
       "version_major": 2,
       "version_minor": 0
      },
      "text/plain": [
       "train:   0%|          | 0/2125 [00:00<?, ?it/s]"
      ]
     },
     "metadata": {},
     "output_type": "display_data"
    },
    {
     "name": "stdout",
     "output_type": "stream",
     "text": [
      "Epoch : 73/250 -- Training loss 0.0452537082526285, --- Val loss 0.04632130637764931, --- accuray : 0.9840015964498889, --- recall : 0.9838677806457536\n"
     ]
    },
    {
     "data": {
      "application/vnd.jupyter.widget-view+json": {
       "model_id": "059c41827965498a8dd57315531a194c",
       "version_major": 2,
       "version_minor": 0
      },
      "text/plain": [
       "train:   0%|          | 0/2125 [00:00<?, ?it/s]"
      ]
     },
     "metadata": {},
     "output_type": "display_data"
    },
    {
     "name": "stdout",
     "output_type": "stream",
     "text": [
      "Epoch : 74/250 -- Training loss 0.04495131628376925, --- Val loss 0.043093182146549225, --- accuray : 0.9848678886527136, --- recall : 0.9847818324886868\n"
     ]
    },
    {
     "data": {
      "application/vnd.jupyter.widget-view+json": {
       "model_id": "5324bdc90aa74c45b80bd2d822da9b84",
       "version_major": 2,
       "version_minor": 0
      },
      "text/plain": [
       "train:   0%|          | 0/2125 [00:00<?, ?it/s]"
      ]
     },
     "metadata": {},
     "output_type": "display_data"
    },
    {
     "name": "stdout",
     "output_type": "stream",
     "text": [
      "Epoch : 75/250 -- Training loss 0.04418032837555032, --- Val loss 0.0432666651904583, --- accuray : 0.9852332447039762, --- recall : 0.9850989950677747\n"
     ]
    },
    {
     "data": {
      "application/vnd.jupyter.widget-view+json": {
       "model_id": "f4f82d6e527c43e8a8625ab5d900c84f",
       "version_major": 2,
       "version_minor": 0
      },
      "text/plain": [
       "train:   0%|          | 0/2125 [00:00<?, ?it/s]"
      ]
     },
     "metadata": {},
     "output_type": "display_data"
    },
    {
     "name": "stdout",
     "output_type": "stream",
     "text": [
      "Epoch : 76/250 -- Training loss 0.04322161615470096, --- Val loss 0.049706656485795975, --- accuray : 0.9830943520735207, --- recall : 0.9829616118174901\n"
     ]
    },
    {
     "data": {
      "application/vnd.jupyter.widget-view+json": {
       "model_id": "6c546f07a3234ec6928f011ab08879f5",
       "version_major": 2,
       "version_minor": 0
      },
      "text/plain": [
       "train:   0%|          | 0/2125 [00:00<?, ?it/s]"
      ]
     },
     "metadata": {},
     "output_type": "display_data"
    },
    {
     "name": "stdout",
     "output_type": "stream",
     "text": [
      "Epoch : 77/250 -- Training loss 0.044312083295436906, --- Val loss 0.04362114891409874, --- accuray : 0.985110721535654, --- recall : 0.984902801743732\n"
     ]
    },
    {
     "data": {
      "application/vnd.jupyter.widget-view+json": {
       "model_id": "012c5909bcd9480eb1dbcd6f22d6db0e",
       "version_major": 2,
       "version_minor": 0
      },
      "text/plain": [
       "train:   0%|          | 0/2125 [00:00<?, ?it/s]"
      ]
     },
     "metadata": {},
     "output_type": "display_data"
    },
    {
     "name": "stdout",
     "output_type": "stream",
     "text": [
      "Epoch : 78/250 -- Training loss 0.04214135303630439, --- Val loss 0.0443028062582016, --- accuray : 0.9847821024872584, --- recall : 0.9846757439234721\n"
     ]
    },
    {
     "data": {
      "application/vnd.jupyter.widget-view+json": {
       "model_id": "5a6d7e8de28e44a182f98f7695ca1d1e",
       "version_major": 2,
       "version_minor": 0
      },
      "text/plain": [
       "train:   0%|          | 0/2125 [00:00<?, ?it/s]"
      ]
     },
     "metadata": {},
     "output_type": "display_data"
    },
    {
     "name": "stdout",
     "output_type": "stream",
     "text": [
      "Epoch : 79/250 -- Training loss 0.04302997995233711, --- Val loss 0.0493343323469162, --- accuray : 0.9830307618809668, --- recall : 0.9827604217484189\n"
     ]
    },
    {
     "data": {
      "application/vnd.jupyter.widget-view+json": {
       "model_id": "06e43f72e37c472cabc6ddc1bb6cb81f",
       "version_major": 2,
       "version_minor": 0
      },
      "text/plain": [
       "train:   0%|          | 0/2125 [00:00<?, ?it/s]"
      ]
     },
     "metadata": {},
     "output_type": "display_data"
    },
    {
     "name": "stdout",
     "output_type": "stream",
     "text": [
      "Epoch : 80/250 -- Training loss 0.042689021978691656, --- Val loss 0.0461060032248497, --- accuray : 0.984459930601776, --- recall : 0.9844070165813296\n"
     ]
    },
    {
     "data": {
      "application/vnd.jupyter.widget-view+json": {
       "model_id": "b336eabb691346b3a17e31a3c61f4d46",
       "version_major": 2,
       "version_minor": 0
      },
      "text/plain": [
       "train:   0%|          | 0/2125 [00:00<?, ?it/s]"
      ]
     },
     "metadata": {},
     "output_type": "display_data"
    },
    {
     "name": "stdout",
     "output_type": "stream",
     "text": [
      "save model\n",
      "Epoch : 81/250 -- Training loss 0.04413011826618629, --- Val loss 0.0419803187251091, --- accuray : 0.9855638621031302, --- recall : 0.9854127727050612\n"
     ]
    },
    {
     "data": {
      "application/vnd.jupyter.widget-view+json": {
       "model_id": "1202573409e94c6bb397b05794aaec05",
       "version_major": 2,
       "version_minor": 0
      },
      "text/plain": [
       "train:   0%|          | 0/2125 [00:00<?, ?it/s]"
      ]
     },
     "metadata": {},
     "output_type": "display_data"
    },
    {
     "name": "stdout",
     "output_type": "stream",
     "text": [
      "Epoch : 82/250 -- Training loss 0.04295209095484632, --- Val loss 0.04281538724899292, --- accuray : 0.9850720370551569, --- recall : 0.9849838164026975\n"
     ]
    },
    {
     "data": {
      "application/vnd.jupyter.widget-view+json": {
       "model_id": "0b59aabf1e844e02baf647bea8b50435",
       "version_major": 2,
       "version_minor": 0
      },
      "text/plain": [
       "train:   0%|          | 0/2125 [00:00<?, ?it/s]"
      ]
     },
     "metadata": {},
     "output_type": "display_data"
    },
    {
     "name": "stdout",
     "output_type": "stream",
     "text": [
      "Epoch : 83/250 -- Training loss 0.042219044054036634, --- Val loss 0.04747185483574867, --- accuray : 0.9848104189994868, --- recall : 0.9847415633128197\n"
     ]
    },
    {
     "data": {
      "application/vnd.jupyter.widget-view+json": {
       "model_id": "1e01c124a41d439ea85f990b684314c8",
       "version_major": 2,
       "version_minor": 0
      },
      "text/plain": [
       "train:   0%|          | 0/2125 [00:00<?, ?it/s]"
      ]
     },
     "metadata": {},
     "output_type": "display_data"
    },
    {
     "name": "stdout",
     "output_type": "stream",
     "text": [
      "save model\n",
      "Epoch : 84/250 -- Training loss 0.043147545609623195, --- Val loss 0.04043760523200035, --- accuray : 0.9868273054041745, --- recall : 0.9867946915557353\n"
     ]
    },
    {
     "data": {
      "application/vnd.jupyter.widget-view+json": {
       "model_id": "870eb71fd30f4dd2b2642f8ae4d73ce7",
       "version_major": 2,
       "version_minor": 0
      },
      "text/plain": [
       "train:   0%|          | 0/2125 [00:00<?, ?it/s]"
      ]
     },
     "metadata": {},
     "output_type": "display_data"
    },
    {
     "name": "stdout",
     "output_type": "stream",
     "text": [
      "save model\n",
      "Epoch : 85/250 -- Training loss 0.0372534233702018, --- Val loss 0.036963362246751785, --- accuray : 0.9869076979947528, --- recall : 0.9868057746412842\n"
     ]
    },
    {
     "data": {
      "application/vnd.jupyter.widget-view+json": {
       "model_id": "d81417789f954ef6b3ef3b3d40dae5ac",
       "version_major": 2,
       "version_minor": 0
      },
      "text/plain": [
       "train:   0%|          | 0/2125 [00:00<?, ?it/s]"
      ]
     },
     "metadata": {},
     "output_type": "display_data"
    },
    {
     "name": "stdout",
     "output_type": "stream",
     "text": [
      "save model\n",
      "Epoch : 86/250 -- Training loss 0.036014405952602184, --- Val loss 0.038332656025886536, --- accuray : 0.9870567800035481, --- recall : 0.9870202022140899\n"
     ]
    },
    {
     "data": {
      "application/vnd.jupyter.widget-view+json": {
       "model_id": "67dce13390094aa2b9e6ee5429cc01c0",
       "version_major": 2,
       "version_minor": 0
      },
      "text/plain": [
       "train:   0%|          | 0/2125 [00:00<?, ?it/s]"
      ]
     },
     "metadata": {},
     "output_type": "display_data"
    },
    {
     "name": "stdout",
     "output_type": "stream",
     "text": [
      "save model\n",
      "Epoch : 87/250 -- Training loss 0.03441972747351974, --- Val loss 0.03659961000084877, --- accuray : 0.9878759319350227, --- recall : 0.9877894694554813\n"
     ]
    },
    {
     "data": {
      "application/vnd.jupyter.widget-view+json": {
       "model_id": "ff157fe5bea74bbfa30c87662ef873c2",
       "version_major": 2,
       "version_minor": 0
      },
      "text/plain": [
       "train:   0%|          | 0/2125 [00:00<?, ?it/s]"
      ]
     },
     "metadata": {},
     "output_type": "display_data"
    },
    {
     "name": "stdout",
     "output_type": "stream",
     "text": [
      "Epoch : 88/250 -- Training loss 0.033450128138722744, --- Val loss 0.036078836768865585, --- accuray : 0.9871182824156893, --- recall : 0.9870729117296161\n"
     ]
    },
    {
     "data": {
      "application/vnd.jupyter.widget-view+json": {
       "model_id": "ba45fbf986634ed1973a576c1ed20db0",
       "version_major": 2,
       "version_minor": 0
      },
      "text/plain": [
       "train:   0%|          | 0/2125 [00:00<?, ?it/s]"
      ]
     },
     "metadata": {},
     "output_type": "display_data"
    },
    {
     "name": "stdout",
     "output_type": "stream",
     "text": [
      "save model\n",
      "Epoch : 89/250 -- Training loss 0.03349663678430678, --- Val loss 0.035301573574543, --- accuray : 0.9882567156815287, --- recall : 0.9882719508639362\n"
     ]
    },
    {
     "data": {
      "application/vnd.jupyter.widget-view+json": {
       "model_id": "3f62e668e3774e30aaa9cdd1635f052d",
       "version_major": 2,
       "version_minor": 0
      },
      "text/plain": [
       "train:   0%|          | 0/2125 [00:00<?, ?it/s]"
      ]
     },
     "metadata": {},
     "output_type": "display_data"
    },
    {
     "name": "stdout",
     "output_type": "stream",
     "text": [
      "save model\n",
      "Epoch : 90/250 -- Training loss 0.03438435459117788, --- Val loss 0.03261342644691467, --- accuray : 0.9891832187469337, --- recall : 0.9891695827302037\n"
     ]
    },
    {
     "data": {
      "application/vnd.jupyter.widget-view+json": {
       "model_id": "60e26b3c2bd944b5a282b602aa36cb23",
       "version_major": 2,
       "version_minor": 0
      },
      "text/plain": [
       "train:   0%|          | 0/2125 [00:00<?, ?it/s]"
      ]
     },
     "metadata": {},
     "output_type": "display_data"
    },
    {
     "name": "stdout",
     "output_type": "stream",
     "text": [
      "Epoch : 91/250 -- Training loss 0.03299370826533585, --- Val loss 0.03578873351216316, --- accuray : 0.9875372876800796, --- recall : 0.9873838246754177\n"
     ]
    },
    {
     "data": {
      "application/vnd.jupyter.widget-view+json": {
       "model_id": "86acc702338b431eb063b639ef2ba04a",
       "version_major": 2,
       "version_minor": 0
      },
      "text/plain": [
       "train:   0%|          | 0/2125 [00:00<?, ?it/s]"
      ]
     },
     "metadata": {},
     "output_type": "display_data"
    },
    {
     "name": "stdout",
     "output_type": "stream",
     "text": [
      "Epoch : 92/250 -- Training loss 0.03342531293427901, --- Val loss 0.03372320160269737, --- accuray : 0.9889319234722285, --- recall : 0.9889431182942149\n"
     ]
    },
    {
     "data": {
      "application/vnd.jupyter.widget-view+json": {
       "model_id": "56ecf97ae71b42c88e588e8026c94493",
       "version_major": 2,
       "version_minor": 0
      },
      "text/plain": [
       "train:   0%|          | 0/2125 [00:00<?, ?it/s]"
      ]
     },
     "metadata": {},
     "output_type": "display_data"
    },
    {
     "name": "stdout",
     "output_type": "stream",
     "text": [
      "Epoch : 93/250 -- Training loss 0.03265720787466339, --- Val loss 0.032942336052656174, --- accuray : 0.9883895122490465, --- recall : 0.9883339797190706\n"
     ]
    },
    {
     "data": {
      "application/vnd.jupyter.widget-view+json": {
       "model_id": "ea2254bb074e4bd2911881e7e9b53726",
       "version_major": 2,
       "version_minor": 0
      },
      "text/plain": [
       "train:   0%|          | 0/2125 [00:00<?, ?it/s]"
      ]
     },
     "metadata": {},
     "output_type": "display_data"
    },
    {
     "name": "stdout",
     "output_type": "stream",
     "text": [
      "Epoch : 94/250 -- Training loss 0.032992865725831294, --- Val loss 0.03589488938450813, --- accuray : 0.9872696983108051, --- recall : 0.9872484548120182\n"
     ]
    },
    {
     "data": {
      "application/vnd.jupyter.widget-view+json": {
       "model_id": "641daef9c7d3439cab534ea4efdefbf8",
       "version_major": 2,
       "version_minor": 0
      },
      "text/plain": [
       "train:   0%|          | 0/2125 [00:00<?, ?it/s]"
      ]
     },
     "metadata": {},
     "output_type": "display_data"
    },
    {
     "name": "stdout",
     "output_type": "stream",
     "text": [
      "Epoch : 95/250 -- Training loss 0.03254049173475462, --- Val loss 0.03496592864394188, --- accuray : 0.988215848126265, --- recall : 0.9882175065275252\n"
     ]
    },
    {
     "data": {
      "application/vnd.jupyter.widget-view+json": {
       "model_id": "3b5063d4baa34251b86273cd534d1448",
       "version_major": 2,
       "version_minor": 0
      },
      "text/plain": [
       "train:   0%|          | 0/2125 [00:00<?, ?it/s]"
      ]
     },
     "metadata": {},
     "output_type": "display_data"
    },
    {
     "name": "stdout",
     "output_type": "stream",
     "text": [
      "Epoch : 96/250 -- Training loss 0.032260705455302206, --- Val loss 0.03596067056059837, --- accuray : 0.9880949338775398, --- recall : 0.9880466870912045\n"
     ]
    },
    {
     "data": {
      "application/vnd.jupyter.widget-view+json": {
       "model_id": "bd5999e09269450ab18a3f9419bf00e2",
       "version_major": 2,
       "version_minor": 0
      },
      "text/plain": [
       "train:   0%|          | 0/2125 [00:00<?, ?it/s]"
      ]
     },
     "metadata": {},
     "output_type": "display_data"
    },
    {
     "name": "stdout",
     "output_type": "stream",
     "text": [
      "Epoch : 97/250 -- Training loss 0.03226792854245971, --- Val loss 0.03701367229223251, --- accuray : 0.9872812222106375, --- recall : 0.9871888589646911\n"
     ]
    },
    {
     "data": {
      "application/vnd.jupyter.widget-view+json": {
       "model_id": "5e00ff6eb96b4b5794b57753f7347449",
       "version_major": 2,
       "version_minor": 0
      },
      "text/plain": [
       "train:   0%|          | 0/2125 [00:00<?, ?it/s]"
      ]
     },
     "metadata": {},
     "output_type": "display_data"
    },
    {
     "name": "stdout",
     "output_type": "stream",
     "text": [
      "Epoch : 98/250 -- Training loss 0.032529663024305856, --- Val loss 0.033051930367946625, --- accuray : 0.9888079254429449, --- recall : 0.9887230072363107\n"
     ]
    },
    {
     "data": {
      "application/vnd.jupyter.widget-view+json": {
       "model_id": "afec2220b7b24e9890208aaffa078d34",
       "version_major": 2,
       "version_minor": 0
      },
      "text/plain": [
       "train:   0%|          | 0/2125 [00:00<?, ?it/s]"
      ]
     },
     "metadata": {},
     "output_type": "display_data"
    },
    {
     "name": "stdout",
     "output_type": "stream",
     "text": [
      "Epoch : 99/250 -- Training loss 0.0322279738489648, --- Val loss 0.03351913392543793, --- accuray : 0.9885328087970979, --- recall : 0.9884332335181863\n"
     ]
    },
    {
     "data": {
      "application/vnd.jupyter.widget-view+json": {
       "model_id": "3473e4d475ec44a6bceac096df2271b6",
       "version_major": 2,
       "version_minor": 0
      },
      "text/plain": [
       "train:   0%|          | 0/2125 [00:00<?, ?it/s]"
      ]
     },
     "metadata": {},
     "output_type": "display_data"
    },
    {
     "name": "stdout",
     "output_type": "stream",
     "text": [
      "Epoch : 100/250 -- Training loss 0.031959362101261775, --- Val loss 0.03370339423418045, --- accuray : 0.9882942880240438, --- recall : 0.9882504302193938\n"
     ]
    },
    {
     "data": {
      "application/vnd.jupyter.widget-view+json": {
       "model_id": "387ca35544d24c45a4c48547b4921712",
       "version_major": 2,
       "version_minor": 0
      },
      "text/plain": [
       "train:   0%|          | 0/2125 [00:00<?, ?it/s]"
      ]
     },
     "metadata": {},
     "output_type": "display_data"
    },
    {
     "name": "stdout",
     "output_type": "stream",
     "text": [
      "Epoch : 101/250 -- Training loss 0.031870638943195126, --- Val loss 0.036385148763656616, --- accuray : 0.9879403455708073, --- recall : 0.9879218876791853\n"
     ]
    },
    {
     "data": {
      "application/vnd.jupyter.widget-view+json": {
       "model_id": "67b9afcec44641998fdc392d411c1481",
       "version_major": 2,
       "version_minor": 0
      },
      "text/plain": [
       "train:   0%|          | 0/2125 [00:00<?, ?it/s]"
      ]
     },
     "metadata": {},
     "output_type": "display_data"
    },
    {
     "name": "stdout",
     "output_type": "stream",
     "text": [
      "save model\n",
      "Epoch : 102/250 -- Training loss 0.031468728428891424, --- Val loss 0.03233290836215019, --- accuray : 0.9893539621723217, --- recall : 0.9893596270146299\n"
     ]
    },
    {
     "data": {
      "application/vnd.jupyter.widget-view+json": {
       "model_id": "d437307ee9a949b1be825e0354dbc984",
       "version_major": 2,
       "version_minor": 0
      },
      "text/plain": [
       "train:   0%|          | 0/2125 [00:00<?, ?it/s]"
      ]
     },
     "metadata": {},
     "output_type": "display_data"
    },
    {
     "name": "stdout",
     "output_type": "stream",
     "text": [
      "Epoch : 103/250 -- Training loss 0.03164239612134064, --- Val loss 0.03404930233955383, --- accuray : 0.9883373650841516, --- recall : 0.9882493144749743\n"
     ]
    },
    {
     "data": {
      "application/vnd.jupyter.widget-view+json": {
       "model_id": "c6c99da6b8f8476e85d73d53aec35d54",
       "version_major": 2,
       "version_minor": 0
      },
      "text/plain": [
       "train:   0%|          | 0/2125 [00:00<?, ?it/s]"
      ]
     },
     "metadata": {},
     "output_type": "display_data"
    },
    {
     "name": "stdout",
     "output_type": "stream",
     "text": [
      "save model\n",
      "Epoch : 104/250 -- Training loss 0.0315270811205949, --- Val loss 0.03164628520607948, --- accuray : 0.9895402425924675, --- recall : 0.9895176903685616\n"
     ]
    },
    {
     "data": {
      "application/vnd.jupyter.widget-view+json": {
       "model_id": "49f93dc3ea7748af915ea8f6a47fa570",
       "version_major": 2,
       "version_minor": 0
      },
      "text/plain": [
       "train:   0%|          | 0/2125 [00:00<?, ?it/s]"
      ]
     },
     "metadata": {},
     "output_type": "display_data"
    },
    {
     "name": "stdout",
     "output_type": "stream",
     "text": [
      "Epoch : 105/250 -- Training loss 0.03098959136376267, --- Val loss 0.032232243567705154, --- accuray : 0.9886740071326738, --- recall : 0.9885939214664214\n"
     ]
    },
    {
     "data": {
      "application/vnd.jupyter.widget-view+json": {
       "model_id": "1b6b167875104c83a5248d5d9cd51e6a",
       "version_major": 2,
       "version_minor": 0
      },
      "text/plain": [
       "train:   0%|          | 0/2125 [00:00<?, ?it/s]"
      ]
     },
     "metadata": {},
     "output_type": "display_data"
    },
    {
     "name": "stdout",
     "output_type": "stream",
     "text": [
      "Epoch : 106/250 -- Training loss 0.030818774483207724, --- Val loss 0.03269436955451965, --- accuray : 0.988861952019308, --- recall : 0.9888552249632669\n"
     ]
    },
    {
     "data": {
      "application/vnd.jupyter.widget-view+json": {
       "model_id": "7686c176d652483fb27d52e2e8a4ba52",
       "version_major": 2,
       "version_minor": 0
      },
      "text/plain": [
       "train:   0%|          | 0/2125 [00:00<?, ?it/s]"
      ]
     },
     "metadata": {},
     "output_type": "display_data"
    },
    {
     "name": "stdout",
     "output_type": "stream",
     "text": [
      "Epoch : 107/250 -- Training loss 0.03141713843683657, --- Val loss 0.030868910253047943, --- accuray : 0.9894658483389179, --- recall : 0.9894341755426425\n"
     ]
    },
    {
     "data": {
      "application/vnd.jupyter.widget-view+json": {
       "model_id": "ba2ee3a5a61c4aa2a9329a71f1c3c956",
       "version_major": 2,
       "version_minor": 0
      },
      "text/plain": [
       "train:   0%|          | 0/2125 [00:00<?, ?it/s]"
      ]
     },
     "metadata": {},
     "output_type": "display_data"
    },
    {
     "name": "stdout",
     "output_type": "stream",
     "text": [
      "save model\n",
      "Epoch : 108/250 -- Training loss 0.03235900074909167, --- Val loss 0.030325807631015778, --- accuray : 0.9899042822192543, --- recall : 0.9898927520718118\n"
     ]
    },
    {
     "data": {
      "application/vnd.jupyter.widget-view+json": {
       "model_id": "2ce18042f6684ce3a52e962fb8d852cf",
       "version_major": 2,
       "version_minor": 0
      },
      "text/plain": [
       "train:   0%|          | 0/2125 [00:00<?, ?it/s]"
      ]
     },
     "metadata": {},
     "output_type": "display_data"
    },
    {
     "name": "stdout",
     "output_type": "stream",
     "text": [
      "Epoch : 109/250 -- Training loss 0.03108197539817432, --- Val loss 0.03193361312150955, --- accuray : 0.9889563980572534, --- recall : 0.9888870063690826\n"
     ]
    },
    {
     "data": {
      "application/vnd.jupyter.widget-view+json": {
       "model_id": "b9a74850ec1f41529fce5f24c9505003",
       "version_major": 2,
       "version_minor": 0
      },
      "text/plain": [
       "train:   0%|          | 0/2125 [00:00<?, ?it/s]"
      ]
     },
     "metadata": {},
     "output_type": "display_data"
    },
    {
     "name": "stdout",
     "output_type": "stream",
     "text": [
      "Epoch : 110/250 -- Training loss 0.03095558902692488, --- Val loss 0.034010641276836395, --- accuray : 0.9884730014055529, --- recall : 0.9884151858116047\n"
     ]
    },
    {
     "data": {
      "application/vnd.jupyter.widget-view+json": {
       "model_id": "263f9a9a3d0949e1821028b3b94625e5",
       "version_major": 2,
       "version_minor": 0
      },
      "text/plain": [
       "train:   0%|          | 0/2125 [00:00<?, ?it/s]"
      ]
     },
     "metadata": {},
     "output_type": "display_data"
    },
    {
     "name": "stdout",
     "output_type": "stream",
     "text": [
      "Epoch : 111/250 -- Training loss 0.030765567555064884, --- Val loss 0.034701209515333176, --- accuray : 0.988216379668781, --- recall : 0.9881170373718821\n"
     ]
    },
    {
     "data": {
      "application/vnd.jupyter.widget-view+json": {
       "model_id": "b6af6fd8aa9c4ad895bd1cc18eb231fb",
       "version_major": 2,
       "version_minor": 0
      },
      "text/plain": [
       "train:   0%|          | 0/2125 [00:00<?, ?it/s]"
      ]
     },
     "metadata": {},
     "output_type": "display_data"
    },
    {
     "name": "stdout",
     "output_type": "stream",
     "text": [
      "Epoch : 112/250 -- Training loss 0.032600767572506274, --- Val loss 0.032289791852235794, --- accuray : 0.9892020174488698, --- recall : 0.9891628217070794\n"
     ]
    },
    {
     "data": {
      "application/vnd.jupyter.widget-view+json": {
       "model_id": "24fef9c934b44176a474923ec89a78b2",
       "version_major": 2,
       "version_minor": 0
      },
      "text/plain": [
       "train:   0%|          | 0/2125 [00:00<?, ?it/s]"
      ]
     },
     "metadata": {},
     "output_type": "display_data"
    },
    {
     "name": "stdout",
     "output_type": "stream",
     "text": [
      "Epoch : 113/250 -- Training loss 0.03146437384221045, --- Val loss 0.03498624637722969, --- accuray : 0.9878481472908079, --- recall : 0.9877029896170466\n"
     ]
    },
    {
     "data": {
      "application/vnd.jupyter.widget-view+json": {
       "model_id": "bb6c3b81a0fa48948f6adbb37597ff91",
       "version_major": 2,
       "version_minor": 0
      },
      "text/plain": [
       "train:   0%|          | 0/2125 [00:00<?, ?it/s]"
      ]
     },
     "metadata": {},
     "output_type": "display_data"
    },
    {
     "name": "stdout",
     "output_type": "stream",
     "text": [
      "Epoch : 114/250 -- Training loss 0.03190189884340062, --- Val loss 0.032519061118364334, --- accuray : 0.9890936423944552, --- recall : 0.9890591941438787\n"
     ]
    },
    {
     "data": {
      "application/vnd.jupyter.widget-view+json": {
       "model_id": "407dcb7516dc49d09ce4f68025658af4",
       "version_major": 2,
       "version_minor": 0
      },
      "text/plain": [
       "train:   0%|          | 0/2125 [00:00<?, ?it/s]"
      ]
     },
     "metadata": {},
     "output_type": "display_data"
    },
    {
     "name": "stdout",
     "output_type": "stream",
     "text": [
      "Epoch : 115/250 -- Training loss 0.030107733090955983, --- Val loss 0.031495288014411926, --- accuray : 0.9889773975591831, --- recall : 0.9889588807662676\n"
     ]
    },
    {
     "data": {
      "application/vnd.jupyter.widget-view+json": {
       "model_id": "d03049343df240918b2a161c61c10950",
       "version_major": 2,
       "version_minor": 0
      },
      "text/plain": [
       "train:   0%|          | 0/2125 [00:00<?, ?it/s]"
      ]
     },
     "metadata": {},
     "output_type": "display_data"
    },
    {
     "name": "stdout",
     "output_type": "stream",
     "text": [
      "Epoch : 116/250 -- Training loss 0.030767358625061154, --- Val loss 0.032005179673433304, --- accuray : 0.9890610952509059, --- recall : 0.9890383637621829\n"
     ]
    },
    {
     "data": {
      "application/vnd.jupyter.widget-view+json": {
       "model_id": "0f9dff2a0bc3447abfa6b5552c293ff9",
       "version_major": 2,
       "version_minor": 0
      },
      "text/plain": [
       "train:   0%|          | 0/2125 [00:00<?, ?it/s]"
      ]
     },
     "metadata": {},
     "output_type": "display_data"
    },
    {
     "name": "stdout",
     "output_type": "stream",
     "text": [
      "Epoch : 117/250 -- Training loss 0.030173508828396305, --- Val loss 0.032620735466480255, --- accuray : 0.9884480631076974, --- recall : 0.9883479317466508\n"
     ]
    },
    {
     "data": {
      "application/vnd.jupyter.widget-view+json": {
       "model_id": "47c012cb9f9b4899a61bad05b16a903e",
       "version_major": 2,
       "version_minor": 0
      },
      "text/plain": [
       "train:   0%|          | 0/2125 [00:00<?, ?it/s]"
      ]
     },
     "metadata": {},
     "output_type": "display_data"
    },
    {
     "name": "stdout",
     "output_type": "stream",
     "text": [
      "Epoch : 118/250 -- Training loss 0.030151395613519365, --- Val loss 0.033214498311281204, --- accuray : 0.9889437338928337, --- recall : 0.988864303615349\n"
     ]
    },
    {
     "data": {
      "application/vnd.jupyter.widget-view+json": {
       "model_id": "d4b9f529697d4d9d9ce2834985963c81",
       "version_major": 2,
       "version_minor": 0
      },
      "text/plain": [
       "train:   0%|          | 0/2125 [00:00<?, ?it/s]"
      ]
     },
     "metadata": {},
     "output_type": "display_data"
    },
    {
     "name": "stdout",
     "output_type": "stream",
     "text": [
      "Epoch : 119/250 -- Training loss 0.030842319051803582, --- Val loss 0.030817532911896706, --- accuray : 0.9898065602601658, --- recall : 0.9897802595121854\n"
     ]
    },
    {
     "data": {
      "application/vnd.jupyter.widget-view+json": {
       "model_id": "69985be7515640a5a45da61d620e354f",
       "version_major": 2,
       "version_minor": 0
      },
      "text/plain": [
       "train:   0%|          | 0/2125 [00:00<?, ?it/s]"
      ]
     },
     "metadata": {},
     "output_type": "display_data"
    },
    {
     "name": "stdout",
     "output_type": "stream",
     "text": [
      "Epoch : 120/250 -- Training loss 0.030413033922011144, --- Val loss 0.03116203472018242, --- accuray : 0.9894419164767806, --- recall : 0.9894382431040739\n"
     ]
    },
    {
     "data": {
      "application/vnd.jupyter.widget-view+json": {
       "model_id": "05da4af2c28148ecae596db504a62242",
       "version_major": 2,
       "version_minor": 0
      },
      "text/plain": [
       "train:   0%|          | 0/2125 [00:00<?, ?it/s]"
      ]
     },
     "metadata": {},
     "output_type": "display_data"
    },
    {
     "name": "stdout",
     "output_type": "stream",
     "text": [
      "save model\n",
      "Epoch : 121/250 -- Training loss 0.030180101844646475, --- Val loss 0.02990715764462948, --- accuray : 0.9903440054788957, --- recall : 0.990308216783542\n"
     ]
    },
    {
     "data": {
      "application/vnd.jupyter.widget-view+json": {
       "model_id": "9b1ce5ae7e46434aa272caa9db315daa",
       "version_major": 2,
       "version_minor": 0
      },
      "text/plain": [
       "train:   0%|          | 0/2125 [00:00<?, ?it/s]"
      ]
     },
     "metadata": {},
     "output_type": "display_data"
    },
    {
     "name": "stdout",
     "output_type": "stream",
     "text": [
      "save model\n",
      "Epoch : 122/250 -- Training loss 0.028680151654188246, --- Val loss 0.02888958714902401, --- accuray : 0.9905088786743612, --- recall : 0.9904749744706016\n"
     ]
    },
    {
     "data": {
      "application/vnd.jupyter.widget-view+json": {
       "model_id": "00ec7d8112f6447497bd1428660147ad",
       "version_major": 2,
       "version_minor": 0
      },
      "text/plain": [
       "train:   0%|          | 0/2125 [00:00<?, ?it/s]"
      ]
     },
     "metadata": {},
     "output_type": "display_data"
    },
    {
     "name": "stdout",
     "output_type": "stream",
     "text": [
      "Epoch : 123/250 -- Training loss 0.02766246135634206, --- Val loss 0.029489202424883842, --- accuray : 0.9903537289944637, --- recall : 0.9903436514353583\n"
     ]
    },
    {
     "data": {
      "application/vnd.jupyter.widget-view+json": {
       "model_id": "f19a647e4e0f4d49b2c4de551f5d6fc9",
       "version_major": 2,
       "version_minor": 0
      },
      "text/plain": [
       "train:   0%|          | 0/2125 [00:00<?, ?it/s]"
      ]
     },
     "metadata": {},
     "output_type": "display_data"
    },
    {
     "name": "stdout",
     "output_type": "stream",
     "text": [
      "Epoch : 124/250 -- Training loss 0.02646052434143391, --- Val loss 0.02883194386959076, --- accuray : 0.990142742311226, --- recall : 0.9901310836290538\n"
     ]
    },
    {
     "data": {
      "application/vnd.jupyter.widget-view+json": {
       "model_id": "a7c66a01f16d411eb736cf0bb13ce112",
       "version_major": 2,
       "version_minor": 0
      },
      "text/plain": [
       "train:   0%|          | 0/2125 [00:00<?, ?it/s]"
      ]
     },
     "metadata": {},
     "output_type": "display_data"
    },
    {
     "name": "stdout",
     "output_type": "stream",
     "text": [
      "Epoch : 125/250 -- Training loss 0.026675112127066206, --- Val loss 0.029178300872445107, --- accuray : 0.9900719901638745, --- recall : 0.9900465234869837\n"
     ]
    },
    {
     "data": {
      "application/vnd.jupyter.widget-view+json": {
       "model_id": "35ab3d34d56c40fdb8b0b3959099a171",
       "version_major": 2,
       "version_minor": 0
      },
      "text/plain": [
       "train:   0%|          | 0/2125 [00:00<?, ?it/s]"
      ]
     },
     "metadata": {},
     "output_type": "display_data"
    },
    {
     "name": "stdout",
     "output_type": "stream",
     "text": [
      "Epoch : 126/250 -- Training loss 0.026390475936014863, --- Val loss 0.029776539653539658, --- accuray : 0.989638238481675, --- recall : 0.989586129230106\n"
     ]
    },
    {
     "data": {
      "application/vnd.jupyter.widget-view+json": {
       "model_id": "c3d4537d361f4e8796a7abe76f596d15",
       "version_major": 2,
       "version_minor": 0
      },
      "text/plain": [
       "train:   0%|          | 0/2125 [00:00<?, ?it/s]"
      ]
     },
     "metadata": {},
     "output_type": "display_data"
    },
    {
     "name": "stdout",
     "output_type": "stream",
     "text": [
      "Epoch : 127/250 -- Training loss 0.026674902780501938, --- Val loss 0.029804937541484833, --- accuray : 0.9899794206410855, --- recall : 0.9899369400105658\n"
     ]
    },
    {
     "data": {
      "application/vnd.jupyter.widget-view+json": {
       "model_id": "4da1cdec44fb4b69aba5fd0734805b11",
       "version_major": 2,
       "version_minor": 0
      },
      "text/plain": [
       "train:   0%|          | 0/2125 [00:00<?, ?it/s]"
      ]
     },
     "metadata": {},
     "output_type": "display_data"
    },
    {
     "name": "stdout",
     "output_type": "stream",
     "text": [
      "Epoch : 128/250 -- Training loss 0.026242813710506786, --- Val loss 0.02874932251870632, --- accuray : 0.990168637544761, --- recall : 0.9901246789943514\n"
     ]
    },
    {
     "data": {
      "application/vnd.jupyter.widget-view+json": {
       "model_id": "f6951251372d44ec8a88129434a2ceb6",
       "version_major": 2,
       "version_minor": 0
      },
      "text/plain": [
       "train:   0%|          | 0/2125 [00:00<?, ?it/s]"
      ]
     },
     "metadata": {},
     "output_type": "display_data"
    },
    {
     "name": "stdout",
     "output_type": "stream",
     "text": [
      "Epoch : 129/250 -- Training loss 0.025523529859588428, --- Val loss 0.02814755216240883, --- accuray : 0.9904012484887268, --- recall : 0.9903992715736181\n"
     ]
    },
    {
     "data": {
      "application/vnd.jupyter.widget-view+json": {
       "model_id": "f94cf21183af40c9b938a70887c44f66",
       "version_major": 2,
       "version_minor": 0
      },
      "text/plain": [
       "train:   0%|          | 0/2125 [00:00<?, ?it/s]"
      ]
     },
     "metadata": {},
     "output_type": "display_data"
    },
    {
     "name": "stdout",
     "output_type": "stream",
     "text": [
      "save model\n",
      "Epoch : 130/250 -- Training loss 0.02606321061177946, --- Val loss 0.027962587773799896, --- accuray : 0.9906329996577454, --- recall : 0.9906075340322982\n"
     ]
    },
    {
     "data": {
      "application/vnd.jupyter.widget-view+json": {
       "model_id": "e9625080eaef4823bb6ee068dd137fd9",
       "version_major": 2,
       "version_minor": 0
      },
      "text/plain": [
       "train:   0%|          | 0/2125 [00:00<?, ?it/s]"
      ]
     },
     "metadata": {},
     "output_type": "display_data"
    },
    {
     "name": "stdout",
     "output_type": "stream",
     "text": [
      "save model\n",
      "Epoch : 131/250 -- Training loss 0.02597814155511065, --- Val loss 0.028336187824606895, --- accuray : 0.9910915502899176, --- recall : 0.9910965829281132\n"
     ]
    },
    {
     "data": {
      "application/vnd.jupyter.widget-view+json": {
       "model_id": "46230369dd0046cf84c0889244c55238",
       "version_major": 2,
       "version_minor": 0
      },
      "text/plain": [
       "train:   0%|          | 0/2125 [00:00<?, ?it/s]"
      ]
     },
     "metadata": {},
     "output_type": "display_data"
    },
    {
     "name": "stdout",
     "output_type": "stream",
     "text": [
      "Epoch : 132/250 -- Training loss 0.02658536961436381, --- Val loss 0.02808532863855362, --- accuray : 0.99045105017562, --- recall : 0.9904237752037404\n"
     ]
    },
    {
     "data": {
      "application/vnd.jupyter.widget-view+json": {
       "model_id": "da67a7c667f247f9997592527c3b9851",
       "version_major": 2,
       "version_minor": 0
      },
      "text/plain": [
       "train:   0%|          | 0/2125 [00:00<?, ?it/s]"
      ]
     },
     "metadata": {},
     "output_type": "display_data"
    },
    {
     "name": "stdout",
     "output_type": "stream",
     "text": [
      "Epoch : 133/250 -- Training loss 0.02570747385895811, --- Val loss 0.0293654166162014, --- accuray : 0.9904856949619305, --- recall : 0.990445740778554\n"
     ]
    },
    {
     "data": {
      "application/vnd.jupyter.widget-view+json": {
       "model_id": "f9d80642c37c4ed0862c0e418765ba4f",
       "version_major": 2,
       "version_minor": 0
      },
      "text/plain": [
       "train:   0%|          | 0/2125 [00:00<?, ?it/s]"
      ]
     },
     "metadata": {},
     "output_type": "display_data"
    },
    {
     "name": "stdout",
     "output_type": "stream",
     "text": [
      "Epoch : 134/250 -- Training loss 0.026340060777811553, --- Val loss 0.027741285040974617, --- accuray : 0.9909777315937853, --- recall : 0.9909529353766917\n"
     ]
    },
    {
     "data": {
      "application/vnd.jupyter.widget-view+json": {
       "model_id": "db4fc27b0eda4bdc8a40f9cbaf9256c3",
       "version_major": 2,
       "version_minor": 0
      },
      "text/plain": [
       "train:   0%|          | 0/2125 [00:00<?, ?it/s]"
      ]
     },
     "metadata": {},
     "output_type": "display_data"
    },
    {
     "name": "stdout",
     "output_type": "stream",
     "text": [
      "Epoch : 135/250 -- Training loss 0.026053003560559933, --- Val loss 0.02812393195927143, --- accuray : 0.9905665438026989, --- recall : 0.9904919358934551\n"
     ]
    },
    {
     "data": {
      "application/vnd.jupyter.widget-view+json": {
       "model_id": "a59514f793ee42baa3151787efe2ae27",
       "version_major": 2,
       "version_minor": 0
      },
      "text/plain": [
       "train:   0%|          | 0/2125 [00:00<?, ?it/s]"
      ]
     },
     "metadata": {},
     "output_type": "display_data"
    },
    {
     "name": "stdout",
     "output_type": "stream",
     "text": [
      "save model\n",
      "Epoch : 136/250 -- Training loss 0.024451623994870768, --- Val loss 0.027065197005867958, --- accuray : 0.9913466063948879, --- recall : 0.9913327931842263\n"
     ]
    },
    {
     "data": {
      "application/vnd.jupyter.widget-view+json": {
       "model_id": "f8ea95ed0b8f4d4689da34894d54bffe",
       "version_major": 2,
       "version_minor": 0
      },
      "text/plain": [
       "train:   0%|          | 0/2125 [00:00<?, ?it/s]"
      ]
     },
     "metadata": {},
     "output_type": "display_data"
    },
    {
     "name": "stdout",
     "output_type": "stream",
     "text": [
      "Epoch : 137/250 -- Training loss 0.024455050229382536, --- Val loss 0.027403905987739563, --- accuray : 0.9910122996767573, --- recall : 0.9909800461783342\n"
     ]
    },
    {
     "data": {
      "application/vnd.jupyter.widget-view+json": {
       "model_id": "b257a369235f4d979086d2c4092f8d66",
       "version_major": 2,
       "version_minor": 0
      },
      "text/plain": [
       "train:   0%|          | 0/2125 [00:00<?, ?it/s]"
      ]
     },
     "metadata": {},
     "output_type": "display_data"
    },
    {
     "name": "stdout",
     "output_type": "stream",
     "text": [
      "Epoch : 138/250 -- Training loss 0.02340333029442905, --- Val loss 0.026783078908920288, --- accuray : 0.9909527197504937, --- recall : 0.9909295293869352\n"
     ]
    },
    {
     "data": {
      "application/vnd.jupyter.widget-view+json": {
       "model_id": "9dd9dc32aae74e7994b6caa7ad7b6593",
       "version_major": 2,
       "version_minor": 0
      },
      "text/plain": [
       "train:   0%|          | 0/2125 [00:00<?, ?it/s]"
      ]
     },
     "metadata": {},
     "output_type": "display_data"
    },
    {
     "name": "stdout",
     "output_type": "stream",
     "text": [
      "Epoch : 139/250 -- Training loss 0.024281357208191526, --- Val loss 0.02683551050722599, --- accuray : 0.9910073253682132, --- recall : 0.9909829809447606\n"
     ]
    },
    {
     "data": {
      "application/vnd.jupyter.widget-view+json": {
       "model_id": "ab9b868e41144e88b6a3b53a8c7fb237",
       "version_major": 2,
       "version_minor": 0
      },
      "text/plain": [
       "train:   0%|          | 0/2125 [00:00<?, ?it/s]"
      ]
     },
     "metadata": {},
     "output_type": "display_data"
    },
    {
     "name": "stdout",
     "output_type": "stream",
     "text": [
      "Epoch : 140/250 -- Training loss 0.024133735163644067, --- Val loss 0.027385758236050606, --- accuray : 0.9909456407547088, --- recall : 0.9909327069295377\n"
     ]
    },
    {
     "data": {
      "application/vnd.jupyter.widget-view+json": {
       "model_id": "25567f308639475d872ab8432f473ed7",
       "version_major": 2,
       "version_minor": 0
      },
      "text/plain": [
       "train:   0%|          | 0/2125 [00:00<?, ?it/s]"
      ]
     },
     "metadata": {},
     "output_type": "display_data"
    },
    {
     "name": "stdout",
     "output_type": "stream",
     "text": [
      "Epoch : 141/250 -- Training loss 0.024421596673645955, --- Val loss 0.027447236701846123, --- accuray : 0.9907176480814375, --- recall : 0.9906878951687261\n"
     ]
    },
    {
     "data": {
      "application/vnd.jupyter.widget-view+json": {
       "model_id": "c09a6a6bb9ec4ff0b1051f0032c41ad3",
       "version_major": 2,
       "version_minor": 0
      },
      "text/plain": [
       "train:   0%|          | 0/2125 [00:00<?, ?it/s]"
      ]
     },
     "metadata": {},
     "output_type": "display_data"
    },
    {
     "name": "stdout",
     "output_type": "stream",
     "text": [
      "Epoch : 142/250 -- Training loss 0.023634306225049147, --- Val loss 0.027097072452306747, --- accuray : 0.9911875881849184, --- recall : 0.991172228742202\n"
     ]
    },
    {
     "data": {
      "application/vnd.jupyter.widget-view+json": {
       "model_id": "15b850e0be484fb18889cce2ecdc223c",
       "version_major": 2,
       "version_minor": 0
      },
      "text/plain": [
       "train:   0%|          | 0/2125 [00:00<?, ?it/s]"
      ]
     },
     "metadata": {},
     "output_type": "display_data"
    },
    {
     "name": "stdout",
     "output_type": "stream",
     "text": [
      "Epoch : 143/250 -- Training loss 0.024247146945364555, --- Val loss 0.02772214449942112, --- accuray : 0.9911797779540519, --- recall : 0.9911357592226724\n"
     ]
    },
    {
     "data": {
      "application/vnd.jupyter.widget-view+json": {
       "model_id": "869674774677414e8586e3bb2bc0fbd0",
       "version_major": 2,
       "version_minor": 0
      },
      "text/plain": [
       "train:   0%|          | 0/2125 [00:00<?, ?it/s]"
      ]
     },
     "metadata": {},
     "output_type": "display_data"
    },
    {
     "name": "stdout",
     "output_type": "stream",
     "text": [
      "Epoch : 144/250 -- Training loss 0.023039230878259438, --- Val loss 0.027203204110264778, --- accuray : 0.9909522436433462, --- recall : 0.9908941947699421\n"
     ]
    },
    {
     "data": {
      "application/vnd.jupyter.widget-view+json": {
       "model_id": "8c93abec9d6d4a80849dccc5dfbba375",
       "version_major": 2,
       "version_minor": 0
      },
      "text/plain": [
       "train:   0%|          | 0/2125 [00:00<?, ?it/s]"
      ]
     },
     "metadata": {},
     "output_type": "display_data"
    },
    {
     "name": "stdout",
     "output_type": "stream",
     "text": [
      "Epoch : 145/250 -- Training loss 0.0232481377011932, --- Val loss 0.02626507729291916, --- accuray : 0.9912413921887501, --- recall : 0.9912256135994697\n"
     ]
    },
    {
     "data": {
      "application/vnd.jupyter.widget-view+json": {
       "model_id": "ba56a2526b6148de9c68d0f124f14e5a",
       "version_major": 2,
       "version_minor": 0
      },
      "text/plain": [
       "train:   0%|          | 0/2125 [00:00<?, ?it/s]"
      ]
     },
     "metadata": {},
     "output_type": "display_data"
    },
    {
     "name": "stdout",
     "output_type": "stream",
     "text": [
      "Epoch : 146/250 -- Training loss 0.023493932677741053, --- Val loss 0.026084205135703087, --- accuray : 0.9912610949829105, --- recall : 0.9912159649395486\n"
     ]
    },
    {
     "data": {
      "application/vnd.jupyter.widget-view+json": {
       "model_id": "ea75866d77d9442690b8c37bb2ad1749",
       "version_major": 2,
       "version_minor": 0
      },
      "text/plain": [
       "train:   0%|          | 0/2125 [00:00<?, ?it/s]"
      ]
     },
     "metadata": {},
     "output_type": "display_data"
    },
    {
     "name": "stdout",
     "output_type": "stream",
     "text": [
      "save model\n",
      "Epoch : 147/250 -- Training loss 0.02386716676901971, --- Val loss 0.025918368250131607, --- accuray : 0.991682723622392, --- recall : 0.9916818353782324\n"
     ]
    },
    {
     "data": {
      "application/vnd.jupyter.widget-view+json": {
       "model_id": "15b6ff38d7ea4526950130a88026572e",
       "version_major": 2,
       "version_minor": 0
      },
      "text/plain": [
       "train:   0%|          | 0/2125 [00:00<?, ?it/s]"
      ]
     },
     "metadata": {},
     "output_type": "display_data"
    },
    {
     "name": "stdout",
     "output_type": "stream",
     "text": [
      "Epoch : 148/250 -- Training loss 0.023591519306605573, --- Val loss 0.02705002948641777, --- accuray : 0.9909798090844648, --- recall : 0.9909567765501206\n"
     ]
    },
    {
     "data": {
      "application/vnd.jupyter.widget-view+json": {
       "model_id": "8573dc66b8ef4964ad1cbcdec2d61697",
       "version_major": 2,
       "version_minor": 0
      },
      "text/plain": [
       "train:   0%|          | 0/2125 [00:00<?, ?it/s]"
      ]
     },
     "metadata": {},
     "output_type": "display_data"
    },
    {
     "name": "stdout",
     "output_type": "stream",
     "text": [
      "Epoch : 149/250 -- Training loss 0.023269952570156686, --- Val loss 0.02485038712620735, --- accuray : 0.9916583457541168, --- recall : 0.9916579638110912\n"
     ]
    },
    {
     "data": {
      "application/vnd.jupyter.widget-view+json": {
       "model_id": "9a2bad271f9548769c59b3fc6d0ec3ea",
       "version_major": 2,
       "version_minor": 0
      },
      "text/plain": [
       "train:   0%|          | 0/2125 [00:00<?, ?it/s]"
      ]
     },
     "metadata": {},
     "output_type": "display_data"
    },
    {
     "name": "stdout",
     "output_type": "stream",
     "text": [
      "Epoch : 150/250 -- Training loss 0.0236444565440487, --- Val loss 0.02666683867573738, --- accuray : 0.9910705406207428, --- recall : 0.9910312975514579\n"
     ]
    },
    {
     "data": {
      "application/vnd.jupyter.widget-view+json": {
       "model_id": "91764ca2eeeb4c0a9c6a97bfd2a62feb",
       "version_major": 2,
       "version_minor": 0
      },
      "text/plain": [
       "train:   0%|          | 0/2125 [00:00<?, ?it/s]"
      ]
     },
     "metadata": {},
     "output_type": "display_data"
    },
    {
     "name": "stdout",
     "output_type": "stream",
     "text": [
      "save model\n",
      "Epoch : 151/250 -- Training loss 0.02297905159701922, --- Val loss 0.025111405178904533, --- accuray : 0.9919246968294269, --- recall : 0.9919218109166549\n"
     ]
    },
    {
     "data": {
      "application/vnd.jupyter.widget-view+json": {
       "model_id": "8ac1df07ba634d13930356facf494506",
       "version_major": 2,
       "version_minor": 0
      },
      "text/plain": [
       "train:   0%|          | 0/2125 [00:00<?, ?it/s]"
      ]
     },
     "metadata": {},
     "output_type": "display_data"
    },
    {
     "name": "stdout",
     "output_type": "stream",
     "text": [
      "Epoch : 152/250 -- Training loss 0.022904547467389527, --- Val loss 0.025493554770946503, --- accuray : 0.9915703104545234, --- recall : 0.9915387555278634\n"
     ]
    },
    {
     "data": {
      "application/vnd.jupyter.widget-view+json": {
       "model_id": "669383ba1da74a809e47dee3d7eeaf4f",
       "version_major": 2,
       "version_minor": 0
      },
      "text/plain": [
       "train:   0%|          | 0/2125 [00:00<?, ?it/s]"
      ]
     },
     "metadata": {},
     "output_type": "display_data"
    },
    {
     "name": "stdout",
     "output_type": "stream",
     "text": [
      "Epoch : 153/250 -- Training loss 0.022056656375184985, --- Val loss 0.026125695556402206, --- accuray : 0.9910420632818479, --- recall : 0.9909709633441658\n"
     ]
    },
    {
     "data": {
      "application/vnd.jupyter.widget-view+json": {
       "model_id": "1dca5a1aa3884f0ea6e7854bf103138e",
       "version_major": 2,
       "version_minor": 0
      },
      "text/plain": [
       "train:   0%|          | 0/2125 [00:00<?, ?it/s]"
      ]
     },
     "metadata": {},
     "output_type": "display_data"
    },
    {
     "name": "stdout",
     "output_type": "stream",
     "text": [
      "Epoch : 154/250 -- Training loss 0.022976667629732914, --- Val loss 0.02611636556684971, --- accuray : 0.9910196522101915, --- recall : 0.9909775131997668\n"
     ]
    },
    {
     "data": {
      "application/vnd.jupyter.widget-view+json": {
       "model_id": "b7fa92e119924c61bac23b08963e25c1",
       "version_major": 2,
       "version_minor": 0
      },
      "text/plain": [
       "train:   0%|          | 0/2125 [00:00<?, ?it/s]"
      ]
     },
     "metadata": {},
     "output_type": "display_data"
    },
    {
     "name": "stdout",
     "output_type": "stream",
     "text": [
      "Epoch : 155/250 -- Training loss 0.02214859484983882, --- Val loss 0.025823846459388733, --- accuray : 0.9912004490726117, --- recall : 0.9911670278036409\n"
     ]
    },
    {
     "data": {
      "application/vnd.jupyter.widget-view+json": {
       "model_id": "82b2149544c14680a8df5dc850446e7c",
       "version_major": 2,
       "version_minor": 0
      },
      "text/plain": [
       "train:   0%|          | 0/2125 [00:00<?, ?it/s]"
      ]
     },
     "metadata": {},
     "output_type": "display_data"
    },
    {
     "name": "stdout",
     "output_type": "stream",
     "text": [
      "Epoch : 156/250 -- Training loss 0.022481544647701357, --- Val loss 0.025622354820370674, --- accuray : 0.9913512047231773, --- recall : 0.9913286901766121\n"
     ]
    },
    {
     "data": {
      "application/vnd.jupyter.widget-view+json": {
       "model_id": "4bec48e0fd9044c8b821529de9006215",
       "version_major": 2,
       "version_minor": 0
      },
      "text/plain": [
       "train:   0%|          | 0/2125 [00:00<?, ?it/s]"
      ]
     },
     "metadata": {},
     "output_type": "display_data"
    },
    {
     "name": "stdout",
     "output_type": "stream",
     "text": [
      "Epoch : 157/250 -- Training loss 0.0226146771878908, --- Val loss 0.026154521852731705, --- accuray : 0.9913190697333152, --- recall : 0.9913045198036958\n"
     ]
    },
    {
     "data": {
      "application/vnd.jupyter.widget-view+json": {
       "model_id": "6c4931ebf9c340aa90b6602e9c95d6ff",
       "version_major": 2,
       "version_minor": 0
      },
      "text/plain": [
       "train:   0%|          | 0/2125 [00:00<?, ?it/s]"
      ]
     },
     "metadata": {},
     "output_type": "display_data"
    },
    {
     "name": "stdout",
     "output_type": "stream",
     "text": [
      "Epoch : 158/250 -- Training loss 0.022881217075039303, --- Val loss 0.026274634525179863, --- accuray : 0.9911848407184138, --- recall : 0.9911713063421118\n"
     ]
    },
    {
     "data": {
      "application/vnd.jupyter.widget-view+json": {
       "model_id": "a5ebb10d05ff48cd82b98d3937597070",
       "version_major": 2,
       "version_minor": 0
      },
      "text/plain": [
       "train:   0%|          | 0/2125 [00:00<?, ?it/s]"
      ]
     },
     "metadata": {},
     "output_type": "display_data"
    },
    {
     "name": "stdout",
     "output_type": "stream",
     "text": [
      "Epoch : 159/250 -- Training loss 0.02219494266486179, --- Val loss 0.025536229833960533, --- accuray : 0.9913583557674224, --- recall : 0.9913285443747231\n"
     ]
    },
    {
     "data": {
      "application/vnd.jupyter.widget-view+json": {
       "model_id": "84fcd68991b94e8f983db300c407a1e6",
       "version_major": 2,
       "version_minor": 0
      },
      "text/plain": [
       "train:   0%|          | 0/2125 [00:00<?, ?it/s]"
      ]
     },
     "metadata": {},
     "output_type": "display_data"
    },
    {
     "name": "stdout",
     "output_type": "stream",
     "text": [
      "Epoch : 160/250 -- Training loss 0.022058898136601782, --- Val loss 0.02544592134654522, --- accuray : 0.9914272365031346, --- recall : 0.9914111383490202\n"
     ]
    },
    {
     "data": {
      "application/vnd.jupyter.widget-view+json": {
       "model_id": "1631d02726244b8d99a5e802a5b4858a",
       "version_major": 2,
       "version_minor": 0
      },
      "text/plain": [
       "train:   0%|          | 0/2125 [00:00<?, ?it/s]"
      ]
     },
     "metadata": {},
     "output_type": "display_data"
    },
    {
     "name": "stdout",
     "output_type": "stream",
     "text": [
      "Epoch : 161/250 -- Training loss 0.022963381414287998, --- Val loss 0.025800002738833427, --- accuray : 0.9916194243758408, --- recall : 0.9915961370507628\n"
     ]
    },
    {
     "data": {
      "application/vnd.jupyter.widget-view+json": {
       "model_id": "a737d4e5e40b4e16adde556c86bd93e7",
       "version_major": 2,
       "version_minor": 0
      },
      "text/plain": [
       "train:   0%|          | 0/2125 [00:00<?, ?it/s]"
      ]
     },
     "metadata": {},
     "output_type": "display_data"
    },
    {
     "name": "stdout",
     "output_type": "stream",
     "text": [
      "Epoch : 162/250 -- Training loss 0.022545044469126665, --- Val loss 0.024686962366104126, --- accuray : 0.9917790837621556, --- recall : 0.9917577976529277\n"
     ]
    },
    {
     "data": {
      "application/vnd.jupyter.widget-view+json": {
       "model_id": "8208f7c2e3e74ff59047b939aa89ab36",
       "version_major": 2,
       "version_minor": 0
      },
      "text/plain": [
       "train:   0%|          | 0/2125 [00:00<?, ?it/s]"
      ]
     },
     "metadata": {},
     "output_type": "display_data"
    },
    {
     "name": "stdout",
     "output_type": "stream",
     "text": [
      "Epoch : 163/250 -- Training loss 0.02189107709136956, --- Val loss 0.024939680472016335, --- accuray : 0.9916132017928415, --- recall : 0.9915984448034914\n"
     ]
    },
    {
     "data": {
      "application/vnd.jupyter.widget-view+json": {
       "model_id": "74562ad55f0d431b8111eddf9e88151c",
       "version_major": 2,
       "version_minor": 0
      },
      "text/plain": [
       "train:   0%|          | 0/2125 [00:00<?, ?it/s]"
      ]
     },
     "metadata": {},
     "output_type": "display_data"
    },
    {
     "name": "stdout",
     "output_type": "stream",
     "text": [
      "Epoch : 164/250 -- Training loss 0.022686692220932694, --- Val loss 0.024840498343110085, --- accuray : 0.9916462267469951, --- recall : 0.9916221116149453\n"
     ]
    },
    {
     "data": {
      "application/vnd.jupyter.widget-view+json": {
       "model_id": "3d28bd0a4b114138bd1b7248a3c9b120",
       "version_major": 2,
       "version_minor": 0
      },
      "text/plain": [
       "train:   0%|          | 0/2125 [00:00<?, ?it/s]"
      ]
     },
     "metadata": {},
     "output_type": "display_data"
    },
    {
     "name": "stdout",
     "output_type": "stream",
     "text": [
      "Epoch : 165/250 -- Training loss 0.021715692784623517, --- Val loss 0.025348437950015068, --- accuray : 0.9917047027537291, --- recall : 0.9916741151925985\n"
     ]
    },
    {
     "data": {
      "application/vnd.jupyter.widget-view+json": {
       "model_id": "9b0ed65fd9624721bef2fb43f5394eaf",
       "version_major": 2,
       "version_minor": 0
      },
      "text/plain": [
       "train:   0%|          | 0/2125 [00:00<?, ?it/s]"
      ]
     },
     "metadata": {},
     "output_type": "display_data"
    },
    {
     "name": "stdout",
     "output_type": "stream",
     "text": [
      "Epoch : 166/250 -- Training loss 0.022108082099756062, --- Val loss 0.024891076609492302, --- accuray : 0.9918264371953068, --- recall : 0.9918124308928433\n"
     ]
    },
    {
     "data": {
      "application/vnd.jupyter.widget-view+json": {
       "model_id": "901a2feb2d38454ebfee7506a765f3db",
       "version_major": 2,
       "version_minor": 0
      },
      "text/plain": [
       "train:   0%|          | 0/2125 [00:00<?, ?it/s]"
      ]
     },
     "metadata": {},
     "output_type": "display_data"
    },
    {
     "name": "stdout",
     "output_type": "stream",
     "text": [
      "Epoch : 167/250 -- Training loss 0.021310702918604128, --- Val loss 0.025043588131666183, --- accuray : 0.9915472979110265, --- recall : 0.9915127533235578\n"
     ]
    },
    {
     "data": {
      "application/vnd.jupyter.widget-view+json": {
       "model_id": "7316c5a0572447bd815ea15af5aa1137",
       "version_major": 2,
       "version_minor": 0
      },
      "text/plain": [
       "train:   0%|          | 0/2125 [00:00<?, ?it/s]"
      ]
     },
     "metadata": {},
     "output_type": "display_data"
    },
    {
     "name": "stdout",
     "output_type": "stream",
     "text": [
      "Epoch : 168/250 -- Training loss 0.021943431790027876, --- Val loss 0.024660686030983925, --- accuray : 0.9918240235793098, --- recall : 0.9918139540058168\n"
     ]
    },
    {
     "data": {
      "application/vnd.jupyter.widget-view+json": {
       "model_id": "849d9fb7363c44ec95b6a29b55f0c6c3",
       "version_major": 2,
       "version_minor": 0
      },
      "text/plain": [
       "train:   0%|          | 0/2125 [00:00<?, ?it/s]"
      ]
     },
     "metadata": {},
     "output_type": "display_data"
    },
    {
     "name": "stdout",
     "output_type": "stream",
     "text": [
      "Epoch : 169/250 -- Training loss 0.022111356157905368, --- Val loss 0.024508027359843254, --- accuray : 0.9918798092208713, --- recall : 0.9918648885913297\n"
     ]
    },
    {
     "data": {
      "application/vnd.jupyter.widget-view+json": {
       "model_id": "75b5ec62ccdd4cf292359219473d2e25",
       "version_major": 2,
       "version_minor": 0
      },
      "text/plain": [
       "train:   0%|          | 0/2125 [00:00<?, ?it/s]"
      ]
     },
     "metadata": {},
     "output_type": "display_data"
    },
    {
     "name": "stdout",
     "output_type": "stream",
     "text": [
      "save model\n",
      "Epoch : 170/250 -- Training loss 0.021748465332962735, --- Val loss 0.024512629956007004, --- accuray : 0.9920119255531488, --- recall : 0.9919989208535073\n"
     ]
    },
    {
     "data": {
      "application/vnd.jupyter.widget-view+json": {
       "model_id": "0ec9741db72e40a6845687e5f4b078d2",
       "version_major": 2,
       "version_minor": 0
      },
      "text/plain": [
       "train:   0%|          | 0/2125 [00:00<?, ?it/s]"
      ]
     },
     "metadata": {},
     "output_type": "display_data"
    },
    {
     "name": "stdout",
     "output_type": "stream",
     "text": [
      "Epoch : 171/250 -- Training loss 0.021610295154407676, --- Val loss 0.02492181956768036, --- accuray : 0.9916646519555583, --- recall : 0.9916541728003703\n"
     ]
    },
    {
     "data": {
      "application/vnd.jupyter.widget-view+json": {
       "model_id": "60b935327bdf4b1ca2b64b58ee9324a9",
       "version_major": 2,
       "version_minor": 0
      },
      "text/plain": [
       "train:   0%|          | 0/2125 [00:00<?, ?it/s]"
      ]
     },
     "metadata": {},
     "output_type": "display_data"
    },
    {
     "name": "stdout",
     "output_type": "stream",
     "text": [
      "Epoch : 172/250 -- Training loss 0.02155453915355097, --- Val loss 0.0245368629693985, --- accuray : 0.9919814230917764, --- recall : 0.991973512514549\n"
     ]
    },
    {
     "data": {
      "application/vnd.jupyter.widget-view+json": {
       "model_id": "257f0098134540578a88c5541cb79481",
       "version_major": 2,
       "version_minor": 0
      },
      "text/plain": [
       "train:   0%|          | 0/2125 [00:00<?, ?it/s]"
      ]
     },
     "metadata": {},
     "output_type": "display_data"
    },
    {
     "name": "stdout",
     "output_type": "stream",
     "text": [
      "Epoch : 173/250 -- Training loss 0.02178942225183196, --- Val loss 0.024179767817258835, --- accuray : 0.9920074984257848, --- recall : 0.9919993496772435\n"
     ]
    },
    {
     "data": {
      "application/vnd.jupyter.widget-view+json": {
       "model_id": "d5448099c4d04dd2a99f20a23c7dbcf1",
       "version_major": 2,
       "version_minor": 0
      },
      "text/plain": [
       "train:   0%|          | 0/2125 [00:00<?, ?it/s]"
      ]
     },
     "metadata": {},
     "output_type": "display_data"
    },
    {
     "name": "stdout",
     "output_type": "stream",
     "text": [
      "Epoch : 174/250 -- Training loss 0.022808039420065197, --- Val loss 0.024540258571505547, --- accuray : 0.9919822591332288, --- recall : 0.9919731276552295\n"
     ]
    },
    {
     "data": {
      "application/vnd.jupyter.widget-view+json": {
       "model_id": "fc971cc5542a4e119350b200d1eb2797",
       "version_major": 2,
       "version_minor": 0
      },
      "text/plain": [
       "train:   0%|          | 0/2125 [00:00<?, ?it/s]"
      ]
     },
     "metadata": {},
     "output_type": "display_data"
    },
    {
     "name": "stdout",
     "output_type": "stream",
     "text": [
      "Epoch : 175/250 -- Training loss 0.02154954068023054, --- Val loss 0.024369938299059868, --- accuray : 0.9919801967491957, --- recall : 0.9919734350023106\n"
     ]
    },
    {
     "data": {
      "application/vnd.jupyter.widget-view+json": {
       "model_id": "2b656c4e3ee84639a0fe442602bca039",
       "version_major": 2,
       "version_minor": 0
      },
      "text/plain": [
       "train:   0%|          | 0/2125 [00:00<?, ?it/s]"
      ]
     },
     "metadata": {},
     "output_type": "display_data"
    },
    {
     "name": "stdout",
     "output_type": "stream",
     "text": [
      "save model\n",
      "Epoch : 176/250 -- Training loss 0.021371521646403435, --- Val loss 0.02420869655907154, --- accuray : 0.9921154342037637, --- recall : 0.992105799611898\n"
     ]
    },
    {
     "data": {
      "application/vnd.jupyter.widget-view+json": {
       "model_id": "5a88de0f12aa42bc8b30f435aacbd158",
       "version_major": 2,
       "version_minor": 0
      },
      "text/plain": [
       "train:   0%|          | 0/2125 [00:00<?, ?it/s]"
      ]
     },
     "metadata": {},
     "output_type": "display_data"
    },
    {
     "name": "stdout",
     "output_type": "stream",
     "text": [
      "Epoch : 177/250 -- Training loss 0.021691106065724265, --- Val loss 0.024679264053702354, --- accuray : 0.9920117192698659, --- recall : 0.991997859571715\n"
     ]
    },
    {
     "data": {
      "application/vnd.jupyter.widget-view+json": {
       "model_id": "ad8a49832bcb44b7aff4482585ab1a87",
       "version_major": 2,
       "version_minor": 0
      },
      "text/plain": [
       "train:   0%|          | 0/2125 [00:00<?, ?it/s]"
      ]
     },
     "metadata": {},
     "output_type": "display_data"
    },
    {
     "name": "stdout",
     "output_type": "stream",
     "text": [
      "Epoch : 178/250 -- Training loss 0.021603861629216493, --- Val loss 0.0248109083622694, --- accuray : 0.9920711669636839, --- recall : 0.9920487195966465\n"
     ]
    },
    {
     "data": {
      "application/vnd.jupyter.widget-view+json": {
       "model_id": "d16bff3c6a694d849f8c06150fa8309d",
       "version_major": 2,
       "version_minor": 0
      },
      "text/plain": [
       "train:   0%|          | 0/2125 [00:00<?, ?it/s]"
      ]
     },
     "metadata": {},
     "output_type": "display_data"
    },
    {
     "name": "stdout",
     "output_type": "stream",
     "text": [
      "save model\n",
      "Epoch : 179/250 -- Training loss 0.021828106572194136, --- Val loss 0.02430087886750698, --- accuray : 0.9921198752864712, --- recall : 0.9921055556504857\n"
     ]
    },
    {
     "data": {
      "application/vnd.jupyter.widget-view+json": {
       "model_id": "43e395c0b5fc4e398ba1bf034fbe6e8a",
       "version_major": 2,
       "version_minor": 0
      },
      "text/plain": [
       "train:   0%|          | 0/2125 [00:00<?, ?it/s]"
      ]
     },
     "metadata": {},
     "output_type": "display_data"
    },
    {
     "name": "stdout",
     "output_type": "stream",
     "text": [
      "Epoch : 180/250 -- Training loss 0.021311333059812622, --- Val loss 0.024302497506141663, --- accuray : 0.9920924420939874, --- recall : 0.992078978606999\n"
     ]
    },
    {
     "data": {
      "application/vnd.jupyter.widget-view+json": {
       "model_id": "edc566b84f374a6cb46eeb3072d75802",
       "version_major": 2,
       "version_minor": 0
      },
      "text/plain": [
       "train:   0%|          | 0/2125 [00:00<?, ?it/s]"
      ]
     },
     "metadata": {},
     "output_type": "display_data"
    },
    {
     "name": "stdout",
     "output_type": "stream",
     "text": [
      "Epoch : 181/250 -- Training loss 0.022072243237963824, --- Val loss 0.02433612570166588, --- accuray : 0.991962262329152, --- recall : 0.9919438598023435\n"
     ]
    },
    {
     "data": {
      "application/vnd.jupyter.widget-view+json": {
       "model_id": "3890ab07ce814fc18b6f48f3aa62ae63",
       "version_major": 2,
       "version_minor": 0
      },
      "text/plain": [
       "train:   0%|          | 0/2125 [00:00<?, ?it/s]"
      ]
     },
     "metadata": {},
     "output_type": "display_data"
    },
    {
     "name": "stdout",
     "output_type": "stream",
     "text": [
      "Epoch : 182/250 -- Training loss 0.02122592656389016, --- Val loss 0.02452060952782631, --- accuray : 0.9920685887101607, --- recall : 0.9920502588567801\n"
     ]
    },
    {
     "data": {
      "application/vnd.jupyter.widget-view+json": {
       "model_id": "7d0ab960ff584c4dacba4a1010bc0642",
       "version_major": 2,
       "version_minor": 0
      },
      "text/plain": [
       "train:   0%|          | 0/2125 [00:00<?, ?it/s]"
      ]
     },
     "metadata": {},
     "output_type": "display_data"
    },
    {
     "name": "stdout",
     "output_type": "stream",
     "text": [
      "Epoch : 183/250 -- Training loss 0.02076039131272324, --- Val loss 0.024645330384373665, --- accuray : 0.9917715392767814, --- recall : 0.9917583167122943\n"
     ]
    },
    {
     "data": {
      "application/vnd.jupyter.widget-view+json": {
       "model_id": "6ca7b8e17f1b4cd6ae0db30540d66c94",
       "version_major": 2,
       "version_minor": 0
      },
      "text/plain": [
       "train:   0%|          | 0/2125 [00:00<?, ?it/s]"
      ]
     },
     "metadata": {},
     "output_type": "display_data"
    },
    {
     "name": "stdout",
     "output_type": "stream",
     "text": [
      "Epoch : 184/250 -- Training loss 0.021451915162396345, --- Val loss 0.024356864392757416, --- accuray : 0.9921167654000532, --- recall : 0.9921047534647782\n"
     ]
    },
    {
     "data": {
      "application/vnd.jupyter.widget-view+json": {
       "model_id": "63c8bd3b5e344b7fa2eccdcaa081fe6e",
       "version_major": 2,
       "version_minor": 0
      },
      "text/plain": [
       "train:   0%|          | 0/2125 [00:00<?, ?it/s]"
      ]
     },
     "metadata": {},
     "output_type": "display_data"
    },
    {
     "name": "stdout",
     "output_type": "stream",
     "text": [
      "Epoch : 185/250 -- Training loss 0.0212698846042211, --- Val loss 0.024419302120804787, --- accuray : 0.9920441180681763, --- recall : 0.9920232613129217\n"
     ]
    },
    {
     "data": {
      "application/vnd.jupyter.widget-view+json": {
       "model_id": "8e22620994ef4a49bf2e6afc01eac5df",
       "version_major": 2,
       "version_minor": 0
      },
      "text/plain": [
       "train:   0%|          | 0/2125 [00:00<?, ?it/s]"
      ]
     },
     "metadata": {},
     "output_type": "display_data"
    },
    {
     "name": "stdout",
     "output_type": "stream",
     "text": [
      "Epoch : 186/250 -- Training loss 0.021499031187624067, --- Val loss 0.024119559675455093, --- accuray : 0.9920910935507001, --- recall : 0.9920776786266229\n"
     ]
    },
    {
     "data": {
      "application/vnd.jupyter.widget-view+json": {
       "model_id": "dfcfdb29a7b843ca8770f05f8e19613a",
       "version_major": 2,
       "version_minor": 0
      },
      "text/plain": [
       "train:   0%|          | 0/2125 [00:00<?, ?it/s]"
      ]
     },
     "metadata": {},
     "output_type": "display_data"
    },
    {
     "name": "stdout",
     "output_type": "stream",
     "text": [
      "Epoch : 187/250 -- Training loss 0.02119986412236604, --- Val loss 0.024076664820313454, --- accuray : 0.992058927680149, --- recall : 0.9920542892517524\n"
     ]
    },
    {
     "data": {
      "application/vnd.jupyter.widget-view+json": {
       "model_id": "efc00f86690c4d01ab3496d17dc03218",
       "version_major": 2,
       "version_minor": 0
      },
      "text/plain": [
       "train:   0%|          | 0/2125 [00:00<?, ?it/s]"
      ]
     },
     "metadata": {},
     "output_type": "display_data"
    },
    {
     "name": "stdout",
     "output_type": "stream",
     "text": [
      "Epoch : 188/250 -- Training loss 0.021625536547288954, --- Val loss 0.024364475160837173, --- accuray : 0.9920105889247888, --- recall : 0.9919993372444436\n"
     ]
    },
    {
     "data": {
      "application/vnd.jupyter.widget-view+json": {
       "model_id": "ce8cc934ebc74f849f4ffddf17ab3d8d",
       "version_major": 2,
       "version_minor": 0
      },
      "text/plain": [
       "train:   0%|          | 0/2125 [00:00<?, ?it/s]"
      ]
     },
     "metadata": {},
     "output_type": "display_data"
    },
    {
     "name": "stdout",
     "output_type": "stream",
     "text": [
      "Epoch : 189/250 -- Training loss 0.02138667582828716, --- Val loss 0.024326642975211143, --- accuray : 0.9919852241098486, --- recall : 0.9919710556494279\n"
     ]
    },
    {
     "data": {
      "application/vnd.jupyter.widget-view+json": {
       "model_id": "9e8547d3d110433fa104588b529830d4",
       "version_major": 2,
       "version_minor": 0
      },
      "text/plain": [
       "train:   0%|          | 0/2125 [00:00<?, ?it/s]"
      ]
     },
     "metadata": {},
     "output_type": "display_data"
    },
    {
     "name": "stdout",
     "output_type": "stream",
     "text": [
      "save model\n",
      "Epoch : 190/250 -- Training loss 0.021479689371251665, --- Val loss 0.024385973811149597, --- accuray : 0.9921682013515785, --- recall : 0.9921599005694863\n"
     ]
    },
    {
     "data": {
      "application/vnd.jupyter.widget-view+json": {
       "model_id": "09a41dde5f7c4f9abe761336bb6662a0",
       "version_major": 2,
       "version_minor": 0
      },
      "text/plain": [
       "train:   0%|          | 0/2125 [00:00<?, ?it/s]"
      ]
     },
     "metadata": {},
     "output_type": "display_data"
    },
    {
     "name": "stdout",
     "output_type": "stream",
     "text": [
      "Epoch : 191/250 -- Training loss 0.022067553101997713, --- Val loss 0.024236513301730156, --- accuray : 0.9919865381294007, --- recall : 0.9919705133499661\n"
     ]
    },
    {
     "data": {
      "application/vnd.jupyter.widget-view+json": {
       "model_id": "c5f5e13ec59d42b3b7276486a890d1fe",
       "version_major": 2,
       "version_minor": 0
      },
      "text/plain": [
       "train:   0%|          | 0/2125 [00:00<?, ?it/s]"
      ]
     },
     "metadata": {},
     "output_type": "display_data"
    },
    {
     "name": "stdout",
     "output_type": "stream",
     "text": [
      "save model\n",
      "Epoch : 192/250 -- Training loss 0.021098090040377642, --- Val loss 0.024160781875252724, --- accuray : 0.992221559506975, --- recall : 0.9922122896194754\n"
     ]
    },
    {
     "data": {
      "application/vnd.jupyter.widget-view+json": {
       "model_id": "52e8023c29d248889e4beac343141717",
       "version_major": 2,
       "version_minor": 0
      },
      "text/plain": [
       "train:   0%|          | 0/2125 [00:00<?, ?it/s]"
      ]
     },
     "metadata": {},
     "output_type": "display_data"
    },
    {
     "name": "stdout",
     "output_type": "stream",
     "text": [
      "Epoch : 193/250 -- Training loss 0.022038032446015515, --- Val loss 0.024259407073259354, --- accuray : 0.9919873618600406, --- recall : 0.9919707717603835\n"
     ]
    },
    {
     "data": {
      "application/vnd.jupyter.widget-view+json": {
       "model_id": "948ba189866d470db9d10c0125290307",
       "version_major": 2,
       "version_minor": 0
      },
      "text/plain": [
       "train:   0%|          | 0/2125 [00:00<?, ?it/s]"
      ]
     },
     "metadata": {},
     "output_type": "display_data"
    },
    {
     "name": "stdout",
     "output_type": "stream",
     "text": [
      "Epoch : 194/250 -- Training loss 0.02111186273002942, --- Val loss 0.02422676794230938, --- accuray : 0.992088596457043, --- recall : 0.9920787918011211\n"
     ]
    },
    {
     "data": {
      "application/vnd.jupyter.widget-view+json": {
       "model_id": "1d1be5f53f9f411f81237bd20a1aabae",
       "version_major": 2,
       "version_minor": 0
      },
      "text/plain": [
       "train:   0%|          | 0/2125 [00:00<?, ?it/s]"
      ]
     },
     "metadata": {},
     "output_type": "display_data"
    },
    {
     "name": "stdout",
     "output_type": "stream",
     "text": [
      "Epoch : 195/250 -- Training loss 0.02152809534052743, --- Val loss 0.02431606687605381, --- accuray : 0.9920900721657707, --- recall : 0.9920788147914319\n"
     ]
    },
    {
     "data": {
      "application/vnd.jupyter.widget-view+json": {
       "model_id": "52bc70311b1b4e28b9adac7f08fbcbea",
       "version_major": 2,
       "version_minor": 0
      },
      "text/plain": [
       "train:   0%|          | 0/2125 [00:00<?, ?it/s]"
      ]
     },
     "metadata": {},
     "output_type": "display_data"
    },
    {
     "name": "stdout",
     "output_type": "stream",
     "text": [
      "Epoch : 196/250 -- Training loss 0.02121798343182651, --- Val loss 0.024475375190377235, --- accuray : 0.9919834833765332, --- recall : 0.9919713685817728\n"
     ]
    },
    {
     "data": {
      "application/vnd.jupyter.widget-view+json": {
       "model_id": "0d79532f537f45219f2327f4eff4b6a5",
       "version_major": 2,
       "version_minor": 0
      },
      "text/plain": [
       "train:   0%|          | 0/2125 [00:00<?, ?it/s]"
      ]
     },
     "metadata": {},
     "output_type": "display_data"
    },
    {
     "name": "stdout",
     "output_type": "stream",
     "text": [
      "Epoch : 197/250 -- Training loss 0.021766059601063127, --- Val loss 0.024332212284207344, --- accuray : 0.9920372208850651, --- recall : 0.9920267621318244\n"
     ]
    },
    {
     "data": {
      "application/vnd.jupyter.widget-view+json": {
       "model_id": "a98c44abcaee483cb0cc6988bbb6923b",
       "version_major": 2,
       "version_minor": 0
      },
      "text/plain": [
       "train:   0%|          | 0/2125 [00:00<?, ?it/s]"
      ]
     },
     "metadata": {},
     "output_type": "display_data"
    },
    {
     "name": "stdout",
     "output_type": "stream",
     "text": [
      "Epoch : 198/250 -- Training loss 0.021285207369912636, --- Val loss 0.02418668568134308, --- accuray : 0.9920588778485614, --- recall : 0.9920550236925715\n"
     ]
    },
    {
     "data": {
      "application/vnd.jupyter.widget-view+json": {
       "model_id": "e6ec40a69b384107b5fc02555fa1968e",
       "version_major": 2,
       "version_minor": 0
      },
      "text/plain": [
       "train:   0%|          | 0/2125 [00:00<?, ?it/s]"
      ]
     },
     "metadata": {},
     "output_type": "display_data"
    },
    {
     "name": "stdout",
     "output_type": "stream",
     "text": [
      "Epoch : 199/250 -- Training loss 0.021333406007410412, --- Val loss 0.024389280006289482, --- accuray : 0.9920378992010386, --- recall : 0.9920251443513497\n"
     ]
    },
    {
     "data": {
      "application/vnd.jupyter.widget-view+json": {
       "model_id": "acd065672c5344db831b4551a61b5892",
       "version_major": 2,
       "version_minor": 0
      },
      "text/plain": [
       "train:   0%|          | 0/2125 [00:00<?, ?it/s]"
      ]
     },
     "metadata": {},
     "output_type": "display_data"
    },
    {
     "name": "stdout",
     "output_type": "stream",
     "text": [
      "Epoch : 200/250 -- Training loss 0.021202555146616172, --- Val loss 0.0242624394595623, --- accuray : 0.992143635425385, --- recall : 0.9921330800323129\n"
     ]
    },
    {
     "data": {
      "application/vnd.jupyter.widget-view+json": {
       "model_id": "ca0210813e1049c792a77718f4243e6b",
       "version_major": 2,
       "version_minor": 0
      },
      "text/plain": [
       "train:   0%|          | 0/2125 [00:00<?, ?it/s]"
      ]
     },
     "metadata": {},
     "output_type": "display_data"
    },
    {
     "name": "stdout",
     "output_type": "stream",
     "text": [
      "Epoch : 201/250 -- Training loss 0.02119362163890208, --- Val loss 0.024320492520928383, --- accuray : 0.9921163157912707, --- recall : 0.992106819885316\n"
     ]
    },
    {
     "data": {
      "application/vnd.jupyter.widget-view+json": {
       "model_id": "e9c1c215ebe44da19bc4a79611f5f3f9",
       "version_major": 2,
       "version_minor": 0
      },
      "text/plain": [
       "train:   0%|          | 0/2125 [00:00<?, ?it/s]"
      ]
     },
     "metadata": {},
     "output_type": "display_data"
    },
    {
     "name": "stdout",
     "output_type": "stream",
     "text": [
      "Epoch : 202/250 -- Training loss 0.022359215569463284, --- Val loss 0.024166926741600037, --- accuray : 0.9921171490242295, --- recall : 0.9921054157606811\n"
     ]
    },
    {
     "data": {
      "application/vnd.jupyter.widget-view+json": {
       "model_id": "85a912aaed6240b193e862e03f740fce",
       "version_major": 2,
       "version_minor": 0
      },
      "text/plain": [
       "train:   0%|          | 0/2125 [00:00<?, ?it/s]"
      ]
     },
     "metadata": {},
     "output_type": "display_data"
    },
    {
     "name": "stdout",
     "output_type": "stream",
     "text": [
      "Epoch : 203/250 -- Training loss 0.021088578363853125, --- Val loss 0.024336986243724823, --- accuray : 0.992059540006775, --- recall : 0.9920537988449964\n"
     ]
    },
    {
     "data": {
      "application/vnd.jupyter.widget-view+json": {
       "model_id": "0cad63402770497cb176b88a74d820f5",
       "version_major": 2,
       "version_minor": 0
      },
      "text/plain": [
       "train:   0%|          | 0/2125 [00:00<?, ?it/s]"
      ]
     },
     "metadata": {},
     "output_type": "display_data"
    },
    {
     "name": "stdout",
     "output_type": "stream",
     "text": [
      "Epoch : 204/250 -- Training loss 0.021444275812019922, --- Val loss 0.02420281246304512, --- accuray : 0.9921698692236907, --- recall : 0.992158673233595\n"
     ]
    },
    {
     "data": {
      "application/vnd.jupyter.widget-view+json": {
       "model_id": "62b130db22374bb595b34e6e7d299440",
       "version_major": 2,
       "version_minor": 0
      },
      "text/plain": [
       "train:   0%|          | 0/2125 [00:00<?, ?it/s]"
      ]
     },
     "metadata": {},
     "output_type": "display_data"
    },
    {
     "name": "stdout",
     "output_type": "stream",
     "text": [
      "Epoch : 205/250 -- Training loss 0.02196952928009662, --- Val loss 0.02422507479786873, --- accuray : 0.9918993773574787, --- recall : 0.9918937391178277\n"
     ]
    },
    {
     "data": {
      "application/vnd.jupyter.widget-view+json": {
       "model_id": "66dd4b5df3c140179b716056ed4e2c3b",
       "version_major": 2,
       "version_minor": 0
      },
      "text/plain": [
       "train:   0%|          | 0/2125 [00:00<?, ?it/s]"
      ]
     },
     "metadata": {},
     "output_type": "display_data"
    },
    {
     "name": "stdout",
     "output_type": "stream",
     "text": [
      "Epoch : 206/250 -- Training loss 0.021192361253436983, --- Val loss 0.024386951699852943, --- accuray : 0.9920109598657794, --- recall : 0.9919981365405727\n"
     ]
    },
    {
     "data": {
      "application/vnd.jupyter.widget-view+json": {
       "model_id": "64d3f1d4c88141cb8be185ebc5423795",
       "version_major": 2,
       "version_minor": 0
      },
      "text/plain": [
       "train:   0%|          | 0/2125 [00:00<?, ?it/s]"
      ]
     },
     "metadata": {},
     "output_type": "display_data"
    },
    {
     "name": "stdout",
     "output_type": "stream",
     "text": [
      "Epoch : 207/250 -- Training loss 0.021183046235579667, --- Val loss 0.02426968514919281, --- accuray : 0.9919556356300424, --- recall : 0.9919473704204389\n"
     ]
    },
    {
     "data": {
      "application/vnd.jupyter.widget-view+json": {
       "model_id": "d55e8ecbd8954d78a353dd378ec8d565",
       "version_major": 2,
       "version_minor": 0
      },
      "text/plain": [
       "train:   0%|          | 0/2125 [00:00<?, ?it/s]"
      ]
     },
     "metadata": {},
     "output_type": "display_data"
    },
    {
     "name": "stdout",
     "output_type": "stream",
     "text": [
      "Epoch : 208/250 -- Training loss 0.021726150777725065, --- Val loss 0.0243131872266531, --- accuray : 0.991927744286136, --- recall : 0.9919199951553894\n"
     ]
    },
    {
     "data": {
      "application/vnd.jupyter.widget-view+json": {
       "model_id": "db5f37e5791e492d9704469075ee28b0",
       "version_major": 2,
       "version_minor": 0
      },
      "text/plain": [
       "train:   0%|          | 0/2125 [00:00<?, ?it/s]"
      ]
     },
     "metadata": {},
     "output_type": "display_data"
    },
    {
     "name": "stdout",
     "output_type": "stream",
     "text": [
      "Epoch : 209/250 -- Training loss 0.021249150402638514, --- Val loss 0.02437194250524044, --- accuray : 0.9921392018292099, --- recall : 0.9921335269467635\n"
     ]
    },
    {
     "data": {
      "application/vnd.jupyter.widget-view+json": {
       "model_id": "b5589acfa3fb4b3c830700d31e9bf3bf",
       "version_major": 2,
       "version_minor": 0
      },
      "text/plain": [
       "train:   0%|          | 0/2125 [00:00<?, ?it/s]"
      ]
     },
     "metadata": {},
     "output_type": "display_data"
    },
    {
     "name": "stdout",
     "output_type": "stream",
     "text": [
      "Epoch : 210/250 -- Training loss 0.021163929504629992, --- Val loss 0.024280110374093056, --- accuray : 0.9921899514029494, --- recall : 0.9921890227293624\n"
     ]
    },
    {
     "data": {
      "application/vnd.jupyter.widget-view+json": {
       "model_id": "361e5ebb0a3d494ab8b2464bdfc7d563",
       "version_major": 2,
       "version_minor": 0
      },
      "text/plain": [
       "train:   0%|          | 0/2125 [00:00<?, ?it/s]"
      ]
     },
     "metadata": {},
     "output_type": "display_data"
    },
    {
     "name": "stdout",
     "output_type": "stream",
     "text": [
      "save model\n",
      "Epoch : 211/250 -- Training loss 0.021255623372620904, --- Val loss 0.02434610389173031, --- accuray : 0.9922746151407459, --- recall : 0.9922672117889372\n"
     ]
    },
    {
     "data": {
      "application/vnd.jupyter.widget-view+json": {
       "model_id": "52ecc06318434ba1b89f60f1f4d4dda0",
       "version_major": 2,
       "version_minor": 0
      },
      "text/plain": [
       "train:   0%|          | 0/2125 [00:00<?, ?it/s]"
      ]
     },
     "metadata": {},
     "output_type": "display_data"
    },
    {
     "name": "stdout",
     "output_type": "stream",
     "text": [
      "Epoch : 212/250 -- Training loss 0.020950642553658007, --- Val loss 0.024422472342848778, --- accuray : 0.9918714590884431, --- recall : 0.9918684302733161\n"
     ]
    },
    {
     "data": {
      "application/vnd.jupyter.widget-view+json": {
       "model_id": "50f1cd7076c7444f94b5e228b6357cfa",
       "version_major": 2,
       "version_minor": 0
      },
      "text/plain": [
       "train:   0%|          | 0/2125 [00:00<?, ?it/s]"
      ]
     },
     "metadata": {},
     "output_type": "display_data"
    },
    {
     "name": "stdout",
     "output_type": "stream",
     "text": [
      "Epoch : 213/250 -- Training loss 0.021751876491436953, --- Val loss 0.02425583079457283, --- accuray : 0.9919834737794744, --- recall : 0.9919717179453309\n"
     ]
    },
    {
     "data": {
      "application/vnd.jupyter.widget-view+json": {
       "model_id": "ccec9b99eba54a8a909908fe5265fd07",
       "version_major": 2,
       "version_minor": 0
      },
      "text/plain": [
       "train:   0%|          | 0/2125 [00:00<?, ?it/s]"
      ]
     },
     "metadata": {},
     "output_type": "display_data"
    },
    {
     "name": "stdout",
     "output_type": "stream",
     "text": [
      "Epoch : 214/250 -- Training loss 0.021746030548916145, --- Val loss 0.024235660210251808, --- accuray : 0.9919065333475601, --- recall : 0.9918906869071457\n"
     ]
    },
    {
     "data": {
      "application/vnd.jupyter.widget-view+json": {
       "model_id": "a30b6ef02e974b128df75cd7d630900a",
       "version_major": 2,
       "version_minor": 0
      },
      "text/plain": [
       "train:   0%|          | 0/2125 [00:00<?, ?it/s]"
      ]
     },
     "metadata": {},
     "output_type": "display_data"
    },
    {
     "name": "stdout",
     "output_type": "stream",
     "text": [
      "Epoch : 215/250 -- Training loss 0.021451517386231845, --- Val loss 0.024284834042191505, --- accuray : 0.9919802000930684, --- recall : 0.9919744043955104\n"
     ]
    },
    {
     "data": {
      "application/vnd.jupyter.widget-view+json": {
       "model_id": "215314b2de2b4932ad948220bf4eabae",
       "version_major": 2,
       "version_minor": 0
      },
      "text/plain": [
       "train:   0%|          | 0/2125 [00:00<?, ?it/s]"
      ]
     },
     "metadata": {},
     "output_type": "display_data"
    },
    {
     "name": "stdout",
     "output_type": "stream",
     "text": [
      "Epoch : 216/250 -- Training loss 0.021545917077702197, --- Val loss 0.02433028258383274, --- accuray : 0.992138707297974, --- recall : 0.9921345012395596\n"
     ]
    },
    {
     "data": {
      "application/vnd.jupyter.widget-view+json": {
       "model_id": "77f3abd16b2c4fbb937538d592f6ae43",
       "version_major": 2,
       "version_minor": 0
      },
      "text/plain": [
       "train:   0%|          | 0/2125 [00:00<?, ?it/s]"
      ]
     },
     "metadata": {},
     "output_type": "display_data"
    },
    {
     "name": "stdout",
     "output_type": "stream",
     "text": [
      "Epoch : 217/250 -- Training loss 0.021682017151341663, --- Val loss 0.024266012012958527, --- accuray : 0.99213803348591, --- recall : 0.9921340477317429\n"
     ]
    },
    {
     "data": {
      "application/vnd.jupyter.widget-view+json": {
       "model_id": "4cc28c65db8c4656b8e5c4285b449c02",
       "version_major": 2,
       "version_minor": 0
      },
      "text/plain": [
       "train:   0%|          | 0/2125 [00:00<?, ?it/s]"
      ]
     },
     "metadata": {},
     "output_type": "display_data"
    },
    {
     "name": "stdout",
     "output_type": "stream",
     "text": [
      "save model\n",
      "Epoch : 218/250 -- Training loss 0.02188601836523808, --- Val loss 0.02417280338704586, --- accuray : 0.9922782607431712, --- recall : 0.9922650876724882\n"
     ]
    },
    {
     "data": {
      "application/vnd.jupyter.widget-view+json": {
       "model_id": "b3b32f6af28b450b914833f61cfd9d4f",
       "version_major": 2,
       "version_minor": 0
      },
      "text/plain": [
       "train:   0%|          | 0/2125 [00:00<?, ?it/s]"
      ]
     },
     "metadata": {},
     "output_type": "display_data"
    },
    {
     "name": "stdout",
     "output_type": "stream",
     "text": [
      "Epoch : 219/250 -- Training loss 0.02149794816525023, --- Val loss 0.024254286661744118, --- accuray : 0.9921435791679671, --- recall : 0.9921325592473336\n"
     ]
    },
    {
     "data": {
      "application/vnd.jupyter.widget-view+json": {
       "model_id": "3a74a77e31504963a4f0939240a2960b",
       "version_major": 2,
       "version_minor": 0
      },
      "text/plain": [
       "train:   0%|          | 0/2125 [00:00<?, ?it/s]"
      ]
     },
     "metadata": {},
     "output_type": "display_data"
    },
    {
     "name": "stdout",
     "output_type": "stream",
     "text": [
      "Epoch : 220/250 -- Training loss 0.020147016229436678, --- Val loss 0.024228159338235855, --- accuray : 0.992169384850968, --- recall : 0.9921598020104913\n"
     ]
    },
    {
     "data": {
      "application/vnd.jupyter.widget-view+json": {
       "model_id": "f24d4d2aebed472c8ab7a3e9368fbe71",
       "version_major": 2,
       "version_minor": 0
      },
      "text/plain": [
       "train:   0%|          | 0/2125 [00:00<?, ?it/s]"
      ]
     },
     "metadata": {},
     "output_type": "display_data"
    },
    {
     "name": "stdout",
     "output_type": "stream",
     "text": [
      "Epoch : 221/250 -- Training loss 0.02170029466408168, --- Val loss 0.024220986291766167, --- accuray : 0.9921648438863209, --- recall : 0.9921616990301982\n"
     ]
    },
    {
     "data": {
      "application/vnd.jupyter.widget-view+json": {
       "model_id": "75800b97a1eb4bde955f63fe4ba40308",
       "version_major": 2,
       "version_minor": 0
      },
      "text/plain": [
       "train:   0%|          | 0/2125 [00:00<?, ?it/s]"
      ]
     },
     "metadata": {},
     "output_type": "display_data"
    },
    {
     "name": "stdout",
     "output_type": "stream",
     "text": [
      "Epoch : 222/250 -- Training loss 0.021825120083792546, --- Val loss 0.02444220706820488, --- accuray : 0.9919568886524811, --- recall : 0.9919470210568809\n"
     ]
    },
    {
     "data": {
      "application/vnd.jupyter.widget-view+json": {
       "model_id": "4012d4f176c04b7a861d16fdd840f017",
       "version_major": 2,
       "version_minor": 0
      },
      "text/plain": [
       "train:   0%|          | 0/2125 [00:00<?, ?it/s]"
      ]
     },
     "metadata": {},
     "output_type": "display_data"
    },
    {
     "name": "stdout",
     "output_type": "stream",
     "text": [
      "Epoch : 223/250 -- Training loss 0.020983764254303157, --- Val loss 0.024307606741786003, --- accuray : 0.9921457415397427, --- recall : 0.9921310185113714\n"
     ]
    },
    {
     "data": {
      "application/vnd.jupyter.widget-view+json": {
       "model_id": "02bc1a7c8e8e461a8d0c15779c2f7880",
       "version_major": 2,
       "version_minor": 0
      },
      "text/plain": [
       "train:   0%|          | 0/2125 [00:00<?, ?it/s]"
      ]
     },
     "metadata": {},
     "output_type": "display_data"
    },
    {
     "name": "stdout",
     "output_type": "stream",
     "text": [
      "Epoch : 224/250 -- Training loss 0.021758006035418744, --- Val loss 0.02430141158401966, --- accuray : 0.992007896115392, --- recall : 0.9919994912608179\n"
     ]
    },
    {
     "data": {
      "application/vnd.jupyter.widget-view+json": {
       "model_id": "77332b6c6fb6443b915ea9a148a0f9b7",
       "version_major": 2,
       "version_minor": 0
      },
      "text/plain": [
       "train:   0%|          | 0/2125 [00:00<?, ?it/s]"
      ]
     },
     "metadata": {},
     "output_type": "display_data"
    },
    {
     "name": "stdout",
     "output_type": "stream",
     "text": [
      "Epoch : 225/250 -- Training loss 0.020994293530464773, --- Val loss 0.024319201707839966, --- accuray : 0.99216774504629, --- recall : 0.9921610427872848\n"
     ]
    },
    {
     "data": {
      "application/vnd.jupyter.widget-view+json": {
       "model_id": "9075774aa3d6477088e3d3f71bb2f798",
       "version_major": 2,
       "version_minor": 0
      },
      "text/plain": [
       "train:   0%|          | 0/2125 [00:00<?, ?it/s]"
      ]
     },
     "metadata": {},
     "output_type": "display_data"
    },
    {
     "name": "stdout",
     "output_type": "stream",
     "text": [
      "Epoch : 226/250 -- Training loss 0.02168748594241847, --- Val loss 0.024405596777796745, --- accuray : 0.9920600884338546, --- recall : 0.9920541083535733\n"
     ]
    },
    {
     "data": {
      "application/vnd.jupyter.widget-view+json": {
       "model_id": "9bc0252d4b1246a792debb765c948fa5",
       "version_major": 2,
       "version_minor": 0
      },
      "text/plain": [
       "train:   0%|          | 0/2125 [00:00<?, ?it/s]"
      ]
     },
     "metadata": {},
     "output_type": "display_data"
    },
    {
     "name": "stdout",
     "output_type": "stream",
     "text": [
      "Epoch : 227/250 -- Training loss 0.020947933024096796, --- Val loss 0.02435365319252014, --- accuray : 0.9920886734005199, --- recall : 0.9920792267504976\n"
     ]
    },
    {
     "data": {
      "application/vnd.jupyter.widget-view+json": {
       "model_id": "83d69a95840d45d48cceebff6e591075",
       "version_major": 2,
       "version_minor": 0
      },
      "text/plain": [
       "train:   0%|          | 0/2125 [00:00<?, ?it/s]"
      ]
     },
     "metadata": {},
     "output_type": "display_data"
    },
    {
     "name": "stdout",
     "output_type": "stream",
     "text": [
      "Epoch : 228/250 -- Training loss 0.022246424321215326, --- Val loss 0.02430739998817444, --- accuray : 0.9920141641510434, --- recall : 0.9919971143192152\n"
     ]
    },
    {
     "data": {
      "application/vnd.jupyter.widget-view+json": {
       "model_id": "b6913a49fa28450b9d714f5ccc7041db",
       "version_major": 2,
       "version_minor": 0
      },
      "text/plain": [
       "train:   0%|          | 0/2125 [00:00<?, ?it/s]"
      ]
     },
     "metadata": {},
     "output_type": "display_data"
    },
    {
     "name": "stdout",
     "output_type": "stream",
     "text": [
      "Epoch : 229/250 -- Training loss 0.02178437180687016, --- Val loss 0.02452203258872032, --- accuray : 0.9919872017915816, --- recall : 0.9919699065114423\n"
     ]
    },
    {
     "data": {
      "application/vnd.jupyter.widget-view+json": {
       "model_id": "be75dbafed914a64960d150506e15850",
       "version_major": 2,
       "version_minor": 0
      },
      "text/plain": [
       "train:   0%|          | 0/2125 [00:00<?, ?it/s]"
      ]
     },
     "metadata": {},
     "output_type": "display_data"
    },
    {
     "name": "stdout",
     "output_type": "stream",
     "text": [
      "Epoch : 230/250 -- Training loss 0.021404184427475284, --- Val loss 0.02435155399143696, --- accuray : 0.9918573133191828, --- recall : 0.9918361236506504\n"
     ]
    },
    {
     "data": {
      "application/vnd.jupyter.widget-view+json": {
       "model_id": "ac1c520e05ad40e898a4bf74782db862",
       "version_major": 2,
       "version_minor": 0
      },
      "text/plain": [
       "train:   0%|          | 0/2125 [00:00<?, ?it/s]"
      ]
     },
     "metadata": {},
     "output_type": "display_data"
    },
    {
     "name": "stdout",
     "output_type": "stream",
     "text": [
      "Epoch : 231/250 -- Training loss 0.0211310913843678, --- Val loss 0.02422230876982212, --- accuray : 0.9922449471367989, --- recall : 0.9922425811695472\n"
     ]
    },
    {
     "data": {
      "application/vnd.jupyter.widget-view+json": {
       "model_id": "780b576ed71e40fca000509c912710dd",
       "version_major": 2,
       "version_minor": 0
      },
      "text/plain": [
       "train:   0%|          | 0/2125 [00:00<?, ?it/s]"
      ]
     },
     "metadata": {},
     "output_type": "display_data"
    },
    {
     "name": "stdout",
     "output_type": "stream",
     "text": [
      "Epoch : 232/250 -- Training loss 0.02088887529762681, --- Val loss 0.024428565055131912, --- accuray : 0.9921904645442817, --- recall : 0.9921904869611886\n"
     ]
    },
    {
     "data": {
      "application/vnd.jupyter.widget-view+json": {
       "model_id": "cb6f87664dfa487ba1070e3261359f18",
       "version_major": 2,
       "version_minor": 0
      },
      "text/plain": [
       "train:   0%|          | 0/2125 [00:00<?, ?it/s]"
      ]
     },
     "metadata": {},
     "output_type": "display_data"
    },
    {
     "name": "stdout",
     "output_type": "stream",
     "text": [
      "Epoch : 233/250 -- Training loss 0.021528738847166738, --- Val loss 0.02441306598484516, --- accuray : 0.9919629426658709, --- recall : 0.9919424136612317\n"
     ]
    },
    {
     "data": {
      "application/vnd.jupyter.widget-view+json": {
       "model_id": "713df2ed4ba44301ad9a874286b5e818",
       "version_major": 2,
       "version_minor": 0
      },
      "text/plain": [
       "train:   0%|          | 0/2125 [00:00<?, ?it/s]"
      ]
     },
     "metadata": {},
     "output_type": "display_data"
    },
    {
     "name": "stdout",
     "output_type": "stream",
     "text": [
      "Epoch : 234/250 -- Training loss 0.02144362250890802, --- Val loss 0.024231357499957085, --- accuray : 0.9921431110229448, --- recall : 0.9921320507498633\n"
     ]
    },
    {
     "data": {
      "application/vnd.jupyter.widget-view+json": {
       "model_id": "246338bd378a43fd8db9ba1f34750a6f",
       "version_major": 2,
       "version_minor": 0
      },
      "text/plain": [
       "train:   0%|          | 0/2125 [00:00<?, ?it/s]"
      ]
     },
     "metadata": {},
     "output_type": "display_data"
    },
    {
     "name": "stdout",
     "output_type": "stream",
     "text": [
      "Epoch : 235/250 -- Training loss 0.021198751040220752, --- Val loss 0.024363290518522263, --- accuray : 0.9919330459375895, --- recall : 0.9919172588330942\n"
     ]
    },
    {
     "data": {
      "application/vnd.jupyter.widget-view+json": {
       "model_id": "33f2bcc8c9904516a9da846d5d4a94cc",
       "version_major": 2,
       "version_minor": 0
      },
      "text/plain": [
       "train:   0%|          | 0/2125 [00:00<?, ?it/s]"
      ]
     },
     "metadata": {},
     "output_type": "display_data"
    },
    {
     "name": "stdout",
     "output_type": "stream",
     "text": [
      "Epoch : 236/250 -- Training loss 0.021780080162796794, --- Val loss 0.024369532242417336, --- accuray : 0.9921955017857826, --- recall : 0.9921853862027415\n"
     ]
    },
    {
     "data": {
      "application/vnd.jupyter.widget-view+json": {
       "model_id": "8428ebe52b3c45cdbe6ccfdc8e9d8d04",
       "version_major": 2,
       "version_minor": 0
      },
      "text/plain": [
       "train:   0%|          | 0/2125 [00:00<?, ?it/s]"
      ]
     },
     "metadata": {},
     "output_type": "display_data"
    },
    {
     "name": "stdout",
     "output_type": "stream",
     "text": [
      "Epoch : 237/250 -- Training loss 0.02110955104417414, --- Val loss 0.024252982810139656, --- accuray : 0.9921941397075289, --- recall : 0.9921868638754698\n"
     ]
    },
    {
     "data": {
      "application/vnd.jupyter.widget-view+json": {
       "model_id": "006a0f8c94e84cf8bd2f68ad78a4fdea",
       "version_major": 2,
       "version_minor": 0
      },
      "text/plain": [
       "train:   0%|          | 0/2125 [00:00<?, ?it/s]"
      ]
     },
     "metadata": {},
     "output_type": "display_data"
    },
    {
     "name": "stdout",
     "output_type": "stream",
     "text": [
      "Epoch : 238/250 -- Training loss 0.021724504925748882, --- Val loss 0.024278951808810234, --- accuray : 0.9920923406725386, --- recall : 0.9920778735060807\n"
     ]
    },
    {
     "data": {
      "application/vnd.jupyter.widget-view+json": {
       "model_id": "cf9631c811c44587bf4a197083a0dc25",
       "version_major": 2,
       "version_minor": 0
      },
      "text/plain": [
       "train:   0%|          | 0/2125 [00:00<?, ?it/s]"
      ]
     },
     "metadata": {},
     "output_type": "display_data"
    },
    {
     "name": "stdout",
     "output_type": "stream",
     "text": [
      "Epoch : 239/250 -- Training loss 0.021179764050589737, --- Val loss 0.024377115070819855, --- accuray : 0.9920347574151217, --- recall : 0.9920267335562498\n"
     ]
    },
    {
     "data": {
      "application/vnd.jupyter.widget-view+json": {
       "model_id": "7b4297158c714fad869068808c807293",
       "version_major": 2,
       "version_minor": 0
      },
      "text/plain": [
       "train:   0%|          | 0/2125 [00:00<?, ?it/s]"
      ]
     },
     "metadata": {},
     "output_type": "display_data"
    },
    {
     "name": "stdout",
     "output_type": "stream",
     "text": [
      "Epoch : 240/250 -- Training loss 0.02148699263809249, --- Val loss 0.024226795881986618, --- accuray : 0.9921713283834656, --- recall : 0.9921584928031418\n"
     ]
    },
    {
     "data": {
      "application/vnd.jupyter.widget-view+json": {
       "model_id": "762edcb52e374c6fb4673ec060532208",
       "version_major": 2,
       "version_minor": 0
      },
      "text/plain": [
       "train:   0%|          | 0/2125 [00:00<?, ?it/s]"
      ]
     },
     "metadata": {},
     "output_type": "display_data"
    },
    {
     "name": "stdout",
     "output_type": "stream",
     "text": [
      "Epoch : 241/250 -- Training loss 0.021153280691106748, --- Val loss 0.024183278903365135, --- accuray : 0.9921428757275113, --- recall : 0.9921317382852444\n"
     ]
    },
    {
     "data": {
      "application/vnd.jupyter.widget-view+json": {
       "model_id": "9619a69bd33a48dda71132131db2a15b",
       "version_major": 2,
       "version_minor": 0
      },
      "text/plain": [
       "train:   0%|          | 0/2125 [00:00<?, ?it/s]"
      ]
     },
     "metadata": {},
     "output_type": "display_data"
    },
    {
     "name": "stdout",
     "output_type": "stream",
     "text": [
      "Epoch : 242/250 -- Training loss 0.020995117102544206, --- Val loss 0.02421543374657631, --- accuray : 0.9922463343042024, --- recall : 0.9922406836821145\n"
     ]
    },
    {
     "data": {
      "application/vnd.jupyter.widget-view+json": {
       "model_id": "5e67ea40b0284db98b25e73be60747c6",
       "version_major": 2,
       "version_minor": 0
      },
      "text/plain": [
       "train:   0%|          | 0/2125 [00:00<?, ?it/s]"
      ]
     },
     "metadata": {},
     "output_type": "display_data"
    },
    {
     "name": "stdout",
     "output_type": "stream",
     "text": [
      "Epoch : 243/250 -- Training loss 0.02129127988201799, --- Val loss 0.02422766201198101, --- accuray : 0.9922213807087354, --- recall : 0.9922132959116142\n"
     ]
    },
    {
     "data": {
      "application/vnd.jupyter.widget-view+json": {
       "model_id": "b9679a50475248eea63909d6ab4742e5",
       "version_major": 2,
       "version_minor": 0
      },
      "text/plain": [
       "train:   0%|          | 0/2125 [00:00<?, ?it/s]"
      ]
     },
     "metadata": {},
     "output_type": "display_data"
    },
    {
     "name": "stdout",
     "output_type": "stream",
     "text": [
      "Epoch : 244/250 -- Training loss 0.020746738936587728, --- Val loss 0.024302395060658455, --- accuray : 0.9921146278561406, --- recall : 0.9921056636862382\n"
     ]
    },
    {
     "data": {
      "application/vnd.jupyter.widget-view+json": {
       "model_id": "5161f2a4ede041b7a64f21ece4e83d2d",
       "version_major": 2,
       "version_minor": 0
      },
      "text/plain": [
       "train:   0%|          | 0/2125 [00:00<?, ?it/s]"
      ]
     },
     "metadata": {},
     "output_type": "display_data"
    },
    {
     "name": "stdout",
     "output_type": "stream",
     "text": [
      "Epoch : 245/250 -- Training loss 0.021268500329207574, --- Val loss 0.024327043443918228, --- accuray : 0.9920373402931185, --- recall : 0.9920241921134128\n"
     ]
    },
    {
     "data": {
      "application/vnd.jupyter.widget-view+json": {
       "model_id": "ac8506dfdad9470fba4f7c2f7eb0ef71",
       "version_major": 2,
       "version_minor": 0
      },
      "text/plain": [
       "train:   0%|          | 0/2125 [00:00<?, ?it/s]"
      ]
     },
     "metadata": {},
     "output_type": "display_data"
    },
    {
     "name": "stdout",
     "output_type": "stream",
     "text": [
      "Epoch : 246/250 -- Training loss 0.022107630871195237, --- Val loss 0.02422484941780567, --- accuray : 0.9921933952297912, --- recall : 0.9921879640767918\n"
     ]
    },
    {
     "data": {
      "application/vnd.jupyter.widget-view+json": {
       "model_id": "dcf9e374ffba430f8156704712cf16c5",
       "version_major": 2,
       "version_minor": 0
      },
      "text/plain": [
       "train:   0%|          | 0/2125 [00:00<?, ?it/s]"
      ]
     },
     "metadata": {},
     "output_type": "display_data"
    },
    {
     "name": "stdout",
     "output_type": "stream",
     "text": [
      "Epoch : 247/250 -- Training loss 0.020801263618344605, --- Val loss 0.024568913504481316, --- accuray : 0.9918827450032378, --- recall : 0.9918638424442099\n"
     ]
    },
    {
     "data": {
      "application/vnd.jupyter.widget-view+json": {
       "model_id": "8c58f436c7884266958acd91aa77de0b",
       "version_major": 2,
       "version_minor": 0
      },
      "text/plain": [
       "train:   0%|          | 0/2125 [00:00<?, ?it/s]"
      ]
     },
     "metadata": {},
     "output_type": "display_data"
    },
    {
     "name": "stdout",
     "output_type": "stream",
     "text": [
      "Epoch : 248/250 -- Training loss 0.021361626946168732, --- Val loss 0.024339191615581512, --- accuray : 0.992245249367485, --- recall : 0.9922406606918035\n"
     ]
    },
    {
     "data": {
      "application/vnd.jupyter.widget-view+json": {
       "model_id": "3e3e83d813944017b5375ef547ce0ca0",
       "version_major": 2,
       "version_minor": 0
      },
      "text/plain": [
       "train:   0%|          | 0/2125 [00:00<?, ?it/s]"
      ]
     },
     "metadata": {},
     "output_type": "display_data"
    },
    {
     "name": "stdout",
     "output_type": "stream",
     "text": [
      "Epoch : 249/250 -- Training loss 0.022269846542745227, --- Val loss 0.02433551847934723, --- accuray : 0.9921451839988249, --- recall : 0.9921310860064757\n"
     ]
    },
    {
     "data": {
      "application/vnd.jupyter.widget-view+json": {
       "model_id": "b46973f2e0f242b2b3bb7e8c03b69410",
       "version_major": 2,
       "version_minor": 0
      },
      "text/plain": [
       "train:   0%|          | 0/2125 [00:00<?, ?it/s]"
      ]
     },
     "metadata": {},
     "output_type": "display_data"
    },
    {
     "name": "stdout",
     "output_type": "stream",
     "text": [
      "Epoch : 250/250 -- Training loss 0.021625603010343827, --- Val loss 0.024315521121025085, --- accuray : 0.9920887835907586, --- recall : 0.9920795761140557\n",
      "execution time:  28546.727413654327\n",
      "Predicted     0     1     2     3     4\n",
      "True                                   \n",
      "0          7451    61    22    17     9\n",
      "1            57  7366     9     2     0\n",
      "2            35     9  7381    42     1\n",
      "3            11     0     4  7472     0\n",
      "4            13     1     4     0  7533\n",
      "              precision    recall  f1-score   support\n",
      "\n",
      "           0       0.98      0.99      0.99      7560\n",
      "           1       0.99      0.99      0.99      7434\n",
      "           2       0.99      0.99      0.99      7468\n",
      "           3       0.99      1.00      0.99      7487\n",
      "           4       1.00      1.00      1.00      7551\n",
      "\n",
      "    accuracy                           0.99     37500\n",
      "   macro avg       0.99      0.99      0.99     37500\n",
      "weighted avg       0.99      0.99      0.99     37500\n",
      "\n"
     ]
    },
    {
     "data": {
      "image/png": "[encoded data removed]",
      "text/plain": [
       "<Figure size 640x480 with 1 Axes>"
      ]
     },
     "metadata": {},
     "output_type": "display_data"
    }
   ],
   "source": [
    "train_a_model(model,train_loader,Gau,test_set,epochs = epochs,lr=1e-3,outmodelname='../models/C2_flyshift3.pkl')"
   ]
  },
  {
   "cell_type": "code",
   "execution_count": 9,
   "id": "a3ad394e-37ea-49f5-8f19-99e540bbf014",
   "metadata": {},
   "outputs": [
    {
     "name": "stdout",
     "output_type": "stream",
     "text": [
      "              precision    recall  f1-score   support\n",
      "\n",
      "           0      0.993     0.991     0.992     18118\n",
      "           1      0.830     0.836     0.833       556\n",
      "           2      0.957     0.960     0.959      1448\n",
      "           3      0.818     0.858     0.837       162\n",
      "           4      0.988     0.991     0.990      1608\n",
      "\n",
      "    accuracy                          0.984     21892\n",
      "   macro avg      0.917     0.927     0.922     21892\n",
      "weighted avg      0.984     0.984     0.984     21892\n",
      "\n"
     ]
    },
    {
     "data": {
      "image/png": "[encoded data removed]",
      "text/plain": [
       "<Figure size 400x400 with 1 Axes>"
      ]
     },
     "metadata": {},
     "output_type": "display_data"
    }
   ],
   "source": [
    "model_1=joblib.load('../models/C2_flyshift.pkl')\n",
    "y_true, y_pred, accuracy, recall, loss = evaluate_model(model_1, valid_set)\n",
    "table = pd.crosstab(y_true,y_pred,rownames=['True'],colnames=['Predicted'])\n",
    "fig = plt.figure(figsize=(4,4))\n",
    "ax = fig.add_subplot()\n",
    "\n",
    "sns.heatmap(table,cmap='Blues',annot=True,fmt='d',cbar=False,linecolor='black',ax=ax)\n",
    "ax.set_aspect('equal')\n",
    "print(classification_report(y_true, y_pred,digits=3))"
   ]
  },
  {
   "cell_type": "markdown",
   "id": "54199318-2259-4358-8425-3950aee1be5c",
   "metadata": {},
   "source": [
    "### kernels"
   ]
  },
  {
   "cell_type": "code",
   "execution_count": 13,
   "id": "2ee80d76-25b4-4893-a23e-631a70e6b5e7",
   "metadata": {},
   "outputs": [
    {
     "data": {
      "image/png": "[encoded data removed]",
      "text/plain": [
       "<Figure size 640x480 with 80 Axes>"
      ]
     },
     "metadata": {},
     "output_type": "display_data"
    }
   ],
   "source": [
    "layer1 = model_1[0]\n",
    "N = layer1.weight.shape[0]\n",
    "fig,ax = plt.subplots(nrows=10,ncols=8)\n",
    "ax =ax.flatten()\n",
    "for k in range(min(N,80)):\n",
    "    ax[k].plot(layer1.weight[k,0,:].detach().numpy())\n",
    "    ax[k].set_axis_off()\n",
    "    ax[k].set_ylim([-2,2])"
   ]
  },
  {
   "cell_type": "code",
   "execution_count": null,
   "id": "d74dcc73-9219-4fa0-80bc-7ebe22ea508a",
   "metadata": {},
   "outputs": [],
   "source": []
  }
 ],
 "metadata": {
  "kernelspec": {
   "display_name": "Python 3 (ipykernel)",
   "language": "python",
   "name": "python3"
  },
  "language_info": {
   "codemirror_mode": {
    "name": "ipython",
    "version": 3
   },
   "file_extension": ".py",
   "mimetype": "text/x-python",
   "name": "python",
   "nbconvert_exporter": "python",
   "pygments_lexer": "ipython3",
   "version": "3.9.13"
  }
 },
 "nbformat": 4,
 "nbformat_minor": 5
}
