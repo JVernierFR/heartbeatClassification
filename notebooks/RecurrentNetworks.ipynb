{
 "cells": [
  {
   "cell_type": "markdown",
   "id": "c60a9a1e-f803-4ad7-8daf-416b60849a8a",
   "metadata": {},
   "source": [
    "# Reseaux récurrents"
   ]
  },
  {
   "cell_type": "markdown",
   "id": "83a81ff3-b9ec-4b37-b713-5058a077f706",
   "metadata": {},
   "source": [
    "les réseaux récurrents permettent de mémoriser l'états de ou des échantillons précédents. la couche RNN envoie à l'échantillon n+1 l'activation de l'échantillon n"
   ]
  },
  {
   "cell_type": "markdown",
   "id": "fb07f848-c589-4577-bd2b-33bf1b5baf6a",
   "metadata": {},
   "source": [
    "il faut faire attention aux dimensions attendues"
   ]
  },
  {
   "cell_type": "markdown",
   "id": "84d9bde4-81da-4508-9d9d-1b2631245bff",
   "metadata": {},
   "source": [
    "On travaille sur une base sur echantillonée. Je une couche RNN seule, puis une couche RNN après une couche de convolutions"
   ]
  },
  {
   "cell_type": "markdown",
   "id": "82f87e54-287c-4636-99b6-30b9e8e1b9a0",
   "metadata": {},
   "source": [
    "Je teste ensuite un couche GRU au lieu de RNN. la couche GRU contient des portes d'oubli et de reset supplémentaires"
   ]
  },
  {
   "cell_type": "markdown",
   "id": "df4ac805-2246-4639-839d-2eee5cd9af54",
   "metadata": {},
   "source": [
    "## import et fonctions utiles"
   ]
  },
  {
   "cell_type": "code",
   "execution_count": 1,
   "id": "f7810f0a-e52b-418c-a6f0-93f382087db4",
   "metadata": {},
   "outputs": [],
   "source": [
    "import os\n",
    "import sys\n",
    "sys.path.append('../src')\n",
    "import time\n",
    "\n",
    "from balance import load_balanced\n",
    "import pandas as pd\n",
    "import numpy as np\n",
    "import matplotlib.pyplot as plt\n",
    "from sklearn import preprocessing\n",
    "from sklearn.metrics import classification_report\n",
    "from sklearn.metrics import recall_score, precision_score\n",
    "\n",
    "import torch.nn as nn\n",
    "import torch\n",
    "from torch.utils.data import TensorDataset, DataLoader\n",
    "from torchsummary import summary\n",
    "from torch import optim"
   ]
  },
  {
   "cell_type": "code",
   "execution_count": 2,
   "id": "84a38572-4bb9-4392-86c6-3c2c5e66dfbd",
   "metadata": {},
   "outputs": [],
   "source": [
    "from scipy.signal.windows import gaussian\n",
    "from scipy.ndimage import convolve1d\n",
    "import joblib\n",
    "from sklearn.model_selection import train_test_split\n",
    "from tqdm.notebook import tqdm\n",
    "import seaborn as sns"
   ]
  },
  {
   "cell_type": "code",
   "execution_count": 3,
   "id": "92b90ff9-e450-4ec8-9f22-f04db81ca740",
   "metadata": {},
   "outputs": [],
   "source": [
    "split_size = 0.1\n",
    "epochs = 250\n",
    "batch_size = 128\n",
    "num_classes = 5\n",
    "num_layer = 1\n",
    "num_conv = 20\n",
    "hidden_size = 32\n",
    "input_size = 1\n",
    "device = 'cpu'"
   ]
  },
  {
   "cell_type": "code",
   "execution_count": 4,
   "id": "84c77a43-53bd-4486-865a-6f39d848328b",
   "metadata": {},
   "outputs": [],
   "source": [
    "def evaluate_model(model, test_loader):\n",
    "    loss_test=0\n",
    "    y_pred = []\n",
    "    y_true = []\n",
    "    model.eval()\n",
    "    criterion = nn.CrossEntropyLoss()\n",
    "    # Calcul de la fonction de perte\n",
    "    for batch in test_loader:\n",
    "        # Batch de données\n",
    "        X_batch, y_batch = batch\n",
    "    \n",
    "        X_batch = X_batch.to(device)\n",
    "        y_batch = y_batch.to(device)\n",
    "        with torch.no_grad():\n",
    "            # Prédiction du modèle pour un batch donné\n",
    "            pred = model(X_batch)\n",
    "\n",
    "        loss = criterion(pred, y_batch)\n",
    "        pred = np.argmax(pred.detach().numpy(),axis=1)\n",
    "\n",
    "        y_pred += list(pred)\n",
    "        y_true += list(y_batch.detach().numpy())\n",
    "        loss_test += loss.item()\n",
    "    \n",
    "    loss_test = loss_test/len(test_loader)\n",
    "    accuracy = precision_score(y_true, y_pred,average='macro')\n",
    "    recall = recall_score(y_true, y_pred,average='macro')\n",
    "    return y_true, y_pred, accuracy, recall, loss_test\n",
    "    "
   ]
  },
  {
   "cell_type": "code",
   "execution_count": 5,
   "id": "ad189b28-b254-4ae1-8a8b-50b412ce4a4e",
   "metadata": {},
   "outputs": [],
   "source": [
    "def trainrnn(model,train_loader,test_loader,epochs = 3,lr=1e-3,device='cpu',patience=5,factor=0.3,outmodelname=None):\n",
    "\n",
    "    \n",
    "    best_accuracy = 0\n",
    "    # Définir l'optimiseur\n",
    "    optimizer = optim.Adam(model.parameters(), lr=lr)\n",
    "    \n",
    "    # Définir le scheduler ReduceLROnPlateau\n",
    "    scheduler = optim.lr_scheduler.ReduceLROnPlateau(optimizer,\n",
    "                                                    mode='min',\n",
    "                                                    factor=factor,\n",
    "                                                    patience=patience,\n",
    "                                                    verbose=True)\n",
    "    # Définition de la fonction de perte\n",
    "    criterion = nn.CrossEntropyLoss()\n",
    "    \n",
    "    loss_list = []\n",
    "    loss_list_test = []\n",
    "    \n",
    "    accuracy_list = []\n",
    "    start = time.time()\n",
    "    \n",
    "    for epoch in range(epochs):\n",
    "\n",
    "        progress_bar = tqdm(\n",
    "            train_loader, desc=\"train\", leave=True, disable=False\n",
    "        )\n",
    "        # Dans ce mode certaines couches du modèle agissent différemment\n",
    "        model.train()\n",
    "        loss_total = 0\n",
    "        \n",
    "        list_pred = []\n",
    "        list_true = []\n",
    "        for batch in progress_bar:\n",
    "            # Batch de données\n",
    "            X_batch, y_batch = batch\n",
    "        #if X_batch.shape[0] == 32:\n",
    "        # Device\n",
    "            X_batch = X_batch.to(device)\n",
    "            y_batch = y_batch.to(device)\n",
    "            # Gradient mis 0\n",
    "            model.zero_grad()\n",
    "            h_state=None\n",
    "            # Calcul de prédiction\n",
    "            #y_pred,h_state = model(X_batch,h_state)\n",
    "            y_pred= model(X_batch)\n",
    "            #h_state = h_state.data  \n",
    "            # Calcul de la fonction de perte\n",
    "            loss = criterion(y_pred, y_batch)\n",
    "            optimizer.zero_grad()\n",
    "            list_pred += list(np.argmax(y_pred.detach().numpy(),axis=1))\n",
    "            list_true += list(y_batch.detach().numpy())\n",
    "           # Backpropagation : calculer le gradient de la loss en fonction de chaque couche\n",
    "            loss.backward()\n",
    "            \n",
    "            # Clipper le gradient entre 0 et 1 pour plus de stabilité\n",
    "            torch.nn.utils.clip_grad_norm_(model.parameters(), max_norm=1.0)\n",
    "            \n",
    "            # Descente de gradient : actualisation des paramètres\n",
    "            optimizer.step()\n",
    "            \n",
    "            loss_total += loss.item()\n",
    "        y_true, y_pred, accuracy, recall, loss_test = evaluate_model(model,test_loader)\n",
    "        loss_list.append(loss_total/len(train_loader))\n",
    "        loss_list_test.append(loss_test)\n",
    "        accuracy_list.append(accuracy)\n",
    "\n",
    "        if accuracy > best_accuracy and outmodelname is not None:\n",
    "            joblib.dump(model, outmodelname)\n",
    "            print('save model')\n",
    "            best_accuracy = accuracy\n",
    "        print(f\"Epoch : {epoch+1}/{epochs} -- Training loss {loss_total/len(train_loader)}, --- Val loss {loss}, --- accuray : {accuracy}, --- recall : {recall}\")\n",
    "    plt.plot(loss_list)\n",
    "    plt.plot(loss_list_test)\n",
    "    return model"
   ]
  },
  {
   "cell_type": "markdown",
   "id": "cf492aa5-78cc-4317-815e-effd489844b6",
   "metadata": {},
   "source": [
    "## 1. RNN"
   ]
  },
  {
   "cell_type": "markdown",
   "id": "c5af34ec-cdf6-4f8d-baff-67cbb028363b",
   "metadata": {},
   "source": [
    "Chargement de la base. la séquence doit être sur la dimension 2"
   ]
  },
  {
   "cell_type": "markdown",
   "id": "583c1869-10ab-48f3-8095-bfe063b7b138",
   "metadata": {},
   "source": [
    "#### train et cross-val"
   ]
  },
  {
   "cell_type": "code",
   "execution_count": 114,
   "id": "8d22430c-a1dd-4abb-8575-cb607f86b95c",
   "metadata": {},
   "outputs": [
    {
     "name": "stdout",
     "output_type": "stream",
     "text": [
      "3.0    45023\n",
      "2.0    45017\n",
      "1.0    45001\n",
      "4.0    44982\n",
      "0.0    44977\n",
      "Name: count, dtype: int64\n",
      "0.0    5023\n",
      "4.0    5018\n",
      "1.0    4999\n",
      "2.0    4983\n",
      "3.0    4977\n",
      "Name: count, dtype: int64\n"
     ]
    }
   ],
   "source": [
    "X_train, y_train = load_balanced.load('../data/processed/mitbih_train_smote_perturb_50000.csv')\n",
    "X_train,X_cross, y_train, y_cross = train_test_split(X_train,y_train,test_size=split_size,random_state=12)\n",
    "\n",
    "X_train =np.expand_dims(X_train,axis=-1)\n",
    "X_cross =np.expand_dims(X_cross,axis=-1)\n",
    "print(pd.Series(y_train).value_counts())\n",
    "print(pd.Series(y_cross).value_counts())\n",
    "\n",
    "train_set = TensorDataset(torch.from_numpy(X_train).float(), torch.Tensor(torch.from_numpy(y_train).long()))\n",
    "train_loader = DataLoader(train_set, batch_size=batch_size, shuffle=True)\n",
    "test_set = TensorDataset(torch.from_numpy(X_cross).float(), torch.Tensor(torch.from_numpy(y_cross).long()))\n",
    "test_loader = DataLoader(test_set, batch_size=batch_size, shuffle=True)\n"
   ]
  },
  {
   "cell_type": "markdown",
   "id": "096d674b-80b4-42fa-a55b-59e31df86ba1",
   "metadata": {},
   "source": [
    "#### test"
   ]
  },
  {
   "cell_type": "code",
   "execution_count": 115,
   "id": "6883c256-3d9f-47f5-8c57-936e6e3c1b4b",
   "metadata": {},
   "outputs": [],
   "source": [
    "X_val, y_val = load_balanced.load('../data/raw/mitbih_test.csv')\n",
    "X_val = np.expand_dims(X_val,axis=-1)\n",
    "val_set = TensorDataset(torch.from_numpy(X_val).float(), torch.Tensor(torch.from_numpy(y_val).long()))\n",
    "val_loader = DataLoader(val_set, batch_size=batch_size, shuffle=False)"
   ]
  },
  {
   "cell_type": "markdown",
   "id": "1fd4b10c-0383-4ba2-93e6-2bab4100dca2",
   "metadata": {},
   "source": [
    "#### modèle RNN"
   ]
  },
  {
   "cell_type": "code",
   "execution_count": 132,
   "id": "e0bd1459-8d6d-4ade-802b-5a03124f8f85",
   "metadata": {},
   "outputs": [],
   "source": [
    "#create RNN\n",
    "class RNN(nn.Module):\n",
    "    \n",
    "    def __init__(self,input_size,hidden_size,num_layer,num_classes=10):\n",
    "        super(RNN,self).__init__()\n",
    "        self.hidden_size=hidden_size\n",
    "        self.num_layer=num_layer\n",
    "        self.rnn=nn.RNN(input_size,hidden_size,num_layer,batch_first=True)\n",
    "        self.fc=nn.Linear(hidden_size*187,num_classes)\n",
    "\n",
    "\n",
    "    def forward(self,x):\n",
    "        h0=torch.zeros(self.num_layer,x.size(0),self.hidden_size).to(device)\n",
    "        out,_=self.rnn(x,h0)\n",
    "        out=out.reshape(out.shape[0],-1)\n",
    "        out=self.fc(out)\n",
    "        return out\n",
    "\n"
   ]
  },
  {
   "cell_type": "markdown",
   "id": "85d706fd-e6d9-4678-ac51-10f31f92b557",
   "metadata": {},
   "source": [
    "#### 1.1 optimisation sans dropout"
   ]
  },
  {
   "cell_type": "code",
   "execution_count": 133,
   "id": "ae3d700b-b3ee-4ba7-91dd-972552dc8941",
   "metadata": {},
   "outputs": [
    {
     "name": "stdout",
     "output_type": "stream",
     "text": [
      "=================================================================\n",
      "Layer (type:depth-idx)                   Param #\n",
      "=================================================================\n",
      "├─RNN: 1-1                               1,120\n",
      "├─Linear: 1-2                            29,925\n",
      "=================================================================\n",
      "Total params: 31,045\n",
      "Trainable params: 31,045\n",
      "Non-trainable params: 0\n",
      "=================================================================\n"
     ]
    }
   ],
   "source": [
    "model = RNN(input_size, hidden_size,num_layer,num_classes)\n",
    "summary(model);"
   ]
  },
  {
   "cell_type": "code",
   "execution_count": 11,
   "id": "6b24c11d-e62f-4377-afc3-67d196c608d8",
   "metadata": {
    "scrolled": true
   },
   "outputs": [
    {
     "name": "stderr",
     "output_type": "stream",
     "text": [
      "C:\\Users\\passage\\Documents\\perso\\TEST\\WinPython\\WPy64-31020\\scripts\\heartbeat\\lib\\site-packages\\torch\\optim\\lr_scheduler.py:62: UserWarning: The verbose parameter is deprecated. Please use get_last_lr() to access the learning rate.\n",
      "  warnings.warn(\n"
     ]
    },
    {
     "name": "stdout",
     "output_type": "stream",
     "text": [
      "save model\n",
      "Epoch : 1/250 -- Training loss 0.5537969832890269, --- Val loss 0.4118815064430237, --- accuray : 0.8610801106954475, --- recall : 0.8614626421761999\n",
      "save model\n",
      "Epoch : 2/250 -- Training loss 0.37283453035917435, --- Val loss 0.29782021045684814, --- accuray : 0.8827060442588062, --- recall : 0.8832048367212696\n",
      "save model\n",
      "Epoch : 3/250 -- Training loss 0.3361123455974429, --- Val loss 0.3263075649738312, --- accuray : 0.893680543712593, --- recall : 0.8918681083141606\n",
      "Epoch : 4/250 -- Training loss 0.3010583228227154, --- Val loss 0.34957030415534973, --- accuray : 0.8901994637947782, --- recall : 0.889357278699326\n",
      "save model\n",
      "Epoch : 5/250 -- Training loss 0.2726316923133614, --- Val loss 0.29700833559036255, --- accuray : 0.911367018153437, --- recall : 0.9100337328542967\n",
      "save model\n",
      "Epoch : 6/250 -- Training loss 0.25174115525730234, --- Val loss 0.22317029535770416, --- accuray : 0.9171523086153475, --- recall : 0.9173826482172762\n",
      "save model\n",
      "Epoch : 7/250 -- Training loss 0.22854316586350962, --- Val loss 0.19737765192985535, --- accuray : 0.9253360453216741, --- recall : 0.9244679738280766\n",
      "Epoch : 8/250 -- Training loss 0.21077497279328697, --- Val loss 0.1731114238500595, --- accuray : 0.9222272044064104, --- recall : 0.9208484472916514\n",
      "save model\n",
      "Epoch : 9/250 -- Training loss 0.19838922627405842, --- Val loss 0.13113750517368317, --- accuray : 0.9420377573201055, --- recall : 0.9421008866735493\n",
      "Epoch : 10/250 -- Training loss 0.18784826535379792, --- Val loss 0.18296781182289124, --- accuray : 0.9286055047293651, --- recall : 0.9279383691016857\n",
      "Epoch : 11/250 -- Training loss 0.1759493332716453, --- Val loss 0.29178640246391296, --- accuray : 0.9274652492141036, --- recall : 0.9253019482697116\n",
      "save model\n",
      "Epoch : 12/250 -- Training loss 0.16776744600499857, --- Val loss 0.2133353054523468, --- accuray : 0.9473296192603868, --- recall : 0.9468995101393641\n",
      "Epoch : 13/250 -- Training loss 0.1628014093330628, --- Val loss 0.1796535849571228, --- accuray : 0.9457678454030715, --- recall : 0.9447850967088011\n",
      "Epoch : 14/250 -- Training loss 0.1565592807555514, --- Val loss 0.07464990764856339, --- accuray : 0.935485443150719, --- recall : 0.934749942209808\n",
      "save model\n",
      "Epoch : 15/250 -- Training loss 0.14969518132914658, --- Val loss 0.09110938012599945, --- accuray : 0.9501848902502866, --- recall : 0.9492907801457863\n",
      "save model\n",
      "Epoch : 16/250 -- Training loss 0.1443845249958277, --- Val loss 0.18821504712104797, --- accuray : 0.9519218751709626, --- recall : 0.951669273715163\n",
      "Epoch : 17/250 -- Training loss 0.14052622062731557, --- Val loss 0.20557273924350739, --- accuray : 0.9479006547984751, --- recall : 0.9472105565958865\n",
      "Epoch : 18/250 -- Training loss 0.13455523715902276, --- Val loss 0.05909309536218643, --- accuray : 0.9482642466038543, --- recall : 0.9475166755520738\n",
      "Epoch : 19/250 -- Training loss 0.13123529556019822, --- Val loss 0.26546165347099304, --- accuray : 0.9441802614635986, --- recall : 0.9431137681037232\n",
      "save model\n",
      "Epoch : 20/250 -- Training loss 0.12633583325769782, --- Val loss 0.08867640048265457, --- accuray : 0.9576953180425078, --- recall : 0.9570123903600714\n",
      "Epoch : 21/250 -- Training loss 0.12297826372955813, --- Val loss 0.3317563235759735, --- accuray : 0.9495176148695336, --- recall : 0.9478458735959109\n",
      "save model\n",
      "Epoch : 22/250 -- Training loss 0.11883405138726799, --- Val loss 0.21526940166950226, --- accuray : 0.9591951392570403, --- recall : 0.9582505746663381\n",
      "save model\n",
      "Epoch : 23/250 -- Training loss 0.11582895354669757, --- Val loss 0.12382154911756516, --- accuray : 0.9622625214862935, --- recall : 0.9621438024196856\n",
      "save model\n",
      "Epoch : 24/250 -- Training loss 0.11437825381806686, --- Val loss 0.11884862929582596, --- accuray : 0.965506894397139, --- recall : 0.9654744663028338\n",
      "Epoch : 25/250 -- Training loss 0.10916326781289824, --- Val loss 0.10557090491056442, --- accuray : 0.9647883556555049, --- recall : 0.9641267379641928\n",
      "Epoch : 26/250 -- Training loss 0.107540290129389, --- Val loss 0.14572890102863312, --- accuray : 0.9569316170675073, --- recall : 0.95638702221126\n",
      "Epoch : 27/250 -- Training loss 0.10568688806481193, --- Val loss 0.11569781601428986, --- accuray : 0.9621335473784702, --- recall : 0.9614230529834694\n",
      "Epoch : 28/250 -- Training loss 0.10140582856449878, --- Val loss 0.22304871678352356, --- accuray : 0.9604393492683314, --- recall : 0.9602150047885797\n",
      "Epoch : 29/250 -- Training loss 0.10279126021856351, --- Val loss 0.10529988259077072, --- accuray : 0.9599149936206978, --- recall : 0.9575338611681271\n",
      "save model\n",
      "Epoch : 30/250 -- Training loss 0.09965634424307207, --- Val loss 0.07839255779981613, --- accuray : 0.9666709251360764, --- recall : 0.9664897760712734\n",
      "Epoch : 31/250 -- Training loss 0.09645720186301075, --- Val loss 0.10794075578451157, --- accuray : 0.9589424410540538, --- recall : 0.9582820001336885\n",
      "Epoch : 32/250 -- Training loss 0.0938055114857683, --- Val loss 0.06089440733194351, --- accuray : 0.9637718049160429, --- recall : 0.9633656373922733\n",
      "Epoch : 33/250 -- Training loss 0.09300058978568419, --- Val loss 0.10147187113761902, --- accuray : 0.9596353701546706, --- recall : 0.95787881826513\n",
      "save model\n",
      "Epoch : 34/250 -- Training loss 0.08990202895635835, --- Val loss 0.11782995611429214, --- accuray : 0.9682146480878758, --- recall : 0.9677661851436916\n",
      "Epoch : 35/250 -- Training loss 0.09073972206565936, --- Val loss 0.08270968496799469, --- accuray : 0.9651624287641342, --- recall : 0.9634968009161009\n",
      "save model\n",
      "Epoch : 36/250 -- Training loss 0.08780235523438511, --- Val loss 0.09153428673744202, --- accuray : 0.9723970733413332, --- recall : 0.9721841309902889\n",
      "Epoch : 37/250 -- Training loss 0.08515414083429503, --- Val loss 0.04286052659153938, --- accuray : 0.9703156987924592, --- recall : 0.97013652820389\n",
      "save model\n",
      "Epoch : 38/250 -- Training loss 0.08411197446284559, --- Val loss 0.06893284618854523, --- accuray : 0.9738558394801238, --- recall : 0.9738310541360053\n",
      "Epoch : 39/250 -- Training loss 0.08444776396194009, --- Val loss 0.06211181357502937, --- accuray : 0.9677286159186955, --- recall : 0.967570818667402\n",
      "Epoch : 40/250 -- Training loss 0.08266983135360736, --- Val loss 0.07381797581911087, --- accuray : 0.9653424229151938, --- recall : 0.9646731244363063\n",
      "Epoch : 41/250 -- Training loss 0.0801768356050016, --- Val loss 0.0945417508482933, --- accuray : 0.9719948695090584, --- recall : 0.9718588272199176\n",
      "Epoch : 42/250 -- Training loss 0.07911362192266122, --- Val loss 0.10581879317760468, --- accuray : 0.9669190568899765, --- recall : 0.9666638864840639\n",
      "Epoch : 43/250 -- Training loss 0.07992873755172404, --- Val loss 0.07762031257152557, --- accuray : 0.971156260242287, --- recall : 0.970932257486794\n",
      "save model\n",
      "Epoch : 44/250 -- Training loss 0.07779840052215779, --- Val loss 0.1293996274471283, --- accuray : 0.9744308761714853, --- recall : 0.9744219985523616\n",
      "Epoch : 45/250 -- Training loss 0.07716643185205377, --- Val loss 0.04916097968816757, --- accuray : 0.9707471688320963, --- recall : 0.9701635935945797\n",
      "Epoch : 46/250 -- Training loss 0.0752156531722714, --- Val loss 0.19149211049079895, --- accuray : 0.9707341158141366, --- recall : 0.9699954444434267\n",
      "Epoch : 47/250 -- Training loss 0.07458509963039686, --- Val loss 0.11735057830810547, --- accuray : 0.974282183398157, --- recall : 0.974104435370734\n",
      "save model\n",
      "Epoch : 48/250 -- Training loss 0.07341119701856487, --- Val loss 0.1211119070649147, --- accuray : 0.9763236855099067, --- recall : 0.976395738488051\n",
      "Epoch : 49/250 -- Training loss 0.07365116531975499, --- Val loss 0.041608456522226334, --- accuray : 0.970749628088957, --- recall : 0.9705091636825867\n",
      "Epoch : 50/250 -- Training loss 0.07265303739207767, --- Val loss 0.1218743696808815, --- accuray : 0.9721645385481897, --- recall : 0.9719966826402333\n",
      "Epoch : 51/250 -- Training loss 0.0705407066101185, --- Val loss 0.0652700737118721, --- accuray : 0.9739260755308079, --- recall : 0.9736219349900637\n",
      "Epoch : 52/250 -- Training loss 0.07023394846042726, --- Val loss 0.03912369906902313, --- accuray : 0.9729119576966113, --- recall : 0.9725611403810202\n",
      "Epoch : 53/250 -- Training loss 0.07186595491235345, --- Val loss 0.034608956426382065, --- accuray : 0.9741417179313092, --- recall : 0.9736422417593639\n",
      "Epoch : 54/250 -- Training loss 0.0702114128886454, --- Val loss 0.029010845348238945, --- accuray : 0.9735662419940262, --- recall : 0.9736415984192497\n",
      "save model\n",
      "Epoch : 55/250 -- Training loss 0.0686459226028642, --- Val loss 0.05358082801103592, --- accuray : 0.9784996488151589, --- recall : 0.9784628557310817\n",
      "Epoch : 56/250 -- Training loss 0.06828288368317081, --- Val loss 0.0196701567620039, --- accuray : 0.9775013709360314, --- recall : 0.977363008954218\n",
      "Epoch : 57/250 -- Training loss 0.06782140129296675, --- Val loss 0.08221039175987244, --- accuray : 0.9762972892303659, --- recall : 0.9763555220318324\n",
      "Epoch : 58/250 -- Training loss 0.0687896591563263, --- Val loss 0.0753105953335762, --- accuray : 0.970307482261574, --- recall : 0.9694035655493348\n",
      "Epoch : 59/250 -- Training loss 0.06835655196685349, --- Val loss 0.060794491320848465, --- accuray : 0.9759548708841848, --- recall : 0.9759532929661769\n",
      "Epoch : 60/250 -- Training loss 0.06697683890317847, --- Val loss 0.017473425716161728, --- accuray : 0.9763831557665675, --- recall : 0.9761293179041829\n",
      "Epoch : 61/250 -- Training loss 0.06653461571081157, --- Val loss 0.018877005204558372, --- accuray : 0.9746746664882501, --- recall : 0.9745607713867928\n",
      "Epoch : 62/250 -- Training loss 0.06521099481484784, --- Val loss 0.02674916759133339, --- accuray : 0.9779481579787372, --- recall : 0.9777706797330119\n",
      "Epoch : 63/250 -- Training loss 0.06532578776294919, --- Val loss 0.03988000005483627, --- accuray : 0.977813671072935, --- recall : 0.977768785409953\n",
      "Epoch : 64/250 -- Training loss 0.06487259088350042, --- Val loss 0.032481271773576736, --- accuray : 0.9757167586105495, --- recall : 0.9756288502870353\n",
      "save model\n",
      "Epoch : 65/250 -- Training loss 0.06297939067252989, --- Val loss 0.028838535770773888, --- accuray : 0.9799606665021763, --- recall : 0.979982852728653\n",
      "Epoch : 66/250 -- Training loss 0.06406704701172809, --- Val loss 0.08560847491025925, --- accuray : 0.970619395809235, --- recall : 0.9697630927810452\n",
      "Epoch : 67/250 -- Training loss 0.06303638726293, --- Val loss 0.07663282752037048, --- accuray : 0.9787121628908727, --- recall : 0.9787245560604838\n",
      "Epoch : 68/250 -- Training loss 0.06335544131148714, --- Val loss 0.031990986317396164, --- accuray : 0.9795780258555762, --- recall : 0.979400294770606\n",
      "Epoch : 69/250 -- Training loss 0.06277135055332335, --- Val loss 0.014183218590915203, --- accuray : 0.9783855048797013, --- recall : 0.9783386581015099\n",
      "Epoch : 70/250 -- Training loss 0.06231185447597353, --- Val loss 0.057675935328006744, --- accuray : 0.9790667151900608, --- recall : 0.9789761818938588\n",
      "Epoch : 71/250 -- Training loss 0.06020157363333827, --- Val loss 0.06564468890428543, --- accuray : 0.9746468580430049, --- recall : 0.9744522174352965\n",
      "Epoch : 72/250 -- Training loss 0.06131693673198534, --- Val loss 0.03965836390852928, --- accuray : 0.9783778928338517, --- recall : 0.9783896412707991\n",
      "Epoch : 73/250 -- Training loss 0.05999705591695955, --- Val loss 0.010802138596773148, --- accuray : 0.9770953676439953, --- recall : 0.9770690986601156\n",
      "Epoch : 74/250 -- Training loss 0.06047027055502565, --- Val loss 0.02803870104253292, --- accuray : 0.9781926449215714, --- recall : 0.9781960144472744\n",
      "Epoch : 75/250 -- Training loss 0.06175189937580911, --- Val loss 0.02879488095641136, --- accuray : 0.9735062107567989, --- recall : 0.9729144891881504\n",
      "Epoch : 76/250 -- Training loss 0.06058300580178833, --- Val loss 0.10374851524829865, --- accuray : 0.9754249243793115, --- recall : 0.9753541952180946\n",
      "Epoch : 77/250 -- Training loss 0.05916028906788838, --- Val loss 0.14476174116134644, --- accuray : 0.9726597708202421, --- recall : 0.9721829785386291\n",
      "Epoch : 78/250 -- Training loss 0.060549174682107416, --- Val loss 0.030250368639826775, --- accuray : 0.9788930874321962, --- recall : 0.9788246942575685\n",
      "save model\n",
      "Epoch : 79/250 -- Training loss 0.06019627804696015, --- Val loss 0.016872771084308624, --- accuray : 0.9812972758593623, --- recall : 0.9813139826360123\n",
      "Epoch : 80/250 -- Training loss 0.05851023526336739, --- Val loss 0.07215040922164917, --- accuray : 0.9765410233954441, --- recall : 0.9765345651050502\n",
      "Epoch : 81/250 -- Training loss 0.05914374394673405, --- Val loss 0.02026999741792679, --- accuray : 0.9759783164163046, --- recall : 0.9753511076308767\n",
      "Epoch : 82/250 -- Training loss 0.056670610768433376, --- Val loss 0.09995590895414352, --- accuray : 0.9762329530271996, --- recall : 0.9759813321760156\n",
      "Epoch : 83/250 -- Training loss 0.05853750586837628, --- Val loss 0.057243313640356064, --- accuray : 0.9786284755970793, --- recall : 0.9786038991101661\n",
      "Epoch : 84/250 -- Training loss 0.05635048125049923, --- Val loss 0.02990228310227394, --- accuray : 0.9735973647486997, --- recall : 0.9732479811399817\n",
      "Epoch : 85/250 -- Training loss 0.056785817809145475, --- Val loss 0.08558065444231033, --- accuray : 0.9709625202256046, --- recall : 0.9703945268431667\n",
      "save model\n",
      "Epoch : 86/250 -- Training loss 0.05611515530971524, --- Val loss 0.14894263446331024, --- accuray : 0.9834463894302703, --- recall : 0.9834754435817528\n",
      "Epoch : 87/250 -- Training loss 0.056066034316491604, --- Val loss 0.048580352216959, --- accuray : 0.9792119348284329, --- recall : 0.9790626699352319\n",
      "Epoch : 88/250 -- Training loss 0.05712291581990077, --- Val loss 0.0885394737124443, --- accuray : 0.974790068438797, --- recall : 0.9746127998718597\n",
      "Epoch : 89/250 -- Training loss 0.056876332401709875, --- Val loss 0.013465281575918198, --- accuray : 0.9782194971347575, --- recall : 0.9782178412604914\n",
      "Epoch : 90/250 -- Training loss 0.057052883454712384, --- Val loss 0.06442873179912567, --- accuray : 0.9797344476085454, --- recall : 0.9797433518048739\n",
      "Epoch : 91/250 -- Training loss 0.05487318489839883, --- Val loss 0.088685043156147, --- accuray : 0.9769334833413612, --- recall : 0.9767426663240624\n",
      "Epoch : 92/250 -- Training loss 0.0560897392732612, --- Val loss 0.09248892217874527, --- accuray : 0.9806243364402072, --- recall : 0.9805502039051299\n",
      "Epoch : 93/250 -- Training loss 0.05653299994046765, --- Val loss 0.06623034179210663, --- accuray : 0.9755156272706552, --- recall : 0.9752571645990644\n",
      "Epoch : 94/250 -- Training loss 0.054765943231604636, --- Val loss 0.05128549784421921, --- accuray : 0.9759521718135996, --- recall : 0.9754491776099907\n",
      "Epoch : 95/250 -- Training loss 0.053959000516967344, --- Val loss 0.04781987890601158, --- accuray : 0.9781406365265065, --- recall : 0.9776902834748175\n",
      "Epoch : 96/250 -- Training loss 0.054216549739422915, --- Val loss 0.07232945412397385, --- accuray : 0.9791191386670457, --- recall : 0.9790612826552841\n",
      "save model\n",
      "Epoch : 97/250 -- Training loss 0.05492454363415664, --- Val loss 0.032704297453165054, --- accuray : 0.9846698051757479, --- recall : 0.9846719758540521\n",
      "Epoch : 98/250 -- Training loss 0.05460931005370109, --- Val loss 0.009945090860128403, --- accuray : 0.9786385071897244, --- recall : 0.9785403161490048\n",
      "Epoch : 99/250 -- Training loss 0.054793316931221414, --- Val loss 0.03250638023018837, --- accuray : 0.9798344652385647, --- recall : 0.9798240779866969\n",
      "Epoch : 100/250 -- Training loss 0.05440092090149362, --- Val loss 0.02008925937116146, --- accuray : 0.9794744959077575, --- recall : 0.9794412276126678\n",
      "Epoch : 101/250 -- Training loss 0.05224440563565482, --- Val loss 0.1240137442946434, --- accuray : 0.9702131459963785, --- recall : 0.9696498951490747\n",
      "Epoch : 102/250 -- Training loss 0.05185959472075164, --- Val loss 0.17360828816890717, --- accuray : 0.9816867448918847, --- recall : 0.9817077937665275\n",
      "Epoch : 103/250 -- Training loss 0.054265489695977526, --- Val loss 0.02121809497475624, --- accuray : 0.9729273352077495, --- recall : 0.9725311971441283\n",
      "Epoch : 104/250 -- Training loss 0.05280177713727019, --- Val loss 0.018822748214006424, --- accuray : 0.9835502871006009, --- recall : 0.9835836720281336\n",
      "Epoch : 105/250 -- Training loss 0.05366218688927455, --- Val loss 0.13289576768875122, --- accuray : 0.975788605839665, --- recall : 0.9754006325998693\n",
      "Epoch : 106/250 -- Training loss 0.05304977734413197, --- Val loss 0.015514225699007511, --- accuray : 0.9790186838101047, --- recall : 0.978897654740744\n",
      "Epoch : 107/250 -- Training loss 0.05261999634052155, --- Val loss 0.028317619115114212, --- accuray : 0.9761449141787562, --- recall : 0.9760526887035136\n",
      "Epoch : 108/250 -- Training loss 0.05309096163024716, --- Val loss 0.018779603764414787, --- accuray : 0.9787617732122739, --- recall : 0.9785273336768062\n",
      "Epoch : 109/250 -- Training loss 0.05294347227588391, --- Val loss 0.016330575570464134, --- accuray : 0.9738593993009337, --- recall : 0.9731297579128144\n",
      "Epoch : 110/250 -- Training loss 0.051944260299324974, --- Val loss 0.05662127956748009, --- accuray : 0.9668589315688061, --- recall : 0.9652084549322529\n",
      "Epoch : 111/250 -- Training loss 0.05280639362490081, --- Val loss 0.03743070736527443, --- accuray : 0.9782779017461216, --- recall : 0.9783645957139038\n",
      "Epoch : 112/250 -- Training loss 0.051124091637756545, --- Val loss 0.14088737964630127, --- accuray : 0.9804760943258579, --- recall : 0.9804612083106585\n",
      "Epoch : 113/250 -- Training loss 0.052120838014018775, --- Val loss 0.012787039391696453, --- accuray : 0.9807426196164378, --- recall : 0.9806973062893223\n",
      "Epoch : 114/250 -- Training loss 0.05173937454385274, --- Val loss 0.004734141752123833, --- accuray : 0.9769431986009558, --- recall : 0.9768700426744228\n",
      "Epoch : 115/250 -- Training loss 0.05112201549703879, --- Val loss 0.04160013422369957, --- accuray : 0.9810429373225258, --- recall : 0.9809606558563682\n",
      "Epoch : 116/250 -- Training loss 0.05159792752151904, --- Val loss 0.11938441544771194, --- accuray : 0.9731209270506392, --- recall : 0.9721591583699579\n",
      "Epoch : 117/250 -- Training loss 0.05132837625112744, --- Val loss 0.09518707543611526, --- accuray : 0.9782669019692957, --- recall : 0.9780580262614421\n",
      "Epoch : 118/250 -- Training loss 0.04997320991023777, --- Val loss 0.011293484829366207, --- accuray : 0.9827260125370143, --- recall : 0.9826566795439267\n",
      "Epoch : 119/250 -- Training loss 0.04985787768261065, --- Val loss 0.008783865720033646, --- accuray : 0.9754776945413234, --- recall : 0.9751027869206593\n",
      "Epoch : 120/250 -- Training loss 0.05063420667610898, --- Val loss 0.19634754955768585, --- accuray : 0.9767442653090377, --- recall : 0.9764565912804274\n",
      "Epoch : 121/250 -- Training loss 0.04972013327153969, --- Val loss 0.11543072015047073, --- accuray : 0.9813465422583565, --- recall : 0.9812723837838553\n",
      "Epoch : 122/250 -- Training loss 0.048715687632531327, --- Val loss 0.0341326966881752, --- accuray : 0.9820517453983058, --- recall : 0.9820360801031119\n",
      "Epoch : 123/250 -- Training loss 0.04862284568074584, --- Val loss 0.03934932500123978, --- accuray : 0.9715122833705664, --- recall : 0.9705172582675747\n",
      "Epoch : 124/250 -- Training loss 0.04827447411323054, --- Val loss 0.20585808157920837, --- accuray : 0.9820964848018081, --- recall : 0.9820769332840982\n",
      "Epoch : 125/250 -- Training loss 0.04943416626395263, --- Val loss 0.002695944393053651, --- accuray : 0.9795736720848861, --- recall : 0.9793699275340719\n",
      "Epoch : 126/250 -- Training loss 0.04971196448106734, --- Val loss 0.04802863299846649, --- accuray : 0.9834931838505774, --- recall : 0.9835446080928406\n",
      "Epoch : 127/250 -- Training loss 0.04907449586139473, --- Val loss 0.16763806343078613, --- accuray : 0.9766728903213151, --- recall : 0.9763658834775704\n",
      "Epoch : 128/250 -- Training loss 0.0490147289791044, --- Val loss 0.09439173340797424, --- accuray : 0.9821606338791795, --- recall : 0.9821753920648805\n",
      "Epoch : 129/250 -- Training loss 0.04824744634990423, --- Val loss 0.03782714530825615, --- accuray : 0.9820071292086474, --- recall : 0.9820296800033047\n",
      "Epoch : 130/250 -- Training loss 0.04714446127499068, --- Val loss 0.004063713829964399, --- accuray : 0.9798648164200168, --- recall : 0.9798288812536832\n",
      "Epoch : 131/250 -- Training loss 0.04902976642686458, --- Val loss 0.2849755883216858, --- accuray : 0.9800492976632087, --- recall : 0.9799421406442053\n",
      "Epoch : 132/250 -- Training loss 0.049083967598603985, --- Val loss 0.010834402404725552, --- accuray : 0.9826847375207143, --- recall : 0.9826555863408755\n",
      "Epoch : 133/250 -- Training loss 0.048954398748279795, --- Val loss 0.12491299211978912, --- accuray : 0.9751885638583841, --- recall : 0.9749399413932052\n",
      "Epoch : 134/250 -- Training loss 0.04790233253450101, --- Val loss 0.008137477561831474, --- accuray : 0.9835689337668416, --- recall : 0.9835108654412286\n",
      "Epoch : 135/250 -- Training loss 0.04856863219366595, --- Val loss 0.01772797293961048, --- accuray : 0.964161635905862, --- recall : 0.9633062654378168\n",
      "Epoch : 136/250 -- Training loss 0.04736239799711958, --- Val loss 0.08595409989356995, --- accuray : 0.9808478006141081, --- recall : 0.9807738838147431\n",
      "Epoch : 137/250 -- Training loss 0.04789559572920337, --- Val loss 0.0030699793715029955, --- accuray : 0.9824651837475115, --- recall : 0.9824666526104313\n",
      "Epoch : 138/250 -- Training loss 0.0488151263182092, --- Val loss 0.0470542311668396, --- accuray : 0.9840701081839679, --- recall : 0.9841130169240628\n",
      "Epoch : 139/250 -- Training loss 0.04805298731069661, --- Val loss 0.04523773863911629, --- accuray : 0.9833210129014052, --- recall : 0.9831598496642249\n",
      "Epoch : 140/250 -- Training loss 0.04735196396615846, --- Val loss 0.08802485466003418, --- accuray : 0.9740407428979191, --- recall : 0.972962665216196\n",
      "Epoch : 141/250 -- Training loss 0.0478100770039405, --- Val loss 0.04754791408777237, --- accuray : 0.9816430162468246, --- recall : 0.9817088373296027\n",
      "Epoch : 142/250 -- Training loss 0.04540947920335398, --- Val loss 0.007781778462231159, --- accuray : 0.9826033703370417, --- recall : 0.982511742883589\n",
      "Epoch : 143/250 -- Training loss 0.047721754162838796, --- Val loss 0.10967469215393066, --- accuray : 0.9743130783403474, --- recall : 0.9740727775287796\n",
      "Epoch : 144/250 -- Training loss 0.04688356728586358, --- Val loss 0.019384387880563736, --- accuray : 0.9827509545716435, --- recall : 0.9827544420627122\n",
      "Epoch : 145/250 -- Training loss 0.04687338245999353, --- Val loss 0.04030701145529747, --- accuray : 0.9798625925449611, --- recall : 0.9798892686070968\n",
      "Epoch : 146/250 -- Training loss 0.046300423085533664, --- Val loss 0.011215529404580593, --- accuray : 0.9826355269490735, --- recall : 0.9825593451757191\n",
      "Epoch : 147/250 -- Training loss 0.04419921185579326, --- Val loss 0.01845475286245346, --- accuray : 0.980669022661265, --- recall : 0.98057764909017\n",
      "Epoch : 148/250 -- Training loss 0.044716371113586874, --- Val loss 0.0119821447879076, --- accuray : 0.9803296145224822, --- recall : 0.979910241368674\n",
      "Epoch : 149/250 -- Training loss 0.04793921781435505, --- Val loss 0.03717168793082237, --- accuray : 0.9818970011775023, --- recall : 0.9819058291037962\n",
      "Epoch : 150/250 -- Training loss 0.04644084012633708, --- Val loss 0.13714545965194702, --- accuray : 0.9813377206362235, --- recall : 0.9813437373177866\n",
      "Epoch : 151/250 -- Training loss 0.046759871359941294, --- Val loss 0.025353720411658287, --- accuray : 0.9775808710446642, --- recall : 0.9768811180108867\n",
      "Epoch : 152/250 -- Training loss 0.046336834945032435, --- Val loss 0.012838276103138924, --- accuray : 0.9804823016858496, --- recall : 0.9804808246769641\n",
      "Epoch : 153/250 -- Training loss 0.046708713100406744, --- Val loss 0.013187116011977196, --- accuray : 0.9812873228673915, --- recall : 0.9810873097944157\n",
      "Epoch : 154/250 -- Training loss 0.04505765220440132, --- Val loss 0.03670050576329231, --- accuray : 0.9728259341612867, --- recall : 0.9717158462966573\n",
      "Epoch : 155/250 -- Training loss 0.046053898550699274, --- Val loss 0.10191210359334946, --- accuray : 0.983090603930537, --- recall : 0.9830092289960289\n",
      "Epoch : 156/250 -- Training loss 0.04611845723911497, --- Val loss 0.07249604910612106, --- accuray : 0.9837222582301515, --- recall : 0.983698272292105\n",
      "Epoch : 157/250 -- Training loss 0.046719980603636246, --- Val loss 0.05071195587515831, --- accuray : 0.9818701681696883, --- recall : 0.9816474217199147\n",
      "Epoch : 158/250 -- Training loss 0.04451150913475215, --- Val loss 0.02843461185693741, --- accuray : 0.9812947119664829, --- recall : 0.9813051153905376\n",
      "Epoch : 159/250 -- Training loss 0.04587444011775914, --- Val loss 0.05236681550741196, --- accuray : 0.978565381117648, --- recall : 0.9784142540329566\n",
      "Epoch : 160/250 -- Training loss 0.044056574339718546, --- Val loss 0.04399055615067482, --- accuray : 0.9777377162814975, --- recall : 0.9775766088607971\n",
      "Epoch : 161/250 -- Training loss 0.04573539613973706, --- Val loss 0.016911078244447708, --- accuray : 0.9790162294747098, --- recall : 0.9788544135911039\n",
      "Epoch : 162/250 -- Training loss 0.0456707825013194, --- Val loss 0.03646242246031761, --- accuray : 0.9807212235256116, --- recall : 0.9807471960881099\n",
      "save model\n",
      "Epoch : 163/250 -- Training loss 0.04467921444115947, --- Val loss 0.010123212821781635, --- accuray : 0.9850415141217208, --- recall : 0.9850671616685132\n",
      "Epoch : 164/250 -- Training loss 0.043278546001769704, --- Val loss 0.029482809826731682, --- accuray : 0.9798019817010143, --- recall : 0.9796226479382183\n",
      "Epoch : 165/250 -- Training loss 0.04434612267524183, --- Val loss 0.06912904232740402, --- accuray : 0.9828296062973267, --- recall : 0.9828078651084059\n",
      "Epoch : 166/250 -- Training loss 0.04447644349175428, --- Val loss 0.03314904123544693, --- accuray : 0.9816082209632837, --- recall : 0.9816654209417749\n",
      "Epoch : 167/250 -- Training loss 0.046041089698278415, --- Val loss 0.0029148817993700504, --- accuray : 0.9819738562296294, --- recall : 0.9819360607408643\n",
      "Epoch : 168/250 -- Training loss 0.04346538370714758, --- Val loss 0.015769198536872864, --- accuray : 0.9822535463770903, --- recall : 0.9823091253681009\n",
      "Epoch : 169/250 -- Training loss 0.042595332632893806, --- Val loss 0.047558803111314774, --- accuray : 0.9794164338274971, --- recall : 0.9792496444555183\n",
      "Epoch : 170/250 -- Training loss 0.04491295063121133, --- Val loss 0.1612444519996643, --- accuray : 0.9845881826568433, --- recall : 0.9845910670377858\n",
      "Epoch : 171/250 -- Training loss 0.04299559863304096, --- Val loss 0.040131762623786926, --- accuray : 0.9807808813822453, --- recall : 0.9807222170003842\n",
      "Epoch : 172/250 -- Training loss 0.04339679801413859, --- Val loss 0.156915083527565, --- accuray : 0.9841817704034174, --- recall : 0.9842237648667812\n",
      "save model\n",
      "Epoch : 173/250 -- Training loss 0.043477404939805515, --- Val loss 0.025401603430509567, --- accuray : 0.9856273447065611, --- recall : 0.9856679630616394\n",
      "Epoch : 174/250 -- Training loss 0.04372472520132612, --- Val loss 0.08245152980089188, --- accuray : 0.9816093889932688, --- recall : 0.9814808680550943\n",
      "Epoch : 175/250 -- Training loss 0.04371414818694603, --- Val loss 0.010161818005144596, --- accuray : 0.9851590784350204, --- recall : 0.985184567363083\n",
      "Epoch : 176/250 -- Training loss 0.042993180243411915, --- Val loss 0.06268319487571716, --- accuray : 0.9818743747448577, --- recall : 0.9817692698263553\n",
      "Epoch : 177/250 -- Training loss 0.0421733467590703, --- Val loss 0.004280752502381802, --- accuray : 0.9795407172333433, --- recall : 0.9795669439880499\n",
      "Epoch : 178/250 -- Training loss 0.04235125006902571, --- Val loss 0.008838431909680367, --- accuray : 0.9809931317654353, --- recall : 0.9810780887336445\n",
      "Epoch : 179/250 -- Training loss 0.04346691642192113, --- Val loss 0.2123107612133026, --- accuray : 0.9755354447512741, --- recall : 0.9750649684296336\n",
      "Epoch : 180/250 -- Training loss 0.04233418498794173, --- Val loss 0.10000087320804596, --- accuray : 0.981859675290286, --- recall : 0.9817613498691697\n",
      "Epoch : 181/250 -- Training loss 0.04306088291749687, --- Val loss 0.03949695825576782, --- accuray : 0.9835514999836432, --- recall : 0.9835432092580507\n",
      "Epoch : 182/250 -- Training loss 0.04354529661560575, --- Val loss 0.054997630417346954, --- accuray : 0.9815253780712178, --- recall : 0.9812947826873237\n",
      "Epoch : 183/250 -- Training loss 0.04299545319557558, --- Val loss 0.023938864469528198, --- accuray : 0.9852695737544275, --- recall : 0.9853115946666406\n",
      "Epoch : 184/250 -- Training loss 0.044691494357089044, --- Val loss 0.009709905833005905, --- accuray : 0.9811968221693409, --- recall : 0.9811878401335088\n",
      "Epoch : 185/250 -- Training loss 0.042442924455922064, --- Val loss 0.0438002273440361, --- accuray : 0.9828337201004572, --- recall : 0.9828218700384564\n",
      "Epoch : 186/250 -- Training loss 0.042437866501657415, --- Val loss 0.007185585331171751, --- accuray : 0.9847294602652059, --- recall : 0.9847544418946501\n",
      "Epoch : 187/250 -- Training loss 0.043417228438600235, --- Val loss 0.04140868037939072, --- accuray : 0.976832215463622, --- recall : 0.9765939410797241\n",
      "Epoch : 188/250 -- Training loss 0.04250655141525316, --- Val loss 0.01714913360774517, --- accuray : 0.9796675609657243, --- recall : 0.9795270116319006\n",
      "Epoch : 189/250 -- Training loss 0.04222009709493344, --- Val loss 0.0027804463170468807, --- accuray : 0.9840756841147771, --- recall : 0.9840737438654049\n",
      "Epoch : 190/250 -- Training loss 0.04113581879858919, --- Val loss 0.06173078715801239, --- accuray : 0.9792527616683891, --- recall : 0.9792697656137218\n",
      "Epoch : 191/250 -- Training loss 0.042129507256269565, --- Val loss 0.10611575096845627, --- accuray : 0.9807656806925266, --- recall : 0.9805720444241309\n",
      "Epoch : 192/250 -- Training loss 0.04245110713534491, --- Val loss 0.009906732477247715, --- accuray : 0.9818550987584075, --- recall : 0.9818747319568922\n",
      "Epoch : 193/250 -- Training loss 0.04194849865087647, --- Val loss 0.011647436767816544, --- accuray : 0.9808641065634351, --- recall : 0.9807758980834125\n",
      "Epoch : 194/250 -- Training loss 0.04318248327659195, --- Val loss 0.011202638037502766, --- accuray : 0.9837233557482767, --- recall : 0.9837027605084497\n",
      "Epoch : 195/250 -- Training loss 0.04160365638132182, --- Val loss 0.046485740691423416, --- accuray : 0.9816844092045456, --- recall : 0.9817154995028321\n",
      "Epoch : 196/250 -- Training loss 0.04139471218356517, --- Val loss 0.12136436253786087, --- accuray : 0.9843110275468099, --- recall : 0.9843173251356271\n",
      "Epoch : 197/250 -- Training loss 0.04321743631845701, --- Val loss 0.0488039068877697, --- accuray : 0.978804703275052, --- recall : 0.9787660112174221\n",
      "Epoch : 198/250 -- Training loss 0.041174172968276544, --- Val loss 0.00688880356028676, --- accuray : 0.9822519589651982, --- recall : 0.9821250698154692\n",
      "Epoch : 199/250 -- Training loss 0.04194086628724131, --- Val loss 0.08054646849632263, --- accuray : 0.9832530952984323, --- recall : 0.9833192387243563\n",
      "Epoch : 200/250 -- Training loss 0.04221044699606637, --- Val loss 0.008616856299340725, --- accuray : 0.9832841438471546, --- recall : 0.9832016430894714\n",
      "Epoch : 201/250 -- Training loss 0.04193869364591573, --- Val loss 0.002153568435460329, --- accuray : 0.9827421111455612, --- recall : 0.9827415036016921\n",
      "Epoch : 202/250 -- Training loss 0.04084222209047506, --- Val loss 0.038677461445331573, --- accuray : 0.9832887123101857, --- recall : 0.9831772001889199\n",
      "Epoch : 203/250 -- Training loss 0.04112048754072397, --- Val loss 0.017596464604139328, --- accuray : 0.9835355281699615, --- recall : 0.9835007424364935\n",
      "Epoch : 204/250 -- Training loss 0.041186768804828876, --- Val loss 0.059049658477306366, --- accuray : 0.9810611634388812, --- recall : 0.9808851017768019\n",
      "Epoch : 205/250 -- Training loss 0.04185308335401344, --- Val loss 0.00998613890260458, --- accuray : 0.9663398593115385, --- recall : 0.9649651748697595\n",
      "Epoch : 206/250 -- Training loss 0.04197813823117523, --- Val loss 0.10502466559410095, --- accuray : 0.9845605032136024, --- recall : 0.9845796923746726\n",
      "Epoch : 207/250 -- Training loss 0.039994190659980444, --- Val loss 0.00031106467940844595, --- accuray : 0.9832181928644067, --- recall : 0.9832660250498041\n",
      "Epoch : 208/250 -- Training loss 0.0419365328809396, --- Val loss 0.05218888074159622, --- accuray : 0.9806600664467722, --- recall : 0.9804050782780166\n",
      "Epoch : 209/250 -- Training loss 0.04293960024777963, --- Val loss 0.057448264211416245, --- accuray : 0.9825008269967768, --- recall : 0.9823723461439569\n",
      "Epoch : 210/250 -- Training loss 0.04207579526023908, --- Val loss 0.02943691983819008, --- accuray : 0.9834154919340646, --- recall : 0.9833934496089147\n",
      "save model\n",
      "Epoch : 211/250 -- Training loss 0.04107417889010468, --- Val loss 0.08616451919078827, --- accuray : 0.9862823670041905, --- recall : 0.9862544567200249\n",
      "Epoch : 212/250 -- Training loss 0.03924718006804124, --- Val loss 0.002853735350072384, --- accuray : 0.9847905918786356, --- recall : 0.9847557670046647\n",
      "Epoch : 213/250 -- Training loss 0.04126456769114442, --- Val loss 0.038576118648052216, --- accuray : 0.9824799339454071, --- recall : 0.9824639269313369\n",
      "Epoch : 214/250 -- Training loss 0.04120368386436654, --- Val loss 0.05924097076058388, --- accuray : 0.9816103668431779, --- recall : 0.981490778581654\n",
      "Epoch : 215/250 -- Training loss 0.03992872951824338, --- Val loss 0.008433526381850243, --- accuray : 0.9810656666831239, --- recall : 0.9808549711274714\n",
      "Epoch : 216/250 -- Training loss 0.04010774176660833, --- Val loss 0.021459298208355904, --- accuray : 0.9845356368114111, --- recall : 0.9845374085262255\n",
      "Epoch : 217/250 -- Training loss 0.041143487042868486, --- Val loss 0.1286463737487793, --- accuray : 0.9828214232236936, --- recall : 0.9828282589487959\n",
      "Epoch : 218/250 -- Training loss 0.040687871519322544, --- Val loss 0.00553584098815918, --- accuray : 0.9828696421435602, --- recall : 0.9827390063348082\n",
      "Epoch : 219/250 -- Training loss 0.03950671964128403, --- Val loss 0.029539499431848526, --- accuray : 0.9857041486495117, --- recall : 0.9856653261361302\n",
      "Epoch : 220/250 -- Training loss 0.040719463776352584, --- Val loss 0.0004949370049871504, --- accuray : 0.984883822801933, --- recall : 0.9848591167506646\n",
      "Epoch : 221/250 -- Training loss 0.039715072925338164, --- Val loss 0.020097948610782623, --- accuray : 0.9852022747907181, --- recall : 0.9851978288214717\n",
      "Epoch : 222/250 -- Training loss 0.041473488665414296, --- Val loss 0.002091601025313139, --- accuray : 0.9830783752647754, --- recall : 0.9831091627413251\n",
      "Epoch : 223/250 -- Training loss 0.0405574864325051, --- Val loss 0.18306991457939148, --- accuray : 0.9818743882051424, --- recall : 0.981910938396427\n",
      "Epoch : 224/250 -- Training loss 0.0412705317432816, --- Val loss 0.0030380410607904196, --- accuray : 0.9827472001567127, --- recall : 0.9827472438949952\n",
      "Epoch : 225/250 -- Training loss 0.04001167945681202, --- Val loss 0.07770216464996338, --- accuray : 0.9834195236521059, --- recall : 0.9834728439333308\n",
      "Epoch : 226/250 -- Training loss 0.04039883439378148, --- Val loss 0.060834966599941254, --- accuray : 0.9827721269828166, --- recall : 0.982705231518687\n",
      "Epoch : 227/250 -- Training loss 0.04070163838190145, --- Val loss 0.046652816236019135, --- accuray : 0.9791381235585235, --- recall : 0.9788949162453875\n",
      "Epoch : 228/250 -- Training loss 0.03972248042622341, --- Val loss 0.006759694777429104, --- accuray : 0.9846160309521368, --- recall : 0.9845786452340226\n",
      "Epoch : 229/250 -- Training loss 0.0411828127435208, --- Val loss 0.009037894196808338, --- accuray : 0.9849515595767722, --- recall : 0.9849525912865691\n",
      "Epoch : 230/250 -- Training loss 0.03902984240897295, --- Val loss 0.002972605638206005, --- accuray : 0.9837725126267394, --- recall : 0.9836903802028413\n",
      "Epoch : 231/250 -- Training loss 0.04060550713380565, --- Val loss 0.015995027497410774, --- accuray : 0.9760802042068562, --- recall : 0.9758919331070448\n",
      "Epoch : 232/250 -- Training loss 0.0405813954731644, --- Val loss 0.016781525686383247, --- accuray : 0.9837290389503162, --- recall : 0.9837147446648885\n",
      "save model\n",
      "Epoch : 233/250 -- Training loss 0.040962093967183644, --- Val loss 0.03553910553455353, --- accuray : 0.9863471263701251, --- recall : 0.9863407181850372\n",
      "Epoch : 234/250 -- Training loss 0.04015699893181231, --- Val loss 0.05739659443497658, --- accuray : 0.9838045053041433, --- recall : 0.9837591749364037\n",
      "Epoch : 235/250 -- Training loss 0.03853768641910619, --- Val loss 0.014161176048219204, --- accuray : 0.9819933373010974, --- recall : 0.9818057692304654\n",
      "Epoch : 236/250 -- Training loss 0.04071119410139207, --- Val loss 0.05132552608847618, --- accuray : 0.9817398640690346, --- recall : 0.9814855725095756\n",
      "Epoch : 237/250 -- Training loss 0.040587532828827905, --- Val loss 0.055462636053562164, --- accuray : 0.9795014913306892, --- recall : 0.9787793387894317\n",
      "Epoch : 238/250 -- Training loss 0.040150388905399285, --- Val loss 0.12331529706716537, --- accuray : 0.9800489399949468, --- recall : 0.9798516092206306\n",
      "Epoch : 239/250 -- Training loss 0.03971624990304013, --- Val loss 0.00023264029005076736, --- accuray : 0.9836208872560421, --- recall : 0.9834486516548342\n",
      "Epoch : 240/250 -- Training loss 0.03991013742222536, --- Val loss 0.0005217439611442387, --- accuray : 0.9855319262062219, --- recall : 0.9855354391589934\n",
      "Epoch : 241/250 -- Training loss 0.03978825286414516, --- Val loss 0.05802508816123009, --- accuray : 0.9786388470738723, --- recall : 0.978341939804924\n",
      "Epoch : 242/250 -- Training loss 0.03885237110042121, --- Val loss 0.032975587993860245, --- accuray : 0.9830195568235542, --- recall : 0.9829933590792785\n",
      "Epoch : 243/250 -- Training loss 0.04032342958034798, --- Val loss 0.038759827613830566, --- accuray : 0.9805770480727751, --- recall : 0.9804906178222922\n",
      "Epoch : 244/250 -- Training loss 0.03944608831885909, --- Val loss 0.031968846917152405, --- accuray : 0.9824741616234656, --- recall : 0.9823660820370076\n",
      "Epoch : 245/250 -- Training loss 0.037852566165044524, --- Val loss 0.02124350517988205, --- accuray : 0.9778724334975163, --- recall : 0.9778214499900578\n",
      "Epoch : 246/250 -- Training loss 0.03787055032709068, --- Val loss 0.04407895356416702, --- accuray : 0.9841688927450525, --- recall : 0.9841568393696225\n",
      "Epoch : 247/250 -- Training loss 0.03823262885787625, --- Val loss 0.06922750174999237, --- accuray : 0.9839954420893005, --- recall : 0.9839919258390365\n",
      "Epoch : 248/250 -- Training loss 0.038847677600562076, --- Val loss 0.0019256172236055136, --- accuray : 0.9824889699574184, --- recall : 0.9824525744019832\n",
      "Epoch : 249/250 -- Training loss 0.038929189733887294, --- Val loss 0.001712291152216494, --- accuray : 0.9846522687994996, --- recall : 0.9846093981857473\n",
      "save model\n",
      "Epoch : 250/250 -- Training loss 0.04018825490163881, --- Val loss 0.03236381337046623, --- accuray : 0.9877576016763248, --- recall : 0.9877834114055011\n"
     ]
    },
    {
     "data": {
      "text/plain": [
       "RNN(\n",
       "  (rnn): RNN(1, 32, batch_first=True)\n",
       "  (fc): Linear(in_features=5984, out_features=5, bias=True)\n",
       ")"
      ]
     },
     "execution_count": 11,
     "metadata": {},
     "output_type": "execute_result"
    },
    {
     "data": {
      "image/png": "[encoded data removed]",
      "text/plain": [
       "<Figure size 640x480 with 1 Axes>"
      ]
     },
     "metadata": {},
     "output_type": "display_data"
    }
   ],
   "source": [
    "trainrnn(model,train_loader,test_loader,epochs = epochs,lr=1e-3,device='cpu',patience=5,factor=0.3, outmodelname = '../models/sequence_rnn.pkl')"
   ]
  },
  {
   "cell_type": "code",
   "execution_count": 134,
   "id": "816f3645-610d-4ab3-b7de-3c2ec0dcebac",
   "metadata": {},
   "outputs": [
    {
     "name": "stdout",
     "output_type": "stream",
     "text": [
      "=================================================================\n",
      "Layer (type:depth-idx)                   Param #\n",
      "=================================================================\n",
      "├─RNN: 1-1                               1,120\n",
      "├─Linear: 1-2                            29,925\n",
      "=================================================================\n",
      "Total params: 31,045\n",
      "Trainable params: 31,045\n",
      "Non-trainable params: 0\n",
      "=================================================================\n"
     ]
    }
   ],
   "source": [
    "model=joblib.load('../models/sequence_rnn.pkl')\n",
    "summary(model);"
   ]
  },
  {
   "cell_type": "code",
   "execution_count": 117,
   "id": "14324fb0-0391-4f15-b7e9-c11e6f6e7cda",
   "metadata": {},
   "outputs": [
    {
     "name": "stdout",
     "output_type": "stream",
     "text": [
      "              precision    recall  f1-score   support\n",
      "\n",
      "           0      0.991     0.969     0.980     18118\n",
      "           1      0.579     0.833     0.683       556\n",
      "           2      0.888     0.943     0.915      1448\n",
      "           3      0.591     0.840     0.694       162\n",
      "           4      0.975     0.975     0.975      1608\n",
      "\n",
      "    accuracy                          0.963     21892\n",
      "   macro avg      0.805     0.912     0.849     21892\n",
      "weighted avg      0.970     0.963     0.966     21892\n",
      "\n"
     ]
    },
    {
     "data": {
      "image/png": "[encoded data removed]",
      "text/plain": [
       "<Figure size 400x400 with 1 Axes>"
      ]
     },
     "metadata": {},
     "output_type": "display_data"
    }
   ],
   "source": [
    "y_true, y_pred, accuracy, recall, loss_test = evaluate_model(model,val_loader)\n",
    "\n",
    "table = pd.crosstab(y_true,y_pred,rownames=['True'],colnames=['Predicted'])\n",
    "fig = plt.figure(figsize=(4,4))\n",
    "ax = fig.add_subplot()\n",
    "\n",
    "sns.heatmap(table,cmap='Blues',annot=True,fmt='d',cbar=False,linecolor='black',ax=ax)\n",
    "ax.set_aspect('equal')\n",
    "print(classification_report(y_true, y_pred,digits=3))"
   ]
  },
  {
   "cell_type": "markdown",
   "id": "086c4e36-49f3-4def-86f5-b11d64db0d3b",
   "metadata": {},
   "source": [
    "#### 1.2 Optimisation avec dropout"
   ]
  },
  {
   "cell_type": "code",
   "execution_count": 131,
   "id": "228f1ef8-5d24-421c-bb71-16e29269745f",
   "metadata": {},
   "outputs": [],
   "source": [
    "class RNNdrop(nn.Module):\n",
    "    \n",
    "    def __init__(self,input_size,hidden_size,num_layer,num_classes=5,dropout=0.5):\n",
    "        super(RNNdrop,self).__init__()\n",
    "        self.hidden_size=hidden_size\n",
    "        self.num_layer=num_layer\n",
    "        self.rnn=nn.RNN(input_size,hidden_size,num_layer,batch_first=True)\n",
    "        self.dropout = nn.Dropout(dropout)\n",
    "        self.fc=nn.Linear(hidden_size*187,num_classes)\n",
    "\n",
    "\n",
    "    def forward(self,x):\n",
    "        h0=torch.zeros(self.num_layer,x.size(0),self.hidden_size).to(device)\n",
    "        out,_=self.rnn(x,h0)\n",
    "        out=out.reshape(out.shape[0],-1)\n",
    "        #out = self.dropout(out)\n",
    "        out=self.fc(out)\n",
    "        return out"
   ]
  },
  {
   "cell_type": "code",
   "execution_count": 135,
   "id": "36d4a5c8-902c-43e9-a3a7-0458d93270b9",
   "metadata": {},
   "outputs": [
    {
     "name": "stdout",
     "output_type": "stream",
     "text": [
      "=================================================================\n",
      "Layer (type:depth-idx)                   Param #\n",
      "=================================================================\n",
      "├─RNN: 1-1                               1,120\n",
      "├─Dropout: 1-2                           --\n",
      "├─Linear: 1-3                            29,925\n",
      "=================================================================\n",
      "Total params: 31,045\n",
      "Trainable params: 31,045\n",
      "Non-trainable params: 0\n",
      "=================================================================\n"
     ]
    }
   ],
   "source": [
    "model = RNNdrop(input_size, hidden_size,num_layer,num_classes)\n",
    "summary(model);"
   ]
  },
  {
   "cell_type": "code",
   "execution_count": 32,
   "id": "19743bd6-1a2f-4b83-b4d9-1f59985a5fb2",
   "metadata": {},
   "outputs": [
    {
     "name": "stderr",
     "output_type": "stream",
     "text": [
      "C:\\Users\\passage\\Documents\\perso\\TEST\\WinPython\\WPy64-31020\\scripts\\heartbeat\\lib\\site-packages\\torch\\optim\\lr_scheduler.py:62: UserWarning: The verbose parameter is deprecated. Please use get_last_lr() to access the learning rate.\n",
      "  warnings.warn(\n"
     ]
    },
    {
     "data": {
      "application/vnd.jupyter.widget-view+json": {
       "model_id": "d0f329e3909e4a7ebde2f0e33989009d",
       "version_major": 2,
       "version_minor": 0
      },
      "text/plain": [
       "train:   0%|          | 0/1758 [00:00<?, ?it/s]"
      ]
     },
     "metadata": {},
     "output_type": "display_data"
    },
    {
     "name": "stdout",
     "output_type": "stream",
     "text": [
      "save model\n",
      "Epoch : 1/50 -- Training loss 0.5418028440559548, --- Val loss 0.4016799330711365, --- accuray : 0.8617621356922264, --- recall : 0.8606355564895782\n"
     ]
    },
    {
     "data": {
      "application/vnd.jupyter.widget-view+json": {
       "model_id": "0149893fc01a472cb65650fefe880e32",
       "version_major": 2,
       "version_minor": 0
      },
      "text/plain": [
       "train:   0%|          | 0/1758 [00:00<?, ?it/s]"
      ]
     },
     "metadata": {},
     "output_type": "display_data"
    },
    {
     "name": "stdout",
     "output_type": "stream",
     "text": [
      "save model\n",
      "Epoch : 2/50 -- Training loss 0.36137361432912, --- Val loss 0.3428281247615814, --- accuray : 0.8934984688214452, --- recall : 0.8941537460211834\n"
     ]
    },
    {
     "data": {
      "application/vnd.jupyter.widget-view+json": {
       "model_id": "4c51e9a5b479499991c027f673ef22a8",
       "version_major": 2,
       "version_minor": 0
      },
      "text/plain": [
       "train:   0%|          | 0/1758 [00:00<?, ?it/s]"
      ]
     },
     "metadata": {},
     "output_type": "display_data"
    },
    {
     "name": "stdout",
     "output_type": "stream",
     "text": [
      "save model\n",
      "Epoch : 3/50 -- Training loss 0.2961038973974965, --- Val loss 0.1890527606010437, --- accuray : 0.8967379357327356, --- recall : 0.8955990195666292\n"
     ]
    },
    {
     "data": {
      "application/vnd.jupyter.widget-view+json": {
       "model_id": "71a25e6d88274179947b0b2d0ef2fe91",
       "version_major": 2,
       "version_minor": 0
      },
      "text/plain": [
       "train:   0%|          | 0/1758 [00:00<?, ?it/s]"
      ]
     },
     "metadata": {},
     "output_type": "display_data"
    },
    {
     "name": "stdout",
     "output_type": "stream",
     "text": [
      "save model\n",
      "Epoch : 4/50 -- Training loss 0.2636914933534748, --- Val loss 0.3484884798526764, --- accuray : 0.9148973402382286, --- recall : 0.9136878902642904\n"
     ]
    },
    {
     "data": {
      "application/vnd.jupyter.widget-view+json": {
       "model_id": "7e77a6f738f54d70960196fbfbea6a2e",
       "version_major": 2,
       "version_minor": 0
      },
      "text/plain": [
       "train:   0%|          | 0/1758 [00:00<?, ?it/s]"
      ]
     },
     "metadata": {},
     "output_type": "display_data"
    },
    {
     "name": "stdout",
     "output_type": "stream",
     "text": [
      "save model\n",
      "Epoch : 5/50 -- Training loss 0.2413618883056581, --- Val loss 0.1918456256389618, --- accuray : 0.9204443773938966, --- recall : 0.9203813654119063\n"
     ]
    },
    {
     "data": {
      "application/vnd.jupyter.widget-view+json": {
       "model_id": "058ff19e40304036b6379767f262f7cb",
       "version_major": 2,
       "version_minor": 0
      },
      "text/plain": [
       "train:   0%|          | 0/1758 [00:00<?, ?it/s]"
      ]
     },
     "metadata": {},
     "output_type": "display_data"
    },
    {
     "name": "stdout",
     "output_type": "stream",
     "text": [
      "save model\n",
      "Epoch : 6/50 -- Training loss 0.22458673092675427, --- Val loss 0.13226525485515594, --- accuray : 0.9215643927385229, --- recall : 0.922115305826049\n"
     ]
    },
    {
     "data": {
      "application/vnd.jupyter.widget-view+json": {
       "model_id": "6dc6a003061f493893b79380b01b12ac",
       "version_major": 2,
       "version_minor": 0
      },
      "text/plain": [
       "train:   0%|          | 0/1758 [00:00<?, ?it/s]"
      ]
     },
     "metadata": {},
     "output_type": "display_data"
    },
    {
     "name": "stdout",
     "output_type": "stream",
     "text": [
      "save model\n",
      "Epoch : 7/50 -- Training loss 0.2120477301137473, --- Val loss 0.09836844354867935, --- accuray : 0.9345308269641244, --- recall : 0.9346814153525118\n"
     ]
    },
    {
     "data": {
      "application/vnd.jupyter.widget-view+json": {
       "model_id": "4e703c13f232475daaf241aaf685be60",
       "version_major": 2,
       "version_minor": 0
      },
      "text/plain": [
       "train:   0%|          | 0/1758 [00:00<?, ?it/s]"
      ]
     },
     "metadata": {},
     "output_type": "display_data"
    },
    {
     "name": "stdout",
     "output_type": "stream",
     "text": [
      "Epoch : 8/50 -- Training loss 0.19801096336765636, --- Val loss 0.07347659766674042, --- accuray : 0.9337080747206347, --- recall : 0.9340618094096025\n"
     ]
    },
    {
     "data": {
      "application/vnd.jupyter.widget-view+json": {
       "model_id": "d75a2479852d4497b84fe1b558a5ce16",
       "version_major": 2,
       "version_minor": 0
      },
      "text/plain": [
       "train:   0%|          | 0/1758 [00:00<?, ?it/s]"
      ]
     },
     "metadata": {},
     "output_type": "display_data"
    },
    {
     "name": "stdout",
     "output_type": "stream",
     "text": [
      "save model\n",
      "Epoch : 9/50 -- Training loss 0.1906835973173787, --- Val loss 0.10946358740329742, --- accuray : 0.935405290682148, --- recall : 0.9350904648839891\n"
     ]
    },
    {
     "data": {
      "application/vnd.jupyter.widget-view+json": {
       "model_id": "628c45897ae746d6856abb2fed9a9a4a",
       "version_major": 2,
       "version_minor": 0
      },
      "text/plain": [
       "train:   0%|          | 0/1758 [00:00<?, ?it/s]"
      ]
     },
     "metadata": {},
     "output_type": "display_data"
    },
    {
     "name": "stdout",
     "output_type": "stream",
     "text": [
      "save model\n",
      "Epoch : 10/50 -- Training loss 0.18260298564233335, --- Val loss 0.16562922298908234, --- accuray : 0.943572216838542, --- recall : 0.9437467647796567\n"
     ]
    },
    {
     "data": {
      "application/vnd.jupyter.widget-view+json": {
       "model_id": "1a52ba0d7d6f4438a180688e7be54117",
       "version_major": 2,
       "version_minor": 0
      },
      "text/plain": [
       "train:   0%|          | 0/1758 [00:00<?, ?it/s]"
      ]
     },
     "metadata": {},
     "output_type": "display_data"
    },
    {
     "name": "stdout",
     "output_type": "stream",
     "text": [
      "Epoch : 11/50 -- Training loss 0.1742222689969446, --- Val loss 0.12001553922891617, --- accuray : 0.9340729429018559, --- recall : 0.9332601885409941\n"
     ]
    },
    {
     "data": {
      "application/vnd.jupyter.widget-view+json": {
       "model_id": "f0027d5297d846119a7fa47c654b515a",
       "version_major": 2,
       "version_minor": 0
      },
      "text/plain": [
       "train:   0%|          | 0/1758 [00:00<?, ?it/s]"
      ]
     },
     "metadata": {},
     "output_type": "display_data"
    },
    {
     "name": "stdout",
     "output_type": "stream",
     "text": [
      "save model\n",
      "Epoch : 12/50 -- Training loss 0.16629968333535905, --- Val loss 0.1938537210226059, --- accuray : 0.944065295633456, --- recall : 0.9438285487304251\n"
     ]
    },
    {
     "data": {
      "application/vnd.jupyter.widget-view+json": {
       "model_id": "92845f3e07e24bf1b6977a21033c86c0",
       "version_major": 2,
       "version_minor": 0
      },
      "text/plain": [
       "train:   0%|          | 0/1758 [00:00<?, ?it/s]"
      ]
     },
     "metadata": {},
     "output_type": "display_data"
    },
    {
     "name": "stdout",
     "output_type": "stream",
     "text": [
      "Epoch : 13/50 -- Training loss 0.1599529537650946, --- Val loss 0.22066177427768707, --- accuray : 0.941284385230564, --- recall : 0.9389552442113779\n"
     ]
    },
    {
     "data": {
      "application/vnd.jupyter.widget-view+json": {
       "model_id": "2a00a80dd82046f3a6f1dca8dbb6a688",
       "version_major": 2,
       "version_minor": 0
      },
      "text/plain": [
       "train:   0%|          | 0/1758 [00:00<?, ?it/s]"
      ]
     },
     "metadata": {},
     "output_type": "display_data"
    },
    {
     "name": "stdout",
     "output_type": "stream",
     "text": [
      "save model\n",
      "Epoch : 14/50 -- Training loss 0.15264936374231275, --- Val loss 0.13633126020431519, --- accuray : 0.9482481574485844, --- recall : 0.9480105687179783\n"
     ]
    },
    {
     "data": {
      "application/vnd.jupyter.widget-view+json": {
       "model_id": "9a18ce405ba748d69e1c83ebf7dca89b",
       "version_major": 2,
       "version_minor": 0
      },
      "text/plain": [
       "train:   0%|          | 0/1758 [00:00<?, ?it/s]"
      ]
     },
     "metadata": {},
     "output_type": "display_data"
    },
    {
     "name": "stdout",
     "output_type": "stream",
     "text": [
      "Epoch : 15/50 -- Training loss 0.14695514925036143, --- Val loss 0.08674992620944977, --- accuray : 0.9459075906123184, --- recall : 0.945462949689821\n"
     ]
    },
    {
     "data": {
      "application/vnd.jupyter.widget-view+json": {
       "model_id": "afca58bbbb63441c8d29e0ccd07d53c9",
       "version_major": 2,
       "version_minor": 0
      },
      "text/plain": [
       "train:   0%|          | 0/1758 [00:00<?, ?it/s]"
      ]
     },
     "metadata": {},
     "output_type": "display_data"
    },
    {
     "name": "stdout",
     "output_type": "stream",
     "text": [
      "save model\n",
      "Epoch : 16/50 -- Training loss 0.14242823935718837, --- Val loss 0.12089233100414276, --- accuray : 0.9545444648879771, --- recall : 0.9546331986542761\n"
     ]
    },
    {
     "data": {
      "application/vnd.jupyter.widget-view+json": {
       "model_id": "31771388056144a69e9aacfe5a43c362",
       "version_major": 2,
       "version_minor": 0
      },
      "text/plain": [
       "train:   0%|          | 0/1758 [00:00<?, ?it/s]"
      ]
     },
     "metadata": {},
     "output_type": "display_data"
    },
    {
     "name": "stdout",
     "output_type": "stream",
     "text": [
      "Epoch : 17/50 -- Training loss 0.13927015244528498, --- Val loss 0.050840262323617935, --- accuray : 0.9455298798632257, --- recall : 0.9453275441351969\n"
     ]
    },
    {
     "data": {
      "application/vnd.jupyter.widget-view+json": {
       "model_id": "db71dd220a5a4aefbe82a20ea3cc0adc",
       "version_major": 2,
       "version_minor": 0
      },
      "text/plain": [
       "train:   0%|          | 0/1758 [00:00<?, ?it/s]"
      ]
     },
     "metadata": {},
     "output_type": "display_data"
    },
    {
     "name": "stdout",
     "output_type": "stream",
     "text": [
      "save model\n",
      "Epoch : 18/50 -- Training loss 0.13495864672109537, --- Val loss 0.15444152057170868, --- accuray : 0.9547814846484352, --- recall : 0.9547120590807182\n"
     ]
    },
    {
     "data": {
      "application/vnd.jupyter.widget-view+json": {
       "model_id": "83369ee4e0874594a8e4a4e99cfa15cd",
       "version_major": 2,
       "version_minor": 0
      },
      "text/plain": [
       "train:   0%|          | 0/1758 [00:00<?, ?it/s]"
      ]
     },
     "metadata": {},
     "output_type": "display_data"
    },
    {
     "name": "stdout",
     "output_type": "stream",
     "text": [
      "Epoch : 19/50 -- Training loss 0.13174752285756994, --- Val loss 0.050405655056238174, --- accuray : 0.946612555213961, --- recall : 0.9458062131697842\n"
     ]
    },
    {
     "data": {
      "application/vnd.jupyter.widget-view+json": {
       "model_id": "3187747c87144634831ad0709106e9cc",
       "version_major": 2,
       "version_minor": 0
      },
      "text/plain": [
       "train:   0%|          | 0/1758 [00:00<?, ?it/s]"
      ]
     },
     "metadata": {},
     "output_type": "display_data"
    },
    {
     "name": "stdout",
     "output_type": "stream",
     "text": [
      "Epoch : 20/50 -- Training loss 0.1272433978750183, --- Val loss 0.02245328202843666, --- accuray : 0.9546095908102155, --- recall : 0.9544635513201604\n"
     ]
    },
    {
     "data": {
      "application/vnd.jupyter.widget-view+json": {
       "model_id": "f1e9ddc6f4d64220a6c8c086f71f99e6",
       "version_major": 2,
       "version_minor": 0
      },
      "text/plain": [
       "train:   0%|          | 0/1758 [00:00<?, ?it/s]"
      ]
     },
     "metadata": {},
     "output_type": "display_data"
    },
    {
     "name": "stdout",
     "output_type": "stream",
     "text": [
      "save model\n",
      "Epoch : 21/50 -- Training loss 0.1262360625064363, --- Val loss 0.10790489614009857, --- accuray : 0.9602989465816993, --- recall : 0.960002309698304\n"
     ]
    },
    {
     "data": {
      "application/vnd.jupyter.widget-view+json": {
       "model_id": "799081804146416aa4ee556d647f5ba4",
       "version_major": 2,
       "version_minor": 0
      },
      "text/plain": [
       "train:   0%|          | 0/1758 [00:00<?, ?it/s]"
      ]
     },
     "metadata": {},
     "output_type": "display_data"
    },
    {
     "name": "stdout",
     "output_type": "stream",
     "text": [
      "Epoch : 22/50 -- Training loss 0.12237044517692514, --- Val loss 0.1187606230378151, --- accuray : 0.9479672742764427, --- recall : 0.947024047349658\n"
     ]
    },
    {
     "data": {
      "application/vnd.jupyter.widget-view+json": {
       "model_id": "9e07b0acdd8847fca63c50a8f84e7474",
       "version_major": 2,
       "version_minor": 0
      },
      "text/plain": [
       "train:   0%|          | 0/1758 [00:00<?, ?it/s]"
      ]
     },
     "metadata": {},
     "output_type": "display_data"
    },
    {
     "name": "stdout",
     "output_type": "stream",
     "text": [
      "Epoch : 23/50 -- Training loss 0.11970844135680093, --- Val loss 0.09294705837965012, --- accuray : 0.957788119133272, --- recall : 0.9574893386274272\n"
     ]
    },
    {
     "data": {
      "application/vnd.jupyter.widget-view+json": {
       "model_id": "8233053c5c6c4dfbb1437b35d5844d3f",
       "version_major": 2,
       "version_minor": 0
      },
      "text/plain": [
       "train:   0%|          | 0/1758 [00:00<?, ?it/s]"
      ]
     },
     "metadata": {},
     "output_type": "display_data"
    },
    {
     "name": "stdout",
     "output_type": "stream",
     "text": [
      "Epoch : 24/50 -- Training loss 0.11650300595964452, --- Val loss 0.11395067721605301, --- accuray : 0.9600640518360924, --- recall : 0.9597580406379906\n"
     ]
    },
    {
     "data": {
      "application/vnd.jupyter.widget-view+json": {
       "model_id": "27ba35900679412a99759f9975f19c60",
       "version_major": 2,
       "version_minor": 0
      },
      "text/plain": [
       "train:   0%|          | 0/1758 [00:00<?, ?it/s]"
      ]
     },
     "metadata": {},
     "output_type": "display_data"
    },
    {
     "name": "stdout",
     "output_type": "stream",
     "text": [
      "Epoch : 25/50 -- Training loss 0.11570483843655038, --- Val loss 0.11961217224597931, --- accuray : 0.958895344370509, --- recall : 0.9578426315011848\n"
     ]
    },
    {
     "data": {
      "application/vnd.jupyter.widget-view+json": {
       "model_id": "776075f5c0b04adc9121d7571d8b8b18",
       "version_major": 2,
       "version_minor": 0
      },
      "text/plain": [
       "train:   0%|          | 0/1758 [00:00<?, ?it/s]"
      ]
     },
     "metadata": {},
     "output_type": "display_data"
    },
    {
     "name": "stdout",
     "output_type": "stream",
     "text": [
      "save model\n",
      "Epoch : 26/50 -- Training loss 0.11163015629189244, --- Val loss 0.09271784871816635, --- accuray : 0.9640681224087121, --- recall : 0.9641308424348163\n"
     ]
    },
    {
     "data": {
      "application/vnd.jupyter.widget-view+json": {
       "model_id": "32f860cd63d54d098f11ccdfd1c32e56",
       "version_major": 2,
       "version_minor": 0
      },
      "text/plain": [
       "train:   0%|          | 0/1758 [00:00<?, ?it/s]"
      ]
     },
     "metadata": {},
     "output_type": "display_data"
    },
    {
     "name": "stdout",
     "output_type": "stream",
     "text": [
      "Epoch : 27/50 -- Training loss 0.10952588945014807, --- Val loss 0.21547476947307587, --- accuray : 0.9629629579356841, --- recall : 0.9629589084059755\n"
     ]
    },
    {
     "data": {
      "application/vnd.jupyter.widget-view+json": {
       "model_id": "800a1b0392854ba38b15aea8400ce983",
       "version_major": 2,
       "version_minor": 0
      },
      "text/plain": [
       "train:   0%|          | 0/1758 [00:00<?, ?it/s]"
      ]
     },
     "metadata": {},
     "output_type": "display_data"
    },
    {
     "name": "stdout",
     "output_type": "stream",
     "text": [
      "save model\n",
      "Epoch : 28/50 -- Training loss 0.10765723870649714, --- Val loss 0.05217071995139122, --- accuray : 0.9647926366155744, --- recall : 0.9647850322969382\n"
     ]
    },
    {
     "data": {
      "application/vnd.jupyter.widget-view+json": {
       "model_id": "877bcbeb182041388f70fb27d980143c",
       "version_major": 2,
       "version_minor": 0
      },
      "text/plain": [
       "train:   0%|          | 0/1758 [00:00<?, ?it/s]"
      ]
     },
     "metadata": {},
     "output_type": "display_data"
    },
    {
     "name": "stdout",
     "output_type": "stream",
     "text": [
      "Epoch : 29/50 -- Training loss 0.10547812822602257, --- Val loss 0.06260333955287933, --- accuray : 0.9623863839241935, --- recall : 0.9622656061908653\n"
     ]
    },
    {
     "data": {
      "application/vnd.jupyter.widget-view+json": {
       "model_id": "837cc950fa69438c8c931dad89e1b992",
       "version_major": 2,
       "version_minor": 0
      },
      "text/plain": [
       "train:   0%|          | 0/1758 [00:00<?, ?it/s]"
      ]
     },
     "metadata": {},
     "output_type": "display_data"
    },
    {
     "name": "stdout",
     "output_type": "stream",
     "text": [
      "Epoch : 30/50 -- Training loss 0.1039054201867122, --- Val loss 0.13430291414260864, --- accuray : 0.958415556563893, --- recall : 0.9574187282201239\n"
     ]
    },
    {
     "data": {
      "application/vnd.jupyter.widget-view+json": {
       "model_id": "8bb5c2fe969b4e63b73f4aefc632d452",
       "version_major": 2,
       "version_minor": 0
      },
      "text/plain": [
       "train:   0%|          | 0/1758 [00:00<?, ?it/s]"
      ]
     },
     "metadata": {},
     "output_type": "display_data"
    },
    {
     "name": "stdout",
     "output_type": "stream",
     "text": [
      "save model\n",
      "Epoch : 31/50 -- Training loss 0.10208195634874959, --- Val loss 0.08444888889789581, --- accuray : 0.9670719060581401, --- recall : 0.9670946582640573\n"
     ]
    },
    {
     "data": {
      "application/vnd.jupyter.widget-view+json": {
       "model_id": "ef4a959b67254331b306c22ccf03e8cb",
       "version_major": 2,
       "version_minor": 0
      },
      "text/plain": [
       "train:   0%|          | 0/1758 [00:00<?, ?it/s]"
      ]
     },
     "metadata": {},
     "output_type": "display_data"
    },
    {
     "name": "stdout",
     "output_type": "stream",
     "text": [
      "Epoch : 32/50 -- Training loss 0.1002390349603791, --- Val loss 0.1394120454788208, --- accuray : 0.9643213940249936, --- recall : 0.964168282534082\n"
     ]
    },
    {
     "data": {
      "application/vnd.jupyter.widget-view+json": {
       "model_id": "f7d8e28f6a014a49991fc6574700e2c2",
       "version_major": 2,
       "version_minor": 0
      },
      "text/plain": [
       "train:   0%|          | 0/1758 [00:00<?, ?it/s]"
      ]
     },
     "metadata": {},
     "output_type": "display_data"
    },
    {
     "name": "stdout",
     "output_type": "stream",
     "text": [
      "Epoch : 33/50 -- Training loss 0.0985735932813239, --- Val loss 0.1330859512090683, --- accuray : 0.9597814814574311, --- recall : 0.9585436394875468\n"
     ]
    },
    {
     "data": {
      "application/vnd.jupyter.widget-view+json": {
       "model_id": "55cea13e63564e21a5fa1d60444218ee",
       "version_major": 2,
       "version_minor": 0
      },
      "text/plain": [
       "train:   0%|          | 0/1758 [00:00<?, ?it/s]"
      ]
     },
     "metadata": {},
     "output_type": "display_data"
    },
    {
     "name": "stdout",
     "output_type": "stream",
     "text": [
      "Epoch : 34/50 -- Training loss 0.09629262487411465, --- Val loss 0.07504095137119293, --- accuray : 0.9647451762242525, --- recall : 0.963923716082143\n"
     ]
    },
    {
     "data": {
      "application/vnd.jupyter.widget-view+json": {
       "model_id": "bdf35cd76f634fb4976b89a81277fa1a",
       "version_major": 2,
       "version_minor": 0
      },
      "text/plain": [
       "train:   0%|          | 0/1758 [00:00<?, ?it/s]"
      ]
     },
     "metadata": {},
     "output_type": "display_data"
    },
    {
     "name": "stdout",
     "output_type": "stream",
     "text": [
      "Epoch : 35/50 -- Training loss 0.09537734512602052, --- Val loss 0.05050138384103775, --- accuray : 0.9655210911979456, --- recall : 0.9655966029403492\n"
     ]
    },
    {
     "data": {
      "application/vnd.jupyter.widget-view+json": {
       "model_id": "531e2e2c567a4a74962fe4b3fd826328",
       "version_major": 2,
       "version_minor": 0
      },
      "text/plain": [
       "train:   0%|          | 0/1758 [00:00<?, ?it/s]"
      ]
     },
     "metadata": {},
     "output_type": "display_data"
    },
    {
     "name": "stdout",
     "output_type": "stream",
     "text": [
      "Epoch : 36/50 -- Training loss 0.09412392636494069, --- Val loss 0.14160776138305664, --- accuray : 0.9631909023009098, --- recall : 0.9632487756542965\n"
     ]
    },
    {
     "data": {
      "application/vnd.jupyter.widget-view+json": {
       "model_id": "470a88c618e446d4a64e2add2190afa4",
       "version_major": 2,
       "version_minor": 0
      },
      "text/plain": [
       "train:   0%|          | 0/1758 [00:00<?, ?it/s]"
      ]
     },
     "metadata": {},
     "output_type": "display_data"
    },
    {
     "name": "stdout",
     "output_type": "stream",
     "text": [
      "save model\n",
      "Epoch : 37/50 -- Training loss 0.09411491056113791, --- Val loss 0.1152501031756401, --- accuray : 0.9703478698211437, --- recall : 0.970370798951645\n"
     ]
    },
    {
     "data": {
      "application/vnd.jupyter.widget-view+json": {
       "model_id": "50703615b0d04b02b063635415b607ba",
       "version_major": 2,
       "version_minor": 0
      },
      "text/plain": [
       "train:   0%|          | 0/1758 [00:00<?, ?it/s]"
      ]
     },
     "metadata": {},
     "output_type": "display_data"
    },
    {
     "name": "stdout",
     "output_type": "stream",
     "text": [
      "save model\n",
      "Epoch : 38/50 -- Training loss 0.09172421879695561, --- Val loss 0.04313991963863373, --- accuray : 0.9721221907119318, --- recall : 0.9721997051414519\n"
     ]
    },
    {
     "data": {
      "application/vnd.jupyter.widget-view+json": {
       "model_id": "4cdd4496e52347c480b89fad303a5810",
       "version_major": 2,
       "version_minor": 0
      },
      "text/plain": [
       "train:   0%|          | 0/1758 [00:00<?, ?it/s]"
      ]
     },
     "metadata": {},
     "output_type": "display_data"
    },
    {
     "name": "stdout",
     "output_type": "stream",
     "text": [
      "Epoch : 39/50 -- Training loss 0.09060439039223041, --- Val loss 0.22436460852622986, --- accuray : 0.9616324982871566, --- recall : 0.9594274877255545\n"
     ]
    },
    {
     "data": {
      "application/vnd.jupyter.widget-view+json": {
       "model_id": "e4ec1e5126024457ad52666c5b71e230",
       "version_major": 2,
       "version_minor": 0
      },
      "text/plain": [
       "train:   0%|          | 0/1758 [00:00<?, ?it/s]"
      ]
     },
     "metadata": {},
     "output_type": "display_data"
    },
    {
     "name": "stdout",
     "output_type": "stream",
     "text": [
      "Epoch : 40/50 -- Training loss 0.08812497344357517, --- Val loss 0.05993419885635376, --- accuray : 0.9650845642442272, --- recall : 0.9645994804152046\n"
     ]
    },
    {
     "data": {
      "application/vnd.jupyter.widget-view+json": {
       "model_id": "c8bea493f86349bfb009c3aab434f870",
       "version_major": 2,
       "version_minor": 0
      },
      "text/plain": [
       "train:   0%|          | 0/1758 [00:00<?, ?it/s]"
      ]
     },
     "metadata": {},
     "output_type": "display_data"
    },
    {
     "name": "stdout",
     "output_type": "stream",
     "text": [
      "Epoch : 41/50 -- Training loss 0.08740896190515592, --- Val loss 0.12433997541666031, --- accuray : 0.962213396735556, --- recall : 0.9600671457201866\n"
     ]
    },
    {
     "data": {
      "application/vnd.jupyter.widget-view+json": {
       "model_id": "f5aed477943d4892a2300e6cc3a81490",
       "version_major": 2,
       "version_minor": 0
      },
      "text/plain": [
       "train:   0%|          | 0/1758 [00:00<?, ?it/s]"
      ]
     },
     "metadata": {},
     "output_type": "display_data"
    },
    {
     "name": "stdout",
     "output_type": "stream",
     "text": [
      "Epoch : 42/50 -- Training loss 0.08543275033872876, --- Val loss 0.030658293515443802, --- accuray : 0.9690817107759381, --- recall : 0.9689455785240428\n"
     ]
    },
    {
     "data": {
      "application/vnd.jupyter.widget-view+json": {
       "model_id": "99aaa38e3d694a318ca3770377ee11f0",
       "version_major": 2,
       "version_minor": 0
      },
      "text/plain": [
       "train:   0%|          | 0/1758 [00:00<?, ?it/s]"
      ]
     },
     "metadata": {},
     "output_type": "display_data"
    },
    {
     "name": "stdout",
     "output_type": "stream",
     "text": [
      "Epoch : 43/50 -- Training loss 0.08533406570586625, --- Val loss 0.07058911770582199, --- accuray : 0.9676614228757646, --- recall : 0.9675644065461274\n"
     ]
    },
    {
     "data": {
      "application/vnd.jupyter.widget-view+json": {
       "model_id": "e8de7fcc394b4f4885191daca0d33cf6",
       "version_major": 2,
       "version_minor": 0
      },
      "text/plain": [
       "train:   0%|          | 0/1758 [00:00<?, ?it/s]"
      ]
     },
     "metadata": {},
     "output_type": "display_data"
    },
    {
     "name": "stdout",
     "output_type": "stream",
     "text": [
      "Epoch : 44/50 -- Training loss 0.08401715124488954, --- Val loss 0.10207240283489227, --- accuray : 0.9594871029112477, --- recall : 0.958606140555917\n"
     ]
    },
    {
     "data": {
      "application/vnd.jupyter.widget-view+json": {
       "model_id": "68b9608924134320bf84b14f800b446a",
       "version_major": 2,
       "version_minor": 0
      },
      "text/plain": [
       "train:   0%|          | 0/1758 [00:00<?, ?it/s]"
      ]
     },
     "metadata": {},
     "output_type": "display_data"
    },
    {
     "name": "stdout",
     "output_type": "stream",
     "text": [
      "save model\n",
      "Epoch : 45/50 -- Training loss 0.083038000011948, --- Val loss 0.07094541192054749, --- accuray : 0.9722811588713611, --- recall : 0.9716013329644614\n"
     ]
    },
    {
     "data": {
      "application/vnd.jupyter.widget-view+json": {
       "model_id": "19f8165714354e5d855b820ed437da83",
       "version_major": 2,
       "version_minor": 0
      },
      "text/plain": [
       "train:   0%|          | 0/1758 [00:00<?, ?it/s]"
      ]
     },
     "metadata": {},
     "output_type": "display_data"
    },
    {
     "name": "stdout",
     "output_type": "stream",
     "text": [
      "Epoch : 46/50 -- Training loss 0.08193676545686249, --- Val loss 0.09149180352687836, --- accuray : 0.9693544336018715, --- recall : 0.9693821813610356\n"
     ]
    },
    {
     "data": {
      "application/vnd.jupyter.widget-view+json": {
       "model_id": "03c4c58c81d44a0e87d7e9a9d84a1d38",
       "version_major": 2,
       "version_minor": 0
      },
      "text/plain": [
       "train:   0%|          | 0/1758 [00:00<?, ?it/s]"
      ]
     },
     "metadata": {},
     "output_type": "display_data"
    },
    {
     "name": "stdout",
     "output_type": "stream",
     "text": [
      "Epoch : 47/50 -- Training loss 0.08120642344343378, --- Val loss 0.11246352642774582, --- accuray : 0.9658524168324206, --- recall : 0.9656028396231868\n"
     ]
    },
    {
     "data": {
      "application/vnd.jupyter.widget-view+json": {
       "model_id": "64392fcfc0e14c20916aa496efe658f2",
       "version_major": 2,
       "version_minor": 0
      },
      "text/plain": [
       "train:   0%|          | 0/1758 [00:00<?, ?it/s]"
      ]
     },
     "metadata": {},
     "output_type": "display_data"
    },
    {
     "name": "stdout",
     "output_type": "stream",
     "text": [
      "Epoch : 48/50 -- Training loss 0.08027245490085991, --- Val loss 0.09887974709272385, --- accuray : 0.9688014819805513, --- recall : 0.9685860905797586\n"
     ]
    },
    {
     "data": {
      "application/vnd.jupyter.widget-view+json": {
       "model_id": "53e2209cdf4543e6a3471ed12b101cd9",
       "version_major": 2,
       "version_minor": 0
      },
      "text/plain": [
       "train:   0%|          | 0/1758 [00:00<?, ?it/s]"
      ]
     },
     "metadata": {},
     "output_type": "display_data"
    },
    {
     "name": "stdout",
     "output_type": "stream",
     "text": [
      "Epoch : 49/50 -- Training loss 0.07927225741522813, --- Val loss 0.11618142575025558, --- accuray : 0.9691227707980904, --- recall : 0.9690569139438983\n"
     ]
    },
    {
     "data": {
      "application/vnd.jupyter.widget-view+json": {
       "model_id": "65baba280a41428597d4e23aa5992a8c",
       "version_major": 2,
       "version_minor": 0
      },
      "text/plain": [
       "train:   0%|          | 0/1758 [00:00<?, ?it/s]"
      ]
     },
     "metadata": {},
     "output_type": "display_data"
    },
    {
     "name": "stdout",
     "output_type": "stream",
     "text": [
      "Epoch : 50/50 -- Training loss 0.07714998022935526, --- Val loss 0.09822225570678711, --- accuray : 0.9696996052060353, --- recall : 0.9696629078636356\n"
     ]
    },
    {
     "data": {
      "text/plain": [
       "RNNdrop(\n",
       "  (rnn): RNN(1, 32, batch_first=True)\n",
       "  (dropout): Dropout(p=0.5, inplace=False)\n",
       "  (fc): Linear(in_features=5984, out_features=5, bias=True)\n",
       ")"
      ]
     },
     "execution_count": 32,
     "metadata": {},
     "output_type": "execute_result"
    },
    {
     "data": {
      "image/png": "[encoded data removed]",
      "text/plain": [
       "<Figure size 640x480 with 1 Axes>"
      ]
     },
     "metadata": {},
     "output_type": "display_data"
    }
   ],
   "source": [
    "trainrnn(model,train_loader,test_loader,epochs = 50,lr=1e-3,device='cpu',patience=5,factor=0.3, outmodelname = '../models/sequence_rnn_withdropout.pkl')"
   ]
  },
  {
   "cell_type": "code",
   "execution_count": 136,
   "id": "38366165-6d1e-4197-834d-3accdaab667b",
   "metadata": {},
   "outputs": [
    {
     "name": "stdout",
     "output_type": "stream",
     "text": [
      "=================================================================\n",
      "Layer (type:depth-idx)                   Param #\n",
      "=================================================================\n",
      "├─RNN: 1-1                               1,120\n",
      "├─Dropout: 1-2                           --\n",
      "├─Linear: 1-3                            29,925\n",
      "=================================================================\n",
      "Total params: 31,045\n",
      "Trainable params: 31,045\n",
      "Non-trainable params: 0\n",
      "=================================================================\n"
     ]
    }
   ],
   "source": [
    "model=joblib.load('../models/sequence_rnn_withdropout.pkl')\n",
    "summary(model);"
   ]
  },
  {
   "cell_type": "code",
   "execution_count": 121,
   "id": "59cfc2ef-aad7-4c69-83ee-7bf30ff92286",
   "metadata": {},
   "outputs": [
    {
     "name": "stdout",
     "output_type": "stream",
     "text": [
      "              precision    recall  f1-score   support\n",
      "\n",
      "           0      0.990     0.965     0.977     18118\n",
      "           1      0.559     0.772     0.648       556\n",
      "           2      0.864     0.937     0.899      1448\n",
      "           3      0.536     0.827     0.650       162\n",
      "           4      0.961     0.979     0.970      1608\n",
      "\n",
      "    accuracy                          0.958     21892\n",
      "   macro avg      0.782     0.896     0.829     21892\n",
      "weighted avg      0.965     0.958     0.961     21892\n",
      "\n"
     ]
    },
    {
     "data": {
      "image/png": "[encoded data removed]",
      "text/plain": [
       "<Figure size 400x400 with 1 Axes>"
      ]
     },
     "metadata": {},
     "output_type": "display_data"
    }
   ],
   "source": [
    "y_true, y_pred, accuracy, recall, loss = evaluate_model(model, val_loader)\n",
    "table = pd.crosstab(y_true,y_pred,rownames=['True'],colnames=['Predicted'])\n",
    "fig = plt.figure(figsize=(4,4))\n",
    "ax = fig.add_subplot()\n",
    "\n",
    "sns.heatmap(table,cmap='Blues',annot=True,fmt='d',cbar=False,linecolor='black',ax=ax)\n",
    "ax.set_aspect('equal')\n",
    "print(classification_report(y_true, y_pred,digits=3))"
   ]
  },
  {
   "cell_type": "markdown",
   "id": "a7ddb459-06e6-4b28-a21c-784cdd9c70df",
   "metadata": {},
   "source": [
    "## 2.GRU"
   ]
  },
  {
   "cell_type": "markdown",
   "id": "e44640b8-bb15-4771-a1ba-2b5c69378ed4",
   "metadata": {},
   "source": [
    "#### 2.1 Optimisation sans dropout"
   ]
  },
  {
   "cell_type": "code",
   "execution_count": 127,
   "id": "72e519c8-7af5-4806-b23e-82ac8cb70a07",
   "metadata": {},
   "outputs": [],
   "source": [
    "\n",
    "#create RNN\n",
    "class GRU(nn.Module):\n",
    "    \n",
    "    def __init__(self,input_size,hidden_size,num_layer,num_classes=10):\n",
    "        super(GRU,self).__init__()\n",
    "        self.hidden_size=hidden_size\n",
    "        self.num_layer=num_layer\n",
    "        self.rnn=nn.GRU(input_size,hidden_size,num_layer,batch_first=True)\n",
    "        self.fc=nn.Linear(hidden_size*187,num_classes)\n",
    "\n",
    "\n",
    "    def forward(self,x):\n",
    "        h0=torch.zeros(self.num_layer,x.size(0),self.hidden_size).to(device)\n",
    "        out,_=self.rnn(x,h0)\n",
    "        out=out.reshape(out.shape[0],-1)\n",
    "        out=self.fc(out)\n",
    "        return out"
   ]
  },
  {
   "cell_type": "code",
   "execution_count": 128,
   "id": "91c1a0f4-472a-4120-b9e5-5aad4d83b2a9",
   "metadata": {},
   "outputs": [
    {
     "name": "stdout",
     "output_type": "stream",
     "text": [
      "=================================================================\n",
      "Layer (type:depth-idx)                   Param #\n",
      "=================================================================\n",
      "├─GRU: 1-1                               3,360\n",
      "├─Linear: 1-2                            29,925\n",
      "=================================================================\n",
      "Total params: 33,285\n",
      "Trainable params: 33,285\n",
      "Non-trainable params: 0\n",
      "=================================================================\n"
     ]
    }
   ],
   "source": [
    "model = GRU(input_size, hidden_size,num_layer,num_classes)\n",
    "summary(model);"
   ]
  },
  {
   "cell_type": "code",
   "execution_count": 56,
   "id": "2190eb03-8756-4c86-8732-06fb5594ce2a",
   "metadata": {},
   "outputs": [
    {
     "data": {
      "application/vnd.jupyter.widget-view+json": {
       "model_id": "8b2d395c65304d79a27565865de79375",
       "version_major": 2,
       "version_minor": 0
      },
      "text/plain": [
       "train:   0%|          | 0/1758 [00:00<?, ?it/s]"
      ]
     },
     "metadata": {},
     "output_type": "display_data"
    },
    {
     "name": "stdout",
     "output_type": "stream",
     "text": [
      "save model\n",
      "Epoch : 1/50 -- Training loss 0.47113239721090994, --- Val loss 0.3648522198200226, --- accuray : 0.8925442203883094, --- recall : 0.8923494606296763\n"
     ]
    },
    {
     "data": {
      "application/vnd.jupyter.widget-view+json": {
       "model_id": "b5dfebe302164482b832e43995970453",
       "version_major": 2,
       "version_minor": 0
      },
      "text/plain": [
       "train:   0%|          | 0/1758 [00:00<?, ?it/s]"
      ]
     },
     "metadata": {},
     "output_type": "display_data"
    },
    {
     "name": "stdout",
     "output_type": "stream",
     "text": [
      "save model\n",
      "Epoch : 2/50 -- Training loss 0.2679995920793053, --- Val loss 0.21271030604839325, --- accuray : 0.91991140358629, --- recall : 0.9181986887154349\n"
     ]
    },
    {
     "data": {
      "application/vnd.jupyter.widget-view+json": {
       "model_id": "25e10ea5f04547948a2b7d4fa2da8a66",
       "version_major": 2,
       "version_minor": 0
      },
      "text/plain": [
       "train:   0%|          | 0/1758 [00:00<?, ?it/s]"
      ]
     },
     "metadata": {},
     "output_type": "display_data"
    },
    {
     "name": "stdout",
     "output_type": "stream",
     "text": [
      "save model\n",
      "Epoch : 3/50 -- Training loss 0.21371071565307176, --- Val loss 0.21928057074546814, --- accuray : 0.9331771316332272, --- recall : 0.9329831348725817\n"
     ]
    },
    {
     "data": {
      "application/vnd.jupyter.widget-view+json": {
       "model_id": "05119d73da1846b68c1ee4374e50bdb5",
       "version_major": 2,
       "version_minor": 0
      },
      "text/plain": [
       "train:   0%|          | 0/1758 [00:00<?, ?it/s]"
      ]
     },
     "metadata": {},
     "output_type": "display_data"
    },
    {
     "name": "stdout",
     "output_type": "stream",
     "text": [
      "save model\n",
      "Epoch : 4/50 -- Training loss 0.17654576506444483, --- Val loss 0.08001388609409332, --- accuray : 0.9432795991173014, --- recall : 0.9435227719912881\n"
     ]
    },
    {
     "data": {
      "application/vnd.jupyter.widget-view+json": {
       "model_id": "bd8f67567c7b4a7dbcf6b5b11df12d3a",
       "version_major": 2,
       "version_minor": 0
      },
      "text/plain": [
       "train:   0%|          | 0/1758 [00:00<?, ?it/s]"
      ]
     },
     "metadata": {},
     "output_type": "display_data"
    },
    {
     "name": "stdout",
     "output_type": "stream",
     "text": [
      "save model\n",
      "Epoch : 5/50 -- Training loss 0.1482275183756536, --- Val loss 0.18824107944965363, --- accuray : 0.9536120108483029, --- recall : 0.9533427117138945\n"
     ]
    },
    {
     "data": {
      "application/vnd.jupyter.widget-view+json": {
       "model_id": "865cbce2c54e4a94adeb5642d009f646",
       "version_major": 2,
       "version_minor": 0
      },
      "text/plain": [
       "train:   0%|          | 0/1758 [00:00<?, ?it/s]"
      ]
     },
     "metadata": {},
     "output_type": "display_data"
    },
    {
     "name": "stdout",
     "output_type": "stream",
     "text": [
      "save model\n",
      "Epoch : 6/50 -- Training loss 0.12813494489787822, --- Val loss 0.08228593319654465, --- accuray : 0.957671428533537, --- recall : 0.9577691546652372\n"
     ]
    },
    {
     "data": {
      "application/vnd.jupyter.widget-view+json": {
       "model_id": "3304d681c4d1409f95f2e95ae8f97528",
       "version_major": 2,
       "version_minor": 0
      },
      "text/plain": [
       "train:   0%|          | 0/1758 [00:00<?, ?it/s]"
      ]
     },
     "metadata": {},
     "output_type": "display_data"
    },
    {
     "name": "stdout",
     "output_type": "stream",
     "text": [
      "save model\n",
      "Epoch : 7/50 -- Training loss 0.11419891089887546, --- Val loss 0.025080054998397827, --- accuray : 0.9581313608866383, --- recall : 0.9581165576381595\n"
     ]
    },
    {
     "data": {
      "application/vnd.jupyter.widget-view+json": {
       "model_id": "0be05ceda8624fecb169b8e9a60559b0",
       "version_major": 2,
       "version_minor": 0
      },
      "text/plain": [
       "train:   0%|          | 0/1758 [00:00<?, ?it/s]"
      ]
     },
     "metadata": {},
     "output_type": "display_data"
    },
    {
     "name": "stdout",
     "output_type": "stream",
     "text": [
      "save model\n",
      "Epoch : 8/50 -- Training loss 0.10513630385200183, --- Val loss 0.04774152487516403, --- accuray : 0.9639634572300666, --- recall : 0.9639410982785043\n"
     ]
    },
    {
     "data": {
      "application/vnd.jupyter.widget-view+json": {
       "model_id": "ce50698b1e6949258e23566c27d4f429",
       "version_major": 2,
       "version_minor": 0
      },
      "text/plain": [
       "train:   0%|          | 0/1758 [00:00<?, ?it/s]"
      ]
     },
     "metadata": {},
     "output_type": "display_data"
    },
    {
     "name": "stdout",
     "output_type": "stream",
     "text": [
      "Epoch : 9/50 -- Training loss 0.09643573856534303, --- Val loss 0.042240604758262634, --- accuray : 0.962440435965477, --- recall : 0.962300359531827\n"
     ]
    },
    {
     "data": {
      "application/vnd.jupyter.widget-view+json": {
       "model_id": "9506e2b3a8f8433b8a298e85f33837eb",
       "version_major": 2,
       "version_minor": 0
      },
      "text/plain": [
       "train:   0%|          | 0/1758 [00:00<?, ?it/s]"
      ]
     },
     "metadata": {},
     "output_type": "display_data"
    },
    {
     "name": "stdout",
     "output_type": "stream",
     "text": [
      "Epoch : 10/50 -- Training loss 0.0884482276570836, --- Val loss 0.06806369125843048, --- accuray : 0.963135898196198, --- recall : 0.9623873822221036\n"
     ]
    },
    {
     "data": {
      "application/vnd.jupyter.widget-view+json": {
       "model_id": "dcfcc7181a05493189c2099553a282e0",
       "version_major": 2,
       "version_minor": 0
      },
      "text/plain": [
       "train:   0%|          | 0/1758 [00:00<?, ?it/s]"
      ]
     },
     "metadata": {},
     "output_type": "display_data"
    },
    {
     "name": "stdout",
     "output_type": "stream",
     "text": [
      "save model\n",
      "Epoch : 11/50 -- Training loss 0.08337121099907485, --- Val loss 0.24875149130821228, --- accuray : 0.9694143024934979, --- recall : 0.9690028642812696\n"
     ]
    },
    {
     "data": {
      "application/vnd.jupyter.widget-view+json": {
       "model_id": "c773d784cd8b4b7b837a33b2447e3228",
       "version_major": 2,
       "version_minor": 0
      },
      "text/plain": [
       "train:   0%|          | 0/1758 [00:00<?, ?it/s]"
      ]
     },
     "metadata": {},
     "output_type": "display_data"
    },
    {
     "name": "stdout",
     "output_type": "stream",
     "text": [
      "save model\n",
      "Epoch : 12/50 -- Training loss 0.07781379836673961, --- Val loss 0.10117391496896744, --- accuray : 0.9759386470793153, --- recall : 0.9759084176660968\n"
     ]
    },
    {
     "data": {
      "application/vnd.jupyter.widget-view+json": {
       "model_id": "0b31ca8804f5494eb01a7a12b928dccf",
       "version_major": 2,
       "version_minor": 0
      },
      "text/plain": [
       "train:   0%|          | 0/1758 [00:00<?, ?it/s]"
      ]
     },
     "metadata": {},
     "output_type": "display_data"
    },
    {
     "name": "stdout",
     "output_type": "stream",
     "text": [
      "Epoch : 13/50 -- Training loss 0.07258759899302232, --- Val loss 0.058906495571136475, --- accuray : 0.9732408574516251, --- recall : 0.9731593280778922\n"
     ]
    },
    {
     "data": {
      "application/vnd.jupyter.widget-view+json": {
       "model_id": "761839a59a3342a6af6391233f446bb7",
       "version_major": 2,
       "version_minor": 0
      },
      "text/plain": [
       "train:   0%|          | 0/1758 [00:00<?, ?it/s]"
      ]
     },
     "metadata": {},
     "output_type": "display_data"
    },
    {
     "name": "stdout",
     "output_type": "stream",
     "text": [
      "Epoch : 14/50 -- Training loss 0.06868372120803372, --- Val loss 0.11698509007692337, --- accuray : 0.9749653684079235, --- recall : 0.9746946129557316\n"
     ]
    },
    {
     "data": {
      "application/vnd.jupyter.widget-view+json": {
       "model_id": "65b00ddaad384b47bda1bc8e873633bf",
       "version_major": 2,
       "version_minor": 0
      },
      "text/plain": [
       "train:   0%|          | 0/1758 [00:00<?, ?it/s]"
      ]
     },
     "metadata": {},
     "output_type": "display_data"
    },
    {
     "name": "stdout",
     "output_type": "stream",
     "text": [
      "save model\n",
      "Epoch : 15/50 -- Training loss 0.06477370548599205, --- Val loss 0.03210482373833656, --- accuray : 0.9776888633022492, --- recall : 0.9775714635987081\n"
     ]
    },
    {
     "data": {
      "application/vnd.jupyter.widget-view+json": {
       "model_id": "89c49b1ad72449c4b006d3efbcbe69db",
       "version_major": 2,
       "version_minor": 0
      },
      "text/plain": [
       "train:   0%|          | 0/1758 [00:00<?, ?it/s]"
      ]
     },
     "metadata": {},
     "output_type": "display_data"
    },
    {
     "name": "stdout",
     "output_type": "stream",
     "text": [
      "Epoch : 16/50 -- Training loss 0.06168643986266975, --- Val loss 0.15774856507778168, --- accuray : 0.9760171911014572, --- recall : 0.9760254451877557\n"
     ]
    },
    {
     "data": {
      "application/vnd.jupyter.widget-view+json": {
       "model_id": "929d1b30294444d1a77269d63adcdf7d",
       "version_major": 2,
       "version_minor": 0
      },
      "text/plain": [
       "train:   0%|          | 0/1758 [00:00<?, ?it/s]"
      ]
     },
     "metadata": {},
     "output_type": "display_data"
    },
    {
     "name": "stdout",
     "output_type": "stream",
     "text": [
      "Epoch : 17/50 -- Training loss 0.059568266857646414, --- Val loss 0.02402455545961857, --- accuray : 0.9756305969778214, --- recall : 0.9755338181083127\n"
     ]
    },
    {
     "data": {
      "application/vnd.jupyter.widget-view+json": {
       "model_id": "6ae4cbad7a69447ebfff9a34886e915a",
       "version_major": 2,
       "version_minor": 0
      },
      "text/plain": [
       "train:   0%|          | 0/1758 [00:00<?, ?it/s]"
      ]
     },
     "metadata": {},
     "output_type": "display_data"
    },
    {
     "name": "stdout",
     "output_type": "stream",
     "text": [
      "save model\n",
      "Epoch : 18/50 -- Training loss 0.05610054471149651, --- Val loss 0.01972685381770134, --- accuray : 0.9785852008030673, --- recall : 0.9785326473588987\n"
     ]
    },
    {
     "data": {
      "application/vnd.jupyter.widget-view+json": {
       "model_id": "0c9a5367689a49c4949d169e959060ec",
       "version_major": 2,
       "version_minor": 0
      },
      "text/plain": [
       "train:   0%|          | 0/1758 [00:00<?, ?it/s]"
      ]
     },
     "metadata": {},
     "output_type": "display_data"
    },
    {
     "name": "stdout",
     "output_type": "stream",
     "text": [
      "Epoch : 19/50 -- Training loss 0.053566232040356015, --- Val loss 0.03169241547584534, --- accuray : 0.977866376583366, --- recall : 0.9778637003610404\n"
     ]
    },
    {
     "data": {
      "application/vnd.jupyter.widget-view+json": {
       "model_id": "230b6dce37f14eeea8af189333f15e4c",
       "version_major": 2,
       "version_minor": 0
      },
      "text/plain": [
       "train:   0%|          | 0/1758 [00:00<?, ?it/s]"
      ]
     },
     "metadata": {},
     "output_type": "display_data"
    },
    {
     "name": "stdout",
     "output_type": "stream",
     "text": [
      "save model\n",
      "Epoch : 20/50 -- Training loss 0.05086606023189494, --- Val loss 0.023851724341511726, --- accuray : 0.9842850964654264, --- recall : 0.9843009820290142\n"
     ]
    },
    {
     "data": {
      "application/vnd.jupyter.widget-view+json": {
       "model_id": "32a9f7e1103542d0acda8e0ebe31557d",
       "version_major": 2,
       "version_minor": 0
      },
      "text/plain": [
       "train:   0%|          | 0/1758 [00:00<?, ?it/s]"
      ]
     },
     "metadata": {},
     "output_type": "display_data"
    },
    {
     "name": "stdout",
     "output_type": "stream",
     "text": [
      "Epoch : 21/50 -- Training loss 0.04870327533751438, --- Val loss 0.03691525757312775, --- accuray : 0.9838118887140386, --- recall : 0.983772769829401\n"
     ]
    },
    {
     "data": {
      "application/vnd.jupyter.widget-view+json": {
       "model_id": "2e17c120219740c89322363dbe017acc",
       "version_major": 2,
       "version_minor": 0
      },
      "text/plain": [
       "train:   0%|          | 0/1758 [00:00<?, ?it/s]"
      ]
     },
     "metadata": {},
     "output_type": "display_data"
    },
    {
     "name": "stdout",
     "output_type": "stream",
     "text": [
      "Epoch : 22/50 -- Training loss 0.04781955144772321, --- Val loss 0.06802977621555328, --- accuray : 0.9813703172306676, --- recall : 0.9814250816107991\n"
     ]
    },
    {
     "data": {
      "application/vnd.jupyter.widget-view+json": {
       "model_id": "bdd77e9372ed4af799174c24cbe59ec8",
       "version_major": 2,
       "version_minor": 0
      },
      "text/plain": [
       "train:   0%|          | 0/1758 [00:00<?, ?it/s]"
      ]
     },
     "metadata": {},
     "output_type": "display_data"
    },
    {
     "name": "stdout",
     "output_type": "stream",
     "text": [
      "save model\n",
      "Epoch : 23/50 -- Training loss 0.045815836808530866, --- Val loss 0.06347349286079407, --- accuray : 0.9844410264051625, --- recall : 0.9844641771183428\n"
     ]
    },
    {
     "data": {
      "application/vnd.jupyter.widget-view+json": {
       "model_id": "556f93dc9b1949e3ab5780416caefa30",
       "version_major": 2,
       "version_minor": 0
      },
      "text/plain": [
       "train:   0%|          | 0/1758 [00:00<?, ?it/s]"
      ]
     },
     "metadata": {},
     "output_type": "display_data"
    },
    {
     "name": "stdout",
     "output_type": "stream",
     "text": [
      "save model\n",
      "Epoch : 24/50 -- Training loss 0.043774577807616524, --- Val loss 0.022338397800922394, --- accuray : 0.985689552575459, --- recall : 0.985670850056861\n"
     ]
    },
    {
     "data": {
      "application/vnd.jupyter.widget-view+json": {
       "model_id": "a8f89a42d9ba4fa291e2ad6a8fc08e06",
       "version_major": 2,
       "version_minor": 0
      },
      "text/plain": [
       "train:   0%|          | 0/1758 [00:00<?, ?it/s]"
      ]
     },
     "metadata": {},
     "output_type": "display_data"
    },
    {
     "name": "stdout",
     "output_type": "stream",
     "text": [
      "Epoch : 25/50 -- Training loss 0.043028297725960556, --- Val loss 0.013506552204489708, --- accuray : 0.9827084087915707, --- recall : 0.9827370631963204\n"
     ]
    },
    {
     "data": {
      "application/vnd.jupyter.widget-view+json": {
       "model_id": "0a208a3161744447aeb5ea7cf718b265",
       "version_major": 2,
       "version_minor": 0
      },
      "text/plain": [
       "train:   0%|          | 0/1758 [00:00<?, ?it/s]"
      ]
     },
     "metadata": {},
     "output_type": "display_data"
    },
    {
     "name": "stdout",
     "output_type": "stream",
     "text": [
      "Epoch : 26/50 -- Training loss 0.04102776651314393, --- Val loss 0.015532236546278, --- accuray : 0.9850232678884743, --- recall : 0.9850261593680785\n"
     ]
    },
    {
     "data": {
      "application/vnd.jupyter.widget-view+json": {
       "model_id": "5a00cb4b17254f6fb33ccd210f6b248a",
       "version_major": 2,
       "version_minor": 0
      },
      "text/plain": [
       "train:   0%|          | 0/1758 [00:00<?, ?it/s]"
      ]
     },
     "metadata": {},
     "output_type": "display_data"
    },
    {
     "name": "stdout",
     "output_type": "stream",
     "text": [
      "Epoch : 27/50 -- Training loss 0.039210883897874374, --- Val loss 0.03674492612481117, --- accuray : 0.9850609749249266, --- recall : 0.9850532550384188\n"
     ]
    },
    {
     "data": {
      "application/vnd.jupyter.widget-view+json": {
       "model_id": "5bcf0c0b757c463dbe2ec87734a9aeb5",
       "version_major": 2,
       "version_minor": 0
      },
      "text/plain": [
       "train:   0%|          | 0/1758 [00:00<?, ?it/s]"
      ]
     },
     "metadata": {},
     "output_type": "display_data"
    },
    {
     "name": "stdout",
     "output_type": "stream",
     "text": [
      "Epoch : 28/50 -- Training loss 0.038660088570215564, --- Val loss 0.10680974274873734, --- accuray : 0.9841930453475678, --- recall : 0.9840663564480077\n"
     ]
    },
    {
     "data": {
      "application/vnd.jupyter.widget-view+json": {
       "model_id": "0f4f5b30adcb4459ac0979e6b20dca91",
       "version_major": 2,
       "version_minor": 0
      },
      "text/plain": [
       "train:   0%|          | 0/1758 [00:00<?, ?it/s]"
      ]
     },
     "metadata": {},
     "output_type": "display_data"
    },
    {
     "name": "stdout",
     "output_type": "stream",
     "text": [
      "Epoch : 29/50 -- Training loss 0.03651613303184969, --- Val loss 0.021124307066202164, --- accuray : 0.9856157984002939, --- recall : 0.9855720081751512\n"
     ]
    },
    {
     "data": {
      "application/vnd.jupyter.widget-view+json": {
       "model_id": "0df7b59fba3a4f60927fe85c056e86f0",
       "version_major": 2,
       "version_minor": 0
      },
      "text/plain": [
       "train:   0%|          | 0/1758 [00:00<?, ?it/s]"
      ]
     },
     "metadata": {},
     "output_type": "display_data"
    },
    {
     "name": "stdout",
     "output_type": "stream",
     "text": [
      "Epoch : 30/50 -- Training loss 0.036654302669782826, --- Val loss 0.09450224786996841, --- accuray : 0.9824401333343333, --- recall : 0.9822828703766817\n"
     ]
    },
    {
     "data": {
      "application/vnd.jupyter.widget-view+json": {
       "model_id": "ad184631728645f2b016ae90fe1fdae6",
       "version_major": 2,
       "version_minor": 0
      },
      "text/plain": [
       "train:   0%|          | 0/1758 [00:00<?, ?it/s]"
      ]
     },
     "metadata": {},
     "output_type": "display_data"
    },
    {
     "name": "stdout",
     "output_type": "stream",
     "text": [
      "Epoch : 31/50 -- Training loss 0.034800259368753736, --- Val loss 0.008097689598798752, --- accuray : 0.9853972105488165, --- recall : 0.9852829122918546\n"
     ]
    },
    {
     "data": {
      "application/vnd.jupyter.widget-view+json": {
       "model_id": "7e70a94c588343c0bf4109611752893b",
       "version_major": 2,
       "version_minor": 0
      },
      "text/plain": [
       "train:   0%|          | 0/1758 [00:00<?, ?it/s]"
      ]
     },
     "metadata": {},
     "output_type": "display_data"
    },
    {
     "name": "stdout",
     "output_type": "stream",
     "text": [
      "Epoch : 32/50 -- Training loss 0.034051729264270206, --- Val loss 0.01476370356976986, --- accuray : 0.9856359642364045, --- recall : 0.9856178055247214\n"
     ]
    },
    {
     "data": {
      "application/vnd.jupyter.widget-view+json": {
       "model_id": "e1ebcb6ec0af4e3a99fea1e107c7b185",
       "version_major": 2,
       "version_minor": 0
      },
      "text/plain": [
       "train:   0%|          | 0/1758 [00:00<?, ?it/s]"
      ]
     },
     "metadata": {},
     "output_type": "display_data"
    },
    {
     "name": "stdout",
     "output_type": "stream",
     "text": [
      "save model\n",
      "Epoch : 33/50 -- Training loss 0.03240260195861962, --- Val loss 0.03577188774943352, --- accuray : 0.9882217435757539, --- recall : 0.9882198844281925\n"
     ]
    },
    {
     "data": {
      "application/vnd.jupyter.widget-view+json": {
       "model_id": "5ad5cf4e0d834ac4afeabdeed1779f9c",
       "version_major": 2,
       "version_minor": 0
      },
      "text/plain": [
       "train:   0%|          | 0/1758 [00:00<?, ?it/s]"
      ]
     },
     "metadata": {},
     "output_type": "display_data"
    },
    {
     "name": "stdout",
     "output_type": "stream",
     "text": [
      "save model\n",
      "Epoch : 34/50 -- Training loss 0.03342117010605171, --- Val loss 0.013546604663133621, --- accuray : 0.9890227469120305, --- recall : 0.9890145457741802\n"
     ]
    },
    {
     "data": {
      "application/vnd.jupyter.widget-view+json": {
       "model_id": "9dd974a386374f8583b26524ce95841a",
       "version_major": 2,
       "version_minor": 0
      },
      "text/plain": [
       "train:   0%|          | 0/1758 [00:00<?, ?it/s]"
      ]
     },
     "metadata": {},
     "output_type": "display_data"
    },
    {
     "name": "stdout",
     "output_type": "stream",
     "text": [
      "Epoch : 35/50 -- Training loss 0.030465652633333087, --- Val loss 0.07758484780788422, --- accuray : 0.98713686538899, --- recall : 0.9870853362477666\n"
     ]
    },
    {
     "data": {
      "application/vnd.jupyter.widget-view+json": {
       "model_id": "7b9f115c4463458e897e22adcaaab159",
       "version_major": 2,
       "version_minor": 0
      },
      "text/plain": [
       "train:   0%|          | 0/1758 [00:00<?, ?it/s]"
      ]
     },
     "metadata": {},
     "output_type": "display_data"
    },
    {
     "name": "stdout",
     "output_type": "stream",
     "text": [
      "Epoch : 36/50 -- Training loss 0.031024859436419878, --- Val loss 0.01731644757091999, --- accuray : 0.9865812115359874, --- recall : 0.9865269271454086\n"
     ]
    },
    {
     "data": {
      "application/vnd.jupyter.widget-view+json": {
       "model_id": "d36acfdc3c3d4c6da512cd287d8151c6",
       "version_major": 2,
       "version_minor": 0
      },
      "text/plain": [
       "train:   0%|          | 0/1758 [00:00<?, ?it/s]"
      ]
     },
     "metadata": {},
     "output_type": "display_data"
    },
    {
     "name": "stdout",
     "output_type": "stream",
     "text": [
      "save model\n",
      "Epoch : 37/50 -- Training loss 0.030054333669405516, --- Val loss 0.013001515530049801, --- accuray : 0.9891420547494132, --- recall : 0.98912995587669\n"
     ]
    },
    {
     "data": {
      "application/vnd.jupyter.widget-view+json": {
       "model_id": "6b48f77f01564e6daa3909cd3c69c647",
       "version_major": 2,
       "version_minor": 0
      },
      "text/plain": [
       "train:   0%|          | 0/1758 [00:00<?, ?it/s]"
      ]
     },
     "metadata": {},
     "output_type": "display_data"
    },
    {
     "name": "stdout",
     "output_type": "stream",
     "text": [
      "Epoch : 38/50 -- Training loss 0.02877313817929518, --- Val loss 0.03892246633768082, --- accuray : 0.9872451222732372, --- recall : 0.9872671845716582\n"
     ]
    },
    {
     "data": {
      "application/vnd.jupyter.widget-view+json": {
       "model_id": "33f5580819f64f5c94e7b0019b689c7d",
       "version_major": 2,
       "version_minor": 0
      },
      "text/plain": [
       "train:   0%|          | 0/1758 [00:00<?, ?it/s]"
      ]
     },
     "metadata": {},
     "output_type": "display_data"
    },
    {
     "name": "stdout",
     "output_type": "stream",
     "text": [
      "Epoch : 39/50 -- Training loss 0.028236477317711534, --- Val loss 0.05768803879618645, --- accuray : 0.9869403166718861, --- recall : 0.986874894819459\n"
     ]
    },
    {
     "data": {
      "application/vnd.jupyter.widget-view+json": {
       "model_id": "746fe062275a4c6ca78d3e4fedf61d25",
       "version_major": 2,
       "version_minor": 0
      },
      "text/plain": [
       "train:   0%|          | 0/1758 [00:00<?, ?it/s]"
      ]
     },
     "metadata": {},
     "output_type": "display_data"
    },
    {
     "name": "stdout",
     "output_type": "stream",
     "text": [
      "Epoch : 40/50 -- Training loss 0.027624612886485652, --- Val loss 0.05836540833115578, --- accuray : 0.989020432363669, --- recall : 0.9890238077353178\n"
     ]
    },
    {
     "data": {
      "application/vnd.jupyter.widget-view+json": {
       "model_id": "dca5ebc7b3e241489a18684d12f080d3",
       "version_major": 2,
       "version_minor": 0
      },
      "text/plain": [
       "train:   0%|          | 0/1758 [00:00<?, ?it/s]"
      ]
     },
     "metadata": {},
     "output_type": "display_data"
    },
    {
     "name": "stdout",
     "output_type": "stream",
     "text": [
      "Epoch : 41/50 -- Training loss 0.02680982055483192, --- Val loss 0.01064447220414877, --- accuray : 0.9885926002881614, --- recall : 0.9886206885040879\n"
     ]
    },
    {
     "data": {
      "application/vnd.jupyter.widget-view+json": {
       "model_id": "ef894973f8de46848a070c37a848d480",
       "version_major": 2,
       "version_minor": 0
      },
      "text/plain": [
       "train:   0%|          | 0/1758 [00:00<?, ?it/s]"
      ]
     },
     "metadata": {},
     "output_type": "display_data"
    },
    {
     "name": "stdout",
     "output_type": "stream",
     "text": [
      "save model\n",
      "Epoch : 42/50 -- Training loss 0.026239366099074568, --- Val loss 0.004133508075028658, --- accuray : 0.9896954675672033, --- recall : 0.9897058387750821\n"
     ]
    },
    {
     "data": {
      "application/vnd.jupyter.widget-view+json": {
       "model_id": "e9d3acd8998d4e47b26f0a0be38249d2",
       "version_major": 2,
       "version_minor": 0
      },
      "text/plain": [
       "train:   0%|          | 0/1758 [00:00<?, ?it/s]"
      ]
     },
     "metadata": {},
     "output_type": "display_data"
    },
    {
     "name": "stdout",
     "output_type": "stream",
     "text": [
      "save model\n",
      "Epoch : 43/50 -- Training loss 0.024959290960669334, --- Val loss 0.012202559038996696, --- accuray : 0.9901808317678065, --- recall : 0.9901771568011973\n"
     ]
    },
    {
     "data": {
      "application/vnd.jupyter.widget-view+json": {
       "model_id": "71053e6251374a888990409df4e69f20",
       "version_major": 2,
       "version_minor": 0
      },
      "text/plain": [
       "train:   0%|          | 0/1758 [00:00<?, ?it/s]"
      ]
     },
     "metadata": {},
     "output_type": "display_data"
    },
    {
     "name": "stdout",
     "output_type": "stream",
     "text": [
      "Epoch : 44/50 -- Training loss 0.02514678394208441, --- Val loss 0.006653227843344212, --- accuray : 0.9875900387135591, --- recall : 0.987615183407199\n"
     ]
    },
    {
     "data": {
      "application/vnd.jupyter.widget-view+json": {
       "model_id": "a85376913d644fc1bdcd49d1945ed3fb",
       "version_major": 2,
       "version_minor": 0
      },
      "text/plain": [
       "train:   0%|          | 0/1758 [00:00<?, ?it/s]"
      ]
     },
     "metadata": {},
     "output_type": "display_data"
    },
    {
     "name": "stdout",
     "output_type": "stream",
     "text": [
      "Epoch : 45/50 -- Training loss 0.024620040889735496, --- Val loss 0.003986708354204893, --- accuray : 0.9896988502754516, --- recall : 0.989701319830429\n"
     ]
    },
    {
     "data": {
      "application/vnd.jupyter.widget-view+json": {
       "model_id": "c23520ae6870458493c0f23a8fd2f268",
       "version_major": 2,
       "version_minor": 0
      },
      "text/plain": [
       "train:   0%|          | 0/1758 [00:00<?, ?it/s]"
      ]
     },
     "metadata": {},
     "output_type": "display_data"
    },
    {
     "name": "stdout",
     "output_type": "stream",
     "text": [
      "Epoch : 46/50 -- Training loss 0.02342485518140302, --- Val loss 0.0008047636947594583, --- accuray : 0.9899673209575184, --- recall : 0.9899747056180015\n"
     ]
    },
    {
     "data": {
      "application/vnd.jupyter.widget-view+json": {
       "model_id": "88efe2ca29d4415b88eafa80a13802d2",
       "version_major": 2,
       "version_minor": 0
      },
      "text/plain": [
       "train:   0%|          | 0/1758 [00:00<?, ?it/s]"
      ]
     },
     "metadata": {},
     "output_type": "display_data"
    },
    {
     "name": "stdout",
     "output_type": "stream",
     "text": [
      "Epoch : 47/50 -- Training loss 0.023052536102931072, --- Val loss 0.05747642368078232, --- accuray : 0.9870547191123062, --- recall : 0.9870509751389995\n"
     ]
    },
    {
     "data": {
      "application/vnd.jupyter.widget-view+json": {
       "model_id": "f8bb53a06a8d46f198f39b4f07a26e57",
       "version_major": 2,
       "version_minor": 0
      },
      "text/plain": [
       "train:   0%|          | 0/1758 [00:00<?, ?it/s]"
      ]
     },
     "metadata": {},
     "output_type": "display_data"
    },
    {
     "name": "stdout",
     "output_type": "stream",
     "text": [
      "save model\n",
      "Epoch : 48/50 -- Training loss 0.023191103962748958, --- Val loss 0.020204735919833183, --- accuray : 0.9902725729452433, --- recall : 0.9902928640732942\n"
     ]
    },
    {
     "data": {
      "application/vnd.jupyter.widget-view+json": {
       "model_id": "200f1358dc794b91aab3a7bf9da2a3ce",
       "version_major": 2,
       "version_minor": 0
      },
      "text/plain": [
       "train:   0%|          | 0/1758 [00:00<?, ?it/s]"
      ]
     },
     "metadata": {},
     "output_type": "display_data"
    },
    {
     "name": "stdout",
     "output_type": "stream",
     "text": [
      "Epoch : 49/50 -- Training loss 0.02277879596378141, --- Val loss 0.04187721386551857, --- accuray : 0.9886074250672447, --- recall : 0.9885785897156817\n"
     ]
    },
    {
     "data": {
      "application/vnd.jupyter.widget-view+json": {
       "model_id": "2994382dd20a4df1bd4cee252e22dc38",
       "version_major": 2,
       "version_minor": 0
      },
      "text/plain": [
       "train:   0%|          | 0/1758 [00:00<?, ?it/s]"
      ]
     },
     "metadata": {},
     "output_type": "display_data"
    },
    {
     "name": "stdout",
     "output_type": "stream",
     "text": [
      "Epoch : 50/50 -- Training loss 0.022907472201827313, --- Val loss 0.03184057027101517, --- accuray : 0.9881908111280848, --- recall : 0.9882251421787187\n"
     ]
    },
    {
     "data": {
      "text/plain": [
       "GRU(\n",
       "  (rnn): GRU(1, 32, batch_first=True)\n",
       "  (fc): Linear(in_features=5984, out_features=5, bias=True)\n",
       ")"
      ]
     },
     "execution_count": 56,
     "metadata": {},
     "output_type": "execute_result"
    },
    {
     "data": {
      "image/png": "[encoded data removed]",
      "text/plain": [
       "<Figure size 640x480 with 1 Axes>"
      ]
     },
     "metadata": {},
     "output_type": "display_data"
    }
   ],
   "source": [
    "trainrnn(model,train_loader,test_loader,epochs = 50,lr=1e-3,device='cpu',patience=5,factor=0.3, outmodelname = '../models/sequence_gru.pkl')"
   ]
  },
  {
   "cell_type": "code",
   "execution_count": 129,
   "id": "3069c132-4d55-4b46-b7ab-ff5ad5709174",
   "metadata": {},
   "outputs": [
    {
     "name": "stdout",
     "output_type": "stream",
     "text": [
      "=================================================================\n",
      "Layer (type:depth-idx)                   Param #\n",
      "=================================================================\n",
      "├─GRU: 1-1                               3,360\n",
      "├─Linear: 1-2                            29,925\n",
      "=================================================================\n",
      "Total params: 33,285\n",
      "Trainable params: 33,285\n",
      "Non-trainable params: 0\n",
      "=================================================================\n"
     ]
    }
   ],
   "source": [
    "model=joblib.load('../models/sequence_gru.pkl')\n",
    "summary(model);"
   ]
  },
  {
   "cell_type": "code",
   "execution_count": 124,
   "id": "c7657c4a-6d4c-4f14-831f-18a01f5ea56f",
   "metadata": {},
   "outputs": [
    {
     "name": "stdout",
     "output_type": "stream",
     "text": [
      "              precision    recall  f1-score   support\n",
      "\n",
      "           0      0.992     0.979     0.985     18118\n",
      "           1      0.695     0.824     0.754       556\n",
      "           2      0.931     0.943     0.937      1448\n",
      "           3      0.613     0.852     0.713       162\n",
      "           4      0.959     0.984     0.972      1608\n",
      "\n",
      "    accuracy                          0.972     21892\n",
      "   macro avg      0.838     0.916     0.872     21892\n",
      "weighted avg      0.975     0.972     0.973     21892\n",
      "\n"
     ]
    },
    {
     "data": {
      "image/png": "[encoded data removed]",
      "text/plain": [
       "<Figure size 400x400 with 1 Axes>"
      ]
     },
     "metadata": {},
     "output_type": "display_data"
    }
   ],
   "source": [
    "y_true, y_pred, accuracy, recall, loss = evaluate_model(model, val_loader)\n",
    "table = pd.crosstab(y_true,y_pred,rownames=['True'],colnames=['Predicted'])\n",
    "fig = plt.figure(figsize=(4,4))\n",
    "ax = fig.add_subplot()\n",
    "\n",
    "sns.heatmap(table,cmap='Blues',annot=True,fmt='d',cbar=False,linecolor='black',ax=ax)\n",
    "ax.set_aspect('equal')\n",
    "print(classification_report(y_true, y_pred,digits=3))"
   ]
  },
  {
   "cell_type": "markdown",
   "id": "3008a1e2-2217-4702-8432-36cce4008a10",
   "metadata": {},
   "source": [
    "## 3 . Application d'une couche RNN après une première couche de convolution"
   ]
  },
  {
   "cell_type": "markdown",
   "id": "5d58a960-6042-404a-8ac7-f9534295f0af",
   "metadata": {},
   "source": [
    "#### Base de données train et cross-val"
   ]
  },
  {
   "cell_type": "markdown",
   "id": "2eddffb1-f73f-4eac-95b8-bf1fda1ad318",
   "metadata": {},
   "source": [
    "Cette fois ci la dimension de la séquence est la troisième. un changement de dimension pour la couche RNN est appliquée dans le modèle"
   ]
  },
  {
   "cell_type": "code",
   "execution_count": 6,
   "id": "1ca6b4cd-5786-4bca-bf21-be052898837b",
   "metadata": {},
   "outputs": [
    {
     "name": "stdout",
     "output_type": "stream",
     "text": [
      "3.0    45023\n",
      "2.0    45017\n",
      "1.0    45001\n",
      "4.0    44982\n",
      "0.0    44977\n",
      "Name: count, dtype: int64\n",
      "0.0    5023\n",
      "4.0    5018\n",
      "1.0    4999\n",
      "2.0    4983\n",
      "3.0    4977\n",
      "Name: count, dtype: int64\n"
     ]
    }
   ],
   "source": [
    "X_train, y_train = load_balanced.load('../data/processed/mitbih_train_smote_perturb_50000.csv')\n",
    "X_train,X_cross, y_train, y_cross = train_test_split(X_train,y_train,test_size=split_size,random_state=12)\n",
    "\n",
    "X_train =np.expand_dims(X_train,axis=1)\n",
    "X_cross =np.expand_dims(X_cross,axis=1)\n",
    "print(pd.Series(y_train).value_counts())\n",
    "print(pd.Series(y_cross).value_counts())\n",
    "\n",
    "train_set = TensorDataset(torch.from_numpy(X_train).float(), torch.Tensor(torch.from_numpy(y_train).long()))\n",
    "train_loader = DataLoader(train_set, batch_size=batch_size, shuffle=True)\n",
    "test_set = TensorDataset(torch.from_numpy(X_cross).float(), torch.Tensor(torch.from_numpy(y_cross).long()))\n",
    "test_loader = DataLoader(test_set, batch_size=batch_size, shuffle=True)\n"
   ]
  },
  {
   "cell_type": "markdown",
   "id": "02a88103-4f7e-46cf-a6c4-311055f307ef",
   "metadata": {},
   "source": [
    "#### base de données test"
   ]
  },
  {
   "cell_type": "code",
   "execution_count": 63,
   "id": "1e63955c-fd42-4fa8-9b77-9c5cac9efbeb",
   "metadata": {},
   "outputs": [],
   "source": [
    "X_val, y_val = load_balanced.load('../data/raw/mitbih_test.csv')\n",
    "X_val = np.expand_dims(X_val,axis=1)\n",
    "val_set = TensorDataset(torch.from_numpy(X_val).float(), torch.Tensor(torch.from_numpy(y_val).long()))\n",
    "val_loader = DataLoader(val_set, batch_size=200, shuffle=False)"
   ]
  },
  {
   "cell_type": "markdown",
   "id": "13241531-4b8e-4073-ac68-6783d5e386af",
   "metadata": {},
   "source": [
    "#### 3.1 Modèle CNN + RNN"
   ]
  },
  {
   "cell_type": "code",
   "execution_count": 8,
   "id": "eb37f2a5-8c08-44e1-a5b4-a101aec72e04",
   "metadata": {},
   "outputs": [],
   "source": [
    "class CNNRNN(nn.Module):\n",
    "    \n",
    "    def __init__(self,input_size,num_conv,hidden_size,num_layer,num_classes=10):\n",
    "        super(CNNRNN,self).__init__()\n",
    "        self.hidden_size=hidden_size\n",
    "        self.num_layer=num_layer\n",
    "        self.num_conv =num_conv\n",
    "        self.cnn =  nn.Conv1d(in_channels=1, out_channels=self.num_conv , kernel_size=7, stride=1, padding=0) # shape: (batch_size, n, 181)\n",
    "        self.batch = nn.BatchNorm1d(num_features=self.num_conv )\n",
    "        self.pool= nn.MaxPool1d(3, stride=3) # shape: (batch_size, n, 60)\n",
    "        self.rnn=nn.RNN(self.num_conv ,hidden_size,num_layer,batch_first=True)\n",
    "        self.fc=nn.Linear(hidden_size*60,num_classes)\n",
    "\n",
    "\n",
    "    def forward(self,x):\n",
    "        h0=torch.zeros(self.num_layer,x.size(0),self.hidden_size).to(\"cpu\")\n",
    "        out=self.cnn(x)\n",
    "        \n",
    "        out=nn.ReLU()(out)\n",
    "        out=self.batch(out)\n",
    "        out=self.pool(out)\n",
    "        out,_=self.rnn(out.swapaxes(1,2),h0)\n",
    "        out=out.reshape(out.shape[0],-1)\n",
    "        out=self.fc(out)\n",
    "        \n",
    "        return out\n",
    "\n"
   ]
  },
  {
   "cell_type": "code",
   "execution_count": 138,
   "id": "51b1084b-78df-4651-95af-7e911a32040e",
   "metadata": {},
   "outputs": [],
   "source": [
    "model = CNNRNN(input_size,num_conv, hidden_size,num_layer,num_classes)\n"
   ]
  },
  {
   "cell_type": "code",
   "execution_count": 139,
   "id": "19d26b9a-e1a9-427b-934c-709f6aa42f56",
   "metadata": {},
   "outputs": [
    {
     "name": "stdout",
     "output_type": "stream",
     "text": [
      "=================================================================\n",
      "Layer (type:depth-idx)                   Param #\n",
      "=================================================================\n",
      "├─Conv1d: 1-1                            160\n",
      "├─BatchNorm1d: 1-2                       40\n",
      "├─MaxPool1d: 1-3                         --\n",
      "├─RNN: 1-4                               1,728\n",
      "├─Linear: 1-5                            9,605\n",
      "=================================================================\n",
      "Total params: 11,533\n",
      "Trainable params: 11,533\n",
      "Non-trainable params: 0\n",
      "=================================================================\n"
     ]
    }
   ],
   "source": [
    "summary(model);"
   ]
  },
  {
   "cell_type": "markdown",
   "id": "cac02de9-be38-4c8b-8eea-f64c105bcd77",
   "metadata": {},
   "source": [
    "#### Train"
   ]
  },
  {
   "cell_type": "code",
   "execution_count": 116,
   "id": "91b98b28-d0a1-4c81-abcc-96dc97652cac",
   "metadata": {
    "scrolled": true
   },
   "outputs": [
    {
     "name": "stderr",
     "output_type": "stream",
     "text": [
      "C:\\Users\\passage\\Documents\\perso\\TEST\\WinPython\\WPy64-31020\\scripts\\heartbeat\\lib\\site-packages\\torch\\optim\\lr_scheduler.py:62: UserWarning: The verbose parameter is deprecated. Please use get_last_lr() to access the learning rate.\n",
      "  warnings.warn(\n"
     ]
    },
    {
     "data": {
      "application/vnd.jupyter.widget-view+json": {
       "model_id": "787c371ae2e74316ab6b9b39312cbc85",
       "version_major": 2,
       "version_minor": 0
      },
      "text/plain": [
       "train:   0%|          | 0/1758 [00:00<?, ?it/s]"
      ]
     },
     "metadata": {},
     "output_type": "display_data"
    },
    {
     "name": "stdout",
     "output_type": "stream",
     "text": [
      "save model\n",
      "Epoch : 1/250 -- Training loss 0.01736026079380613, --- Val loss 0.01163922343403101, --- accuray : 0.9960013092125355, --- recall : 0.9960090488641627\n"
     ]
    },
    {
     "data": {
      "application/vnd.jupyter.widget-view+json": {
       "model_id": "3359bc6aca784c9f990e7c342c34ccbd",
       "version_major": 2,
       "version_minor": 0
      },
      "text/plain": [
       "train:   0%|          | 0/1758 [00:00<?, ?it/s]"
      ]
     },
     "metadata": {},
     "output_type": "display_data"
    },
    {
     "name": "stdout",
     "output_type": "stream",
     "text": [
      "Epoch : 2/250 -- Training loss 0.01613224435068922, --- Val loss 0.13021311163902283, --- accuray : 0.9959693644292381, --- recall : 0.9959707834008185\n"
     ]
    },
    {
     "data": {
      "application/vnd.jupyter.widget-view+json": {
       "model_id": "3c12075378c64b349a0c3c713455df82",
       "version_major": 2,
       "version_minor": 0
      },
      "text/plain": [
       "train:   0%|          | 0/1758 [00:00<?, ?it/s]"
      ]
     },
     "metadata": {},
     "output_type": "display_data"
    },
    {
     "name": "stdout",
     "output_type": "stream",
     "text": [
      "Epoch : 3/250 -- Training loss 0.017049695783130113, --- Val loss 0.039993442595005035, --- accuray : 0.9958075762846537, --- recall : 0.9958075892558551\n"
     ]
    },
    {
     "data": {
      "application/vnd.jupyter.widget-view+json": {
       "model_id": "c889f900dce8407cbc28bbef0ef99c60",
       "version_major": 2,
       "version_minor": 0
      },
      "text/plain": [
       "train:   0%|          | 0/1758 [00:00<?, ?it/s]"
      ]
     },
     "metadata": {},
     "output_type": "display_data"
    },
    {
     "name": "stdout",
     "output_type": "stream",
     "text": [
      "save model\n",
      "Epoch : 4/250 -- Training loss 0.01635769701231588, --- Val loss 0.003145861905068159, --- accuray : 0.99639816998605, --- recall : 0.996407580193768\n"
     ]
    },
    {
     "data": {
      "application/vnd.jupyter.widget-view+json": {
       "model_id": "d7b8279fd3a1443c85a37be7ba6bee3b",
       "version_major": 2,
       "version_minor": 0
      },
      "text/plain": [
       "train:   0%|          | 0/1758 [00:00<?, ?it/s]"
      ]
     },
     "metadata": {},
     "output_type": "display_data"
    },
    {
     "name": "stdout",
     "output_type": "stream",
     "text": [
      "Epoch : 5/250 -- Training loss 0.015357465823740701, --- Val loss 0.00043024957994930446, --- accuray : 0.995879156042256, --- recall : 0.9958882792606512\n"
     ]
    },
    {
     "data": {
      "application/vnd.jupyter.widget-view+json": {
       "model_id": "e4958cc73b3f4c819c74ae991a303413",
       "version_major": 2,
       "version_minor": 0
      },
      "text/plain": [
       "train:   0%|          | 0/1758 [00:00<?, ?it/s]"
      ]
     },
     "metadata": {},
     "output_type": "display_data"
    },
    {
     "name": "stdout",
     "output_type": "stream",
     "text": [
      "Epoch : 6/250 -- Training loss 0.016170252315554436, --- Val loss 0.0013649269239977002, --- accuray : 0.9958474471937777, --- recall : 0.9958513018662561\n"
     ]
    },
    {
     "data": {
      "application/vnd.jupyter.widget-view+json": {
       "model_id": "7048e7c7beef4c03bd940e449355af8a",
       "version_major": 2,
       "version_minor": 0
      },
      "text/plain": [
       "train:   0%|          | 0/1758 [00:00<?, ?it/s]"
      ]
     },
     "metadata": {},
     "output_type": "display_data"
    },
    {
     "name": "stdout",
     "output_type": "stream",
     "text": [
      "Epoch : 7/250 -- Training loss 0.01574194075515157, --- Val loss 0.017501648515462875, --- accuray : 0.9958445342505666, --- recall : 0.9958526144280377\n"
     ]
    },
    {
     "data": {
      "application/vnd.jupyter.widget-view+json": {
       "model_id": "a569ae2232da430494e09e853ce863ef",
       "version_major": 2,
       "version_minor": 0
      },
      "text/plain": [
       "train:   0%|          | 0/1758 [00:00<?, ?it/s]"
      ]
     },
     "metadata": {},
     "output_type": "display_data"
    },
    {
     "name": "stdout",
     "output_type": "stream",
     "text": [
      "Epoch : 8/250 -- Training loss 0.015730598479273047, --- Val loss 0.001978627871721983, --- accuray : 0.9960427185229543, --- recall : 0.9960487934268517\n"
     ]
    },
    {
     "data": {
      "application/vnd.jupyter.widget-view+json": {
       "model_id": "b8d4aea9bf3540618aa11ecef009ec51",
       "version_major": 2,
       "version_minor": 0
      },
      "text/plain": [
       "train:   0%|          | 0/1758 [00:00<?, ?it/s]"
      ]
     },
     "metadata": {},
     "output_type": "display_data"
    },
    {
     "name": "stdout",
     "output_type": "stream",
     "text": [
      "Epoch : 9/250 -- Training loss 0.015290047261772216, --- Val loss 0.029870809987187386, --- accuray : 0.9955237646261257, --- recall : 0.9955316836416065\n"
     ]
    },
    {
     "data": {
      "application/vnd.jupyter.widget-view+json": {
       "model_id": "4b4809b9f92d423ba672359ee54c3f9d",
       "version_major": 2,
       "version_minor": 0
      },
      "text/plain": [
       "train:   0%|          | 0/1758 [00:00<?, ?it/s]"
      ]
     },
     "metadata": {},
     "output_type": "display_data"
    },
    {
     "name": "stdout",
     "output_type": "stream",
     "text": [
      "Epoch : 10/250 -- Training loss 0.014750277887028993, --- Val loss 0.08135589957237244, --- accuray : 0.9961615980678691, --- recall : 0.9961664175431345\n"
     ]
    },
    {
     "data": {
      "application/vnd.jupyter.widget-view+json": {
       "model_id": "d8f4ce6fffef4d1fbaf4d55107b0990d",
       "version_major": 2,
       "version_minor": 0
      },
      "text/plain": [
       "train:   0%|          | 0/1758 [00:00<?, ?it/s]"
      ]
     },
     "metadata": {},
     "output_type": "display_data"
    },
    {
     "name": "stdout",
     "output_type": "stream",
     "text": [
      "Epoch : 11/250 -- Training loss 0.01559326651362999, --- Val loss 0.06801318377256393, --- accuray : 0.9958067559220233, --- recall : 0.9958102549242531\n"
     ]
    },
    {
     "data": {
      "application/vnd.jupyter.widget-view+json": {
       "model_id": "368ae63da2a341b0aaec237d28c06995",
       "version_major": 2,
       "version_minor": 0
      },
      "text/plain": [
       "train:   0%|          | 0/1758 [00:00<?, ?it/s]"
      ]
     },
     "metadata": {},
     "output_type": "display_data"
    },
    {
     "name": "stdout",
     "output_type": "stream",
     "text": [
      "Epoch : 12/250 -- Training loss 0.01535783609371815, --- Val loss 0.009340835735201836, --- accuray : 0.9957689388135564, --- recall : 0.9957734860682784\n"
     ]
    },
    {
     "data": {
      "application/vnd.jupyter.widget-view+json": {
       "model_id": "299681e7b1f44026b5e113d1a60b71a0",
       "version_major": 2,
       "version_minor": 0
      },
      "text/plain": [
       "train:   0%|          | 0/1758 [00:00<?, ?it/s]"
      ]
     },
     "metadata": {},
     "output_type": "display_data"
    },
    {
     "name": "stdout",
     "output_type": "stream",
     "text": [
      "Epoch : 13/250 -- Training loss 0.014831840972285747, --- Val loss 0.02681002765893936, --- accuray : 0.9950809904039645, --- recall : 0.9950893725841958\n"
     ]
    },
    {
     "data": {
      "application/vnd.jupyter.widget-view+json": {
       "model_id": "0e7ce8eddf80416fb418aa5c7529e2d7",
       "version_major": 2,
       "version_minor": 0
      },
      "text/plain": [
       "train:   0%|          | 0/1758 [00:00<?, ?it/s]"
      ]
     },
     "metadata": {},
     "output_type": "display_data"
    },
    {
     "name": "stdout",
     "output_type": "stream",
     "text": [
      "Epoch : 14/250 -- Training loss 0.014838370046953089, --- Val loss 0.03915310651063919, --- accuray : 0.9961700531721561, --- recall : 0.9961701277499821\n"
     ]
    },
    {
     "data": {
      "application/vnd.jupyter.widget-view+json": {
       "model_id": "925d4a16855943559499cb6fa6b161f9",
       "version_major": 2,
       "version_minor": 0
      },
      "text/plain": [
       "train:   0%|          | 0/1758 [00:00<?, ?it/s]"
      ]
     },
     "metadata": {},
     "output_type": "display_data"
    },
    {
     "name": "stdout",
     "output_type": "stream",
     "text": [
      "Epoch : 15/250 -- Training loss 0.014386044788468996, --- Val loss 0.0008708062232472003, --- accuray : 0.9960459717852403, --- recall : 0.9960503861241692\n"
     ]
    },
    {
     "data": {
      "application/vnd.jupyter.widget-view+json": {
       "model_id": "09e1622dcedd41cd958c77b8f542e174",
       "version_major": 2,
       "version_minor": 0
      },
      "text/plain": [
       "train:   0%|          | 0/1758 [00:00<?, ?it/s]"
      ]
     },
     "metadata": {},
     "output_type": "display_data"
    },
    {
     "name": "stdout",
     "output_type": "stream",
     "text": [
      "Epoch : 16/250 -- Training loss 0.014931325444091485, --- Val loss 0.011193182319402695, --- accuray : 0.9961236570284899, --- recall : 0.996132145348346\n"
     ]
    },
    {
     "data": {
      "application/vnd.jupyter.widget-view+json": {
       "model_id": "ef9c6b9a13fe417faacca7dcf85030c4",
       "version_major": 2,
       "version_minor": 0
      },
      "text/plain": [
       "train:   0%|          | 0/1758 [00:00<?, ?it/s]"
      ]
     },
     "metadata": {},
     "output_type": "display_data"
    },
    {
     "name": "stdout",
     "output_type": "stream",
     "text": [
      "Epoch : 17/250 -- Training loss 0.014166256377173048, --- Val loss 0.03326812759041786, --- accuray : 0.9961625508894354, --- recall : 0.9961706534713708\n"
     ]
    },
    {
     "data": {
      "application/vnd.jupyter.widget-view+json": {
       "model_id": "98a51691b7034fe4950eab1db0f3042b",
       "version_major": 2,
       "version_minor": 0
      },
      "text/plain": [
       "train:   0%|          | 0/1758 [00:00<?, ?it/s]"
      ]
     },
     "metadata": {},
     "output_type": "display_data"
    },
    {
     "name": "stdout",
     "output_type": "stream",
     "text": [
      "save model\n",
      "Epoch : 18/250 -- Training loss 0.01446465818859551, --- Val loss 0.005425443407148123, --- accuray : 0.9965237272924696, --- recall : 0.9965286157793856\n"
     ]
    },
    {
     "data": {
      "application/vnd.jupyter.widget-view+json": {
       "model_id": "339e011fa4344bea81cf4e4470c7e5fd",
       "version_major": 2,
       "version_minor": 0
      },
      "text/plain": [
       "train:   0%|          | 0/1758 [00:00<?, ?it/s]"
      ]
     },
     "metadata": {},
     "output_type": "display_data"
    },
    {
     "name": "stdout",
     "output_type": "stream",
     "text": [
      "Epoch : 19/250 -- Training loss 0.01450634121529085, --- Val loss 0.08483566343784332, --- accuray : 0.9954879368433304, --- recall : 0.9954857702407786\n"
     ]
    },
    {
     "data": {
      "application/vnd.jupyter.widget-view+json": {
       "model_id": "1906cb0d0faa41f385a4520a3440ff9d",
       "version_major": 2,
       "version_minor": 0
      },
      "text/plain": [
       "train:   0%|          | 0/1758 [00:00<?, ?it/s]"
      ]
     },
     "metadata": {},
     "output_type": "display_data"
    },
    {
     "name": "stdout",
     "output_type": "stream",
     "text": [
      "Epoch : 20/250 -- Training loss 0.014048984459207017, --- Val loss 0.00014479037781711668, --- accuray : 0.9951445169103689, --- recall : 0.995129626847589\n"
     ]
    },
    {
     "data": {
      "application/vnd.jupyter.widget-view+json": {
       "model_id": "8c9f7fbd78c0432a8597e514ec6b7cf0",
       "version_major": 2,
       "version_minor": 0
      },
      "text/plain": [
       "train:   0%|          | 0/1758 [00:00<?, ?it/s]"
      ]
     },
     "metadata": {},
     "output_type": "display_data"
    },
    {
     "name": "stdout",
     "output_type": "stream",
     "text": [
      "Epoch : 21/250 -- Training loss 0.014961397019355026, --- Val loss 0.0001090700170607306, --- accuray : 0.9962461200687738, --- recall : 0.9962495987991682\n"
     ]
    },
    {
     "data": {
      "application/vnd.jupyter.widget-view+json": {
       "model_id": "07cbdbc864054eeab23c7c86bb7f6692",
       "version_major": 2,
       "version_minor": 0
      },
      "text/plain": [
       "train:   0%|          | 0/1758 [00:00<?, ?it/s]"
      ]
     },
     "metadata": {},
     "output_type": "display_data"
    },
    {
     "name": "stdout",
     "output_type": "stream",
     "text": [
      "Epoch : 22/250 -- Training loss 0.01402254102527045, --- Val loss 0.017873220145702362, --- accuray : 0.9956903695471386, --- recall : 0.9956903752457329\n"
     ]
    },
    {
     "data": {
      "application/vnd.jupyter.widget-view+json": {
       "model_id": "7cd2efb3cb6d4f639553a11d2f211125",
       "version_major": 2,
       "version_minor": 0
      },
      "text/plain": [
       "train:   0%|          | 0/1758 [00:00<?, ?it/s]"
      ]
     },
     "metadata": {},
     "output_type": "display_data"
    },
    {
     "name": "stdout",
     "output_type": "stream",
     "text": [
      "save model\n",
      "Epoch : 23/250 -- Training loss 0.014488716994193252, --- Val loss 0.011087700724601746, --- accuray : 0.9967682837945346, --- recall : 0.9967699628137066\n"
     ]
    },
    {
     "data": {
      "application/vnd.jupyter.widget-view+json": {
       "model_id": "50ed01c05b5948b2802ed8812fccadf3",
       "version_major": 2,
       "version_minor": 0
      },
      "text/plain": [
       "train:   0%|          | 0/1758 [00:00<?, ?it/s]"
      ]
     },
     "metadata": {},
     "output_type": "display_data"
    },
    {
     "name": "stdout",
     "output_type": "stream",
     "text": [
      "Epoch : 24/250 -- Training loss 0.01318595461732982, --- Val loss 0.00038887173286639154, --- accuray : 0.9967228301455064, --- recall : 0.9967295264485891\n"
     ]
    },
    {
     "data": {
      "application/vnd.jupyter.widget-view+json": {
       "model_id": "2fc2d9037c464f20b6a71967a6ea7899",
       "version_major": 2,
       "version_minor": 0
      },
      "text/plain": [
       "train:   0%|          | 0/1758 [00:00<?, ?it/s]"
      ]
     },
     "metadata": {},
     "output_type": "display_data"
    },
    {
     "name": "stdout",
     "output_type": "stream",
     "text": [
      "Epoch : 25/250 -- Training loss 0.013641198244963909, --- Val loss 0.002449481748044491, --- accuray : 0.9966395309895123, --- recall : 0.9966468511030486\n"
     ]
    },
    {
     "data": {
      "application/vnd.jupyter.widget-view+json": {
       "model_id": "ea04a597616940ffabde8fa14162cea5",
       "version_major": 2,
       "version_minor": 0
      },
      "text/plain": [
       "train:   0%|          | 0/1758 [00:00<?, ?it/s]"
      ]
     },
     "metadata": {},
     "output_type": "display_data"
    },
    {
     "name": "stdout",
     "output_type": "stream",
     "text": [
      "Epoch : 26/250 -- Training loss 0.013669846006710533, --- Val loss 0.09118475019931793, --- accuray : 0.9964019605254946, --- recall : 0.9964081808809941\n"
     ]
    },
    {
     "data": {
      "application/vnd.jupyter.widget-view+json": {
       "model_id": "736a939c15d74c88960da6a33202d0ca",
       "version_major": 2,
       "version_minor": 0
      },
      "text/plain": [
       "train:   0%|          | 0/1758 [00:00<?, ?it/s]"
      ]
     },
     "metadata": {},
     "output_type": "display_data"
    },
    {
     "name": "stdout",
     "output_type": "stream",
     "text": [
      "Epoch : 27/250 -- Training loss 0.01282108985542105, --- Val loss 0.0016586253186687827, --- accuray : 0.996049577079196, --- recall : 0.996050385396158\n"
     ]
    },
    {
     "data": {
      "application/vnd.jupyter.widget-view+json": {
       "model_id": "7c6e6c4c9ef24ebabca556ef1b2f13c0",
       "version_major": 2,
       "version_minor": 0
      },
      "text/plain": [
       "train:   0%|          | 0/1758 [00:00<?, ?it/s]"
      ]
     },
     "metadata": {},
     "output_type": "display_data"
    },
    {
     "name": "stdout",
     "output_type": "stream",
     "text": [
      "Epoch : 28/250 -- Training loss 0.013509735460209452, --- Val loss 0.009158903732895851, --- accuray : 0.99644518988221, --- recall : 0.9964498814215595\n"
     ]
    },
    {
     "data": {
      "application/vnd.jupyter.widget-view+json": {
       "model_id": "e72666cbeda3423faae7dd01e25bf93f",
       "version_major": 2,
       "version_minor": 0
      },
      "text/plain": [
       "train:   0%|          | 0/1758 [00:00<?, ?it/s]"
      ]
     },
     "metadata": {},
     "output_type": "display_data"
    },
    {
     "name": "stdout",
     "output_type": "stream",
     "text": [
      "Epoch : 29/250 -- Training loss 0.01333373165659651, --- Val loss 0.00030750068253837526, --- accuray : 0.9964445330279614, --- recall : 0.9964484030643532\n"
     ]
    },
    {
     "data": {
      "application/vnd.jupyter.widget-view+json": {
       "model_id": "8574f1e2f1014737b0611837fad78ec8",
       "version_major": 2,
       "version_minor": 0
      },
      "text/plain": [
       "train:   0%|          | 0/1758 [00:00<?, ?it/s]"
      ]
     },
     "metadata": {},
     "output_type": "display_data"
    },
    {
     "name": "stdout",
     "output_type": "stream",
     "text": [
      "Epoch : 30/250 -- Training loss 0.012776451536305066, --- Val loss 0.005274725612252951, --- accuray : 0.9964005673221298, --- recall : 0.996408326722716\n"
     ]
    },
    {
     "data": {
      "application/vnd.jupyter.widget-view+json": {
       "model_id": "0bed4415a8bb41a88ad3e90eb5563e58",
       "version_major": 2,
       "version_minor": 0
      },
      "text/plain": [
       "train:   0%|          | 0/1758 [00:00<?, ?it/s]"
      ]
     },
     "metadata": {},
     "output_type": "display_data"
    },
    {
     "name": "stdout",
     "output_type": "stream",
     "text": [
      "Epoch : 31/250 -- Training loss 0.012342988838570485, --- Val loss 0.0011478641536086798, --- accuray : 0.9962882748163249, --- recall : 0.9962928736510142\n"
     ]
    },
    {
     "data": {
      "application/vnd.jupyter.widget-view+json": {
       "model_id": "3577760f179d4af6bf0eeb0ab07a0faa",
       "version_major": 2,
       "version_minor": 0
      },
      "text/plain": [
       "train:   0%|          | 0/1758 [00:00<?, ?it/s]"
      ]
     },
     "metadata": {},
     "output_type": "display_data"
    },
    {
     "name": "stdout",
     "output_type": "stream",
     "text": [
      "save model\n",
      "Epoch : 32/250 -- Training loss 0.012772988692487948, --- Val loss 0.0022482520435005426, --- accuray : 0.9969617436356459, --- recall : 0.9969674829497407\n"
     ]
    },
    {
     "data": {
      "application/vnd.jupyter.widget-view+json": {
       "model_id": "979c14b69c3c4836ba8f3a68331ed75c",
       "version_major": 2,
       "version_minor": 0
      },
      "text/plain": [
       "train:   0%|          | 0/1758 [00:00<?, ?it/s]"
      ]
     },
     "metadata": {},
     "output_type": "display_data"
    },
    {
     "name": "stdout",
     "output_type": "stream",
     "text": [
      "Epoch : 33/250 -- Training loss 0.013722920588379948, --- Val loss 0.019080208614468575, --- accuray : 0.995221115527529, --- recall : 0.9952148709460522\n"
     ]
    },
    {
     "data": {
      "application/vnd.jupyter.widget-view+json": {
       "model_id": "25e0dc132fa54d2dbbbb966391e303ec",
       "version_major": 2,
       "version_minor": 0
      },
      "text/plain": [
       "train:   0%|          | 0/1758 [00:00<?, ?it/s]"
      ]
     },
     "metadata": {},
     "output_type": "display_data"
    },
    {
     "name": "stdout",
     "output_type": "stream",
     "text": [
      "Epoch : 34/250 -- Training loss 0.012138903984449246, --- Val loss 0.002248228993266821, --- accuray : 0.9961247931947076, --- recall : 0.9961327218945536\n"
     ]
    },
    {
     "data": {
      "application/vnd.jupyter.widget-view+json": {
       "model_id": "74b625570a174afc9ecd893b45cd1753",
       "version_major": 2,
       "version_minor": 0
      },
      "text/plain": [
       "train:   0%|          | 0/1758 [00:00<?, ?it/s]"
      ]
     },
     "metadata": {},
     "output_type": "display_data"
    },
    {
     "name": "stdout",
     "output_type": "stream",
     "text": [
      "Epoch : 35/250 -- Training loss 0.013751456124393642, --- Val loss 0.0037206890992820263, --- accuray : 0.996481539587491, --- recall : 0.9964894610596426\n"
     ]
    },
    {
     "data": {
      "application/vnd.jupyter.widget-view+json": {
       "model_id": "4008aaafd5814ec9ae82c2f05098c9b1",
       "version_major": 2,
       "version_minor": 0
      },
      "text/plain": [
       "train:   0%|          | 0/1758 [00:00<?, ?it/s]"
      ]
     },
     "metadata": {},
     "output_type": "display_data"
    },
    {
     "name": "stdout",
     "output_type": "stream",
     "text": [
      "Epoch : 36/250 -- Training loss 0.013770684726729704, --- Val loss 0.0269590113312006, --- accuray : 0.9965730106291988, --- recall : 0.9965715344953244\n"
     ]
    },
    {
     "data": {
      "application/vnd.jupyter.widget-view+json": {
       "model_id": "f6fe5f39dd27440cbc71c74968206c90",
       "version_major": 2,
       "version_minor": 0
      },
      "text/plain": [
       "train:   0%|          | 0/1758 [00:00<?, ?it/s]"
      ]
     },
     "metadata": {},
     "output_type": "display_data"
    },
    {
     "name": "stdout",
     "output_type": "stream",
     "text": [
      "Epoch : 37/250 -- Training loss 0.011901054135917747, --- Val loss 0.001057245652191341, --- accuray : 0.9964867387465386, --- recall : 0.9964867638443428\n"
     ]
    },
    {
     "data": {
      "application/vnd.jupyter.widget-view+json": {
       "model_id": "9fdd743069b447a5bcaa2aa7fdded2f3",
       "version_major": 2,
       "version_minor": 0
      },
      "text/plain": [
       "train:   0%|          | 0/1758 [00:00<?, ?it/s]"
      ]
     },
     "metadata": {},
     "output_type": "display_data"
    },
    {
     "name": "stdout",
     "output_type": "stream",
     "text": [
      "Epoch : 38/250 -- Training loss 0.012602193157845384, --- Val loss 0.0002871509059332311, --- accuray : 0.9968009711012321, --- recall : 0.9968090204298756\n"
     ]
    },
    {
     "data": {
      "application/vnd.jupyter.widget-view+json": {
       "model_id": "597b56c2c8e24d4e88b2275c346870f3",
       "version_major": 2,
       "version_minor": 0
      },
      "text/plain": [
       "train:   0%|          | 0/1758 [00:00<?, ?it/s]"
      ]
     },
     "metadata": {},
     "output_type": "display_data"
    },
    {
     "name": "stdout",
     "output_type": "stream",
     "text": [
      "Epoch : 39/250 -- Training loss 0.012439850106679102, --- Val loss 0.010975630953907967, --- accuray : 0.9961305549026729, --- recall : 0.9961324967047996\n"
     ]
    },
    {
     "data": {
      "application/vnd.jupyter.widget-view+json": {
       "model_id": "b4f897f248a24fbb999cf1e0c9b6bf32",
       "version_major": 2,
       "version_minor": 0
      },
      "text/plain": [
       "train:   0%|          | 0/1758 [00:00<?, ?it/s]"
      ]
     },
     "metadata": {},
     "output_type": "display_data"
    },
    {
     "name": "stdout",
     "output_type": "stream",
     "text": [
      "Epoch : 40/250 -- Training loss 0.012858266323803555, --- Val loss 0.008275266736745834, --- accuray : 0.9955645842539823, --- recall : 0.9955690221325266\n"
     ]
    },
    {
     "data": {
      "application/vnd.jupyter.widget-view+json": {
       "model_id": "d72310976bbc4521a8a80190166d8f77",
       "version_major": 2,
       "version_minor": 0
      },
      "text/plain": [
       "train:   0%|          | 0/1758 [00:00<?, ?it/s]"
      ]
     },
     "metadata": {},
     "output_type": "display_data"
    },
    {
     "name": "stdout",
     "output_type": "stream",
     "text": [
      "Epoch : 41/250 -- Training loss 0.012540676746629266, --- Val loss 0.001853753114119172, --- accuray : 0.9963242809336987, --- recall : 0.996330247673926\n"
     ]
    },
    {
     "data": {
      "application/vnd.jupyter.widget-view+json": {
       "model_id": "e3ecd22866bb4e97ba8a2e4f0c5f5887",
       "version_major": 2,
       "version_minor": 0
      },
      "text/plain": [
       "train:   0%|          | 0/1758 [00:00<?, ?it/s]"
      ]
     },
     "metadata": {},
     "output_type": "display_data"
    },
    {
     "name": "stdout",
     "output_type": "stream",
     "text": [
      "Epoch : 42/250 -- Training loss 0.01187961484182457, --- Val loss 0.0027565835043787956, --- accuray : 0.9959294616825265, --- recall : 0.9959303757017219\n"
     ]
    },
    {
     "data": {
      "application/vnd.jupyter.widget-view+json": {
       "model_id": "a465661309724628a0a110a5a9afe5b6",
       "version_major": 2,
       "version_minor": 0
      },
      "text/plain": [
       "train:   0%|          | 0/1758 [00:00<?, ?it/s]"
      ]
     },
     "metadata": {},
     "output_type": "display_data"
    },
    {
     "name": "stdout",
     "output_type": "stream",
     "text": [
      "Epoch : 43/250 -- Training loss 0.01260338598940269, --- Val loss 0.004580193664878607, --- accuray : 0.9951734282310595, --- recall : 0.995171273358482\n"
     ]
    },
    {
     "data": {
      "application/vnd.jupyter.widget-view+json": {
       "model_id": "074e316463f140e997d2e015e10b4f2b",
       "version_major": 2,
       "version_minor": 0
      },
      "text/plain": [
       "train:   0%|          | 0/1758 [00:00<?, ?it/s]"
      ]
     },
     "metadata": {},
     "output_type": "display_data"
    },
    {
     "name": "stdout",
     "output_type": "stream",
     "text": [
      "Epoch : 44/250 -- Training loss 0.012667854011310743, --- Val loss 0.0018032861407846212, --- accuray : 0.9961677063535553, --- recall : 0.9961717996525241\n"
     ]
    },
    {
     "data": {
      "application/vnd.jupyter.widget-view+json": {
       "model_id": "71448b12134d4eac8de556d8958ae9eb",
       "version_major": 2,
       "version_minor": 0
      },
      "text/plain": [
       "train:   0%|          | 0/1758 [00:00<?, ?it/s]"
      ]
     },
     "metadata": {},
     "output_type": "display_data"
    },
    {
     "name": "stdout",
     "output_type": "stream",
     "text": [
      "Epoch : 45/250 -- Training loss 0.011861402244318094, --- Val loss 0.00033015303779393435, --- accuray : 0.9960532600507024, --- recall : 0.9960534444359943\n"
     ]
    },
    {
     "data": {
      "application/vnd.jupyter.widget-view+json": {
       "model_id": "35b26953928a4c618a90b231af74834b",
       "version_major": 2,
       "version_minor": 0
      },
      "text/plain": [
       "train:   0%|          | 0/1758 [00:00<?, ?it/s]"
      ]
     },
     "metadata": {},
     "output_type": "display_data"
    },
    {
     "name": "stdout",
     "output_type": "stream",
     "text": [
      "save model\n",
      "Epoch : 46/250 -- Training loss 0.012348881699007268, --- Val loss 0.010161623358726501, --- accuray : 0.9971630568761629, --- recall : 0.9971689813612459\n"
     ]
    },
    {
     "data": {
      "application/vnd.jupyter.widget-view+json": {
       "model_id": "202dd81dda31489f8e5621d8958540e7",
       "version_major": 2,
       "version_minor": 0
      },
      "text/plain": [
       "train:   0%|          | 0/1758 [00:00<?, ?it/s]"
      ]
     },
     "metadata": {},
     "output_type": "display_data"
    },
    {
     "name": "stdout",
     "output_type": "stream",
     "text": [
      "Epoch : 47/250 -- Training loss 0.011857225091230005, --- Val loss 0.03820834681391716, --- accuray : 0.9963634060031719, --- recall : 0.9963682308488645\n"
     ]
    },
    {
     "data": {
      "application/vnd.jupyter.widget-view+json": {
       "model_id": "5944d2c750a244fa99de3662373a9656",
       "version_major": 2,
       "version_minor": 0
      },
      "text/plain": [
       "train:   0%|          | 0/1758 [00:00<?, ?it/s]"
      ]
     },
     "metadata": {},
     "output_type": "display_data"
    },
    {
     "name": "stdout",
     "output_type": "stream",
     "text": [
      "Epoch : 48/250 -- Training loss 0.011315309351273306, --- Val loss 0.00026420020731166005, --- accuray : 0.9960161603694748, --- recall : 0.99601246019069\n"
     ]
    },
    {
     "data": {
      "application/vnd.jupyter.widget-view+json": {
       "model_id": "7abeaaaf63dd4401b090056e62d12838",
       "version_major": 2,
       "version_minor": 0
      },
      "text/plain": [
       "train:   0%|          | 0/1758 [00:00<?, ?it/s]"
      ]
     },
     "metadata": {},
     "output_type": "display_data"
    },
    {
     "name": "stdout",
     "output_type": "stream",
     "text": [
      "Epoch : 49/250 -- Training loss 0.012291770748358449, --- Val loss 0.0016914018196985126, --- accuray : 0.9957330429293648, --- recall : 0.9957350675069172\n"
     ]
    },
    {
     "data": {
      "application/vnd.jupyter.widget-view+json": {
       "model_id": "50ec5fbdd82846f9b621669db52830a5",
       "version_major": 2,
       "version_minor": 0
      },
      "text/plain": [
       "train:   0%|          | 0/1758 [00:00<?, ?it/s]"
      ]
     },
     "metadata": {},
     "output_type": "display_data"
    },
    {
     "name": "stdout",
     "output_type": "stream",
     "text": [
      "Epoch : 50/250 -- Training loss 0.012238080175795385, --- Val loss 0.03803693875670433, --- accuray : 0.9954640046984669, --- recall : 0.9954567025786576\n"
     ]
    },
    {
     "data": {
      "application/vnd.jupyter.widget-view+json": {
       "model_id": "b20c3c30c1d14f9ba077a18aa224d5b7",
       "version_major": 2,
       "version_minor": 0
      },
      "text/plain": [
       "train:   0%|          | 0/1758 [00:00<?, ?it/s]"
      ]
     },
     "metadata": {},
     "output_type": "display_data"
    },
    {
     "name": "stdout",
     "output_type": "stream",
     "text": [
      "Epoch : 51/250 -- Training loss 0.01121347069449435, --- Val loss 0.0015421300195157528, --- accuray : 0.9962444543214272, --- recall : 0.9962505465196589\n"
     ]
    },
    {
     "data": {
      "application/vnd.jupyter.widget-view+json": {
       "model_id": "0459b2ef6bc74c1488d7ecb07c9a2282",
       "version_major": 2,
       "version_minor": 0
      },
      "text/plain": [
       "train:   0%|          | 0/1758 [00:00<?, ?it/s]"
      ]
     },
     "metadata": {},
     "output_type": "display_data"
    },
    {
     "name": "stdout",
     "output_type": "stream",
     "text": [
      "Epoch : 52/250 -- Training loss 0.011419898849291156, --- Val loss 0.22776421904563904, --- accuray : 0.9964461541342136, --- recall : 0.9964476179344339\n"
     ]
    },
    {
     "data": {
      "application/vnd.jupyter.widget-view+json": {
       "model_id": "efeda4fab1454ea48ee20e5a4abc3ae1",
       "version_major": 2,
       "version_minor": 0
      },
      "text/plain": [
       "train:   0%|          | 0/1758 [00:00<?, ?it/s]"
      ]
     },
     "metadata": {},
     "output_type": "display_data"
    },
    {
     "name": "stdout",
     "output_type": "stream",
     "text": [
      "Epoch : 53/250 -- Training loss 0.011014747329540242, --- Val loss 0.0027113775722682476, --- accuray : 0.9969196862220133, --- recall : 0.9969253691293254\n"
     ]
    },
    {
     "data": {
      "application/vnd.jupyter.widget-view+json": {
       "model_id": "f0bcfc6ea64f46cf896c33945035c353",
       "version_major": 2,
       "version_minor": 0
      },
      "text/plain": [
       "train:   0%|          | 0/1758 [00:00<?, ?it/s]"
      ]
     },
     "metadata": {},
     "output_type": "display_data"
    },
    {
     "name": "stdout",
     "output_type": "stream",
     "text": [
      "Epoch : 54/250 -- Training loss 0.010799860648094947, --- Val loss 0.001083117094822228, --- accuray : 0.9966466941519849, --- recall : 0.9966523839694869\n"
     ]
    },
    {
     "data": {
      "application/vnd.jupyter.widget-view+json": {
       "model_id": "3b1616d26c5946b392afb7601726bdd6",
       "version_major": 2,
       "version_minor": 0
      },
      "text/plain": [
       "train:   0%|          | 0/1758 [00:00<?, ?it/s]"
      ]
     },
     "metadata": {},
     "output_type": "display_data"
    },
    {
     "name": "stdout",
     "output_type": "stream",
     "text": [
      "Epoch : 55/250 -- Training loss 0.011211157884077172, --- Val loss 0.0006881587905809283, --- accuray : 0.9964465384519512, --- recall : 0.9964498235948966\n"
     ]
    },
    {
     "data": {
      "application/vnd.jupyter.widget-view+json": {
       "model_id": "d6ab19e41a1140eeb0f6f6cf3a84a38a",
       "version_major": 2,
       "version_minor": 0
      },
      "text/plain": [
       "train:   0%|          | 0/1758 [00:00<?, ?it/s]"
      ]
     },
     "metadata": {},
     "output_type": "display_data"
    },
    {
     "name": "stdout",
     "output_type": "stream",
     "text": [
      "Epoch : 56/250 -- Training loss 0.010810633899487622, --- Val loss 0.00439839530736208, --- accuray : 0.9957253134098771, --- recall : 0.9957289351168799\n"
     ]
    },
    {
     "data": {
      "application/vnd.jupyter.widget-view+json": {
       "model_id": "e930ef55163e43a1bd39fb6f81902d14",
       "version_major": 2,
       "version_minor": 0
      },
      "text/plain": [
       "train:   0%|          | 0/1758 [00:00<?, ?it/s]"
      ]
     },
     "metadata": {},
     "output_type": "display_data"
    },
    {
     "name": "stdout",
     "output_type": "stream",
     "text": [
      "Epoch : 57/250 -- Training loss 0.011644510795627635, --- Val loss 0.006441453471779823, --- accuray : 0.9967607738603524, --- recall : 0.9967684335410991\n"
     ]
    },
    {
     "data": {
      "application/vnd.jupyter.widget-view+json": {
       "model_id": "c926aea81dff4a528f6ca5bd6d38ce80",
       "version_major": 2,
       "version_minor": 0
      },
      "text/plain": [
       "train:   0%|          | 0/1758 [00:00<?, ?it/s]"
      ]
     },
     "metadata": {},
     "output_type": "display_data"
    },
    {
     "name": "stdout",
     "output_type": "stream",
     "text": [
      "Epoch : 58/250 -- Training loss 0.01054817820308942, --- Val loss 0.0004331652307882905, --- accuray : 0.9965251482957254, --- recall : 0.9965307991904677\n"
     ]
    },
    {
     "data": {
      "application/vnd.jupyter.widget-view+json": {
       "model_id": "5453785de8584df48a5730885796ca54",
       "version_major": 2,
       "version_minor": 0
      },
      "text/plain": [
       "train:   0%|          | 0/1758 [00:00<?, ?it/s]"
      ]
     },
     "metadata": {},
     "output_type": "display_data"
    },
    {
     "name": "stdout",
     "output_type": "stream",
     "text": [
      "Epoch : 59/250 -- Training loss 0.01141874364419497, --- Val loss 0.00772239500656724, --- accuray : 0.9958849485053525, --- recall : 0.9958893929124398\n"
     ]
    },
    {
     "data": {
      "application/vnd.jupyter.widget-view+json": {
       "model_id": "252b9df6c04742f990ef88bd6af78cf2",
       "version_major": 2,
       "version_minor": 0
      },
      "text/plain": [
       "train:   0%|          | 0/1758 [00:00<?, ?it/s]"
      ]
     },
     "metadata": {},
     "output_type": "display_data"
    },
    {
     "name": "stdout",
     "output_type": "stream",
     "text": [
      "Epoch : 60/250 -- Training loss 0.01031219513120117, --- Val loss 0.0011454086052253842, --- accuray : 0.9964065647065261, --- recall : 0.996410021745457\n"
     ]
    },
    {
     "data": {
      "application/vnd.jupyter.widget-view+json": {
       "model_id": "0012e1d5d9034600b2bbdb5db738911d",
       "version_major": 2,
       "version_minor": 0
      },
      "text/plain": [
       "train:   0%|          | 0/1758 [00:00<?, ?it/s]"
      ]
     },
     "metadata": {},
     "output_type": "display_data"
    },
    {
     "name": "stdout",
     "output_type": "stream",
     "text": [
      "Epoch : 61/250 -- Training loss 0.01120894567759543, --- Val loss 0.024141503497958183, --- accuray : 0.9964464049726531, --- recall : 0.9964513423541301\n"
     ]
    },
    {
     "data": {
      "application/vnd.jupyter.widget-view+json": {
       "model_id": "360a3c6f10e54ee1b1cb83536c63e17c",
       "version_major": 2,
       "version_minor": 0
      },
      "text/plain": [
       "train:   0%|          | 0/1758 [00:00<?, ?it/s]"
      ]
     },
     "metadata": {},
     "output_type": "display_data"
    },
    {
     "name": "stdout",
     "output_type": "stream",
     "text": [
      "save model\n",
      "Epoch : 62/250 -- Training loss 0.010921721512031591, --- Val loss 0.03241385519504547, --- accuray : 0.9972813439655068, --- recall : 0.9972873992744745\n"
     ]
    },
    {
     "data": {
      "application/vnd.jupyter.widget-view+json": {
       "model_id": "f61b6308682143c5821e286156c11b4d",
       "version_major": 2,
       "version_minor": 0
      },
      "text/plain": [
       "train:   0%|          | 0/1758 [00:00<?, ?it/s]"
      ]
     },
     "metadata": {},
     "output_type": "display_data"
    },
    {
     "name": "stdout",
     "output_type": "stream",
     "text": [
      "Epoch : 63/250 -- Training loss 0.011417762957239239, --- Val loss 0.0005054935463704169, --- accuray : 0.9969623422916746, --- recall : 0.9969679563972225\n"
     ]
    },
    {
     "data": {
      "application/vnd.jupyter.widget-view+json": {
       "model_id": "f4892a6c9dd045c1904d8c3bc810dff2",
       "version_major": 2,
       "version_minor": 0
      },
      "text/plain": [
       "train:   0%|          | 0/1758 [00:00<?, ?it/s]"
      ]
     },
     "metadata": {},
     "output_type": "display_data"
    },
    {
     "name": "stdout",
     "output_type": "stream",
     "text": [
      "Epoch : 64/250 -- Training loss 0.011252567204753485, --- Val loss 0.001849789172410965, --- accuray : 0.9965610114963959, --- recall : 0.9965696999116285\n"
     ]
    },
    {
     "data": {
      "application/vnd.jupyter.widget-view+json": {
       "model_id": "72f3c827467643f6b391158db4ab4184",
       "version_major": 2,
       "version_minor": 0
      },
      "text/plain": [
       "train:   0%|          | 0/1758 [00:00<?, ?it/s]"
      ]
     },
     "metadata": {},
     "output_type": "display_data"
    },
    {
     "name": "stdout",
     "output_type": "stream",
     "text": [
      "Epoch : 65/250 -- Training loss 0.010549845447279332, --- Val loss 0.0024916580878198147, --- accuray : 0.996051873921121, --- recall : 0.9960539639288412\n"
     ]
    },
    {
     "data": {
      "application/vnd.jupyter.widget-view+json": {
       "model_id": "b237a8871219476ba8aa4e21daa8259a",
       "version_major": 2,
       "version_minor": 0
      },
      "text/plain": [
       "train:   0%|          | 0/1758 [00:00<?, ?it/s]"
      ]
     },
     "metadata": {},
     "output_type": "display_data"
    },
    {
     "name": "stdout",
     "output_type": "stream",
     "text": [
      "Epoch : 66/250 -- Training loss 0.01052956110037903, --- Val loss 0.00014116568490862846, --- accuray : 0.9970848521279422, --- recall : 0.9970895618579556\n"
     ]
    },
    {
     "data": {
      "application/vnd.jupyter.widget-view+json": {
       "model_id": "03e505eb54c4452397b67ff510c34ec1",
       "version_major": 2,
       "version_minor": 0
      },
      "text/plain": [
       "train:   0%|          | 0/1758 [00:00<?, ?it/s]"
      ]
     },
     "metadata": {},
     "output_type": "display_data"
    },
    {
     "name": "stdout",
     "output_type": "stream",
     "text": [
      "Epoch : 67/250 -- Training loss 0.010371642810633758, --- Val loss 0.024280425161123276, --- accuray : 0.996799015145486, --- recall : 0.9968075484440186\n"
     ]
    },
    {
     "data": {
      "application/vnd.jupyter.widget-view+json": {
       "model_id": "988d06d5e77240168128a2540717b8cb",
       "version_major": 2,
       "version_minor": 0
      },
      "text/plain": [
       "train:   0%|          | 0/1758 [00:00<?, ?it/s]"
      ]
     },
     "metadata": {},
     "output_type": "display_data"
    },
    {
     "name": "stdout",
     "output_type": "stream",
     "text": [
      "Epoch : 68/250 -- Training loss 0.010356120190372332, --- Val loss 0.0009057207498699427, --- accuray : 0.9966027088552897, --- recall : 0.9966089085182359\n"
     ]
    },
    {
     "data": {
      "application/vnd.jupyter.widget-view+json": {
       "model_id": "a92439fc19df45cba2ebf48644409021",
       "version_major": 2,
       "version_minor": 0
      },
      "text/plain": [
       "train:   0%|          | 0/1758 [00:00<?, ?it/s]"
      ]
     },
     "metadata": {},
     "output_type": "display_data"
    },
    {
     "name": "stdout",
     "output_type": "stream",
     "text": [
      "Epoch : 69/250 -- Training loss 0.011018308042444299, --- Val loss 0.0010731222573667765, --- accuray : 0.9963703236210518, --- recall : 0.9963715310923591\n"
     ]
    },
    {
     "data": {
      "application/vnd.jupyter.widget-view+json": {
       "model_id": "6e918c3ee8f1447394b83aa6c33697bd",
       "version_major": 2,
       "version_minor": 0
      },
      "text/plain": [
       "train:   0%|          | 0/1758 [00:00<?, ?it/s]"
      ]
     },
     "metadata": {},
     "output_type": "display_data"
    },
    {
     "name": "stdout",
     "output_type": "stream",
     "text": [
      "Epoch : 70/250 -- Training loss 0.010749814500255406, --- Val loss 0.016654428094625473, --- accuray : 0.9964882714997753, --- recall : 0.996488561823002\n"
     ]
    },
    {
     "data": {
      "application/vnd.jupyter.widget-view+json": {
       "model_id": "b20fb521b7544dd789dd885880c00e9a",
       "version_major": 2,
       "version_minor": 0
      },
      "text/plain": [
       "train:   0%|          | 0/1758 [00:00<?, ?it/s]"
      ]
     },
     "metadata": {},
     "output_type": "display_data"
    },
    {
     "name": "stdout",
     "output_type": "stream",
     "text": [
      "Epoch : 71/250 -- Training loss 0.0103950076632972, --- Val loss 0.006256989203393459, --- accuray : 0.9967647500770314, --- recall : 0.996770019139056\n"
     ]
    },
    {
     "data": {
      "application/vnd.jupyter.widget-view+json": {
       "model_id": "60aaedd6185c4393bb9fb526950edb8a",
       "version_major": 2,
       "version_minor": 0
      },
      "text/plain": [
       "train:   0%|          | 0/1758 [00:00<?, ?it/s]"
      ]
     },
     "metadata": {},
     "output_type": "display_data"
    },
    {
     "name": "stdout",
     "output_type": "stream",
     "text": [
      "Epoch : 72/250 -- Training loss 0.010185546736330223, --- Val loss 0.007400743663311005, --- accuray : 0.9972394088465611, --- recall : 0.9972477393269582\n"
     ]
    },
    {
     "data": {
      "application/vnd.jupyter.widget-view+json": {
       "model_id": "e3467eba778f43b7ba895d22ce294661",
       "version_major": 2,
       "version_minor": 0
      },
      "text/plain": [
       "train:   0%|          | 0/1758 [00:00<?, ?it/s]"
      ]
     },
     "metadata": {},
     "output_type": "display_data"
    },
    {
     "name": "stdout",
     "output_type": "stream",
     "text": [
      "Epoch : 73/250 -- Training loss 0.010626846461683303, --- Val loss 0.014387542381882668, --- accuray : 0.9966850335937407, --- recall : 0.9966907058034714\n"
     ]
    },
    {
     "data": {
      "application/vnd.jupyter.widget-view+json": {
       "model_id": "26f207b5d343498086926bee330d51a1",
       "version_major": 2,
       "version_minor": 0
      },
      "text/plain": [
       "train:   0%|          | 0/1758 [00:00<?, ?it/s]"
      ]
     },
     "metadata": {},
     "output_type": "display_data"
    },
    {
     "name": "stdout",
     "output_type": "stream",
     "text": [
      "Epoch : 74/250 -- Training loss 0.010468770989008972, --- Val loss 0.000499034533277154, --- accuray : 0.9966500658619146, --- recall : 0.9966526378252615\n"
     ]
    },
    {
     "data": {
      "application/vnd.jupyter.widget-view+json": {
       "model_id": "c4b399393deb46c6ae814749edc892bc",
       "version_major": 2,
       "version_minor": 0
      },
      "text/plain": [
       "train:   0%|          | 0/1758 [00:00<?, ?it/s]"
      ]
     },
     "metadata": {},
     "output_type": "display_data"
    },
    {
     "name": "stdout",
     "output_type": "stream",
     "text": [
      "Epoch : 75/250 -- Training loss 0.010166420749133827, --- Val loss 0.0018467006739228964, --- accuray : 0.9972038624311313, --- recall : 0.9972079511504546\n"
     ]
    },
    {
     "data": {
      "application/vnd.jupyter.widget-view+json": {
       "model_id": "579cdcaaeec54b6a8eb0b390b5005296",
       "version_major": 2,
       "version_minor": 0
      },
      "text/plain": [
       "train:   0%|          | 0/1758 [00:00<?, ?it/s]"
      ]
     },
     "metadata": {},
     "output_type": "display_data"
    },
    {
     "name": "stdout",
     "output_type": "stream",
     "text": [
      "Epoch : 76/250 -- Training loss 0.01016893647723933, --- Val loss 0.00011380543583072722, --- accuray : 0.9972414526640472, --- recall : 0.997248318447524\n"
     ]
    },
    {
     "data": {
      "application/vnd.jupyter.widget-view+json": {
       "model_id": "9f46675eeea049b389f8f46f4dda330e",
       "version_major": 2,
       "version_minor": 0
      },
      "text/plain": [
       "train:   0%|          | 0/1758 [00:00<?, ?it/s]"
      ]
     },
     "metadata": {},
     "output_type": "display_data"
    },
    {
     "name": "stdout",
     "output_type": "stream",
     "text": [
      "Epoch : 77/250 -- Training loss 0.010031061036123414, --- Val loss 0.0006433710805140436, --- accuray : 0.9965269052105761, --- recall : 0.996529569090989\n"
     ]
    },
    {
     "data": {
      "application/vnd.jupyter.widget-view+json": {
       "model_id": "f1362f5e47244b41ad82946f6288d6c6",
       "version_major": 2,
       "version_minor": 0
      },
      "text/plain": [
       "train:   0%|          | 0/1758 [00:00<?, ?it/s]"
      ]
     },
     "metadata": {},
     "output_type": "display_data"
    },
    {
     "name": "stdout",
     "output_type": "stream",
     "text": [
      "Epoch : 78/250 -- Training loss 0.010388652529222166, --- Val loss 0.0007533399621024728, --- accuray : 0.9951395125635798, --- recall : 0.9951319585841689\n"
     ]
    },
    {
     "data": {
      "application/vnd.jupyter.widget-view+json": {
       "model_id": "bd814638b1df4005b5b741030853f85b",
       "version_major": 2,
       "version_minor": 0
      },
      "text/plain": [
       "train:   0%|          | 0/1758 [00:00<?, ?it/s]"
      ]
     },
     "metadata": {},
     "output_type": "display_data"
    },
    {
     "name": "stdout",
     "output_type": "stream",
     "text": [
      "Epoch : 79/250 -- Training loss 0.0104161292707308, --- Val loss 0.03904423490166664, --- accuray : 0.9963606485390812, --- recall : 0.996369291941131\n"
     ]
    },
    {
     "data": {
      "application/vnd.jupyter.widget-view+json": {
       "model_id": "e4919db2059d4cba9b07c5eaffbd30ce",
       "version_major": 2,
       "version_minor": 0
      },
      "text/plain": [
       "train:   0%|          | 0/1758 [00:00<?, ?it/s]"
      ]
     },
     "metadata": {},
     "output_type": "display_data"
    },
    {
     "name": "stdout",
     "output_type": "stream",
     "text": [
      "Epoch : 80/250 -- Training loss 0.00992422223046134, --- Val loss 0.0024714504834264517, --- accuray : 0.9970840429888428, --- recall : 0.9970857532724168\n"
     ]
    },
    {
     "data": {
      "application/vnd.jupyter.widget-view+json": {
       "model_id": "2697bfb848cc4695b62e3ba22c6c9671",
       "version_major": 2,
       "version_minor": 0
      },
      "text/plain": [
       "train:   0%|          | 0/1758 [00:00<?, ?it/s]"
      ]
     },
     "metadata": {},
     "output_type": "display_data"
    },
    {
     "name": "stdout",
     "output_type": "stream",
     "text": [
      "Epoch : 81/250 -- Training loss 0.010598647540724771, --- Val loss 0.006475251633673906, --- accuray : 0.9963614050311088, --- recall : 0.9963706101009595\n"
     ]
    },
    {
     "data": {
      "application/vnd.jupyter.widget-view+json": {
       "model_id": "20530638b31941f482d6a5c798aed022",
       "version_major": 2,
       "version_minor": 0
      },
      "text/plain": [
       "train:   0%|          | 0/1758 [00:00<?, ?it/s]"
      ]
     },
     "metadata": {},
     "output_type": "display_data"
    },
    {
     "name": "stdout",
     "output_type": "stream",
     "text": [
      "Epoch : 82/250 -- Training loss 0.009816128471351241, --- Val loss 0.004026962444186211, --- accuray : 0.9971235504263136, --- recall : 0.997129090040725\n"
     ]
    },
    {
     "data": {
      "application/vnd.jupyter.widget-view+json": {
       "model_id": "da7a4ba3390545eaab6493d57d193d6c",
       "version_major": 2,
       "version_minor": 0
      },
      "text/plain": [
       "train:   0%|          | 0/1758 [00:00<?, ?it/s]"
      ]
     },
     "metadata": {},
     "output_type": "display_data"
    },
    {
     "name": "stdout",
     "output_type": "stream",
     "text": [
      "save model\n",
      "Epoch : 83/250 -- Training loss 0.010102587041408085, --- Val loss 0.03496476262807846, --- accuray : 0.9973215115340143, --- recall : 0.9973284319061125\n"
     ]
    },
    {
     "data": {
      "application/vnd.jupyter.widget-view+json": {
       "model_id": "977b48be9b30434187e24c7747965cb7",
       "version_major": 2,
       "version_minor": 0
      },
      "text/plain": [
       "train:   0%|          | 0/1758 [00:00<?, ?it/s]"
      ]
     },
     "metadata": {},
     "output_type": "display_data"
    },
    {
     "name": "stdout",
     "output_type": "stream",
     "text": [
      "Epoch : 84/250 -- Training loss 0.009821188388400126, --- Val loss 0.013059343211352825, --- accuray : 0.9963645589186838, --- recall : 0.9963734035037237\n"
     ]
    },
    {
     "data": {
      "application/vnd.jupyter.widget-view+json": {
       "model_id": "24dc2cdf6c4b49f9b77b7e30e7290d73",
       "version_major": 2,
       "version_minor": 0
      },
      "text/plain": [
       "train:   0%|          | 0/1758 [00:00<?, ?it/s]"
      ]
     },
     "metadata": {},
     "output_type": "display_data"
    },
    {
     "name": "stdout",
     "output_type": "stream",
     "text": [
      "Epoch : 85/250 -- Training loss 0.01059390872612169, --- Val loss 0.0010677296668291092, --- accuray : 0.9964488259788741, --- recall : 0.9964519555053739\n"
     ]
    },
    {
     "data": {
      "application/vnd.jupyter.widget-view+json": {
       "model_id": "a963b1b5533241d8890a86af0eea02f9",
       "version_major": 2,
       "version_minor": 0
      },
      "text/plain": [
       "train:   0%|          | 0/1758 [00:00<?, ?it/s]"
      ]
     },
     "metadata": {},
     "output_type": "display_data"
    },
    {
     "name": "stdout",
     "output_type": "stream",
     "text": [
      "Epoch : 86/250 -- Training loss 0.009252131056352697, --- Val loss 0.00024804536951705813, --- accuray : 0.9969641220891832, --- recall : 0.99696808179062\n"
     ]
    },
    {
     "data": {
      "application/vnd.jupyter.widget-view+json": {
       "model_id": "7f32287d720a4f6a9f18c4b6b6d93cb1",
       "version_major": 2,
       "version_minor": 0
      },
      "text/plain": [
       "train:   0%|          | 0/1758 [00:00<?, ?it/s]"
      ]
     },
     "metadata": {},
     "output_type": "display_data"
    },
    {
     "name": "stdout",
     "output_type": "stream",
     "text": [
      "Epoch : 87/250 -- Training loss 0.009929252537547777, --- Val loss 0.024988284334540367, --- accuray : 0.9970418513521142, --- recall : 0.997049146129261\n"
     ]
    },
    {
     "data": {
      "application/vnd.jupyter.widget-view+json": {
       "model_id": "5bc8843604a3422ea460df0894149388",
       "version_major": 2,
       "version_minor": 0
      },
      "text/plain": [
       "train:   0%|          | 0/1758 [00:00<?, ?it/s]"
      ]
     },
     "metadata": {},
     "output_type": "display_data"
    },
    {
     "name": "stdout",
     "output_type": "stream",
     "text": [
      "Epoch : 88/250 -- Training loss 0.009835501247313827, --- Val loss 0.001787760411389172, --- accuray : 0.9961741988341469, --- recall : 0.9961711683939246\n"
     ]
    },
    {
     "data": {
      "application/vnd.jupyter.widget-view+json": {
       "model_id": "7e220e75369a483ea68af0034b538c8e",
       "version_major": 2,
       "version_minor": 0
      },
      "text/plain": [
       "train:   0%|          | 0/1758 [00:00<?, ?it/s]"
      ]
     },
     "metadata": {},
     "output_type": "display_data"
    },
    {
     "name": "stdout",
     "output_type": "stream",
     "text": [
      "Epoch : 89/250 -- Training loss 0.010008609640717767, --- Val loss 0.06530396640300751, --- accuray : 0.9968447522945081, --- recall : 0.9968475042622942\n"
     ]
    },
    {
     "data": {
      "application/vnd.jupyter.widget-view+json": {
       "model_id": "f0bcadc4d41342ecab406c864b103220",
       "version_major": 2,
       "version_minor": 0
      },
      "text/plain": [
       "train:   0%|          | 0/1758 [00:00<?, ?it/s]"
      ]
     },
     "metadata": {},
     "output_type": "display_data"
    },
    {
     "name": "stdout",
     "output_type": "stream",
     "text": [
      "Epoch : 90/250 -- Training loss 0.009751922944370387, --- Val loss 0.011292015202343464, --- accuray : 0.9963715443118586, --- recall : 0.9963685347492215\n"
     ]
    },
    {
     "data": {
      "application/vnd.jupyter.widget-view+json": {
       "model_id": "932b8332fcc3400db0fe0e00f2310d8f",
       "version_major": 2,
       "version_minor": 0
      },
      "text/plain": [
       "train:   0%|          | 0/1758 [00:00<?, ?it/s]"
      ]
     },
     "metadata": {},
     "output_type": "display_data"
    },
    {
     "name": "stdout",
     "output_type": "stream",
     "text": [
      "Epoch : 91/250 -- Training loss 0.009335651440610609, --- Val loss 0.00021847127936780453, --- accuray : 0.9968042741126556, --- recall : 0.9968085922997482\n"
     ]
    },
    {
     "data": {
      "application/vnd.jupyter.widget-view+json": {
       "model_id": "21121d93869b49638a60a9c0ac57fc29",
       "version_major": 2,
       "version_minor": 0
      },
      "text/plain": [
       "train:   0%|          | 0/1758 [00:00<?, ?it/s]"
      ]
     },
     "metadata": {},
     "output_type": "display_data"
    },
    {
     "name": "stdout",
     "output_type": "stream",
     "text": [
      "Epoch : 92/250 -- Training loss 0.009672422641013605, --- Val loss 0.0008485654834657907, --- accuray : 0.9962497686591947, --- recall : 0.9962515697842569\n"
     ]
    },
    {
     "data": {
      "application/vnd.jupyter.widget-view+json": {
       "model_id": "d7511c01b0ae4cd08679b789026f0f74",
       "version_major": 2,
       "version_minor": 0
      },
      "text/plain": [
       "train:   0%|          | 0/1758 [00:00<?, ?it/s]"
      ]
     },
     "metadata": {},
     "output_type": "display_data"
    },
    {
     "name": "stdout",
     "output_type": "stream",
     "text": [
      "Epoch : 93/250 -- Training loss 0.008919677711970194, --- Val loss 0.005298924166709185, --- accuray : 0.9968877419753108, --- recall : 0.9968896925154145\n"
     ]
    },
    {
     "data": {
      "application/vnd.jupyter.widget-view+json": {
       "model_id": "0bb43ccd2d6e4b6297cc692892b003c2",
       "version_major": 2,
       "version_minor": 0
      },
      "text/plain": [
       "train:   0%|          | 0/1758 [00:00<?, ?it/s]"
      ]
     },
     "metadata": {},
     "output_type": "display_data"
    },
    {
     "name": "stdout",
     "output_type": "stream",
     "text": [
      "Epoch : 94/250 -- Training loss 0.009760212274249407, --- Val loss 0.057036712765693665, --- accuray : 0.9972844322279044, --- recall : 0.9972891077367615\n"
     ]
    },
    {
     "data": {
      "application/vnd.jupyter.widget-view+json": {
       "model_id": "bd689747715e4b2cb5d942f5d54ca1c7",
       "version_major": 2,
       "version_minor": 0
      },
      "text/plain": [
       "train:   0%|          | 0/1758 [00:00<?, ?it/s]"
      ]
     },
     "metadata": {},
     "output_type": "display_data"
    },
    {
     "name": "stdout",
     "output_type": "stream",
     "text": [
      "Epoch : 95/250 -- Training loss 0.009198126824340907, --- Val loss 0.00022813116083852947, --- accuray : 0.9962073445279949, --- recall : 0.9962133604893271\n"
     ]
    },
    {
     "data": {
      "application/vnd.jupyter.widget-view+json": {
       "model_id": "ed9d0a4b6cad4c49bda247a05f3bed3c",
       "version_major": 2,
       "version_minor": 0
      },
      "text/plain": [
       "train:   0%|          | 0/1758 [00:00<?, ?it/s]"
      ]
     },
     "metadata": {},
     "output_type": "display_data"
    },
    {
     "name": "stdout",
     "output_type": "stream",
     "text": [
      "Epoch : 96/250 -- Training loss 0.009834234602265112, --- Val loss 0.0027402671985328197, --- accuray : 0.997003441544304, --- recall : 0.9970073053903121\n"
     ]
    },
    {
     "data": {
      "application/vnd.jupyter.widget-view+json": {
       "model_id": "a25dbdea55054c02b2f359280b5dfff8",
       "version_major": 2,
       "version_minor": 0
      },
      "text/plain": [
       "train:   0%|          | 0/1758 [00:00<?, ?it/s]"
      ]
     },
     "metadata": {},
     "output_type": "display_data"
    },
    {
     "name": "stdout",
     "output_type": "stream",
     "text": [
      "Epoch : 97/250 -- Training loss 0.009362332450681719, --- Val loss 0.00928177498281002, --- accuray : 0.9962886065627684, --- recall : 0.9962917950365956\n"
     ]
    },
    {
     "data": {
      "application/vnd.jupyter.widget-view+json": {
       "model_id": "74ec420422a141b18768b4ee5b90255a",
       "version_major": 2,
       "version_minor": 0
      },
      "text/plain": [
       "train:   0%|          | 0/1758 [00:00<?, ?it/s]"
      ]
     },
     "metadata": {},
     "output_type": "display_data"
    },
    {
     "name": "stdout",
     "output_type": "stream",
     "text": [
      "Epoch : 98/250 -- Training loss 0.009001552716444993, --- Val loss 6.831223436165601e-05, --- accuray : 0.9971246314837175, --- recall : 0.9971300972914184\n"
     ]
    },
    {
     "data": {
      "application/vnd.jupyter.widget-view+json": {
       "model_id": "d274685368bb47eeb90f8b8f993cc17f",
       "version_major": 2,
       "version_minor": 0
      },
      "text/plain": [
       "train:   0%|          | 0/1758 [00:00<?, ?it/s]"
      ]
     },
     "metadata": {},
     "output_type": "display_data"
    },
    {
     "name": "stdout",
     "output_type": "stream",
     "text": [
      "Epoch : 99/250 -- Training loss 0.009417594594743575, --- Val loss 0.005401101894676685, --- accuray : 0.9972414868576074, --- recall : 0.9972486777429934\n"
     ]
    },
    {
     "data": {
      "application/vnd.jupyter.widget-view+json": {
       "model_id": "a5a3fbd7ee9741e2afcee4a63eeaad17",
       "version_major": 2,
       "version_minor": 0
      },
      "text/plain": [
       "train:   0%|          | 0/1758 [00:00<?, ?it/s]"
      ]
     },
     "metadata": {},
     "output_type": "display_data"
    },
    {
     "name": "stdout",
     "output_type": "stream",
     "text": [
      "Epoch : 100/250 -- Training loss 0.009618480993532776, --- Val loss 0.0177312009036541, --- accuray : 0.9952630892240641, --- recall : 0.9952567482900374\n"
     ]
    },
    {
     "data": {
      "application/vnd.jupyter.widget-view+json": {
       "model_id": "bfe63565a4d543cd8c910519e7027a11",
       "version_major": 2,
       "version_minor": 0
      },
      "text/plain": [
       "train:   0%|          | 0/1758 [00:00<?, ?it/s]"
      ]
     },
     "metadata": {},
     "output_type": "display_data"
    },
    {
     "name": "stdout",
     "output_type": "stream",
     "text": [
      "Epoch : 101/250 -- Training loss 0.009419424977854671, --- Val loss 0.0004147868894506246, --- accuray : 0.9968883991018865, --- recall : 0.9968905713037307\n"
     ]
    },
    {
     "data": {
      "application/vnd.jupyter.widget-view+json": {
       "model_id": "40049e1fbf114fed823bc17e67fcbed9",
       "version_major": 2,
       "version_minor": 0
      },
      "text/plain": [
       "train:   0%|          | 0/1758 [00:00<?, ?it/s]"
      ]
     },
     "metadata": {},
     "output_type": "display_data"
    },
    {
     "name": "stdout",
     "output_type": "stream",
     "text": [
      "Epoch : 102/250 -- Training loss 0.009511816798328231, --- Val loss 0.00230787112377584, --- accuray : 0.9968884913513957, --- recall : 0.9968905173193499\n"
     ]
    },
    {
     "data": {
      "application/vnd.jupyter.widget-view+json": {
       "model_id": "803bed7782524a5199b9c6645cf11fa9",
       "version_major": 2,
       "version_minor": 0
      },
      "text/plain": [
       "train:   0%|          | 0/1758 [00:00<?, ?it/s]"
      ]
     },
     "metadata": {},
     "output_type": "display_data"
    },
    {
     "name": "stdout",
     "output_type": "stream",
     "text": [
      "Epoch : 103/250 -- Training loss 0.00945097805871136, --- Val loss 0.0018530070083215833, --- accuray : 0.9966806194680615, --- recall : 0.996688312098204\n"
     ]
    },
    {
     "data": {
      "application/vnd.jupyter.widget-view+json": {
       "model_id": "949e95bf7f4c4074bd2a16f2cf9eac98",
       "version_major": 2,
       "version_minor": 0
      },
      "text/plain": [
       "train:   0%|          | 0/1758 [00:00<?, ?it/s]"
      ]
     },
     "metadata": {},
     "output_type": "display_data"
    },
    {
     "name": "stdout",
     "output_type": "stream",
     "text": [
      "save model\n",
      "Epoch : 104/250 -- Training loss 0.009511726799989299, --- Val loss 0.024740632623434067, --- accuray : 0.9973623801744296, --- recall : 0.9973685192557451\n"
     ]
    },
    {
     "data": {
      "application/vnd.jupyter.widget-view+json": {
       "model_id": "2f28ba816c6b485da5fa3dd13ec3fe9f",
       "version_major": 2,
       "version_minor": 0
      },
      "text/plain": [
       "train:   0%|          | 0/1758 [00:00<?, ?it/s]"
      ]
     },
     "metadata": {},
     "output_type": "display_data"
    },
    {
     "name": "stdout",
     "output_type": "stream",
     "text": [
      "Epoch : 105/250 -- Training loss 0.009450453632700738, --- Val loss 0.0014610530342906713, --- accuray : 0.9969648275951684, --- recall : 0.9969682586393309\n"
     ]
    },
    {
     "data": {
      "application/vnd.jupyter.widget-view+json": {
       "model_id": "f298ca61c2624032a5956b4dbb3e0122",
       "version_major": 2,
       "version_minor": 0
      },
      "text/plain": [
       "train:   0%|          | 0/1758 [00:00<?, ?it/s]"
      ]
     },
     "metadata": {},
     "output_type": "display_data"
    },
    {
     "name": "stdout",
     "output_type": "stream",
     "text": [
      "Epoch : 106/250 -- Training loss 0.008921758338049899, --- Val loss 0.015246734954416752, --- accuray : 0.9972490535233707, --- recall : 0.997250889001503\n"
     ]
    },
    {
     "data": {
      "application/vnd.jupyter.widget-view+json": {
       "model_id": "f24a516bd4fb4be5bb47809bea4fb188",
       "version_major": 2,
       "version_minor": 0
      },
      "text/plain": [
       "train:   0%|          | 0/1758 [00:00<?, ?it/s]"
      ]
     },
     "metadata": {},
     "output_type": "display_data"
    },
    {
     "name": "stdout",
     "output_type": "stream",
     "text": [
      "Epoch : 107/250 -- Training loss 0.008830239061437047, --- Val loss 2.5983568775700405e-05, --- accuray : 0.9969632795583966, --- recall : 0.9969688494959034\n"
     ]
    },
    {
     "data": {
      "application/vnd.jupyter.widget-view+json": {
       "model_id": "d6e489f9a98940d48fdcfdae09d8a192",
       "version_major": 2,
       "version_minor": 0
      },
      "text/plain": [
       "train:   0%|          | 0/1758 [00:00<?, ?it/s]"
      ]
     },
     "metadata": {},
     "output_type": "display_data"
    },
    {
     "name": "stdout",
     "output_type": "stream",
     "text": [
      "Epoch : 108/250 -- Training loss 0.009192735872560075, --- Val loss 0.0006075577111914754, --- accuray : 0.9968443500823077, --- recall : 0.9968494386423462\n"
     ]
    },
    {
     "data": {
      "application/vnd.jupyter.widget-view+json": {
       "model_id": "0530c4b680ea4902b8b68fbc457f6309",
       "version_major": 2,
       "version_minor": 0
      },
      "text/plain": [
       "train:   0%|          | 0/1758 [00:00<?, ?it/s]"
      ]
     },
     "metadata": {},
     "output_type": "display_data"
    },
    {
     "name": "stdout",
     "output_type": "stream",
     "text": [
      "Epoch : 109/250 -- Training loss 0.009035186614913572, --- Val loss 0.05429956689476967, --- accuray : 0.9964110605918755, --- recall : 0.9964131402702048\n"
     ]
    },
    {
     "data": {
      "application/vnd.jupyter.widget-view+json": {
       "model_id": "a6b5ec1195bf44c3b67cc331c7844204",
       "version_major": 2,
       "version_minor": 0
      },
      "text/plain": [
       "train:   0%|          | 0/1758 [00:00<?, ?it/s]"
      ]
     },
     "metadata": {},
     "output_type": "display_data"
    },
    {
     "name": "stdout",
     "output_type": "stream",
     "text": [
      "Epoch : 110/250 -- Training loss 0.00917354749628432, --- Val loss 0.0006349841714836657, --- accuray : 0.9965204100786155, --- recall : 0.9965279794626515\n"
     ]
    },
    {
     "data": {
      "application/vnd.jupyter.widget-view+json": {
       "model_id": "ffa63a678a104af6bb62ec45662929ff",
       "version_major": 2,
       "version_minor": 0
      },
      "text/plain": [
       "train:   0%|          | 0/1758 [00:00<?, ?it/s]"
      ]
     },
     "metadata": {},
     "output_type": "display_data"
    },
    {
     "name": "stdout",
     "output_type": "stream",
     "text": [
      "save model\n",
      "Epoch : 111/250 -- Training loss 0.008758650041589764, --- Val loss 0.007631019689142704, --- accuray : 0.9974001467653559, --- recall : 0.9974044292318153\n"
     ]
    },
    {
     "data": {
      "application/vnd.jupyter.widget-view+json": {
       "model_id": "fe16d691515641bfa24e4a3a1e02ad5a",
       "version_major": 2,
       "version_minor": 0
      },
      "text/plain": [
       "train:   0%|          | 0/1758 [00:00<?, ?it/s]"
      ]
     },
     "metadata": {},
     "output_type": "display_data"
    },
    {
     "name": "stdout",
     "output_type": "stream",
     "text": [
      "Epoch : 112/250 -- Training loss 0.008779687118109891, --- Val loss 0.009147637523710728, --- accuray : 0.9970844818879611, --- recall : 0.9970883460235507\n"
     ]
    },
    {
     "data": {
      "application/vnd.jupyter.widget-view+json": {
       "model_id": "c2fc1fefb59a452faf548cf0675e2890",
       "version_major": 2,
       "version_minor": 0
      },
      "text/plain": [
       "train:   0%|          | 0/1758 [00:00<?, ?it/s]"
      ]
     },
     "metadata": {},
     "output_type": "display_data"
    },
    {
     "name": "stdout",
     "output_type": "stream",
     "text": [
      "Epoch : 113/250 -- Training loss 0.00862974573717956, --- Val loss 0.004396696109324694, --- accuray : 0.9968060555375671, --- recall : 0.9968098620732428\n"
     ]
    },
    {
     "data": {
      "application/vnd.jupyter.widget-view+json": {
       "model_id": "bd38e4a56c7a4c5ab8de6c2882c920ad",
       "version_major": 2,
       "version_minor": 0
      },
      "text/plain": [
       "train:   0%|          | 0/1758 [00:00<?, ?it/s]"
      ]
     },
     "metadata": {},
     "output_type": "display_data"
    },
    {
     "name": "stdout",
     "output_type": "stream",
     "text": [
      "Epoch : 114/250 -- Training loss 0.009199182963210421, --- Val loss 0.00017060495156329125, --- accuray : 0.9964525049288013, --- recall : 0.996453482203623\n"
     ]
    },
    {
     "data": {
      "application/vnd.jupyter.widget-view+json": {
       "model_id": "1bb34abad1fe450f9c504ebc62af51e9",
       "version_major": 2,
       "version_minor": 0
      },
      "text/plain": [
       "train:   0%|          | 0/1758 [00:00<?, ?it/s]"
      ]
     },
     "metadata": {},
     "output_type": "display_data"
    },
    {
     "name": "stdout",
     "output_type": "stream",
     "text": [
      "Epoch : 115/250 -- Training loss 0.009360035670793755, --- Val loss 0.0008196012349799275, --- accuray : 0.997361627030954, --- recall : 0.9973675683756923\n"
     ]
    },
    {
     "data": {
      "application/vnd.jupyter.widget-view+json": {
       "model_id": "3228a9d4feed4d4aa33111cd8558888f",
       "version_major": 2,
       "version_minor": 0
      },
      "text/plain": [
       "train:   0%|          | 0/1758 [00:00<?, ?it/s]"
      ]
     },
     "metadata": {},
     "output_type": "display_data"
    },
    {
     "name": "stdout",
     "output_type": "stream",
     "text": [
      "Epoch : 116/250 -- Training loss 0.008870690876062147, --- Val loss 0.003223504638299346, --- accuray : 0.9968845673770902, --- recall : 0.9968902380999239\n"
     ]
    },
    {
     "data": {
      "application/vnd.jupyter.widget-view+json": {
       "model_id": "59d602dad26047619ec867de2131d955",
       "version_major": 2,
       "version_minor": 0
      },
      "text/plain": [
       "train:   0%|          | 0/1758 [00:00<?, ?it/s]"
      ]
     },
     "metadata": {},
     "output_type": "display_data"
    },
    {
     "name": "stdout",
     "output_type": "stream",
     "text": [
      "Epoch : 117/250 -- Training loss 0.009196916297894474, --- Val loss 0.007281077094376087, --- accuray : 0.9971233015387584, --- recall : 0.9971296752992505\n"
     ]
    },
    {
     "data": {
      "application/vnd.jupyter.widget-view+json": {
       "model_id": "c806b96ce97e403d960c5f6488d22468",
       "version_major": 2,
       "version_minor": 0
      },
      "text/plain": [
       "train:   0%|          | 0/1758 [00:00<?, ?it/s]"
      ]
     },
     "metadata": {},
     "output_type": "display_data"
    },
    {
     "name": "stdout",
     "output_type": "stream",
     "text": [
      "Epoch : 118/250 -- Training loss 0.008573381312296562, --- Val loss 0.006758140400052071, --- accuray : 0.9972806497160688, --- recall : 0.9972877442595788\n"
     ]
    },
    {
     "data": {
      "application/vnd.jupyter.widget-view+json": {
       "model_id": "0c740cf8fb334c26b13993a21f2fd21e",
       "version_major": 2,
       "version_minor": 0
      },
      "text/plain": [
       "train:   0%|          | 0/1758 [00:00<?, ?it/s]"
      ]
     },
     "metadata": {},
     "output_type": "display_data"
    },
    {
     "name": "stdout",
     "output_type": "stream",
     "text": [
      "Epoch : 119/250 -- Training loss 0.009657419205803461, --- Val loss 0.007246790453791618, --- accuray : 0.9966478004643919, --- recall : 0.9966524236435029\n"
     ]
    },
    {
     "data": {
      "application/vnd.jupyter.widget-view+json": {
       "model_id": "8adef1ad424c4d3fbef0ec2227261bf1",
       "version_major": 2,
       "version_minor": 0
      },
      "text/plain": [
       "train:   0%|          | 0/1758 [00:00<?, ?it/s]"
      ]
     },
     "metadata": {},
     "output_type": "display_data"
    },
    {
     "name": "stdout",
     "output_type": "stream",
     "text": [
      "Epoch : 120/250 -- Training loss 0.008427878393562873, --- Val loss 0.00011158092820551246, --- accuray : 0.9966481010926296, --- recall : 0.9966516448396419\n"
     ]
    },
    {
     "data": {
      "application/vnd.jupyter.widget-view+json": {
       "model_id": "dd2f534203c34280a5484afed4c0a524",
       "version_major": 2,
       "version_minor": 0
      },
      "text/plain": [
       "train:   0%|          | 0/1758 [00:00<?, ?it/s]"
      ]
     },
     "metadata": {},
     "output_type": "display_data"
    },
    {
     "name": "stdout",
     "output_type": "stream",
     "text": [
      "Epoch : 121/250 -- Training loss 0.008840519364676207, --- Val loss 0.012595965526998043, --- accuray : 0.9961763971556635, --- recall : 0.9961752267001476\n"
     ]
    },
    {
     "data": {
      "application/vnd.jupyter.widget-view+json": {
       "model_id": "240b033e163f44af90b8276bbe39a2f5",
       "version_major": 2,
       "version_minor": 0
      },
      "text/plain": [
       "train:   0%|          | 0/1758 [00:00<?, ?it/s]"
      ]
     },
     "metadata": {},
     "output_type": "display_data"
    },
    {
     "name": "stdout",
     "output_type": "stream",
     "text": [
      "Epoch : 122/250 -- Training loss 0.009062553979143906, --- Val loss 0.0005123520968481898, --- accuray : 0.9973223352667914, --- recall : 0.9973286707235113\n"
     ]
    },
    {
     "data": {
      "application/vnd.jupyter.widget-view+json": {
       "model_id": "005d9cdf7f0542108ce355ed6d464a02",
       "version_major": 2,
       "version_minor": 0
      },
      "text/plain": [
       "train:   0%|          | 0/1758 [00:00<?, ?it/s]"
      ]
     },
     "metadata": {},
     "output_type": "display_data"
    },
    {
     "name": "stdout",
     "output_type": "stream",
     "text": [
      "Epoch : 123/250 -- Training loss 0.008291939786524217, --- Val loss 0.001947085838764906, --- accuray : 0.9962085944297024, --- recall : 0.9962112024871873\n"
     ]
    },
    {
     "data": {
      "application/vnd.jupyter.widget-view+json": {
       "model_id": "2d4b80a8aec046898d71c9af9265562a",
       "version_major": 2,
       "version_minor": 0
      },
      "text/plain": [
       "train:   0%|          | 0/1758 [00:00<?, ?it/s]"
      ]
     },
     "metadata": {},
     "output_type": "display_data"
    },
    {
     "name": "stdout",
     "output_type": "stream",
     "text": [
      "Epoch : 124/250 -- Training loss 0.0091186651932061, --- Val loss 0.00032232454395852983, --- accuray : 0.9970435460071563, --- recall : 0.99704872905242\n"
     ]
    },
    {
     "data": {
      "application/vnd.jupyter.widget-view+json": {
       "model_id": "3dc49cd072264e8f891d56fc52cb7f71",
       "version_major": 2,
       "version_minor": 0
      },
      "text/plain": [
       "train:   0%|          | 0/1758 [00:00<?, ?it/s]"
      ]
     },
     "metadata": {},
     "output_type": "display_data"
    },
    {
     "name": "stdout",
     "output_type": "stream",
     "text": [
      "Epoch : 125/250 -- Training loss 0.008572215937424625, --- Val loss 0.0686463713645935, --- accuray : 0.9966875027224269, --- recall : 0.9966906827807888\n"
     ]
    },
    {
     "data": {
      "application/vnd.jupyter.widget-view+json": {
       "model_id": "4d8a932a317841bc94cda6180d6f9d04",
       "version_major": 2,
       "version_minor": 0
      },
      "text/plain": [
       "train:   0%|          | 0/1758 [00:00<?, ?it/s]"
      ]
     },
     "metadata": {},
     "output_type": "display_data"
    },
    {
     "name": "stdout",
     "output_type": "stream",
     "text": [
      "Epoch : 126/250 -- Training loss 0.009176853848356405, --- Val loss 0.00016928381228353828, --- accuray : 0.9964491490279184, --- recall : 0.9964532593548376\n"
     ]
    },
    {
     "data": {
      "application/vnd.jupyter.widget-view+json": {
       "model_id": "5e4bdb0b823a4d18bd3c7f9ac8de13c3",
       "version_major": 2,
       "version_minor": 0
      },
      "text/plain": [
       "train:   0%|          | 0/1758 [00:00<?, ?it/s]"
      ]
     },
     "metadata": {},
     "output_type": "display_data"
    },
    {
     "name": "stdout",
     "output_type": "stream",
     "text": [
      "Epoch : 127/250 -- Training loss 0.00921082685960338, --- Val loss 0.023838739842176437, --- accuray : 0.9972066239826114, --- recall : 0.9972100909999476\n"
     ]
    },
    {
     "data": {
      "application/vnd.jupyter.widget-view+json": {
       "model_id": "23326765258d470d8e026bcd26dece12",
       "version_major": 2,
       "version_minor": 0
      },
      "text/plain": [
       "train:   0%|          | 0/1758 [00:00<?, ?it/s]"
      ]
     },
     "metadata": {},
     "output_type": "display_data"
    },
    {
     "name": "stdout",
     "output_type": "stream",
     "text": [
      "Epoch : 128/250 -- Training loss 0.008326201603166291, --- Val loss 0.000679346383549273, --- accuray : 0.9971656257403302, --- recall : 0.9971701052930187\n"
     ]
    },
    {
     "data": {
      "application/vnd.jupyter.widget-view+json": {
       "model_id": "d272f9fe28fb43da91e8bb3c28b46fdb",
       "version_major": 2,
       "version_minor": 0
      },
      "text/plain": [
       "train:   0%|          | 0/1758 [00:00<?, ?it/s]"
      ]
     },
     "metadata": {},
     "output_type": "display_data"
    },
    {
     "name": "stdout",
     "output_type": "stream",
     "text": [
      "Epoch : 129/250 -- Training loss 0.008424162327053408, --- Val loss 9.55322029767558e-05, --- accuray : 0.9970418517995769, --- recall : 0.997049097060207\n"
     ]
    },
    {
     "data": {
      "application/vnd.jupyter.widget-view+json": {
       "model_id": "29055c926bff4dde82d84432937ddd1e",
       "version_major": 2,
       "version_minor": 0
      },
      "text/plain": [
       "train:   0%|          | 0/1758 [00:00<?, ?it/s]"
      ]
     },
     "metadata": {},
     "output_type": "display_data"
    },
    {
     "name": "stdout",
     "output_type": "stream",
     "text": [
      "save model\n",
      "Epoch : 130/250 -- Training loss 0.008532927349200529, --- Val loss 0.00048252844135276973, --- accuray : 0.997521392940658, --- recall : 0.9975243602609393\n"
     ]
    },
    {
     "data": {
      "application/vnd.jupyter.widget-view+json": {
       "model_id": "a55e60b4a5fd4a649d43842bcc1ad75c",
       "version_major": 2,
       "version_minor": 0
      },
      "text/plain": [
       "train:   0%|          | 0/1758 [00:00<?, ?it/s]"
      ]
     },
     "metadata": {},
     "output_type": "display_data"
    },
    {
     "name": "stdout",
     "output_type": "stream",
     "text": [
      "Epoch : 131/250 -- Training loss 0.009268516741283503, --- Val loss 0.060335393995046616, --- accuray : 0.9972455302548223, --- recall : 0.9972510174638801\n"
     ]
    },
    {
     "data": {
      "application/vnd.jupyter.widget-view+json": {
       "model_id": "d466b8a0160e4d8eb5638875281dc030",
       "version_major": 2,
       "version_minor": 0
      },
      "text/plain": [
       "train:   0%|          | 0/1758 [00:00<?, ?it/s]"
      ]
     },
     "metadata": {},
     "output_type": "display_data"
    },
    {
     "name": "stdout",
     "output_type": "stream",
     "text": [
      "Epoch : 132/250 -- Training loss 0.008041571952167141, --- Val loss 0.0007999183144420385, --- accuray : 0.9967236416148955, --- recall : 0.9967303450692737\n"
     ]
    },
    {
     "data": {
      "application/vnd.jupyter.widget-view+json": {
       "model_id": "8ef526ef58624df39437f490b03a0f65",
       "version_major": 2,
       "version_minor": 0
      },
      "text/plain": [
       "train:   0%|          | 0/1758 [00:00<?, ?it/s]"
      ]
     },
     "metadata": {},
     "output_type": "display_data"
    },
    {
     "name": "stdout",
     "output_type": "stream",
     "text": [
      "Epoch : 133/250 -- Training loss 0.008475472553413707, --- Val loss 0.0001886978279799223, --- accuray : 0.997045100165748, --- recall : 0.9970500416142019\n"
     ]
    },
    {
     "data": {
      "application/vnd.jupyter.widget-view+json": {
       "model_id": "bcf1086f32ce4a9aa6dbc090adac49ea",
       "version_major": 2,
       "version_minor": 0
      },
      "text/plain": [
       "train:   0%|          | 0/1758 [00:00<?, ?it/s]"
      ]
     },
     "metadata": {},
     "output_type": "display_data"
    },
    {
     "name": "stdout",
     "output_type": "stream",
     "text": [
      "Epoch : 134/250 -- Training loss 0.009005628243609492, --- Val loss 0.0017357474425807595, --- accuray : 0.9965674696407799, --- recall : 0.9965704011232225\n"
     ]
    },
    {
     "data": {
      "application/vnd.jupyter.widget-view+json": {
       "model_id": "4351ad73d48141c1aa32057af4af8379",
       "version_major": 2,
       "version_minor": 0
      },
      "text/plain": [
       "train:   0%|          | 0/1758 [00:00<?, ?it/s]"
      ]
     },
     "metadata": {},
     "output_type": "display_data"
    },
    {
     "name": "stdout",
     "output_type": "stream",
     "text": [
      "Epoch : 135/250 -- Training loss 0.00835632138319227, --- Val loss 0.0009140938054770231, --- accuray : 0.9974422154880074, --- recall : 0.9974485519555703\n"
     ]
    },
    {
     "data": {
      "application/vnd.jupyter.widget-view+json": {
       "model_id": "ed32943dc4fe4855adb693443beddbfd",
       "version_major": 2,
       "version_minor": 0
      },
      "text/plain": [
       "train:   0%|          | 0/1758 [00:00<?, ?it/s]"
      ]
     },
     "metadata": {},
     "output_type": "display_data"
    },
    {
     "name": "stdout",
     "output_type": "stream",
     "text": [
      "Epoch : 136/250 -- Training loss 0.008708385274595033, --- Val loss 0.003178833983838558, --- accuray : 0.9970415649850819, --- recall : 0.9970463742931575\n"
     ]
    },
    {
     "data": {
      "application/vnd.jupyter.widget-view+json": {
       "model_id": "a9e6c160bc8540b093f81f305b0f1ee1",
       "version_major": 2,
       "version_minor": 0
      },
      "text/plain": [
       "train:   0%|          | 0/1758 [00:00<?, ?it/s]"
      ]
     },
     "metadata": {},
     "output_type": "display_data"
    },
    {
     "name": "stdout",
     "output_type": "stream",
     "text": [
      "Epoch : 137/250 -- Training loss 0.008211355692021784, --- Val loss 0.001707002054899931, --- accuray : 0.997085910772238, --- recall : 0.9970903288352279\n"
     ]
    },
    {
     "data": {
      "application/vnd.jupyter.widget-view+json": {
       "model_id": "1e71b280dc81486da200076540ff4eb6",
       "version_major": 2,
       "version_minor": 0
      },
      "text/plain": [
       "train:   0%|          | 0/1758 [00:00<?, ?it/s]"
      ]
     },
     "metadata": {},
     "output_type": "display_data"
    },
    {
     "name": "stdout",
     "output_type": "stream",
     "text": [
      "Epoch : 138/250 -- Training loss 0.008334056910322386, --- Val loss 0.00521255936473608, --- accuray : 0.9971233817356884, --- recall : 0.9971286022828787\n"
     ]
    },
    {
     "data": {
      "application/vnd.jupyter.widget-view+json": {
       "model_id": "e1a4b80e18a14701ad05f41bef6f0cd7",
       "version_major": 2,
       "version_minor": 0
      },
      "text/plain": [
       "train:   0%|          | 0/1758 [00:00<?, ?it/s]"
      ]
     },
     "metadata": {},
     "output_type": "display_data"
    },
    {
     "name": "stdout",
     "output_type": "stream",
     "text": [
      "save model\n",
      "Epoch : 139/250 -- Training loss 0.007968168988039145, --- Val loss 0.00010188567102886736, --- accuray : 0.9975590364743907, --- recall : 0.9975668785513705\n"
     ]
    },
    {
     "data": {
      "application/vnd.jupyter.widget-view+json": {
       "model_id": "1e12568511c14edc9387784db384823d",
       "version_major": 2,
       "version_minor": 0
      },
      "text/plain": [
       "train:   0%|          | 0/1758 [00:00<?, ?it/s]"
      ]
     },
     "metadata": {},
     "output_type": "display_data"
    },
    {
     "name": "stdout",
     "output_type": "stream",
     "text": [
      "Epoch : 140/250 -- Training loss 0.008648723368605017, --- Val loss 0.07907463610172272, --- accuray : 0.9971614889501087, --- recall : 0.9971681105572363\n"
     ]
    },
    {
     "data": {
      "application/vnd.jupyter.widget-view+json": {
       "model_id": "269229426426490ea9328136d842d6cd",
       "version_major": 2,
       "version_minor": 0
      },
      "text/plain": [
       "train:   0%|          | 0/1758 [00:00<?, ?it/s]"
      ]
     },
     "metadata": {},
     "output_type": "display_data"
    },
    {
     "name": "stdout",
     "output_type": "stream",
     "text": [
      "Epoch : 141/250 -- Training loss 0.009116526035606214, --- Val loss 0.040182989090681076, --- accuray : 0.9965283783290237, --- recall : 0.9965296087650051\n"
     ]
    },
    {
     "data": {
      "application/vnd.jupyter.widget-view+json": {
       "model_id": "800164d943574ebf8e28f9ed1c1ad1b7",
       "version_major": 2,
       "version_minor": 0
      },
      "text/plain": [
       "train:   0%|          | 0/1758 [00:00<?, ?it/s]"
      ]
     },
     "metadata": {},
     "output_type": "display_data"
    },
    {
     "name": "stdout",
     "output_type": "stream",
     "text": [
      "Epoch : 142/250 -- Training loss 0.007759643030153137, --- Val loss 0.0014251929242163897, --- accuray : 0.996849565160767, --- recall : 0.9968511081586284\n"
     ]
    },
    {
     "data": {
      "application/vnd.jupyter.widget-view+json": {
       "model_id": "5c6a055b9d3b4e9a814148c738cadf57",
       "version_major": 2,
       "version_minor": 0
      },
      "text/plain": [
       "train:   0%|          | 0/1758 [00:00<?, ?it/s]"
      ]
     },
     "metadata": {},
     "output_type": "display_data"
    },
    {
     "name": "stdout",
     "output_type": "stream",
     "text": [
      "Epoch : 143/250 -- Training loss 0.008327231573528493, --- Val loss 0.0001843820500653237, --- accuray : 0.9966871854002601, --- recall : 0.996691841516542\n"
     ]
    },
    {
     "data": {
      "application/vnd.jupyter.widget-view+json": {
       "model_id": "d6f24dea3d334b5bbcf46c5a13ac570c",
       "version_major": 2,
       "version_minor": 0
      },
      "text/plain": [
       "train:   0%|          | 0/1758 [00:00<?, ?it/s]"
      ]
     },
     "metadata": {},
     "output_type": "display_data"
    },
    {
     "name": "stdout",
     "output_type": "stream",
     "text": [
      "Epoch : 144/250 -- Training loss 0.00858725437429987, --- Val loss 0.0004336117417551577, --- accuray : 0.996884780908518, --- recall : 0.9968880540061216\n"
     ]
    },
    {
     "data": {
      "application/vnd.jupyter.widget-view+json": {
       "model_id": "659644e04eb64874a91c317e5cb766c4",
       "version_major": 2,
       "version_minor": 0
      },
      "text/plain": [
       "train:   0%|          | 0/1758 [00:00<?, ?it/s]"
      ]
     },
     "metadata": {},
     "output_type": "display_data"
    },
    {
     "name": "stdout",
     "output_type": "stream",
     "text": [
      "Epoch : 145/250 -- Training loss 0.00843478924288831, --- Val loss 0.0005899216630496085, --- accuray : 0.996845510610583, --- recall : 0.9968506116884642\n"
     ]
    },
    {
     "data": {
      "application/vnd.jupyter.widget-view+json": {
       "model_id": "728c04c659d44188b32c7b071116ffe2",
       "version_major": 2,
       "version_minor": 0
      },
      "text/plain": [
       "train:   0%|          | 0/1758 [00:00<?, ?it/s]"
      ]
     },
     "metadata": {},
     "output_type": "display_data"
    },
    {
     "name": "stdout",
     "output_type": "stream",
     "text": [
      "Epoch : 146/250 -- Training loss 0.008246678435418715, --- Val loss 0.0005872983019798994, --- accuray : 0.9969639519597152, --- recall : 0.9969699511330047\n"
     ]
    },
    {
     "data": {
      "application/vnd.jupyter.widget-view+json": {
       "model_id": "1290115b719846e184ce720ce0027956",
       "version_major": 2,
       "version_minor": 0
      },
      "text/plain": [
       "train:   0%|          | 0/1758 [00:00<?, ?it/s]"
      ]
     },
     "metadata": {},
     "output_type": "display_data"
    },
    {
     "name": "stdout",
     "output_type": "stream",
     "text": [
      "Epoch : 147/250 -- Training loss 0.008117641645214588, --- Val loss 0.020859338343143463, --- accuray : 0.9973233693122412, --- recall : 0.997328654072178\n"
     ]
    },
    {
     "data": {
      "application/vnd.jupyter.widget-view+json": {
       "model_id": "3316e54eecd14acd8f788a8a8babb3f2",
       "version_major": 2,
       "version_minor": 0
      },
      "text/plain": [
       "train:   0%|          | 0/1758 [00:00<?, ?it/s]"
      ]
     },
     "metadata": {},
     "output_type": "display_data"
    },
    {
     "name": "stdout",
     "output_type": "stream",
     "text": [
      "Epoch : 148/250 -- Training loss 0.008170701781176338, --- Val loss 0.00043161155190318823, --- accuray : 0.9968813901635546, --- recall : 0.9968897122810187\n"
     ]
    },
    {
     "data": {
      "application/vnd.jupyter.widget-view+json": {
       "model_id": "9a2ea41b603042ef86628e663e523e0e",
       "version_major": 2,
       "version_minor": 0
      },
      "text/plain": [
       "train:   0%|          | 0/1758 [00:00<?, ?it/s]"
      ]
     },
     "metadata": {},
     "output_type": "display_data"
    },
    {
     "name": "stdout",
     "output_type": "stream",
     "text": [
      "Epoch : 149/250 -- Training loss 0.008375896415272439, --- Val loss 0.002393921371549368, --- accuray : 0.9973239716031248, --- recall : 0.9973289824059488\n"
     ]
    },
    {
     "data": {
      "application/vnd.jupyter.widget-view+json": {
       "model_id": "698bd91f3dbd4eb0adebdc3fb1d81be6",
       "version_major": 2,
       "version_minor": 0
      },
      "text/plain": [
       "train:   0%|          | 0/1758 [00:00<?, ?it/s]"
      ]
     },
     "metadata": {},
     "output_type": "display_data"
    },
    {
     "name": "stdout",
     "output_type": "stream",
     "text": [
      "Epoch : 150/250 -- Training loss 0.008617317607958084, --- Val loss 0.0009384658187627792, --- accuray : 0.9968804722604183, --- recall : 0.9968878610459896\n"
     ]
    },
    {
     "data": {
      "application/vnd.jupyter.widget-view+json": {
       "model_id": "6dcad5b02ca8470090fe8c91b0f1d758",
       "version_major": 2,
       "version_minor": 0
      },
      "text/plain": [
       "train:   0%|          | 0/1758 [00:00<?, ?it/s]"
      ]
     },
     "metadata": {},
     "output_type": "display_data"
    },
    {
     "name": "stdout",
     "output_type": "stream",
     "text": [
      "Epoch : 151/250 -- Training loss 0.008206263357491618, --- Val loss 1.0098040547745768e-05, --- accuray : 0.9967254463332808, --- recall : 0.9967315465480228\n"
     ]
    },
    {
     "data": {
      "application/vnd.jupyter.widget-view+json": {
       "model_id": "ef0cb703f2ed41f7885dd585c27529af",
       "version_major": 2,
       "version_minor": 0
      },
      "text/plain": [
       "train:   0%|          | 0/1758 [00:00<?, ?it/s]"
      ]
     },
     "metadata": {},
     "output_type": "display_data"
    },
    {
     "name": "stdout",
     "output_type": "stream",
     "text": [
      "Epoch : 152/250 -- Training loss 0.008361572732253414, --- Val loss 0.0008676679572090507, --- accuray : 0.9971662256921437, --- recall : 0.9971701544073639\n"
     ]
    },
    {
     "data": {
      "application/vnd.jupyter.widget-view+json": {
       "model_id": "6337242dc04b4012ba6e690cf8233c1e",
       "version_major": 2,
       "version_minor": 0
      },
      "text/plain": [
       "train:   0%|          | 0/1758 [00:00<?, ?it/s]"
      ]
     },
     "metadata": {},
     "output_type": "display_data"
    },
    {
     "name": "stdout",
     "output_type": "stream",
     "text": [
      "Epoch : 153/250 -- Training loss 0.007970772495761166, --- Val loss 0.06821822375059128, --- accuray : 0.996882157783185, --- recall : 0.9968894870459737\n"
     ]
    },
    {
     "data": {
      "application/vnd.jupyter.widget-view+json": {
       "model_id": "c4fb5f9f4027447ba90624380641ee16",
       "version_major": 2,
       "version_minor": 0
      },
      "text/plain": [
       "train:   0%|          | 0/1758 [00:00<?, ?it/s]"
      ]
     },
     "metadata": {},
     "output_type": "display_data"
    },
    {
     "name": "stdout",
     "output_type": "stream",
     "text": [
      "Epoch : 154/250 -- Training loss 0.008240879660328925, --- Val loss 0.0009392559295520186, --- accuray : 0.997002029009168, --- recall : 0.9970082182545974\n"
     ]
    },
    {
     "data": {
      "application/vnd.jupyter.widget-view+json": {
       "model_id": "3f9938b97bef4c8682a0ca885fa1d404",
       "version_major": 2,
       "version_minor": 0
      },
      "text/plain": [
       "train:   0%|          | 0/1758 [00:00<?, ?it/s]"
      ]
     },
     "metadata": {},
     "output_type": "display_data"
    },
    {
     "name": "stdout",
     "output_type": "stream",
     "text": [
      "Epoch : 155/250 -- Training loss 0.00729052178121699, --- Val loss 8.216733840527013e-05, --- accuray : 0.9971615990608811, --- recall : 0.9971680360792401\n"
     ]
    },
    {
     "data": {
      "application/vnd.jupyter.widget-view+json": {
       "model_id": "b6b5da0f646741d98b9fa62d6c771cff",
       "version_major": 2,
       "version_minor": 0
      },
      "text/plain": [
       "train:   0%|          | 0/1758 [00:00<?, ?it/s]"
      ]
     },
     "metadata": {},
     "output_type": "display_data"
    },
    {
     "name": "stdout",
     "output_type": "stream",
     "text": [
      "Epoch : 156/250 -- Training loss 0.007832750918543857, --- Val loss 0.03069130890071392, --- accuray : 0.9971271495994859, --- recall : 0.9971300972914184\n"
     ]
    },
    {
     "data": {
      "application/vnd.jupyter.widget-view+json": {
       "model_id": "7f3e2938181c451688c6a4ce272471f0",
       "version_major": 2,
       "version_minor": 0
      },
      "text/plain": [
       "train:   0%|          | 0/1758 [00:00<?, ?it/s]"
      ]
     },
     "metadata": {},
     "output_type": "display_data"
    },
    {
     "name": "stdout",
     "output_type": "stream",
     "text": [
      "save model\n",
      "Epoch : 157/250 -- Training loss 0.008433629274711819, --- Val loss 0.0003684198309201747, --- accuray : 0.9976412528366347, --- recall : 0.9976470682890113\n"
     ]
    },
    {
     "data": {
      "application/vnd.jupyter.widget-view+json": {
       "model_id": "528e4632df5b4a3aa7e22894ecfd167a",
       "version_major": 2,
       "version_minor": 0
      },
      "text/plain": [
       "train:   0%|          | 0/1758 [00:00<?, ?it/s]"
      ]
     },
     "metadata": {},
     "output_type": "display_data"
    },
    {
     "name": "stdout",
     "output_type": "stream",
     "text": [
      "Epoch : 158/250 -- Training loss 0.007558267143790038, --- Val loss 0.00036660756450146437, --- accuray : 0.9974004255286764, --- recall : 0.9974080989391194\n"
     ]
    },
    {
     "data": {
      "application/vnd.jupyter.widget-view+json": {
       "model_id": "3dc2260bb97c48698d514c067b6f2814",
       "version_major": 2,
       "version_minor": 0
      },
      "text/plain": [
       "train:   0%|          | 0/1758 [00:00<?, ?it/s]"
      ]
     },
     "metadata": {},
     "output_type": "display_data"
    },
    {
     "name": "stdout",
     "output_type": "stream",
     "text": [
      "Epoch : 159/250 -- Training loss 0.008809821059864291, --- Val loss 3.423636144361808e-06, --- accuray : 0.9964166772021169, --- recall : 0.9964147440208085\n"
     ]
    },
    {
     "data": {
      "application/vnd.jupyter.widget-view+json": {
       "model_id": "573785c292654dcb9ddb8fb337b095b9",
       "version_major": 2,
       "version_minor": 0
      },
      "text/plain": [
       "train:   0%|          | 0/1758 [00:00<?, ?it/s]"
      ]
     },
     "metadata": {},
     "output_type": "display_data"
    },
    {
     "name": "stdout",
     "output_type": "stream",
     "text": [
      "Epoch : 160/250 -- Training loss 0.008401472979789795, --- Val loss 0.07377605140209198, --- accuray : 0.9967727643959678, --- recall : 0.9967712175488253\n"
     ]
    },
    {
     "data": {
      "application/vnd.jupyter.widget-view+json": {
       "model_id": "2e5324b253c7400aa7e9d750d85d176d",
       "version_major": 2,
       "version_minor": 0
      },
      "text/plain": [
       "train:   0%|          | 0/1758 [00:00<?, ?it/s]"
      ]
     },
     "metadata": {},
     "output_type": "display_data"
    },
    {
     "name": "stdout",
     "output_type": "stream",
     "text": [
      "Epoch : 161/250 -- Training loss 0.008250965457746723, --- Val loss 0.0003428481286391616, --- accuray : 0.9964857322736022, --- recall : 0.9964923092200898\n"
     ]
    },
    {
     "data": {
      "application/vnd.jupyter.widget-view+json": {
       "model_id": "d801e5e138864128b015abf2d23f43d5",
       "version_major": 2,
       "version_minor": 0
      },
      "text/plain": [
       "train:   0%|          | 0/1758 [00:00<?, ?it/s]"
      ]
     },
     "metadata": {},
     "output_type": "display_data"
    },
    {
     "name": "stdout",
     "output_type": "stream",
     "text": [
      "Epoch : 162/250 -- Training loss 0.007965840267527594, --- Val loss 0.0003551824775058776, --- accuray : 0.9966048868493207, --- recall : 0.9966122728691607\n"
     ]
    },
    {
     "data": {
      "application/vnd.jupyter.widget-view+json": {
       "model_id": "35f783872c6d43c9971c0c4ae7b7c350",
       "version_major": 2,
       "version_minor": 0
      },
      "text/plain": [
       "train:   0%|          | 0/1758 [00:00<?, ?it/s]"
      ]
     },
     "metadata": {},
     "output_type": "display_data"
    },
    {
     "name": "stdout",
     "output_type": "stream",
     "text": [
      "Epoch : 163/250 -- Training loss 0.008035778672872525, --- Val loss 0.0007031516288407147, --- accuray : 0.9972433652608117, --- recall : 0.9972503639106088\n"
     ]
    },
    {
     "data": {
      "application/vnd.jupyter.widget-view+json": {
       "model_id": "c9bcb3fd20df4614a8fa6024df4f1ea5",
       "version_major": 2,
       "version_minor": 0
      },
      "text/plain": [
       "train:   0%|          | 0/1758 [00:00<?, ?it/s]"
      ]
     },
     "metadata": {},
     "output_type": "display_data"
    },
    {
     "name": "stdout",
     "output_type": "stream",
     "text": [
      "Epoch : 164/250 -- Training loss 0.008426592004446551, --- Val loss 0.0021152710542082787, --- accuray : 0.9968505667041334, --- recall : 0.9968529117353351\n"
     ]
    },
    {
     "data": {
      "application/vnd.jupyter.widget-view+json": {
       "model_id": "ca169aefddd5436d8323f2533ee60d43",
       "version_major": 2,
       "version_minor": 0
      },
      "text/plain": [
       "train:   0%|          | 0/1758 [00:00<?, ?it/s]"
      ]
     },
     "metadata": {},
     "output_type": "display_data"
    },
    {
     "name": "stdout",
     "output_type": "stream",
     "text": [
      "Epoch : 165/250 -- Training loss 0.007314248191803086, --- Val loss 0.0013640148099511862, --- accuray : 0.9970451312361929, --- recall : 0.9970500955985825\n"
     ]
    },
    {
     "data": {
      "application/vnd.jupyter.widget-view+json": {
       "model_id": "a4f6c5af33eb41348c01b186c77939f4",
       "version_major": 2,
       "version_minor": 0
      },
      "text/plain": [
       "train:   0%|          | 0/1758 [00:00<?, ?it/s]"
      ]
     },
     "metadata": {},
     "output_type": "display_data"
    },
    {
     "name": "stdout",
     "output_type": "stream",
     "text": [
      "Epoch : 166/250 -- Training loss 0.007940239202720627, --- Val loss 0.00042094572563655674, --- accuray : 0.9968836592080876, --- recall : 0.9968899177504597\n"
     ]
    },
    {
     "data": {
      "application/vnd.jupyter.widget-view+json": {
       "model_id": "8b2d1f2339e643378c9476cb026fe294",
       "version_major": 2,
       "version_minor": 0
      },
      "text/plain": [
       "train:   0%|          | 0/1758 [00:00<?, ?it/s]"
      ]
     },
     "metadata": {},
     "output_type": "display_data"
    },
    {
     "name": "stdout",
     "output_type": "stream",
     "text": [
      "Epoch : 167/250 -- Training loss 0.008209510204780203, --- Val loss 0.0013560970546677709, --- accuray : 0.9967642259261925, --- recall : 0.9967704045261877\n"
     ]
    },
    {
     "data": {
      "application/vnd.jupyter.widget-view+json": {
       "model_id": "83ef6dc5f2fe4a6fa8cbaecd2d347151",
       "version_major": 2,
       "version_minor": 0
      },
      "text/plain": [
       "train:   0%|          | 0/1758 [00:00<?, ?it/s]"
      ]
     },
     "metadata": {},
     "output_type": "display_data"
    },
    {
     "name": "stdout",
     "output_type": "stream",
     "text": [
      "Epoch : 168/250 -- Training loss 0.007651711700608927, --- Val loss 0.002689376240596175, --- accuray : 0.9972449118647624, --- recall : 0.9972489085760854\n"
     ]
    },
    {
     "data": {
      "application/vnd.jupyter.widget-view+json": {
       "model_id": "dac9d153b63746c9a7b1bc971ab2e17d",
       "version_major": 2,
       "version_minor": 0
      },
      "text/plain": [
       "train:   0%|          | 0/1758 [00:00<?, ?it/s]"
      ]
     },
     "metadata": {},
     "output_type": "display_data"
    },
    {
     "name": "stdout",
     "output_type": "stream",
     "text": [
      "Epoch : 169/250 -- Training loss 0.00806956701670987, --- Val loss 0.0034087030217051506, --- accuray : 0.9970862507441162, --- recall : 0.9970898807513976\n"
     ]
    },
    {
     "data": {
      "application/vnd.jupyter.widget-view+json": {
       "model_id": "db7b6aa38997476f830ed31621be8f28",
       "version_major": 2,
       "version_minor": 0
      },
      "text/plain": [
       "train:   0%|          | 0/1758 [00:00<?, ?it/s]"
      ]
     },
     "metadata": {},
     "output_type": "display_data"
    },
    {
     "name": "stdout",
     "output_type": "stream",
     "text": [
      "Epoch : 170/250 -- Training loss 0.007351894109656593, --- Val loss 2.4990809833980165e-05, --- accuray : 0.9969252576219196, --- recall : 0.9969292865091537\n"
     ]
    },
    {
     "data": {
      "application/vnd.jupyter.widget-view+json": {
       "model_id": "e651b81ebce64378a2bfec083083f32b",
       "version_major": 2,
       "version_minor": 0
      },
      "text/plain": [
       "train:   0%|          | 0/1758 [00:00<?, ?it/s]"
      ]
     },
     "metadata": {},
     "output_type": "display_data"
    },
    {
     "name": "stdout",
     "output_type": "stream",
     "text": [
      "Epoch : 171/250 -- Training loss 0.008218298453654635, --- Val loss 0.0022302602883428335, --- accuray : 0.9972462115296608, --- recall : 0.9972505550696849\n"
     ]
    },
    {
     "data": {
      "application/vnd.jupyter.widget-view+json": {
       "model_id": "3a95afd6176248ec8485eda73ebcc03d",
       "version_major": 2,
       "version_minor": 0
      },
      "text/plain": [
       "train:   0%|          | 0/1758 [00:00<?, ?it/s]"
      ]
     },
     "metadata": {},
     "output_type": "display_data"
    },
    {
     "name": "stdout",
     "output_type": "stream",
     "text": [
      "Epoch : 172/250 -- Training loss 0.007902214635434841, --- Val loss 0.0007363275508396327, --- accuray : 0.9972829830011104, --- recall : 0.997288574661561\n"
     ]
    },
    {
     "data": {
      "application/vnd.jupyter.widget-view+json": {
       "model_id": "58ddee45715a4c0e9e902ce52909916b",
       "version_major": 2,
       "version_minor": 0
      },
      "text/plain": [
       "train:   0%|          | 0/1758 [00:00<?, ?it/s]"
      ]
     },
     "metadata": {},
     "output_type": "display_data"
    },
    {
     "name": "stdout",
     "output_type": "stream",
     "text": [
      "Epoch : 173/250 -- Training loss 0.008154376277606823, --- Val loss 0.00013429646787699312, --- accuray : 0.9972411613505165, --- recall : 0.997247773591026\n"
     ]
    },
    {
     "data": {
      "application/vnd.jupyter.widget-view+json": {
       "model_id": "7808888c43614592913010a94c2e8c71",
       "version_major": 2,
       "version_minor": 0
      },
      "text/plain": [
       "train:   0%|          | 0/1758 [00:00<?, ?it/s]"
      ]
     },
     "metadata": {},
     "output_type": "display_data"
    },
    {
     "name": "stdout",
     "output_type": "stream",
     "text": [
      "Epoch : 174/250 -- Training loss 0.007614083028454077, --- Val loss 6.03532898821868e-05, --- accuray : 0.9966879238155958, --- recall : 0.9966916012431211\n"
     ]
    },
    {
     "data": {
      "application/vnd.jupyter.widget-view+json": {
       "model_id": "ff59b9f0a484480b983d003f3058e0f8",
       "version_major": 2,
       "version_minor": 0
      },
      "text/plain": [
       "train:   0%|          | 0/1758 [00:00<?, ?it/s]"
      ]
     },
     "metadata": {},
     "output_type": "display_data"
    },
    {
     "name": "stdout",
     "output_type": "stream",
     "text": [
      "Epoch : 175/250 -- Training loss 0.00773463918294981, --- Val loss 0.004734559915959835, --- accuray : 0.9973247400580206, --- recall : 0.9973293726631164\n"
     ]
    },
    {
     "data": {
      "application/vnd.jupyter.widget-view+json": {
       "model_id": "ec6a8639c0ae493d879d411c423dd62c",
       "version_major": 2,
       "version_minor": 0
      },
      "text/plain": [
       "train:   0%|          | 0/1758 [00:00<?, ?it/s]"
      ]
     },
     "metadata": {},
     "output_type": "display_data"
    },
    {
     "name": "stdout",
     "output_type": "stream",
     "text": [
      "Epoch : 176/250 -- Training loss 0.008078506993641956, --- Val loss 0.04075482860207558, --- accuray : 0.9974065653654313, --- recall : 0.9974091491209072\n"
     ]
    },
    {
     "data": {
      "application/vnd.jupyter.widget-view+json": {
       "model_id": "14db529e72a94c6aac93cfb860b7b816",
       "version_major": 2,
       "version_minor": 0
      },
      "text/plain": [
       "train:   0%|          | 0/1758 [00:00<?, ?it/s]"
      ]
     },
     "metadata": {},
     "output_type": "display_data"
    },
    {
     "name": "stdout",
     "output_type": "stream",
     "text": [
      "Epoch : 177/250 -- Training loss 0.007847622921724348, --- Val loss 0.003477462800219655, --- accuray : 0.9966832858106217, --- recall : 0.9966877030889847\n"
     ]
    },
    {
     "data": {
      "application/vnd.jupyter.widget-view+json": {
       "model_id": "7a831d29d2534c5b8e99d5fc01913138",
       "version_major": 2,
       "version_minor": 0
      },
      "text/plain": [
       "train:   0%|          | 0/1758 [00:00<?, ?it/s]"
      ]
     },
     "metadata": {},
     "output_type": "display_data"
    },
    {
     "name": "stdout",
     "output_type": "stream",
     "text": [
      "Epoch : 178/250 -- Training loss 0.008388797436774917, --- Val loss 0.05985383689403534, --- accuray : 0.996603182995397, --- recall : 0.9966103527541822\n"
     ]
    },
    {
     "data": {
      "application/vnd.jupyter.widget-view+json": {
       "model_id": "4160f3e231e9421c9779dc0dda753203",
       "version_major": 2,
       "version_minor": 0
      },
      "text/plain": [
       "train:   0%|          | 0/1758 [00:00<?, ?it/s]"
      ]
     },
     "metadata": {},
     "output_type": "display_data"
    },
    {
     "name": "stdout",
     "output_type": "stream",
     "text": [
      "Epoch : 179/250 -- Training loss 0.0075643284996755105, --- Val loss 0.00806239154189825, --- accuray : 0.9973603168486779, --- recall : 0.9973669155504326\n"
     ]
    },
    {
     "data": {
      "application/vnd.jupyter.widget-view+json": {
       "model_id": "ea8bf1ee06eb4b9298d15fcdf20e6e60",
       "version_major": 2,
       "version_minor": 0
      },
      "text/plain": [
       "train:   0%|          | 0/1758 [00:00<?, ?it/s]"
      ]
     },
     "metadata": {},
     "output_type": "display_data"
    },
    {
     "name": "stdout",
     "output_type": "stream",
     "text": [
      "Epoch : 180/250 -- Training loss 0.008441197511869962, --- Val loss 0.00038453942397609353, --- accuray : 0.9963653240965685, --- recall : 0.9963703357515696\n"
     ]
    },
    {
     "data": {
      "application/vnd.jupyter.widget-view+json": {
       "model_id": "678a00f52b884cc5b413106f72d64176",
       "version_major": 2,
       "version_minor": 0
      },
      "text/plain": [
       "train:   0%|          | 0/1758 [00:00<?, ?it/s]"
      ]
     },
     "metadata": {},
     "output_type": "display_data"
    },
    {
     "name": "stdout",
     "output_type": "stream",
     "text": [
      "Epoch : 181/250 -- Training loss 0.007123363867100423, --- Val loss 0.031151827424764633, --- accuray : 0.9969280366451247, --- recall : 0.996932482723685\n"
     ]
    },
    {
     "data": {
      "application/vnd.jupyter.widget-view+json": {
       "model_id": "9a45bf7fc9ae41a39a184f94e8c82bb9",
       "version_major": 2,
       "version_minor": 0
      },
      "text/plain": [
       "train:   0%|          | 0/1758 [00:00<?, ?it/s]"
      ]
     },
     "metadata": {},
     "output_type": "display_data"
    },
    {
     "name": "stdout",
     "output_type": "stream",
     "text": [
      "Epoch : 182/250 -- Training loss 0.007648212383819203, --- Val loss 0.0028649333398789167, --- accuray : 0.9967269489693813, --- recall : 0.9967309700018152\n"
     ]
    },
    {
     "data": {
      "application/vnd.jupyter.widget-view+json": {
       "model_id": "f72da04fe6714f06994fcec798b1613f",
       "version_major": 2,
       "version_minor": 0
      },
      "text/plain": [
       "train:   0%|          | 0/1758 [00:00<?, ?it/s]"
      ]
     },
     "metadata": {},
     "output_type": "display_data"
    },
    {
     "name": "stdout",
     "output_type": "stream",
     "text": [
      "Epoch : 183/250 -- Training loss 0.00726959851367874, --- Val loss 0.004786208271980286, --- accuray : 0.9972403664603784, --- recall : 0.99724659490157\n"
     ]
    },
    {
     "data": {
      "application/vnd.jupyter.widget-view+json": {
       "model_id": "07e3ecc78b2641b893a190af9402c909",
       "version_major": 2,
       "version_minor": 0
      },
      "text/plain": [
       "train:   0%|          | 0/1758 [00:00<?, ?it/s]"
      ]
     },
     "metadata": {},
     "output_type": "display_data"
    },
    {
     "name": "stdout",
     "output_type": "stream",
     "text": [
      "Epoch : 184/250 -- Training loss 0.007683021281836183, --- Val loss 4.3633117456920445e-05, --- accuray : 0.996294230104167, --- recall : 0.9962941347574823\n"
     ]
    },
    {
     "data": {
      "application/vnd.jupyter.widget-view+json": {
       "model_id": "e5d2cc6676114332a37b4f6fd9d08f61",
       "version_major": 2,
       "version_minor": 0
      },
      "text/plain": [
       "train:   0%|          | 0/1758 [00:00<?, ?it/s]"
      ]
     },
     "metadata": {},
     "output_type": "display_data"
    },
    {
     "name": "stdout",
     "output_type": "stream",
     "text": [
      "Epoch : 185/250 -- Training loss 0.007035454872287476, --- Val loss 0.015055169351398945, --- accuray : 0.9970032041934991, --- recall : 0.9970083871190019\n"
     ]
    },
    {
     "data": {
      "application/vnd.jupyter.widget-view+json": {
       "model_id": "11043a2d86be47ea8f8a021d13fe7ed8",
       "version_major": 2,
       "version_minor": 0
      },
      "text/plain": [
       "train:   0%|          | 0/1758 [00:00<?, ?it/s]"
      ]
     },
     "metadata": {},
     "output_type": "display_data"
    },
    {
     "name": "stdout",
     "output_type": "stream",
     "text": [
      "Epoch : 186/250 -- Training loss 0.008163382094325107, --- Val loss 2.2187401555129327e-05, --- accuray : 0.9970093079011958, --- recall : 0.9970110147716322\n"
     ]
    },
    {
     "data": {
      "application/vnd.jupyter.widget-view+json": {
       "model_id": "5eb3e7635c9142ef97eb0cc29b8e2825",
       "version_major": 2,
       "version_minor": 0
      },
      "text/plain": [
       "train:   0%|          | 0/1758 [00:00<?, ?it/s]"
      ]
     },
     "metadata": {},
     "output_type": "display_data"
    },
    {
     "name": "stdout",
     "output_type": "stream",
     "text": [
      "Epoch : 187/250 -- Training loss 0.007405314109097013, --- Val loss 9.141290502157062e-05, --- accuray : 0.9971252869235638, --- recall : 0.9971300489050845\n"
     ]
    },
    {
     "data": {
      "application/vnd.jupyter.widget-view+json": {
       "model_id": "734bf1bcda1d4102b706d4ab9b8afc90",
       "version_major": 2,
       "version_minor": 0
      },
      "text/plain": [
       "train:   0%|          | 0/1758 [00:00<?, ?it/s]"
      ]
     },
     "metadata": {},
     "output_type": "display_data"
    },
    {
     "name": "stdout",
     "output_type": "stream",
     "text": [
      "Epoch : 188/250 -- Training loss 0.008084344997756612, --- Val loss 0.029708929359912872, --- accuray : 0.9971282806260504, --- recall : 0.9971309760797344\n"
     ]
    },
    {
     "data": {
      "application/vnd.jupyter.widget-view+json": {
       "model_id": "59779f0c84494428be33d2bbb615d1c5",
       "version_major": 2,
       "version_minor": 0
      },
      "text/plain": [
       "train:   0%|          | 0/1758 [00:00<?, ?it/s]"
      ]
     },
     "metadata": {},
     "output_type": "display_data"
    },
    {
     "name": "stdout",
     "output_type": "stream",
     "text": [
      "Epoch : 189/250 -- Training loss 0.007769834376053022, --- Val loss 0.002942728577181697, --- accuray : 0.9966069104321319, --- recall : 0.9966125441042799\n"
     ]
    },
    {
     "data": {
      "application/vnd.jupyter.widget-view+json": {
       "model_id": "233e60f82aa5492cb453886352131595",
       "version_major": 2,
       "version_minor": 0
      },
      "text/plain": [
       "train:   0%|          | 0/1758 [00:00<?, ?it/s]"
      ]
     },
     "metadata": {},
     "output_type": "display_data"
    },
    {
     "name": "stdout",
     "output_type": "stream",
     "text": [
      "Epoch : 190/250 -- Training loss 0.0074444871514645124, --- Val loss 1.6169431546586566e-05, --- accuray : 0.9971619723222218, --- recall : 0.9971686530274748\n"
     ]
    },
    {
     "data": {
      "application/vnd.jupyter.widget-view+json": {
       "model_id": "1b24b4a063c248b2ab21e67cff5b3af2",
       "version_major": 2,
       "version_minor": 0
      },
      "text/plain": [
       "train:   0%|          | 0/1758 [00:00<?, ?it/s]"
      ]
     },
     "metadata": {},
     "output_type": "display_data"
    },
    {
     "name": "stdout",
     "output_type": "stream",
     "text": [
      "Epoch : 191/250 -- Training loss 0.007416308404942482, --- Val loss 0.0002167887578252703, --- accuray : 0.9968010148502433, --- recall : 0.9968087547928034\n"
     ]
    },
    {
     "data": {
      "application/vnd.jupyter.widget-view+json": {
       "model_id": "6a7e1eb90526485a93b4f1a63d2b7cb3",
       "version_major": 2,
       "version_minor": 0
      },
      "text/plain": [
       "train:   0%|          | 0/1758 [00:00<?, ?it/s]"
      ]
     },
     "metadata": {},
     "output_type": "display_data"
    },
    {
     "name": "stdout",
     "output_type": "stream",
     "text": [
      "Epoch : 192/250 -- Training loss 0.007028326817602977, --- Val loss 0.00937195960432291, --- accuray : 0.997201384675652, --- recall : 0.9972068574523687\n"
     ]
    },
    {
     "data": {
      "application/vnd.jupyter.widget-view+json": {
       "model_id": "c6fc7346522d4161af0bdc60726869ff",
       "version_major": 2,
       "version_minor": 0
      },
      "text/plain": [
       "train:   0%|          | 0/1758 [00:00<?, ?it/s]"
      ]
     },
     "metadata": {},
     "output_type": "display_data"
    },
    {
     "name": "stdout",
     "output_type": "stream",
     "text": [
      "Epoch : 193/250 -- Training loss 0.008078418882355404, --- Val loss 0.0009671614388935268, --- accuray : 0.9970464179280336, --- recall : 0.9970499354464961\n"
     ]
    },
    {
     "data": {
      "application/vnd.jupyter.widget-view+json": {
       "model_id": "234e9446132d48998aba12b68a0aa95a",
       "version_major": 2,
       "version_minor": 0
      },
      "text/plain": [
       "train:   0%|          | 0/1758 [00:00<?, ?it/s]"
      ]
     },
     "metadata": {},
     "output_type": "display_data"
    },
    {
     "name": "stdout",
     "output_type": "stream",
     "text": [
      "Epoch : 194/250 -- Training loss 0.007511553199675105, --- Val loss 0.004371837712824345, --- accuray : 0.997400834060112, --- recall : 0.9974073486131804\n"
     ]
    },
    {
     "data": {
      "application/vnd.jupyter.widget-view+json": {
       "model_id": "04c47c7ea494498aadb1d00b62e74ae1",
       "version_major": 2,
       "version_minor": 0
      },
      "text/plain": [
       "train:   0%|          | 0/1758 [00:00<?, ?it/s]"
      ]
     },
     "metadata": {},
     "output_type": "display_data"
    },
    {
     "name": "stdout",
     "output_type": "stream",
     "text": [
      "Epoch : 195/250 -- Training loss 0.008166050492778062, --- Val loss 9.383766155224293e-05, --- accuray : 0.9974013738301659, --- recall : 0.997407842742376\n"
     ]
    },
    {
     "data": {
      "application/vnd.jupyter.widget-view+json": {
       "model_id": "c6ff28cc47c148f68be8eac0ed4fc09e",
       "version_major": 2,
       "version_minor": 0
      },
      "text/plain": [
       "train:   0%|          | 0/1758 [00:00<?, ?it/s]"
      ]
     },
     "metadata": {},
     "output_type": "display_data"
    },
    {
     "name": "stdout",
     "output_type": "stream",
     "text": [
      "save model\n",
      "Epoch : 196/250 -- Training loss 0.007048496335959606, --- Val loss 0.0006232152227312326, --- accuray : 0.997641581338869, --- recall : 0.9976474766988256\n"
     ]
    },
    {
     "data": {
      "application/vnd.jupyter.widget-view+json": {
       "model_id": "50a21d1917034524b1c07cf6135a958c",
       "version_major": 2,
       "version_minor": 0
      },
      "text/plain": [
       "train:   0%|          | 0/1758 [00:00<?, ?it/s]"
      ]
     },
     "metadata": {},
     "output_type": "display_data"
    },
    {
     "name": "stdout",
     "output_type": "stream",
     "text": [
      "save model\n",
      "Epoch : 197/250 -- Training loss 0.007790837337361959, --- Val loss 0.0022402391768991947, --- accuray : 0.997720949405846, --- recall : 0.9977277043547176\n"
     ]
    },
    {
     "data": {
      "application/vnd.jupyter.widget-view+json": {
       "model_id": "20041a4e85c34e2e9cbd53daabf0dcae",
       "version_major": 2,
       "version_minor": 0
      },
      "text/plain": [
       "train:   0%|          | 0/1758 [00:00<?, ?it/s]"
      ]
     },
     "metadata": {},
     "output_type": "display_data"
    },
    {
     "name": "stdout",
     "output_type": "stream",
     "text": [
      "Epoch : 198/250 -- Training loss 0.007353704480785865, --- Val loss 0.0009960897732526064, --- accuray : 0.9972057727859174, --- recall : 0.9972094740517129\n"
     ]
    },
    {
     "data": {
      "application/vnd.jupyter.widget-view+json": {
       "model_id": "7e5e56d1153147e5913b4f06bd734be8",
       "version_major": 2,
       "version_minor": 0
      },
      "text/plain": [
       "train:   0%|          | 0/1758 [00:00<?, ?it/s]"
      ]
     },
     "metadata": {},
     "output_type": "display_data"
    },
    {
     "name": "stdout",
     "output_type": "stream",
     "text": [
      "Epoch : 199/250 -- Training loss 0.00725132970789331, --- Val loss 5.498317113961093e-05, --- accuray : 0.9968878767003423, --- recall : 0.9968904769173225\n"
     ]
    },
    {
     "data": {
      "application/vnd.jupyter.widget-view+json": {
       "model_id": "b1d0988391b24285a4f5f8cb1907be0c",
       "version_major": 2,
       "version_minor": 0
      },
      "text/plain": [
       "train:   0%|          | 0/1758 [00:00<?, ?it/s]"
      ]
     },
     "metadata": {},
     "output_type": "display_data"
    },
    {
     "name": "stdout",
     "output_type": "stream",
     "text": [
      "Epoch : 200/250 -- Training loss 0.007261562099281132, --- Val loss 0.001497530611231923, --- accuray : 0.9975634491956671, --- recall : 0.9975689613475028\n"
     ]
    },
    {
     "data": {
      "application/vnd.jupyter.widget-view+json": {
       "model_id": "8a7f50a1aa984d55b7b93d5b5314bd1b",
       "version_major": 2,
       "version_minor": 0
      },
      "text/plain": [
       "train:   0%|          | 0/1758 [00:00<?, ?it/s]"
      ]
     },
     "metadata": {},
     "output_type": "display_data"
    },
    {
     "name": "stdout",
     "output_type": "stream",
     "text": [
      "Epoch : 201/250 -- Training loss 0.00805345379325835, --- Val loss 0.00029688040376640856, --- accuray : 0.9974034302249535, --- recall : 0.9974084955676361\n"
     ]
    },
    {
     "data": {
      "application/vnd.jupyter.widget-view+json": {
       "model_id": "5308bb6777fc4adf934105015f0dafc8",
       "version_major": 2,
       "version_minor": 0
      },
      "text/plain": [
       "train:   0%|          | 0/1758 [00:00<?, ?it/s]"
      ]
     },
     "metadata": {},
     "output_type": "display_data"
    },
    {
     "name": "stdout",
     "output_type": "stream",
     "text": [
      "Epoch : 202/250 -- Training loss 0.007681739294218953, --- Val loss 2.1801508410135284e-05, --- accuray : 0.9969622625725568, --- recall : 0.9969682617083107\n"
     ]
    },
    {
     "data": {
      "application/vnd.jupyter.widget-view+json": {
       "model_id": "8dee0a238183444c91bb2e7c1877b90e",
       "version_major": 2,
       "version_minor": 0
      },
      "text/plain": [
       "train:   0%|          | 0/1758 [00:00<?, ?it/s]"
      ]
     },
     "metadata": {},
     "output_type": "display_data"
    },
    {
     "name": "stdout",
     "output_type": "stream",
     "text": [
      "Epoch : 203/250 -- Training loss 0.007256930834990631, --- Val loss 0.0005547388573177159, --- accuray : 0.9970495273681808, --- recall : 0.9970513423946858\n"
     ]
    },
    {
     "data": {
      "application/vnd.jupyter.widget-view+json": {
       "model_id": "82999ea0893a4661a4c0507454f3fb75",
       "version_major": 2,
       "version_minor": 0
      },
      "text/plain": [
       "train:   0%|          | 0/1758 [00:00<?, ?it/s]"
      ]
     },
     "metadata": {},
     "output_type": "display_data"
    },
    {
     "name": "stdout",
     "output_type": "stream",
     "text": [
      "Epoch : 204/250 -- Training loss 0.00786342905518078, --- Val loss 0.0006129977409727871, --- accuray : 0.997479276244885, --- recall : 0.9974870964502417\n"
     ]
    },
    {
     "data": {
      "application/vnd.jupyter.widget-view+json": {
       "model_id": "a2aad9fd45964f6ba1dc75e596ed33cc",
       "version_major": 2,
       "version_minor": 0
      },
      "text/plain": [
       "train:   0%|          | 0/1758 [00:00<?, ?it/s]"
      ]
     },
     "metadata": {},
     "output_type": "display_data"
    },
    {
     "name": "stdout",
     "output_type": "stream",
     "text": [
      "Epoch : 205/250 -- Training loss 0.007641206241745026, --- Val loss 9.21787341212621e-06, --- accuray : 0.9972484843145949, --- recall : 0.9972494193566144\n"
     ]
    },
    {
     "data": {
      "application/vnd.jupyter.widget-view+json": {
       "model_id": "c554713effbb4b8d81c9b7fbb4e46f42",
       "version_major": 2,
       "version_minor": 0
      },
      "text/plain": [
       "train:   0%|          | 0/1758 [00:00<?, ?it/s]"
      ]
     },
     "metadata": {},
     "output_type": "display_data"
    },
    {
     "name": "stdout",
     "output_type": "stream",
     "text": [
      "Epoch : 206/250 -- Training loss 0.0072448654894723165, --- Val loss 0.00011486361472634599, --- accuray : 0.9966868737419208, --- recall : 0.9966898746734782\n"
     ]
    },
    {
     "data": {
      "application/vnd.jupyter.widget-view+json": {
       "model_id": "0fb4b8681bde484ca52176fdb19ec93e",
       "version_major": 2,
       "version_minor": 0
      },
      "text/plain": [
       "train:   0%|          | 0/1758 [00:00<?, ?it/s]"
      ]
     },
     "metadata": {},
     "output_type": "display_data"
    },
    {
     "name": "stdout",
     "output_type": "stream",
     "text": [
      "Epoch : 207/250 -- Training loss 0.007393768404615051, --- Val loss 0.010143844410777092, --- accuray : 0.9974859937437788, --- recall : 0.9974887915182737\n"
     ]
    },
    {
     "data": {
      "application/vnd.jupyter.widget-view+json": {
       "model_id": "f0ef3091acaf498d943ffef3e58f32b8",
       "version_major": 2,
       "version_minor": 0
      },
      "text/plain": [
       "train:   0%|          | 0/1758 [00:00<?, ?it/s]"
      ]
     },
     "metadata": {},
     "output_type": "display_data"
    },
    {
     "name": "stdout",
     "output_type": "stream",
     "text": [
      "Epoch : 208/250 -- Training loss 0.007038840911291252, --- Val loss 0.018602829426527023, --- accuray : 0.9974428911186347, --- recall : 0.997449080115444\n"
     ]
    },
    {
     "data": {
      "application/vnd.jupyter.widget-view+json": {
       "model_id": "4e6e21ab1e124a55aa3b521503bce92c",
       "version_major": 2,
       "version_minor": 0
      },
      "text/plain": [
       "train:   0%|          | 0/1758 [00:00<?, ?it/s]"
      ]
     },
     "metadata": {},
     "output_type": "display_data"
    },
    {
     "name": "stdout",
     "output_type": "stream",
     "text": [
      "Epoch : 209/250 -- Training loss 0.007152831387228625, --- Val loss 5.416019484982826e-05, --- accuray : 0.9974044173070062, --- recall : 0.9974078396281053\n"
     ]
    },
    {
     "data": {
      "application/vnd.jupyter.widget-view+json": {
       "model_id": "a3d42b86f32944f9ad216a552952aa09",
       "version_major": 2,
       "version_minor": 0
      },
      "text/plain": [
       "train:   0%|          | 0/1758 [00:00<?, ?it/s]"
      ]
     },
     "metadata": {},
     "output_type": "display_data"
    },
    {
     "name": "stdout",
     "output_type": "stream",
     "text": [
      "Epoch : 210/250 -- Training loss 0.007551004477428636, --- Val loss 0.0002765562676358968, --- accuray : 0.9966013507148656, --- recall : 0.9966087117158221\n"
     ]
    },
    {
     "data": {
      "application/vnd.jupyter.widget-view+json": {
       "model_id": "e5f712c2476a4837845d96948b8e8b1a",
       "version_major": 2,
       "version_minor": 0
      },
      "text/plain": [
       "train:   0%|          | 0/1758 [00:00<?, ?it/s]"
      ]
     },
     "metadata": {},
     "output_type": "display_data"
    },
    {
     "name": "stdout",
     "output_type": "stream",
     "text": [
      "Epoch : 211/250 -- Training loss 0.006951314677475727, --- Val loss 0.060479141771793365, --- accuray : 0.997519878493079, --- recall : 0.9975253271548965\n"
     ]
    },
    {
     "data": {
      "application/vnd.jupyter.widget-view+json": {
       "model_id": "0f612abac97648058ae7f4906115663a",
       "version_major": 2,
       "version_minor": 0
      },
      "text/plain": [
       "train:   0%|          | 0/1758 [00:00<?, ?it/s]"
      ]
     },
     "metadata": {},
     "output_type": "display_data"
    },
    {
     "name": "stdout",
     "output_type": "stream",
     "text": [
      "Epoch : 212/250 -- Training loss 0.007437279101998429, --- Val loss 0.00044471729779616, --- accuray : 0.9975247636367236, --- recall : 0.9975284092174155\n"
     ]
    },
    {
     "data": {
      "application/vnd.jupyter.widget-view+json": {
       "model_id": "6f018a048ddb435aa45a4a2a6c14315d",
       "version_major": 2,
       "version_minor": 0
      },
      "text/plain": [
       "train:   0%|          | 0/1758 [00:00<?, ?it/s]"
      ]
     },
     "metadata": {},
     "output_type": "display_data"
    },
    {
     "name": "stdout",
     "output_type": "stream",
     "text": [
      "Epoch : 213/250 -- Training loss 0.007017516105841643, --- Val loss 0.0008160446886904538, --- accuray : 0.9971665249861597, --- recall : 0.9971697856715658\n"
     ]
    },
    {
     "data": {
      "application/vnd.jupyter.widget-view+json": {
       "model_id": "1b3c93ba236e4ff1b983d2a2dfe65b91",
       "version_major": 2,
       "version_minor": 0
      },
      "text/plain": [
       "train:   0%|          | 0/1758 [00:00<?, ?it/s]"
      ]
     },
     "metadata": {},
     "output_type": "display_data"
    },
    {
     "name": "stdout",
     "output_type": "stream",
     "text": [
      "Epoch : 214/250 -- Training loss 0.007504306942386492, --- Val loss 0.03766588121652603, --- accuray : 0.9970822385490052, --- recall : 0.9970893706988797\n"
     ]
    },
    {
     "data": {
      "application/vnd.jupyter.widget-view+json": {
       "model_id": "39f86ab051284ce4ba7e4590a5b6c578",
       "version_major": 2,
       "version_minor": 0
      },
      "text/plain": [
       "train:   0%|          | 0/1758 [00:00<?, ?it/s]"
      ]
     },
     "metadata": {},
     "output_type": "display_data"
    },
    {
     "name": "stdout",
     "output_type": "stream",
     "text": [
      "Epoch : 215/250 -- Training loss 0.006959241481182974, --- Val loss 0.006646953988820314, --- accuray : 0.9968065396976108, --- recall : 0.996811114467393\n"
     ]
    },
    {
     "data": {
      "application/vnd.jupyter.widget-view+json": {
       "model_id": "128c3faacea2412d887c991e5ea27776",
       "version_major": 2,
       "version_minor": 0
      },
      "text/plain": [
       "train:   0%|          | 0/1758 [00:00<?, ?it/s]"
      ]
     },
     "metadata": {},
     "output_type": "display_data"
    },
    {
     "name": "stdout",
     "output_type": "stream",
     "text": [
      "Epoch : 216/250 -- Training loss 0.0074612551487455965, --- Val loss 0.011917372234165668, --- accuray : 0.9969659880250159, --- recall : 0.9969688321165588\n"
     ]
    },
    {
     "data": {
      "application/vnd.jupyter.widget-view+json": {
       "model_id": "d2835a6e106e4a1eb2ea5659a3de84f5",
       "version_major": 2,
       "version_minor": 0
      },
      "text/plain": [
       "train:   0%|          | 0/1758 [00:00<?, ?it/s]"
      ]
     },
     "metadata": {},
     "output_type": "display_data"
    },
    {
     "name": "stdout",
     "output_type": "stream",
     "text": [
      "Epoch : 217/250 -- Training loss 0.007061630602991689, --- Val loss 0.0325046107172966, --- accuray : 0.9968095723500273, --- recall : 0.9968128894233697\n"
     ]
    },
    {
     "data": {
      "application/vnd.jupyter.widget-view+json": {
       "model_id": "6394a7c0f0ea4032af5c689aec0fc999",
       "version_major": 2,
       "version_minor": 0
      },
      "text/plain": [
       "train:   0%|          | 0/1758 [00:00<?, ?it/s]"
      ]
     },
     "metadata": {},
     "output_type": "display_data"
    },
    {
     "name": "stdout",
     "output_type": "stream",
     "text": [
      "Epoch : 218/250 -- Training loss 0.007477315128596147, --- Val loss 0.005309612490236759, --- accuray : 0.9971232179083227, --- recall : 0.9971293643901152\n"
     ]
    },
    {
     "data": {
      "application/vnd.jupyter.widget-view+json": {
       "model_id": "ac977bbfd90d4a25beaea7345e8af8f3",
       "version_major": 2,
       "version_minor": 0
      },
      "text/plain": [
       "train:   0%|          | 0/1758 [00:00<?, ?it/s]"
      ]
     },
     "metadata": {},
     "output_type": "display_data"
    },
    {
     "name": "stdout",
     "output_type": "stream",
     "text": [
      "Epoch : 219/250 -- Training loss 0.0071734441741779335, --- Val loss 0.004082414787262678, --- accuray : 0.9971269825416501, --- recall : 0.9971300799120739\n"
     ]
    },
    {
     "data": {
      "application/vnd.jupyter.widget-view+json": {
       "model_id": "5892bcfe794f42d7938357493d5b8a24",
       "version_major": 2,
       "version_minor": 0
      },
      "text/plain": [
       "train:   0%|          | 0/1758 [00:00<?, ?it/s]"
      ]
     },
     "metadata": {},
     "output_type": "display_data"
    },
    {
     "name": "stdout",
     "output_type": "stream",
     "text": [
      "Epoch : 220/250 -- Training loss 0.007395867800269119, --- Val loss 0.000498808512929827, --- accuray : 0.9973635871165755, --- recall : 0.9973697660518482\n"
     ]
    },
    {
     "data": {
      "application/vnd.jupyter.widget-view+json": {
       "model_id": "5a626475dd974a0f822c51a4a40375cf",
       "version_major": 2,
       "version_minor": 0
      },
      "text/plain": [
       "train:   0%|          | 0/1758 [00:00<?, ?it/s]"
      ]
     },
     "metadata": {},
     "output_type": "display_data"
    },
    {
     "name": "stdout",
     "output_type": "stream",
     "text": [
      "Epoch : 221/250 -- Training loss 0.007431060169514701, --- Val loss 0.028329525142908096, --- accuray : 0.9966097039483091, --- recall : 0.9966121991191754\n"
     ]
    },
    {
     "data": {
      "application/vnd.jupyter.widget-view+json": {
       "model_id": "da1e837cb83348c9b372a05bde2107c2",
       "version_major": 2,
       "version_minor": 0
      },
      "text/plain": [
       "train:   0%|          | 0/1758 [00:00<?, ?it/s]"
      ]
     },
     "metadata": {},
     "output_type": "display_data"
    },
    {
     "name": "stdout",
     "output_type": "stream",
     "text": [
      "Epoch : 222/250 -- Training loss 0.006510350504992355, --- Val loss 0.00018275984621141106, --- accuray : 0.9972872190376627, --- recall : 0.9972892758731549\n"
     ]
    },
    {
     "data": {
      "application/vnd.jupyter.widget-view+json": {
       "model_id": "371ce8c69edd43b68f34c4cb99d840fc",
       "version_major": 2,
       "version_minor": 0
      },
      "text/plain": [
       "train:   0%|          | 0/1758 [00:00<?, ?it/s]"
      ]
     },
     "metadata": {},
     "output_type": "display_data"
    },
    {
     "name": "stdout",
     "output_type": "stream",
     "text": [
      "Epoch : 223/250 -- Training loss 0.0073088852651388946, --- Val loss 0.0023762884084135294, --- accuray : 0.9970828742842179, --- recall : 0.9970900613970997\n"
     ]
    },
    {
     "data": {
      "application/vnd.jupyter.widget-view+json": {
       "model_id": "c8136d89d1644646a1ab2616f132736c",
       "version_major": 2,
       "version_minor": 0
      },
      "text/plain": [
       "train:   0%|          | 0/1758 [00:00<?, ?it/s]"
      ]
     },
     "metadata": {},
     "output_type": "display_data"
    },
    {
     "name": "stdout",
     "output_type": "stream",
     "text": [
      "Epoch : 224/250 -- Training loss 0.007542797924439279, --- Val loss 0.0004124848055653274, --- accuray : 0.9968450715581849, --- recall : 0.9968511255379731\n"
     ]
    },
    {
     "data": {
      "application/vnd.jupyter.widget-view+json": {
       "model_id": "afe052ac1be74f09afc133e10349cd6d",
       "version_major": 2,
       "version_minor": 0
      },
      "text/plain": [
       "train:   0%|          | 0/1758 [00:00<?, ?it/s]"
      ]
     },
     "metadata": {},
     "output_type": "display_data"
    },
    {
     "name": "stdout",
     "output_type": "stream",
     "text": [
      "Epoch : 225/250 -- Training loss 0.0069271126219096636, --- Val loss 0.001211944967508316, --- accuray : 0.9965302396048037, --- recall : 0.9965332443510491\n"
     ]
    },
    {
     "data": {
      "application/vnd.jupyter.widget-view+json": {
       "model_id": "aeb5c9b9c77640aab4a2e859db9d48a4",
       "version_major": 2,
       "version_minor": 0
      },
      "text/plain": [
       "train:   0%|          | 0/1758 [00:00<?, ?it/s]"
      ]
     },
     "metadata": {},
     "output_type": "display_data"
    },
    {
     "name": "stdout",
     "output_type": "stream",
     "text": [
      "save model\n",
      "Epoch : 226/250 -- Training loss 0.007356207973715457, --- Val loss 0.02948080562055111, --- accuray : 0.9977612342289767, --- recall : 0.9977662395971587\n"
     ]
    },
    {
     "data": {
      "application/vnd.jupyter.widget-view+json": {
       "model_id": "f261fa7054ee47e4b4b40cfe271b87fb",
       "version_major": 2,
       "version_minor": 0
      },
      "text/plain": [
       "train:   0%|          | 0/1758 [00:00<?, ?it/s]"
      ]
     },
     "metadata": {},
     "output_type": "display_data"
    },
    {
     "name": "stdout",
     "output_type": "stream",
     "text": [
      "Epoch : 227/250 -- Training loss 0.006891167284790759, --- Val loss 0.011197272688150406, --- accuray : 0.9968071908977872, --- recall : 0.996811114467393\n"
     ]
    },
    {
     "data": {
      "application/vnd.jupyter.widget-view+json": {
       "model_id": "3cad1f2fb1974aa0876796c2d8b59bab",
       "version_major": 2,
       "version_minor": 0
      },
      "text/plain": [
       "train:   0%|          | 0/1758 [00:00<?, ?it/s]"
      ]
     },
     "metadata": {},
     "output_type": "display_data"
    },
    {
     "name": "stdout",
     "output_type": "stream",
     "text": [
      "Epoch : 228/250 -- Training loss 0.006973243187438939, --- Val loss 0.0020011088345199823, --- accuray : 0.9972041929646382, --- recall : 0.9972101401142928\n"
     ]
    },
    {
     "data": {
      "application/vnd.jupyter.widget-view+json": {
       "model_id": "04f2e672ca9944968b6c2394ddb70122",
       "version_major": 2,
       "version_minor": 0
      },
      "text/plain": [
       "train:   0%|          | 0/1758 [00:00<?, ?it/s]"
      ]
     },
     "metadata": {},
     "output_type": "display_data"
    },
    {
     "name": "stdout",
     "output_type": "stream",
     "text": [
      "Epoch : 229/250 -- Training loss 0.0072400270494949815, --- Val loss 0.005659070331603289, --- accuray : 0.9969318864084625, --- recall : 0.9969302596838778\n"
     ]
    },
    {
     "data": {
      "application/vnd.jupyter.widget-view+json": {
       "model_id": "e6a5f3a877804d28b65db84f4f9195e7",
       "version_major": 2,
       "version_minor": 0
      },
      "text/plain": [
       "train:   0%|          | 0/1758 [00:00<?, ?it/s]"
      ]
     },
     "metadata": {},
     "output_type": "display_data"
    },
    {
     "name": "stdout",
     "output_type": "stream",
     "text": [
      "Epoch : 230/250 -- Training loss 0.007259792142618288, --- Val loss 0.0004909448325634003, --- accuray : 0.9970461706286059, --- recall : 0.9970488654991041\n"
     ]
    },
    {
     "data": {
      "application/vnd.jupyter.widget-view+json": {
       "model_id": "1dffcce4c76c43269ec6b4755f568b9d",
       "version_major": 2,
       "version_minor": 0
      },
      "text/plain": [
       "train:   0%|          | 0/1758 [00:00<?, ?it/s]"
      ]
     },
     "metadata": {},
     "output_type": "display_data"
    },
    {
     "name": "stdout",
     "output_type": "stream",
     "text": [
      "Epoch : 231/250 -- Training loss 0.007527107515807747, --- Val loss 0.00016738790145609528, --- accuray : 0.9969199987749169, --- recall : 0.9969283624034834\n"
     ]
    },
    {
     "data": {
      "application/vnd.jupyter.widget-view+json": {
       "model_id": "c30f9a21349b41719a730081a48ef605",
       "version_major": 2,
       "version_minor": 0
      },
      "text/plain": [
       "train:   0%|          | 0/1758 [00:00<?, ?it/s]"
      ]
     },
     "metadata": {},
     "output_type": "display_data"
    },
    {
     "name": "stdout",
     "output_type": "stream",
     "text": [
      "Epoch : 232/250 -- Training loss 0.007084490085577584, --- Val loss 0.01378628145903349, --- accuray : 0.9976848814846871, --- recall : 0.9976885546478181\n"
     ]
    },
    {
     "data": {
      "application/vnd.jupyter.widget-view+json": {
       "model_id": "f0b6cf4778f741319ab37d1bdbf1e4dc",
       "version_major": 2,
       "version_minor": 0
      },
      "text/plain": [
       "train:   0%|          | 0/1758 [00:00<?, ?it/s]"
      ]
     },
     "metadata": {},
     "output_type": "display_data"
    },
    {
     "name": "stdout",
     "output_type": "stream",
     "text": [
      "Epoch : 233/250 -- Training loss 0.007471136131790423, --- Val loss 0.02116173505783081, --- accuray : 0.9972829735512132, --- recall : 0.9972886627219111\n"
     ]
    },
    {
     "data": {
      "application/vnd.jupyter.widget-view+json": {
       "model_id": "5a4e07b237a241469f16d2777fffab02",
       "version_major": 2,
       "version_minor": 0
      },
      "text/plain": [
       "train:   0%|          | 0/1758 [00:00<?, ?it/s]"
      ]
     },
     "metadata": {},
     "output_type": "display_data"
    },
    {
     "name": "stdout",
     "output_type": "stream",
     "text": [
      "Epoch : 234/250 -- Training loss 0.00789340789452847, --- Val loss 0.016987966373562813, --- accuray : 0.9976021307589891, --- recall : 0.9976074607582097\n"
     ]
    },
    {
     "data": {
      "application/vnd.jupyter.widget-view+json": {
       "model_id": "8e18111c0ee24a2fa280b9c1b7f0861f",
       "version_major": 2,
       "version_minor": 0
      },
      "text/plain": [
       "train:   0%|          | 0/1758 [00:00<?, ?it/s]"
      ]
     },
     "metadata": {},
     "output_type": "display_data"
    },
    {
     "name": "stdout",
     "output_type": "stream",
     "text": [
      "Epoch : 235/250 -- Training loss 0.0070125661802220365, --- Val loss 0.00028271868359297514, --- accuray : 0.9977597145779307, --- recall : 0.9977659857413841\n"
     ]
    },
    {
     "data": {
      "application/vnd.jupyter.widget-view+json": {
       "model_id": "01f0ed9e07c64973b8e5e36fc12d838f",
       "version_major": 2,
       "version_minor": 0
      },
      "text/plain": [
       "train:   0%|          | 0/1758 [00:00<?, ?it/s]"
      ]
     },
     "metadata": {},
     "output_type": "display_data"
    },
    {
     "name": "stdout",
     "output_type": "stream",
     "text": [
      "Epoch : 236/250 -- Training loss 0.006585353142308063, --- Val loss 9.47253211052157e-05, --- accuray : 0.9973254678845065, --- recall : 0.9973301887547337\n"
     ]
    },
    {
     "data": {
      "application/vnd.jupyter.widget-view+json": {
       "model_id": "234184d9977e47e081a17167814b8e4c",
       "version_major": 2,
       "version_minor": 0
      },
      "text/plain": [
       "train:   0%|          | 0/1758 [00:00<?, ?it/s]"
      ]
     },
     "metadata": {},
     "output_type": "display_data"
    },
    {
     "name": "stdout",
     "output_type": "stream",
     "text": [
      "Epoch : 237/250 -- Training loss 0.007023059717358057, --- Val loss 0.0002921913401223719, --- accuray : 0.9974016135035244, --- recall : 0.9974079704767421\n"
     ]
    },
    {
     "data": {
      "application/vnd.jupyter.widget-view+json": {
       "model_id": "0844f823058c4a8eb66aed81913567f4",
       "version_major": 2,
       "version_minor": 0
      },
      "text/plain": [
       "train:   0%|          | 0/1758 [00:00<?, ?it/s]"
      ]
     },
     "metadata": {},
     "output_type": "display_data"
    },
    {
     "name": "stdout",
     "output_type": "stream",
     "text": [
      "Epoch : 238/250 -- Training loss 0.007038738502959292, --- Val loss 0.0012412234209477901, --- accuray : 0.997285435195835, --- recall : 0.997289684282969\n"
     ]
    },
    {
     "data": {
      "application/vnd.jupyter.widget-view+json": {
       "model_id": "78c9b7af6382461c9d7c9f32f7b7983f",
       "version_major": 2,
       "version_minor": 0
      },
      "text/plain": [
       "train:   0%|          | 0/1758 [00:00<?, ?it/s]"
      ]
     },
     "metadata": {},
     "output_type": "display_data"
    },
    {
     "name": "stdout",
     "output_type": "stream",
     "text": [
      "Epoch : 239/250 -- Training loss 0.0065300127484262255, --- Val loss 0.07645385712385178, --- accuray : 0.9976449981315841, --- recall : 0.9976484038734756\n"
     ]
    },
    {
     "data": {
      "application/vnd.jupyter.widget-view+json": {
       "model_id": "fd2d489fa06248948388d8a78bcf210a",
       "version_major": 2,
       "version_minor": 0
      },
      "text/plain": [
       "train:   0%|          | 0/1758 [00:00<?, ?it/s]"
      ]
     },
     "metadata": {},
     "output_type": "display_data"
    },
    {
     "name": "stdout",
     "output_type": "stream",
     "text": [
      "Epoch : 240/250 -- Training loss 0.007103602281296168, --- Val loss 9.029061038745567e-05, --- accuray : 0.9968106946198929, --- recall : 0.9968127125746588\n"
     ]
    },
    {
     "data": {
      "application/vnd.jupyter.widget-view+json": {
       "model_id": "61126cc89c2f46e38612fab7b3e3dab0",
       "version_major": 2,
       "version_minor": 0
      },
      "text/plain": [
       "train:   0%|          | 0/1758 [00:00<?, ?it/s]"
      ]
     },
     "metadata": {},
     "output_type": "display_data"
    },
    {
     "name": "stdout",
     "output_type": "stream",
     "text": [
      "Epoch : 241/250 -- Training loss 0.0070612845197946155, --- Val loss 0.00551700359210372, --- accuray : 0.9976032778774101, --- recall : 0.9976086671069947\n"
     ]
    },
    {
     "data": {
      "application/vnd.jupyter.widget-view+json": {
       "model_id": "77900bd99cba471a9c37e95686aeeb35",
       "version_major": 2,
       "version_minor": 0
      },
      "text/plain": [
       "train:   0%|          | 0/1758 [00:00<?, ?it/s]"
      ]
     },
     "metadata": {},
     "output_type": "display_data"
    },
    {
     "name": "stdout",
     "output_type": "stream",
     "text": [
      "Epoch : 242/250 -- Training loss 0.006494647610175724, --- Val loss 8.94064360181801e-05, --- accuray : 0.9966838825380171, --- recall : 0.9966901799845665\n"
     ]
    },
    {
     "data": {
      "application/vnd.jupyter.widget-view+json": {
       "model_id": "a7cba3384c954f78b4990db506daa236",
       "version_major": 2,
       "version_minor": 0
      },
      "text/plain": [
       "train:   0%|          | 0/1758 [00:00<?, ?it/s]"
      ]
     },
     "metadata": {},
     "output_type": "display_data"
    },
    {
     "name": "stdout",
     "output_type": "stream",
     "text": [
      "Epoch : 243/250 -- Training loss 0.007144751871131443, --- Val loss 0.03165870159864426, --- accuray : 0.9972825386900481, --- recall : 0.9972908199960397\n"
     ]
    },
    {
     "data": {
      "application/vnd.jupyter.widget-view+json": {
       "model_id": "e1aa1f82a09941978d3bec7e11ecb3b1",
       "version_major": 2,
       "version_minor": 0
      },
      "text/plain": [
       "train:   0%|          | 0/1758 [00:00<?, ?it/s]"
      ]
     },
     "metadata": {},
     "output_type": "display_data"
    },
    {
     "name": "stdout",
     "output_type": "stream",
     "text": [
      "save model\n",
      "Epoch : 244/250 -- Training loss 0.006862614636866572, --- Val loss 0.0033089134376496077, --- accuray : 0.9978439234457197, --- recall : 0.9978479020939588\n"
     ]
    },
    {
     "data": {
      "application/vnd.jupyter.widget-view+json": {
       "model_id": "6aba8dfd817b4b089554e9fda6b61aae",
       "version_major": 2,
       "version_minor": 0
      },
      "text/plain": [
       "train:   0%|          | 0/1758 [00:00<?, ?it/s]"
      ]
     },
     "metadata": {},
     "output_type": "display_data"
    },
    {
     "name": "stdout",
     "output_type": "stream",
     "text": [
      "Epoch : 245/250 -- Training loss 0.006953065960963809, --- Val loss 0.003386989701539278, --- accuray : 0.9970035696337216, --- recall : 0.9970088574975037\n"
     ]
    },
    {
     "data": {
      "application/vnd.jupyter.widget-view+json": {
       "model_id": "ee61ca4fd5a147f9ab84793525677e38",
       "version_major": 2,
       "version_minor": 0
      },
      "text/plain": [
       "train:   0%|          | 0/1758 [00:00<?, ?it/s]"
      ]
     },
     "metadata": {},
     "output_type": "display_data"
    },
    {
     "name": "stdout",
     "output_type": "stream",
     "text": [
      "Epoch : 246/250 -- Training loss 0.006928770748906994, --- Val loss 0.0036038504913449287, --- accuray : 0.9970829469960215, --- recall : 0.9970910171924793\n"
     ]
    },
    {
     "data": {
      "application/vnd.jupyter.widget-view+json": {
       "model_id": "3ee710059b0d4812b7ee0315ce023701",
       "version_major": 2,
       "version_minor": 0
      },
      "text/plain": [
       "train:   0%|          | 0/1758 [00:00<?, ?it/s]"
      ]
     },
     "metadata": {},
     "output_type": "display_data"
    },
    {
     "name": "stdout",
     "output_type": "stream",
     "text": [
      "Epoch : 247/250 -- Training loss 0.007087318474183611, --- Val loss 8.03565708338283e-05, --- accuray : 0.9971743858465401, --- recall : 0.9971722625671473\n"
     ]
    },
    {
     "data": {
      "application/vnd.jupyter.widget-view+json": {
       "model_id": "ba96e67d92f64e6b886d7be6d09c5223",
       "version_major": 2,
       "version_minor": 0
      },
      "text/plain": [
       "train:   0%|          | 0/1758 [00:00<?, ?it/s]"
      ]
     },
     "metadata": {},
     "output_type": "display_data"
    },
    {
     "name": "stdout",
     "output_type": "stream",
     "text": [
      "Epoch : 248/250 -- Training loss 0.006863448885153707, --- Val loss 6.928330549271777e-05, --- accuray : 0.9973230230747092, --- recall : 0.9973291671936757\n"
     ]
    },
    {
     "data": {
      "application/vnd.jupyter.widget-view+json": {
       "model_id": "7f844339ce2549eb9909e7ac02b09ca6",
       "version_major": 2,
       "version_minor": 0
      },
      "text/plain": [
       "train:   0%|          | 0/1758 [00:00<?, ?it/s]"
      ]
     },
     "metadata": {},
     "output_type": "display_data"
    },
    {
     "name": "stdout",
     "output_type": "stream",
     "text": [
      "Epoch : 249/250 -- Training loss 0.006702242617398183, --- Val loss 0.0005520678241737187, --- accuray : 0.9978016761057494, --- recall : 0.9978081193274034\n"
     ]
    },
    {
     "data": {
      "application/vnd.jupyter.widget-view+json": {
       "model_id": "394e85f0cd3248a8bae3fcbb7a7fe1f7",
       "version_major": 2,
       "version_minor": 0
      },
      "text/plain": [
       "train:   0%|          | 0/1758 [00:00<?, ?it/s]"
      ]
     },
     "metadata": {},
     "output_type": "display_data"
    },
    {
     "name": "stdout",
     "output_type": "stream",
     "text": [
      "Epoch : 250/250 -- Training loss 0.006381976394101058, --- Val loss 0.0006664171232841909, --- accuray : 0.9969700205406943, --- recall : 0.9969708299213209\n"
     ]
    },
    {
     "data": {
      "text/plain": [
       "biggru(\n",
       "  (block1): Sequential(\n",
       "    (0): Conv1d(1, 32, kernel_size=(7,), stride=(1,))\n",
       "    (1): ReLU()\n",
       "    (2): Conv1d(32, 64, kernel_size=(5,), stride=(1,))\n",
       "    (3): ReLU()\n",
       "    (4): BatchNorm1d(64, eps=1e-05, momentum=0.1, affine=True, track_running_stats=True)\n",
       "    (5): MaxPool1d(kernel_size=3, stride=3, padding=0, dilation=1, ceil_mode=False)\n",
       "  )\n",
       "  (gru): GRU(64, 8, batch_first=True, bidirectional=True)\n",
       "  (dropout): Dropout(p=0.4, inplace=False)\n",
       "  (fc1): Linear(in_features=944, out_features=48, bias=True)\n",
       "  (fc2): Linear(in_features=48, out_features=5, bias=True)\n",
       ")"
      ]
     },
     "execution_count": 116,
     "metadata": {},
     "output_type": "execute_result"
    },
    {
     "data": {
      "image/png": "[encoded data removed]",
      "text/plain": [
       "<Figure size 640x480 with 1 Axes>"
      ]
     },
     "metadata": {},
     "output_type": "display_data"
    }
   ],
   "source": [
    "trainrnn(model,train_loader,test_loader,epochs = epochs,lr=1e-3,device='cpu',patience=5,factor=0.3,outmodelname = '../models/sequence_cnnrnn_test2.pkl')"
   ]
  },
  {
   "cell_type": "code",
   "execution_count": 125,
   "id": "4a89c474-44d4-4907-91d9-90658fac3cf7",
   "metadata": {},
   "outputs": [
    {
     "name": "stdout",
     "output_type": "stream",
     "text": [
      "=================================================================\n",
      "Layer (type:depth-idx)                   Param #\n",
      "=================================================================\n",
      "├─Conv1d: 1-1                            160\n",
      "├─BatchNorm1d: 1-2                       40\n",
      "├─MaxPool1d: 1-3                         --\n",
      "├─RNN: 1-4                               1,728\n",
      "├─Linear: 1-5                            9,605\n",
      "=================================================================\n",
      "Total params: 11,533\n",
      "Trainable params: 11,533\n",
      "Non-trainable params: 0\n",
      "=================================================================\n"
     ]
    }
   ],
   "source": [
    "model=joblib.load('../models/sequence_cnnrnn.pkl')\n",
    "summary(model);"
   ]
  },
  {
   "cell_type": "code",
   "execution_count": 10,
   "id": "b5e2e002-6a38-44c1-a3f2-a3291a4622f6",
   "metadata": {},
   "outputs": [],
   "source": [
    "y_true, y_pred, accuracy, recall, loss_test = evaluate_model(model,val_loader)\n"
   ]
  },
  {
   "cell_type": "code",
   "execution_count": 11,
   "id": "eaca2e50-49de-4409-9956-d61595caaf34",
   "metadata": {},
   "outputs": [
    {
     "name": "stdout",
     "output_type": "stream",
     "text": [
      "              precision    recall  f1-score   support\n",
      "\n",
      "           0      0.990     0.983     0.987     18118\n",
      "           1      0.720     0.791     0.754       556\n",
      "           2      0.904     0.956     0.929      1448\n",
      "           3      0.747     0.784     0.765       162\n",
      "           4      0.986     0.983     0.984      1608\n",
      "\n",
      "    accuracy                          0.975     21892\n",
      "   macro avg      0.869     0.899     0.884     21892\n",
      "weighted avg      0.976     0.975     0.975     21892\n",
      "\n"
     ]
    },
    {
     "data": {
      "image/png": "[encoded data removed]",
      "text/plain": [
       "<Figure size 400x400 with 1 Axes>"
      ]
     },
     "metadata": {},
     "output_type": "display_data"
    }
   ],
   "source": [
    "table = pd.crosstab(y_true,y_pred,rownames=['True'],colnames=['Predicted'])\n",
    "fig = plt.figure(figsize=(4,4))\n",
    "ax = fig.add_subplot()\n",
    "\n",
    "sns.heatmap(table,cmap='Blues',annot=True,fmt='d',cbar=False,linecolor='black',ax=ax)\n",
    "ax.set_aspect('equal')\n",
    "print(classification_report(y_true, y_pred,digits=3))"
   ]
  },
  {
   "cell_type": "markdown",
   "id": "928b2b83-7d78-4727-8b5d-27977c310822",
   "metadata": {},
   "source": [
    "#### 3.2 Modèle CNN + RNN avec dropout"
   ]
  },
  {
   "cell_type": "code",
   "execution_count": 123,
   "id": "5abcb22d-13e5-42e5-9433-96f05929d664",
   "metadata": {},
   "outputs": [],
   "source": [
    "class CNNRNNdrop(nn.Module):\n",
    "    \n",
    "    def __init__(self,input_size,num_conv,hidden_size,num_layer,num_classes=10,dropout=0.5):\n",
    "        super(CNNRNNdrop,self).__init__()\n",
    "        self.hidden_size=hidden_size\n",
    "        self.num_layer=num_layer\n",
    "        self.num_conv =num_conv\n",
    "        self.cnn =  nn.Conv1d(in_channels=1, out_channels=self.num_conv , kernel_size=7, stride=1, padding=0) # shape: (batch_size, n, 181)\n",
    "        self.batch = nn.BatchNorm1d(num_features=self.num_conv )\n",
    "        self.pool= nn.MaxPool1d(3, stride=3) # shape: (batch_size, n, 60)\n",
    "        self.rnn=nn.RNN(self.num_conv ,hidden_size,num_layer,batch_first=True)\n",
    "        self.dropout = nn.Dropout(dropout)\n",
    "        self.fc=nn.Linear(hidden_size*60,num_classes)\n",
    "\n",
    "\n",
    "    def forward(self,x):\n",
    "        h0=torch.zeros(self.num_layer,x.size(0),self.hidden_size).to(\"cpu\")\n",
    "        out=self.cnn(x)\n",
    "        \n",
    "        out=nn.ReLU()(out)\n",
    "        out=self.batch(out)\n",
    "        out=self.pool(out)\n",
    "        out,_=self.rnn(out.swapaxes(1,2),h0)\n",
    "        out=out.reshape(out.shape[0],-1)\n",
    "        out = self.dropout(out)\n",
    "        out=self.fc(out)\n",
    "        \n",
    "        return out\n"
   ]
  },
  {
   "cell_type": "code",
   "execution_count": 47,
   "id": "39abc585-8fda-4a48-b8d6-9671574f6a95",
   "metadata": {},
   "outputs": [],
   "source": [
    "model = CNNRNNdrop(input_size,num_conv, hidden_size,num_layer,num_classes)\n"
   ]
  },
  {
   "cell_type": "code",
   "execution_count": 48,
   "id": "0d965f66-ea75-4abf-bc96-7e87c96a586a",
   "metadata": {},
   "outputs": [
    {
     "name": "stderr",
     "output_type": "stream",
     "text": [
      "C:\\Users\\passage\\Documents\\perso\\TEST\\WinPython\\WPy64-31020\\scripts\\heartbeat\\lib\\site-packages\\torch\\optim\\lr_scheduler.py:62: UserWarning: The verbose parameter is deprecated. Please use get_last_lr() to access the learning rate.\n",
      "  warnings.warn(\n"
     ]
    },
    {
     "data": {
      "application/vnd.jupyter.widget-view+json": {
       "model_id": "c5f600c2e5d047529a19ee4e9535eb9e",
       "version_major": 2,
       "version_minor": 0
      },
      "text/plain": [
       "train:   0%|          | 0/1758 [00:00<?, ?it/s]"
      ]
     },
     "metadata": {},
     "output_type": "display_data"
    },
    {
     "name": "stdout",
     "output_type": "stream",
     "text": [
      "save model\n",
      "Epoch : 1/50 -- Training loss 0.3312691115393845, --- Val loss 0.38322538137435913, --- accuray : 0.9293146180230739, --- recall : 0.9294541456738523\n"
     ]
    },
    {
     "data": {
      "application/vnd.jupyter.widget-view+json": {
       "model_id": "f27d31d53bc8441fbd59c6afafb26c1e",
       "version_major": 2,
       "version_minor": 0
      },
      "text/plain": [
       "train:   0%|          | 0/1758 [00:00<?, ?it/s]"
      ]
     },
     "metadata": {},
     "output_type": "display_data"
    },
    {
     "name": "stdout",
     "output_type": "stream",
     "text": [
      "save model\n",
      "Epoch : 2/50 -- Training loss 0.22004903872434867, --- Val loss 0.25324544310569763, --- accuray : 0.9444270883207201, --- recall : 0.9431461981605551\n"
     ]
    },
    {
     "data": {
      "application/vnd.jupyter.widget-view+json": {
       "model_id": "07727e51a4ec4109b87c586899c5b9a5",
       "version_major": 2,
       "version_minor": 0
      },
      "text/plain": [
       "train:   0%|          | 0/1758 [00:00<?, ?it/s]"
      ]
     },
     "metadata": {},
     "output_type": "display_data"
    },
    {
     "name": "stdout",
     "output_type": "stream",
     "text": [
      "save model\n",
      "Epoch : 3/50 -- Training loss 0.19167072413461675, --- Val loss 0.12699277698993683, --- accuray : 0.9530597249533835, --- recall : 0.9518822128075822\n"
     ]
    },
    {
     "data": {
      "application/vnd.jupyter.widget-view+json": {
       "model_id": "49385b12855f486f8b0be7f70b0780c4",
       "version_major": 2,
       "version_minor": 0
      },
      "text/plain": [
       "train:   0%|          | 0/1758 [00:00<?, ?it/s]"
      ]
     },
     "metadata": {},
     "output_type": "display_data"
    },
    {
     "name": "stdout",
     "output_type": "stream",
     "text": [
      "save model\n",
      "Epoch : 4/50 -- Training loss 0.17269735525873944, --- Val loss 0.16428659856319427, --- accuray : 0.9570280495677626, --- recall : 0.9570756922105813\n"
     ]
    },
    {
     "data": {
      "application/vnd.jupyter.widget-view+json": {
       "model_id": "95619053aab644a88a4c930e238428ed",
       "version_major": 2,
       "version_minor": 0
      },
      "text/plain": [
       "train:   0%|          | 0/1758 [00:00<?, ?it/s]"
      ]
     },
     "metadata": {},
     "output_type": "display_data"
    },
    {
     "name": "stdout",
     "output_type": "stream",
     "text": [
      "save model\n",
      "Epoch : 5/50 -- Training loss 0.16040331128437973, --- Val loss 0.18417248129844666, --- accuray : 0.9627155621217913, --- recall : 0.9625701002684448\n"
     ]
    },
    {
     "data": {
      "application/vnd.jupyter.widget-view+json": {
       "model_id": "ac875c9ef51a4366a806626625139fa4",
       "version_major": 2,
       "version_minor": 0
      },
      "text/plain": [
       "train:   0%|          | 0/1758 [00:00<?, ?it/s]"
      ]
     },
     "metadata": {},
     "output_type": "display_data"
    },
    {
     "name": "stdout",
     "output_type": "stream",
     "text": [
      "Epoch : 6/50 -- Training loss 0.15430778406022183, --- Val loss 0.1363568753004074, --- accuray : 0.962047865609444, --- recall : 0.96208806646537\n"
     ]
    },
    {
     "data": {
      "application/vnd.jupyter.widget-view+json": {
       "model_id": "eeffa187d126438a9df63c4195614d91",
       "version_major": 2,
       "version_minor": 0
      },
      "text/plain": [
       "train:   0%|          | 0/1758 [00:00<?, ?it/s]"
      ]
     },
     "metadata": {},
     "output_type": "display_data"
    },
    {
     "name": "stdout",
     "output_type": "stream",
     "text": [
      "save model\n",
      "Epoch : 7/50 -- Training loss 0.14902255251003477, --- Val loss 0.12240060418844223, --- accuray : 0.9654387452231118, --- recall : 0.9654563490134412\n"
     ]
    },
    {
     "data": {
      "application/vnd.jupyter.widget-view+json": {
       "model_id": "3275fcf13d434bee9d6af687158794ee",
       "version_major": 2,
       "version_minor": 0
      },
      "text/plain": [
       "train:   0%|          | 0/1758 [00:00<?, ?it/s]"
      ]
     },
     "metadata": {},
     "output_type": "display_data"
    },
    {
     "name": "stdout",
     "output_type": "stream",
     "text": [
      "save model\n",
      "Epoch : 8/50 -- Training loss 0.14033167697997834, --- Val loss 0.13591887056827545, --- accuray : 0.9660621674463726, --- recall : 0.9660411636957124\n"
     ]
    },
    {
     "data": {
      "application/vnd.jupyter.widget-view+json": {
       "model_id": "c364c31c91e041968eade6a0953d1367",
       "version_major": 2,
       "version_minor": 0
      },
      "text/plain": [
       "train:   0%|          | 0/1758 [00:00<?, ?it/s]"
      ]
     },
     "metadata": {},
     "output_type": "display_data"
    },
    {
     "name": "stdout",
     "output_type": "stream",
     "text": [
      "save model\n",
      "Epoch : 9/50 -- Training loss 0.13526953444990994, --- Val loss 0.11742636561393738, --- accuray : 0.9702484646760909, --- recall : 0.9703060860037273\n"
     ]
    },
    {
     "data": {
      "application/vnd.jupyter.widget-view+json": {
       "model_id": "7726e6aa05a54c3a897db371590c0842",
       "version_major": 2,
       "version_minor": 0
      },
      "text/plain": [
       "train:   0%|          | 0/1758 [00:00<?, ?it/s]"
      ]
     },
     "metadata": {},
     "output_type": "display_data"
    },
    {
     "name": "stdout",
     "output_type": "stream",
     "text": [
      "Epoch : 10/50 -- Training loss 0.1319072403943969, --- Val loss 0.3029373288154602, --- accuray : 0.9592109580368234, --- recall : 0.957103392787916\n"
     ]
    },
    {
     "data": {
      "application/vnd.jupyter.widget-view+json": {
       "model_id": "87cf22151d5b4db492743d5ae6a4ae39",
       "version_major": 2,
       "version_minor": 0
      },
      "text/plain": [
       "train:   0%|          | 0/1758 [00:00<?, ?it/s]"
      ]
     },
     "metadata": {},
     "output_type": "display_data"
    },
    {
     "name": "stdout",
     "output_type": "stream",
     "text": [
      "Epoch : 11/50 -- Training loss 0.12729263678828806, --- Val loss 0.12207628786563873, --- accuray : 0.9682134753418931, --- recall : 0.9680938576666369\n"
     ]
    },
    {
     "data": {
      "application/vnd.jupyter.widget-view+json": {
       "model_id": "2c4be707a9984db4a1ace8eb777de276",
       "version_major": 2,
       "version_minor": 0
      },
      "text/plain": [
       "train:   0%|          | 0/1758 [00:00<?, ?it/s]"
      ]
     },
     "metadata": {},
     "output_type": "display_data"
    },
    {
     "name": "stdout",
     "output_type": "stream",
     "text": [
      "Epoch : 12/50 -- Training loss 0.1240724711329279, --- Val loss 0.11538064479827881, --- accuray : 0.966232715950262, --- recall : 0.9654361107377204\n"
     ]
    },
    {
     "data": {
      "application/vnd.jupyter.widget-view+json": {
       "model_id": "d746e5b8954c435585ebe21662322548",
       "version_major": 2,
       "version_minor": 0
      },
      "text/plain": [
       "train:   0%|          | 0/1758 [00:00<?, ?it/s]"
      ]
     },
     "metadata": {},
     "output_type": "display_data"
    },
    {
     "name": "stdout",
     "output_type": "stream",
     "text": [
      "Epoch : 13/50 -- Training loss 0.12330568110330858, --- Val loss 0.11355895549058914, --- accuray : 0.9539950760047227, --- recall : 0.9475557738557592\n"
     ]
    },
    {
     "data": {
      "application/vnd.jupyter.widget-view+json": {
       "model_id": "b4628ea1e728431384acc44677b4d912",
       "version_major": 2,
       "version_minor": 0
      },
      "text/plain": [
       "train:   0%|          | 0/1758 [00:00<?, ?it/s]"
      ]
     },
     "metadata": {},
     "output_type": "display_data"
    },
    {
     "name": "stdout",
     "output_type": "stream",
     "text": [
      "Epoch : 14/50 -- Training loss 0.12117175449351267, --- Val loss 0.08316119015216827, --- accuray : 0.9689289804144698, --- recall : 0.9685985233964136\n"
     ]
    },
    {
     "data": {
      "application/vnd.jupyter.widget-view+json": {
       "model_id": "d928f1e29fdd458482e42b6cdcd95d09",
       "version_major": 2,
       "version_minor": 0
      },
      "text/plain": [
       "train:   0%|          | 0/1758 [00:00<?, ?it/s]"
      ]
     },
     "metadata": {},
     "output_type": "display_data"
    },
    {
     "name": "stdout",
     "output_type": "stream",
     "text": [
      "save model\n",
      "Epoch : 15/50 -- Training loss 0.11823791368897323, --- Val loss 0.07145249843597412, --- accuray : 0.9738903714427668, --- recall : 0.9738963772677909\n"
     ]
    },
    {
     "data": {
      "application/vnd.jupyter.widget-view+json": {
       "model_id": "5d0b52d5daa040dabafb242270d9a5b6",
       "version_major": 2,
       "version_minor": 0
      },
      "text/plain": [
       "train:   0%|          | 0/1758 [00:00<?, ?it/s]"
      ]
     },
     "metadata": {},
     "output_type": "display_data"
    },
    {
     "name": "stdout",
     "output_type": "stream",
     "text": [
      "Epoch : 16/50 -- Training loss 0.11638512184834945, --- Val loss 0.16974982619285583, --- accuray : 0.9690091759972018, --- recall : 0.9688598968699234\n"
     ]
    },
    {
     "data": {
      "application/vnd.jupyter.widget-view+json": {
       "model_id": "b7a767655d694228ab88deb93b4c5f52",
       "version_major": 2,
       "version_minor": 0
      },
      "text/plain": [
       "train:   0%|          | 0/1758 [00:00<?, ?it/s]"
      ]
     },
     "metadata": {},
     "output_type": "display_data"
    },
    {
     "name": "stdout",
     "output_type": "stream",
     "text": [
      "Epoch : 17/50 -- Training loss 0.11611292548784911, --- Val loss 0.31008753180503845, --- accuray : 0.9707744453068724, --- recall : 0.9702695917728711\n"
     ]
    },
    {
     "data": {
      "application/vnd.jupyter.widget-view+json": {
       "model_id": "bb5ea9f967d847ce9a0c00d7cbe5b3d4",
       "version_major": 2,
       "version_minor": 0
      },
      "text/plain": [
       "train:   0%|          | 0/1758 [00:00<?, ?it/s]"
      ]
     },
     "metadata": {},
     "output_type": "display_data"
    },
    {
     "name": "stdout",
     "output_type": "stream",
     "text": [
      "Epoch : 18/50 -- Training loss 0.11497945259764909, --- Val loss 0.07430660724639893, --- accuray : 0.9696323686379079, --- recall : 0.9687796251856184\n"
     ]
    },
    {
     "data": {
      "application/vnd.jupyter.widget-view+json": {
       "model_id": "50877634cf794fed8c786f0dff5cfed7",
       "version_major": 2,
       "version_minor": 0
      },
      "text/plain": [
       "train:   0%|          | 0/1758 [00:00<?, ?it/s]"
      ]
     },
     "metadata": {},
     "output_type": "display_data"
    },
    {
     "name": "stdout",
     "output_type": "stream",
     "text": [
      "save model\n",
      "Epoch : 19/50 -- Training loss 0.11326305545862252, --- Val loss 0.10087520629167557, --- accuray : 0.9751550708379719, --- recall : 0.9749643342828442\n"
     ]
    },
    {
     "data": {
      "application/vnd.jupyter.widget-view+json": {
       "model_id": "abfb28ae1c2a46ceabc12efc1d1a455c",
       "version_major": 2,
       "version_minor": 0
      },
      "text/plain": [
       "train:   0%|          | 0/1758 [00:00<?, ?it/s]"
      ]
     },
     "metadata": {},
     "output_type": "display_data"
    },
    {
     "name": "stdout",
     "output_type": "stream",
     "text": [
      "Epoch : 20/50 -- Training loss 0.11059981777620914, --- Val loss 0.14692546427249908, --- accuray : 0.9737765842748276, --- recall : 0.9738270260985049\n"
     ]
    },
    {
     "data": {
      "application/vnd.jupyter.widget-view+json": {
       "model_id": "3c76ee988ec94972a2f2fa3bb5167ef7",
       "version_major": 2,
       "version_minor": 0
      },
      "text/plain": [
       "train:   0%|          | 0/1758 [00:00<?, ?it/s]"
      ]
     },
     "metadata": {},
     "output_type": "display_data"
    },
    {
     "name": "stdout",
     "output_type": "stream",
     "text": [
      "Epoch : 21/50 -- Training loss 0.11050420896991435, --- Val loss 0.11950357258319855, --- accuray : 0.9751123028889148, --- recall : 0.975160894320193\n"
     ]
    },
    {
     "data": {
      "application/vnd.jupyter.widget-view+json": {
       "model_id": "a7ffade08a53425581c15523b9b23b93",
       "version_major": 2,
       "version_minor": 0
      },
      "text/plain": [
       "train:   0%|          | 0/1758 [00:00<?, ?it/s]"
      ]
     },
     "metadata": {},
     "output_type": "display_data"
    },
    {
     "name": "stdout",
     "output_type": "stream",
     "text": [
      "save model\n",
      "Epoch : 22/50 -- Training loss 0.10917053630986634, --- Val loss 0.09797903150320053, --- accuray : 0.9752902732259795, --- recall : 0.9752960509174556\n"
     ]
    },
    {
     "data": {
      "application/vnd.jupyter.widget-view+json": {
       "model_id": "63845daefef34e9182a2da0c12110b8f",
       "version_major": 2,
       "version_minor": 0
      },
      "text/plain": [
       "train:   0%|          | 0/1758 [00:00<?, ?it/s]"
      ]
     },
     "metadata": {},
     "output_type": "display_data"
    },
    {
     "name": "stdout",
     "output_type": "stream",
     "text": [
      "Epoch : 23/50 -- Training loss 0.10686868356818395, --- Val loss 0.14093364775180817, --- accuray : 0.9682431226582132, --- recall : 0.9668000129058509\n"
     ]
    },
    {
     "data": {
      "application/vnd.jupyter.widget-view+json": {
       "model_id": "fd93aed57e494955aac9d8e7226dd94f",
       "version_major": 2,
       "version_minor": 0
      },
      "text/plain": [
       "train:   0%|          | 0/1758 [00:00<?, ?it/s]"
      ]
     },
     "metadata": {},
     "output_type": "display_data"
    },
    {
     "name": "stdout",
     "output_type": "stream",
     "text": [
      "Epoch : 24/50 -- Training loss 0.10661312181447485, --- Val loss 0.07827020436525345, --- accuray : 0.9698106959155727, --- recall : 0.9696343422232563\n"
     ]
    },
    {
     "data": {
      "application/vnd.jupyter.widget-view+json": {
       "model_id": "0017184936cd4d27b1810e42f1492fb2",
       "version_major": 2,
       "version_minor": 0
      },
      "text/plain": [
       "train:   0%|          | 0/1758 [00:00<?, ?it/s]"
      ]
     },
     "metadata": {},
     "output_type": "display_data"
    },
    {
     "name": "stdout",
     "output_type": "stream",
     "text": [
      "Epoch : 25/50 -- Training loss 0.10676400743841286, --- Val loss 0.13486617803573608, --- accuray : 0.9748354513605484, --- recall : 0.9747566409262323\n"
     ]
    },
    {
     "data": {
      "application/vnd.jupyter.widget-view+json": {
       "model_id": "ca138552d8384940ba37e8e57d14b3c2",
       "version_major": 2,
       "version_minor": 0
      },
      "text/plain": [
       "train:   0%|          | 0/1758 [00:00<?, ?it/s]"
      ]
     },
     "metadata": {},
     "output_type": "display_data"
    },
    {
     "name": "stdout",
     "output_type": "stream",
     "text": [
      "Epoch : 26/50 -- Training loss 0.10590678036257421, --- Val loss 0.19293667376041412, --- accuray : 0.9741900117644869, --- recall : 0.9735428072029897\n"
     ]
    },
    {
     "data": {
      "application/vnd.jupyter.widget-view+json": {
       "model_id": "01c3875347de44e69b8288f0843a4d9a",
       "version_major": 2,
       "version_minor": 0
      },
      "text/plain": [
       "train:   0%|          | 0/1758 [00:00<?, ?it/s]"
      ]
     },
     "metadata": {},
     "output_type": "display_data"
    },
    {
     "name": "stdout",
     "output_type": "stream",
     "text": [
      "Epoch : 27/50 -- Training loss 0.10328005141482198, --- Val loss 0.04029020294547081, --- accuray : 0.9750579751124956, --- recall : 0.9744352551282839\n"
     ]
    },
    {
     "data": {
      "application/vnd.jupyter.widget-view+json": {
       "model_id": "f5ee1f95bf1a4cb49635166d79a2cb0d",
       "version_major": 2,
       "version_minor": 0
      },
      "text/plain": [
       "train:   0%|          | 0/1758 [00:00<?, ?it/s]"
      ]
     },
     "metadata": {},
     "output_type": "display_data"
    },
    {
     "name": "stdout",
     "output_type": "stream",
     "text": [
      "save model\n",
      "Epoch : 28/50 -- Training loss 0.10453691124170171, --- Val loss 0.03909052163362503, --- accuray : 0.9780818266287608, --- recall : 0.9781011793109377\n"
     ]
    },
    {
     "data": {
      "application/vnd.jupyter.widget-view+json": {
       "model_id": "6892430487ed4aacb2205953e3aea2aa",
       "version_major": 2,
       "version_minor": 0
      },
      "text/plain": [
       "train:   0%|          | 0/1758 [00:00<?, ?it/s]"
      ]
     },
     "metadata": {},
     "output_type": "display_data"
    },
    {
     "name": "stdout",
     "output_type": "stream",
     "text": [
      "Epoch : 29/50 -- Training loss 0.10305772420968246, --- Val loss 0.12439809739589691, --- accuray : 0.9752086362138158, --- recall : 0.9752324867866428\n"
     ]
    },
    {
     "data": {
      "application/vnd.jupyter.widget-view+json": {
       "model_id": "bba66a80887d4c4983c5adb326eac1f8",
       "version_major": 2,
       "version_minor": 0
      },
      "text/plain": [
       "train:   0%|          | 0/1758 [00:00<?, ?it/s]"
      ]
     },
     "metadata": {},
     "output_type": "display_data"
    },
    {
     "name": "stdout",
     "output_type": "stream",
     "text": [
      "Epoch : 30/50 -- Training loss 0.10070392541667876, --- Val loss 0.17543131113052368, --- accuray : 0.9737980199166639, --- recall : 0.9733545624364754\n"
     ]
    },
    {
     "data": {
      "application/vnd.jupyter.widget-view+json": {
       "model_id": "5cead1f5258d4c36ad81fdcf4a11904f",
       "version_major": 2,
       "version_minor": 0
      },
      "text/plain": [
       "train:   0%|          | 0/1758 [00:00<?, ?it/s]"
      ]
     },
     "metadata": {},
     "output_type": "display_data"
    },
    {
     "name": "stdout",
     "output_type": "stream",
     "text": [
      "Epoch : 31/50 -- Training loss 0.10123666674767508, --- Val loss 0.06286836415529251, --- accuray : 0.975971354152817, --- recall : 0.9755529109707519\n"
     ]
    },
    {
     "data": {
      "application/vnd.jupyter.widget-view+json": {
       "model_id": "6799fedd8f6642af83d8dea3f0a6aa7c",
       "version_major": 2,
       "version_minor": 0
      },
      "text/plain": [
       "train:   0%|          | 0/1758 [00:00<?, ?it/s]"
      ]
     },
     "metadata": {},
     "output_type": "display_data"
    },
    {
     "name": "stdout",
     "output_type": "stream",
     "text": [
      "save model\n",
      "Epoch : 32/50 -- Training loss 0.10212779859032173, --- Val loss 0.04565292224287987, --- accuray : 0.9783121625138493, --- recall : 0.9782814766531672\n"
     ]
    },
    {
     "data": {
      "application/vnd.jupyter.widget-view+json": {
       "model_id": "a35d642d537e47a4bd0b141cc46f60d4",
       "version_major": 2,
       "version_minor": 0
      },
      "text/plain": [
       "train:   0%|          | 0/1758 [00:00<?, ?it/s]"
      ]
     },
     "metadata": {},
     "output_type": "display_data"
    },
    {
     "name": "stdout",
     "output_type": "stream",
     "text": [
      "Epoch : 33/50 -- Training loss 0.09985103340956157, --- Val loss 0.0369916632771492, --- accuray : 0.9760584868708948, --- recall : 0.9761194234363882\n"
     ]
    },
    {
     "data": {
      "application/vnd.jupyter.widget-view+json": {
       "model_id": "6d25c364e8a54df09fc504d6a33cd1cc",
       "version_major": 2,
       "version_minor": 0
      },
      "text/plain": [
       "train:   0%|          | 0/1758 [00:00<?, ?it/s]"
      ]
     },
     "metadata": {},
     "output_type": "display_data"
    },
    {
     "name": "stdout",
     "output_type": "stream",
     "text": [
      "save model\n",
      "Epoch : 34/50 -- Training loss 0.09880893339537533, --- Val loss 0.11444433033466339, --- accuray : 0.9784198639356422, --- recall : 0.9781991282452683\n"
     ]
    },
    {
     "data": {
      "application/vnd.jupyter.widget-view+json": {
       "model_id": "41f4ef3853bd48939b396532656ca203",
       "version_major": 2,
       "version_minor": 0
      },
      "text/plain": [
       "train:   0%|          | 0/1758 [00:00<?, ?it/s]"
      ]
     },
     "metadata": {},
     "output_type": "display_data"
    },
    {
     "name": "stdout",
     "output_type": "stream",
     "text": [
      "Epoch : 35/50 -- Training loss 0.0985519076131742, --- Val loss 0.038740966469049454, --- accuray : 0.9781934588618884, --- recall : 0.9781884393461613\n"
     ]
    },
    {
     "data": {
      "application/vnd.jupyter.widget-view+json": {
       "model_id": "d5cce08643e54aa3ae1a05b189b7edd1",
       "version_major": 2,
       "version_minor": 0
      },
      "text/plain": [
       "train:   0%|          | 0/1758 [00:00<?, ?it/s]"
      ]
     },
     "metadata": {},
     "output_type": "display_data"
    },
    {
     "name": "stdout",
     "output_type": "stream",
     "text": [
      "Epoch : 36/50 -- Training loss 0.09905443031238063, --- Val loss 0.07657930254936218, --- accuray : 0.974362833742456, --- recall : 0.9743593363689392\n"
     ]
    },
    {
     "data": {
      "application/vnd.jupyter.widget-view+json": {
       "model_id": "eb7cb492c95b47ad8bd0c70d3d25b154",
       "version_major": 2,
       "version_minor": 0
      },
      "text/plain": [
       "train:   0%|          | 0/1758 [00:00<?, ?it/s]"
      ]
     },
     "metadata": {},
     "output_type": "display_data"
    },
    {
     "name": "stdout",
     "output_type": "stream",
     "text": [
      "Epoch : 37/50 -- Training loss 0.09686999588111359, --- Val loss 0.10723908990621567, --- accuray : 0.9765218615593263, --- recall : 0.97629022885914\n"
     ]
    },
    {
     "data": {
      "application/vnd.jupyter.widget-view+json": {
       "model_id": "59ca3ad0a34444f4a128bc00bcc82a1e",
       "version_major": 2,
       "version_minor": 0
      },
      "text/plain": [
       "train:   0%|          | 0/1758 [00:00<?, ?it/s]"
      ]
     },
     "metadata": {},
     "output_type": "display_data"
    },
    {
     "name": "stdout",
     "output_type": "stream",
     "text": [
      "save model\n",
      "Epoch : 38/50 -- Training loss 0.0983507134413942, --- Val loss 0.3037140965461731, --- accuray : 0.9788636915547523, --- recall : 0.9788115679532972\n"
     ]
    },
    {
     "data": {
      "application/vnd.jupyter.widget-view+json": {
       "model_id": "36adb7d99ac24942814ea306d3af957e",
       "version_major": 2,
       "version_minor": 0
      },
      "text/plain": [
       "train:   0%|          | 0/1758 [00:00<?, ?it/s]"
      ]
     },
     "metadata": {},
     "output_type": "display_data"
    },
    {
     "name": "stdout",
     "output_type": "stream",
     "text": [
      "Epoch : 39/50 -- Training loss 0.09741264321010631, --- Val loss 0.05454183369874954, --- accuray : 0.9785367121000954, --- recall : 0.97823811349102\n"
     ]
    },
    {
     "data": {
      "application/vnd.jupyter.widget-view+json": {
       "model_id": "e11fba0ede4946c386705b049d0da935",
       "version_major": 2,
       "version_minor": 0
      },
      "text/plain": [
       "train:   0%|          | 0/1758 [00:00<?, ?it/s]"
      ]
     },
     "metadata": {},
     "output_type": "display_data"
    },
    {
     "name": "stdout",
     "output_type": "stream",
     "text": [
      "Epoch : 40/50 -- Training loss 0.09656117562139968, --- Val loss 0.10663522779941559, --- accuray : 0.9774183328298977, --- recall : 0.9774697892216867\n"
     ]
    },
    {
     "data": {
      "application/vnd.jupyter.widget-view+json": {
       "model_id": "b5c8ec24d6094fe783974bd5794b170a",
       "version_major": 2,
       "version_minor": 0
      },
      "text/plain": [
       "train:   0%|          | 0/1758 [00:00<?, ?it/s]"
      ]
     },
     "metadata": {},
     "output_type": "display_data"
    },
    {
     "name": "stdout",
     "output_type": "stream",
     "text": [
      "Epoch : 41/50 -- Training loss 0.09719474867104942, --- Val loss 0.08525609225034714, --- accuray : 0.9778872794308044, --- recall : 0.9779086006665911\n"
     ]
    },
    {
     "data": {
      "application/vnd.jupyter.widget-view+json": {
       "model_id": "21bc1915a7fe44a2ae102db227cb58a2",
       "version_major": 2,
       "version_minor": 0
      },
      "text/plain": [
       "train:   0%|          | 0/1758 [00:00<?, ?it/s]"
      ]
     },
     "metadata": {},
     "output_type": "display_data"
    },
    {
     "name": "stdout",
     "output_type": "stream",
     "text": [
      "Epoch : 42/50 -- Training loss 0.09493802829917872, --- Val loss 0.15283137559890747, --- accuray : 0.9767356827325795, --- recall : 0.97602836167555\n"
     ]
    },
    {
     "data": {
      "application/vnd.jupyter.widget-view+json": {
       "model_id": "4ded2aaa974646a3a3923dcabf3d7fd4",
       "version_major": 2,
       "version_minor": 0
      },
      "text/plain": [
       "train:   0%|          | 0/1758 [00:00<?, ?it/s]"
      ]
     },
     "metadata": {},
     "output_type": "display_data"
    },
    {
     "name": "stdout",
     "output_type": "stream",
     "text": [
      "save model\n",
      "Epoch : 43/50 -- Training loss 0.09503195194375995, --- Val loss 0.056344807147979736, --- accuray : 0.9790333454948825, --- recall : 0.979035363103517\n"
     ]
    },
    {
     "data": {
      "application/vnd.jupyter.widget-view+json": {
       "model_id": "c71f4e2e25884dc5ba18a6307a923c8e",
       "version_major": 2,
       "version_minor": 0
      },
      "text/plain": [
       "train:   0%|          | 0/1758 [00:00<?, ?it/s]"
      ]
     },
     "metadata": {},
     "output_type": "display_data"
    },
    {
     "name": "stdout",
     "output_type": "stream",
     "text": [
      "save model\n",
      "Epoch : 44/50 -- Training loss 0.09603357460112465, --- Val loss 0.10878770053386688, --- accuray : 0.9791583295524109, --- recall : 0.979100505060049\n"
     ]
    },
    {
     "data": {
      "application/vnd.jupyter.widget-view+json": {
       "model_id": "238f3186857b43d6b2c332a68e18834c",
       "version_major": 2,
       "version_minor": 0
      },
      "text/plain": [
       "train:   0%|          | 0/1758 [00:00<?, ?it/s]"
      ]
     },
     "metadata": {},
     "output_type": "display_data"
    },
    {
     "name": "stdout",
     "output_type": "stream",
     "text": [
      "save model\n",
      "Epoch : 45/50 -- Training loss 0.0960642020774325, --- Val loss 0.06690718978643417, --- accuray : 0.9792062402530206, --- recall : 0.97905116590695\n"
     ]
    },
    {
     "data": {
      "application/vnd.jupyter.widget-view+json": {
       "model_id": "f94a5d5c8c4d4e988369f00c6282dba5",
       "version_major": 2,
       "version_minor": 0
      },
      "text/plain": [
       "train:   0%|          | 0/1758 [00:00<?, ?it/s]"
      ]
     },
     "metadata": {},
     "output_type": "display_data"
    },
    {
     "name": "stdout",
     "output_type": "stream",
     "text": [
      "Epoch : 46/50 -- Training loss 0.09358222874737555, --- Val loss 0.12463442981243134, --- accuray : 0.9777343930753277, --- recall : 0.9777529878849412\n"
     ]
    },
    {
     "data": {
      "application/vnd.jupyter.widget-view+json": {
       "model_id": "3b7d063b1b4c4e57a30f579b10446916",
       "version_major": 2,
       "version_minor": 0
      },
      "text/plain": [
       "train:   0%|          | 0/1758 [00:00<?, ?it/s]"
      ]
     },
     "metadata": {},
     "output_type": "display_data"
    },
    {
     "name": "stdout",
     "output_type": "stream",
     "text": [
      "Epoch : 47/50 -- Training loss 0.09391034448008657, --- Val loss 0.08048533648252487, --- accuray : 0.9753260297677147, --- recall : 0.9750436673976106\n"
     ]
    },
    {
     "data": {
      "application/vnd.jupyter.widget-view+json": {
       "model_id": "b3402832bc8247f886c6d3d02ffea9e8",
       "version_major": 2,
       "version_minor": 0
      },
      "text/plain": [
       "train:   0%|          | 0/1758 [00:00<?, ?it/s]"
      ]
     },
     "metadata": {},
     "output_type": "display_data"
    },
    {
     "name": "stdout",
     "output_type": "stream",
     "text": [
      "save model\n",
      "Epoch : 48/50 -- Training loss 0.09231604993199258, --- Val loss 0.18469855189323425, --- accuray : 0.9794834567562838, --- recall : 0.9794994737024915\n"
     ]
    },
    {
     "data": {
      "application/vnd.jupyter.widget-view+json": {
       "model_id": "a08e6f5d2f1b4c22b214f2d44a45b9e1",
       "version_major": 2,
       "version_minor": 0
      },
      "text/plain": [
       "train:   0%|          | 0/1758 [00:00<?, ?it/s]"
      ]
     },
     "metadata": {},
     "output_type": "display_data"
    },
    {
     "name": "stdout",
     "output_type": "stream",
     "text": [
      "Epoch : 49/50 -- Training loss 0.09383173904909337, --- Val loss 0.08983985334634781, --- accuray : 0.9752568876615587, --- recall : 0.975279985071803\n"
     ]
    },
    {
     "data": {
      "application/vnd.jupyter.widget-view+json": {
       "model_id": "c24e431e84c84561bdfe6600011562d2",
       "version_major": 2,
       "version_minor": 0
      },
      "text/plain": [
       "train:   0%|          | 0/1758 [00:00<?, ?it/s]"
      ]
     },
     "metadata": {},
     "output_type": "display_data"
    },
    {
     "name": "stdout",
     "output_type": "stream",
     "text": [
      "Epoch : 50/50 -- Training loss 0.09294449908468677, --- Val loss 0.16393613815307617, --- accuray : 0.9772869201384973, --- recall : 0.9773026914956027\n"
     ]
    },
    {
     "data": {
      "text/plain": [
       "CNNRNNdrop(\n",
       "  (cnn): Conv1d(1, 20, kernel_size=(7,), stride=(1,))\n",
       "  (batch): BatchNorm1d(20, eps=1e-05, momentum=0.1, affine=True, track_running_stats=True)\n",
       "  (pool): MaxPool1d(kernel_size=3, stride=3, padding=0, dilation=1, ceil_mode=False)\n",
       "  (rnn): RNN(20, 32, batch_first=True)\n",
       "  (dropout): Dropout(p=0.5, inplace=False)\n",
       "  (fc): Linear(in_features=1920, out_features=5, bias=True)\n",
       ")"
      ]
     },
     "execution_count": 48,
     "metadata": {},
     "output_type": "execute_result"
    },
    {
     "data": {
      "image/png": "[encoded data removed]",
      "text/plain": [
       "<Figure size 640x480 with 1 Axes>"
      ]
     },
     "metadata": {},
     "output_type": "display_data"
    }
   ],
   "source": [
    "trainrnn(model,train_loader,test_loader,epochs = 50,lr=1e-3,device='cpu',patience=5,factor=0.3,outmodelname = '../models/sequence_cnnrnn_withdropout.pkl')"
   ]
  },
  {
   "cell_type": "code",
   "execution_count": 124,
   "id": "3a5e7d64-4f3a-4f02-8a81-ab2a27f20d6b",
   "metadata": {},
   "outputs": [
    {
     "name": "stdout",
     "output_type": "stream",
     "text": [
      "=================================================================\n",
      "Layer (type:depth-idx)                   Param #\n",
      "=================================================================\n",
      "├─Conv1d: 1-1                            160\n",
      "├─BatchNorm1d: 1-2                       40\n",
      "├─MaxPool1d: 1-3                         --\n",
      "├─RNN: 1-4                               1,728\n",
      "├─Dropout: 1-5                           --\n",
      "├─Linear: 1-6                            9,605\n",
      "=================================================================\n",
      "Total params: 11,533\n",
      "Trainable params: 11,533\n",
      "Non-trainable params: 0\n",
      "=================================================================\n"
     ]
    }
   ],
   "source": [
    "model=joblib.load('../models/sequence_cnnrnn_withdropout.pkl')\n",
    "summary(model);"
   ]
  },
  {
   "cell_type": "code",
   "execution_count": 132,
   "id": "2acf9799-49a9-4935-9195-b70786542ebf",
   "metadata": {},
   "outputs": [
    {
     "name": "stdout",
     "output_type": "stream",
     "text": [
      "              precision    recall  f1-score   support\n",
      "\n",
      "           0      0.992     0.961     0.976     18118\n",
      "           1      0.508     0.829     0.630       556\n",
      "           2      0.898     0.955     0.926      1448\n",
      "           3      0.521     0.907     0.662       162\n",
      "           4      0.975     0.986     0.981      1608\n",
      "\n",
      "    accuracy                          0.958     21892\n",
      "   macro avg      0.779     0.928     0.835     21892\n",
      "weighted avg      0.969     0.958     0.962     21892\n",
      "\n"
     ]
    },
    {
     "data": {
      "image/png": "[encoded data removed]",
      "text/plain": [
       "<Figure size 400x400 with 1 Axes>"
      ]
     },
     "metadata": {},
     "output_type": "display_data"
    }
   ],
   "source": [
    "y_true, y_pred, accuracy, recall, loss_test = evaluate_model(model,val_loader)\n",
    "print(classification_report(y_true, y_pred,digits=3))\n",
    "table = pd.crosstab(y_true,y_pred,rownames=['True'],colnames=['Predicted'])\n",
    "fig = plt.figure(figsize=(4,4))\n",
    "ax = fig.add_subplot()\n",
    "sns.heatmap(table,cmap='Blues',annot=True,fmt='d',cbar=False,linecolor='black',ax=ax)\n",
    "ax.set_aspect('equal')"
   ]
  },
  {
   "cell_type": "markdown",
   "id": "6f5cb961-91c2-4407-ab89-10b953834838",
   "metadata": {},
   "source": [
    "## 4. Application d'une couche GRU après une première couche de convolution"
   ]
  },
  {
   "cell_type": "code",
   "execution_count": 69,
   "id": "a56e4673-1ed3-4f5b-af0c-9fbe72368a95",
   "metadata": {},
   "outputs": [],
   "source": [
    "class CNNGRUdrop(nn.Module):\n",
    "    \n",
    "    def __init__(self,input_size,num_conv,hidden_size,num_layer,num_classes=10,dropout=0.4):\n",
    "        super(CNNGRUdrop,self).__init__()\n",
    "        self.hidden_size=hidden_size\n",
    "        self.num_layer=num_layer\n",
    "        self.num_conv =num_conv\n",
    "        self.cnn =  nn.Conv1d(in_channels=1, out_channels=self.num_conv , kernel_size=7, stride=1, padding=0) # shape: (batch_size, n, 181)\n",
    "        self.batch = nn.BatchNorm1d(num_features=self.num_conv )\n",
    "        self.pool= nn.MaxPool1d(3, stride=3) # shape: (batch_size, n, 60)\n",
    "        self.gru=nn.GRU(self.num_conv ,hidden_size,num_layer,batch_first=True)\n",
    "        self.dropout = nn.Dropout(dropout)\n",
    "        self.fc=nn.Linear(hidden_size*60,num_classes)\n",
    "\n",
    "\n",
    "    def forward(self,x):\n",
    "        h0=torch.zeros(self.num_layer,x.size(0),self.hidden_size).to(\"cpu\")\n",
    "        out=self.cnn(x)\n",
    "        \n",
    "        out=nn.ReLU()(out)\n",
    "        out=self.batch(out)\n",
    "        out=self.pool(out)\n",
    "        out,_=self.gru(out.swapaxes(1,2),h0)\n",
    "        out=out.reshape(out.shape[0],-1)\n",
    "        out = self.dropout(out)\n",
    "        out=self.fc(out)\n",
    "        \n",
    "        return out\n",
    "\n"
   ]
  },
  {
   "cell_type": "code",
   "execution_count": 121,
   "id": "61808433-d3ec-4532-a680-9b549a32ca72",
   "metadata": {},
   "outputs": [
    {
     "name": "stdout",
     "output_type": "stream",
     "text": [
      "=================================================================\n",
      "Layer (type:depth-idx)                   Param #\n",
      "=================================================================\n",
      "├─Conv1d: 1-1                            160\n",
      "├─BatchNorm1d: 1-2                       40\n",
      "├─MaxPool1d: 1-3                         --\n",
      "├─GRU: 1-4                               5,184\n",
      "├─Dropout: 1-5                           --\n",
      "├─Linear: 1-6                            9,605\n",
      "=================================================================\n",
      "Total params: 14,989\n",
      "Trainable params: 14,989\n",
      "Non-trainable params: 0\n",
      "=================================================================\n"
     ]
    }
   ],
   "source": [
    "model = CNNGRUdrop(input_size,num_conv, hidden_size,num_layer,num_classes)\n",
    "summary(model);"
   ]
  },
  {
   "cell_type": "code",
   "execution_count": 76,
   "id": "4d9435d8-e5c6-4d3f-a98a-568be3d97b8f",
   "metadata": {},
   "outputs": [
    {
     "name": "stderr",
     "output_type": "stream",
     "text": [
      "C:\\Users\\passage\\Documents\\perso\\TEST\\WinPython\\WPy64-31020\\scripts\\heartbeat\\lib\\site-packages\\torch\\optim\\lr_scheduler.py:62: UserWarning: The verbose parameter is deprecated. Please use get_last_lr() to access the learning rate.\n",
      "  warnings.warn(\n"
     ]
    },
    {
     "data": {
      "application/vnd.jupyter.widget-view+json": {
       "model_id": "e44053902b664bccabbce76e751ad6a4",
       "version_major": 2,
       "version_minor": 0
      },
      "text/plain": [
       "train:   0%|          | 0/1758 [00:00<?, ?it/s]"
      ]
     },
     "metadata": {},
     "output_type": "display_data"
    },
    {
     "name": "stdout",
     "output_type": "stream",
     "text": [
      "save model\n",
      "Epoch : 1/50 -- Training loss 0.27030549144988986, --- Val loss 0.08908018469810486, --- accuray : 0.9496110950662121, --- recall : 0.9484700230715862\n"
     ]
    },
    {
     "data": {
      "application/vnd.jupyter.widget-view+json": {
       "model_id": "5d827c7142c5444cb8d4ab3096a3d919",
       "version_major": 2,
       "version_minor": 0
      },
      "text/plain": [
       "train:   0%|          | 0/1758 [00:00<?, ?it/s]"
      ]
     },
     "metadata": {},
     "output_type": "display_data"
    },
    {
     "name": "stdout",
     "output_type": "stream",
     "text": [
      "save model\n",
      "Epoch : 2/50 -- Training loss 0.13748364547422248, --- Val loss 0.08711694180965424, --- accuray : 0.9652158324497883, --- recall : 0.9648337777133047\n"
     ]
    },
    {
     "data": {
      "application/vnd.jupyter.widget-view+json": {
       "model_id": "59b78b36dd394add8ef666a98be60491",
       "version_major": 2,
       "version_minor": 0
      },
      "text/plain": [
       "train:   0%|          | 0/1758 [00:00<?, ?it/s]"
      ]
     },
     "metadata": {},
     "output_type": "display_data"
    },
    {
     "name": "stdout",
     "output_type": "stream",
     "text": [
      "save model\n",
      "Epoch : 3/50 -- Training loss 0.10636902228580519, --- Val loss 0.05627189204096794, --- accuray : 0.9718397929895712, --- recall : 0.9717234187943479\n"
     ]
    },
    {
     "data": {
      "application/vnd.jupyter.widget-view+json": {
       "model_id": "59ab2fa506a94e49ac45d1078b28a68b",
       "version_major": 2,
       "version_minor": 0
      },
      "text/plain": [
       "train:   0%|          | 0/1758 [00:00<?, ?it/s]"
      ]
     },
     "metadata": {},
     "output_type": "display_data"
    },
    {
     "name": "stdout",
     "output_type": "stream",
     "text": [
      "save model\n",
      "Epoch : 4/50 -- Training loss 0.09171439761791772, --- Val loss 0.04754495248198509, --- accuray : 0.976730433117388, --- recall : 0.9766351607291913\n"
     ]
    },
    {
     "data": {
      "application/vnd.jupyter.widget-view+json": {
       "model_id": "13a4a454f269412b938e90eef4526690",
       "version_major": 2,
       "version_minor": 0
      },
      "text/plain": [
       "train:   0%|          | 0/1758 [00:00<?, ?it/s]"
      ]
     },
     "metadata": {},
     "output_type": "display_data"
    },
    {
     "name": "stdout",
     "output_type": "stream",
     "text": [
      "save model\n",
      "Epoch : 5/50 -- Training loss 0.08055318866944337, --- Val loss 0.0942666232585907, --- accuray : 0.978369956317372, --- recall : 0.9783370378973599\n"
     ]
    },
    {
     "data": {
      "application/vnd.jupyter.widget-view+json": {
       "model_id": "297a18c10b4b4414af03fc7ca242c9ca",
       "version_major": 2,
       "version_minor": 0
      },
      "text/plain": [
       "train:   0%|          | 0/1758 [00:00<?, ?it/s]"
      ]
     },
     "metadata": {},
     "output_type": "display_data"
    },
    {
     "name": "stdout",
     "output_type": "stream",
     "text": [
      "save model\n",
      "Epoch : 6/50 -- Training loss 0.07363252401530988, --- Val loss 0.0980575904250145, --- accuray : 0.9839235792240633, --- recall : 0.9839365921328209\n"
     ]
    },
    {
     "data": {
      "application/vnd.jupyter.widget-view+json": {
       "model_id": "91ef0a5c2201417d8d525cc94b19ec73",
       "version_major": 2,
       "version_minor": 0
      },
      "text/plain": [
       "train:   0%|          | 0/1758 [00:00<?, ?it/s]"
      ]
     },
     "metadata": {},
     "output_type": "display_data"
    },
    {
     "name": "stdout",
     "output_type": "stream",
     "text": [
      "Epoch : 7/50 -- Training loss 0.06803997648499516, --- Val loss 0.1432247757911682, --- accuray : 0.9806876239657927, --- recall : 0.9804824198406694\n"
     ]
    },
    {
     "data": {
      "application/vnd.jupyter.widget-view+json": {
       "model_id": "426f88d008de4040b15e9a6314cc69f6",
       "version_major": 2,
       "version_minor": 0
      },
      "text/plain": [
       "train:   0%|          | 0/1758 [00:00<?, ?it/s]"
      ]
     },
     "metadata": {},
     "output_type": "display_data"
    },
    {
     "name": "stdout",
     "output_type": "stream",
     "text": [
      "Epoch : 8/50 -- Training loss 0.06486070248620443, --- Val loss 0.21318688988685608, --- accuray : 0.9824471271296404, --- recall : 0.9822730717738951\n"
     ]
    },
    {
     "data": {
      "application/vnd.jupyter.widget-view+json": {
       "model_id": "7e8058956f2e4860a0f8c164619a95d9",
       "version_major": 2,
       "version_minor": 0
      },
      "text/plain": [
       "train:   0%|          | 0/1758 [00:00<?, ?it/s]"
      ]
     },
     "metadata": {},
     "output_type": "display_data"
    },
    {
     "name": "stdout",
     "output_type": "stream",
     "text": [
      "save model\n",
      "Epoch : 9/50 -- Training loss 0.06021449726315446, --- Val loss 0.036169253289699554, --- accuray : 0.9843768344858382, --- recall : 0.9843738543469758\n"
     ]
    },
    {
     "data": {
      "application/vnd.jupyter.widget-view+json": {
       "model_id": "1c25afa8cdc94815b369618adb22cbeb",
       "version_major": 2,
       "version_minor": 0
      },
      "text/plain": [
       "train:   0%|          | 0/1758 [00:00<?, ?it/s]"
      ]
     },
     "metadata": {},
     "output_type": "display_data"
    },
    {
     "name": "stdout",
     "output_type": "stream",
     "text": [
      "save model\n",
      "Epoch : 10/50 -- Training loss 0.057432204558973896, --- Val loss 0.08143949508666992, --- accuray : 0.9864256464422463, --- recall : 0.9864618787044661\n"
     ]
    },
    {
     "data": {
      "application/vnd.jupyter.widget-view+json": {
       "model_id": "9656bc7ff8fd465b85fd20f651e7a9d5",
       "version_major": 2,
       "version_minor": 0
      },
      "text/plain": [
       "train:   0%|          | 0/1758 [00:00<?, ?it/s]"
      ]
     },
     "metadata": {},
     "output_type": "display_data"
    },
    {
     "name": "stdout",
     "output_type": "stream",
     "text": [
      "Epoch : 11/50 -- Training loss 0.05487614331859142, --- Val loss 0.04501644894480705, --- accuray : 0.9834115135580206, --- recall : 0.9833609162049237\n"
     ]
    },
    {
     "data": {
      "application/vnd.jupyter.widget-view+json": {
       "model_id": "27bdf354e4994ae8ba04971d8bdde66b",
       "version_major": 2,
       "version_minor": 0
      },
      "text/plain": [
       "train:   0%|          | 0/1758 [00:00<?, ?it/s]"
      ]
     },
     "metadata": {},
     "output_type": "display_data"
    },
    {
     "name": "stdout",
     "output_type": "stream",
     "text": [
      "Epoch : 12/50 -- Training loss 0.052550807598696445, --- Val loss 0.011803223751485348, --- accuray : 0.9858762721229308, --- recall : 0.9858667259214269\n"
     ]
    },
    {
     "data": {
      "application/vnd.jupyter.widget-view+json": {
       "model_id": "a60325304c46409c87c4e585b4efa8c0",
       "version_major": 2,
       "version_minor": 0
      },
      "text/plain": [
       "train:   0%|          | 0/1758 [00:00<?, ?it/s]"
      ]
     },
     "metadata": {},
     "output_type": "display_data"
    },
    {
     "name": "stdout",
     "output_type": "stream",
     "text": [
      "save model\n",
      "Epoch : 13/50 -- Training loss 0.0508567633074062, --- Val loss 0.07172293961048126, --- accuray : 0.9866509804615393, --- recall : 0.9866058310050679\n"
     ]
    },
    {
     "data": {
      "application/vnd.jupyter.widget-view+json": {
       "model_id": "c138a874ffb54841bda0dae0d142724c",
       "version_major": 2,
       "version_minor": 0
      },
      "text/plain": [
       "train:   0%|          | 0/1758 [00:00<?, ?it/s]"
      ]
     },
     "metadata": {},
     "output_type": "display_data"
    },
    {
     "name": "stdout",
     "output_type": "stream",
     "text": [
      "Epoch : 14/50 -- Training loss 0.04896581614149238, --- Val loss 0.12204141914844513, --- accuray : 0.9862924196400528, --- recall : 0.9863069537089914\n"
     ]
    },
    {
     "data": {
      "application/vnd.jupyter.widget-view+json": {
       "model_id": "0450fe61e7b041c48e3435ecfbbe1614",
       "version_major": 2,
       "version_minor": 0
      },
      "text/plain": [
       "train:   0%|          | 0/1758 [00:00<?, ?it/s]"
      ]
     },
     "metadata": {},
     "output_type": "display_data"
    },
    {
     "name": "stdout",
     "output_type": "stream",
     "text": [
      "save model\n",
      "Epoch : 15/50 -- Training loss 0.04782309459049024, --- Val loss 0.015256423503160477, --- accuray : 0.9883140700153745, --- recall : 0.9883316217682866\n"
     ]
    },
    {
     "data": {
      "application/vnd.jupyter.widget-view+json": {
       "model_id": "1682209ee1ca4b5b826457de016eb93f",
       "version_major": 2,
       "version_minor": 0
      },
      "text/plain": [
       "train:   0%|          | 0/1758 [00:00<?, ?it/s]"
      ]
     },
     "metadata": {},
     "output_type": "display_data"
    },
    {
     "name": "stdout",
     "output_type": "stream",
     "text": [
      "save model\n",
      "Epoch : 16/50 -- Training loss 0.0448036563074941, --- Val loss 0.007955264300107956, --- accuray : 0.9885151014393212, --- recall : 0.9885312708364008\n"
     ]
    },
    {
     "data": {
      "application/vnd.jupyter.widget-view+json": {
       "model_id": "8fcafbe8729a4effb950f95fe35efa0f",
       "version_major": 2,
       "version_minor": 0
      },
      "text/plain": [
       "train:   0%|          | 0/1758 [00:00<?, ?it/s]"
      ]
     },
     "metadata": {},
     "output_type": "display_data"
    },
    {
     "name": "stdout",
     "output_type": "stream",
     "text": [
      "save model\n",
      "Epoch : 17/50 -- Training loss 0.044553793569547584, --- Val loss 0.014315342530608177, --- accuray : 0.9889244103140925, --- recall : 0.9889336683239105\n"
     ]
    },
    {
     "data": {
      "application/vnd.jupyter.widget-view+json": {
       "model_id": "fe81e79d30d64e2c99453e32fcb4934c",
       "version_major": 2,
       "version_minor": 0
      },
      "text/plain": [
       "train:   0%|          | 0/1758 [00:00<?, ?it/s]"
      ]
     },
     "metadata": {},
     "output_type": "display_data"
    },
    {
     "name": "stdout",
     "output_type": "stream",
     "text": [
      "save model\n",
      "Epoch : 18/50 -- Training loss 0.04304158488407454, --- Val loss 0.03463137149810791, --- accuray : 0.9891793110300249, --- recall : 0.9891622499345448\n"
     ]
    },
    {
     "data": {
      "application/vnd.jupyter.widget-view+json": {
       "model_id": "fcef9925d4bc448da383f1b60ccdd288",
       "version_major": 2,
       "version_minor": 0
      },
      "text/plain": [
       "train:   0%|          | 0/1758 [00:00<?, ?it/s]"
      ]
     },
     "metadata": {},
     "output_type": "display_data"
    },
    {
     "name": "stdout",
     "output_type": "stream",
     "text": [
      "Epoch : 19/50 -- Training loss 0.04146367563789495, --- Val loss 0.07310759276151657, --- accuray : 0.9883956599692709, --- recall : 0.9883232983136125\n"
     ]
    },
    {
     "data": {
      "application/vnd.jupyter.widget-view+json": {
       "model_id": "67a570fd0b3242529fa01b0a6cf4fdba",
       "version_major": 2,
       "version_minor": 0
      },
      "text/plain": [
       "train:   0%|          | 0/1758 [00:00<?, ?it/s]"
      ]
     },
     "metadata": {},
     "output_type": "display_data"
    },
    {
     "name": "stdout",
     "output_type": "stream",
     "text": [
      "Epoch : 20/50 -- Training loss 0.04110708262716273, --- Val loss 0.018415477126836777, --- accuray : 0.9885046532129971, --- recall : 0.9885343185895611\n"
     ]
    },
    {
     "data": {
      "application/vnd.jupyter.widget-view+json": {
       "model_id": "f1e26fbcf7a9488e8939c2dad56c9168",
       "version_major": 2,
       "version_minor": 0
      },
      "text/plain": [
       "train:   0%|          | 0/1758 [00:00<?, ?it/s]"
      ]
     },
     "metadata": {},
     "output_type": "display_data"
    },
    {
     "name": "stdout",
     "output_type": "stream",
     "text": [
      "Epoch : 21/50 -- Training loss 0.03970547598877275, --- Val loss 0.015042253769934177, --- accuray : 0.9885892070013413, --- recall : 0.9885869067394338\n"
     ]
    },
    {
     "data": {
      "application/vnd.jupyter.widget-view+json": {
       "model_id": "2785bb19f1a9418a9ce9ea0dee83796c",
       "version_major": 2,
       "version_minor": 0
      },
      "text/plain": [
       "train:   0%|          | 0/1758 [00:00<?, ?it/s]"
      ]
     },
     "metadata": {},
     "output_type": "display_data"
    },
    {
     "name": "stdout",
     "output_type": "stream",
     "text": [
      "save model\n",
      "Epoch : 22/50 -- Training loss 0.039126821436290975, --- Val loss 0.08525621145963669, --- accuray : 0.9896926153143, --- recall : 0.9896391887967122\n"
     ]
    },
    {
     "data": {
      "application/vnd.jupyter.widget-view+json": {
       "model_id": "f800bc15d97147f2bff8062eab5b5a00",
       "version_major": 2,
       "version_minor": 0
      },
      "text/plain": [
       "train:   0%|          | 0/1758 [00:00<?, ?it/s]"
      ]
     },
     "metadata": {},
     "output_type": "display_data"
    },
    {
     "name": "stdout",
     "output_type": "stream",
     "text": [
      "save model\n",
      "Epoch : 23/50 -- Training loss 0.038734762559340795, --- Val loss 0.039322078227996826, --- accuray : 0.9903675456893681, --- recall : 0.9903777106587078\n"
     ]
    },
    {
     "data": {
      "application/vnd.jupyter.widget-view+json": {
       "model_id": "0bf325a6274542db9cdbe348a0223092",
       "version_major": 2,
       "version_minor": 0
      },
      "text/plain": [
       "train:   0%|          | 0/1758 [00:00<?, ?it/s]"
      ]
     },
     "metadata": {},
     "output_type": "display_data"
    },
    {
     "name": "stdout",
     "output_type": "stream",
     "text": [
      "Epoch : 24/50 -- Training loss 0.03746168821861963, --- Val loss 0.06820516288280487, --- accuray : 0.9902106721595676, --- recall : 0.9902205212147068\n"
     ]
    },
    {
     "data": {
      "application/vnd.jupyter.widget-view+json": {
       "model_id": "c9fdb079b3954e07a5691091d5aeca2f",
       "version_major": 2,
       "version_minor": 0
      },
      "text/plain": [
       "train:   0%|          | 0/1758 [00:00<?, ?it/s]"
      ]
     },
     "metadata": {},
     "output_type": "display_data"
    },
    {
     "name": "stdout",
     "output_type": "stream",
     "text": [
      "Epoch : 25/50 -- Training loss 0.037032169707132905, --- Val loss 0.016535121947526932, --- accuray : 0.9890825688908247, --- recall : 0.9890971051426822\n"
     ]
    },
    {
     "data": {
      "application/vnd.jupyter.widget-view+json": {
       "model_id": "87b24a826be54c409cd548b57285b50a",
       "version_major": 2,
       "version_minor": 0
      },
      "text/plain": [
       "train:   0%|          | 0/1758 [00:00<?, ?it/s]"
      ]
     },
     "metadata": {},
     "output_type": "display_data"
    },
    {
     "name": "stdout",
     "output_type": "stream",
     "text": [
      "Epoch : 26/50 -- Training loss 0.03575780904278783, --- Val loss 0.022874660789966583, --- accuray : 0.9892084790532578, --- recall : 0.9891157374906119\n"
     ]
    },
    {
     "data": {
      "application/vnd.jupyter.widget-view+json": {
       "model_id": "d9cfee30efaa4c43b27c8499467dab82",
       "version_major": 2,
       "version_minor": 0
      },
      "text/plain": [
       "train:   0%|          | 0/1758 [00:00<?, ?it/s]"
      ]
     },
     "metadata": {},
     "output_type": "display_data"
    },
    {
     "name": "stdout",
     "output_type": "stream",
     "text": [
      "Epoch : 27/50 -- Training loss 0.03506711155389028, --- Val loss 0.16645310819149017, --- accuray : 0.988848184457134, --- recall : 0.9888584054008245\n"
     ]
    },
    {
     "data": {
      "application/vnd.jupyter.widget-view+json": {
       "model_id": "154ead13237b4d609af13b4d5fc88ceb",
       "version_major": 2,
       "version_minor": 0
      },
      "text/plain": [
       "train:   0%|          | 0/1758 [00:00<?, ?it/s]"
      ]
     },
     "metadata": {},
     "output_type": "display_data"
    },
    {
     "name": "stdout",
     "output_type": "stream",
     "text": [
      "save model\n",
      "Epoch : 28/50 -- Training loss 0.0347191250427745, --- Val loss 0.0167445819824934, --- accuray : 0.9915674041687075, --- recall : 0.9915743967570357\n"
     ]
    },
    {
     "data": {
      "application/vnd.jupyter.widget-view+json": {
       "model_id": "dc93f186973e42c096d11c6d6db24857",
       "version_major": 2,
       "version_minor": 0
      },
      "text/plain": [
       "train:   0%|          | 0/1758 [00:00<?, ?it/s]"
      ]
     },
     "metadata": {},
     "output_type": "display_data"
    },
    {
     "name": "stdout",
     "output_type": "stream",
     "text": [
      "Epoch : 29/50 -- Training loss 0.03314809960002601, --- Val loss 0.004661682993173599, --- accuray : 0.9913212556468348, --- recall : 0.991330265129785\n"
     ]
    },
    {
     "data": {
      "application/vnd.jupyter.widget-view+json": {
       "model_id": "5d85ca4d4ee741458ddbf5e5b9d468b0",
       "version_major": 2,
       "version_minor": 0
      },
      "text/plain": [
       "train:   0%|          | 0/1758 [00:00<?, ?it/s]"
      ]
     },
     "metadata": {},
     "output_type": "display_data"
    },
    {
     "name": "stdout",
     "output_type": "stream",
     "text": [
      "Epoch : 30/50 -- Training loss 0.033990996904181225, --- Val loss 0.0094774654135108, --- accuray : 0.9901233718780812, --- recall : 0.9901323280095271\n"
     ]
    },
    {
     "data": {
      "application/vnd.jupyter.widget-view+json": {
       "model_id": "40a048e0bd8d4ee9bad4c2560fcc2204",
       "version_major": 2,
       "version_minor": 0
      },
      "text/plain": [
       "train:   0%|          | 0/1758 [00:00<?, ?it/s]"
      ]
     },
     "metadata": {},
     "output_type": "display_data"
    },
    {
     "name": "stdout",
     "output_type": "stream",
     "text": [
      "Epoch : 31/50 -- Training loss 0.03215616481848243, --- Val loss 0.10286032408475876, --- accuray : 0.9897288652928016, --- recall : 0.9897046767232451\n"
     ]
    },
    {
     "data": {
      "application/vnd.jupyter.widget-view+json": {
       "model_id": "d87ea7569956423486172120fd149bf7",
       "version_major": 2,
       "version_minor": 0
      },
      "text/plain": [
       "train:   0%|          | 0/1758 [00:00<?, ?it/s]"
      ]
     },
     "metadata": {},
     "output_type": "display_data"
    },
    {
     "name": "stdout",
     "output_type": "stream",
     "text": [
      "Epoch : 32/50 -- Training loss 0.03272816553734307, --- Val loss 0.0007193920901045203, --- accuray : 0.9910955927683943, --- recall : 0.9910984497762796\n"
     ]
    },
    {
     "data": {
      "application/vnd.jupyter.widget-view+json": {
       "model_id": "46fbcd85a2d4467693725ea417f5bf18",
       "version_major": 2,
       "version_minor": 0
      },
      "text/plain": [
       "train:   0%|          | 0/1758 [00:00<?, ?it/s]"
      ]
     },
     "metadata": {},
     "output_type": "display_data"
    },
    {
     "name": "stdout",
     "output_type": "stream",
     "text": [
      "Epoch : 33/50 -- Training loss 0.031594437809277086, --- Val loss 0.015624241903424263, --- accuray : 0.9912519974540448, --- recall : 0.991248254554517\n"
     ]
    },
    {
     "data": {
      "application/vnd.jupyter.widget-view+json": {
       "model_id": "c47f5c33b1cb409e911f7e49e1dcd409",
       "version_major": 2,
       "version_minor": 0
      },
      "text/plain": [
       "train:   0%|          | 0/1758 [00:00<?, ?it/s]"
      ]
     },
     "metadata": {},
     "output_type": "display_data"
    },
    {
     "name": "stdout",
     "output_type": "stream",
     "text": [
      "Epoch : 34/50 -- Training loss 0.03127469188323871, --- Val loss 0.003655092092230916, --- accuray : 0.9915644121174308, --- recall : 0.9915761084905288\n"
     ]
    },
    {
     "data": {
      "application/vnd.jupyter.widget-view+json": {
       "model_id": "9f2b324528794bfd89392cc54d03b128",
       "version_major": 2,
       "version_minor": 0
      },
      "text/plain": [
       "train:   0%|          | 0/1758 [00:00<?, ?it/s]"
      ]
     },
     "metadata": {},
     "output_type": "display_data"
    },
    {
     "name": "stdout",
     "output_type": "stream",
     "text": [
      "Epoch : 35/50 -- Training loss 0.030941078244228447, --- Val loss 0.006013497244566679, --- accuray : 0.9900817233248539, --- recall : 0.9900396043574908\n"
     ]
    },
    {
     "data": {
      "application/vnd.jupyter.widget-view+json": {
       "model_id": "c6fcb51a58ea40f58ca085e48b7f7e7a",
       "version_major": 2,
       "version_minor": 0
      },
      "text/plain": [
       "train:   0%|          | 0/1758 [00:00<?, ?it/s]"
      ]
     },
     "metadata": {},
     "output_type": "display_data"
    },
    {
     "name": "stdout",
     "output_type": "stream",
     "text": [
      "Epoch : 36/50 -- Training loss 0.030236401726821262, --- Val loss 0.015619739890098572, --- accuray : 0.9888642658769953, --- recall : 0.988870763215995\n"
     ]
    },
    {
     "data": {
      "application/vnd.jupyter.widget-view+json": {
       "model_id": "65303a53103f4776a92a5dd6a34c4de6",
       "version_major": 2,
       "version_minor": 0
      },
      "text/plain": [
       "train:   0%|          | 0/1758 [00:00<?, ?it/s]"
      ]
     },
     "metadata": {},
     "output_type": "display_data"
    },
    {
     "name": "stdout",
     "output_type": "stream",
     "text": [
      "Epoch : 37/50 -- Training loss 0.031239446245825846, --- Val loss 0.01625935547053814, --- accuray : 0.9909930221424353, --- recall : 0.991017063113147\n"
     ]
    },
    {
     "data": {
      "application/vnd.jupyter.widget-view+json": {
       "model_id": "45212ddd1ca7462ca1c4e66ad0f7aad7",
       "version_major": 2,
       "version_minor": 0
      },
      "text/plain": [
       "train:   0%|          | 0/1758 [00:00<?, ?it/s]"
      ]
     },
     "metadata": {},
     "output_type": "display_data"
    },
    {
     "name": "stdout",
     "output_type": "stream",
     "text": [
      "save model\n",
      "Epoch : 38/50 -- Training loss 0.029662022820902807, --- Val loss 0.011467566713690758, --- accuray : 0.9925194491251664, --- recall : 0.9925281125664794\n"
     ]
    },
    {
     "data": {
      "application/vnd.jupyter.widget-view+json": {
       "model_id": "2cb190b247b74b7b9c33eb935bf33e46",
       "version_major": 2,
       "version_minor": 0
      },
      "text/plain": [
       "train:   0%|          | 0/1758 [00:00<?, ?it/s]"
      ]
     },
     "metadata": {},
     "output_type": "display_data"
    },
    {
     "name": "stdout",
     "output_type": "stream",
     "text": [
      "Epoch : 39/50 -- Training loss 0.030360523308547844, --- Val loss 0.019602883607149124, --- accuray : 0.9916341978582492, --- recall : 0.9916584257632326\n"
     ]
    },
    {
     "data": {
      "application/vnd.jupyter.widget-view+json": {
       "model_id": "344ca998b6a54c5e98865ca8377c248a",
       "version_major": 2,
       "version_minor": 0
      },
      "text/plain": [
       "train:   0%|          | 0/1758 [00:00<?, ?it/s]"
      ]
     },
     "metadata": {},
     "output_type": "display_data"
    },
    {
     "name": "stdout",
     "output_type": "stream",
     "text": [
      "Epoch : 40/50 -- Training loss 0.029311955587003925, --- Val loss 0.06503873318433762, --- accuray : 0.9922179219981464, --- recall : 0.9922184595106499\n"
     ]
    },
    {
     "data": {
      "application/vnd.jupyter.widget-view+json": {
       "model_id": "914d07753e2142eb81c30dbef8c3b68a",
       "version_major": 2,
       "version_minor": 0
      },
      "text/plain": [
       "train:   0%|          | 0/1758 [00:00<?, ?it/s]"
      ]
     },
     "metadata": {},
     "output_type": "display_data"
    },
    {
     "name": "stdout",
     "output_type": "stream",
     "text": [
      "Epoch : 41/50 -- Training loss 0.028493829349804375, --- Val loss 0.0011042981641367078, --- accuray : 0.9921578958465735, --- recall : 0.992171180538775\n"
     ]
    },
    {
     "data": {
      "application/vnd.jupyter.widget-view+json": {
       "model_id": "7d5fffde5c884645999413a6c28bfaca",
       "version_major": 2,
       "version_minor": 0
      },
      "text/plain": [
       "train:   0%|          | 0/1758 [00:00<?, ?it/s]"
      ]
     },
     "metadata": {},
     "output_type": "display_data"
    },
    {
     "name": "stdout",
     "output_type": "stream",
     "text": [
      "Epoch : 42/50 -- Training loss 0.028891821424502296, --- Val loss 0.003973579965531826, --- accuray : 0.9899722621147922, --- recall : 0.9899757080892412\n"
     ]
    },
    {
     "data": {
      "application/vnd.jupyter.widget-view+json": {
       "model_id": "17b9f873b4c545cc8112fd28739d7f54",
       "version_major": 2,
       "version_minor": 0
      },
      "text/plain": [
       "train:   0%|          | 0/1758 [00:00<?, ?it/s]"
      ]
     },
     "metadata": {},
     "output_type": "display_data"
    },
    {
     "name": "stdout",
     "output_type": "stream",
     "text": [
      "save model\n",
      "Epoch : 43/50 -- Training loss 0.02792285804580605, --- Val loss 0.0003887329366989434, --- accuray : 0.9928172776952368, --- recall : 0.9928182486265253\n"
     ]
    },
    {
     "data": {
      "application/vnd.jupyter.widget-view+json": {
       "model_id": "7319f89d24894f1d9d01dd73f8cecd96",
       "version_major": 2,
       "version_minor": 0
      },
      "text/plain": [
       "train:   0%|          | 0/1758 [00:00<?, ?it/s]"
      ]
     },
     "metadata": {},
     "output_type": "display_data"
    },
    {
     "name": "stdout",
     "output_type": "stream",
     "text": [
      "Epoch : 44/50 -- Training loss 0.02820665821000831, --- Val loss 0.02624920755624771, --- accuray : 0.9913644868889687, --- recall : 0.9913707812469736\n"
     ]
    },
    {
     "data": {
      "application/vnd.jupyter.widget-view+json": {
       "model_id": "bbe0086780024c00b77f9dd42b634b70",
       "version_major": 2,
       "version_minor": 0
      },
      "text/plain": [
       "train:   0%|          | 0/1758 [00:00<?, ?it/s]"
      ]
     },
     "metadata": {},
     "output_type": "display_data"
    },
    {
     "name": "stdout",
     "output_type": "stream",
     "text": [
      "save model\n",
      "Epoch : 45/50 -- Training loss 0.028546347697088803, --- Val loss 0.008320205844938755, --- accuray : 0.9928529457927532, --- recall : 0.9928447705721208\n"
     ]
    },
    {
     "data": {
      "application/vnd.jupyter.widget-view+json": {
       "model_id": "4f83fe2bb9884442a005bb598679827a",
       "version_major": 2,
       "version_minor": 0
      },
      "text/plain": [
       "train:   0%|          | 0/1758 [00:00<?, ?it/s]"
      ]
     },
     "metadata": {},
     "output_type": "display_data"
    },
    {
     "name": "stdout",
     "output_type": "stream",
     "text": [
      "Epoch : 46/50 -- Training loss 0.028319176376228373, --- Val loss 0.09510074555873871, --- accuray : 0.9910578050602268, --- recall : 0.9910439463886572\n"
     ]
    },
    {
     "data": {
      "application/vnd.jupyter.widget-view+json": {
       "model_id": "6e4fafbc304843deb25703cfeaaa756a",
       "version_major": 2,
       "version_minor": 0
      },
      "text/plain": [
       "train:   0%|          | 0/1758 [00:00<?, ?it/s]"
      ]
     },
     "metadata": {},
     "output_type": "display_data"
    },
    {
     "name": "stdout",
     "output_type": "stream",
     "text": [
      "Epoch : 47/50 -- Training loss 0.02684084512416674, --- Val loss 0.0016845798818394542, --- accuray : 0.9921988714168407, --- recall : 0.992207470551447\n"
     ]
    },
    {
     "data": {
      "application/vnd.jupyter.widget-view+json": {
       "model_id": "6d4c107334c341969d16ead672ce1cb9",
       "version_major": 2,
       "version_minor": 0
      },
      "text/plain": [
       "train:   0%|          | 0/1758 [00:00<?, ?it/s]"
      ]
     },
     "metadata": {},
     "output_type": "display_data"
    },
    {
     "name": "stdout",
     "output_type": "stream",
     "text": [
      "Epoch : 48/50 -- Training loss 0.027288800169698663, --- Val loss 0.006246740929782391, --- accuray : 0.9911348285740573, --- recall : 0.9911254921590867\n"
     ]
    },
    {
     "data": {
      "application/vnd.jupyter.widget-view+json": {
       "model_id": "36f167f98e8f42e389c0c8aaf2d7e4f2",
       "version_major": 2,
       "version_minor": 0
      },
      "text/plain": [
       "train:   0%|          | 0/1758 [00:00<?, ?it/s]"
      ]
     },
     "metadata": {},
     "output_type": "display_data"
    },
    {
     "name": "stdout",
     "output_type": "stream",
     "text": [
      "Epoch : 49/50 -- Training loss 0.027594623809701666, --- Val loss 0.0012469538487493992, --- accuray : 0.9926335126121385, --- recall : 0.9926540236750535\n"
     ]
    },
    {
     "data": {
      "application/vnd.jupyter.widget-view+json": {
       "model_id": "3ec598424fe040ee88a9f85db85533e5",
       "version_major": 2,
       "version_minor": 0
      },
      "text/plain": [
       "train:   0%|          | 0/1758 [00:00<?, ?it/s]"
      ]
     },
     "metadata": {},
     "output_type": "display_data"
    },
    {
     "name": "stdout",
     "output_type": "stream",
     "text": [
      "Epoch : 50/50 -- Training loss 0.026161166372208285, --- Val loss 0.0008852535393089056, --- accuray : 0.991003586116465, --- recall : 0.9909857704011564\n"
     ]
    },
    {
     "data": {
      "text/plain": [
       "CNNGRUdrop(\n",
       "  (cnn): Conv1d(1, 20, kernel_size=(7,), stride=(1,))\n",
       "  (batch): BatchNorm1d(20, eps=1e-05, momentum=0.1, affine=True, track_running_stats=True)\n",
       "  (pool): MaxPool1d(kernel_size=3, stride=3, padding=0, dilation=1, ceil_mode=False)\n",
       "  (gru): GRU(20, 32, batch_first=True)\n",
       "  (dropout): Dropout(p=0.4, inplace=False)\n",
       "  (fc): Linear(in_features=1920, out_features=5, bias=True)\n",
       ")"
      ]
     },
     "execution_count": 76,
     "metadata": {},
     "output_type": "execute_result"
    },
    {
     "data": {
      "image/png": "[encoded data removed]",
      "text/plain": [
       "<Figure size 640x480 with 1 Axes>"
      ]
     },
     "metadata": {},
     "output_type": "display_data"
    }
   ],
   "source": [
    "trainrnn(model,train_loader,test_loader,epochs = 50,lr=1e-3,device='cpu',patience=5,factor=0.3,outmodelname = '../models/sequence_cnngru_withdropout.pkl')"
   ]
  },
  {
   "cell_type": "code",
   "execution_count": 120,
   "id": "49e56a9d-82f0-4eff-a141-410504642c38",
   "metadata": {},
   "outputs": [
    {
     "name": "stdout",
     "output_type": "stream",
     "text": [
      "=================================================================\n",
      "Layer (type:depth-idx)                   Param #\n",
      "=================================================================\n",
      "├─Conv1d: 1-1                            160\n",
      "├─BatchNorm1d: 1-2                       40\n",
      "├─MaxPool1d: 1-3                         --\n",
      "├─GRU: 1-4                               5,184\n",
      "├─Dropout: 1-5                           --\n",
      "├─Linear: 1-6                            9,605\n",
      "=================================================================\n",
      "Total params: 14,989\n",
      "Trainable params: 14,989\n",
      "Non-trainable params: 0\n",
      "=================================================================\n"
     ]
    }
   ],
   "source": [
    "model=joblib.load('../models/sequence_cnngru_withdropout.pkl')\n",
    "summary(model);"
   ]
  },
  {
   "cell_type": "code",
   "execution_count": 135,
   "id": "3b516832-bedb-471b-8f08-2842d82c95c5",
   "metadata": {},
   "outputs": [
    {
     "name": "stdout",
     "output_type": "stream",
     "text": [
      "              precision    recall  f1-score   support\n",
      "\n",
      "           0      0.993     0.990     0.991     18118\n",
      "           1      0.809     0.847     0.828       556\n",
      "           2      0.956     0.957     0.957      1448\n",
      "           3      0.766     0.809     0.787       162\n",
      "           4      0.980     0.993     0.987      1608\n",
      "\n",
      "    accuracy                          0.983     21892\n",
      "   macro avg      0.901     0.919     0.910     21892\n",
      "weighted avg      0.983     0.983     0.983     21892\n",
      "\n"
     ]
    },
    {
     "data": {
      "image/png": "[encoded data removed]",
      "text/plain": [
       "<Figure size 400x400 with 1 Axes>"
      ]
     },
     "metadata": {},
     "output_type": "display_data"
    }
   ],
   "source": [
    "y_true, y_pred, accuracy, recall, loss_test = evaluate_model(model,val_loader)\n",
    "print(classification_report(y_true, y_pred,digits=3))\n",
    "table = pd.crosstab(y_true,y_pred,rownames=['True'],colnames=['Predicted'])\n",
    "fig = plt.figure(figsize=(4,4))\n",
    "ax = fig.add_subplot()\n",
    "sns.heatmap(table,cmap='Blues',annot=True,fmt='d',cbar=False,linecolor='black',ax=ax)\n",
    "ax.set_aspect('equal')"
   ]
  },
  {
   "cell_type": "markdown",
   "id": "7d6af152-9470-404f-9c8a-0530310a34cb",
   "metadata": {},
   "source": [
    "## Test d'un modèle plus lourd"
   ]
  },
  {
   "cell_type": "code",
   "execution_count": 111,
   "id": "b79c8555-129b-4d54-9244-51098f49fa52",
   "metadata": {},
   "outputs": [],
   "source": [
    "class biggru(nn.Module):\n",
    "    \n",
    "    def __init__(self,input_size,hidden_size,num_layer,num_classes=10,dropout=0.4):\n",
    "        super(biggru,self).__init__()\n",
    "        self.hidden_size=hidden_size\n",
    "        self.num_layer=num_layer\n",
    "        self.block1 =  nn.Sequential(\n",
    "                        nn.Conv1d(in_channels=1, out_channels=32, kernel_size=7, stride=1, padding=0), # shape: (batch_size, n, 181)\n",
    "                        nn.ReLU(),\n",
    "                        nn.Conv1d(in_channels=32, out_channels=64, kernel_size=5, stride=1, padding=0), # shape: (batch_size, n, 177)\n",
    "                        nn.ReLU(),\n",
    "                        nn.BatchNorm1d(num_features=64),\n",
    "                        nn.MaxPool1d(3, stride=3)) # shape: (batch_size, n, 59)\n",
    "        self.gru=nn.GRU(64 ,hidden_size,num_layer,batch_first=True,bidirectional=True)\n",
    "        self.dropout = nn.Dropout(dropout)\n",
    "        self.fc1=nn.Linear(hidden_size*59*2,48)\n",
    "        self.fc2=nn.Linear(48,5)\n",
    "\n",
    "\n",
    "    def forward(self,x):\n",
    "        h0=torch.zeros(2*self.num_layer,x.size(0),self.hidden_size).to(\"cpu\")\n",
    "        out=self.block1(x)\n",
    "        out,_=self.gru(out.swapaxes(1,2),h0)\n",
    "        out=out.reshape(out.shape[0],-1)\n",
    "        out = self.dropout(out)\n",
    "        out=nn.ReLU()(self.fc1(out))\n",
    "        out=self.fc2(out)\n",
    "        \n",
    "        return out\n"
   ]
  },
  {
   "cell_type": "code",
   "execution_count": 112,
   "id": "3e080e98-8ccd-468c-b25e-a0f2c93c67cc",
   "metadata": {},
   "outputs": [],
   "source": [
    "model = biggru(input_size, 8,num_layer,num_classes=5)"
   ]
  },
  {
   "cell_type": "code",
   "execution_count": 113,
   "id": "9a31ecd5-8fbb-481b-8ca9-fcc7ca3925bd",
   "metadata": {},
   "outputs": [
    {
     "name": "stdout",
     "output_type": "stream",
     "text": [
      "=================================================================\n",
      "Layer (type:depth-idx)                   Param #\n",
      "=================================================================\n",
      "├─Sequential: 1-1                        --\n",
      "|    └─Conv1d: 2-1                       256\n",
      "|    └─ReLU: 2-2                         --\n",
      "|    └─Conv1d: 2-3                       10,304\n",
      "|    └─ReLU: 2-4                         --\n",
      "|    └─BatchNorm1d: 2-5                  128\n",
      "|    └─MaxPool1d: 2-6                    --\n",
      "├─GRU: 1-2                               3,552\n",
      "├─Dropout: 1-3                           --\n",
      "├─Linear: 1-4                            45,360\n",
      "├─Linear: 1-5                            245\n",
      "=================================================================\n",
      "Total params: 59,845\n",
      "Trainable params: 59,845\n",
      "Non-trainable params: 0\n",
      "=================================================================\n"
     ]
    }
   ],
   "source": [
    "summary(model);"
   ]
  },
  {
   "cell_type": "code",
   "execution_count": 115,
   "id": "42bee9a0-c24e-468f-a5e9-d7469b42a25c",
   "metadata": {},
   "outputs": [
    {
     "data": {
      "application/vnd.jupyter.widget-view+json": {
       "model_id": "ef97dd0452374cd7b87e83906ab3437a",
       "version_major": 2,
       "version_minor": 0
      },
      "text/plain": [
       "train:   0%|          | 0/1758 [00:00<?, ?it/s]"
      ]
     },
     "metadata": {},
     "output_type": "display_data"
    },
    {
     "name": "stdout",
     "output_type": "stream",
     "text": [
      "save model\n",
      "Epoch : 1/50 -- Training loss 0.1643647209543044, --- Val loss 0.17584723234176636, --- accuray : 0.9656001756921437, --- recall : 0.9654435657578635\n"
     ]
    },
    {
     "data": {
      "application/vnd.jupyter.widget-view+json": {
       "model_id": "3a2074c7010d4aa6877585a405ca37fa",
       "version_major": 2,
       "version_minor": 0
      },
      "text/plain": [
       "train:   0%|          | 0/1758 [00:00<?, ?it/s]"
      ]
     },
     "metadata": {},
     "output_type": "display_data"
    },
    {
     "name": "stdout",
     "output_type": "stream",
     "text": [
      "save model\n",
      "Epoch : 2/50 -- Training loss 0.09342045370442739, --- Val loss 0.07153291255235672, --- accuray : 0.9764276012256307, --- recall : 0.9763723322604971\n"
     ]
    },
    {
     "data": {
      "application/vnd.jupyter.widget-view+json": {
       "model_id": "2edd27bedc104543ae5acb610ddcc248",
       "version_major": 2,
       "version_minor": 0
      },
      "text/plain": [
       "train:   0%|          | 0/1758 [00:00<?, ?it/s]"
      ]
     },
     "metadata": {},
     "output_type": "display_data"
    },
    {
     "name": "stdout",
     "output_type": "stream",
     "text": [
      "save model\n",
      "Epoch : 3/50 -- Training loss 0.07079441991737441, --- Val loss 0.07760205864906311, --- accuray : 0.9829698996824255, --- recall : 0.9829705245033586\n"
     ]
    },
    {
     "data": {
      "application/vnd.jupyter.widget-view+json": {
       "model_id": "6e4f08e03d614502ad328bea61e17a5a",
       "version_major": 2,
       "version_minor": 0
      },
      "text/plain": [
       "train:   0%|          | 0/1758 [00:00<?, ?it/s]"
      ]
     },
     "metadata": {},
     "output_type": "display_data"
    },
    {
     "name": "stdout",
     "output_type": "stream",
     "text": [
      "save model\n",
      "Epoch : 4/50 -- Training loss 0.06064739831102391, --- Val loss 0.10678397864103317, --- accuray : 0.9850592244247742, --- recall : 0.9850363188934802\n"
     ]
    },
    {
     "data": {
      "application/vnd.jupyter.widget-view+json": {
       "model_id": "8856055c97fa4835b30942818530fc4b",
       "version_major": 2,
       "version_minor": 0
      },
      "text/plain": [
       "train:   0%|          | 0/1758 [00:00<?, ?it/s]"
      ]
     },
     "metadata": {},
     "output_type": "display_data"
    },
    {
     "name": "stdout",
     "output_type": "stream",
     "text": [
      "save model\n",
      "Epoch : 5/50 -- Training loss 0.052144900042207676, --- Val loss 0.07087849825620651, --- accuray : 0.9878935922198668, --- recall : 0.9878923545484671\n"
     ]
    },
    {
     "data": {
      "application/vnd.jupyter.widget-view+json": {
       "model_id": "c8df306d9804496b87c2775a5297b5ae",
       "version_major": 2,
       "version_minor": 0
      },
      "text/plain": [
       "train:   0%|          | 0/1758 [00:00<?, ?it/s]"
      ]
     },
     "metadata": {},
     "output_type": "display_data"
    },
    {
     "name": "stdout",
     "output_type": "stream",
     "text": [
      "save model\n",
      "Epoch : 6/50 -- Training loss 0.04861824125299427, --- Val loss 0.03938019648194313, --- accuray : 0.98881045335786, --- recall : 0.9887821342066389\n"
     ]
    },
    {
     "data": {
      "application/vnd.jupyter.widget-view+json": {
       "model_id": "d7f0748203fe43aca793885e6fb89ff6",
       "version_major": 2,
       "version_minor": 0
      },
      "text/plain": [
       "train:   0%|          | 0/1758 [00:00<?, ?it/s]"
      ]
     },
     "metadata": {},
     "output_type": "display_data"
    },
    {
     "name": "stdout",
     "output_type": "stream",
     "text": [
      "save model\n",
      "Epoch : 7/50 -- Training loss 0.04344708060189357, --- Val loss 0.030172137543559074, --- accuray : 0.9894472340161714, --- recall : 0.9894475496264917\n"
     ]
    },
    {
     "data": {
      "application/vnd.jupyter.widget-view+json": {
       "model_id": "423e2cf0757e4f349f7ad4bd72be6f09",
       "version_major": 2,
       "version_minor": 0
      },
      "text/plain": [
       "train:   0%|          | 0/1758 [00:00<?, ?it/s]"
      ]
     },
     "metadata": {},
     "output_type": "display_data"
    },
    {
     "name": "stdout",
     "output_type": "stream",
     "text": [
      "save model\n",
      "Epoch : 8/50 -- Training loss 0.0412575251158471, --- Val loss 0.007169832941144705, --- accuray : 0.991059699486042, --- recall : 0.9910499332087197\n"
     ]
    },
    {
     "data": {
      "application/vnd.jupyter.widget-view+json": {
       "model_id": "4bcb1f95d83d4e708baada44ce71242f",
       "version_major": 2,
       "version_minor": 0
      },
      "text/plain": [
       "train:   0%|          | 0/1758 [00:00<?, ?it/s]"
      ]
     },
     "metadata": {},
     "output_type": "display_data"
    },
    {
     "name": "stdout",
     "output_type": "stream",
     "text": [
      "Epoch : 9/50 -- Training loss 0.037557032945978036, --- Val loss 0.12278223037719727, --- accuray : 0.9906236096322708, --- recall : 0.9906203314516132\n"
     ]
    },
    {
     "data": {
      "application/vnd.jupyter.widget-view+json": {
       "model_id": "c3bc3bca097c4bdba75fde2f4a6d5d8b",
       "version_major": 2,
       "version_minor": 0
      },
      "text/plain": [
       "train:   0%|          | 0/1758 [00:00<?, ?it/s]"
      ]
     },
     "metadata": {},
     "output_type": "display_data"
    },
    {
     "name": "stdout",
     "output_type": "stream",
     "text": [
      "save model\n",
      "Epoch : 10/50 -- Training loss 0.03706389973753273, --- Val loss 0.007226031739264727, --- accuray : 0.9912809640473931, --- recall : 0.9912624636221661\n"
     ]
    },
    {
     "data": {
      "application/vnd.jupyter.widget-view+json": {
       "model_id": "0924e17d1f6644849768c4d7beee2b13",
       "version_major": 2,
       "version_minor": 0
      },
      "text/plain": [
       "train:   0%|          | 0/1758 [00:00<?, ?it/s]"
      ]
     },
     "metadata": {},
     "output_type": "display_data"
    },
    {
     "name": "stdout",
     "output_type": "stream",
     "text": [
      "save model\n",
      "Epoch : 11/50 -- Training loss 0.03483695745849834, --- Val loss 0.015971790999174118, --- accuray : 0.9922099789759559, --- recall : 0.9922070583899331\n"
     ]
    },
    {
     "data": {
      "application/vnd.jupyter.widget-view+json": {
       "model_id": "6c36057271eb432d863e350acb2d226f",
       "version_major": 2,
       "version_minor": 0
      },
      "text/plain": [
       "train:   0%|          | 0/1758 [00:00<?, ?it/s]"
      ]
     },
     "metadata": {},
     "output_type": "display_data"
    },
    {
     "name": "stdout",
     "output_type": "stream",
     "text": [
      "Epoch : 12/50 -- Training loss 0.03348681592165023, --- Val loss 0.008195542730391026, --- accuray : 0.9915057839437749, --- recall : 0.991489967496394\n"
     ]
    },
    {
     "data": {
      "application/vnd.jupyter.widget-view+json": {
       "model_id": "b8e5b6bfc06042fea7f4e975955f467f",
       "version_major": 2,
       "version_minor": 0
      },
      "text/plain": [
       "train:   0%|          | 0/1758 [00:00<?, ?it/s]"
      ]
     },
     "metadata": {},
     "output_type": "display_data"
    },
    {
     "name": "stdout",
     "output_type": "stream",
     "text": [
      "Epoch : 13/50 -- Training loss 0.03241259923576408, --- Val loss 0.00891166739165783, --- accuray : 0.9921494571058609, --- recall : 0.9921335700398464\n"
     ]
    },
    {
     "data": {
      "application/vnd.jupyter.widget-view+json": {
       "model_id": "d6ce785c64b042489eb0216171ed3f4c",
       "version_major": 2,
       "version_minor": 0
      },
      "text/plain": [
       "train:   0%|          | 0/1758 [00:00<?, ?it/s]"
      ]
     },
     "metadata": {},
     "output_type": "display_data"
    },
    {
     "name": "stdout",
     "output_type": "stream",
     "text": [
      "save model\n",
      "Epoch : 14/50 -- Training loss 0.030653275751019535, --- Val loss 0.07147006690502167, --- accuray : 0.9934054613553215, --- recall : 0.9934047234632584\n"
     ]
    },
    {
     "data": {
      "application/vnd.jupyter.widget-view+json": {
       "model_id": "1f1c6dfb937f4b1db8e52dd358ccc2f9",
       "version_major": 2,
       "version_minor": 0
      },
      "text/plain": [
       "train:   0%|          | 0/1758 [00:00<?, ?it/s]"
      ]
     },
     "metadata": {},
     "output_type": "display_data"
    },
    {
     "name": "stdout",
     "output_type": "stream",
     "text": [
      "Epoch : 15/50 -- Training loss 0.02997826419130897, --- Val loss 0.07601995766162872, --- accuray : 0.9930873891311307, --- recall : 0.9930909903464469\n"
     ]
    },
    {
     "data": {
      "application/vnd.jupyter.widget-view+json": {
       "model_id": "60a302aa2f1344b9b0c0635182643bcb",
       "version_major": 2,
       "version_minor": 0
      },
      "text/plain": [
       "train:   0%|          | 0/1758 [00:00<?, ?it/s]"
      ]
     },
     "metadata": {},
     "output_type": "display_data"
    },
    {
     "name": "stdout",
     "output_type": "stream",
     "text": [
      "Epoch : 16/50 -- Training loss 0.029949097191567655, --- Val loss 0.022829102352261543, --- accuray : 0.9922652646876869, --- recall : 0.9922507991717333\n"
     ]
    },
    {
     "data": {
      "application/vnd.jupyter.widget-view+json": {
       "model_id": "41506dc46fd7435b91763cd1c0b451f7",
       "version_major": 2,
       "version_minor": 0
      },
      "text/plain": [
       "train:   0%|          | 0/1758 [00:00<?, ?it/s]"
      ]
     },
     "metadata": {},
     "output_type": "display_data"
    },
    {
     "name": "stdout",
     "output_type": "stream",
     "text": [
      "Epoch : 17/50 -- Training loss 0.028703469883424596, --- Val loss 0.023968765512108803, --- accuray : 0.9931783442813952, --- recall : 0.993170441044825\n"
     ]
    },
    {
     "data": {
      "application/vnd.jupyter.widget-view+json": {
       "model_id": "9817cde678da42f98b0b7762524fe254",
       "version_major": 2,
       "version_minor": 0
      },
      "text/plain": [
       "train:   0%|          | 0/1758 [00:00<?, ?it/s]"
      ]
     },
     "metadata": {},
     "output_type": "display_data"
    },
    {
     "name": "stdout",
     "output_type": "stream",
     "text": [
      "Epoch : 18/50 -- Training loss 0.028333225982181305, --- Val loss 0.057814452797174454, --- accuray : 0.993054631814718, --- recall : 0.9930563987183039\n"
     ]
    },
    {
     "data": {
      "application/vnd.jupyter.widget-view+json": {
       "model_id": "846828ab9f8c429890234ec6bf1aa01b",
       "version_major": 2,
       "version_minor": 0
      },
      "text/plain": [
       "train:   0%|          | 0/1758 [00:00<?, ?it/s]"
      ]
     },
     "metadata": {},
     "output_type": "display_data"
    },
    {
     "name": "stdout",
     "output_type": "stream",
     "text": [
      "Epoch : 19/50 -- Training loss 0.026900585018605868, --- Val loss 0.003241626312956214, --- accuray : 0.9924609621489008, --- recall : 0.9924571797772869\n"
     ]
    },
    {
     "data": {
      "application/vnd.jupyter.widget-view+json": {
       "model_id": "d4682c0fbde44b9f860efd17938fd91d",
       "version_major": 2,
       "version_minor": 0
      },
      "text/plain": [
       "train:   0%|          | 0/1758 [00:00<?, ?it/s]"
      ]
     },
     "metadata": {},
     "output_type": "display_data"
    },
    {
     "name": "stdout",
     "output_type": "stream",
     "text": [
      "save model\n",
      "Epoch : 20/50 -- Training loss 0.02621396401784101, --- Val loss 0.01978057250380516, --- accuray : 0.993576758307905, --- recall : 0.9935724728202251\n"
     ]
    },
    {
     "data": {
      "application/vnd.jupyter.widget-view+json": {
       "model_id": "005ebf8ad3bf433fad39df4377adea1d",
       "version_major": 2,
       "version_minor": 0
      },
      "text/plain": [
       "train:   0%|          | 0/1758 [00:00<?, ?it/s]"
      ]
     },
     "metadata": {},
     "output_type": "display_data"
    },
    {
     "name": "stdout",
     "output_type": "stream",
     "text": [
      "Epoch : 21/50 -- Training loss 0.02603517270258806, --- Val loss 0.09989246726036072, --- accuray : 0.9932215960208609, --- recall : 0.9932162823086251\n"
     ]
    },
    {
     "data": {
      "application/vnd.jupyter.widget-view+json": {
       "model_id": "520162a391184408a60f2a0eeeba9b14",
       "version_major": 2,
       "version_minor": 0
      },
      "text/plain": [
       "train:   0%|          | 0/1758 [00:00<?, ?it/s]"
      ]
     },
     "metadata": {},
     "output_type": "display_data"
    },
    {
     "name": "stdout",
     "output_type": "stream",
     "text": [
      "save model\n",
      "Epoch : 22/50 -- Training loss 0.02551241036863355, --- Val loss 0.004116090014576912, --- accuray : 0.9939438006776274, --- recall : 0.993929956713206\n"
     ]
    },
    {
     "data": {
      "application/vnd.jupyter.widget-view+json": {
       "model_id": "1eaef355cb324c6e9ecc6d976745934a",
       "version_major": 2,
       "version_minor": 0
      },
      "text/plain": [
       "train:   0%|          | 0/1758 [00:00<?, ?it/s]"
      ]
     },
     "metadata": {},
     "output_type": "display_data"
    },
    {
     "name": "stdout",
     "output_type": "stream",
     "text": [
      "Epoch : 23/50 -- Training loss 0.024610243034545416, --- Val loss 0.04075700417160988, --- accuray : 0.9936897214497549, --- recall : 0.9936902513024487\n"
     ]
    },
    {
     "data": {
      "application/vnd.jupyter.widget-view+json": {
       "model_id": "7197971f2b064ec08badeb317cc471de",
       "version_major": 2,
       "version_minor": 0
      },
      "text/plain": [
       "train:   0%|          | 0/1758 [00:00<?, ?it/s]"
      ]
     },
     "metadata": {},
     "output_type": "display_data"
    },
    {
     "name": "stdout",
     "output_type": "stream",
     "text": [
      "Epoch : 24/50 -- Training loss 0.024241871378535246, --- Val loss 0.04979964345693588, --- accuray : 0.9925513865964939, --- recall : 0.9925372546801953\n"
     ]
    },
    {
     "data": {
      "application/vnd.jupyter.widget-view+json": {
       "model_id": "02cf7735e64a407ba386c34f3c502fec",
       "version_major": 2,
       "version_minor": 0
      },
      "text/plain": [
       "train:   0%|          | 0/1758 [00:00<?, ?it/s]"
      ]
     },
     "metadata": {},
     "output_type": "display_data"
    },
    {
     "name": "stdout",
     "output_type": "stream",
     "text": [
      "save model\n",
      "Epoch : 25/50 -- Training loss 0.023991123669390355, --- Val loss 0.051940254867076874, --- accuray : 0.9940896423435722, --- recall : 0.9940849926800691\n"
     ]
    },
    {
     "data": {
      "application/vnd.jupyter.widget-view+json": {
       "model_id": "e53e143139eb44bd812e109b4d049d76",
       "version_major": 2,
       "version_minor": 0
      },
      "text/plain": [
       "train:   0%|          | 0/1758 [00:00<?, ?it/s]"
      ]
     },
     "metadata": {},
     "output_type": "display_data"
    },
    {
     "name": "stdout",
     "output_type": "stream",
     "text": [
      "Epoch : 26/50 -- Training loss 0.02351519443347096, --- Val loss 0.027981329709291458, --- accuray : 0.9936269028741258, --- recall : 0.9936154652408579\n"
     ]
    },
    {
     "data": {
      "application/vnd.jupyter.widget-view+json": {
       "model_id": "465416ed327140afb1af38ce8378361d",
       "version_major": 2,
       "version_minor": 0
      },
      "text/plain": [
       "train:   0%|          | 0/1758 [00:00<?, ?it/s]"
      ]
     },
     "metadata": {},
     "output_type": "display_data"
    },
    {
     "name": "stdout",
     "output_type": "stream",
     "text": [
      "Epoch : 27/50 -- Training loss 0.02405975950891176, --- Val loss 0.04941636696457863, --- accuray : 0.9926077006974119, --- recall : 0.9926062577712729\n"
     ]
    },
    {
     "data": {
      "application/vnd.jupyter.widget-view+json": {
       "model_id": "f328e385ce5540ba82021dc31369e857",
       "version_major": 2,
       "version_minor": 0
      },
      "text/plain": [
       "train:   0%|          | 0/1758 [00:00<?, ?it/s]"
      ]
     },
     "metadata": {},
     "output_type": "display_data"
    },
    {
     "name": "stdout",
     "output_type": "stream",
     "text": [
      "save model\n",
      "Epoch : 28/50 -- Training loss 0.022964487658868295, --- Val loss 0.0008494367357343435, --- accuray : 0.9942788356284581, --- recall : 0.9942880676321796\n"
     ]
    },
    {
     "data": {
      "application/vnd.jupyter.widget-view+json": {
       "model_id": "723c8eced9ff49b0b22bb70126592086",
       "version_major": 2,
       "version_minor": 0
      },
      "text/plain": [
       "train:   0%|          | 0/1758 [00:00<?, ?it/s]"
      ]
     },
     "metadata": {},
     "output_type": "display_data"
    },
    {
     "name": "stdout",
     "output_type": "stream",
     "text": [
      "save model\n",
      "Epoch : 29/50 -- Training loss 0.022537921257828948, --- Val loss 0.01087303925305605, --- accuray : 0.9944537575262254, --- recall : 0.99445685972654\n"
     ]
    },
    {
     "data": {
      "application/vnd.jupyter.widget-view+json": {
       "model_id": "b60cab2f364149628a9d0d35c7fca8af",
       "version_major": 2,
       "version_minor": 0
      },
      "text/plain": [
       "train:   0%|          | 0/1758 [00:00<?, ?it/s]"
      ]
     },
     "metadata": {},
     "output_type": "display_data"
    },
    {
     "name": "stdout",
     "output_type": "stream",
     "text": [
      "save model\n",
      "Epoch : 30/50 -- Training loss 0.02203076434626249, --- Val loss 0.014180053025484085, --- accuray : 0.9948177279884407, --- recall : 0.9948091347046588\n"
     ]
    },
    {
     "data": {
      "application/vnd.jupyter.widget-view+json": {
       "model_id": "e0175e589d6a452d9ac41720dec74195",
       "version_major": 2,
       "version_minor": 0
      },
      "text/plain": [
       "train:   0%|          | 0/1758 [00:00<?, ?it/s]"
      ]
     },
     "metadata": {},
     "output_type": "display_data"
    },
    {
     "name": "stdout",
     "output_type": "stream",
     "text": [
      "save model\n",
      "Epoch : 31/50 -- Training loss 0.021477860255173908, --- Val loss 0.020387133583426476, --- accuray : 0.9954793124474843, --- recall : 0.9954868296295057\n"
     ]
    },
    {
     "data": {
      "application/vnd.jupyter.widget-view+json": {
       "model_id": "8085b9b5b3cb417ebec5c35ee2950ff3",
       "version_major": 2,
       "version_minor": 0
      },
      "text/plain": [
       "train:   0%|          | 0/1758 [00:00<?, ?it/s]"
      ]
     },
     "metadata": {},
     "output_type": "display_data"
    },
    {
     "name": "stdout",
     "output_type": "stream",
     "text": [
      "Epoch : 32/50 -- Training loss 0.021567743797618666, --- Val loss 0.027101485058665276, --- accuray : 0.9951364913139116, --- recall : 0.9951268421118517\n"
     ]
    },
    {
     "data": {
      "application/vnd.jupyter.widget-view+json": {
       "model_id": "e3d94845ca974eea8645b20b66f56462",
       "version_major": 2,
       "version_minor": 0
      },
      "text/plain": [
       "train:   0%|          | 0/1758 [00:00<?, ?it/s]"
      ]
     },
     "metadata": {},
     "output_type": "display_data"
    },
    {
     "name": "stdout",
     "output_type": "stream",
     "text": [
      "Epoch : 33/50 -- Training loss 0.02032775990839615, --- Val loss 0.0013427353696897626, --- accuray : 0.9940958841913725, --- recall : 0.9940904659640797\n"
     ]
    },
    {
     "data": {
      "application/vnd.jupyter.widget-view+json": {
       "model_id": "e310f2e2dfb74c20b3ba7d4d4ab5b340",
       "version_major": 2,
       "version_minor": 0
      },
      "text/plain": [
       "train:   0%|          | 0/1758 [00:00<?, ?it/s]"
      ]
     },
     "metadata": {},
     "output_type": "display_data"
    },
    {
     "name": "stdout",
     "output_type": "stream",
     "text": [
      "Epoch : 34/50 -- Training loss 0.021137053737991258, --- Val loss 0.0018264279933646321, --- accuray : 0.9941280656607745, --- recall : 0.9941252625217508\n"
     ]
    },
    {
     "data": {
      "application/vnd.jupyter.widget-view+json": {
       "model_id": "d7e1c740e2554c5da3725ae46ae67c06",
       "version_major": 2,
       "version_minor": 0
      },
      "text/plain": [
       "train:   0%|          | 0/1758 [00:00<?, ?it/s]"
      ]
     },
     "metadata": {},
     "output_type": "display_data"
    },
    {
     "name": "stdout",
     "output_type": "stream",
     "text": [
      "Epoch : 35/50 -- Training loss 0.019920068592682322, --- Val loss 0.014514277689158916, --- accuray : 0.9946856482118138, --- recall : 0.9946876725565801\n"
     ]
    },
    {
     "data": {
      "application/vnd.jupyter.widget-view+json": {
       "model_id": "50945c5ee2b14b25a9f2b7732c1f1a4c",
       "version_major": 2,
       "version_minor": 0
      },
      "text/plain": [
       "train:   0%|          | 0/1758 [00:00<?, ?it/s]"
      ]
     },
     "metadata": {},
     "output_type": "display_data"
    },
    {
     "name": "stdout",
     "output_type": "stream",
     "text": [
      "Epoch : 36/50 -- Training loss 0.019748415158674426, --- Val loss 0.0292129535228014, --- accuray : 0.994296895244881, --- recall : 0.9942933088151744\n"
     ]
    },
    {
     "data": {
      "application/vnd.jupyter.widget-view+json": {
       "model_id": "aed2a16dbbfc4a5b9b40d4ea529e0c0f",
       "version_major": 2,
       "version_minor": 0
      },
      "text/plain": [
       "train:   0%|          | 0/1758 [00:00<?, ?it/s]"
      ]
     },
     "metadata": {},
     "output_type": "display_data"
    },
    {
     "name": "stdout",
     "output_type": "stream",
     "text": [
      "Epoch : 37/50 -- Training loss 0.020331263690968212, --- Val loss 0.03196379542350769, --- accuray : 0.9950512067526784, --- recall : 0.9950510185205893\n"
     ]
    },
    {
     "data": {
      "application/vnd.jupyter.widget-view+json": {
       "model_id": "b59ed51d259646e99e60c117f0fe5173",
       "version_major": 2,
       "version_minor": 0
      },
      "text/plain": [
       "train:   0%|          | 0/1758 [00:00<?, ?it/s]"
      ]
     },
     "metadata": {},
     "output_type": "display_data"
    },
    {
     "name": "stdout",
     "output_type": "stream",
     "text": [
      "Epoch : 38/50 -- Training loss 0.0200309222196744, --- Val loss 0.06366704404354095, --- accuray : 0.9953189872436056, --- recall : 0.9953310360804078\n"
     ]
    },
    {
     "data": {
      "application/vnd.jupyter.widget-view+json": {
       "model_id": "7c1f22281f4b4a66bb3cdfedf8311798",
       "version_major": 2,
       "version_minor": 0
      },
      "text/plain": [
       "train:   0%|          | 0/1758 [00:00<?, ?it/s]"
      ]
     },
     "metadata": {},
     "output_type": "display_data"
    },
    {
     "name": "stdout",
     "output_type": "stream",
     "text": [
      "save model\n",
      "Epoch : 39/50 -- Training loss 0.019242326004317547, --- Val loss 0.03288014978170395, --- accuray : 0.9956901701122766, --- recall : 0.9956928332084314\n"
     ]
    },
    {
     "data": {
      "application/vnd.jupyter.widget-view+json": {
       "model_id": "25ca5387002d4973881908e60688147a",
       "version_major": 2,
       "version_minor": 0
      },
      "text/plain": [
       "train:   0%|          | 0/1758 [00:00<?, ?it/s]"
      ]
     },
     "metadata": {},
     "output_type": "display_data"
    },
    {
     "name": "stdout",
     "output_type": "stream",
     "text": [
      "Epoch : 40/50 -- Training loss 0.017998805370535283, --- Val loss 0.004970565438270569, --- accuray : 0.9951605369376759, --- recall : 0.995166469512554\n"
     ]
    },
    {
     "data": {
      "application/vnd.jupyter.widget-view+json": {
       "model_id": "2ceabc18fb2d44d99b07386184e5e02e",
       "version_major": 2,
       "version_minor": 0
      },
      "text/plain": [
       "train:   0%|          | 0/1758 [00:00<?, ?it/s]"
      ]
     },
     "metadata": {},
     "output_type": "display_data"
    },
    {
     "name": "stdout",
     "output_type": "stream",
     "text": [
      "save model\n",
      "Epoch : 41/50 -- Training loss 0.018698432212575288, --- Val loss 0.026349464431405067, --- accuray : 0.9959257357730638, --- recall : 0.9959302329289799\n"
     ]
    },
    {
     "data": {
      "application/vnd.jupyter.widget-view+json": {
       "model_id": "4df0abbb779b46f292b84e5e2213ed94",
       "version_major": 2,
       "version_minor": 0
      },
      "text/plain": [
       "train:   0%|          | 0/1758 [00:00<?, ?it/s]"
      ]
     },
     "metadata": {},
     "output_type": "display_data"
    },
    {
     "name": "stdout",
     "output_type": "stream",
     "text": [
      "Epoch : 42/50 -- Training loss 0.018224561672934163, --- Val loss 0.0036556674167513847, --- accuray : 0.995237602036266, --- recall : 0.9952496924770496\n"
     ]
    },
    {
     "data": {
      "application/vnd.jupyter.widget-view+json": {
       "model_id": "229e47eafd4948309275929d09637860",
       "version_major": 2,
       "version_minor": 0
      },
      "text/plain": [
       "train:   0%|          | 0/1758 [00:00<?, ?it/s]"
      ]
     },
     "metadata": {},
     "output_type": "display_data"
    },
    {
     "name": "stdout",
     "output_type": "stream",
     "text": [
      "Epoch : 43/50 -- Training loss 0.018422225440294735, --- Val loss 0.004170515108853579, --- accuray : 0.9955231677191685, --- recall : 0.9955303726927822\n"
     ]
    },
    {
     "data": {
      "application/vnd.jupyter.widget-view+json": {
       "model_id": "65d9bd3e63e744c89dc33823f72ff253",
       "version_major": 2,
       "version_minor": 0
      },
      "text/plain": [
       "train:   0%|          | 0/1758 [00:00<?, ?it/s]"
      ]
     },
     "metadata": {},
     "output_type": "display_data"
    },
    {
     "name": "stdout",
     "output_type": "stream",
     "text": [
      "save model\n",
      "Epoch : 44/50 -- Training loss 0.018131101808035392, --- Val loss 0.01081043016165495, --- accuray : 0.9961612814328442, --- recall : 0.9961696311370103\n"
     ]
    },
    {
     "data": {
      "application/vnd.jupyter.widget-view+json": {
       "model_id": "7066b6c15c0f46d58cf621bc8d063d50",
       "version_major": 2,
       "version_minor": 0
      },
      "text/plain": [
       "train:   0%|          | 0/1758 [00:00<?, ?it/s]"
      ]
     },
     "metadata": {},
     "output_type": "display_data"
    },
    {
     "name": "stdout",
     "output_type": "stream",
     "text": [
      "Epoch : 45/50 -- Training loss 0.017297929568906537, --- Val loss 0.014396443963050842, --- accuray : 0.9957272869876684, --- recall : 0.995730492776827\n"
     ]
    },
    {
     "data": {
      "application/vnd.jupyter.widget-view+json": {
       "model_id": "8603289c3686466fb0c96bfc2cc91b70",
       "version_major": 2,
       "version_minor": 0
      },
      "text/plain": [
       "train:   0%|          | 0/1758 [00:00<?, ?it/s]"
      ]
     },
     "metadata": {},
     "output_type": "display_data"
    },
    {
     "name": "stdout",
     "output_type": "stream",
     "text": [
      "Epoch : 46/50 -- Training loss 0.018236649828078842, --- Val loss 0.002599093597382307, --- accuray : 0.9946564181154619, --- recall : 0.9946558687331544\n"
     ]
    },
    {
     "data": {
      "application/vnd.jupyter.widget-view+json": {
       "model_id": "aa6a1f2765724f34b4dd70020418104e",
       "version_major": 2,
       "version_minor": 0
      },
      "text/plain": [
       "train:   0%|          | 0/1758 [00:00<?, ?it/s]"
      ]
     },
     "metadata": {},
     "output_type": "display_data"
    },
    {
     "name": "stdout",
     "output_type": "stream",
     "text": [
      "Epoch : 47/50 -- Training loss 0.017539995512156934, --- Val loss 0.0064956070855259895, --- accuray : 0.995650783030927, --- recall : 0.9956521345086111\n"
     ]
    },
    {
     "data": {
      "application/vnd.jupyter.widget-view+json": {
       "model_id": "0d49726755cc4a41a1b8a244d47ac7f5",
       "version_major": 2,
       "version_minor": 0
      },
      "text/plain": [
       "train:   0%|          | 0/1758 [00:00<?, ?it/s]"
      ]
     },
     "metadata": {},
     "output_type": "display_data"
    },
    {
     "name": "stdout",
     "output_type": "stream",
     "text": [
      "save model\n",
      "Epoch : 48/50 -- Training loss 0.016785211600134464, --- Val loss 0.037332601845264435, --- accuray : 0.9962431983851257, --- recall : 0.9962486565861421\n"
     ]
    },
    {
     "data": {
      "application/vnd.jupyter.widget-view+json": {
       "model_id": "d83b94147ac8404995327d8d0b8383e2",
       "version_major": 2,
       "version_minor": 0
      },
      "text/plain": [
       "train:   0%|          | 0/1758 [00:00<?, ?it/s]"
      ]
     },
     "metadata": {},
     "output_type": "display_data"
    },
    {
     "name": "stdout",
     "output_type": "stream",
     "text": [
      "Epoch : 49/50 -- Training loss 0.01652736532102336, --- Val loss 0.0024689880665391684, --- accuray : 0.9957249891649582, --- recall : 0.995727930207155\n"
     ]
    },
    {
     "data": {
      "application/vnd.jupyter.widget-view+json": {
       "model_id": "4f834804eff54bc892c92147d8cd201f",
       "version_major": 2,
       "version_minor": 0
      },
      "text/plain": [
       "train:   0%|          | 0/1758 [00:00<?, ?it/s]"
      ]
     },
     "metadata": {},
     "output_type": "display_data"
    },
    {
     "name": "stdout",
     "output_type": "stream",
     "text": [
      "save model\n",
      "Epoch : 50/50 -- Training loss 0.016890305758178212, --- Val loss 0.003914011642336845, --- accuray : 0.9967611340702467, --- recall : 0.9967666839487735\n"
     ]
    },
    {
     "data": {
      "text/plain": [
       "biggru(\n",
       "  (block1): Sequential(\n",
       "    (0): Conv1d(1, 32, kernel_size=(7,), stride=(1,))\n",
       "    (1): ReLU()\n",
       "    (2): Conv1d(32, 64, kernel_size=(5,), stride=(1,))\n",
       "    (3): ReLU()\n",
       "    (4): BatchNorm1d(64, eps=1e-05, momentum=0.1, affine=True, track_running_stats=True)\n",
       "    (5): MaxPool1d(kernel_size=3, stride=3, padding=0, dilation=1, ceil_mode=False)\n",
       "  )\n",
       "  (gru): GRU(64, 8, batch_first=True, bidirectional=True)\n",
       "  (dropout): Dropout(p=0.4, inplace=False)\n",
       "  (fc1): Linear(in_features=944, out_features=48, bias=True)\n",
       "  (fc2): Linear(in_features=48, out_features=5, bias=True)\n",
       ")"
      ]
     },
     "execution_count": 115,
     "metadata": {},
     "output_type": "execute_result"
    },
    {
     "data": {
      "image/png": "[encoded data removed]",
      "text/plain": [
       "<Figure size 640x480 with 1 Axes>"
      ]
     },
     "metadata": {},
     "output_type": "display_data"
    }
   ],
   "source": [
    "trainrnn(model,train_loader,test_loader,epochs = 50,lr=1e-3,device='cpu',patience=5,factor=0.3,outmodelname = '../models/sequence_conv2grubidir.pkl')"
   ]
  },
  {
   "cell_type": "code",
   "execution_count": 117,
   "id": "2e423897-387b-4b95-a4bf-c6f29fe560ad",
   "metadata": {},
   "outputs": [
    {
     "name": "stdout",
     "output_type": "stream",
     "text": [
      "              precision    recall  f1-score   support\n",
      "\n",
      "           0      0.993     0.991     0.992     18118\n",
      "           1      0.849     0.838     0.843       556\n",
      "           2      0.954     0.964     0.959      1448\n",
      "           3      0.745     0.864     0.800       162\n",
      "           4      0.989     0.991     0.990      1608\n",
      "\n",
      "    accuracy                          0.984     21892\n",
      "   macro avg      0.906     0.930     0.917     21892\n",
      "weighted avg      0.985     0.984     0.984     21892\n",
      "\n"
     ]
    },
    {
     "data": {
      "image/png": "[encoded data removed]",
      "text/plain": [
       "<Figure size 400x400 with 1 Axes>"
      ]
     },
     "metadata": {},
     "output_type": "display_data"
    }
   ],
   "source": [
    "model=joblib.load('../models/sequence_conv2grubidir.pkl')\n",
    "y_true, y_pred, accuracy, recall, loss_test = evaluate_model(model,val_loader)\n",
    "print(classification_report(y_true, y_pred,digits=3))\n",
    "table = pd.crosstab(y_true,y_pred,rownames=['True'],colnames=['Predicted'])\n",
    "fig = plt.figure(figsize=(4,4))\n",
    "ax = fig.add_subplot()\n",
    "sns.heatmap(table,cmap='Blues',annot=True,fmt='d',cbar=False,linecolor='black',ax=ax)\n",
    "ax.set_aspect('equal')"
   ]
  },
  {
   "cell_type": "code",
   "execution_count": 119,
   "id": "ee5323f7-f0c5-42da-949b-f7f3c3b1b96c",
   "metadata": {},
   "outputs": [
    {
     "name": "stdout",
     "output_type": "stream",
     "text": [
      "=================================================================\n",
      "Layer (type:depth-idx)                   Param #\n",
      "=================================================================\n",
      "├─Sequential: 1-1                        --\n",
      "|    └─Conv1d: 2-1                       256\n",
      "|    └─ReLU: 2-2                         --\n",
      "|    └─Conv1d: 2-3                       10,304\n",
      "|    └─ReLU: 2-4                         --\n",
      "|    └─BatchNorm1d: 2-5                  128\n",
      "|    └─MaxPool1d: 2-6                    --\n",
      "├─GRU: 1-2                               3,552\n",
      "├─Dropout: 1-3                           --\n",
      "├─Linear: 1-4                            45,360\n",
      "├─Linear: 1-5                            245\n",
      "=================================================================\n",
      "Total params: 59,845\n",
      "Trainable params: 59,845\n",
      "Non-trainable params: 0\n",
      "=================================================================\n"
     ]
    }
   ],
   "source": [
    "summary(model);"
   ]
  },
  {
   "cell_type": "markdown",
   "id": "85ff98ca-f266-4391-b367-2314bbc64602",
   "metadata": {},
   "source": [
    "## help RNN"
   ]
  },
  {
   "cell_type": "markdown",
   "id": "1ee41989-cf9e-4f8f-9d3f-82564577aa0e",
   "metadata": {},
   "source": [
    "torch.nn.RNN has two inputs:\n",
    " * input \n",
    " * h_0 :  t=0. If we don't initialize the hidden layer, it will be auto-initiliased by PyTorch to be all zeros"
   ]
  },
  {
   "cell_type": "markdown",
   "id": "88db95ce-f4be-4de7-94a0-3cc5615059e5",
   "metadata": {},
   "source": [
    "input is the sequence which is fed into the network. It should be of size **(batch_size, number_of_time_sample, number_of_features)**\n",
    "\n",
    "h_n is the hidden value from the last time-step of all RNN layers. It is of the size **(num_layers * num_directions, batch, hidden_size)**"
   ]
  },
  {
   "cell_type": "markdown",
   "id": "8a7de9b5-0f5d-4897-ae1b-94e7bedeeaf8",
   "metadata": {},
   "source": [
    "torch.nn.RNN has two outputs \n",
    "* out \n",
    "* h_n.\n",
    "\n",
    "out is the output of the RNN from all timesteps from the last RNN layer. the output size is **(batch_size, number_of_time_sample, num_directions * hidden_size)**.\n",
    "h_n is the hidden value from the last time-step of all RNN layers. It is of the size **(num_layers * num_directions, batch, hidden_size)**."
   ]
  },
  {
   "cell_type": "markdown",
   "id": "abc55af0-fedc-49d3-9c72-2ff61e21c60a",
   "metadata": {},
   "source": [
    "The following diagram explains it more clearly. Here the batch=1. The diagram is for an LSTM which as two hidden parameters (h, c). RNN and GRU both have only h"
   ]
  },
  {
   "cell_type": "markdown",
   "id": "ac9d7ef1-55f1-4361-9171-b5b9e74754f6",
   "metadata": {},
   "source": [
    "<img src='1_tUxl5-C-t3Qumt0cyVhm2g.webp'>"
   ]
  }
 ],
 "metadata": {
  "kernelspec": {
   "display_name": "Python 3 (ipykernel)",
   "language": "python",
   "name": "python3"
  },
  "language_info": {
   "codemirror_mode": {
    "name": "ipython",
    "version": 3
   },
   "file_extension": ".py",
   "mimetype": "text/x-python",
   "name": "python",
   "nbconvert_exporter": "python",
   "pygments_lexer": "ipython3",
   "version": "3.9.13"
  }
 },
 "nbformat": 4,
 "nbformat_minor": 5
}
