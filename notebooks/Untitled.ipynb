{
 "cells": [
  {
   "cell_type": "code",
   "execution_count": 21,
   "id": "de2ae844-0d35-44e9-adc0-288fb1bc557e",
   "metadata": {},
   "outputs": [],
   "source": [
    "import numpy as np # linear algebra\n",
    "import pandas as pd # data processing, CSV file I/O (e.g. pd.read_csv)\n",
    "import os\n",
    "from scipy import signal\n",
    "from scipy.ndimage import gaussian_filter\n",
    "import pycatch22 as c22\n"
   ]
  },
  {
   "cell_type": "code",
   "execution_count": 13,
   "id": "1c4a988d-00e6-4bc8-811d-b0db46fd3773",
   "metadata": {},
   "outputs": [],
   "source": [
    "from importlib import reload"
   ]
  },
  {
   "cell_type": "code",
   "execution_count": 32,
   "id": "463fd1e5-e764-4f40-9780-a6ea5a06df33",
   "metadata": {},
   "outputs": [
    {
     "data": {
      "text/plain": [
       "<module 'build_features' from 'C:\\\\Data\\\\DS\\\\project\\\\heartbeat\\\\avr24_cds_heartbeat\\\\notebooks\\\\build_features.py'>"
      ]
     },
     "execution_count": 32,
     "metadata": {},
     "output_type": "execute_result"
    }
   ],
   "source": [
    "reload(build_features)"
   ]
  },
  {
   "cell_type": "code",
   "execution_count": 9,
   "id": "745d6a06-626b-40fc-b532-6572f708bfe0",
   "metadata": {},
   "outputs": [],
   "source": [
    "import pandas as pd # data processing, CSV file I/O (e.g. pd.read_csv)\n",
    "import numpy as np"
   ]
  },
  {
   "cell_type": "code",
   "execution_count": 10,
   "id": "18b1fa83-001d-4e4b-99d1-1ff78d67df87",
   "metadata": {},
   "outputs": [],
   "source": [
    "df = pd.read_csv('../data/raw/mitbih_train.csv',header=None)\n",
    "target = df.pop(187)\n",
    "X = np.array(df)\n",
    "y =  np.array(target)"
   ]
  },
  {
   "cell_type": "code",
   "execution_count": 12,
   "id": "a3e61fe9-b909-46cb-a2de-057bbb893eed",
   "metadata": {},
   "outputs": [],
   "source": [
    "XX = compute_features.all_features(X)"
   ]
  },
  {
   "cell_type": "code",
   "execution_count": 28,
   "id": "c2716286-54c4-4709-bb56-bd09c0a49f2e",
   "metadata": {},
   "outputs": [
    {
     "name": "stdout",
     "output_type": "stream",
     "text": [
      "reading file ../data/raw/mitbih_train.csv\n",
      "compute features on ../data/raw/mitbih_train.csv\n"
     ]
    },
    {
     "ename": "IndexError",
     "evalue": "only integers, slices (`:`), ellipsis (`...`), numpy.newaxis (`None`) and integer or boolean arrays are valid indices",
     "output_type": "error",
     "traceback": [
      "\u001b[1;31m---------------------------------------------------------------------------\u001b[0m",
      "\u001b[1;31mIndexError\u001b[0m                                Traceback (most recent call last)",
      "Cell \u001b[1;32mIn[28], line 1\u001b[0m\n\u001b[1;32m----> 1\u001b[0m \u001b[43mbuild_features\u001b[49m\u001b[38;5;241;43m.\u001b[39;49m\u001b[43mtransform_inputs\u001b[49m\u001b[43m(\u001b[49m\u001b[43m)\u001b[49m\n",
      "File \u001b[1;32mC:\\Data\\DS\\project\\heartbeat\\avr24_cds_heartbeat\\notebooks\\build_features.py:35\u001b[0m, in \u001b[0;36mtransform_inputs\u001b[1;34m(files, outdir, applyfilter, paramfilter, Fs, nech)\u001b[0m\n\u001b[0;32m     33\u001b[0m \u001b[38;5;28mprint\u001b[39m(\u001b[38;5;124m'\u001b[39m\u001b[38;5;124mcompute features on \u001b[39m\u001b[38;5;124m'\u001b[39m \u001b[38;5;241m+\u001b[39m file)\n\u001b[0;32m     34\u001b[0m XX \u001b[38;5;241m=\u001b[39m all_features(X,applyfilter\u001b[38;5;241m=\u001b[39mapplyfilter,paramfilter\u001b[38;5;241m=\u001b[39mparamfilter,Fs\u001b[38;5;241m=\u001b[39mFs,nech\u001b[38;5;241m=\u001b[39mnech)\n\u001b[1;32m---> 35\u001b[0m \u001b[43mXX\u001b[49m\u001b[43m[\u001b[49m\u001b[38;5;124;43m'\u001b[39;49m\u001b[38;5;124;43mtarget\u001b[39;49m\u001b[38;5;124;43m'\u001b[39;49m\u001b[43m]\u001b[49m \u001b[38;5;241m=\u001b[39m y\n\u001b[0;32m     37\u001b[0m \u001b[38;5;66;03m# save features\u001b[39;00m\n\u001b[0;32m     38\u001b[0m rep,filename \u001b[38;5;241m=\u001b[39m os\u001b[38;5;241m.\u001b[39mpath\u001b[38;5;241m.\u001b[39msplit(file)\n",
      "\u001b[1;31mIndexError\u001b[0m: only integers, slices (`:`), ellipsis (`...`), numpy.newaxis (`None`) and integer or boolean arrays are valid indices"
     ]
    }
   ],
   "source": [
    "build_features.transform_inputs()"
   ]
  },
  {
   "cell_type": "code",
   "execution_count": 29,
   "id": "f734fcfc-5c13-4acb-9cde-bc2810426691",
   "metadata": {},
   "outputs": [],
   "source": [
    "file = '../data/raw/mitbih_test.csv'"
   ]
  },
  {
   "cell_type": "code",
   "execution_count": 30,
   "id": "c75810a3-584b-48ac-b646-f4ca49071fcd",
   "metadata": {},
   "outputs": [],
   "source": [
    "df = pd.read_csv(file,header=None)\n",
    "# last colum is the class\n",
    "target = df.pop(df.columns[-1])\n",
    "\n",
    "# work with array\n",
    "X = np.array(df)\n",
    "y =  np.array(target)"
   ]
  },
  {
   "cell_type": "code",
   "execution_count": 26,
   "id": "97ef0d70-422d-4d17-95e9-4a45672317e1",
   "metadata": {},
   "outputs": [],
   "source": [
    "outdir = '../data/processed'\n",
    "applyfilter='gaussian'\n",
    "paramfilter=1\n",
    "Fs=125\n",
    "nech=6"
   ]
  },
  {
   "cell_type": "code",
   "execution_count": 33,
   "id": "0d4c223d-61b6-44ee-a9ce-954053b8ba28",
   "metadata": {},
   "outputs": [],
   "source": [
    "X1 = build_features.peak_features(X,applyfilter=applyfilter,paramfilter=paramfilter,Fs=Fs,nech=nech)"
   ]
  },
  {
   "cell_type": "code",
   "execution_count": 36,
   "id": "e70956ec-93f0-401d-85ca-92b9913af217",
   "metadata": {},
   "outputs": [],
   "source": [
    "X2 = build_features.catch24_features(X)"
   ]
  },
  {
   "cell_type": "code",
   "execution_count": 37,
   "id": "38334871-f6b1-4971-ae6f-a35ed0bd64a8",
   "metadata": {},
   "outputs": [],
   "source": [
    "XX = pd.concat((X1,X2),axis=1)"
   ]
  },
  {
   "cell_type": "code",
   "execution_count": 38,
   "id": "a6557da4-1509-4272-a41a-be12c41499e8",
   "metadata": {},
   "outputs": [],
   "source": [
    "XX['target'] = y"
   ]
  },
  {
   "cell_type": "code",
   "execution_count": 39,
   "id": "020bc55b-5486-4998-9727-0e7269a82a65",
   "metadata": {},
   "outputs": [
    {
     "name": "stdout",
     "output_type": "stream",
     "text": [
      "save  to ../data/processed\\features_mitbih_test.csv\n"
     ]
    }
   ],
   "source": [
    "rep,filename = os.path.split(file)\n",
    "print('save  to ' + os.path.join(outdir,'features_'+filename))\n",
    "XX.to_csv(os.path.join(outdir,'features_'+filename),index=False)"
   ]
  },
  {
   "cell_type": "code",
   "execution_count": 27,
   "id": "a98d098a-7700-4d9c-a294-abdb4bd8ed9e",
   "metadata": {},
   "outputs": [
    {
     "data": {
      "text/plain": [
       "array([[0.824     , 0.02093062, 0.97520661, ..., 0.7841132 , 0.08041278,\n",
       "        0.1386787 ],\n",
       "       [0.656     , 0.05124717, 1.        , ..., 0.34504269, 0.19635267,\n",
       "        0.23660001],\n",
       "       [0.712     , 0.01735803, 1.        , ..., 0.60369673, 0.11206285,\n",
       "        0.13792695],\n",
       "       ...,\n",
       "       [0.76      , 0.01356012, 0.71216619, ..., 0.54781263, 0.10641235,\n",
       "        0.14906101],\n",
       "       [0.792     , 0.06463477, 1.        , ..., 0.42187217, 0.18988202,\n",
       "        0.19164729],\n",
       "       [0.808     , 0.07303351, 1.        , ..., 0.29688822, 0.28812045,\n",
       "        0.26380238]])"
      ]
     },
     "execution_count": 27,
     "metadata": {},
     "output_type": "execute_result"
    }
   ],
   "source": [
    "XX = build_features.all_features(X,applyfilter=applyfilter,paramfilter=paramfilter,Fs=Fs,nech=nech)"
   ]
  }
 ],
 "metadata": {
  "kernelspec": {
   "display_name": "Python 3 (ipykernel)",
   "language": "python",
   "name": "python3"
  },
  "language_info": {
   "codemirror_mode": {
    "name": "ipython",
    "version": 3
   },
   "file_extension": ".py",
   "mimetype": "text/x-python",
   "name": "python",
   "nbconvert_exporter": "python",
   "pygments_lexer": "ipython3",
   "version": "3.9.7"
  }
 },
 "nbformat": 4,
 "nbformat_minor": 5
}
