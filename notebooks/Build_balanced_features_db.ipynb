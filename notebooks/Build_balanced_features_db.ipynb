{
 "cells": [
  {
   "cell_type": "markdown",
   "id": "28601102-22a6-461f-9bdc-5c6cecaaa0d6",
   "metadata": {},
   "source": [
    "# save balanced dataset"
   ]
  },
  {
   "cell_type": "markdown",
   "id": "1ec356a8-f47b-4910-bb5a-bbf527f36382",
   "metadata": {},
   "source": [
    "dataset equilibré 3500 avec Smote, 6500 pertubations du signal\n",
    "\n",
    "Sauve le dataset tel quel et avec les features calculées"
   ]
  },
  {
   "cell_type": "code",
   "execution_count": 6,
   "id": "71e5f6fb-50b5-4391-996b-73e2bcc902ef",
   "metadata": {},
   "outputs": [],
   "source": [
    "import numpy as np # linear algebra\n",
    "import pandas as pd # data processing, CSV file I/O (e.g. pd.read_csv)\n",
    "import os\n",
    "\n",
    "import sys\n",
    "sys.path.append('../src')"
   ]
  },
  {
   "cell_type": "code",
   "execution_count": 8,
   "id": "7269f7d1-21ec-4aa8-ba47-6785c0c9d837",
   "metadata": {},
   "outputs": [],
   "source": [
    "from balance import load_balanced\n",
    "from features import build_features"
   ]
  },
  {
   "cell_type": "code",
   "execution_count": 11,
   "id": "5ccf479f-c6f4-491a-a7e8-382b808d1c20",
   "metadata": {},
   "outputs": [],
   "source": [
    "folder = '../data/raw'\n",
    "df = pd.read_csv(os.path.join(folder,'mitbih_train.csv'),header=None)\n",
    "target = df.pop(df.columns[-1])\n",
    "X = np.array(df)\n",
    "y = np.array(target)\n"
   ]
  },
  {
   "cell_type": "code",
   "execution_count": 35,
   "id": "f6eb1334-6a96-4f24-990f-629331c65c38",
   "metadata": {},
   "outputs": [
    {
     "name": "stdout",
     "output_type": "stream",
     "text": [
      "nsmote:  3500  , nperturb:  6500\n",
      "nsmote:  3500  , nperturb:  6500\n",
      "nsmote:  3500  , nperturb:  6500\n",
      "after smote\n",
      "0.0    3500\n",
      "4.0    3500\n",
      "2.0    3500\n",
      "1.0    3500\n",
      "3.0    3500\n",
      "Name: count, dtype: int64\n",
      "[0. 1. 2. 3. 4.]\n",
      "class  0.0  undersampling, missing  0\n",
      "class  1.0  undersampling, missing  4277\n",
      "class  2.0  undersampling, missing  4212\n",
      "class  3.0  undersampling, missing  5859\n",
      "class  4.0  undersampling, missing  3569\n"
     ]
    }
   ],
   "source": [
    "X_rs,y_rs = load_balanced.sampling_strategy(X,y,method='smote-perturb',n_normal=10000,\n",
    "                       smote_perturb_smote_ratio=0.35)"
   ]
  },
  {
   "cell_type": "code",
   "execution_count": null,
   "id": "0f04e8d4-2916-4e90-a8fa-7022d2701130",
   "metadata": {},
   "outputs": [],
   "source": [
    "XX = build_features.all_features(X_rs)\n",
    "XX['target'] = y_rs\n",
    "XX.to_csv('../data/processed/features_balanced_mitbih_train_V0.csv')"
   ]
  },
  {
   "cell_type": "code",
   "execution_count": 46,
   "id": "9c7b10ff-dce8-44b3-afae-9930599af7f9",
   "metadata": {},
   "outputs": [],
   "source": [
    "df_out = pd.DataFrame(np.concatenate((X_rs,np.expand_dims(y_rs,axis=-1)),axis=1))\n",
    "df_out.to_csv('../data/processed/balanced_mitbih_train_V0.csv',index=False,header=None)"
   ]
  }
 ],
 "metadata": {
  "kernelspec": {
   "display_name": "Python 3 (ipykernel)",
   "language": "python",
   "name": "python3"
  },
  "language_info": {
   "codemirror_mode": {
    "name": "ipython",
    "version": 3
   },
   "file_extension": ".py",
   "mimetype": "text/x-python",
   "name": "python",
   "nbconvert_exporter": "python",
   "pygments_lexer": "ipython3",
   "version": "3.9.7"
  }
 },
 "nbformat": 4,
 "nbformat_minor": 5
}
