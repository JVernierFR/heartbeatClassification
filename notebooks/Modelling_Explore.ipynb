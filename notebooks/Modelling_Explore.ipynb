{
 "cells": [
  {
   "cell_type": "markdown",
   "id": "0c408c59-80be-47e4-8ca8-f8be5dd9299a",
   "metadata": {},
   "source": [
    "# Modelling tests"
   ]
  },
  {
   "cell_type": "code",
   "execution_count": 1,
   "id": "d22ca304-a7d3-46c9-86d5-e5400b6fd906",
   "metadata": {},
   "outputs": [],
   "source": [
    "import os\n",
    "import sys\n",
    "sys.path.append('../src')\n",
    "\n",
    "from balance import load_balanced\n",
    "import pandas as pd\n",
    "import numpy as np\n"
   ]
  },
  {
   "cell_type": "markdown",
   "id": "3d0c7f1e-3d18-456f-8caa-c85e6de27178",
   "metadata": {},
   "source": [
    "## datasets"
   ]
  },
  {
   "cell_type": "markdown",
   "id": "c618d6e4-6f4e-4a7d-968f-5804643f5c94",
   "metadata": {},
   "source": [
    "tests de models sur:\n",
    "    - la base sous echantillonées\n",
    "    - la base surechantillonées"
   ]
  },
  {
   "cell_type": "markdown",
   "id": "56e0309c-ba19-4bae-a501-d4d91effe35c",
   "metadata": {},
   "source": [
    "### creation de la base"
   ]
  },
  {
   "cell_type": "markdown",
   "id": "bff957b5-1340-452c-86ee-9f24203d73df",
   "metadata": {},
   "source": [
    "base sous echantillonée N signaux par classe = 641"
   ]
  },
  {
   "cell_type": "code",
   "execution_count": 16,
   "id": "38884e26-bc7d-43ad-9886-bcf8a5016ab5",
   "metadata": {},
   "outputs": [],
   "source": [
    "if not os.path.isfile('../data/processed/mitbih_train_under.csv'):\n",
    "    Xs,ys = load_balanced.load_balanced_data(method='under')\n",
    "    pd.DataFrame(np.concatenate((Xs,np.expand_dims(ys,axis=1)),axis=1)).to_csv('../data/processed/mitbih_train_under.csv',index=None,header=None)"
   ]
  },
  {
   "cell_type": "markdown",
   "id": "d9fe01a5-6871-4dda-b1af-5198e0d130fd",
   "metadata": {},
   "source": [
    "base sur echantillonée N signaux par classe 13000"
   ]
  },
  {
   "cell_type": "code",
   "execution_count": 3,
   "id": "fb21fe81-1767-426a-af16-eb260883a5cd",
   "metadata": {},
   "outputs": [
    {
     "name": "stdout",
     "output_type": "stream",
     "text": [
      "nsmote:  6500  , nperturb:  6500\n",
      "after smote\n",
      "0.0    6500\n",
      "1.0    6500\n",
      "2.0    6500\n",
      "3.0    6500\n",
      "4.0    6500\n",
      "Name: count, dtype: int64\n",
      "[0. 1. 2. 3. 4.]\n",
      "class  0.0  oversampling, missing  0\n",
      "class  1.0  oversampling, missing  4277\n",
      "class  2.0  oversampling, missing  712\n",
      "class  3.0  oversampling, missing  5859\n",
      "class  4.0  oversampling, missing  69\n"
     ]
    }
   ],
   "source": [
    "if not os.path.isfile('../data/processed/mitbih_train_smote_perturb_13000.csv'):\n",
    "    Xo,yo = load_balanced.load_balanced_data(method='smote-perturb',n_normal=13000,\n",
    "                       smote_perturb_smote_ratio=0.5)\n",
    "    pd.DataFrame(np.concatenate((Xo,np.expand_dims(yo,axis=1)),axis=1)).to_csv('../data/processed/mitbih_train_smote_perturb_13000.csv',index=None,header=None)"
   ]
  },
  {
   "cell_type": "markdown",
   "id": "263202ae-0f24-46a6-8372-00038655b162",
   "metadata": {},
   "source": [
    "calcul des features sur ces bases"
   ]
  },
  {
   "cell_type": "code",
   "execution_count": 4,
   "id": "218e6896-7268-4915-bc87-07ccbcf28c76",
   "metadata": {},
   "outputs": [
    {
     "name": "stdout",
     "output_type": "stream",
     "text": [
      "reading file ../data/processed/mitbih_train_smote_perturb_13000.csv\n",
      "compute features on ../data/processed/mitbih_train_smote_perturb_13000.csv\n",
      "save  to ../data/processed\\features_mitbih_train_smote_perturb_13000.csv\n"
     ]
    }
   ],
   "source": [
    "if not os.path.isfile('../data/processed/features_mitbih_train_smote_perturb_13000.csv'):\n",
    "    from features import build_features\n",
    "    build_features.transform_inputs(files=['../data/processed/mitbih_train_smote_perturb_13000.csv'],\n",
    "                     outdir = '../data/processed',\n",
    "                    applyfilter='gaussian',\n",
    "                      paramfilter=1,\n",
    "                      Fs=125,\n",
    "                      nech=6)\n",
    "if not os.path.isfile('../data/processed/features_mitbih_train_under.csv'):\n",
    "    build_features.transform_inputs(files=['../data/processed/mitbih_train_under.csv'],\n",
    "                     outdir = '../data/processed',\n",
    "                    applyfilter='gaussian',\n",
    "                      paramfilter=1,\n",
    "                      Fs=125,\n",
    "                      nech=6)"
   ]
  },
  {
   "cell_type": "code",
   "execution_count": null,
   "id": "d4191781-6a00-4c02-b13a-8d7b218d99c9",
   "metadata": {},
   "outputs": [],
   "source": []
  }
 ],
 "metadata": {
  "kernelspec": {
   "display_name": "Python 3 (ipykernel)",
   "language": "python",
   "name": "python3"
  },
  "language_info": {
   "codemirror_mode": {
    "name": "ipython",
    "version": 3
   },
   "file_extension": ".py",
   "mimetype": "text/x-python",
   "name": "python",
   "nbconvert_exporter": "python",
   "pygments_lexer": "ipython3",
   "version": "3.9.7"
  }
 },
 "nbformat": 4,
 "nbformat_minor": 5
}
