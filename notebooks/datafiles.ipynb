{
 "cells": [
  {
   "cell_type": "code",
   "execution_count": 1,
   "id": "a5ead9b2-a760-4391-b977-8d3121fec92c",
   "metadata": {},
   "outputs": [],
   "source": [
    "import sys\n",
    "sys.path.append('../src')"
   ]
  },
  {
   "cell_type": "code",
   "execution_count": 2,
   "id": "40c1e645-a8c6-4b53-b2f5-8db3fe174091",
   "metadata": {},
   "outputs": [],
   "source": [
    "from balance import load_balanced\n",
    "from features import build_features"
   ]
  },
  {
   "cell_type": "code",
   "execution_count": 3,
   "id": "592f2b91-e528-4f7d-aff6-f232003fd074",
   "metadata": {},
   "outputs": [],
   "source": [
    "from os import path\n"
   ]
  },
  {
   "cell_type": "code",
   "execution_count": 4,
   "id": "6350e1bc-a047-4a4f-b5b3-158577c3d27e",
   "metadata": {},
   "outputs": [
    {
     "name": "stdout",
     "output_type": "stream",
     "text": [
      "reading file ../data/processed/mitbih_train_smote_perturb_50000.csv\n",
      "compute features on ../data/processed/mitbih_train_smote_perturb_50000.csv\n",
      "save  to ../data/processed\\features_mitbih_train_smote_perturb_50000.csv\n"
     ]
    }
   ],
   "source": [
    "build_features.transform_inputs(files=['../data/processed/mitbih_train_smote_perturb_50000.csv'],\n",
    "                 outdir = '../data/processed',\n",
    "                applyfilter='gaussian',\n",
    "                  paramfilter=1,\n",
    "                  Fs=125,\n",
    "                  nech=6)"
   ]
  },
  {
   "cell_type": "code",
   "execution_count": 3,
   "id": "e1911dda-1a11-41b3-b6b6-df89d4c8a630",
   "metadata": {},
   "outputs": [
    {
     "name": "stdout",
     "output_type": "stream",
     "text": [
      "reading file ../data/raw/mitbih_train.csv\n",
      "compute features on ../data/raw/mitbih_train.csv\n",
      "save  to ../data/processed\\features_mitbih_train.csv\n"
     ]
    }
   ],
   "source": [
    "build_features.transform_inputs(files=['../data/raw/mitbih_train.csv'],\n",
    "                 outdir = '../data/processed',\n",
    "                applyfilter='gaussian',\n",
    "                  paramfilter=1,\n",
    "                  Fs=125,\n",
    "                  nech=6)"
   ]
  },
  {
   "cell_type": "code",
   "execution_count": 3,
   "id": "7bbe6110-5fe3-418a-8f6b-cf408ea430b4",
   "metadata": {},
   "outputs": [
    {
     "name": "stdout",
     "output_type": "stream",
     "text": [
      "reading file ../data/raw/ptbdb_abnormal.csv\n",
      "compute features on ../data/raw/ptbdb_abnormal.csv\n",
      "save  to ../data/processed\\features_ptbdb_abnormal.csv\n",
      "reading file ../data/raw/ptbdb_normal.csv\n",
      "compute features on ../data/raw/ptbdb_normal.csv\n",
      "save  to ../data/processed\\features_ptbdb_normal.csv\n"
     ]
    }
   ],
   "source": [
    "build_features.transform_inputs(files=['../data/raw/ptbdb_abnormal.csv','../data/raw/ptbdb_normal.csv'],\n",
    "                 outdir = '../data/processed',\n",
    "                applyfilter='gaussian',\n",
    "                  paramfilter=1,\n",
    "                  Fs=125,\n",
    "                  nech=6)"
   ]
  },
  {
   "cell_type": "code",
   "execution_count": 4,
   "id": "88496f42-8c91-479d-96a5-d319300380b7",
   "metadata": {},
   "outputs": [],
   "source": [
    "X_under,y_under = load_balanced.load_balanced_data(file='../data/raw/mitbih_train.csv', \n",
    "                       method='under',\n",
    "                       n_normal=6500,\n",
    "                       smote_perturb_smote_ratio=0.5,\n",
    "                       plow=0.85,phigh=1.15,slopelow=-0.1,slopehigh=0.1,strechlow=-5,strechhigh=5)\n",
    "\n"
   ]
  },
  {
   "cell_type": "code",
   "execution_count": 9,
   "id": "8e9248ad-3611-44fe-9ad3-a840ef7d84b6",
   "metadata": {},
   "outputs": [
    {
     "data": {
      "text/plain": [
       "(3205,)"
      ]
     },
     "execution_count": 9,
     "metadata": {},
     "output_type": "execute_result"
    }
   ],
   "source": [
    "y_under.shape"
   ]
  },
  {
   "cell_type": "code",
   "execution_count": 8,
   "id": "03108dd1-b07f-444f-8c16-8bc3d37283d9",
   "metadata": {},
   "outputs": [
    {
     "data": {
      "text/plain": [
       "(3205, 187)"
      ]
     },
     "execution_count": 8,
     "metadata": {},
     "output_type": "execute_result"
    }
   ],
   "source": [
    "X_under.shape\n"
   ]
  },
  {
   "cell_type": "code",
   "execution_count": 4,
   "id": "a31f5fbf-ff6f-46bb-b5af-383b1a32dc69",
   "metadata": {},
   "outputs": [],
   "source": [
    "import numpy as np\n",
    "import pandas as pd"
   ]
  },
  {
   "cell_type": "code",
   "execution_count": 15,
   "id": "80354bc4-08aa-4f81-b0f8-f69289335e36",
   "metadata": {},
   "outputs": [],
   "source": [
    "Z = pd.DataFrame(np.concat((X_under,np.expand_dims(y_under,axis=1)),axis=1))"
   ]
  },
  {
   "cell_type": "code",
   "execution_count": null,
   "id": "04aab77b-4426-4175-a14c-71e237c70914",
   "metadata": {},
   "outputs": [],
   "source": []
  },
  {
   "cell_type": "code",
   "execution_count": 16,
   "id": "447a5b6f-df50-4ff8-afc9-a7b4ef45e800",
   "metadata": {},
   "outputs": [],
   "source": [
    "Z.to_csv('../data/processed/mitbih_train_under.csv',index=False,header=False)"
   ]
  },
  {
   "cell_type": "code",
   "execution_count": 5,
   "id": "ec3fb30a-8938-4b37-9945-b3e628b54947",
   "metadata": {},
   "outputs": [
    {
     "name": "stdout",
     "output_type": "stream",
     "text": [
      "[0. 1. 2. 3. 4.]\n",
      "class  0.0  undersampling, missing  0\n",
      "class  1.0  undersampling, missing  4277\n",
      "class  2.0  undersampling, missing  712\n",
      "class  3.0  undersampling, missing  5859\n",
      "class  4.0  undersampling, missing  69\n"
     ]
    }
   ],
   "source": [
    "X_over,y_over = load_balanced.load_balanced_data(file='../data/raw/mitbih_train.csv', \n",
    "                       method='perturb',\n",
    "                       n_normal=6500,\n",
    "                       smote_perturb_smote_ratio=0.5,\n",
    "                       plow=0.85,phigh=1.15,slopelow=-0.1,slopehigh=0.1,strechlow=-5,strechhigh=5)\n",
    "\n",
    "Z = pd.DataFrame(np.concat((X_over,np.expand_dims(y_over,axis=1)),axis=1))\n",
    "Z.to_csv('../data/processed/mitbih_train_perturb_6000.csv',index=False,header=False)"
   ]
  },
  {
   "cell_type": "code",
   "execution_count": null,
   "id": "37742e88-9773-43f2-857e-cf750501dd3f",
   "metadata": {},
   "outputs": [],
   "source": []
  },
  {
   "cell_type": "code",
   "execution_count": 6,
   "id": "a75ea26a-34eb-4d1b-958e-7cbac4ef97aa",
   "metadata": {},
   "outputs": [
    {
     "name": "stdout",
     "output_type": "stream",
     "text": [
      "reading file ../data/processed/mitbih_train_under.csv\n",
      "compute features on ../data/processed/mitbih_train_under.csv\n",
      "save  to ../data/processed\\features_mitbih_train_under.csv\n",
      "reading file ../data/processed/mitbih_train_perturb_6000.csv\n",
      "compute features on ../data/processed/mitbih_train_perturb_6000.csv\n",
      "save  to ../data/processed\\features_mitbih_train_perturb_6000.csv\n",
      "reading file ../data/raw/mitbih_test.csv\n",
      "compute features on ../data/raw/mitbih_test.csv\n",
      "save  to ../data/processed\\features_mitbih_test.csv\n"
     ]
    }
   ],
   "source": [
    "build_features.transform_inputs(files=['../data/processed/mitbih_train_under.csv','../data/processed/mitbih_train_perturb_6000.csv',\n",
    "                        '../data/raw/mitbih_test.csv'],\n",
    "                 outdir = '../data/processed',\n",
    "                applyfilter='gaussian',\n",
    "                  paramfilter=1,\n",
    "                  Fs=125,\n",
    "                  nech=6)"
   ]
  },
  {
   "cell_type": "code",
   "execution_count": null,
   "id": "b8225d81-fdad-47af-88d0-0cc3d91a5157",
   "metadata": {},
   "outputs": [],
   "source": []
  }
 ],
 "metadata": {
  "kernelspec": {
   "display_name": "Python 3 (ipykernel)",
   "language": "python",
   "name": "python3"
  },
  "language_info": {
   "codemirror_mode": {
    "name": "ipython",
    "version": 3
   },
   "file_extension": ".py",
   "mimetype": "text/x-python",
   "name": "python",
   "nbconvert_exporter": "python",
   "pygments_lexer": "ipython3",
   "version": "3.9.7"
  }
 },
 "nbformat": 4,
 "nbformat_minor": 5
}
