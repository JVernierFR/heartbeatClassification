{
 "cells": [
  {
   "cell_type": "markdown",
   "id": "0c408c59-80be-47e4-8ca8-f8be5dd9299a",
   "metadata": {},
   "source": [
    " # A 2-step CNN"
   ]
  },
  {
   "cell_type": "markdown",
   "id": "3c0967ab-7815-4d1c-9897-d5f1915a6586",
   "metadata": {},
   "source": [
    "Conclusions: il n'y a pas de différence notables entre sur le data test à la fin de ce notebook"
   ]
  },
  {
   "cell_type": "markdown",
   "id": "06755b1c-27aa-483d-8ebf-09e52eacbcb0",
   "metadata": {},
   "source": [
    "je teste ici des modèles de CNN\n",
    "globalement il faut beacoup de données"
   ]
  },
  {
   "cell_type": "code",
   "execution_count": 1,
   "id": "19170d7e-82d4-4427-a1aa-e1790c449ca1",
   "metadata": {},
   "outputs": [],
   "source": [
    "import os\n",
    "import sys\n",
    "sys.path.append('../src')\n",
    "import time\n",
    "\n",
    "from balance import load_balanced\n",
    "import pandas as pd\n",
    "import numpy as np\n",
    "import matplotlib.pyplot as plt\n",
    "from sklearn import preprocessing\n",
    "from sklearn.metrics import classification_report\n",
    "from sklearn.metrics import recall_score, precision_score\n",
    "\n",
    "import torch.nn as nn\n",
    "import torch\n",
    "from torch.utils.data import TensorDataset, DataLoader\n",
    "from torchsummary import summary\n",
    "from torch import optim\n",
    "from sklearn.model_selection import train_test_split\n",
    "import joblib"
   ]
  },
  {
   "cell_type": "markdown",
   "id": "6df6fc58-0fd7-4012-bad7-d4af7dcf1e54",
   "metadata": {},
   "source": [
    "## DATASETS"
   ]
  },
  {
   "cell_type": "markdown",
   "id": "4fce58d1-d7e3-4bc4-b5b1-d99aae6d1d09",
   "metadata": {},
   "source": [
    "## STEP 1: Classification Normal/Abnormal"
   ]
  },
  {
   "cell_type": "code",
   "execution_count": 2,
   "id": "1c96b42f-d3f5-4518-b86e-2c6456844d1f",
   "metadata": {},
   "outputs": [],
   "source": [
    "#dataset 2 classe 1\n",
    "X2_1,y2_1 = load_balanced.load('../data/raw/ptbdb_abnormal.csv')\n",
    "#dataset 2 classe 0\n",
    "X2_0,y2_0 = load_balanced.load('../data/raw/ptbdb_normal.csv')\n",
    "#dataset 1 multi classes\n",
    "X1,y1 = load_balanced.load('../data/raw/mitbih_train.csv')"
   ]
  },
  {
   "cell_type": "code",
   "execution_count": 3,
   "id": "2e5a66e2-091a-46c2-bedc-ee7bb4ed862c",
   "metadata": {},
   "outputs": [],
   "source": [
    "# transforme tout ce qui n'est pas classe 0 en classe 1\n",
    "y1[y1>0]=1\n",
    "# concat base 2\n",
    "X2 = np.concatenate((X2_1,X2_0))\n",
    "y2 = np.concatenate((y2_1,y2_0))\n",
    "# compate"
   ]
  },
  {
   "cell_type": "code",
   "execution_count": 4,
   "id": "3c03f7fe-66a9-427b-bfdd-b1a7d204e8ac",
   "metadata": {},
   "outputs": [
    {
     "name": "stdout",
     "output_type": "stream",
     "text": [
      "1.0    10506\n",
      "0.0     4046\n",
      "Name: count, dtype: int64\n",
      "0.0    72471\n",
      "1.0    15083\n",
      "Name: count, dtype: int64\n"
     ]
    }
   ],
   "source": [
    "print(pd.Series(y2).value_counts())\n",
    "print(pd.Series(y1).value_counts())"
   ]
  },
  {
   "cell_type": "markdown",
   "id": "a7b05cda-364a-4d89-857c-aa9f312c8cfd",
   "metadata": {},
   "source": [
    " au total j'ai 10506+15083 = 25589 signaux de classe 1.\n",
    " \n",
    " il m'en faut autant de la classe 0.\n",
    " \n",
    " j'en ai 4046 dans le dataset 2, il faut que j'en prenne 21553 du dataset 1"
   ]
  },
  {
   "cell_type": "code",
   "execution_count": 5,
   "id": "5838622a-274e-4942-988e-a5abee86c4c5",
   "metadata": {},
   "outputs": [],
   "source": [
    "n_classe0_in_dataset1 = 21553"
   ]
  },
  {
   "cell_type": "code",
   "execution_count": 6,
   "id": "0bc3bb1c-264c-4838-81e4-f9fd8e03fecf",
   "metadata": {},
   "outputs": [
    {
     "name": "stdout",
     "output_type": "stream",
     "text": [
      "(87554, 187)\n",
      "(87554, 187)\n"
     ]
    }
   ],
   "source": [
    "# ok don on va undersampler la classe 0 du dataset 1\n",
    "print(X1.shape)\n",
    "ii = np.arange(X1.shape[0])\n",
    "np.random.shuffle(ii)\n",
    "# deja on shuffle si jamais les classes sont dans un ordre particulier\n",
    "Xs = X1[ii,:]\n",
    "ys = y1[ii]\n",
    "print(Xs.shape)"
   ]
  },
  {
   "cell_type": "code",
   "execution_count": 7,
   "id": "fcf9b51b-be38-46bb-8779-7f53d15383e8",
   "metadata": {},
   "outputs": [],
   "source": [
    "c0 = [k for k,x in enumerate(ys) if x==0] # indices des sgnaux de classe 0\n",
    "c1 = [k for k,x in enumerate(ys) if x==1] # indices des sgnaux de classe 1\n",
    "# et je vais prendre n_classe0_in_dataset1 signaux de la classe 0 et tous les signaux de la classe 1\n",
    "c0 = c0[0:n_classe0_in_dataset1]\n",
    "\n",
    "X1p = np.concatenate((Xs[c0,:],Xs[c1,:]))\n",
    "y1p=  np.concatenate((ys[c0],ys[c1]))\n",
    "\n",
    "# et puis on reshuffle le tout car la c'est dans l'ordre 0/1\n",
    "ii = np.arange(X1p.shape[0])\n",
    "np.random.shuffle(ii)\n",
    "X1p = X1p[ii,:]\n",
    "y1p = y1p[ii]"
   ]
  },
  {
   "cell_type": "code",
   "execution_count": 8,
   "id": "d7f9c182-29c1-4289-bd71-ef6d36dc6af2",
   "metadata": {},
   "outputs": [
    {
     "name": "stdout",
     "output_type": "stream",
     "text": [
      "0.0    25599\n",
      "1.0    25589\n",
      "Name: count, dtype: int64\n"
     ]
    }
   ],
   "source": [
    "X = np.concatenate((X1p,X2))\n",
    "y = np.concatenate((y1p,y2))\n",
    "print(pd.Series(y).value_counts())"
   ]
  },
  {
   "cell_type": "code",
   "execution_count": 9,
   "id": "1e5e67b9-88d0-4922-b1e7-574fa91dd760",
   "metadata": {},
   "outputs": [],
   "source": [
    "X_train,X_cross, y_train, y_cross = train_test_split(X,y,test_size=0.1,random_state=12)"
   ]
  },
  {
   "cell_type": "markdown",
   "id": "c0b0dddc-7117-470b-a0a5-e76ef8a56839",
   "metadata": {},
   "source": [
    "A ce stade j'un un dataset conséquent qui n'a pas d'oversample. on peut déjà essayer ca"
   ]
  },
  {
   "cell_type": "markdown",
   "id": "07e567a5-c851-444e-a0d6-d731366c75f9",
   "metadata": {},
   "source": [
    "### conversion en pytorch dataset"
   ]
  },
  {
   "cell_type": "code",
   "execution_count": 10,
   "id": "6ac95034-c8be-4ddb-bd86-966171df3a50",
   "metadata": {},
   "outputs": [],
   "source": [
    "X_train = np.expand_dims(X_train,axis=1)\n",
    "X_cross =np.expand_dims(X_cross,axis=1)"
   ]
  },
  {
   "cell_type": "code",
   "execution_count": 11,
   "id": "87a5cf1b-d2e9-4c6f-9e20-dba7682a9229",
   "metadata": {},
   "outputs": [],
   "source": [
    "\n",
    "\n",
    "train_set = TensorDataset(torch.from_numpy(X_train).float(), torch.Tensor(torch.from_numpy(y_train).long()))\n",
    "test_set = TensorDataset(torch.from_numpy(X_cross).float(), torch.Tensor(torch.from_numpy(y_cross).long()))\n",
    "\n",
    "train_loader = DataLoader(train_set, batch_size=100, shuffle=True)"
   ]
  },
  {
   "cell_type": "code",
   "execution_count": 12,
   "id": "05ba73de-d393-4ec2-8124-b80d724449e1",
   "metadata": {},
   "outputs": [
    {
     "data": {
      "text/plain": [
       "(46069, 1, 187)"
      ]
     },
     "execution_count": 12,
     "metadata": {},
     "output_type": "execute_result"
    }
   ],
   "source": [
    "X_train.shape"
   ]
  },
  {
   "cell_type": "markdown",
   "id": "252efe47-763b-442c-add2-82c8752ffe0a",
   "metadata": {},
   "source": [
    "## MODEL"
   ]
  },
  {
   "cell_type": "code",
   "execution_count": 13,
   "id": "b19c85b5-7cc2-47a9-a2d4-f66e2ced5512",
   "metadata": {},
   "outputs": [],
   "source": [
    "def evaluate_model(model, test_set):\n",
    "    X, y_true = test_set[:]\n",
    "   \n",
    "    model.eval()\n",
    "    criterion = nn.CrossEntropyLoss()\n",
    "    # Calcul de la fonction de perte\n",
    "    \n",
    "    with torch.no_grad():\n",
    "        # Prédiction du modèle pour un batch donné\n",
    "        y_pred = model(X)\n",
    "\n",
    "    loss_test = criterion(y_pred, y_true)\n",
    "    \n",
    "    y_pred = np.argmax(y_pred.detach().numpy(),axis=1)\n",
    "    y_true = y_true.numpy()\n",
    "    accuracy = precision_score(y_true, y_pred,average='macro')\n",
    "    recall = recall_score(y_true, y_pred,average='macro')\n",
    "    return y_true, y_pred, accuracy, recall, loss_test.item()\n",
    "    \n",
    "def train_a_model(model,train_loader,test_set,epochs = 100,lr=1e-3,device='cpu',outmodelname=None):\n",
    "\n",
    "    best_accuracy = 0\n",
    "    optimizer = optim.Adam(model.parameters(), lr)\n",
    "\n",
    "    # Définition de la fonction de perte\n",
    "    criterion = nn.CrossEntropyLoss()\n",
    "\n",
    "    loss_list = []\n",
    "    loss_list_test = []\n",
    "\n",
    "    accuracy_list = []\n",
    "    start = time.time()\n",
    "    \n",
    "    for epoch in range(epochs):\n",
    "        # Dans ce mode certaines couches du modèle agissent différemment\n",
    "        model.train()\n",
    "        loss_total = 0\n",
    "        \n",
    "        for batch in train_loader:\n",
    "            # Batch de données\n",
    "            X_batch, y_batch = batch\n",
    "            \n",
    "            # Device\n",
    "            X_batch = X_batch.to(device)\n",
    "            y_batch = y_batch.to(device)\n",
    "            \n",
    "            # Gradient mis 0\n",
    "            model.zero_grad()\n",
    "    \n",
    "            # Calcul de prédiction\n",
    "            y_pred = model(X_batch)\n",
    "    \n",
    "            # Calcul de la fonction de perte\n",
    "            loss = criterion(y_pred, y_batch)\n",
    "    \n",
    "            # Backpropagation : calculer le gradient de la loss en fonction de chaque couche\n",
    "            loss.backward()\n",
    "            \n",
    "            # Clipper le gradient entre 0 et 1 pour plus de stabilité\n",
    "            #torch.nn.utils.clip_grad_norm_(model.parameters(), max_norm=1.0)\n",
    "            \n",
    "            # Descente de gradient : actualisation des paramètres\n",
    "            optimizer.step()\n",
    "            \n",
    "            loss_total += loss.item()\n",
    "\n",
    "        y_true, y_pred, accuracy, recall, loss = evaluate_model(model, test_set)\n",
    "        if accuracy > best_accuracy and outmodelname is not None:\n",
    "            joblib.dump(model, outmodelname)\n",
    "            print('save model')\n",
    "            best_accuracy = accuracy\n",
    "        loss_list.append(loss_total/len(train_loader))\n",
    "        loss_list_test.append(loss)\n",
    "        accuracy_list.append(accuracy)\n",
    "        print(f\"Epoch : {epoch+1}/{epochs} -- Training loss {loss_total/len(train_loader)}, --- Val loss {loss}, --- accuray : {accuracy}, --- recall : {recall}\")\n",
    "    \n",
    "    end = time.time()\n",
    "    \n",
    "    print(\"execution time: \",end - start)\n",
    "    fig = plt.figure()\n",
    "    ax = fig.add_subplot()\n",
    "    ax.plot(loss_list,label='loss train')\n",
    "    ax.plot(loss_list_test,label='loss test')\n",
    "    ax.legend()\n",
    "\n",
    "    table = pd.crosstab(y_true,y_pred,rownames=['True'],colnames=['Predicted'])\n",
    "    print(table)\n",
    "\n",
    "    print(classification_report(y_true, y_pred))"
   ]
  },
  {
   "cell_type": "code",
   "execution_count": 14,
   "id": "26e1a1f5-43bf-4eb0-81ce-347970508d0c",
   "metadata": {},
   "outputs": [],
   "source": [
    "def cnn_type_1(n,n_neural, activation=nn.ReLU,input_shape=187,device='cpu',dropout=0.2):\n",
    "    # shape: (batch_size, n, 187)\n",
    "    model = nn.Sequential(\n",
    "        nn.Conv1d(in_channels=1, out_channels=n, kernel_size=11, stride=1, padding=0), # shape: (batch_size, n, 181)\n",
    "        activation(),\n",
    "        nn.BatchNorm1d(num_features=n),\n",
    "        nn.MaxPool1d(5, stride=5), # shape: (batch_size, n, 90)\n",
    "        \n",
    "        nn.Conv1d(in_channels=n, out_channels=n, kernel_size=7, stride=1, padding=0), # shape: (batch_size, n, 86)\n",
    "        activation(),\n",
    "        nn.BatchNorm1d(num_features=n),\n",
    "        nn.MaxPool1d(2, stride=2), # shape: (batch_size, n, 43)\n",
    "        \n",
    "        nn.Conv1d(in_channels=n, out_channels=n, kernel_size=3, stride=1, padding=0), # shape: (batch_size, n, 41)\n",
    "        activation(),\n",
    "        nn.BatchNorm1d(num_features=n),\n",
    "        nn.MaxPool1d(2, stride=2), # shape: (batch_size, n, 20)\n",
    "        \n",
    "        nn.Flatten() , # shape: (batch_size, 9*n)\n",
    "        nn.Dropout(dropout),\n",
    "        nn.Linear(6*n, n_neural),\n",
    "        activation(),\n",
    "        nn.Linear(n_neural, 2),\n",
    "         #nn.Softmax(dim=-1)\n",
    "    )\n",
    "    model.to(device)\n",
    "    summary(model, input_size=(input_shape,), device=device)\n",
    "    return model\n",
    "   "
   ]
  },
  {
   "cell_type": "code",
   "execution_count": 15,
   "id": "20896e10-1c5d-41ec-90b7-0c4ecbbc07eb",
   "metadata": {},
   "outputs": [
    {
     "name": "stdout",
     "output_type": "stream",
     "text": [
      "=================================================================\n",
      "Layer (type:depth-idx)                   Param #\n",
      "=================================================================\n",
      "├─Conv1d: 1-1                            960\n",
      "├─ReLU: 1-2                              --\n",
      "├─BatchNorm1d: 1-3                       160\n",
      "├─MaxPool1d: 1-4                         --\n",
      "├─Conv1d: 1-5                            44,880\n",
      "├─ReLU: 1-6                              --\n",
      "├─BatchNorm1d: 1-7                       160\n",
      "├─MaxPool1d: 1-8                         --\n",
      "├─Conv1d: 1-9                            19,280\n",
      "├─ReLU: 1-10                             --\n",
      "├─BatchNorm1d: 1-11                      160\n",
      "├─MaxPool1d: 1-12                        --\n",
      "├─Flatten: 1-13                          --\n",
      "├─Dropout: 1-14                          --\n",
      "├─Linear: 1-15                           24,050\n",
      "├─ReLU: 1-16                             --\n",
      "├─Linear: 1-17                           102\n",
      "=================================================================\n",
      "Total params: 89,752\n",
      "Trainable params: 89,752\n",
      "Non-trainable params: 0\n",
      "=================================================================\n",
      "save model\n",
      "Epoch : 1/25 -- Training loss 0.2639354150621079, --- Val loss 0.189340278506279, --- accuray : 0.9249925635049194, --- recall : 0.9248617726079258\n",
      "save model\n",
      "Epoch : 2/25 -- Training loss 0.1423416698993933, --- Val loss 0.1290145367383957, --- accuray : 0.9544505951954303, --- recall : 0.9529579593332113\n",
      "save model\n",
      "Epoch : 3/25 -- Training loss 0.10915310463086256, --- Val loss 0.10375100374221802, --- accuray : 0.9637585156391857, --- recall : 0.9631828173658179\n",
      "Epoch : 4/25 -- Training loss 0.08996676946959889, --- Val loss 0.13650284707546234, --- accuray : 0.951993875915241, --- recall : 0.9491810923856628\n",
      "Epoch : 5/25 -- Training loss 0.07856389527954565, --- Val loss 0.10553671419620514, --- accuray : 0.963097018810327, --- recall : 0.9630643585516272\n",
      "Epoch : 6/25 -- Training loss 0.06798292160561457, --- Val loss 0.10747665166854858, --- accuray : 0.9619232383802587, --- recall : 0.96058756182451\n",
      "Epoch : 7/25 -- Training loss 0.06047066954649387, --- Val loss 0.13244441151618958, --- accuray : 0.9562450514040202, --- recall : 0.9538909751480735\n",
      "save model\n",
      "Epoch : 8/25 -- Training loss 0.05787266177830333, --- Val loss 0.09363144636154175, --- accuray : 0.9676364383126599, --- recall : 0.967542208585211\n",
      "Epoch : 9/25 -- Training loss 0.05082752910056788, --- Val loss 0.20027261972427368, --- accuray : 0.9343462412684334, --- recall : 0.9305589393661843\n",
      "save model\n",
      "Epoch : 10/25 -- Training loss 0.04945205438805344, --- Val loss 0.07513660192489624, --- accuray : 0.9756198113567801, --- recall : 0.9753257617390243\n",
      "save model\n",
      "Epoch : 11/25 -- Training loss 0.0436841389113823, --- Val loss 0.08906739205121994, --- accuray : 0.9757722091707997, --- recall : 0.9757874610734567\n",
      "Epoch : 12/25 -- Training loss 0.041858438662012915, --- Val loss 0.08414985239505768, --- accuray : 0.9752439345387611, --- recall : 0.975164712706845\n",
      "Epoch : 13/25 -- Training loss 0.03754035740082683, --- Val loss 0.10186578333377838, --- accuray : 0.9702470906881864, --- recall : 0.9700664804298711\n",
      "Epoch : 14/25 -- Training loss 0.03772094963752784, --- Val loss 0.08620326966047287, --- accuray : 0.9722107631526438, --- recall : 0.9717951242596323\n",
      "save model\n",
      "Epoch : 15/25 -- Training loss 0.034139528544064116, --- Val loss 0.074400395154953, --- accuray : 0.97676042398207, --- recall : 0.9765026408988216\n",
      "Epoch : 16/25 -- Training loss 0.03468670833824554, --- Val loss 0.09848096966743469, --- accuray : 0.9706608768940435, --- recall : 0.970566037735849\n",
      "save model\n",
      "Epoch : 17/25 -- Training loss 0.03144174507049411, --- Val loss 0.07653100043535233, --- accuray : 0.9798967325349759, --- recall : 0.9799077211943579\n",
      "Epoch : 18/25 -- Training loss 0.02954963432552208, --- Val loss 0.09629014134407043, --- accuray : 0.9762091678094291, --- recall : 0.9761450509861391\n",
      "Epoch : 19/25 -- Training loss 0.025900885374123665, --- Val loss 0.1020231544971466, --- accuray : 0.9756194060932057, --- recall : 0.9755601605910729\n",
      "Epoch : 20/25 -- Training loss 0.02746258026866218, --- Val loss 0.11347738653421402, --- accuray : 0.9719086372773391, --- recall : 0.9719063320510473\n",
      "Epoch : 21/25 -- Training loss 0.027790879948901056, --- Val loss 0.0842282697558403, --- accuray : 0.9784685411121139, --- recall : 0.9782691427001282\n",
      "Epoch : 22/25 -- Training loss 0.02486679792215284, --- Val loss 0.08568739145994186, --- accuray : 0.974796302300575, --- recall : 0.9748023905477193\n",
      "Epoch : 23/25 -- Training loss 0.023689911702552854, --- Val loss 0.08334513008594513, --- accuray : 0.9766229201380678, --- recall : 0.9762990016486536\n",
      "Epoch : 24/25 -- Training loss 0.02437993354245378, --- Val loss 0.09871469438076019, --- accuray : 0.9758625091385933, --- recall : 0.9757425047322464\n",
      "Epoch : 25/25 -- Training loss 0.02405813167570159, --- Val loss 0.08282139897346497, --- accuray : 0.9778384048091981, --- recall : 0.9776913506747267\n",
      "execution time:  317.67384910583496\n",
      "Predicted     0     1\n",
      "True                 \n",
      "0          2534    41\n",
      "1            73  2471\n",
      "              precision    recall  f1-score   support\n",
      "\n",
      "           0       0.97      0.98      0.98      2575\n",
      "           1       0.98      0.97      0.98      2544\n",
      "\n",
      "    accuracy                           0.98      5119\n",
      "   macro avg       0.98      0.98      0.98      5119\n",
      "weighted avg       0.98      0.98      0.98      5119\n",
      "\n"
     ]
    },
    {
     "data": {
      "image/png": "[encoded data removed]",
      "text/plain": [
       "<Figure size 640x480 with 1 Axes>"
      ]
     },
     "metadata": {},
     "output_type": "display_data"
    }
   ],
   "source": [
    "model = cnn_type_1(80,50)\n",
    "train_a_model(model,train_loader,test_set,epochs =25,lr=1e-3,outmodelname='../models/cnn_ptbdb.pkl')\n"
   ]
  },
  {
   "cell_type": "code",
   "execution_count": 16,
   "id": "844ad56a-cc2d-41a4-b9b8-d78042451e47",
   "metadata": {},
   "outputs": [],
   "source": [
    "torch.save(model.state_dict(), '../models/CNN_binary_2datasets_20241022.pt')"
   ]
  },
  {
   "cell_type": "markdown",
   "id": "54e1b5b6-a593-4afd-bcab-e99e20bd9db5",
   "metadata": {},
   "source": [
    "## performance sur la base complete"
   ]
  },
  {
   "cell_type": "code",
   "execution_count": 17,
   "id": "8791ba2d-eaba-4ff5-a77f-1867125f7659",
   "metadata": {},
   "outputs": [
    {
     "name": "stdout",
     "output_type": "stream",
     "text": [
      "=================================================================\n",
      "Layer (type:depth-idx)                   Param #\n",
      "=================================================================\n",
      "├─Conv1d: 1-1                            960\n",
      "├─ReLU: 1-2                              --\n",
      "├─BatchNorm1d: 1-3                       160\n",
      "├─MaxPool1d: 1-4                         --\n",
      "├─Conv1d: 1-5                            44,880\n",
      "├─ReLU: 1-6                              --\n",
      "├─BatchNorm1d: 1-7                       160\n",
      "├─MaxPool1d: 1-8                         --\n",
      "├─Conv1d: 1-9                            19,280\n",
      "├─ReLU: 1-10                             --\n",
      "├─BatchNorm1d: 1-11                      160\n",
      "├─MaxPool1d: 1-12                        --\n",
      "├─Flatten: 1-13                          --\n",
      "├─Dropout: 1-14                          --\n",
      "├─Linear: 1-15                           24,050\n",
      "├─ReLU: 1-16                             --\n",
      "├─Linear: 1-17                           102\n",
      "=================================================================\n",
      "Total params: 89,752\n",
      "Trainable params: 89,752\n",
      "Non-trainable params: 0\n",
      "=================================================================\n"
     ]
    },
    {
     "data": {
      "text/plain": [
       "Sequential(\n",
       "  (0): Conv1d(1, 80, kernel_size=(11,), stride=(1,))\n",
       "  (1): ReLU()\n",
       "  (2): BatchNorm1d(80, eps=1e-05, momentum=0.1, affine=True, track_running_stats=True)\n",
       "  (3): MaxPool1d(kernel_size=5, stride=5, padding=0, dilation=1, ceil_mode=False)\n",
       "  (4): Conv1d(80, 80, kernel_size=(7,), stride=(1,))\n",
       "  (5): ReLU()\n",
       "  (6): BatchNorm1d(80, eps=1e-05, momentum=0.1, affine=True, track_running_stats=True)\n",
       "  (7): MaxPool1d(kernel_size=2, stride=2, padding=0, dilation=1, ceil_mode=False)\n",
       "  (8): Conv1d(80, 80, kernel_size=(3,), stride=(1,))\n",
       "  (9): ReLU()\n",
       "  (10): BatchNorm1d(80, eps=1e-05, momentum=0.1, affine=True, track_running_stats=True)\n",
       "  (11): MaxPool1d(kernel_size=2, stride=2, padding=0, dilation=1, ceil_mode=False)\n",
       "  (12): Flatten(start_dim=1, end_dim=-1)\n",
       "  (13): Dropout(p=0.2, inplace=False)\n",
       "  (14): Linear(in_features=480, out_features=50, bias=True)\n",
       "  (15): ReLU()\n",
       "  (16): Linear(in_features=50, out_features=2, bias=True)\n",
       ")"
      ]
     },
     "execution_count": 17,
     "metadata": {},
     "output_type": "execute_result"
    }
   ],
   "source": [
    "model = cnn_type_1(80,50)\n",
    "model.load_state_dict(torch.load('../models/CNN_binary_2datasets_20241022.pt', weights_only=True))\n",
    "model.eval()"
   ]
  },
  {
   "cell_type": "code",
   "execution_count": 18,
   "id": "1d40a8da-1c66-4b25-9fa2-09c77f22ed2a",
   "metadata": {},
   "outputs": [],
   "source": [
    "X2_1,y2_1 = load_balanced.load('../data/raw/ptbdb_abnormal.csv')\n",
    "#dataset 2 classe 0\n",
    "X2_0,y2_0 = load_balanced.load('../data/raw/ptbdb_normal.csv')\n",
    "X2 = np.concatenate((X2_1,X2_0))\n",
    "y2 = np.concatenate((y2_1,y2_0))\n",
    "X2 = np.expand_dims(X2,axis=1)\n",
    "y_true = y2"
   ]
  },
  {
   "cell_type": "code",
   "execution_count": 19,
   "id": "652621cc-0562-4b3c-976d-8a5c35b184b7",
   "metadata": {},
   "outputs": [
    {
     "name": "stdout",
     "output_type": "stream",
     "text": [
      "Predicted     0      1\n",
      "True                  \n",
      "0.0        4013     33\n",
      "1.0          30  10476\n",
      "              precision    recall  f1-score   support\n",
      "\n",
      "         0.0       0.99      0.99      0.99      4046\n",
      "         1.0       1.00      1.00      1.00     10506\n",
      "\n",
      "    accuracy                           1.00     14552\n",
      "   macro avg       0.99      0.99      0.99     14552\n",
      "weighted avg       1.00      1.00      1.00     14552\n",
      "\n"
     ]
    }
   ],
   "source": [
    "model.eval()\n",
    "\n",
    "with torch.no_grad():\n",
    "    # Prédiction du modèle pour un batch donné\n",
    "    y_pred = model(torch.from_numpy(X2).float())\n",
    "y_pred = np.argmax(y_pred.detach().numpy(),axis=1)\n",
    "y_pred[y_pred>0] = 1\n",
    "table = pd.crosstab(y_true,y_pred,rownames=['True'],colnames=['Predicted'])\n",
    "print(table)\n",
    "\n",
    "print(classification_report(y_true, y_pred))"
   ]
  },
  {
   "cell_type": "markdown",
   "id": "1da4f658-9e93-4f1a-8e1f-549f8e3144b3",
   "metadata": {},
   "source": [
    "## change the model"
   ]
  },
  {
   "cell_type": "code",
   "execution_count": 20,
   "id": "2b38d2c0-2d24-4d6a-8b6c-b75cbb7b21e1",
   "metadata": {},
   "outputs": [
    {
     "data": {
      "text/plain": [
       "Sequential(\n",
       "  (0): Conv1d(1, 80, kernel_size=(11,), stride=(1,))\n",
       "  (1): ReLU()\n",
       "  (2): BatchNorm1d(80, eps=1e-05, momentum=0.1, affine=True, track_running_stats=True)\n",
       "  (3): MaxPool1d(kernel_size=5, stride=5, padding=0, dilation=1, ceil_mode=False)\n",
       "  (4): Conv1d(80, 80, kernel_size=(7,), stride=(1,))\n",
       "  (5): ReLU()\n",
       "  (6): BatchNorm1d(80, eps=1e-05, momentum=0.1, affine=True, track_running_stats=True)\n",
       "  (7): MaxPool1d(kernel_size=2, stride=2, padding=0, dilation=1, ceil_mode=False)\n",
       "  (8): Conv1d(80, 80, kernel_size=(3,), stride=(1,))\n",
       "  (9): ReLU()\n",
       "  (10): BatchNorm1d(80, eps=1e-05, momentum=0.1, affine=True, track_running_stats=True)\n",
       "  (11): MaxPool1d(kernel_size=2, stride=2, padding=0, dilation=1, ceil_mode=False)\n",
       "  (12): Flatten(start_dim=1, end_dim=-1)\n",
       "  (13): Dropout(p=0.2, inplace=False)\n",
       "  (14): Linear(in_features=480, out_features=50, bias=True)\n",
       "  (15): ReLU()\n",
       "  (16): Linear(in_features=50, out_features=2, bias=True)\n",
       ")"
      ]
     },
     "execution_count": 20,
     "metadata": {},
     "output_type": "execute_result"
    }
   ],
   "source": [
    "model=joblib.load('../models/cnn_ptbdb.pkl')\n",
    "model.eval()"
   ]
  },
  {
   "cell_type": "code",
   "execution_count": 21,
   "id": "11ea18c3-7812-432a-a014-3af41f79f710",
   "metadata": {},
   "outputs": [],
   "source": [
    "model[16] = nn.Linear(in_features=50,out_features=5)\n"
   ]
  },
  {
   "cell_type": "markdown",
   "id": "698c170d-9fb0-4193-b4de-13c7017feaee",
   "metadata": {},
   "source": [
    "##  STEP 2 Retrain"
   ]
  },
  {
   "cell_type": "code",
   "execution_count": 22,
   "id": "5af84104-6b4e-4cf8-98bb-79b71aa057e0",
   "metadata": {},
   "outputs": [
    {
     "name": "stdout",
     "output_type": "stream",
     "text": [
      "(237500, 1, 187)\n"
     ]
    }
   ],
   "source": [
    "X_train, y_train = load_balanced.load('../data/processed/mitbih_train_smote_perturb_50000.csv')\n",
    "X_train,X_cross, y_train, y_cross = train_test_split(X_train,y_train,test_size=0.05,random_state=12)\n",
    "\n",
    "X_train =np.expand_dims(X_train,axis=1)\n",
    "X_cross =np.expand_dims(X_cross,axis=1)\n",
    "\n",
    "print(X_train.shape)\n",
    "\n",
    "train_set = TensorDataset(torch.from_numpy(X_train).float(), torch.Tensor(torch.from_numpy(y_train).long()))\n",
    "test_set = TensorDataset(torch.from_numpy(X_cross).float(), torch.Tensor(torch.from_numpy(y_cross).long()))\n",
    "\n",
    "train_loader = DataLoader(train_set, batch_size=100, shuffle=True)"
   ]
  },
  {
   "cell_type": "markdown",
   "id": "cebbe1dc-b214-4faf-b4b3-3efc72ef6dd9",
   "metadata": {},
   "source": [
    "### 1 epoch"
   ]
  },
  {
   "cell_type": "code",
   "execution_count": 23,
   "id": "2810c0f7-c6d3-419c-8a8f-015e600a35ac",
   "metadata": {},
   "outputs": [
    {
     "name": "stdout",
     "output_type": "stream",
     "text": [
      "save model\n",
      "Epoch : 1/1 -- Training loss 0.2933754746521774, --- Val loss 0.10438338667154312, --- accuray : 0.9675589452211142, --- recall : 0.9675654583043697\n",
      "execution time:  57.68812656402588\n",
      "Predicted     0     1     2     3     4\n",
      "True                                   \n",
      "0          2380    56     7    27     6\n",
      "1            62  2367    31    23     2\n",
      "2            10    14  2426    51    15\n",
      "3            10     7    47  2383     1\n",
      "4             3     9    20     3  2540\n",
      "              precision    recall  f1-score   support\n",
      "\n",
      "           0       0.97      0.96      0.96      2476\n",
      "           1       0.96      0.95      0.96      2485\n",
      "           2       0.96      0.96      0.96      2516\n",
      "           3       0.96      0.97      0.97      2448\n",
      "           4       0.99      0.99      0.99      2575\n",
      "\n",
      "    accuracy                           0.97     12500\n",
      "   macro avg       0.97      0.97      0.97     12500\n",
      "weighted avg       0.97      0.97      0.97     12500\n",
      "\n"
     ]
    },
    {
     "data": {
      "image/png": "[encoded data removed]",
      "text/plain": [
       "<Figure size 640x480 with 1 Axes>"
      ]
     },
     "metadata": {},
     "output_type": "display_data"
    }
   ],
   "source": [
    "train_a_model(model,train_loader,test_set,epochs = 1,lr=1e-4,outmodelname='../models/cnn_initiated_ptbdb_1epoch.pkl')"
   ]
  },
  {
   "cell_type": "markdown",
   "id": "94a140a3-3c4a-4ee3-9831-f07e943d6bc6",
   "metadata": {},
   "source": [
    "#### eval sur test"
   ]
  },
  {
   "cell_type": "code",
   "execution_count": 24,
   "id": "80bd2244-7eaa-445f-9d87-af1ece7983b5",
   "metadata": {},
   "outputs": [],
   "source": [
    "X_valid, y_valid = load_balanced.load('../data/raw/mitbih_test.csv')\n",
    "X_valid =np.expand_dims(X_valid,axis=1)\n",
    "\n",
    "valid_set =  TensorDataset(torch.from_numpy(X_valid).float(), torch.Tensor(torch.from_numpy(y_valid).long()))"
   ]
  },
  {
   "cell_type": "code",
   "execution_count": 25,
   "id": "c2915981-b594-4019-9b6f-99de490f6e79",
   "metadata": {},
   "outputs": [
    {
     "name": "stdout",
     "output_type": "stream",
     "text": [
      "Predicted      0    1     2    3     4\n",
      "True                                  \n",
      "0          17440  379    82  188    29\n",
      "1             65  472    12    7     0\n",
      "2             26   21  1355   38     8\n",
      "3              6    2     9  145     0\n",
      "4             11   11    15    4  1567\n",
      "              precision    recall  f1-score   support\n",
      "\n",
      "           0       0.99      0.96      0.98     18118\n",
      "           1       0.53      0.85      0.66       556\n",
      "           2       0.92      0.94      0.93      1448\n",
      "           3       0.38      0.90      0.53       162\n",
      "           4       0.98      0.97      0.98      1608\n",
      "\n",
      "    accuracy                           0.96     21892\n",
      "   macro avg       0.76      0.92      0.81     21892\n",
      "weighted avg       0.97      0.96      0.96     21892\n",
      "\n"
     ]
    }
   ],
   "source": [
    "\n",
    "y_true, y_pred, accuracy, recall, loss = evaluate_model(model, valid_set)\n",
    "table = pd.crosstab(y_true,y_pred,rownames=['True'],colnames=['Predicted'])\n",
    "print(table)\n",
    "\n",
    "print(classification_report(y_true, y_pred))"
   ]
  },
  {
   "cell_type": "markdown",
   "id": "99a80c06-d362-4ab6-9786-fe225a2bae86",
   "metadata": {},
   "source": [
    "### 2 epochs"
   ]
  },
  {
   "cell_type": "code",
   "execution_count": 26,
   "id": "9881680b-0cf0-4e73-8198-d66a72fa1f8f",
   "metadata": {},
   "outputs": [
    {
     "name": "stdout",
     "output_type": "stream",
     "text": [
      "save model\n",
      "Epoch : 1/1 -- Training loss 0.08874735430353566, --- Val loss 0.056726548820734024, --- accuray : 0.9830331475874143, --- recall : 0.9830814936723453\n",
      "execution time:  60.06142735481262\n",
      "Predicted     0     1     2     3     4\n",
      "True                                   \n",
      "0          2400    43     9    20     4\n",
      "1            35  2430     9    11     0\n",
      "2             5    11  2466    30     4\n",
      "3             4     0     7  2436     1\n",
      "4             3     5     8     2  2557\n",
      "              precision    recall  f1-score   support\n",
      "\n",
      "           0       0.98      0.97      0.98      2476\n",
      "           1       0.98      0.98      0.98      2485\n",
      "           2       0.99      0.98      0.98      2516\n",
      "           3       0.97      1.00      0.98      2448\n",
      "           4       1.00      0.99      0.99      2575\n",
      "\n",
      "    accuracy                           0.98     12500\n",
      "   macro avg       0.98      0.98      0.98     12500\n",
      "weighted avg       0.98      0.98      0.98     12500\n",
      "\n"
     ]
    },
    {
     "data": {
      "image/png": "[encoded data removed]",
      "text/plain": [
       "<Figure size 640x480 with 1 Axes>"
      ]
     },
     "metadata": {},
     "output_type": "display_data"
    }
   ],
   "source": [
    "train_a_model(model,train_loader,test_set,epochs = 1,lr=1e-4,outmodelname='../models/cnn_initiated_ptbdb_2epochs.pkl')"
   ]
  },
  {
   "cell_type": "markdown",
   "id": "4f489a9b-242d-4e31-be4c-c4ba44a5cd64",
   "metadata": {},
   "source": [
    "#### eval sur test"
   ]
  },
  {
   "cell_type": "code",
   "execution_count": 27,
   "id": "b875d561-76cf-43f4-8a4c-c0a74f05a7d4",
   "metadata": {},
   "outputs": [
    {
     "name": "stdout",
     "output_type": "stream",
     "text": [
      "Predicted      0    1     2    3     4\n",
      "True                                  \n",
      "0          17618  278    82  114    26\n",
      "1             63  476    14    3     0\n",
      "2             19   12  1374   34     9\n",
      "3              5    1    10  146     0\n",
      "4             11    3    13    1  1580\n",
      "              precision    recall  f1-score   support\n",
      "\n",
      "           0       0.99      0.97      0.98     18118\n",
      "           1       0.62      0.86      0.72       556\n",
      "           2       0.92      0.95      0.93      1448\n",
      "           3       0.49      0.90      0.63       162\n",
      "           4       0.98      0.98      0.98      1608\n",
      "\n",
      "    accuracy                           0.97     21892\n",
      "   macro avg       0.80      0.93      0.85     21892\n",
      "weighted avg       0.98      0.97      0.97     21892\n",
      "\n"
     ]
    }
   ],
   "source": [
    "y_true, y_pred, accuracy, recall, loss = evaluate_model(model, valid_set)\n",
    "table = pd.crosstab(y_true,y_pred,rownames=['True'],colnames=['Predicted'])\n",
    "print(table)\n",
    "\n",
    "print(classification_report(y_true, y_pred))"
   ]
  },
  {
   "cell_type": "markdown",
   "id": "b9bb9a7c-d4f1-44c9-91bd-43d5981bd259",
   "metadata": {},
   "source": [
    "### 7 epochs"
   ]
  },
  {
   "cell_type": "code",
   "execution_count": 28,
   "id": "f14356ed-0b03-4693-ac23-2d16aa9e7eec",
   "metadata": {},
   "outputs": [
    {
     "name": "stdout",
     "output_type": "stream",
     "text": [
      "save model\n",
      "Epoch : 1/5 -- Training loss 0.055985764622492225, --- Val loss 0.039662692695856094, --- accuray : 0.9890524919630739, --- recall : 0.9890920359126975\n",
      "save model\n",
      "Epoch : 2/5 -- Training loss 0.042332108173617405, --- Val loss 0.03213873878121376, --- accuray : 0.9910025548381103, --- recall : 0.9910230438031611\n",
      "save model\n",
      "Epoch : 3/5 -- Training loss 0.03311669957926987, --- Val loss 0.027262020856142044, --- accuray : 0.9923665830106974, --- recall : 0.9923855759467731\n",
      "save model\n",
      "Epoch : 4/5 -- Training loss 0.027738704154316923, --- Val loss 0.024044722318649292, --- accuray : 0.9931765087312645, --- recall : 0.9931887770624547\n",
      "save model\n",
      "Epoch : 5/5 -- Training loss 0.02342289064954476, --- Val loss 0.022459277883172035, --- accuray : 0.9939741672068241, --- recall : 0.9939845985754259\n",
      "execution time:  304.78851199150085\n",
      "Predicted     0     1     2     3     4\n",
      "True                                   \n",
      "0          2429    25     9    10     3\n",
      "1             6  2479     0     0     0\n",
      "2             2     0  2501    11     2\n",
      "3             0     0     0  2448     0\n",
      "4             4     0     2     1  2568\n",
      "              precision    recall  f1-score   support\n",
      "\n",
      "           0       1.00      0.98      0.99      2476\n",
      "           1       0.99      1.00      0.99      2485\n",
      "           2       1.00      0.99      0.99      2516\n",
      "           3       0.99      1.00      1.00      2448\n",
      "           4       1.00      1.00      1.00      2575\n",
      "\n",
      "    accuracy                           0.99     12500\n",
      "   macro avg       0.99      0.99      0.99     12500\n",
      "weighted avg       0.99      0.99      0.99     12500\n",
      "\n"
     ]
    },
    {
     "data": {
      "image/png": "[encoded data removed]",
      "text/plain": [
       "<Figure size 640x480 with 1 Axes>"
      ]
     },
     "metadata": {},
     "output_type": "display_data"
    }
   ],
   "source": [
    "train_a_model(model,train_loader,test_set,epochs = 5,lr=1e-4,outmodelname='../models/cnn_initiated_ptbdb_7epochs.pkl')"
   ]
  },
  {
   "cell_type": "markdown",
   "id": "c9aa556b-9bd3-44b2-8365-8f849aa6cd86",
   "metadata": {},
   "source": [
    "#### eval sur test"
   ]
  },
  {
   "cell_type": "code",
   "execution_count": 29,
   "id": "660044a3-cdc2-4e04-9c32-577f380f8be7",
   "metadata": {},
   "outputs": [
    {
     "name": "stdout",
     "output_type": "stream",
     "text": [
      "Predicted      0    1     2    3     4\n",
      "True                                  \n",
      "0          17819  177    53   48    21\n",
      "1             58  484    11    2     1\n",
      "2             27    6  1380   25    10\n",
      "3              9    1    12  140     0\n",
      "4             10    2     8    1  1587\n",
      "              precision    recall  f1-score   support\n",
      "\n",
      "           0       0.99      0.98      0.99     18118\n",
      "           1       0.72      0.87      0.79       556\n",
      "           2       0.94      0.95      0.95      1448\n",
      "           3       0.65      0.86      0.74       162\n",
      "           4       0.98      0.99      0.98      1608\n",
      "\n",
      "    accuracy                           0.98     21892\n",
      "   macro avg       0.86      0.93      0.89     21892\n",
      "weighted avg       0.98      0.98      0.98     21892\n",
      "\n"
     ]
    }
   ],
   "source": [
    "model=joblib.load('../models/cnn_initiated_ptbdb_7epochs.pkl')\n",
    "y_true, y_pred, accuracy, recall, loss = evaluate_model(model, valid_set)\n",
    "table = pd.crosstab(y_true,y_pred,rownames=['True'],colnames=['Predicted'])\n",
    "print(table)\n",
    "\n",
    "print(classification_report(y_true, y_pred))"
   ]
  },
  {
   "cell_type": "markdown",
   "id": "fb26cb59-5d81-4691-aa8e-49febd652bcb",
   "metadata": {},
   "source": [
    "### N epochs"
   ]
  },
  {
   "cell_type": "code",
   "execution_count": 30,
   "id": "175532fb-d1fd-41fe-a8fa-a63464e22671",
   "metadata": {},
   "outputs": [
    {
     "name": "stdout",
     "output_type": "stream",
     "text": [
      "save model\n",
      "Epoch : 1/20 -- Training loss 0.020303125552906604, --- Val loss 0.020222267135977745, --- accuray : 0.994698450164566, --- recall : 0.9947019684028726\n",
      "save model\n",
      "Epoch : 2/20 -- Training loss 0.018057670117123052, --- Val loss 0.01945933885872364, --- accuray : 0.9950295811899503, --- recall : 0.9950155849851156\n",
      "save model\n",
      "Epoch : 3/20 -- Training loss 0.01619519858246081, --- Val loss 0.01676103100180626, --- accuray : 0.9960734046778545, --- recall : 0.9960652839966132\n",
      "save model\n",
      "Epoch : 4/20 -- Training loss 0.014616765537813894, --- Val loss 0.01609797589480877, --- accuray : 0.9963886791281216, --- recall : 0.9963883857736728\n",
      "Epoch : 5/20 -- Training loss 0.013293405764368608, --- Val loss 0.01690574921667576, --- accuray : 0.9958475529773445, --- recall : 0.9958116098279012\n",
      "save model\n",
      "Epoch : 6/20 -- Training loss 0.011744553846417387, --- Val loss 0.014349346980452538, --- accuray : 0.9967056520853269, --- recall : 0.9967045773734862\n",
      "Epoch : 7/20 -- Training loss 0.010849957647846742, --- Val loss 0.015395299531519413, --- accuray : 0.9958378634608364, --- recall : 0.9958193149577198\n",
      "Epoch : 8/20 -- Training loss 0.010472042497167804, --- Val loss 0.015658719465136528, --- accuray : 0.9960795561043868, --- recall : 0.9960579391529574\n",
      "save model\n",
      "Epoch : 9/20 -- Training loss 0.009544716408004444, --- Val loss 0.013473989441990852, --- accuray : 0.9967941784286071, --- recall : 0.996785304888736\n",
      "Epoch : 10/20 -- Training loss 0.008546580418144769, --- Val loss 0.01381522323936224, --- accuray : 0.9967148930135268, --- recall : 0.9967001397148156\n",
      "Epoch : 11/20 -- Training loss 0.008128500418225916, --- Val loss 0.01245032250881195, --- accuray : 0.9967107453584341, --- recall : 0.9967035378030484\n",
      "Epoch : 12/20 -- Training loss 0.008037432761504438, --- Val loss 0.01417491864413023, --- accuray : 0.996633151407236, --- recall : 0.9966240465470868\n",
      "Epoch : 13/20 -- Training loss 0.007395688742543203, --- Val loss 0.013051777146756649, --- accuray : 0.996710244341859, --- recall : 0.9966967895555978\n",
      "Epoch : 14/20 -- Training loss 0.0069920293487023295, --- Val loss 0.015348531305789948, --- accuray : 0.9959154391005403, --- recall : 0.9958951982666377\n",
      "save model\n",
      "Epoch : 15/20 -- Training loss 0.0067796117485329314, --- Val loss 0.012322355061769485, --- accuray : 0.9970349613525247, --- recall : 0.9970216647566916\n",
      "Epoch : 16/20 -- Training loss 0.006093099130660687, --- Val loss 0.013677563518285751, --- accuray : 0.9967147710530572, --- recall : 0.9967006768795617\n",
      "Epoch : 17/20 -- Training loss 0.005551207399194123, --- Val loss 0.013956072740256786, --- accuray : 0.9967213769577221, --- recall : 0.9966993926912586\n",
      "Epoch : 18/20 -- Training loss 0.005882476987282739, --- Val loss 0.013819225132465363, --- accuray : 0.9967940332308849, --- recall : 0.9967749966232565\n",
      "save model\n",
      "Epoch : 19/20 -- Training loss 0.005483459010590626, --- Val loss 0.013066234067082405, --- accuray : 0.9971098521432307, --- recall : 0.9971061308360702\n",
      "Epoch : 20/20 -- Training loss 0.004969152737678853, --- Val loss 0.013200927525758743, --- accuray : 0.997044079047579, --- recall : 0.9970224944683185\n",
      "execution time:  1235.0119121074677\n",
      "Predicted     0     1     2     3     4\n",
      "True                                   \n",
      "0          2445    17     7     3     4\n",
      "1             2  2483     0     0     0\n",
      "2             0     1  2515     0     0\n",
      "3             0     0     0  2448     0\n",
      "4             2     1     0     0  2572\n",
      "              precision    recall  f1-score   support\n",
      "\n",
      "           0       1.00      0.99      0.99      2476\n",
      "           1       0.99      1.00      1.00      2485\n",
      "           2       1.00      1.00      1.00      2516\n",
      "           3       1.00      1.00      1.00      2448\n",
      "           4       1.00      1.00      1.00      2575\n",
      "\n",
      "    accuracy                           1.00     12500\n",
      "   macro avg       1.00      1.00      1.00     12500\n",
      "weighted avg       1.00      1.00      1.00     12500\n",
      "\n"
     ]
    },
    {
     "data": {
      "image/png": "[encoded data removed]",
      "text/plain": [
       "<Figure size 640x480 with 1 Axes>"
      ]
     },
     "metadata": {},
     "output_type": "display_data"
    }
   ],
   "source": [
    "train_a_model(model,train_loader,test_set,epochs = 20,lr=1e-4,outmodelname='../models/cnn_initiated_ptbdb_Nepochs.pkl')"
   ]
  },
  {
   "cell_type": "markdown",
   "id": "833bdd94-e9f1-4edc-917f-7405d4c0164b",
   "metadata": {},
   "source": [
    "#### eval sur test"
   ]
  },
  {
   "cell_type": "code",
   "execution_count": 31,
   "id": "d16e587f-6a53-4e4a-ae68-c37544957b07",
   "metadata": {},
   "outputs": [
    {
     "name": "stdout",
     "output_type": "stream",
     "text": [
      "Predicted      0    1     2    3     4\n",
      "True                                  \n",
      "0          17957   84    30   33    14\n",
      "1             78  469     5    3     1\n",
      "2             29    5  1388   20     6\n",
      "3             10    1    14  137     0\n",
      "4             12    0     6    1  1589\n",
      "              precision    recall  f1-score   support\n",
      "\n",
      "           0       0.99      0.99      0.99     18118\n",
      "           1       0.84      0.84      0.84       556\n",
      "           2       0.96      0.96      0.96      1448\n",
      "           3       0.71      0.85      0.77       162\n",
      "           4       0.99      0.99      0.99      1608\n",
      "\n",
      "    accuracy                           0.98     21892\n",
      "   macro avg       0.90      0.93      0.91     21892\n",
      "weighted avg       0.98      0.98      0.98     21892\n",
      "\n"
     ]
    }
   ],
   "source": [
    "model=joblib.load('../models/cnn_initiated_ptbdb_Nepochs.pkl')\n",
    "y_true, y_pred, accuracy, recall, loss = evaluate_model(model, valid_set)\n",
    "table = pd.crosstab(y_true,y_pred,rownames=['True'],colnames=['Predicted'])\n",
    "print(table)\n",
    "\n",
    "print(classification_report(y_true, y_pred))"
   ]
  },
  {
   "cell_type": "markdown",
   "id": "8eabe40a-3ba4-4bfb-87e7-992230c4d382",
   "metadata": {},
   "source": [
    "#### reval sur base ptbdb"
   ]
  },
  {
   "cell_type": "code",
   "execution_count": 32,
   "id": "928f0fa6-669d-4ece-ab7a-4744fc295c28",
   "metadata": {},
   "outputs": [],
   "source": [
    "X2_1,y2_1 = load_balanced.load('../data/raw/ptbdb_abnormal.csv')\n",
    "#dataset 2 classe 0\n",
    "X2_0,y2_0 = load_balanced.load('../data/raw/ptbdb_normal.csv')\n",
    "X2 = np.concatenate((X2_1,X2_0))\n",
    "y2 = np.concatenate((y2_1,y2_0))\n",
    "X2 =np.expand_dims(X2,axis=1)\n",
    "y_true = y2"
   ]
  },
  {
   "cell_type": "code",
   "execution_count": 33,
   "id": "7684e654-663c-4960-896b-ba4664a6dc42",
   "metadata": {},
   "outputs": [
    {
     "name": "stdout",
     "output_type": "stream",
     "text": [
      "Predicted     0     1\n",
      "True                 \n",
      "0.0        3931   115\n",
      "1.0        6613  3893\n",
      "              precision    recall  f1-score   support\n",
      "\n",
      "         0.0       0.37      0.97      0.54      4046\n",
      "         1.0       0.97      0.37      0.54     10506\n",
      "\n",
      "    accuracy                           0.54     14552\n",
      "   macro avg       0.67      0.67      0.54     14552\n",
      "weighted avg       0.80      0.54      0.54     14552\n",
      "\n"
     ]
    }
   ],
   "source": [
    "model.eval()\n",
    "\n",
    "with torch.no_grad():\n",
    "    # Prédiction du modèle pour un batch donné\n",
    "    y_pred = model(torch.from_numpy(X2).float())\n",
    "y_pred = np.argmax(y_pred.detach().numpy(),axis=1)\n",
    "y_pred[y_pred>0] = 1\n",
    "table = pd.crosstab(y_true,y_pred,rownames=['True'],colnames=['Predicted'])\n",
    "print(table)\n",
    "\n",
    "print(classification_report(y_true, y_pred))"
   ]
  },
  {
   "cell_type": "code",
   "execution_count": null,
   "id": "e965453c-6532-4231-8491-916ebf7b4a6d",
   "metadata": {},
   "outputs": [],
   "source": []
  }
 ],
 "metadata": {
  "kernelspec": {
   "display_name": "Python 3 (ipykernel)",
   "language": "python",
   "name": "python3"
  },
  "language_info": {
   "codemirror_mode": {
    "name": "ipython",
    "version": 3
   },
   "file_extension": ".py",
   "mimetype": "text/x-python",
   "name": "python",
   "nbconvert_exporter": "python",
   "pygments_lexer": "ipython3",
   "version": "3.9.13"
  }
 },
 "nbformat": 4,
 "nbformat_minor": 5
}
