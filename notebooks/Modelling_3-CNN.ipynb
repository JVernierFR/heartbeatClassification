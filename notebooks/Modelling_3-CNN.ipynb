{
 "cells": [
  {
   "cell_type": "markdown",
   "id": "0c408c59-80be-47e4-8ca8-f8be5dd9299a",
   "metadata": {},
   "source": [
    "# Test kernel"
   ]
  },
  {
   "cell_type": "markdown",
   "id": "06755b1c-27aa-483d-8ebf-09e52eacbcb0",
   "metadata": {},
   "source": [
    "je teste ici des modèles de CNN\n",
    "\n",
    "je vais varier principalement le kernel , (11,7,3), (7,5,3),  (5,3,3)"
   ]
  },
  {
   "cell_type": "code",
   "execution_count": 1,
   "id": "19170d7e-82d4-4427-a1aa-e1790c449ca1",
   "metadata": {},
   "outputs": [],
   "source": [
    "import os\n",
    "import sys\n",
    "sys.path.append('../src')\n",
    "import time\n",
    "\n",
    "from balance import load_balanced\n",
    "import pandas as pd\n",
    "import numpy as np\n",
    "import matplotlib.pyplot as plt\n",
    "from sklearn import preprocessing\n",
    "from sklearn.metrics import classification_report\n",
    "from sklearn.metrics import recall_score, precision_score\n",
    "\n",
    "import torch.nn as nn\n",
    "import torch\n",
    "from torch.utils.data import TensorDataset, DataLoader\n",
    "from torchsummary import summary\n",
    "from torch import optim\n",
    "from sklearn.model_selection import train_test_split\n",
    "import joblib"
   ]
  },
  {
   "cell_type": "code",
   "execution_count": 2,
   "id": "dc13f715-96e6-43b9-b9f9-b2a0fc32f9ba",
   "metadata": {},
   "outputs": [],
   "source": [
    "from tqdm.notebook import tqdm"
   ]
  },
  {
   "cell_type": "code",
   "execution_count": 25,
   "id": "bcd7ee85-2190-4145-b53d-f568159f2835",
   "metadata": {},
   "outputs": [],
   "source": [
    "import seaborn as sns"
   ]
  },
  {
   "cell_type": "markdown",
   "id": "252efe47-763b-442c-add2-82c8752ffe0a",
   "metadata": {},
   "source": [
    "## MODEL"
   ]
  },
  {
   "cell_type": "code",
   "execution_count": 3,
   "id": "b19c85b5-7cc2-47a9-a2d4-f66e2ced5512",
   "metadata": {},
   "outputs": [],
   "source": [
    "def evaluate_model(model, test_set):\n",
    "    X, y_true = test_set[:]\n",
    "   \n",
    "    model.eval()\n",
    "    criterion = nn.CrossEntropyLoss()\n",
    "    # Calcul de la fonction de perte\n",
    "    \n",
    "    with torch.no_grad():\n",
    "        # Prédiction du modèle pour un batch donné\n",
    "        y_pred = model(X)\n",
    "\n",
    "    loss_test = criterion(y_pred, y_true)\n",
    "    \n",
    "    y_pred = np.argmax(y_pred.detach().numpy(),axis=1)\n",
    "    y_true = y_true.numpy()\n",
    "    accuracy = precision_score(y_true, y_pred,average='macro')\n",
    "    recall = recall_score(y_true, y_pred,average='macro')\n",
    "    return y_true, y_pred, accuracy, recall, loss_test.item()\n",
    "    \n",
    "def train_a_model(model,train_loader,test_set,epochs = 100,lr=1e-3,device='cpu',outmodelname=None):\n",
    "\n",
    "\n",
    "  \n",
    "    \n",
    "    best_accuracy = 0\n",
    "    optimizer = optim.Adam(model.parameters(), lr)\n",
    "\n",
    "       # Définir le scheduler ReduceLROnPlateau\n",
    "    scheduler = optim.lr_scheduler.ReduceLROnPlateau(optimizer,\n",
    "                                                    mode='min',\n",
    "                                                    factor=0.5,\n",
    "                                                    patience=5,\n",
    "                                                    verbose=True)\n",
    "    # Définition de la fonction de perte\n",
    "    criterion = nn.CrossEntropyLoss()\n",
    "\n",
    "    loss_list = []\n",
    "    loss_list_test = []\n",
    "\n",
    "    accuracy_list = []\n",
    "    start = time.time()\n",
    "    \n",
    "    for epoch in range(epochs):\n",
    "        progress_bar = tqdm(\n",
    "            train_loader, desc=\"train\", leave=True, disable=False\n",
    "        )\n",
    "        # Dans ce mode certaines couches du modèle agissent différemment\n",
    "        model.train()\n",
    "        loss_total = 0\n",
    "        \n",
    "        for i, batch in enumerate(progress_bar):\n",
    "            # Batch de données\n",
    "            X_batch, y_batch = batch\n",
    "            \n",
    "            # Device\n",
    "            X_batch = X_batch.to(device)\n",
    "            y_batch = y_batch.to(device)\n",
    "            \n",
    "            # Gradient mis 0\n",
    "            model.zero_grad()\n",
    "    \n",
    "            # Calcul de prédiction\n",
    "            y_pred = model(X_batch)\n",
    "    \n",
    "            # Calcul de la fonction de perte\n",
    "            loss = criterion(y_pred, y_batch)\n",
    "    \n",
    "            # Backpropagation : calculer le gradient de la loss en fonction de chaque couche\n",
    "            loss.backward()\n",
    "            \n",
    "            # Clipper le gradient entre 0 et 1 pour plus de stabilité\n",
    "            torch.nn.utils.clip_grad_norm_(model.parameters(), max_norm=1.0)\n",
    "            \n",
    "            # Descente de gradient : actualisation des paramètres\n",
    "            optimizer.step()\n",
    "            \n",
    "            loss_total += loss.item()\n",
    "\n",
    "        y_true, y_pred, accuracy, recall, loss = evaluate_model(model, test_set)\n",
    "        if accuracy > best_accuracy and outmodelname is not None:\n",
    "            joblib.dump(model, outmodelname)\n",
    "            print('save model')\n",
    "            best_accuracy = accuracy\n",
    "        loss_list.append(loss_total/len(train_loader))\n",
    "        loss_list_test.append(loss)\n",
    "        accuracy_list.append(accuracy)\n",
    "        print(f\"Epoch : {epoch+1}/{epochs} -- Training loss {loss_total/len(train_loader)}, --- Val loss {loss}, --- accuray : {accuracy}, --- recall : {recall}\")\n",
    "    \n",
    "    end = time.time()\n",
    "    \n",
    "    print(\"execution time: \",end - start)\n",
    "    fig = plt.figure()\n",
    "    ax = fig.add_subplot()\n",
    "    ax.plot(loss_list,label='loss train')\n",
    "    ax.plot(loss_list_test,label='loss test')\n",
    "    ax.legend()\n",
    "\n",
    "    table = pd.crosstab(y_true,y_pred,rownames=['True'],colnames=['Predicted'])\n",
    "    print(table)\n",
    "\n",
    "    print(classification_report(y_true, y_pred))"
   ]
  },
  {
   "cell_type": "code",
   "execution_count": 4,
   "id": "26e1a1f5-43bf-4eb0-81ce-347970508d0c",
   "metadata": {},
   "outputs": [],
   "source": [
    "def cnn_type_1(input_shape=187,device='cpu',dropout=0.4):\n",
    "    # shape: (batch_size, n, 187)\n",
    "    model = nn.Sequential(\n",
    "        nn.Conv1d(in_channels=1, out_channels=80, kernel_size=11, stride=1, padding=0), # shape: (batch_size, n, 177)\n",
    "        nn.ReLU(),\n",
    "        nn.BatchNorm1d(num_features=80),\n",
    "        nn.MaxPool1d(2, stride=2), # shape: (batch_size, n, 88)\n",
    "        \n",
    "        nn.Conv1d(in_channels=80, out_channels=80, kernel_size=7, stride=1, padding=0), # shape: (batch_size, n, 82)\n",
    "        nn.ReLU(),\n",
    "        nn.BatchNorm1d(num_features=80),\n",
    "        nn.MaxPool1d(2, stride=2), # shape: (batch_size, n, 41)\n",
    "        \n",
    "        nn.Conv1d(in_channels=80, out_channels=80, kernel_size=3, stride=1, padding=0), # shape: (batch_size, n, 39)\n",
    "        nn.ReLU(),\n",
    "        nn.BatchNorm1d(num_features=80),\n",
    "        nn.MaxPool1d(2, stride=2), # shape: (batch_size, n, 19)\n",
    "        \n",
    "        nn.Flatten() , # shape: (batch_size, 9*n)\n",
    "        nn.Dropout(dropout),\n",
    "        nn.Linear(19*80, 50),\n",
    "        nn.ReLU(),\n",
    "        nn.Linear(50, 5),\n",
    "         #nn.Softmax(dim=-1)\n",
    "    )\n",
    "    model.to(device)\n",
    "    summary(model, input_size=(input_shape,), device=device)\n",
    "    return model\n",
    "   "
   ]
  },
  {
   "cell_type": "code",
   "execution_count": 5,
   "id": "e3ae4fbb-83d3-4054-8f74-241072bd80bf",
   "metadata": {},
   "outputs": [],
   "source": [
    "def cnn_type_2(input_shape=187,device='cpu',dropout=0.4):\n",
    "    # shape: (batch_size, n, 187)\n",
    "    model = nn.Sequential(\n",
    "        nn.Conv1d(in_channels=1, out_channels=80, kernel_size=5, stride=1, padding=0), # shape: (batch_size, n, 183)\n",
    "        nn.ReLU(),\n",
    "        nn.BatchNorm1d(num_features=80),\n",
    "        nn.MaxPool1d(2, stride=2), # shape: (batch_size, n, 91)\n",
    "        \n",
    "        nn.Conv1d(in_channels=80, out_channels=80, kernel_size=3, stride=1, padding=0), # shape: (batch_size, n, 89)\n",
    "        nn.ReLU(),\n",
    "        nn.BatchNorm1d(num_features=80),\n",
    "        nn.MaxPool1d(2, stride=2), # shape: (batch_size, n, 44)\n",
    "        \n",
    "        nn.Conv1d(in_channels=80, out_channels=80, kernel_size=3, stride=1, padding=0), # shape: (batch_size, n, 42)\n",
    "        nn.ReLU(),\n",
    "        nn.BatchNorm1d(num_features=80),\n",
    "        nn.MaxPool1d(2, stride=2), # shape: (batch_size, n, 21)\n",
    "        \n",
    "        nn.Flatten() , # shape: (batch_size, 10*n)\n",
    "        nn.Dropout(dropout),\n",
    "        nn.Linear(21*80, 50),\n",
    "        nn.ReLU(),\n",
    "        nn.Linear(50, 5),\n",
    "         #nn.Softmax(dim=-1)\n",
    "    )\n",
    "    model.to(device)\n",
    "    summary(model, input_size=(input_shape,), device=device)\n",
    "    return model\n",
    "   "
   ]
  },
  {
   "cell_type": "code",
   "execution_count": 6,
   "id": "7a8e6a07-875b-473b-a933-42f99d683c64",
   "metadata": {},
   "outputs": [],
   "source": [
    "def cnn_type_3(input_shape=187,device='cpu',dropout=0.4):\n",
    "    # shape: (batch_size, n, 187)\n",
    "    model = nn.Sequential(\n",
    "        nn.Conv1d(in_channels=1, out_channels=80, kernel_size=7, stride=1, padding=0), # shape: (batch_size, n, 181)\n",
    "        nn.ReLU(),\n",
    "        nn.BatchNorm1d(num_features=80),\n",
    "        nn.MaxPool1d(2, stride=2), # shape: (batch_size, n, 90)\n",
    "        \n",
    "        nn.Conv1d(in_channels=80, out_channels=80, kernel_size=5, stride=1, padding=0), # shape: (batch_size, n, 86)\n",
    "        nn.ReLU(),\n",
    "        nn.BatchNorm1d(num_features=80),\n",
    "        nn.MaxPool1d(2, stride=2), # shape: (batch_size, n, 43)\n",
    "        \n",
    "        nn.Conv1d(in_channels=80, out_channels=80, kernel_size=3, stride=1, padding=0), # shape: (batch_size, n, 41)\n",
    "        nn.ReLU(),\n",
    "        nn.BatchNorm1d(num_features=80),\n",
    "        nn.MaxPool1d(2, stride=2), # shape: (batch_size, n, 20)\n",
    "        \n",
    "        nn.Flatten() , # shape: (batch_size, 10*n)\n",
    "        nn.Dropout(dropout),\n",
    "        nn.Linear(20*80, 50),\n",
    "        nn.ReLU(),\n",
    "        nn.Linear(50, 5),\n",
    "         #nn.Softmax(dim=-1)\n",
    "    )\n",
    "    model.to(device)\n",
    "    summary(model, input_size=(input_shape,), device=device)\n",
    "    return model"
   ]
  },
  {
   "cell_type": "code",
   "execution_count": 7,
   "id": "8419a623-fb02-4675-b2db-4c42869a5114",
   "metadata": {},
   "outputs": [],
   "source": [
    "def cnn_type_4(input_shape=187,device='cpu',dropout=0.4):\n",
    "    # shape: (batch_size, n, 187)\n",
    "    model = nn.Sequential(\n",
    "        nn.Conv1d(in_channels=1, out_channels=32, kernel_size=5, stride=1, padding=0), # shape: (batch_size, n, 183)\n",
    "        nn.ReLU(),\n",
    "        nn.BatchNorm1d(num_features=32),\n",
    "        nn.MaxPool1d(2, stride=2), # shape: (batch_size, n, 91)\n",
    "        \n",
    "        nn.Conv1d(in_channels=32, out_channels=64, kernel_size=3, stride=1, padding=0), # shape: (batch_size, n, 89)\n",
    "        nn.ReLU(),\n",
    "        nn.BatchNorm1d(num_features=64),\n",
    "        nn.MaxPool1d(2, stride=2), # shape: (batch_size, n, 44)\n",
    "        \n",
    "        nn.Conv1d(in_channels=64, out_channels=128, kernel_size=3, stride=1, padding=0), # shape: (batch_size, n, 42)\n",
    "        nn.ReLU(),\n",
    "        nn.BatchNorm1d(num_features=128),\n",
    "        nn.MaxPool1d(2, stride=2), # shape: (batch_size, n, 21)\n",
    "        \n",
    "        nn.Flatten() , # shape: (batch_size, 10*n)\n",
    "        nn.Dropout(dropout),\n",
    "        nn.Linear(21*128, 50),\n",
    "        nn.ReLU(),\n",
    "        nn.Linear(50, 5),\n",
    "         #nn.Softmax(dim=-1)\n",
    "    )\n",
    "    model.to(device)\n",
    "    summary(model, input_size=(input_shape,), device=device)\n",
    "    return model\n",
    "   "
   ]
  },
  {
   "cell_type": "code",
   "execution_count": 8,
   "id": "aad1024d-2bea-41b8-a8f9-7c36d86d649d",
   "metadata": {},
   "outputs": [],
   "source": [
    "epochs = 50"
   ]
  },
  {
   "cell_type": "code",
   "execution_count": 9,
   "id": "5af84104-6b4e-4cf8-98bb-79b71aa057e0",
   "metadata": {},
   "outputs": [
    {
     "name": "stdout",
     "output_type": "stream",
     "text": [
      "(212500, 1, 187)\n"
     ]
    }
   ],
   "source": [
    "X_train, y_train = load_balanced.load('../data/processed/mitbih_train_smote_perturb_50000.csv')\n",
    "X_train,X_cross, y_train, y_cross = train_test_split(X_train,y_train,test_size=0.15,random_state=12)\n",
    "\n",
    "X_train =np.expand_dims(X_train,axis=1)\n",
    "X_cross =np.expand_dims(X_cross,axis=1)\n",
    "\n",
    "print(X_train.shape)\n",
    "\n",
    "train_set = TensorDataset(torch.from_numpy(X_train).float(), torch.Tensor(torch.from_numpy(y_train).long()))\n",
    "test_set = TensorDataset(torch.from_numpy(X_cross).float(), torch.Tensor(torch.from_numpy(y_cross).long()))\n",
    "\n",
    "train_loader = DataLoader(train_set, batch_size=100, shuffle=True)\n",
    "\n",
    "X_valid, y_valid = load_balanced.load('../data/raw/mitbih_test.csv')\n",
    "X_valid =np.expand_dims(X_valid,axis=1)\n",
    "\n",
    "valid_set =  TensorDataset(torch.from_numpy(X_valid).float(), torch.Tensor(torch.from_numpy(y_valid).long()))"
   ]
  },
  {
   "cell_type": "markdown",
   "id": "cebbe1dc-b214-4faf-b4b3-3efc72ef6dd9",
   "metadata": {},
   "source": [
    "## Kernels 11,7,3"
   ]
  },
  {
   "cell_type": "code",
   "execution_count": 10,
   "id": "11e20841-7676-4829-a0c0-0850f804ee96",
   "metadata": {},
   "outputs": [
    {
     "name": "stdout",
     "output_type": "stream",
     "text": [
      "=================================================================\n",
      "Layer (type:depth-idx)                   Param #\n",
      "=================================================================\n",
      "├─Conv1d: 1-1                            960\n",
      "├─ReLU: 1-2                              --\n",
      "├─BatchNorm1d: 1-3                       160\n",
      "├─MaxPool1d: 1-4                         --\n",
      "├─Conv1d: 1-5                            44,880\n",
      "├─ReLU: 1-6                              --\n",
      "├─BatchNorm1d: 1-7                       160\n",
      "├─MaxPool1d: 1-8                         --\n",
      "├─Conv1d: 1-9                            19,280\n",
      "├─ReLU: 1-10                             --\n",
      "├─BatchNorm1d: 1-11                      160\n",
      "├─MaxPool1d: 1-12                        --\n",
      "├─Flatten: 1-13                          --\n",
      "├─Dropout: 1-14                          --\n",
      "├─Linear: 1-15                           76,050\n",
      "├─ReLU: 1-16                             --\n",
      "├─Linear: 1-17                           255\n",
      "=================================================================\n",
      "Total params: 141,905\n",
      "Trainable params: 141,905\n",
      "Non-trainable params: 0\n",
      "=================================================================\n"
     ]
    }
   ],
   "source": [
    "model_1 = cnn_type_1()"
   ]
  },
  {
   "cell_type": "code",
   "execution_count": 11,
   "id": "2810c0f7-c6d3-419c-8a8f-015e600a35ac",
   "metadata": {
    "scrolled": true
   },
   "outputs": [
    {
     "name": "stderr",
     "output_type": "stream",
     "text": [
      "C:\\Users\\passage\\Documents\\perso\\TEST\\WinPython\\WPy64-31020\\scripts\\heartbeat\\lib\\site-packages\\torch\\optim\\lr_scheduler.py:62: UserWarning: The verbose parameter is deprecated. Please use get_last_lr() to access the learning rate.\n",
      "  warnings.warn(\n"
     ]
    },
    {
     "data": {
      "application/vnd.jupyter.widget-view+json": {
       "model_id": "3d90718efe7c41f98d61cc26b4ce8d19",
       "version_major": 2,
       "version_minor": 0
      },
      "text/plain": [
       "train:   0%|          | 0/2125 [00:00<?, ?it/s]"
      ]
     },
     "metadata": {},
     "output_type": "display_data"
    },
    {
     "name": "stdout",
     "output_type": "stream",
     "text": [
      "save model\n",
      "Epoch : 1/50 -- Training loss 0.15089856534626553, --- Val loss 0.06266862899065018, --- accuray : 0.9791454416255119, --- recall : 0.9787831625450151\n"
     ]
    },
    {
     "data": {
      "application/vnd.jupyter.widget-view+json": {
       "model_id": "5a9761baf915432583760921a252c8eb",
       "version_major": 2,
       "version_minor": 0
      },
      "text/plain": [
       "train:   0%|          | 0/2125 [00:00<?, ?it/s]"
      ]
     },
     "metadata": {},
     "output_type": "display_data"
    },
    {
     "name": "stdout",
     "output_type": "stream",
     "text": [
      "save model\n",
      "Epoch : 2/50 -- Training loss 0.06707583094968954, --- Val loss 0.050193533301353455, --- accuray : 0.9831093758864519, --- recall : 0.9829861656567855\n"
     ]
    },
    {
     "data": {
      "application/vnd.jupyter.widget-view+json": {
       "model_id": "d828db8533934043a3d32c63f205a060",
       "version_major": 2,
       "version_minor": 0
      },
      "text/plain": [
       "train:   0%|          | 0/2125 [00:00<?, ?it/s]"
      ]
     },
     "metadata": {},
     "output_type": "display_data"
    },
    {
     "name": "stdout",
     "output_type": "stream",
     "text": [
      "save model\n",
      "Epoch : 3/50 -- Training loss 0.05164385041572592, --- Val loss 0.03786524385213852, --- accuray : 0.9871490613370512, --- recall : 0.9870215471627605\n"
     ]
    },
    {
     "data": {
      "application/vnd.jupyter.widget-view+json": {
       "model_id": "b8de18a5fc4744e7854d231056413c26",
       "version_major": 2,
       "version_minor": 0
      },
      "text/plain": [
       "train:   0%|          | 0/2125 [00:00<?, ?it/s]"
      ]
     },
     "metadata": {},
     "output_type": "display_data"
    },
    {
     "name": "stdout",
     "output_type": "stream",
     "text": [
      "save model\n",
      "Epoch : 4/50 -- Training loss 0.04239885318095741, --- Val loss 0.031864676624536514, --- accuray : 0.9897897387911471, --- recall : 0.9897854280475358\n"
     ]
    },
    {
     "data": {
      "application/vnd.jupyter.widget-view+json": {
       "model_id": "812b7100ad4e4d36aa458e3c040837aa",
       "version_major": 2,
       "version_minor": 0
      },
      "text/plain": [
       "train:   0%|          | 0/2125 [00:00<?, ?it/s]"
      ]
     },
     "metadata": {},
     "output_type": "display_data"
    },
    {
     "name": "stdout",
     "output_type": "stream",
     "text": [
      "save model\n",
      "Epoch : 5/50 -- Training loss 0.037441758293083265, --- Val loss 0.025169694796204567, --- accuray : 0.9921451459413391, --- recall : 0.9921386477120219\n"
     ]
    },
    {
     "data": {
      "application/vnd.jupyter.widget-view+json": {
       "model_id": "e7a62e2849134ac4b5f0521568981701",
       "version_major": 2,
       "version_minor": 0
      },
      "text/plain": [
       "train:   0%|          | 0/2125 [00:00<?, ?it/s]"
      ]
     },
     "metadata": {},
     "output_type": "display_data"
    },
    {
     "name": "stdout",
     "output_type": "stream",
     "text": [
      "save model\n",
      "Epoch : 6/50 -- Training loss 0.03293132609787726, --- Val loss 0.02069910615682602, --- accuray : 0.993441123399102, --- recall : 0.9934452245538926\n"
     ]
    },
    {
     "data": {
      "application/vnd.jupyter.widget-view+json": {
       "model_id": "e5c2b7bb43644bb7839e19238a30486f",
       "version_major": 2,
       "version_minor": 0
      },
      "text/plain": [
       "train:   0%|          | 0/2125 [00:00<?, ?it/s]"
      ]
     },
     "metadata": {},
     "output_type": "display_data"
    },
    {
     "name": "stdout",
     "output_type": "stream",
     "text": [
      "Epoch : 7/50 -- Training loss 0.02955208648472805, --- Val loss 0.02085845172405243, --- accuray : 0.9933307052993914, --- recall : 0.993348220326121\n"
     ]
    },
    {
     "data": {
      "application/vnd.jupyter.widget-view+json": {
       "model_id": "4001529d1fad4cb2961af073c7e0a17f",
       "version_major": 2,
       "version_minor": 0
      },
      "text/plain": [
       "train:   0%|          | 0/2125 [00:00<?, ?it/s]"
      ]
     },
     "metadata": {},
     "output_type": "display_data"
    },
    {
     "name": "stdout",
     "output_type": "stream",
     "text": [
      "Epoch : 8/50 -- Training loss 0.02639835093355984, --- Val loss 0.025275448337197304, --- accuray : 0.9928774272784988, --- recall : 0.9928447917003567\n"
     ]
    },
    {
     "data": {
      "application/vnd.jupyter.widget-view+json": {
       "model_id": "64b860709afc4111965c003031ad01a5",
       "version_major": 2,
       "version_minor": 0
      },
      "text/plain": [
       "train:   0%|          | 0/2125 [00:00<?, ?it/s]"
      ]
     },
     "metadata": {},
     "output_type": "display_data"
    },
    {
     "name": "stdout",
     "output_type": "stream",
     "text": [
      "Epoch : 9/50 -- Training loss 0.024846773342106162, --- Val loss 0.02037491276860237, --- accuray : 0.9932760018959552, --- recall : 0.9932773904141403\n"
     ]
    },
    {
     "data": {
      "application/vnd.jupyter.widget-view+json": {
       "model_id": "c6734387d48e4c11a0ff05da76eaf158",
       "version_major": 2,
       "version_minor": 0
      },
      "text/plain": [
       "train:   0%|          | 0/2125 [00:00<?, ?it/s]"
      ]
     },
     "metadata": {},
     "output_type": "display_data"
    },
    {
     "name": "stdout",
     "output_type": "stream",
     "text": [
      "save model\n",
      "Epoch : 10/50 -- Training loss 0.023324025465291925, --- Val loss 0.01681474596261978, --- accuray : 0.9949344697477102, --- recall : 0.9949445364941687\n"
     ]
    },
    {
     "data": {
      "application/vnd.jupyter.widget-view+json": {
       "model_id": "be872aa7b59d4ca2a0932c1dae88515e",
       "version_major": 2,
       "version_minor": 0
      },
      "text/plain": [
       "train:   0%|          | 0/2125 [00:00<?, ?it/s]"
      ]
     },
     "metadata": {},
     "output_type": "display_data"
    },
    {
     "name": "stdout",
     "output_type": "stream",
     "text": [
      "Epoch : 11/50 -- Training loss 0.022486293684376185, --- Val loss 0.019755437970161438, --- accuray : 0.994408718693729, --- recall : 0.9944211500145\n"
     ]
    },
    {
     "data": {
      "application/vnd.jupyter.widget-view+json": {
       "model_id": "f731ed587a7347fe9c28b8e4877f9e36",
       "version_major": 2,
       "version_minor": 0
      },
      "text/plain": [
       "train:   0%|          | 0/2125 [00:00<?, ?it/s]"
      ]
     },
     "metadata": {},
     "output_type": "display_data"
    },
    {
     "name": "stdout",
     "output_type": "stream",
     "text": [
      "Epoch : 12/50 -- Training loss 0.02094017456406522, --- Val loss 0.017483564093708992, --- accuray : 0.9947504897365468, --- recall : 0.9947624275180791\n"
     ]
    },
    {
     "data": {
      "application/vnd.jupyter.widget-view+json": {
       "model_id": "cc701d235ebf4f96b6e6a9de6cfd1eab",
       "version_major": 2,
       "version_minor": 0
      },
      "text/plain": [
       "train:   0%|          | 0/2125 [00:00<?, ?it/s]"
      ]
     },
     "metadata": {},
     "output_type": "display_data"
    },
    {
     "name": "stdout",
     "output_type": "stream",
     "text": [
      "save model\n",
      "Epoch : 13/50 -- Training loss 0.01990823523083921, --- Val loss 0.016009323298931122, --- accuray : 0.9951466473342829, --- recall : 0.9951515657411012\n"
     ]
    },
    {
     "data": {
      "application/vnd.jupyter.widget-view+json": {
       "model_id": "0c8c9c5aae3143599608ff517e1a7472",
       "version_major": 2,
       "version_minor": 0
      },
      "text/plain": [
       "train:   0%|          | 0/2125 [00:00<?, ?it/s]"
      ]
     },
     "metadata": {},
     "output_type": "display_data"
    },
    {
     "name": "stdout",
     "output_type": "stream",
     "text": [
      "Epoch : 14/50 -- Training loss 0.01929223681216279, --- Val loss 0.018958179280161858, --- accuray : 0.994231009539482, --- recall : 0.9942326459123082\n"
     ]
    },
    {
     "data": {
      "application/vnd.jupyter.widget-view+json": {
       "model_id": "22adcca8363d49a68b0fc9c722984fcd",
       "version_major": 2,
       "version_minor": 0
      },
      "text/plain": [
       "train:   0%|          | 0/2125 [00:00<?, ?it/s]"
      ]
     },
     "metadata": {},
     "output_type": "display_data"
    },
    {
     "name": "stdout",
     "output_type": "stream",
     "text": [
      "Epoch : 15/50 -- Training loss 0.01816288795844679, --- Val loss 0.015285986475646496, --- accuray : 0.9951234602000565, --- recall : 0.9951228824220955\n"
     ]
    },
    {
     "data": {
      "application/vnd.jupyter.widget-view+json": {
       "model_id": "fbb6308cce82413e8275f322d268d060",
       "version_major": 2,
       "version_minor": 0
      },
      "text/plain": [
       "train:   0%|          | 0/2125 [00:00<?, ?it/s]"
      ]
     },
     "metadata": {},
     "output_type": "display_data"
    },
    {
     "name": "stdout",
     "output_type": "stream",
     "text": [
      "Epoch : 16/50 -- Training loss 0.017318325626208473, --- Val loss 0.017139019444584846, --- accuray : 0.9949697327372011, --- recall : 0.9949691038005408\n"
     ]
    },
    {
     "data": {
      "application/vnd.jupyter.widget-view+json": {
       "model_id": "31a382862fb84a8eaea3545953c2d888",
       "version_major": 2,
       "version_minor": 0
      },
      "text/plain": [
       "train:   0%|          | 0/2125 [00:00<?, ?it/s]"
      ]
     },
     "metadata": {},
     "output_type": "display_data"
    },
    {
     "name": "stdout",
     "output_type": "stream",
     "text": [
      "save model\n",
      "Epoch : 17/50 -- Training loss 0.016421450540195698, --- Val loss 0.015789320692420006, --- accuray : 0.9953882439285421, --- recall : 0.995393650511085\n"
     ]
    },
    {
     "data": {
      "application/vnd.jupyter.widget-view+json": {
       "model_id": "ead5fe21e5284e699a4c69a292cb95d0",
       "version_major": 2,
       "version_minor": 0
      },
      "text/plain": [
       "train:   0%|          | 0/2125 [00:00<?, ?it/s]"
      ]
     },
     "metadata": {},
     "output_type": "display_data"
    },
    {
     "name": "stdout",
     "output_type": "stream",
     "text": [
      "Epoch : 18/50 -- Training loss 0.01667215323165018, --- Val loss 0.018401436507701874, --- accuray : 0.9942529889375742, --- recall : 0.9942547408646092\n"
     ]
    },
    {
     "data": {
      "application/vnd.jupyter.widget-view+json": {
       "model_id": "436d7a14ce57447fa48077e7a66809a2",
       "version_major": 2,
       "version_minor": 0
      },
      "text/plain": [
       "train:   0%|          | 0/2125 [00:00<?, ?it/s]"
      ]
     },
     "metadata": {},
     "output_type": "display_data"
    },
    {
     "name": "stdout",
     "output_type": "stream",
     "text": [
      "save model\n",
      "Epoch : 19/50 -- Training loss 0.0159317881154232, --- Val loss 0.01375412568449974, --- accuray : 0.9957881660958426, --- recall : 0.9957947918856969\n"
     ]
    },
    {
     "data": {
      "application/vnd.jupyter.widget-view+json": {
       "model_id": "3b3096b67f514595ae2f6c29af6b5e7a",
       "version_major": 2,
       "version_minor": 0
      },
      "text/plain": [
       "train:   0%|          | 0/2125 [00:00<?, ?it/s]"
      ]
     },
     "metadata": {},
     "output_type": "display_data"
    },
    {
     "name": "stdout",
     "output_type": "stream",
     "text": [
      "save model\n",
      "Epoch : 20/50 -- Training loss 0.015402124796632801, --- Val loss 0.013532818295061588, --- accuray : 0.9965059953956548, --- recall : 0.9965194065100015\n"
     ]
    },
    {
     "data": {
      "application/vnd.jupyter.widget-view+json": {
       "model_id": "cc43e7a1204b41f7906cd5e944862915",
       "version_major": 2,
       "version_minor": 0
      },
      "text/plain": [
       "train:   0%|          | 0/2125 [00:00<?, ?it/s]"
      ]
     },
     "metadata": {},
     "output_type": "display_data"
    },
    {
     "name": "stdout",
     "output_type": "stream",
     "text": [
      "Epoch : 21/50 -- Training loss 0.01507508382242625, --- Val loss 0.014963657595217228, --- accuray : 0.9958946575562191, --- recall : 0.9959075143890452\n"
     ]
    },
    {
     "data": {
      "application/vnd.jupyter.widget-view+json": {
       "model_id": "ec4b045199e24179a2e3c8955427de21",
       "version_major": 2,
       "version_minor": 0
      },
      "text/plain": [
       "train:   0%|          | 0/2125 [00:00<?, ?it/s]"
      ]
     },
     "metadata": {},
     "output_type": "display_data"
    },
    {
     "name": "stdout",
     "output_type": "stream",
     "text": [
      "Epoch : 22/50 -- Training loss 0.013880327066927052, --- Val loss 0.014203681610524654, --- accuray : 0.9964518340441927, --- recall : 0.9964605455073393\n"
     ]
    },
    {
     "data": {
      "application/vnd.jupyter.widget-view+json": {
       "model_id": "1a476e33980545a9a59851990e251aca",
       "version_major": 2,
       "version_minor": 0
      },
      "text/plain": [
       "train:   0%|          | 0/2125 [00:00<?, ?it/s]"
      ]
     },
     "metadata": {},
     "output_type": "display_data"
    },
    {
     "name": "stdout",
     "output_type": "stream",
     "text": [
      "Epoch : 23/50 -- Training loss 0.014026104366319486, --- Val loss 0.014873120002448559, --- accuray : 0.9963449467482226, --- recall : 0.9963613470431895\n"
     ]
    },
    {
     "data": {
      "application/vnd.jupyter.widget-view+json": {
       "model_id": "b97875d48a504281a17e2ae85ca4ffa7",
       "version_major": 2,
       "version_minor": 0
      },
      "text/plain": [
       "train:   0%|          | 0/2125 [00:00<?, ?it/s]"
      ]
     },
     "metadata": {},
     "output_type": "display_data"
    },
    {
     "name": "stdout",
     "output_type": "stream",
     "text": [
      "Epoch : 24/50 -- Training loss 0.013713174160649086, --- Val loss 0.012217488139867783, --- accuray : 0.996399393975763, --- recall : 0.9964072536238027\n"
     ]
    },
    {
     "data": {
      "application/vnd.jupyter.widget-view+json": {
       "model_id": "4524fd57aecc4c93a2c69be03834348d",
       "version_major": 2,
       "version_minor": 0
      },
      "text/plain": [
       "train:   0%|          | 0/2125 [00:00<?, ?it/s]"
      ]
     },
     "metadata": {},
     "output_type": "display_data"
    },
    {
     "name": "stdout",
     "output_type": "stream",
     "text": [
      "Epoch : 25/50 -- Training loss 0.013178701615508865, --- Val loss 0.015048118308186531, --- accuray : 0.9958432124802645, --- recall : 0.9958554710609044\n"
     ]
    },
    {
     "data": {
      "application/vnd.jupyter.widget-view+json": {
       "model_id": "acef1d3829c34cb3b56e352e96ee6f24",
       "version_major": 2,
       "version_minor": 0
      },
      "text/plain": [
       "train:   0%|          | 0/2125 [00:00<?, ?it/s]"
      ]
     },
     "metadata": {},
     "output_type": "display_data"
    },
    {
     "name": "stdout",
     "output_type": "stream",
     "text": [
      "Epoch : 26/50 -- Training loss 0.011460521513864959, --- Val loss 0.01465480588376522, --- accuray : 0.9960829840179681, --- recall : 0.9960937183718197\n"
     ]
    },
    {
     "data": {
      "application/vnd.jupyter.widget-view+json": {
       "model_id": "881a105150494c35a41cc9f1ae173840",
       "version_major": 2,
       "version_minor": 0
      },
      "text/plain": [
       "train:   0%|          | 0/2125 [00:00<?, ?it/s]"
      ]
     },
     "metadata": {},
     "output_type": "display_data"
    },
    {
     "name": "stdout",
     "output_type": "stream",
     "text": [
      "Epoch : 27/50 -- Training loss 0.011861761172473693, --- Val loss 0.0156019926071167, --- accuray : 0.9961592292184301, --- recall : 0.9961743338092297\n"
     ]
    },
    {
     "data": {
      "application/vnd.jupyter.widget-view+json": {
       "model_id": "c5a54b23ac8041a689ffc5eed95d6733",
       "version_major": 2,
       "version_minor": 0
      },
      "text/plain": [
       "train:   0%|          | 0/2125 [00:00<?, ?it/s]"
      ]
     },
     "metadata": {},
     "output_type": "display_data"
    },
    {
     "name": "stdout",
     "output_type": "stream",
     "text": [
      "save model\n",
      "Epoch : 28/50 -- Training loss 0.012223451258611235, --- Val loss 0.011261249892413616, --- accuray : 0.9966352151895727, --- recall : 0.996651279700345\n"
     ]
    },
    {
     "data": {
      "application/vnd.jupyter.widget-view+json": {
       "model_id": "86a6b5c8e063464baee28252cbad933f",
       "version_major": 2,
       "version_minor": 0
      },
      "text/plain": [
       "train:   0%|          | 0/2125 [00:00<?, ?it/s]"
      ]
     },
     "metadata": {},
     "output_type": "display_data"
    },
    {
     "name": "stdout",
     "output_type": "stream",
     "text": [
      "Epoch : 29/50 -- Training loss 0.010864331686282052, --- Val loss 0.014133424498140812, --- accuray : 0.9961072435155425, --- recall : 0.9961246749558953\n"
     ]
    },
    {
     "data": {
      "application/vnd.jupyter.widget-view+json": {
       "model_id": "482cc41a0c854e7ba91a0e9dc3fcd8d0",
       "version_major": 2,
       "version_minor": 0
      },
      "text/plain": [
       "train:   0%|          | 0/2125 [00:00<?, ?it/s]"
      ]
     },
     "metadata": {},
     "output_type": "display_data"
    },
    {
     "name": "stdout",
     "output_type": "stream",
     "text": [
      "save model\n",
      "Epoch : 30/50 -- Training loss 0.011256902812361231, --- Val loss 0.011951376684010029, --- accuray : 0.9969080234534731, --- recall : 0.9969164593260041\n"
     ]
    },
    {
     "data": {
      "application/vnd.jupyter.widget-view+json": {
       "model_id": "2657ace6b281419688453c7f77bb4f5c",
       "version_major": 2,
       "version_minor": 0
      },
      "text/plain": [
       "train:   0%|          | 0/2125 [00:00<?, ?it/s]"
      ]
     },
     "metadata": {},
     "output_type": "display_data"
    },
    {
     "name": "stdout",
     "output_type": "stream",
     "text": [
      "Epoch : 31/50 -- Training loss 0.010829347033855062, --- Val loss 0.02732141874730587, --- accuray : 0.9934093928826073, --- recall : 0.9934195047628032\n"
     ]
    },
    {
     "data": {
      "application/vnd.jupyter.widget-view+json": {
       "model_id": "a8c4fb8d48a74ecab325a136d8773698",
       "version_major": 2,
       "version_minor": 0
      },
      "text/plain": [
       "train:   0%|          | 0/2125 [00:00<?, ?it/s]"
      ]
     },
     "metadata": {},
     "output_type": "display_data"
    },
    {
     "name": "stdout",
     "output_type": "stream",
     "text": [
      "Epoch : 32/50 -- Training loss 0.009711961954591114, --- Val loss 0.02429031953215599, --- accuray : 0.9940363647459165, --- recall : 0.9940246494832508\n"
     ]
    },
    {
     "data": {
      "application/vnd.jupyter.widget-view+json": {
       "model_id": "ce4a03064e2545758460088e6e07c813",
       "version_major": 2,
       "version_minor": 0
      },
      "text/plain": [
       "train:   0%|          | 0/2125 [00:00<?, ?it/s]"
      ]
     },
     "metadata": {},
     "output_type": "display_data"
    },
    {
     "name": "stdout",
     "output_type": "stream",
     "text": [
      "Epoch : 33/50 -- Training loss 0.010634795549970424, --- Val loss 0.015515893697738647, --- accuray : 0.9958712429113172, --- recall : 0.9958859816385237\n"
     ]
    },
    {
     "data": {
      "application/vnd.jupyter.widget-view+json": {
       "model_id": "8e27d500980f4e8f8f2c9ddf193ab896",
       "version_major": 2,
       "version_minor": 0
      },
      "text/plain": [
       "train:   0%|          | 0/2125 [00:00<?, ?it/s]"
      ]
     },
     "metadata": {},
     "output_type": "display_data"
    },
    {
     "name": "stdout",
     "output_type": "stream",
     "text": [
      "save model\n",
      "Epoch : 34/50 -- Training loss 0.010227243234990644, --- Val loss 0.010943355038762093, --- accuray : 0.9972520614739719, --- recall : 0.9972669658607154\n"
     ]
    },
    {
     "data": {
      "application/vnd.jupyter.widget-view+json": {
       "model_id": "a5b33b64ef94493e8bad6d611465d658",
       "version_major": 2,
       "version_minor": 0
      },
      "text/plain": [
       "train:   0%|          | 0/2125 [00:00<?, ?it/s]"
      ]
     },
     "metadata": {},
     "output_type": "display_data"
    },
    {
     "name": "stdout",
     "output_type": "stream",
     "text": [
      "save model\n",
      "Epoch : 35/50 -- Training loss 0.00941336318868247, --- Val loss 0.01107954140752554, --- accuray : 0.9973034923850671, --- recall : 0.9973176525206711\n"
     ]
    },
    {
     "data": {
      "application/vnd.jupyter.widget-view+json": {
       "model_id": "edef802539a94cadb79f476188c89f44",
       "version_major": 2,
       "version_minor": 0
      },
      "text/plain": [
       "train:   0%|          | 0/2125 [00:00<?, ?it/s]"
      ]
     },
     "metadata": {},
     "output_type": "display_data"
    },
    {
     "name": "stdout",
     "output_type": "stream",
     "text": [
      "Epoch : 36/50 -- Training loss 0.010019134137960838, --- Val loss 0.013322781771421432, --- accuray : 0.9968510947912975, --- recall : 0.9968711870787358\n"
     ]
    },
    {
     "data": {
      "application/vnd.jupyter.widget-view+json": {
       "model_id": "f82af6848bac4f409df96dbc60445bab",
       "version_major": 2,
       "version_minor": 0
      },
      "text/plain": [
       "train:   0%|          | 0/2125 [00:00<?, ?it/s]"
      ]
     },
     "metadata": {},
     "output_type": "display_data"
    },
    {
     "name": "stdout",
     "output_type": "stream",
     "text": [
      "Epoch : 37/50 -- Training loss 0.009541462973563552, --- Val loss 0.014324648305773735, --- accuray : 0.996375369026454, --- recall : 0.996393674172235\n"
     ]
    },
    {
     "data": {
      "application/vnd.jupyter.widget-view+json": {
       "model_id": "e2aefb9d37754440b6863f847d0f5fa4",
       "version_major": 2,
       "version_minor": 0
      },
      "text/plain": [
       "train:   0%|          | 0/2125 [00:00<?, ?it/s]"
      ]
     },
     "metadata": {},
     "output_type": "display_data"
    },
    {
     "name": "stdout",
     "output_type": "stream",
     "text": [
      "Epoch : 38/50 -- Training loss 0.00930209174199712, --- Val loss 0.014741969294846058, --- accuray : 0.9965314535527563, --- recall : 0.9965541976741393\n"
     ]
    },
    {
     "data": {
      "application/vnd.jupyter.widget-view+json": {
       "model_id": "1ae5bb921827496b9dd3f2dcdc44a507",
       "version_major": 2,
       "version_minor": 0
      },
      "text/plain": [
       "train:   0%|          | 0/2125 [00:00<?, ?it/s]"
      ]
     },
     "metadata": {},
     "output_type": "display_data"
    },
    {
     "name": "stdout",
     "output_type": "stream",
     "text": [
      "Epoch : 39/50 -- Training loss 0.008862498155326595, --- Val loss 0.01455435249954462, --- accuray : 0.9968516616230818, --- recall : 0.9968694118262761\n"
     ]
    },
    {
     "data": {
      "application/vnd.jupyter.widget-view+json": {
       "model_id": "fec1c2d63e344eeaa3f26842c2d9e9eb",
       "version_major": 2,
       "version_minor": 0
      },
      "text/plain": [
       "train:   0%|          | 0/2125 [00:00<?, ?it/s]"
      ]
     },
     "metadata": {},
     "output_type": "display_data"
    },
    {
     "name": "stdout",
     "output_type": "stream",
     "text": [
      "Epoch : 40/50 -- Training loss 0.008794172061524745, --- Val loss 0.01293512899428606, --- accuray : 0.9968785731876046, --- recall : 0.9968989503770885\n"
     ]
    },
    {
     "data": {
      "application/vnd.jupyter.widget-view+json": {
       "model_id": "2e7ece30643e42c184165bd46c16be5c",
       "version_major": 2,
       "version_minor": 0
      },
      "text/plain": [
       "train:   0%|          | 0/2125 [00:00<?, ?it/s]"
      ]
     },
     "metadata": {},
     "output_type": "display_data"
    },
    {
     "name": "stdout",
     "output_type": "stream",
     "text": [
      "Epoch : 41/50 -- Training loss 0.008851968520993122, --- Val loss 0.01089454349130392, --- accuray : 0.9972751473285403, --- recall : 0.9972917702401558\n"
     ]
    },
    {
     "data": {
      "application/vnd.jupyter.widget-view+json": {
       "model_id": "ffdba8cfff4d406eb83a3d51727ca299",
       "version_major": 2,
       "version_minor": 0
      },
      "text/plain": [
       "train:   0%|          | 0/2125 [00:00<?, ?it/s]"
      ]
     },
     "metadata": {},
     "output_type": "display_data"
    },
    {
     "name": "stdout",
     "output_type": "stream",
     "text": [
      "Epoch : 42/50 -- Training loss 0.008458617782533753, --- Val loss 0.012082388624548912, --- accuray : 0.9969030358186517, --- recall : 0.9969159554056951\n"
     ]
    },
    {
     "data": {
      "application/vnd.jupyter.widget-view+json": {
       "model_id": "cf020d284d6741ea841fa6d97f22c563",
       "version_major": 2,
       "version_minor": 0
      },
      "text/plain": [
       "train:   0%|          | 0/2125 [00:00<?, ?it/s]"
      ]
     },
     "metadata": {},
     "output_type": "display_data"
    },
    {
     "name": "stdout",
     "output_type": "stream",
     "text": [
      "Epoch : 43/50 -- Training loss 0.009025480536313113, --- Val loss 0.013917206786572933, --- accuray : 0.9969584622525977, --- recall : 0.9969762055392251\n"
     ]
    },
    {
     "data": {
      "application/vnd.jupyter.widget-view+json": {
       "model_id": "2496d464d16e46bc8c500b615ff2cd81",
       "version_major": 2,
       "version_minor": 0
      },
      "text/plain": [
       "train:   0%|          | 0/2125 [00:00<?, ?it/s]"
      ]
     },
     "metadata": {},
     "output_type": "display_data"
    },
    {
     "name": "stdout",
     "output_type": "stream",
     "text": [
      "save model\n",
      "Epoch : 44/50 -- Training loss 0.008364233686527448, --- Val loss 0.009669024497270584, --- accuray : 0.9977314067326363, --- recall : 0.9977431470054388\n"
     ]
    },
    {
     "data": {
      "application/vnd.jupyter.widget-view+json": {
       "model_id": "0e440f622c9a48aab4b97c76e67e1881",
       "version_major": 2,
       "version_minor": 0
      },
      "text/plain": [
       "train:   0%|          | 0/2125 [00:00<?, ?it/s]"
      ]
     },
     "metadata": {},
     "output_type": "display_data"
    },
    {
     "name": "stdout",
     "output_type": "stream",
     "text": [
      "Epoch : 45/50 -- Training loss 0.008208570194660697, --- Val loss 0.011650479398667812, --- accuray : 0.9973582035260679, --- recall : 0.9973747865901246\n"
     ]
    },
    {
     "data": {
      "application/vnd.jupyter.widget-view+json": {
       "model_id": "2e8c34505b7e4bb7988d3c1ce9a9f721",
       "version_major": 2,
       "version_minor": 0
      },
      "text/plain": [
       "train:   0%|          | 0/2125 [00:00<?, ?it/s]"
      ]
     },
     "metadata": {},
     "output_type": "display_data"
    },
    {
     "name": "stdout",
     "output_type": "stream",
     "text": [
      "save model\n",
      "Epoch : 46/50 -- Training loss 0.007731136213436163, --- Val loss 0.009583046659827232, --- accuray : 0.9977567812398931, --- recall : 0.9977712320272267\n"
     ]
    },
    {
     "data": {
      "application/vnd.jupyter.widget-view+json": {
       "model_id": "0183c9d8851a4dffb5e3ceb182681350",
       "version_major": 2,
       "version_minor": 0
      },
      "text/plain": [
       "train:   0%|          | 0/2125 [00:00<?, ?it/s]"
      ]
     },
     "metadata": {},
     "output_type": "display_data"
    },
    {
     "name": "stdout",
     "output_type": "stream",
     "text": [
      "Epoch : 47/50 -- Training loss 0.008366627125642052, --- Val loss 0.014201739802956581, --- accuray : 0.9968261386497671, --- recall : 0.9968457224922371\n"
     ]
    },
    {
     "data": {
      "application/vnd.jupyter.widget-view+json": {
       "model_id": "115fbafd9d054da5b083fdec1d1abdde",
       "version_major": 2,
       "version_minor": 0
      },
      "text/plain": [
       "train:   0%|          | 0/2125 [00:00<?, ?it/s]"
      ]
     },
     "metadata": {},
     "output_type": "display_data"
    },
    {
     "name": "stdout",
     "output_type": "stream",
     "text": [
      "Epoch : 48/50 -- Training loss 0.007703458639444333, --- Val loss 0.01433316059410572, --- accuray : 0.99696022144637, --- recall : 0.996976983476735\n"
     ]
    },
    {
     "data": {
      "application/vnd.jupyter.widget-view+json": {
       "model_id": "bb110ea7a08b47a4939220cb0dee3742",
       "version_major": 2,
       "version_minor": 0
      },
      "text/plain": [
       "train:   0%|          | 0/2125 [00:00<?, ?it/s]"
      ]
     },
     "metadata": {},
     "output_type": "display_data"
    },
    {
     "name": "stdout",
     "output_type": "stream",
     "text": [
      "Epoch : 49/50 -- Training loss 0.0075645848615925335, --- Val loss 0.011243650689721107, --- accuray : 0.9975700192219668, --- recall : 0.9975884861612105\n"
     ]
    },
    {
     "data": {
      "application/vnd.jupyter.widget-view+json": {
       "model_id": "2ddce64cc0de47a9bdc517e0b3b60de6",
       "version_major": 2,
       "version_minor": 0
      },
      "text/plain": [
       "train:   0%|          | 0/2125 [00:00<?, ?it/s]"
      ]
     },
     "metadata": {},
     "output_type": "display_data"
    },
    {
     "name": "stdout",
     "output_type": "stream",
     "text": [
      "save model\n",
      "Epoch : 50/50 -- Training loss 0.007259986570964054, --- Val loss 0.00930889043956995, --- accuray : 0.9979446487137194, --- recall : 0.997956254187006\n",
      "execution time:  5906.896674156189\n",
      "Predicted     0     1     2     3     4\n",
      "True                                   \n",
      "0          7505    25     7    16     7\n",
      "1             3  7430     1     0     0\n",
      "2             2     0  7454    11     1\n",
      "3             1     0     0  7486     0\n",
      "4             2     0     1     0  7548\n",
      "              precision    recall  f1-score   support\n",
      "\n",
      "           0       1.00      0.99      1.00      7560\n",
      "           1       1.00      1.00      1.00      7434\n",
      "           2       1.00      1.00      1.00      7468\n",
      "           3       1.00      1.00      1.00      7487\n",
      "           4       1.00      1.00      1.00      7551\n",
      "\n",
      "    accuracy                           1.00     37500\n",
      "   macro avg       1.00      1.00      1.00     37500\n",
      "weighted avg       1.00      1.00      1.00     37500\n",
      "\n"
     ]
    },
    {
     "data": {
      "image/png": "[encoded data removed]",
      "text/plain": [
       "<Figure size 640x480 with 1 Axes>"
      ]
     },
     "metadata": {},
     "output_type": "display_data"
    }
   ],
   "source": [
    "train_a_model(model_1,train_loader,test_set,epochs = epochs,lr=1e-3,outmodelname='../models/C1.pkl')"
   ]
  },
  {
   "cell_type": "code",
   "execution_count": 45,
   "id": "a3ad394e-37ea-49f5-8f19-99e540bbf014",
   "metadata": {},
   "outputs": [
    {
     "name": "stdout",
     "output_type": "stream",
     "text": [
      "              precision    recall  f1-score   support\n",
      "\n",
      "           0      0.992     0.993     0.992     18118\n",
      "           1      0.836     0.824     0.830       556\n",
      "           2      0.966     0.959     0.963      1448\n",
      "           3      0.805     0.840     0.822       162\n",
      "           4      0.993     0.992     0.993      1608\n",
      "\n",
      "    accuracy                          0.985     21892\n",
      "   macro avg      0.918     0.921     0.920     21892\n",
      "weighted avg      0.985     0.985     0.985     21892\n",
      "\n"
     ]
    },
    {
     "data": {
      "image/png": "[encoded data removed]",
      "text/plain": [
       "<Figure size 400x400 with 1 Axes>"
      ]
     },
     "metadata": {},
     "output_type": "display_data"
    }
   ],
   "source": [
    "model_1=joblib.load('../models/C1.pkl')\n",
    "y_true, y_pred, accuracy, recall, loss = evaluate_model(model_1, valid_set)\n",
    "table = pd.crosstab(y_true,y_pred,rownames=['True'],colnames=['Predicted'])\n",
    "fig = plt.figure(figsize=(4,4))\n",
    "ax = fig.add_subplot()\n",
    "\n",
    "sns.heatmap(table,cmap='Blues',annot=True,fmt='d',cbar=False,linecolor='black',ax=ax)\n",
    "ax.set_aspect('equal')\n",
    "print(classification_report(y_true, y_pred,digits=3))"
   ]
  },
  {
   "cell_type": "markdown",
   "id": "54199318-2259-4358-8425-3950aee1be5c",
   "metadata": {},
   "source": [
    "### kernels"
   ]
  },
  {
   "cell_type": "code",
   "execution_count": 61,
   "id": "2ee80d76-25b4-4893-a23e-631a70e6b5e7",
   "metadata": {},
   "outputs": [
    {
     "data": {
      "image/png": "[encoded data removed]",
      "text/plain": [
       "<Figure size 640x480 with 80 Axes>"
      ]
     },
     "metadata": {},
     "output_type": "display_data"
    }
   ],
   "source": [
    "layer1 = model_1[0]\n",
    "N = layer1.weight.shape[0]\n",
    "fig,ax = plt.subplots(nrows=10,ncols=8)\n",
    "ax =ax.flatten()\n",
    "for k in range(min(N,80)):\n",
    "    ax[k].plot(layer1.weight[k,0,:].detach().numpy())\n",
    "    ax[k].set_axis_off()\n",
    "    ax[k].set_ylim([-1.2,1.2])"
   ]
  },
  {
   "cell_type": "markdown",
   "id": "ec332de0-163c-4f80-a487-2cbde05ed101",
   "metadata": {},
   "source": [
    "## Kernels 5,3,3"
   ]
  },
  {
   "cell_type": "code",
   "execution_count": 13,
   "id": "39cef0fa-5227-4259-8444-5ce53f877db6",
   "metadata": {},
   "outputs": [
    {
     "name": "stdout",
     "output_type": "stream",
     "text": [
      "=================================================================\n",
      "Layer (type:depth-idx)                   Param #\n",
      "=================================================================\n",
      "├─Conv1d: 1-1                            480\n",
      "├─ReLU: 1-2                              --\n",
      "├─BatchNorm1d: 1-3                       160\n",
      "├─MaxPool1d: 1-4                         --\n",
      "├─Conv1d: 1-5                            19,280\n",
      "├─ReLU: 1-6                              --\n",
      "├─BatchNorm1d: 1-7                       160\n",
      "├─MaxPool1d: 1-8                         --\n",
      "├─Conv1d: 1-9                            19,280\n",
      "├─ReLU: 1-10                             --\n",
      "├─BatchNorm1d: 1-11                      160\n",
      "├─MaxPool1d: 1-12                        --\n",
      "├─Flatten: 1-13                          --\n",
      "├─Dropout: 1-14                          --\n",
      "├─Linear: 1-15                           84,050\n",
      "├─ReLU: 1-16                             --\n",
      "├─Linear: 1-17                           255\n",
      "=================================================================\n",
      "Total params: 123,825\n",
      "Trainable params: 123,825\n",
      "Non-trainable params: 0\n",
      "=================================================================\n"
     ]
    }
   ],
   "source": [
    "model_2 = cnn_type_2()"
   ]
  },
  {
   "cell_type": "code",
   "execution_count": 14,
   "id": "ad5cb2dd-8437-4f7c-b842-f54afd5b8895",
   "metadata": {},
   "outputs": [
    {
     "name": "stderr",
     "output_type": "stream",
     "text": [
      "C:\\Users\\passage\\Documents\\perso\\TEST\\WinPython\\WPy64-31020\\scripts\\heartbeat\\lib\\site-packages\\torch\\optim\\lr_scheduler.py:62: UserWarning: The verbose parameter is deprecated. Please use get_last_lr() to access the learning rate.\n",
      "  warnings.warn(\n"
     ]
    },
    {
     "data": {
      "application/vnd.jupyter.widget-view+json": {
       "model_id": "19eb4e48ffcf43678eefc491aa888995",
       "version_major": 2,
       "version_minor": 0
      },
      "text/plain": [
       "train:   0%|          | 0/2125 [00:00<?, ?it/s]"
      ]
     },
     "metadata": {},
     "output_type": "display_data"
    },
    {
     "name": "stdout",
     "output_type": "stream",
     "text": [
      "save model\n",
      "Epoch : 1/50 -- Training loss 0.1534481108793441, --- Val loss 0.062033940106630325, --- accuray : 0.977749961842498, --- recall : 0.9777294417928925\n"
     ]
    },
    {
     "data": {
      "application/vnd.jupyter.widget-view+json": {
       "model_id": "355573bbd0824ad0a1d482c56e27bafa",
       "version_major": 2,
       "version_minor": 0
      },
      "text/plain": [
       "train:   0%|          | 0/2125 [00:00<?, ?it/s]"
      ]
     },
     "metadata": {},
     "output_type": "display_data"
    },
    {
     "name": "stdout",
     "output_type": "stream",
     "text": [
      "save model\n",
      "Epoch : 2/50 -- Training loss 0.06979038357000579, --- Val loss 0.04368498548865318, --- accuray : 0.9850701617305788, --- recall : 0.9849999167134914\n"
     ]
    },
    {
     "data": {
      "application/vnd.jupyter.widget-view+json": {
       "model_id": "b67f1ef04fbb4e8c8600527804aea110",
       "version_major": 2,
       "version_minor": 0
      },
      "text/plain": [
       "train:   0%|          | 0/2125 [00:00<?, ?it/s]"
      ]
     },
     "metadata": {},
     "output_type": "display_data"
    },
    {
     "name": "stdout",
     "output_type": "stream",
     "text": [
      "save model\n",
      "Epoch : 3/50 -- Training loss 0.052432469541371304, --- Val loss 0.038951221853494644, --- accuray : 0.9870624974010347, --- recall : 0.9870256745406303\n"
     ]
    },
    {
     "data": {
      "application/vnd.jupyter.widget-view+json": {
       "model_id": "c54706e05be44c11bcd33308aa0d7e8d",
       "version_major": 2,
       "version_minor": 0
      },
      "text/plain": [
       "train:   0%|          | 0/2125 [00:00<?, ?it/s]"
      ]
     },
     "metadata": {},
     "output_type": "display_data"
    },
    {
     "name": "stdout",
     "output_type": "stream",
     "text": [
      "save model\n",
      "Epoch : 4/50 -- Training loss 0.04368795359622249, --- Val loss 0.02704278938472271, --- accuray : 0.9915772914993163, --- recall : 0.9915692077603154\n"
     ]
    },
    {
     "data": {
      "application/vnd.jupyter.widget-view+json": {
       "model_id": "2f9cee6f1fda4e45878e726486891801",
       "version_major": 2,
       "version_minor": 0
      },
      "text/plain": [
       "train:   0%|          | 0/2125 [00:00<?, ?it/s]"
      ]
     },
     "metadata": {},
     "output_type": "display_data"
    },
    {
     "name": "stdout",
     "output_type": "stream",
     "text": [
      "Epoch : 5/50 -- Training loss 0.03784884252590949, --- Val loss 0.028376685455441475, --- accuray : 0.9907940159428685, --- recall : 0.9907318841231441\n"
     ]
    },
    {
     "data": {
      "application/vnd.jupyter.widget-view+json": {
       "model_id": "52ee551e58ed42ba89c40447b53a07e7",
       "version_major": 2,
       "version_minor": 0
      },
      "text/plain": [
       "train:   0%|          | 0/2125 [00:00<?, ?it/s]"
      ]
     },
     "metadata": {},
     "output_type": "display_data"
    },
    {
     "name": "stdout",
     "output_type": "stream",
     "text": [
      "save model\n",
      "Epoch : 6/50 -- Training loss 0.0337515366890139, --- Val loss 0.02205459214746952, --- accuray : 0.9933566512941775, --- recall : 0.9933658614180818\n"
     ]
    },
    {
     "data": {
      "application/vnd.jupyter.widget-view+json": {
       "model_id": "f4cb59902e3a4e84951a2dea3696dde6",
       "version_major": 2,
       "version_minor": 0
      },
      "text/plain": [
       "train:   0%|          | 0/2125 [00:00<?, ?it/s]"
      ]
     },
     "metadata": {},
     "output_type": "display_data"
    },
    {
     "name": "stdout",
     "output_type": "stream",
     "text": [
      "Epoch : 7/50 -- Training loss 0.029659760648192948, --- Val loss 0.02690032497048378, --- accuray : 0.9914096362771059, --- recall : 0.9913466900726376\n"
     ]
    },
    {
     "data": {
      "application/vnd.jupyter.widget-view+json": {
       "model_id": "f7fdb28afd9843f28458df7df9c5be65",
       "version_major": 2,
       "version_minor": 0
      },
      "text/plain": [
       "train:   0%|          | 0/2125 [00:00<?, ?it/s]"
      ]
     },
     "metadata": {},
     "output_type": "display_data"
    },
    {
     "name": "stdout",
     "output_type": "stream",
     "text": [
      "Epoch : 8/50 -- Training loss 0.02934490203763605, --- Val loss 0.023446137085556984, --- accuray : 0.9929174478009664, --- recall : 0.992921197215767\n"
     ]
    },
    {
     "data": {
      "application/vnd.jupyter.widget-view+json": {
       "model_id": "b5133d9f5580410abfc3f22c6c4449da",
       "version_major": 2,
       "version_minor": 0
      },
      "text/plain": [
       "train:   0%|          | 0/2125 [00:00<?, ?it/s]"
      ]
     },
     "metadata": {},
     "output_type": "display_data"
    },
    {
     "name": "stdout",
     "output_type": "stream",
     "text": [
      "Epoch : 9/50 -- Training loss 0.02611258799791925, --- Val loss 0.03480219468474388, --- accuray : 0.9895100756608816, --- recall : 0.989465907993119\n"
     ]
    },
    {
     "data": {
      "application/vnd.jupyter.widget-view+json": {
       "model_id": "469e0dd18fd144358b160b0361f5a9ac",
       "version_major": 2,
       "version_minor": 0
      },
      "text/plain": [
       "train:   0%|          | 0/2125 [00:00<?, ?it/s]"
      ]
     },
     "metadata": {},
     "output_type": "display_data"
    },
    {
     "name": "stdout",
     "output_type": "stream",
     "text": [
      "save model\n",
      "Epoch : 10/50 -- Training loss 0.026204185242172304, --- Val loss 0.020153459161520004, --- accuray : 0.9936979340660642, --- recall : 0.9936980269440948\n"
     ]
    },
    {
     "data": {
      "application/vnd.jupyter.widget-view+json": {
       "model_id": "fb92098b6da74de0b8537503c6d80a37",
       "version_major": 2,
       "version_minor": 0
      },
      "text/plain": [
       "train:   0%|          | 0/2125 [00:00<?, ?it/s]"
      ]
     },
     "metadata": {},
     "output_type": "display_data"
    },
    {
     "name": "stdout",
     "output_type": "stream",
     "text": [
      "save model\n",
      "Epoch : 11/50 -- Training loss 0.02291442955794114, --- Val loss 0.01668112352490425, --- accuray : 0.9954119980437133, --- recall : 0.9954212790371709\n"
     ]
    },
    {
     "data": {
      "application/vnd.jupyter.widget-view+json": {
       "model_id": "b9efef4d3a4049c8ad1dadb8381d2181",
       "version_major": 2,
       "version_minor": 0
      },
      "text/plain": [
       "train:   0%|          | 0/2125 [00:00<?, ?it/s]"
      ]
     },
     "metadata": {},
     "output_type": "display_data"
    },
    {
     "name": "stdout",
     "output_type": "stream",
     "text": [
      "Epoch : 12/50 -- Training loss 0.02263748841359869, --- Val loss 0.021876079961657524, --- accuray : 0.9942414525864761, --- recall : 0.9942603661904672\n"
     ]
    },
    {
     "data": {
      "application/vnd.jupyter.widget-view+json": {
       "model_id": "f8256fcd1e90455699e48aa4e37f782c",
       "version_major": 2,
       "version_minor": 0
      },
      "text/plain": [
       "train:   0%|          | 0/2125 [00:00<?, ?it/s]"
      ]
     },
     "metadata": {},
     "output_type": "display_data"
    },
    {
     "name": "stdout",
     "output_type": "stream",
     "text": [
      "Epoch : 13/50 -- Training loss 0.021220804474415832, --- Val loss 0.017284637317061424, --- accuray : 0.9951948210150172, --- recall : 0.9952072253118096\n"
     ]
    },
    {
     "data": {
      "application/vnd.jupyter.widget-view+json": {
       "model_id": "333c4332b68a467e881fca997c818b4b",
       "version_major": 2,
       "version_minor": 0
      },
      "text/plain": [
       "train:   0%|          | 0/2125 [00:00<?, ?it/s]"
      ]
     },
     "metadata": {},
     "output_type": "display_data"
    },
    {
     "name": "stdout",
     "output_type": "stream",
     "text": [
      "save model\n",
      "Epoch : 14/50 -- Training loss 0.020315904333651654, --- Val loss 0.014238912612199783, --- accuray : 0.9960775322523412, --- recall : 0.9960911813608533\n"
     ]
    },
    {
     "data": {
      "application/vnd.jupyter.widget-view+json": {
       "model_id": "f99672b2d97a4520a4dde31a74153256",
       "version_major": 2,
       "version_minor": 0
      },
      "text/plain": [
       "train:   0%|          | 0/2125 [00:00<?, ?it/s]"
      ]
     },
     "metadata": {},
     "output_type": "display_data"
    },
    {
     "name": "stdout",
     "output_type": "stream",
     "text": [
      "Epoch : 15/50 -- Training loss 0.019020137241877177, --- Val loss 0.01945202611386776, --- accuray : 0.9946840643187871, --- recall : 0.9946850033909946\n"
     ]
    },
    {
     "data": {
      "application/vnd.jupyter.widget-view+json": {
       "model_id": "d7ebee05af5c4403a47d5c756da424f7",
       "version_major": 2,
       "version_minor": 0
      },
      "text/plain": [
       "train:   0%|          | 0/2125 [00:00<?, ?it/s]"
      ]
     },
     "metadata": {},
     "output_type": "display_data"
    },
    {
     "name": "stdout",
     "output_type": "stream",
     "text": [
      "Epoch : 16/50 -- Training loss 0.019224977762253462, --- Val loss 0.015056653879582882, --- accuray : 0.99570325631404, --- recall : 0.9957191290297931\n"
     ]
    },
    {
     "data": {
      "application/vnd.jupyter.widget-view+json": {
       "model_id": "dae4c504013d4a89ab4e3d4618ca6038",
       "version_major": 2,
       "version_minor": 0
      },
      "text/plain": [
       "train:   0%|          | 0/2125 [00:00<?, ?it/s]"
      ]
     },
     "metadata": {},
     "output_type": "display_data"
    },
    {
     "name": "stdout",
     "output_type": "stream",
     "text": [
      "Epoch : 17/50 -- Training loss 0.017239730017704836, --- Val loss 0.01494373008608818, --- accuray : 0.9959419760850846, --- recall : 0.995959843331843\n"
     ]
    },
    {
     "data": {
      "application/vnd.jupyter.widget-view+json": {
       "model_id": "ed6a0fd4192c4aa881fcef28e528fc82",
       "version_major": 2,
       "version_minor": 0
      },
      "text/plain": [
       "train:   0%|          | 0/2125 [00:00<?, ?it/s]"
      ]
     },
     "metadata": {},
     "output_type": "display_data"
    },
    {
     "name": "stdout",
     "output_type": "stream",
     "text": [
      "Epoch : 18/50 -- Training loss 0.01687914540058495, --- Val loss 0.02055983431637287, --- accuray : 0.9947351881275255, --- recall : 0.9947446946145622\n"
     ]
    },
    {
     "data": {
      "application/vnd.jupyter.widget-view+json": {
       "model_id": "fbb9e254c6d042b186bcd3fec32c8253",
       "version_major": 2,
       "version_minor": 0
      },
      "text/plain": [
       "train:   0%|          | 0/2125 [00:00<?, ?it/s]"
      ]
     },
     "metadata": {},
     "output_type": "display_data"
    },
    {
     "name": "stdout",
     "output_type": "stream",
     "text": [
      "Epoch : 19/50 -- Training loss 0.016953888644515674, --- Val loss 0.018104106187820435, --- accuray : 0.9954130991605004, --- recall : 0.9954290678348905\n"
     ]
    },
    {
     "data": {
      "application/vnd.jupyter.widget-view+json": {
       "model_id": "ca5840762549418b9f8957ad37ef3e08",
       "version_major": 2,
       "version_minor": 0
      },
      "text/plain": [
       "train:   0%|          | 0/2125 [00:00<?, ?it/s]"
      ]
     },
     "metadata": {},
     "output_type": "display_data"
    },
    {
     "name": "stdout",
     "output_type": "stream",
     "text": [
      "Epoch : 20/50 -- Training loss 0.016521761438264924, --- Val loss 0.020864393562078476, --- accuray : 0.9947018268359447, --- recall : 0.9947098632684392\n"
     ]
    },
    {
     "data": {
      "application/vnd.jupyter.widget-view+json": {
       "model_id": "72228d49ba6747dbb53052f79a963bce",
       "version_major": 2,
       "version_minor": 0
      },
      "text/plain": [
       "train:   0%|          | 0/2125 [00:00<?, ?it/s]"
      ]
     },
     "metadata": {},
     "output_type": "display_data"
    },
    {
     "name": "stdout",
     "output_type": "stream",
     "text": [
      "Epoch : 21/50 -- Training loss 0.016293812736398062, --- Val loss 0.015688708052039146, --- accuray : 0.9954944456578714, --- recall : 0.9954969121640957\n"
     ]
    },
    {
     "data": {
      "application/vnd.jupyter.widget-view+json": {
       "model_id": "946f8592d47b40e3a1507c2637d9d1b0",
       "version_major": 2,
       "version_minor": 0
      },
      "text/plain": [
       "train:   0%|          | 0/2125 [00:00<?, ?it/s]"
      ]
     },
     "metadata": {},
     "output_type": "display_data"
    },
    {
     "name": "stdout",
     "output_type": "stream",
     "text": [
      "Epoch : 22/50 -- Training loss 0.01590454912361961, --- Val loss 0.01732260175049305, --- accuray : 0.9953021316791612, --- recall : 0.9953159967581341\n"
     ]
    },
    {
     "data": {
      "application/vnd.jupyter.widget-view+json": {
       "model_id": "96e1a840e07f4f2a80b42deb9e3bbdc9",
       "version_major": 2,
       "version_minor": 0
      },
      "text/plain": [
       "train:   0%|          | 0/2125 [00:00<?, ?it/s]"
      ]
     },
     "metadata": {},
     "output_type": "display_data"
    },
    {
     "name": "stdout",
     "output_type": "stream",
     "text": [
      "Epoch : 23/50 -- Training loss 0.014385585575052947, --- Val loss 0.022427627816796303, --- accuray : 0.9944359541580738, --- recall : 0.9944465163369814\n"
     ]
    },
    {
     "data": {
      "application/vnd.jupyter.widget-view+json": {
       "model_id": "a09b27cd738f4c2f80ba6489e3af9dce",
       "version_major": 2,
       "version_minor": 0
      },
      "text/plain": [
       "train:   0%|          | 0/2125 [00:00<?, ?it/s]"
      ]
     },
     "metadata": {},
     "output_type": "display_data"
    },
    {
     "name": "stdout",
     "output_type": "stream",
     "text": [
      "Epoch : 24/50 -- Training loss 0.01436742725495338, --- Val loss 0.014514178037643433, --- accuray : 0.99605002494228, --- recall : 0.996063448218386\n"
     ]
    },
    {
     "data": {
      "application/vnd.jupyter.widget-view+json": {
       "model_id": "fb22af32f1e7406686ab54cdf21fab4e",
       "version_major": 2,
       "version_minor": 0
      },
      "text/plain": [
       "train:   0%|          | 0/2125 [00:00<?, ?it/s]"
      ]
     },
     "metadata": {},
     "output_type": "display_data"
    },
    {
     "name": "stdout",
     "output_type": "stream",
     "text": [
      "save model\n",
      "Epoch : 25/50 -- Training loss 0.013723691085129223, --- Val loss 0.013901077210903168, --- accuray : 0.996501476247688, --- recall : 0.9965196512615748\n"
     ]
    },
    {
     "data": {
      "application/vnd.jupyter.widget-view+json": {
       "model_id": "c2b7c600e58c4a7585535406c9641a96",
       "version_major": 2,
       "version_minor": 0
      },
      "text/plain": [
       "train:   0%|          | 0/2125 [00:00<?, ?it/s]"
      ]
     },
     "metadata": {},
     "output_type": "display_data"
    },
    {
     "name": "stdout",
     "output_type": "stream",
     "text": [
      "Epoch : 26/50 -- Training loss 0.014598761616019628, --- Val loss 0.022997897118330002, --- accuray : 0.9950206736179016, --- recall : 0.9950372693259831\n"
     ]
    },
    {
     "data": {
      "application/vnd.jupyter.widget-view+json": {
       "model_id": "5615b0354f5d4ef293ea2add0a2ec966",
       "version_major": 2,
       "version_minor": 0
      },
      "text/plain": [
       "train:   0%|          | 0/2125 [00:00<?, ?it/s]"
      ]
     },
     "metadata": {},
     "output_type": "display_data"
    },
    {
     "name": "stdout",
     "output_type": "stream",
     "text": [
      "save model\n",
      "Epoch : 27/50 -- Training loss 0.013207351305272074, --- Val loss 0.013742075301706791, --- accuray : 0.9965275851112343, --- recall : 0.9965458091352165\n"
     ]
    },
    {
     "data": {
      "application/vnd.jupyter.widget-view+json": {
       "model_id": "f2c8e917a947487cbd53428fcb875bea",
       "version_major": 2,
       "version_minor": 0
      },
      "text/plain": [
       "train:   0%|          | 0/2125 [00:00<?, ?it/s]"
      ]
     },
     "metadata": {},
     "output_type": "display_data"
    },
    {
     "name": "stdout",
     "output_type": "stream",
     "text": [
      "Epoch : 28/50 -- Training loss 0.013139213653326699, --- Val loss 0.023775501176714897, --- accuray : 0.9948933369495843, --- recall : 0.9949082632660564\n"
     ]
    },
    {
     "data": {
      "application/vnd.jupyter.widget-view+json": {
       "model_id": "799b00658dc0404a90d76eea1369bfb4",
       "version_major": 2,
       "version_minor": 0
      },
      "text/plain": [
       "train:   0%|          | 0/2125 [00:00<?, ?it/s]"
      ]
     },
     "metadata": {},
     "output_type": "display_data"
    },
    {
     "name": "stdout",
     "output_type": "stream",
     "text": [
      "Epoch : 29/50 -- Training loss 0.012474969341322055, --- Val loss 0.015345102176070213, --- accuray : 0.996395707034656, --- recall : 0.9964160969602608\n"
     ]
    },
    {
     "data": {
      "application/vnd.jupyter.widget-view+json": {
       "model_id": "a33e357611984c99957fc46f1809a361",
       "version_major": 2,
       "version_minor": 0
      },
      "text/plain": [
       "train:   0%|          | 0/2125 [00:00<?, ?it/s]"
      ]
     },
     "metadata": {},
     "output_type": "display_data"
    },
    {
     "name": "stdout",
     "output_type": "stream",
     "text": [
      "Epoch : 30/50 -- Training loss 0.012824548894592547, --- Val loss 0.021918823942542076, --- accuray : 0.994634517034237, --- recall : 0.9946392591501201\n"
     ]
    },
    {
     "data": {
      "application/vnd.jupyter.widget-view+json": {
       "model_id": "c22613e22b8c445285148fadcbba0cc7",
       "version_major": 2,
       "version_minor": 0
      },
      "text/plain": [
       "train:   0%|          | 0/2125 [00:00<?, ?it/s]"
      ]
     },
     "metadata": {},
     "output_type": "display_data"
    },
    {
     "name": "stdout",
     "output_type": "stream",
     "text": [
      "save model\n",
      "Epoch : 31/50 -- Training loss 0.011760260423384726, --- Val loss 0.012208468280732632, --- accuray : 0.9970645314162443, --- recall : 0.9970805765478913\n"
     ]
    },
    {
     "data": {
      "application/vnd.jupyter.widget-view+json": {
       "model_id": "7b1486059c9f42beb0277cc63ef2631c",
       "version_major": 2,
       "version_minor": 0
      },
      "text/plain": [
       "train:   0%|          | 0/2125 [00:00<?, ?it/s]"
      ]
     },
     "metadata": {},
     "output_type": "display_data"
    },
    {
     "name": "stdout",
     "output_type": "stream",
     "text": [
      "Epoch : 32/50 -- Training loss 0.011989918511088035, --- Val loss 0.01380816102027893, --- accuray : 0.9967184855329883, --- recall : 0.9967304044600074\n"
     ]
    },
    {
     "data": {
      "application/vnd.jupyter.widget-view+json": {
       "model_id": "005265832ae74d94bfa21cc9dee2a74c",
       "version_major": 2,
       "version_minor": 0
      },
      "text/plain": [
       "train:   0%|          | 0/2125 [00:00<?, ?it/s]"
      ]
     },
     "metadata": {},
     "output_type": "display_data"
    },
    {
     "name": "stdout",
     "output_type": "stream",
     "text": [
      "Epoch : 33/50 -- Training loss 0.01140670147650406, --- Val loss 0.015603406354784966, --- accuray : 0.9961297289022356, --- recall : 0.9961457233526504\n"
     ]
    },
    {
     "data": {
      "application/vnd.jupyter.widget-view+json": {
       "model_id": "8e76b1bf0bc844b2a99bff3c24156caa",
       "version_major": 2,
       "version_minor": 0
      },
      "text/plain": [
       "train:   0%|          | 0/2125 [00:00<?, ?it/s]"
      ]
     },
     "metadata": {},
     "output_type": "display_data"
    },
    {
     "name": "stdout",
     "output_type": "stream",
     "text": [
      "Epoch : 34/50 -- Training loss 0.011353453709627502, --- Val loss 0.011583149433135986, --- accuray : 0.9970609641394714, --- recall : 0.9970763160274838\n"
     ]
    },
    {
     "data": {
      "application/vnd.jupyter.widget-view+json": {
       "model_id": "bf521ea892f242c798aec682a7cda2df",
       "version_major": 2,
       "version_minor": 0
      },
      "text/plain": [
       "train:   0%|          | 0/2125 [00:00<?, ?it/s]"
      ]
     },
     "metadata": {},
     "output_type": "display_data"
    },
    {
     "name": "stdout",
     "output_type": "stream",
     "text": [
      "Epoch : 35/50 -- Training loss 0.011283051011967473, --- Val loss 0.01549142599105835, --- accuray : 0.9957093494265681, --- recall : 0.9957167677632395\n"
     ]
    },
    {
     "data": {
      "application/vnd.jupyter.widget-view+json": {
       "model_id": "345b87f0be7f4722b5a1a0922787a58b",
       "version_major": 2,
       "version_minor": 0
      },
      "text/plain": [
       "train:   0%|          | 0/2125 [00:00<?, ?it/s]"
      ]
     },
     "metadata": {},
     "output_type": "display_data"
    },
    {
     "name": "stdout",
     "output_type": "stream",
     "text": [
      "Epoch : 36/50 -- Training loss 0.010363475948768288, --- Val loss 0.014324941672384739, --- accuray : 0.9967703141170775, --- recall : 0.9967919156587695\n"
     ]
    },
    {
     "data": {
      "application/vnd.jupyter.widget-view+json": {
       "model_id": "1f1cd5368eef45babefa62b77bfaba44",
       "version_major": 2,
       "version_minor": 0
      },
      "text/plain": [
       "train:   0%|          | 0/2125 [00:00<?, ?it/s]"
      ]
     },
     "metadata": {},
     "output_type": "display_data"
    },
    {
     "name": "stdout",
     "output_type": "stream",
     "text": [
      "Epoch : 37/50 -- Training loss 0.010287563960658564, --- Val loss 0.020544040948152542, --- accuray : 0.9952845646744916, --- recall : 0.9953062203958204\n"
     ]
    },
    {
     "data": {
      "application/vnd.jupyter.widget-view+json": {
       "model_id": "04e23a5362fb437687cf28c457db984e",
       "version_major": 2,
       "version_minor": 0
      },
      "text/plain": [
       "train:   0%|          | 0/2125 [00:00<?, ?it/s]"
      ]
     },
     "metadata": {},
     "output_type": "display_data"
    },
    {
     "name": "stdout",
     "output_type": "stream",
     "text": [
      "Epoch : 38/50 -- Training loss 0.010526582692594329, --- Val loss 0.014445984736084938, --- accuray : 0.9964794146682117, --- recall : 0.9964988505405925\n"
     ]
    },
    {
     "data": {
      "application/vnd.jupyter.widget-view+json": {
       "model_id": "7383d810d4be4097a1e320abb1f7dd72",
       "version_major": 2,
       "version_minor": 0
      },
      "text/plain": [
       "train:   0%|          | 0/2125 [00:00<?, ?it/s]"
      ]
     },
     "metadata": {},
     "output_type": "display_data"
    },
    {
     "name": "stdout",
     "output_type": "stream",
     "text": [
      "Epoch : 39/50 -- Training loss 0.010563911298795895, --- Val loss 0.018335245549678802, --- accuray : 0.995840305076652, --- recall : 0.995859402973918\n"
     ]
    },
    {
     "data": {
      "application/vnd.jupyter.widget-view+json": {
       "model_id": "1ae555be07d44435915e5677cfec4be1",
       "version_major": 2,
       "version_minor": 0
      },
      "text/plain": [
       "train:   0%|          | 0/2125 [00:00<?, ?it/s]"
      ]
     },
     "metadata": {},
     "output_type": "display_data"
    },
    {
     "name": "stdout",
     "output_type": "stream",
     "text": [
      "Epoch : 40/50 -- Training loss 0.0089213234961735, --- Val loss 0.03030255250632763, --- accuray : 0.9940217496068545, --- recall : 0.994037282286347\n"
     ]
    },
    {
     "data": {
      "application/vnd.jupyter.widget-view+json": {
       "model_id": "44382f50d7394037baec0ba274089a21",
       "version_major": 2,
       "version_minor": 0
      },
      "text/plain": [
       "train:   0%|          | 0/2125 [00:00<?, ?it/s]"
      ]
     },
     "metadata": {},
     "output_type": "display_data"
    },
    {
     "name": "stdout",
     "output_type": "stream",
     "text": [
      "Epoch : 41/50 -- Training loss 0.009293384651932336, --- Val loss 0.015255436301231384, --- accuray : 0.9969048959533431, --- recall : 0.9969198545248193\n"
     ]
    },
    {
     "data": {
      "application/vnd.jupyter.widget-view+json": {
       "model_id": "2bf31beabf4d4ab69ad7bc631685b1db",
       "version_major": 2,
       "version_minor": 0
      },
      "text/plain": [
       "train:   0%|          | 0/2125 [00:00<?, ?it/s]"
      ]
     },
     "metadata": {},
     "output_type": "display_data"
    },
    {
     "name": "stdout",
     "output_type": "stream",
     "text": [
      "Epoch : 42/50 -- Training loss 0.010028985040323759, --- Val loss 0.01382053829729557, --- accuray : 0.9969346418009923, --- recall : 0.9969412738270613\n"
     ]
    },
    {
     "data": {
      "application/vnd.jupyter.widget-view+json": {
       "model_id": "8c7cfaea222c4b799360903d895b816e",
       "version_major": 2,
       "version_minor": 0
      },
      "text/plain": [
       "train:   0%|          | 0/2125 [00:00<?, ?it/s]"
      ]
     },
     "metadata": {},
     "output_type": "display_data"
    },
    {
     "name": "stdout",
     "output_type": "stream",
     "text": [
      "save model\n",
      "Epoch : 43/50 -- Training loss 0.009029140103886595, --- Val loss 0.011505513451993465, --- accuray : 0.997461188849981, --- recall : 0.9974749240328389\n"
     ]
    },
    {
     "data": {
      "application/vnd.jupyter.widget-view+json": {
       "model_id": "87170929aafd4f9f981fc5d702186ba7",
       "version_major": 2,
       "version_minor": 0
      },
      "text/plain": [
       "train:   0%|          | 0/2125 [00:00<?, ?it/s]"
      ]
     },
     "metadata": {},
     "output_type": "display_data"
    },
    {
     "name": "stdout",
     "output_type": "stream",
     "text": [
      "Epoch : 44/50 -- Training loss 0.008926298138778774, --- Val loss 0.01027393527328968, --- accuray : 0.9974360982704764, --- recall : 0.9974527439031451\n"
     ]
    },
    {
     "data": {
      "application/vnd.jupyter.widget-view+json": {
       "model_id": "aae230d4ee634b3ca1d1616031fd50f6",
       "version_major": 2,
       "version_minor": 0
      },
      "text/plain": [
       "train:   0%|          | 0/2125 [00:00<?, ?it/s]"
      ]
     },
     "metadata": {},
     "output_type": "display_data"
    },
    {
     "name": "stdout",
     "output_type": "stream",
     "text": [
      "save model\n",
      "Epoch : 45/50 -- Training loss 0.00866605755902428, --- Val loss 0.00978807732462883, --- accuray : 0.9979156319351216, --- recall : 0.9979291373323738\n"
     ]
    },
    {
     "data": {
      "application/vnd.jupyter.widget-view+json": {
       "model_id": "f9e6f87dc05e4719b7f0cf8759e95e94",
       "version_major": 2,
       "version_minor": 0
      },
      "text/plain": [
       "train:   0%|          | 0/2125 [00:00<?, ?it/s]"
      ]
     },
     "metadata": {},
     "output_type": "display_data"
    },
    {
     "name": "stdout",
     "output_type": "stream",
     "text": [
      "Epoch : 46/50 -- Training loss 0.008514806425266322, --- Val loss 0.012326433323323727, --- accuray : 0.9971744761901811, --- recall : 0.9971800570576281\n"
     ]
    },
    {
     "data": {
      "application/vnd.jupyter.widget-view+json": {
       "model_id": "14dcf26586604cf1a02e3c6f8607176e",
       "version_major": 2,
       "version_minor": 0
      },
      "text/plain": [
       "train:   0%|          | 0/2125 [00:00<?, ?it/s]"
      ]
     },
     "metadata": {},
     "output_type": "display_data"
    },
    {
     "name": "stdout",
     "output_type": "stream",
     "text": [
      "Epoch : 47/50 -- Training loss 0.009213043946461098, --- Val loss 0.00961906649172306, --- accuray : 0.9975952410398484, --- recall : 0.9976094144844883\n"
     ]
    },
    {
     "data": {
      "application/vnd.jupyter.widget-view+json": {
       "model_id": "e1d04c4153aa421f9b741d65804116fe",
       "version_major": 2,
       "version_minor": 0
      },
      "text/plain": [
       "train:   0%|          | 0/2125 [00:00<?, ?it/s]"
      ]
     },
     "metadata": {},
     "output_type": "display_data"
    },
    {
     "name": "stdout",
     "output_type": "stream",
     "text": [
      "Epoch : 48/50 -- Training loss 0.0082538388126737, --- Val loss 0.01575675792992115, --- accuray : 0.9966908808294839, --- recall : 0.9967081935932433\n"
     ]
    },
    {
     "data": {
      "application/vnd.jupyter.widget-view+json": {
       "model_id": "2b1600ab15054f8db628d0d53a38f38e",
       "version_major": 2,
       "version_minor": 0
      },
      "text/plain": [
       "train:   0%|          | 0/2125 [00:00<?, ?it/s]"
      ]
     },
     "metadata": {},
     "output_type": "display_data"
    },
    {
     "name": "stdout",
     "output_type": "stream",
     "text": [
      "Epoch : 49/50 -- Training loss 0.00835924985292053, --- Val loss 0.012338959611952305, --- accuray : 0.9972489819005256, --- recall : 0.9972667159916039\n"
     ]
    },
    {
     "data": {
      "application/vnd.jupyter.widget-view+json": {
       "model_id": "73bb46b104ef46bf9224d6639d22d33a",
       "version_major": 2,
       "version_minor": 0
      },
      "text/plain": [
       "train:   0%|          | 0/2125 [00:00<?, ?it/s]"
      ]
     },
     "metadata": {},
     "output_type": "display_data"
    },
    {
     "name": "stdout",
     "output_type": "stream",
     "text": [
      "Epoch : 50/50 -- Training loss 0.008822395285161827, --- Val loss 0.012150758877396584, --- accuray : 0.9973028796011671, --- recall : 0.997321469945471\n",
      "execution time:  4956.9064247608185\n",
      "Predicted     0     1     2     3     4\n",
      "True                                   \n",
      "0          7482    45    16     8     9\n",
      "1             2  7431     1     0     0\n",
      "2             0     4  7457     7     0\n",
      "3             5     0     1  7481     0\n",
      "4             3     0     0     0  7548\n",
      "              precision    recall  f1-score   support\n",
      "\n",
      "           0       1.00      0.99      0.99      7560\n",
      "           1       0.99      1.00      1.00      7434\n",
      "           2       1.00      1.00      1.00      7468\n",
      "           3       1.00      1.00      1.00      7487\n",
      "           4       1.00      1.00      1.00      7551\n",
      "\n",
      "    accuracy                           1.00     37500\n",
      "   macro avg       1.00      1.00      1.00     37500\n",
      "weighted avg       1.00      1.00      1.00     37500\n",
      "\n"
     ]
    },
    {
     "data": {
      "image/png": "[encoded data removed]",
      "text/plain": [
       "<Figure size 640x480 with 1 Axes>"
      ]
     },
     "metadata": {},
     "output_type": "display_data"
    }
   ],
   "source": [
    "train_a_model(model_2,train_loader,test_set,epochs = epochs,lr=1e-3,outmodelname='../models/C2.pkl')"
   ]
  },
  {
   "cell_type": "code",
   "execution_count": 52,
   "id": "bdd907e9-4a74-4b73-b45c-4050bc7d80cf",
   "metadata": {},
   "outputs": [
    {
     "name": "stdout",
     "output_type": "stream",
     "text": [
      "              precision    recall  f1-score   support\n",
      "\n",
      "           0      0.993     0.993     0.993     18118\n",
      "           1      0.852     0.831     0.842       556\n",
      "           2      0.973     0.957     0.965      1448\n",
      "           3      0.783     0.846     0.813       162\n",
      "           4      0.989     0.994     0.992      1608\n",
      "\n",
      "    accuracy                          0.986     21892\n",
      "   macro avg      0.918     0.924     0.921     21892\n",
      "weighted avg      0.986     0.986     0.986     21892\n",
      "\n"
     ]
    },
    {
     "data": {
      "image/png": "[encoded data removed]",
      "text/plain": [
       "<Figure size 400x400 with 1 Axes>"
      ]
     },
     "metadata": {},
     "output_type": "display_data"
    }
   ],
   "source": [
    "model_2=joblib.load('../models/C2.pkl')\n",
    "\n",
    "y_true, y_pred, accuracy, recall, loss = evaluate_model(model_2, valid_set)\n",
    "table = pd.crosstab(y_true,y_pred,rownames=['True'],colnames=['Predicted'])\n",
    "fig = plt.figure(figsize=(4,4))\n",
    "ax = fig.add_subplot()\n",
    "\n",
    "sns.heatmap(table,cmap='Blues',annot=True,fmt='d',cbar=False,linecolor='black',ax=ax)\n",
    "ax.set_aspect('equal')\n",
    "print(classification_report(y_true, y_pred,digits=3))"
   ]
  },
  {
   "cell_type": "code",
   "execution_count": 62,
   "id": "25cda0b3-0fd2-4999-bb0a-ceed63b996fb",
   "metadata": {},
   "outputs": [
    {
     "data": {
      "image/png": "[encoded data removed]",
      "text/plain": [
       "<Figure size 640x480 with 80 Axes>"
      ]
     },
     "metadata": {},
     "output_type": "display_data"
    }
   ],
   "source": [
    "layer1 = model_2[0]\n",
    "N = layer1.weight.shape[0]\n",
    "fig,ax = plt.subplots(nrows=10,ncols=8)\n",
    "ax =ax.flatten()\n",
    "for k in range(min(N,80)):\n",
    "    ax[k].plot(layer1.weight[k,0,:].detach().numpy())\n",
    "    ax[k].set_axis_off()\n",
    "    ax[k].set_ylim([-1.2,1.2])"
   ]
  },
  {
   "cell_type": "markdown",
   "id": "70e86080-05b3-472f-b981-235b78faa090",
   "metadata": {},
   "source": [
    "## Kernels 7,5,3"
   ]
  },
  {
   "cell_type": "code",
   "execution_count": 16,
   "id": "60d50046-d1c3-4c6a-8600-90f771737319",
   "metadata": {},
   "outputs": [
    {
     "name": "stdout",
     "output_type": "stream",
     "text": [
      "=================================================================\n",
      "Layer (type:depth-idx)                   Param #\n",
      "=================================================================\n",
      "├─Conv1d: 1-1                            640\n",
      "├─ReLU: 1-2                              --\n",
      "├─BatchNorm1d: 1-3                       160\n",
      "├─MaxPool1d: 1-4                         --\n",
      "├─Conv1d: 1-5                            32,080\n",
      "├─ReLU: 1-6                              --\n",
      "├─BatchNorm1d: 1-7                       160\n",
      "├─MaxPool1d: 1-8                         --\n",
      "├─Conv1d: 1-9                            19,280\n",
      "├─ReLU: 1-10                             --\n",
      "├─BatchNorm1d: 1-11                      160\n",
      "├─MaxPool1d: 1-12                        --\n",
      "├─Flatten: 1-13                          --\n",
      "├─Dropout: 1-14                          --\n",
      "├─Linear: 1-15                           80,050\n",
      "├─ReLU: 1-16                             --\n",
      "├─Linear: 1-17                           255\n",
      "=================================================================\n",
      "Total params: 132,785\n",
      "Trainable params: 132,785\n",
      "Non-trainable params: 0\n",
      "=================================================================\n"
     ]
    }
   ],
   "source": [
    "model_3 = cnn_type_3()"
   ]
  },
  {
   "cell_type": "code",
   "execution_count": 17,
   "id": "9323cab1-1540-4d2b-bf9b-d138ce4f8b90",
   "metadata": {},
   "outputs": [
    {
     "name": "stderr",
     "output_type": "stream",
     "text": [
      "C:\\Users\\passage\\Documents\\perso\\TEST\\WinPython\\WPy64-31020\\scripts\\heartbeat\\lib\\site-packages\\torch\\optim\\lr_scheduler.py:62: UserWarning: The verbose parameter is deprecated. Please use get_last_lr() to access the learning rate.\n",
      "  warnings.warn(\n"
     ]
    },
    {
     "data": {
      "application/vnd.jupyter.widget-view+json": {
       "model_id": "a38b122d080541898ef5812377f21c0b",
       "version_major": 2,
       "version_minor": 0
      },
      "text/plain": [
       "train:   0%|          | 0/2125 [00:00<?, ?it/s]"
      ]
     },
     "metadata": {},
     "output_type": "display_data"
    },
    {
     "name": "stdout",
     "output_type": "stream",
     "text": [
      "save model\n",
      "Epoch : 1/50 -- Training loss 0.1512589859511046, --- Val loss 0.06367692351341248, --- accuray : 0.9790058991044959, --- recall : 0.9788825671539113\n"
     ]
    },
    {
     "data": {
      "application/vnd.jupyter.widget-view+json": {
       "model_id": "9eee7fefd25f4e9ea086eb73df544b56",
       "version_major": 2,
       "version_minor": 0
      },
      "text/plain": [
       "train:   0%|          | 0/2125 [00:00<?, ?it/s]"
      ]
     },
     "metadata": {},
     "output_type": "display_data"
    },
    {
     "name": "stdout",
     "output_type": "stream",
     "text": [
      "save model\n",
      "Epoch : 2/50 -- Training loss 0.06743301065167522, --- Val loss 0.038479190319776535, --- accuray : 0.9869075410922038, --- recall : 0.98686290114568\n"
     ]
    },
    {
     "data": {
      "application/vnd.jupyter.widget-view+json": {
       "model_id": "3052518eacfd47e6a13f7cccc1037292",
       "version_major": 2,
       "version_minor": 0
      },
      "text/plain": [
       "train:   0%|          | 0/2125 [00:00<?, ?it/s]"
      ]
     },
     "metadata": {},
     "output_type": "display_data"
    },
    {
     "name": "stdout",
     "output_type": "stream",
     "text": [
      "save model\n",
      "Epoch : 3/50 -- Training loss 0.050296788950012446, --- Val loss 0.035700228065252304, --- accuray : 0.9884077542641808, --- recall : 0.9883758516137462\n"
     ]
    },
    {
     "data": {
      "application/vnd.jupyter.widget-view+json": {
       "model_id": "4681c91b44df4e378bc99d8c5b63dca6",
       "version_major": 2,
       "version_minor": 0
      },
      "text/plain": [
       "train:   0%|          | 0/2125 [00:00<?, ?it/s]"
      ]
     },
     "metadata": {},
     "output_type": "display_data"
    },
    {
     "name": "stdout",
     "output_type": "stream",
     "text": [
      "save model\n",
      "Epoch : 4/50 -- Training loss 0.04218955685573575, --- Val loss 0.02788548171520233, --- accuray : 0.9908327747787352, --- recall : 0.9908303083321183\n"
     ]
    },
    {
     "data": {
      "application/vnd.jupyter.widget-view+json": {
       "model_id": "14f535a40ba54856abc4848214942b59",
       "version_major": 2,
       "version_minor": 0
      },
      "text/plain": [
       "train:   0%|          | 0/2125 [00:00<?, ?it/s]"
      ]
     },
     "metadata": {},
     "output_type": "display_data"
    },
    {
     "name": "stdout",
     "output_type": "stream",
     "text": [
      "save model\n",
      "Epoch : 5/50 -- Training loss 0.03724366272744887, --- Val loss 0.02489139325916767, --- accuray : 0.9926889291433459, --- recall : 0.992699106544791\n"
     ]
    },
    {
     "data": {
      "application/vnd.jupyter.widget-view+json": {
       "model_id": "7d8f81d6da75442db2b3e1072eec1a2f",
       "version_major": 2,
       "version_minor": 0
      },
      "text/plain": [
       "train:   0%|          | 0/2125 [00:00<?, ?it/s]"
      ]
     },
     "metadata": {},
     "output_type": "display_data"
    },
    {
     "name": "stdout",
     "output_type": "stream",
     "text": [
      "save model\n",
      "Epoch : 6/50 -- Training loss 0.03298928667422767, --- Val loss 0.02213277854025364, --- accuray : 0.9928864646164334, --- recall : 0.9928945617952705\n"
     ]
    },
    {
     "data": {
      "application/vnd.jupyter.widget-view+json": {
       "model_id": "c4fa3c9cca55439a91968da1dc3f9df0",
       "version_major": 2,
       "version_minor": 0
      },
      "text/plain": [
       "train:   0%|          | 0/2125 [00:00<?, ?it/s]"
      ]
     },
     "metadata": {},
     "output_type": "display_data"
    },
    {
     "name": "stdout",
     "output_type": "stream",
     "text": [
      "Epoch : 7/50 -- Training loss 0.029803591846502112, --- Val loss 0.025017352774739265, --- accuray : 0.9928111256888226, --- recall : 0.9928104569998946\n"
     ]
    },
    {
     "data": {
      "application/vnd.jupyter.widget-view+json": {
       "model_id": "5d87dfcb368b41f791c30846c90e11d6",
       "version_major": 2,
       "version_minor": 0
      },
      "text/plain": [
       "train:   0%|          | 0/2125 [00:00<?, ?it/s]"
      ]
     },
     "metadata": {},
     "output_type": "display_data"
    },
    {
     "name": "stdout",
     "output_type": "stream",
     "text": [
      "Epoch : 8/50 -- Training loss 0.02746148084323196, --- Val loss 0.02428998425602913, --- accuray : 0.992580547283082, --- recall : 0.9925685507488357\n"
     ]
    },
    {
     "data": {
      "application/vnd.jupyter.widget-view+json": {
       "model_id": "2430798d0f5b4fe29cbee7d7d2eb6d71",
       "version_major": 2,
       "version_minor": 0
      },
      "text/plain": [
       "train:   0%|          | 0/2125 [00:00<?, ?it/s]"
      ]
     },
     "metadata": {},
     "output_type": "display_data"
    },
    {
     "name": "stdout",
     "output_type": "stream",
     "text": [
      "save model\n",
      "Epoch : 9/50 -- Training loss 0.025591320210629525, --- Val loss 0.017696311697363853, --- accuray : 0.9943796571440757, --- recall : 0.9943762744465179\n"
     ]
    },
    {
     "data": {
      "application/vnd.jupyter.widget-view+json": {
       "model_id": "b92901ddaf7c4601888f924fbd09f3ab",
       "version_major": 2,
       "version_minor": 0
      },
      "text/plain": [
       "train:   0%|          | 0/2125 [00:00<?, ?it/s]"
      ]
     },
     "metadata": {},
     "output_type": "display_data"
    },
    {
     "name": "stdout",
     "output_type": "stream",
     "text": [
      "save model\n",
      "Epoch : 10/50 -- Training loss 0.02475058410082848, --- Val loss 0.016679804772138596, --- accuray : 0.9948046329859294, --- recall : 0.9948142701317136\n"
     ]
    },
    {
     "data": {
      "application/vnd.jupyter.widget-view+json": {
       "model_id": "bb21610723d945e1ae58e6356c91279c",
       "version_major": 2,
       "version_minor": 0
      },
      "text/plain": [
       "train:   0%|          | 0/2125 [00:00<?, ?it/s]"
      ]
     },
     "metadata": {},
     "output_type": "display_data"
    },
    {
     "name": "stdout",
     "output_type": "stream",
     "text": [
      "Epoch : 11/50 -- Training loss 0.02231990615065511, --- Val loss 0.018401751294732094, --- accuray : 0.9945954202318761, --- recall : 0.9945987369265895\n"
     ]
    },
    {
     "data": {
      "application/vnd.jupyter.widget-view+json": {
       "model_id": "fdff65cc3ae64c808972b467296859a0",
       "version_major": 2,
       "version_minor": 0
      },
      "text/plain": [
       "train:   0%|          | 0/2125 [00:00<?, ?it/s]"
      ]
     },
     "metadata": {},
     "output_type": "display_data"
    },
    {
     "name": "stdout",
     "output_type": "stream",
     "text": [
      "Epoch : 12/50 -- Training loss 0.022324598694418777, --- Val loss 0.019691944122314453, --- accuray : 0.9946996312218648, --- recall : 0.9947084451262971\n"
     ]
    },
    {
     "data": {
      "application/vnd.jupyter.widget-view+json": {
       "model_id": "7992cb859772428b8966994b91c5c1d1",
       "version_major": 2,
       "version_minor": 0
      },
      "text/plain": [
       "train:   0%|          | 0/2125 [00:00<?, ?it/s]"
      ]
     },
     "metadata": {},
     "output_type": "display_data"
    },
    {
     "name": "stdout",
     "output_type": "stream",
     "text": [
      "Epoch : 13/50 -- Training loss 0.02114983469830237, --- Val loss 0.017082445323467255, --- accuray : 0.9946143605592926, --- recall : 0.9946228368439627\n"
     ]
    },
    {
     "data": {
      "application/vnd.jupyter.widget-view+json": {
       "model_id": "6d52d7ce025a42bb9242645d064df043",
       "version_major": 2,
       "version_minor": 0
      },
      "text/plain": [
       "train:   0%|          | 0/2125 [00:00<?, ?it/s]"
      ]
     },
     "metadata": {},
     "output_type": "display_data"
    },
    {
     "name": "stdout",
     "output_type": "stream",
     "text": [
      "save model\n",
      "Epoch : 14/50 -- Training loss 0.019708305091191397, --- Val loss 0.016045235097408295, --- accuray : 0.9958642743826418, --- recall : 0.9958772932130833\n"
     ]
    },
    {
     "data": {
      "application/vnd.jupyter.widget-view+json": {
       "model_id": "cefd21a17e004f92a3e03cbdd824444d",
       "version_major": 2,
       "version_minor": 0
      },
      "text/plain": [
       "train:   0%|          | 0/2125 [00:00<?, ?it/s]"
      ]
     },
     "metadata": {},
     "output_type": "display_data"
    },
    {
     "name": "stdout",
     "output_type": "stream",
     "text": [
      "Epoch : 15/50 -- Training loss 0.018328528241242405, --- Val loss 0.016786590218544006, --- accuray : 0.9953445477237401, --- recall : 0.9953394363365206\n"
     ]
    },
    {
     "data": {
      "application/vnd.jupyter.widget-view+json": {
       "model_id": "4a04652bd065480899d2de3864550b86",
       "version_major": 2,
       "version_minor": 0
      },
      "text/plain": [
       "train:   0%|          | 0/2125 [00:00<?, ?it/s]"
      ]
     },
     "metadata": {},
     "output_type": "display_data"
    },
    {
     "name": "stdout",
     "output_type": "stream",
     "text": [
      "Epoch : 16/50 -- Training loss 0.01858907393968034, --- Val loss 0.01785757578909397, --- accuray : 0.9956315166011486, --- recall : 0.995645870392383\n"
     ]
    },
    {
     "data": {
      "application/vnd.jupyter.widget-view+json": {
       "model_id": "d00fbbfffa9d489f9ad7c347d5d0bf86",
       "version_major": 2,
       "version_minor": 0
      },
      "text/plain": [
       "train:   0%|          | 0/2125 [00:00<?, ?it/s]"
      ]
     },
     "metadata": {},
     "output_type": "display_data"
    },
    {
     "name": "stdout",
     "output_type": "stream",
     "text": [
      "Epoch : 17/50 -- Training loss 0.01616714317973032, --- Val loss 0.01690446212887764, --- accuray : 0.9953111924980892, --- recall : 0.9953230916602628\n"
     ]
    },
    {
     "data": {
      "application/vnd.jupyter.widget-view+json": {
       "model_id": "aecf5811d8014b55999b4f5795bf8a73",
       "version_major": 2,
       "version_minor": 0
      },
      "text/plain": [
       "train:   0%|          | 0/2125 [00:00<?, ?it/s]"
      ]
     },
     "metadata": {},
     "output_type": "display_data"
    },
    {
     "name": "stdout",
     "output_type": "stream",
     "text": [
      "save model\n",
      "Epoch : 18/50 -- Training loss 0.01712124024173125, --- Val loss 0.01522289589047432, --- accuray : 0.9959985699791669, --- recall : 0.9960129748962313\n"
     ]
    },
    {
     "data": {
      "application/vnd.jupyter.widget-view+json": {
       "model_id": "c39485b6027745838440a654c8281cac",
       "version_major": 2,
       "version_minor": 0
      },
      "text/plain": [
       "train:   0%|          | 0/2125 [00:00<?, ?it/s]"
      ]
     },
     "metadata": {},
     "output_type": "display_data"
    },
    {
     "name": "stdout",
     "output_type": "stream",
     "text": [
      "save model\n",
      "Epoch : 19/50 -- Training loss 0.01633468760015496, --- Val loss 0.013206359930336475, --- accuray : 0.9963416665629701, --- recall : 0.9963601318903137\n"
     ]
    },
    {
     "data": {
      "application/vnd.jupyter.widget-view+json": {
       "model_id": "608f6a2de8284508a6831a7c18a33138",
       "version_major": 2,
       "version_minor": 0
      },
      "text/plain": [
       "train:   0%|          | 0/2125 [00:00<?, ?it/s]"
      ]
     },
     "metadata": {},
     "output_type": "display_data"
    },
    {
     "name": "stdout",
     "output_type": "stream",
     "text": [
      "Epoch : 20/50 -- Training loss 0.015815703134884482, --- Val loss 0.018800707533955574, --- accuray : 0.9953386260966084, --- recall : 0.9953527426786983\n"
     ]
    },
    {
     "data": {
      "application/vnd.jupyter.widget-view+json": {
       "model_id": "42e0924940554c64a4ff7bb81befb09d",
       "version_major": 2,
       "version_minor": 0
      },
      "text/plain": [
       "train:   0%|          | 0/2125 [00:00<?, ?it/s]"
      ]
     },
     "metadata": {},
     "output_type": "display_data"
    },
    {
     "name": "stdout",
     "output_type": "stream",
     "text": [
      "Epoch : 21/50 -- Training loss 0.01576288957505569, --- Val loss 0.012408696115016937, --- accuray : 0.9962199906630615, --- recall : 0.996212663485939\n"
     ]
    },
    {
     "data": {
      "application/vnd.jupyter.widget-view+json": {
       "model_id": "2f965db0d89e47b6b94fcb2716243035",
       "version_major": 2,
       "version_minor": 0
      },
      "text/plain": [
       "train:   0%|          | 0/2125 [00:00<?, ?it/s]"
      ]
     },
     "metadata": {},
     "output_type": "display_data"
    },
    {
     "name": "stdout",
     "output_type": "stream",
     "text": [
      "Epoch : 22/50 -- Training loss 0.014563701416362379, --- Val loss 0.015643907710909843, --- accuray : 0.9957938349844463, --- recall : 0.9958029450771531\n"
     ]
    },
    {
     "data": {
      "application/vnd.jupyter.widget-view+json": {
       "model_id": "17e8a9ea1b394684b0873e7843e76aaf",
       "version_major": 2,
       "version_minor": 0
      },
      "text/plain": [
       "train:   0%|          | 0/2125 [00:00<?, ?it/s]"
      ]
     },
     "metadata": {},
     "output_type": "display_data"
    },
    {
     "name": "stdout",
     "output_type": "stream",
     "text": [
      "Epoch : 23/50 -- Training loss 0.013976972464556372, --- Val loss 0.015617094933986664, --- accuray : 0.9954511145813244, --- recall : 0.9954451280454988\n"
     ]
    },
    {
     "data": {
      "application/vnd.jupyter.widget-view+json": {
       "model_id": "df37b9250c7b4d09b5be807228ccfae1",
       "version_major": 2,
       "version_minor": 0
      },
      "text/plain": [
       "train:   0%|          | 0/2125 [00:00<?, ?it/s]"
      ]
     },
     "metadata": {},
     "output_type": "display_data"
    },
    {
     "name": "stdout",
     "output_type": "stream",
     "text": [
      "Epoch : 24/50 -- Training loss 0.014341266435786298, --- Val loss 0.014383704401552677, --- accuray : 0.9961049376733306, --- recall : 0.9961156609199111\n"
     ]
    },
    {
     "data": {
      "application/vnd.jupyter.widget-view+json": {
       "model_id": "fe0a806a1e4b4b84878f08ad679192c8",
       "version_major": 2,
       "version_minor": 0
      },
      "text/plain": [
       "train:   0%|          | 0/2125 [00:00<?, ?it/s]"
      ]
     },
     "metadata": {},
     "output_type": "display_data"
    },
    {
     "name": "stdout",
     "output_type": "stream",
     "text": [
      "Epoch : 25/50 -- Training loss 0.013322543756610898, --- Val loss 0.013749181292951107, --- accuray : 0.9961316404405286, --- recall : 0.9961422643004404\n"
     ]
    },
    {
     "data": {
      "application/vnd.jupyter.widget-view+json": {
       "model_id": "87ff756884a048dd8b7b80ff5c7145de",
       "version_major": 2,
       "version_minor": 0
      },
      "text/plain": [
       "train:   0%|          | 0/2125 [00:00<?, ?it/s]"
      ]
     },
     "metadata": {},
     "output_type": "display_data"
    },
    {
     "name": "stdout",
     "output_type": "stream",
     "text": [
      "save model\n",
      "Epoch : 26/50 -- Training loss 0.01330688398671405, --- Val loss 0.012253720313310623, --- accuray : 0.9966638041253543, --- recall : 0.9966721855780742\n"
     ]
    },
    {
     "data": {
      "application/vnd.jupyter.widget-view+json": {
       "model_id": "cb8b0073108141059dd5d91e03d39bbc",
       "version_major": 2,
       "version_minor": 0
      },
      "text/plain": [
       "train:   0%|          | 0/2125 [00:00<?, ?it/s]"
      ]
     },
     "metadata": {},
     "output_type": "display_data"
    },
    {
     "name": "stdout",
     "output_type": "stream",
     "text": [
      "Epoch : 27/50 -- Training loss 0.012733168761786895, --- Val loss 0.014748441986739635, --- accuray : 0.9962408253788251, --- recall : 0.9962530543609711\n"
     ]
    },
    {
     "data": {
      "application/vnd.jupyter.widget-view+json": {
       "model_id": "3f56fcfe4d9f4589a07243adec96ac6c",
       "version_major": 2,
       "version_minor": 0
      },
      "text/plain": [
       "train:   0%|          | 0/2125 [00:00<?, ?it/s]"
      ]
     },
     "metadata": {},
     "output_type": "display_data"
    },
    {
     "name": "stdout",
     "output_type": "stream",
     "text": [
      "save model\n",
      "Epoch : 28/50 -- Training loss 0.01237298699115533, --- Val loss 0.01329361367970705, --- accuray : 0.9967970142236489, --- recall : 0.9968096399935227\n"
     ]
    },
    {
     "data": {
      "application/vnd.jupyter.widget-view+json": {
       "model_id": "9fe6f2d9933141bdb3f5d5d453a31e39",
       "version_major": 2,
       "version_minor": 0
      },
      "text/plain": [
       "train:   0%|          | 0/2125 [00:00<?, ?it/s]"
      ]
     },
     "metadata": {},
     "output_type": "display_data"
    },
    {
     "name": "stdout",
     "output_type": "stream",
     "text": [
      "Epoch : 29/50 -- Training loss 0.01316153699683919, --- Val loss 0.02005978673696518, --- accuray : 0.9952866963033007, --- recall : 0.9953012042107037\n"
     ]
    },
    {
     "data": {
      "application/vnd.jupyter.widget-view+json": {
       "model_id": "dd603fe6876d4cb2bb15c9726bef3f20",
       "version_major": 2,
       "version_minor": 0
      },
      "text/plain": [
       "train:   0%|          | 0/2125 [00:00<?, ?it/s]"
      ]
     },
     "metadata": {},
     "output_type": "display_data"
    },
    {
     "name": "stdout",
     "output_type": "stream",
     "text": [
      "Epoch : 30/50 -- Training loss 0.01237210973819567, --- Val loss 0.016081703826785088, --- accuray : 0.9961085781445199, --- recall : 0.9961228177593264\n"
     ]
    },
    {
     "data": {
      "application/vnd.jupyter.widget-view+json": {
       "model_id": "0c112a4390d047fd892b1a7a1dab731c",
       "version_major": 2,
       "version_minor": 0
      },
      "text/plain": [
       "train:   0%|          | 0/2125 [00:00<?, ?it/s]"
      ]
     },
     "metadata": {},
     "output_type": "display_data"
    },
    {
     "name": "stdout",
     "output_type": "stream",
     "text": [
      "save model\n",
      "Epoch : 31/50 -- Training loss 0.011435868254713783, --- Val loss 0.011866620741784573, --- accuray : 0.9967984226943274, --- recall : 0.9968062971551392\n"
     ]
    },
    {
     "data": {
      "application/vnd.jupyter.widget-view+json": {
       "model_id": "caa6587d67ce4f47b794e12423955678",
       "version_major": 2,
       "version_minor": 0
      },
      "text/plain": [
       "train:   0%|          | 0/2125 [00:00<?, ?it/s]"
      ]
     },
     "metadata": {},
     "output_type": "display_data"
    },
    {
     "name": "stdout",
     "output_type": "stream",
     "text": [
      "save model\n",
      "Epoch : 32/50 -- Training loss 0.011031754660428038, --- Val loss 0.011465623043477535, --- accuray : 0.9970889801611079, --- recall : 0.9971037109361124\n"
     ]
    },
    {
     "data": {
      "application/vnd.jupyter.widget-view+json": {
       "model_id": "c4f8974ae3a4442a9d32ff1ee4911c2a",
       "version_major": 2,
       "version_minor": 0
      },
      "text/plain": [
       "train:   0%|          | 0/2125 [00:00<?, ?it/s]"
      ]
     },
     "metadata": {},
     "output_type": "display_data"
    },
    {
     "name": "stdout",
     "output_type": "stream",
     "text": [
      "Epoch : 33/50 -- Training loss 0.010854137669253867, --- Val loss 0.011598579585552216, --- accuray : 0.9970884133876311, --- recall : 0.997100129399145\n"
     ]
    },
    {
     "data": {
      "application/vnd.jupyter.widget-view+json": {
       "model_id": "c28c3d22cc414ec7ba72ed79be104ecb",
       "version_major": 2,
       "version_minor": 0
      },
      "text/plain": [
       "train:   0%|          | 0/2125 [00:00<?, ?it/s]"
      ]
     },
     "metadata": {},
     "output_type": "display_data"
    },
    {
     "name": "stdout",
     "output_type": "stream",
     "text": [
      "Epoch : 34/50 -- Training loss 0.011761911280281364, --- Val loss 0.013973996043205261, --- accuray : 0.9966628403575992, --- recall : 0.996682445585426\n"
     ]
    },
    {
     "data": {
      "application/vnd.jupyter.widget-view+json": {
       "model_id": "95c0bad413034de888c3078d8eaedf94",
       "version_major": 2,
       "version_minor": 0
      },
      "text/plain": [
       "train:   0%|          | 0/2125 [00:00<?, ?it/s]"
      ]
     },
     "metadata": {},
     "output_type": "display_data"
    },
    {
     "name": "stdout",
     "output_type": "stream",
     "text": [
      "Epoch : 35/50 -- Training loss 0.010580250036924553, --- Val loss 0.013576310127973557, --- accuray : 0.9969026768381255, --- recall : 0.9969184827219625\n"
     ]
    },
    {
     "data": {
      "application/vnd.jupyter.widget-view+json": {
       "model_id": "b736b89d186343a6a983d1fd4fa3fc38",
       "version_major": 2,
       "version_minor": 0
      },
      "text/plain": [
       "train:   0%|          | 0/2125 [00:00<?, ?it/s]"
      ]
     },
     "metadata": {},
     "output_type": "display_data"
    },
    {
     "name": "stdout",
     "output_type": "stream",
     "text": [
      "Epoch : 36/50 -- Training loss 0.010531942764851171, --- Val loss 0.017974022775888443, --- accuray : 0.9958193102180083, --- recall : 0.9958207988851051\n"
     ]
    },
    {
     "data": {
      "application/vnd.jupyter.widget-view+json": {
       "model_id": "746b10f15c9a48c5b526eee3fbb0cf63",
       "version_major": 2,
       "version_minor": 0
      },
      "text/plain": [
       "train:   0%|          | 0/2125 [00:00<?, ?it/s]"
      ]
     },
     "metadata": {},
     "output_type": "display_data"
    },
    {
     "name": "stdout",
     "output_type": "stream",
     "text": [
      "save model\n",
      "Epoch : 37/50 -- Training loss 0.009853079232696687, --- Val loss 0.011353450827300549, --- accuray : 0.9974624036100405, --- recall : 0.9974760963790767\n"
     ]
    },
    {
     "data": {
      "application/vnd.jupyter.widget-view+json": {
       "model_id": "5c3398ecbf1f483cb746e6ecf1d51fb8",
       "version_major": 2,
       "version_minor": 0
      },
      "text/plain": [
       "train:   0%|          | 0/2125 [00:00<?, ?it/s]"
      ]
     },
     "metadata": {},
     "output_type": "display_data"
    },
    {
     "name": "stdout",
     "output_type": "stream",
     "text": [
      "Epoch : 38/50 -- Training loss 0.010112403032982163, --- Val loss 0.012726815417408943, --- accuray : 0.9970379668918594, --- recall : 0.9970498162464512\n"
     ]
    },
    {
     "data": {
      "application/vnd.jupyter.widget-view+json": {
       "model_id": "91835a263a3040b98e0ea690213d14ee",
       "version_major": 2,
       "version_minor": 0
      },
      "text/plain": [
       "train:   0%|          | 0/2125 [00:00<?, ?it/s]"
      ]
     },
     "metadata": {},
     "output_type": "display_data"
    },
    {
     "name": "stdout",
     "output_type": "stream",
     "text": [
      "Epoch : 39/50 -- Training loss 0.010354726231399956, --- Val loss 0.012424778193235397, --- accuray : 0.9969569571129574, --- recall : 0.9969705355995115\n"
     ]
    },
    {
     "data": {
      "application/vnd.jupyter.widget-view+json": {
       "model_id": "043f38f6f55148bc87ba646d842a93c8",
       "version_major": 2,
       "version_minor": 0
      },
      "text/plain": [
       "train:   0%|          | 0/2125 [00:00<?, ?it/s]"
      ]
     },
     "metadata": {},
     "output_type": "display_data"
    },
    {
     "name": "stdout",
     "output_type": "stream",
     "text": [
      "Epoch : 40/50 -- Training loss 0.009223510952137182, --- Val loss 0.013413767330348492, --- accuray : 0.9969588387922466, --- recall : 0.9969711623996529\n"
     ]
    },
    {
     "data": {
      "application/vnd.jupyter.widget-view+json": {
       "model_id": "7d40f532cb194f46ac0ef8ddc2a323eb",
       "version_major": 2,
       "version_minor": 0
      },
      "text/plain": [
       "train:   0%|          | 0/2125 [00:00<?, ?it/s]"
      ]
     },
     "metadata": {},
     "output_type": "display_data"
    },
    {
     "name": "stdout",
     "output_type": "stream",
     "text": [
      "Epoch : 41/50 -- Training loss 0.009021591285036051, --- Val loss 0.012493491172790527, --- accuray : 0.9965312297005047, --- recall : 0.9965401554427601\n"
     ]
    },
    {
     "data": {
      "application/vnd.jupyter.widget-view+json": {
       "model_id": "05de6d372bd64e4a88805ae9bc67abe3",
       "version_major": 2,
       "version_minor": 0
      },
      "text/plain": [
       "train:   0%|          | 0/2125 [00:00<?, ?it/s]"
      ]
     },
     "metadata": {},
     "output_type": "display_data"
    },
    {
     "name": "stdout",
     "output_type": "stream",
     "text": [
      "Epoch : 42/50 -- Training loss 0.009125827418774646, --- Val loss 0.015918483957648277, --- accuray : 0.9962665073802285, --- recall : 0.9962744125931238\n"
     ]
    },
    {
     "data": {
      "application/vnd.jupyter.widget-view+json": {
       "model_id": "2880e19b4eac4497ab8c3b2ee8c818fa",
       "version_major": 2,
       "version_minor": 0
      },
      "text/plain": [
       "train:   0%|          | 0/2125 [00:00<?, ?it/s]"
      ]
     },
     "metadata": {},
     "output_type": "display_data"
    },
    {
     "name": "stdout",
     "output_type": "stream",
     "text": [
      "Epoch : 43/50 -- Training loss 0.009147444168359952, --- Val loss 0.01440813485532999, --- accuray : 0.9970895620638197, --- recall : 0.9971086640579955\n"
     ]
    },
    {
     "data": {
      "application/vnd.jupyter.widget-view+json": {
       "model_id": "cbffdfda0589407691988ca87249b78e",
       "version_major": 2,
       "version_minor": 0
      },
      "text/plain": [
       "train:   0%|          | 0/2125 [00:00<?, ?it/s]"
      ]
     },
     "metadata": {},
     "output_type": "display_data"
    },
    {
     "name": "stdout",
     "output_type": "stream",
     "text": [
      "Epoch : 44/50 -- Training loss 0.008681593130315591, --- Val loss 0.01455782726407051, --- accuray : 0.9970628975577573, --- recall : 0.9970792294335002\n"
     ]
    },
    {
     "data": {
      "application/vnd.jupyter.widget-view+json": {
       "model_id": "4eea9a0911cd43b9a86470bf0cd47021",
       "version_major": 2,
       "version_minor": 0
      },
      "text/plain": [
       "train:   0%|          | 0/2125 [00:00<?, ?it/s]"
      ]
     },
     "metadata": {},
     "output_type": "display_data"
    },
    {
     "name": "stdout",
     "output_type": "stream",
     "text": [
      "Epoch : 45/50 -- Training loss 0.008836988777156768, --- Val loss 0.01211714930832386, --- accuray : 0.9973831229238261, --- recall : 0.997399625062149\n"
     ]
    },
    {
     "data": {
      "application/vnd.jupyter.widget-view+json": {
       "model_id": "ffe66b0dc93c4ba8916db0173eaa41e8",
       "version_major": 2,
       "version_minor": 0
      },
      "text/plain": [
       "train:   0%|          | 0/2125 [00:00<?, ?it/s]"
      ]
     },
     "metadata": {},
     "output_type": "display_data"
    },
    {
     "name": "stdout",
     "output_type": "stream",
     "text": [
      "Epoch : 46/50 -- Training loss 0.00836196360281985, --- Val loss 0.01684829406440258, --- accuray : 0.9964251825291598, --- recall : 0.9964465292354918\n"
     ]
    },
    {
     "data": {
      "application/vnd.jupyter.widget-view+json": {
       "model_id": "16660fddb2c548828e0458edaf423fa4",
       "version_major": 2,
       "version_minor": 0
      },
      "text/plain": [
       "train:   0%|          | 0/2125 [00:00<?, ?it/s]"
      ]
     },
     "metadata": {},
     "output_type": "display_data"
    },
    {
     "name": "stdout",
     "output_type": "stream",
     "text": [
      "save model\n",
      "Epoch : 47/50 -- Training loss 0.008205360204839642, --- Val loss 0.012575286440551281, --- accuray : 0.9974637421096515, --- recall : 0.9974760118013608\n"
     ]
    },
    {
     "data": {
      "application/vnd.jupyter.widget-view+json": {
       "model_id": "cf2a1a967a6a4db2b776e32bcb7c57fc",
       "version_major": 2,
       "version_minor": 0
      },
      "text/plain": [
       "train:   0%|          | 0/2125 [00:00<?, ?it/s]"
      ]
     },
     "metadata": {},
     "output_type": "display_data"
    },
    {
     "name": "stdout",
     "output_type": "stream",
     "text": [
      "Epoch : 48/50 -- Training loss 0.00920308324099305, --- Val loss 0.015476461499929428, --- accuray : 0.996745276658203, --- recall : 0.9967641751009431\n"
     ]
    },
    {
     "data": {
      "application/vnd.jupyter.widget-view+json": {
       "model_id": "c853ef6f09b649ba9fd19b9e5f9ea681",
       "version_major": 2,
       "version_minor": 0
      },
      "text/plain": [
       "train:   0%|          | 0/2125 [00:00<?, ?it/s]"
      ]
     },
     "metadata": {},
     "output_type": "display_data"
    },
    {
     "name": "stdout",
     "output_type": "stream",
     "text": [
      "Epoch : 49/50 -- Training loss 0.007775548437057617, --- Val loss 0.012196818366646767, --- accuray : 0.9974369990936266, --- recall : 0.9974499462113865\n"
     ]
    },
    {
     "data": {
      "application/vnd.jupyter.widget-view+json": {
       "model_id": "90ae89eea42e42c98ab12b98f227cbfb",
       "version_major": 2,
       "version_minor": 0
      },
      "text/plain": [
       "train:   0%|          | 0/2125 [00:00<?, ?it/s]"
      ]
     },
     "metadata": {},
     "output_type": "display_data"
    },
    {
     "name": "stdout",
     "output_type": "stream",
     "text": [
      "Epoch : 50/50 -- Training loss 0.007433882079181892, --- Val loss 0.014908271841704845, --- accuray : 0.9971165437554351, --- recall : 0.9971340474587034\n",
      "execution time:  5413.256569623947\n",
      "Predicted     0     1     2     3     4\n",
      "True                                   \n",
      "0          7479    41    17    13    10\n",
      "1             5  7428     1     0     0\n",
      "2             1     0  7451    16     0\n",
      "3             0     0     2  7485     0\n",
      "4             2     0     0     0  7549\n",
      "              precision    recall  f1-score   support\n",
      "\n",
      "           0       1.00      0.99      0.99      7560\n",
      "           1       0.99      1.00      1.00      7434\n",
      "           2       1.00      1.00      1.00      7468\n",
      "           3       1.00      1.00      1.00      7487\n",
      "           4       1.00      1.00      1.00      7551\n",
      "\n",
      "    accuracy                           1.00     37500\n",
      "   macro avg       1.00      1.00      1.00     37500\n",
      "weighted avg       1.00      1.00      1.00     37500\n",
      "\n"
     ]
    },
    {
     "data": {
      "image/png": "[encoded data removed]",
      "text/plain": [
       "<Figure size 640x480 with 1 Axes>"
      ]
     },
     "metadata": {},
     "output_type": "display_data"
    }
   ],
   "source": [
    "train_a_model(model_3,train_loader,test_set,epochs = epochs,lr=1e-3,outmodelname='../models/C3.pkl')"
   ]
  },
  {
   "cell_type": "code",
   "execution_count": 55,
   "id": "290d6165-26d4-4674-b6e9-a918937492b1",
   "metadata": {},
   "outputs": [
    {
     "name": "stdout",
     "output_type": "stream",
     "text": [
      "              precision    recall  f1-score   support\n",
      "\n",
      "           0      0.993     0.992     0.993     18118\n",
      "           1      0.827     0.851     0.839       556\n",
      "           2      0.958     0.963     0.960      1448\n",
      "           3      0.778     0.846     0.811       162\n",
      "           4      0.994     0.989     0.991      1608\n",
      "\n",
      "    accuracy                          0.985     21892\n",
      "   macro avg      0.910     0.928     0.919     21892\n",
      "weighted avg      0.985     0.985     0.985     21892\n",
      "\n"
     ]
    },
    {
     "data": {
      "image/png": "[encoded data removed]",
      "text/plain": [
       "<Figure size 400x400 with 1 Axes>"
      ]
     },
     "metadata": {},
     "output_type": "display_data"
    }
   ],
   "source": [
    "model_3=joblib.load('../models/C3.pkl')\n",
    "\n",
    "y_true, y_pred, accuracy, recall, loss = evaluate_model(model_3, valid_set)\n",
    "table = pd.crosstab(y_true,y_pred,rownames=['True'],colnames=['Predicted'])\n",
    "fig = plt.figure(figsize=(4,4))\n",
    "ax = fig.add_subplot()\n",
    "\n",
    "sns.heatmap(table,cmap='Blues',annot=True,fmt='d',cbar=False,linecolor='black',ax=ax)\n",
    "ax.set_aspect('equal')\n",
    "print(classification_report(y_true, y_pred,digits=3))"
   ]
  },
  {
   "cell_type": "markdown",
   "id": "b7f16915-8aa1-42df-861f-e5a9b7bd7652",
   "metadata": {},
   "source": [
    "### filters"
   ]
  },
  {
   "cell_type": "code",
   "execution_count": 63,
   "id": "f051582d-45a3-4cdc-a605-05cfca27eb4d",
   "metadata": {},
   "outputs": [
    {
     "data": {
      "image/png": "[encoded data removed]",
      "text/plain": [
       "<Figure size 640x480 with 80 Axes>"
      ]
     },
     "metadata": {},
     "output_type": "display_data"
    }
   ],
   "source": [
    "layer1 = model_3[0]\n",
    "N = layer1.weight.shape[0]\n",
    "fig,ax = plt.subplots(nrows=10,ncols=8)\n",
    "ax =ax.flatten()\n",
    "for k in range(min(N,80)):\n",
    "    ax[k].plot(layer1.weight[k,0,:].detach().numpy())\n",
    "    ax[k].set_axis_off()\n",
    "    ax[k].set_ylim([-1.2,1.2])"
   ]
  },
  {
   "cell_type": "markdown",
   "id": "07979fdb-f066-4634-af47-f1e71c8b2e03",
   "metadata": {},
   "source": [
    "## Kernels 5,3,3, increasing number of filters"
   ]
  },
  {
   "cell_type": "code",
   "execution_count": 19,
   "id": "41b4b3fb-89fa-426d-8af3-652ca7781371",
   "metadata": {},
   "outputs": [
    {
     "name": "stdout",
     "output_type": "stream",
     "text": [
      "=================================================================\n",
      "Layer (type:depth-idx)                   Param #\n",
      "=================================================================\n",
      "├─Conv1d: 1-1                            192\n",
      "├─ReLU: 1-2                              --\n",
      "├─BatchNorm1d: 1-3                       64\n",
      "├─MaxPool1d: 1-4                         --\n",
      "├─Conv1d: 1-5                            6,208\n",
      "├─ReLU: 1-6                              --\n",
      "├─BatchNorm1d: 1-7                       128\n",
      "├─MaxPool1d: 1-8                         --\n",
      "├─Conv1d: 1-9                            24,704\n",
      "├─ReLU: 1-10                             --\n",
      "├─BatchNorm1d: 1-11                      256\n",
      "├─MaxPool1d: 1-12                        --\n",
      "├─Flatten: 1-13                          --\n",
      "├─Dropout: 1-14                          --\n",
      "├─Linear: 1-15                           134,450\n",
      "├─ReLU: 1-16                             --\n",
      "├─Linear: 1-17                           255\n",
      "=================================================================\n",
      "Total params: 166,257\n",
      "Trainable params: 166,257\n",
      "Non-trainable params: 0\n",
      "=================================================================\n"
     ]
    }
   ],
   "source": [
    "model_4 = cnn_type_4()"
   ]
  },
  {
   "cell_type": "code",
   "execution_count": 20,
   "id": "009c5877-e03e-471c-b463-082290b4d411",
   "metadata": {},
   "outputs": [
    {
     "name": "stderr",
     "output_type": "stream",
     "text": [
      "C:\\Users\\passage\\Documents\\perso\\TEST\\WinPython\\WPy64-31020\\scripts\\heartbeat\\lib\\site-packages\\torch\\optim\\lr_scheduler.py:62: UserWarning: The verbose parameter is deprecated. Please use get_last_lr() to access the learning rate.\n",
      "  warnings.warn(\n"
     ]
    },
    {
     "data": {
      "application/vnd.jupyter.widget-view+json": {
       "model_id": "b564b1106261468882cb6e45989d3fe7",
       "version_major": 2,
       "version_minor": 0
      },
      "text/plain": [
       "train:   0%|          | 0/2125 [00:00<?, ?it/s]"
      ]
     },
     "metadata": {},
     "output_type": "display_data"
    },
    {
     "name": "stdout",
     "output_type": "stream",
     "text": [
      "save model\n",
      "Epoch : 1/50 -- Training loss 0.1365398011317148, --- Val loss 0.06936433911323547, --- accuray : 0.9773756540235958, --- recall : 0.9772815252412388\n"
     ]
    },
    {
     "data": {
      "application/vnd.jupyter.widget-view+json": {
       "model_id": "578c73c6b7b242c1886449d8495bcb24",
       "version_major": 2,
       "version_minor": 0
      },
      "text/plain": [
       "train:   0%|          | 0/2125 [00:00<?, ?it/s]"
      ]
     },
     "metadata": {},
     "output_type": "display_data"
    },
    {
     "name": "stdout",
     "output_type": "stream",
     "text": [
      "save model\n",
      "Epoch : 2/50 -- Training loss 0.06106623039328877, --- Val loss 0.03830910101532936, --- accuray : 0.9871120080735516, --- recall : 0.9870961608966435\n"
     ]
    },
    {
     "data": {
      "application/vnd.jupyter.widget-view+json": {
       "model_id": "917fe486a73f4ca288c3b86156aa6f41",
       "version_major": 2,
       "version_minor": 0
      },
      "text/plain": [
       "train:   0%|          | 0/2125 [00:00<?, ?it/s]"
      ]
     },
     "metadata": {},
     "output_type": "display_data"
    },
    {
     "name": "stdout",
     "output_type": "stream",
     "text": [
      "save model\n",
      "Epoch : 3/50 -- Training loss 0.04638591782984269, --- Val loss 0.03383664786815643, --- accuray : 0.9889022906618962, --- recall : 0.9888738009563719\n"
     ]
    },
    {
     "data": {
      "application/vnd.jupyter.widget-view+json": {
       "model_id": "3514fa0250a64e339f3856f0dd81103b",
       "version_major": 2,
       "version_minor": 0
      },
      "text/plain": [
       "train:   0%|          | 0/2125 [00:00<?, ?it/s]"
      ]
     },
     "metadata": {},
     "output_type": "display_data"
    },
    {
     "name": "stdout",
     "output_type": "stream",
     "text": [
      "save model\n",
      "Epoch : 4/50 -- Training loss 0.038605241623953644, --- Val loss 0.028994878754019737, --- accuray : 0.9910415520170286, --- recall : 0.9909975415456257\n"
     ]
    },
    {
     "data": {
      "application/vnd.jupyter.widget-view+json": {
       "model_id": "3ca25d548d1b4065926b07a936a5c834",
       "version_major": 2,
       "version_minor": 0
      },
      "text/plain": [
       "train:   0%|          | 0/2125 [00:00<?, ?it/s]"
      ]
     },
     "metadata": {},
     "output_type": "display_data"
    },
    {
     "name": "stdout",
     "output_type": "stream",
     "text": [
      "save model\n",
      "Epoch : 5/50 -- Training loss 0.03330357499085093, --- Val loss 0.02710973657667637, --- accuray : 0.9915106714381305, --- recall : 0.9914677466658267\n"
     ]
    },
    {
     "data": {
      "application/vnd.jupyter.widget-view+json": {
       "model_id": "3e4206b82e994484b1ae6d86c812089f",
       "version_major": 2,
       "version_minor": 0
      },
      "text/plain": [
       "train:   0%|          | 0/2125 [00:00<?, ?it/s]"
      ]
     },
     "metadata": {},
     "output_type": "display_data"
    },
    {
     "name": "stdout",
     "output_type": "stream",
     "text": [
      "save model\n",
      "Epoch : 6/50 -- Training loss 0.02888061394618468, --- Val loss 0.024505218490958214, --- accuray : 0.9924661617624629, --- recall : 0.9924601805818364\n"
     ]
    },
    {
     "data": {
      "application/vnd.jupyter.widget-view+json": {
       "model_id": "a00b4fc1ced3494f951d6240a354fa3b",
       "version_major": 2,
       "version_minor": 0
      },
      "text/plain": [
       "train:   0%|          | 0/2125 [00:00<?, ?it/s]"
      ]
     },
     "metadata": {},
     "output_type": "display_data"
    },
    {
     "name": "stdout",
     "output_type": "stream",
     "text": [
      "save model\n",
      "Epoch : 7/50 -- Training loss 0.02703487875229364, --- Val loss 0.0213325098156929, --- accuray : 0.9938792429210321, --- recall : 0.993868837798496\n"
     ]
    },
    {
     "data": {
      "application/vnd.jupyter.widget-view+json": {
       "model_id": "4f7984c8e30a45e38c13f73ec6d0ab4a",
       "version_major": 2,
       "version_minor": 0
      },
      "text/plain": [
       "train:   0%|          | 0/2125 [00:00<?, ?it/s]"
      ]
     },
     "metadata": {},
     "output_type": "display_data"
    },
    {
     "name": "stdout",
     "output_type": "stream",
     "text": [
      "Epoch : 8/50 -- Training loss 0.024909029527319087, --- Val loss 0.026301216334104538, --- accuray : 0.991942364762655, --- recall : 0.9919123978629388\n"
     ]
    },
    {
     "data": {
      "application/vnd.jupyter.widget-view+json": {
       "model_id": "2e1d1f8756164d6299de2faed669e782",
       "version_major": 2,
       "version_minor": 0
      },
      "text/plain": [
       "train:   0%|          | 0/2125 [00:00<?, ?it/s]"
      ]
     },
     "metadata": {},
     "output_type": "display_data"
    },
    {
     "name": "stdout",
     "output_type": "stream",
     "text": [
      "Epoch : 9/50 -- Training loss 0.023389336617803885, --- Val loss 0.019965648651123047, --- accuray : 0.9935827449793587, --- recall : 0.9935792323367634\n"
     ]
    },
    {
     "data": {
      "application/vnd.jupyter.widget-view+json": {
       "model_id": "c6797900fde34cdf9714e57622a562d1",
       "version_major": 2,
       "version_minor": 0
      },
      "text/plain": [
       "train:   0%|          | 0/2125 [00:00<?, ?it/s]"
      ]
     },
     "metadata": {},
     "output_type": "display_data"
    },
    {
     "name": "stdout",
     "output_type": "stream",
     "text": [
      "Epoch : 10/50 -- Training loss 0.022026675020628744, --- Val loss 0.0290059894323349, --- accuray : 0.9925429554327758, --- recall : 0.9925561201038644\n"
     ]
    },
    {
     "data": {
      "application/vnd.jupyter.widget-view+json": {
       "model_id": "403ac23609204656b6b2a1e2a98f9090",
       "version_major": 2,
       "version_minor": 0
      },
      "text/plain": [
       "train:   0%|          | 0/2125 [00:00<?, ?it/s]"
      ]
     },
     "metadata": {},
     "output_type": "display_data"
    },
    {
     "name": "stdout",
     "output_type": "stream",
     "text": [
      "Epoch : 11/50 -- Training loss 0.019868869220894446, --- Val loss 0.025715770199894905, --- accuray : 0.992492121044797, --- recall : 0.9924776858295589\n"
     ]
    },
    {
     "data": {
      "application/vnd.jupyter.widget-view+json": {
       "model_id": "118359a3c79245de9000943b0114a95d",
       "version_major": 2,
       "version_minor": 0
      },
      "text/plain": [
       "train:   0%|          | 0/2125 [00:00<?, ?it/s]"
      ]
     },
     "metadata": {},
     "output_type": "display_data"
    },
    {
     "name": "stdout",
     "output_type": "stream",
     "text": [
      "save model\n",
      "Epoch : 12/50 -- Training loss 0.019359461124764707, --- Val loss 0.023279862478375435, --- accuray : 0.993916891400203, --- recall : 0.9939244849726329\n"
     ]
    },
    {
     "data": {
      "application/vnd.jupyter.widget-view+json": {
       "model_id": "43a483fba7ff44fa97300ed4d52ce6b4",
       "version_major": 2,
       "version_minor": 0
      },
      "text/plain": [
       "train:   0%|          | 0/2125 [00:00<?, ?it/s]"
      ]
     },
     "metadata": {},
     "output_type": "display_data"
    },
    {
     "name": "stdout",
     "output_type": "stream",
     "text": [
      "save model\n",
      "Epoch : 13/50 -- Training loss 0.017585050853857812, --- Val loss 0.016277814283967018, --- accuray : 0.9957300050274845, --- recall : 0.9957478053603577\n"
     ]
    },
    {
     "data": {
      "application/vnd.jupyter.widget-view+json": {
       "model_id": "412d9984c1764bc7b2f1d3017220a26e",
       "version_major": 2,
       "version_minor": 0
      },
      "text/plain": [
       "train:   0%|          | 0/2125 [00:00<?, ?it/s]"
      ]
     },
     "metadata": {},
     "output_type": "display_data"
    },
    {
     "name": "stdout",
     "output_type": "stream",
     "text": [
      "Epoch : 14/50 -- Training loss 0.018547688234653942, --- Val loss 0.019772663712501526, --- accuray : 0.9949094783100471, --- recall : 0.9949265626897754\n"
     ]
    },
    {
     "data": {
      "application/vnd.jupyter.widget-view+json": {
       "model_id": "e5c882aee3534d0fa0fb7db98d983d13",
       "version_major": 2,
       "version_minor": 0
      },
      "text/plain": [
       "train:   0%|          | 0/2125 [00:00<?, ?it/s]"
      ]
     },
     "metadata": {},
     "output_type": "display_data"
    },
    {
     "name": "stdout",
     "output_type": "stream",
     "text": [
      "save model\n",
      "Epoch : 15/50 -- Training loss 0.016668650504259218, --- Val loss 0.015971504151821136, --- accuray : 0.9958708433790573, --- recall : 0.9958840536275767\n"
     ]
    },
    {
     "data": {
      "application/vnd.jupyter.widget-view+json": {
       "model_id": "f70dac6055c946d7a583fa8069189676",
       "version_major": 2,
       "version_minor": 0
      },
      "text/plain": [
       "train:   0%|          | 0/2125 [00:00<?, ?it/s]"
      ]
     },
     "metadata": {},
     "output_type": "display_data"
    },
    {
     "name": "stdout",
     "output_type": "stream",
     "text": [
      "Epoch : 16/50 -- Training loss 0.015908260432882182, --- Val loss 0.015099436976015568, --- accuray : 0.9954431898093148, --- recall : 0.9954388956629925\n"
     ]
    },
    {
     "data": {
      "application/vnd.jupyter.widget-view+json": {
       "model_id": "8a2979db8ad14e9192af015b3d897c98",
       "version_major": 2,
       "version_minor": 0
      },
      "text/plain": [
       "train:   0%|          | 0/2125 [00:00<?, ?it/s]"
      ]
     },
     "metadata": {},
     "output_type": "display_data"
    },
    {
     "name": "stdout",
     "output_type": "stream",
     "text": [
      "Epoch : 17/50 -- Training loss 0.015680594601855023, --- Val loss 0.02016032114624977, --- accuray : 0.9952081101038243, --- recall : 0.995224657869854\n"
     ]
    },
    {
     "data": {
      "application/vnd.jupyter.widget-view+json": {
       "model_id": "b10f22a7a61549eeb4fb33b90abdf9da",
       "version_major": 2,
       "version_minor": 0
      },
      "text/plain": [
       "train:   0%|          | 0/2125 [00:00<?, ?it/s]"
      ]
     },
     "metadata": {},
     "output_type": "display_data"
    },
    {
     "name": "stdout",
     "output_type": "stream",
     "text": [
      "Epoch : 18/50 -- Training loss 0.015245501622406343, --- Val loss 0.021570930257439613, --- accuray : 0.9941043233042862, --- recall : 0.9941036671426119\n"
     ]
    },
    {
     "data": {
      "application/vnd.jupyter.widget-view+json": {
       "model_id": "39bfd41601574c82bb7beb908e69109d",
       "version_major": 2,
       "version_minor": 0
      },
      "text/plain": [
       "train:   0%|          | 0/2125 [00:00<?, ?it/s]"
      ]
     },
     "metadata": {},
     "output_type": "display_data"
    },
    {
     "name": "stdout",
     "output_type": "stream",
     "text": [
      "save model\n",
      "Epoch : 19/50 -- Training loss 0.014401632358548393, --- Val loss 0.014232629910111427, --- accuray : 0.9960526905387121, --- recall : 0.9960566984792483\n"
     ]
    },
    {
     "data": {
      "application/vnd.jupyter.widget-view+json": {
       "model_id": "52eaced4728642a3aaf166f5e3842e00",
       "version_major": 2,
       "version_minor": 0
      },
      "text/plain": [
       "train:   0%|          | 0/2125 [00:00<?, ?it/s]"
      ]
     },
     "metadata": {},
     "output_type": "display_data"
    },
    {
     "name": "stdout",
     "output_type": "stream",
     "text": [
      "save model\n",
      "Epoch : 20/50 -- Training loss 0.015307581819267023, --- Val loss 0.014707027934491634, --- accuray : 0.9962646925192548, --- recall : 0.996277144333861\n"
     ]
    },
    {
     "data": {
      "application/vnd.jupyter.widget-view+json": {
       "model_id": "b483fc8701884f4591d345788a0ccdfc",
       "version_major": 2,
       "version_minor": 0
      },
      "text/plain": [
       "train:   0%|          | 0/2125 [00:00<?, ?it/s]"
      ]
     },
     "metadata": {},
     "output_type": "display_data"
    },
    {
     "name": "stdout",
     "output_type": "stream",
     "text": [
      "Epoch : 21/50 -- Training loss 0.014438344334556699, --- Val loss 0.02866874262690544, --- accuray : 0.9903945802366045, --- recall : 0.9901544098866815\n"
     ]
    },
    {
     "data": {
      "application/vnd.jupyter.widget-view+json": {
       "model_id": "fcdd117052614a258d180035140c9ac6",
       "version_major": 2,
       "version_minor": 0
      },
      "text/plain": [
       "train:   0%|          | 0/2125 [00:00<?, ?it/s]"
      ]
     },
     "metadata": {},
     "output_type": "display_data"
    },
    {
     "name": "stdout",
     "output_type": "stream",
     "text": [
      "save model\n",
      "Epoch : 22/50 -- Training loss 0.01313708042507599, --- Val loss 0.014856754802167416, --- accuray : 0.9965023552778683, --- recall : 0.996521066415832\n"
     ]
    },
    {
     "data": {
      "application/vnd.jupyter.widget-view+json": {
       "model_id": "2aefb82d26cd4cb39cb14224adf45cd8",
       "version_major": 2,
       "version_minor": 0
      },
      "text/plain": [
       "train:   0%|          | 0/2125 [00:00<?, ?it/s]"
      ]
     },
     "metadata": {},
     "output_type": "display_data"
    },
    {
     "name": "stdout",
     "output_type": "stream",
     "text": [
      "Epoch : 23/50 -- Training loss 0.012361908552264461, --- Val loss 0.02252947725355625, --- accuray : 0.9950467211291036, --- recall : 0.9950624886931827\n"
     ]
    },
    {
     "data": {
      "application/vnd.jupyter.widget-view+json": {
       "model_id": "24289bc2079542aab7868b245c3ea87f",
       "version_major": 2,
       "version_minor": 0
      },
      "text/plain": [
       "train:   0%|          | 0/2125 [00:00<?, ?it/s]"
      ]
     },
     "metadata": {},
     "output_type": "display_data"
    },
    {
     "name": "stdout",
     "output_type": "stream",
     "text": [
      "Epoch : 24/50 -- Training loss 0.012778602862486877, --- Val loss 0.020756416022777557, --- accuray : 0.9949976920256148, --- recall : 0.9950074063454778\n"
     ]
    },
    {
     "data": {
      "application/vnd.jupyter.widget-view+json": {
       "model_id": "8bf6447169974eddbabea30eb246497e",
       "version_major": 2,
       "version_minor": 0
      },
      "text/plain": [
       "train:   0%|          | 0/2125 [00:00<?, ?it/s]"
      ]
     },
     "metadata": {},
     "output_type": "display_data"
    },
    {
     "name": "stdout",
     "output_type": "stream",
     "text": [
      "Epoch : 25/50 -- Training loss 0.012396113267587197, --- Val loss 0.016585778445005417, --- accuray : 0.9962935669025942, --- recall : 0.996310356677862\n"
     ]
    },
    {
     "data": {
      "application/vnd.jupyter.widget-view+json": {
       "model_id": "bd09f5d0beb04fad9a8f3db4280a60c7",
       "version_major": 2,
       "version_minor": 0
      },
      "text/plain": [
       "train:   0%|          | 0/2125 [00:00<?, ?it/s]"
      ]
     },
     "metadata": {},
     "output_type": "display_data"
    },
    {
     "name": "stdout",
     "output_type": "stream",
     "text": [
      "save model\n",
      "Epoch : 26/50 -- Training loss 0.011496994258721208, --- Val loss 0.014222715049982071, --- accuray : 0.9966904835720681, --- recall : 0.9967041472690523\n"
     ]
    },
    {
     "data": {
      "application/vnd.jupyter.widget-view+json": {
       "model_id": "c83b879ddfe54fcaae47dd69a6e0f5de",
       "version_major": 2,
       "version_minor": 0
      },
      "text/plain": [
       "train:   0%|          | 0/2125 [00:00<?, ?it/s]"
      ]
     },
     "metadata": {},
     "output_type": "display_data"
    },
    {
     "name": "stdout",
     "output_type": "stream",
     "text": [
      "Epoch : 27/50 -- Training loss 0.013005794897438297, --- Val loss 0.015513258054852486, --- accuray : 0.996321684713237, --- recall : 0.9963247073282826\n"
     ]
    },
    {
     "data": {
      "application/vnd.jupyter.widget-view+json": {
       "model_id": "1a99a4f9a2bc4e59be56106b3030c198",
       "version_major": 2,
       "version_minor": 0
      },
      "text/plain": [
       "train:   0%|          | 0/2125 [00:00<?, ?it/s]"
      ]
     },
     "metadata": {},
     "output_type": "display_data"
    },
    {
     "name": "stdout",
     "output_type": "stream",
     "text": [
      "save model\n",
      "Epoch : 28/50 -- Training loss 0.010703722948569788, --- Val loss 0.014340084977447987, --- accuray : 0.9969058003868605, --- recall : 0.9969191122283618\n"
     ]
    },
    {
     "data": {
      "application/vnd.jupyter.widget-view+json": {
       "model_id": "770b43b3854c4e008c76881c1958f43c",
       "version_major": 2,
       "version_minor": 0
      },
      "text/plain": [
       "train:   0%|          | 0/2125 [00:00<?, ?it/s]"
      ]
     },
     "metadata": {},
     "output_type": "display_data"
    },
    {
     "name": "stdout",
     "output_type": "stream",
     "text": [
      "Epoch : 29/50 -- Training loss 0.010880456448042423, --- Val loss 0.015529471449553967, --- accuray : 0.9964792395579314, --- recall : 0.9964900278832621\n"
     ]
    },
    {
     "data": {
      "application/vnd.jupyter.widget-view+json": {
       "model_id": "5b5c32a88e274223a0ed4d830d83c2a7",
       "version_major": 2,
       "version_minor": 0
      },
      "text/plain": [
       "train:   0%|          | 0/2125 [00:00<?, ?it/s]"
      ]
     },
     "metadata": {},
     "output_type": "display_data"
    },
    {
     "name": "stdout",
     "output_type": "stream",
     "text": [
      "Epoch : 30/50 -- Training loss 0.010052508094381638, --- Val loss 0.019204063341021538, --- accuray : 0.9963458991230674, --- recall : 0.9963674670713372\n"
     ]
    },
    {
     "data": {
      "application/vnd.jupyter.widget-view+json": {
       "model_id": "1138da9b083743f08b3d91967f379709",
       "version_major": 2,
       "version_minor": 0
      },
      "text/plain": [
       "train:   0%|          | 0/2125 [00:00<?, ?it/s]"
      ]
     },
     "metadata": {},
     "output_type": "display_data"
    },
    {
     "name": "stdout",
     "output_type": "stream",
     "text": [
      "save model\n",
      "Epoch : 31/50 -- Training loss 0.010790026794674385, --- Val loss 0.010357893072068691, --- accuray : 0.9976250191415301, --- recall : 0.9976344524857828\n"
     ]
    },
    {
     "data": {
      "application/vnd.jupyter.widget-view+json": {
       "model_id": "deb222ac49d24dc8bd28fcf8000f5212",
       "version_major": 2,
       "version_minor": 0
      },
      "text/plain": [
       "train:   0%|          | 0/2125 [00:00<?, ?it/s]"
      ]
     },
     "metadata": {},
     "output_type": "display_data"
    },
    {
     "name": "stdout",
     "output_type": "stream",
     "text": [
      "Epoch : 32/50 -- Training loss 0.010529682809381592, --- Val loss 0.011788024567067623, --- accuray : 0.9967412072117995, --- recall : 0.9967577125567733\n"
     ]
    },
    {
     "data": {
      "application/vnd.jupyter.widget-view+json": {
       "model_id": "d7f6816221ab49309476f62061135aef",
       "version_major": 2,
       "version_minor": 0
      },
      "text/plain": [
       "train:   0%|          | 0/2125 [00:00<?, ?it/s]"
      ]
     },
     "metadata": {},
     "output_type": "display_data"
    },
    {
     "name": "stdout",
     "output_type": "stream",
     "text": [
      "Epoch : 33/50 -- Training loss 0.010248342812149638, --- Val loss 0.011619331315159798, --- accuray : 0.9973856935243784, --- recall : 0.9973916031146979\n"
     ]
    },
    {
     "data": {
      "application/vnd.jupyter.widget-view+json": {
       "model_id": "b3e471245369461e88c6c48d75ce252d",
       "version_major": 2,
       "version_minor": 0
      },
      "text/plain": [
       "train:   0%|          | 0/2125 [00:00<?, ?it/s]"
      ]
     },
     "metadata": {},
     "output_type": "display_data"
    },
    {
     "name": "stdout",
     "output_type": "stream",
     "text": [
      "Epoch : 34/50 -- Training loss 0.010673887765458438, --- Val loss 0.01800718531012535, --- accuray : 0.996051106735624, --- recall : 0.9960742767621451\n"
     ]
    },
    {
     "data": {
      "application/vnd.jupyter.widget-view+json": {
       "model_id": "83743cde5abe4d558a4f0b69882a7563",
       "version_major": 2,
       "version_minor": 0
      },
      "text/plain": [
       "train:   0%|          | 0/2125 [00:00<?, ?it/s]"
      ]
     },
     "metadata": {},
     "output_type": "display_data"
    },
    {
     "name": "stdout",
     "output_type": "stream",
     "text": [
      "Epoch : 35/50 -- Training loss 0.009385307254918884, --- Val loss 0.014761238358914852, --- accuray : 0.9969572620132017, --- recall : 0.9969728898005876\n"
     ]
    },
    {
     "data": {
      "application/vnd.jupyter.widget-view+json": {
       "model_id": "d9a86fd4b0ba4bb9aec247d74cbbb6cc",
       "version_major": 2,
       "version_minor": 0
      },
      "text/plain": [
       "train:   0%|          | 0/2125 [00:00<?, ?it/s]"
      ]
     },
     "metadata": {},
     "output_type": "display_data"
    },
    {
     "name": "stdout",
     "output_type": "stream",
     "text": [
      "Epoch : 36/50 -- Training loss 0.009746302968765497, --- Val loss 0.015252018347382545, --- accuray : 0.9970102909125593, --- recall : 0.9970297079816539\n"
     ]
    },
    {
     "data": {
      "application/vnd.jupyter.widget-view+json": {
       "model_id": "bea924be6645479792d10589e01a9642",
       "version_major": 2,
       "version_minor": 0
      },
      "text/plain": [
       "train:   0%|          | 0/2125 [00:00<?, ?it/s]"
      ]
     },
     "metadata": {},
     "output_type": "display_data"
    },
    {
     "name": "stdout",
     "output_type": "stream",
     "text": [
      "Epoch : 37/50 -- Training loss 0.009275798667863001, --- Val loss 0.01699732430279255, --- accuray : 0.9967479446097975, --- recall : 0.9967576333145367\n"
     ]
    },
    {
     "data": {
      "application/vnd.jupyter.widget-view+json": {
       "model_id": "ee5cfa64fda045709bf098b90057b857",
       "version_major": 2,
       "version_minor": 0
      },
      "text/plain": [
       "train:   0%|          | 0/2125 [00:00<?, ?it/s]"
      ]
     },
     "metadata": {},
     "output_type": "display_data"
    },
    {
     "name": "stdout",
     "output_type": "stream",
     "text": [
      "Epoch : 38/50 -- Training loss 0.009262544886317246, --- Val loss 0.012226172722876072, --- accuray : 0.99727623897633, --- recall : 0.9972919984220369\n"
     ]
    },
    {
     "data": {
      "application/vnd.jupyter.widget-view+json": {
       "model_id": "5a4b75a362df491eafbc4b90f90075b4",
       "version_major": 2,
       "version_minor": 0
      },
      "text/plain": [
       "train:   0%|          | 0/2125 [00:00<?, ?it/s]"
      ]
     },
     "metadata": {},
     "output_type": "display_data"
    },
    {
     "name": "stdout",
     "output_type": "stream",
     "text": [
      "Epoch : 39/50 -- Training loss 0.009303537924450853, --- Val loss 0.014410950243473053, --- accuray : 0.9962937064588806, --- recall : 0.996298579319934\n"
     ]
    },
    {
     "data": {
      "application/vnd.jupyter.widget-view+json": {
       "model_id": "030201ff9c6d4e60b8ebf209fb1f3e18",
       "version_major": 2,
       "version_minor": 0
      },
      "text/plain": [
       "train:   0%|          | 0/2125 [00:00<?, ?it/s]"
      ]
     },
     "metadata": {},
     "output_type": "display_data"
    },
    {
     "name": "stdout",
     "output_type": "stream",
     "text": [
      "Epoch : 40/50 -- Training loss 0.00910454652331999, --- Val loss 0.015665393322706223, --- accuray : 0.9969574177345054, --- recall : 0.9969722946729682\n"
     ]
    },
    {
     "data": {
      "application/vnd.jupyter.widget-view+json": {
       "model_id": "ff5af3c2a63c403b999a0fdc21d9f0d6",
       "version_major": 2,
       "version_minor": 0
      },
      "text/plain": [
       "train:   0%|          | 0/2125 [00:00<?, ?it/s]"
      ]
     },
     "metadata": {},
     "output_type": "display_data"
    },
    {
     "name": "stdout",
     "output_type": "stream",
     "text": [
      "Epoch : 41/50 -- Training loss 0.009009669117318615, --- Val loss 0.012989982031285763, --- accuray : 0.9975955611354491, --- recall : 0.9976137018867002\n"
     ]
    },
    {
     "data": {
      "application/vnd.jupyter.widget-view+json": {
       "model_id": "5b1959a9a69547e1b92f2eccc8007abe",
       "version_major": 2,
       "version_minor": 0
      },
      "text/plain": [
       "train:   0%|          | 0/2125 [00:00<?, ?it/s]"
      ]
     },
     "metadata": {},
     "output_type": "display_data"
    },
    {
     "name": "stdout",
     "output_type": "stream",
     "text": [
      "save model\n",
      "Epoch : 42/50 -- Training loss 0.008402982091309574, --- Val loss 0.011143420822918415, --- accuray : 0.9976494810081615, --- recall : 0.9976632932449307\n"
     ]
    },
    {
     "data": {
      "application/vnd.jupyter.widget-view+json": {
       "model_id": "7e6b4cc139064e279f6743e9819428b8",
       "version_major": 2,
       "version_minor": 0
      },
      "text/plain": [
       "train:   0%|          | 0/2125 [00:00<?, ?it/s]"
      ]
     },
     "metadata": {},
     "output_type": "display_data"
    },
    {
     "name": "stdout",
     "output_type": "stream",
     "text": [
      "Epoch : 43/50 -- Training loss 0.007923216216907603, --- Val loss 0.01750299520790577, --- accuray : 0.9965058043120871, --- recall : 0.9965241816897477\n"
     ]
    },
    {
     "data": {
      "application/vnd.jupyter.widget-view+json": {
       "model_id": "e50b3a1257814498b9be8f10fca4d5af",
       "version_major": 2,
       "version_minor": 0
      },
      "text/plain": [
       "train:   0%|          | 0/2125 [00:00<?, ?it/s]"
      ]
     },
     "metadata": {},
     "output_type": "display_data"
    },
    {
     "name": "stdout",
     "output_type": "stream",
     "text": [
      "Epoch : 44/50 -- Training loss 0.008546929115877526, --- Val loss 0.014742840081453323, --- accuray : 0.99695548321302, --- recall : 0.996972541122697\n"
     ]
    },
    {
     "data": {
      "application/vnd.jupyter.widget-view+json": {
       "model_id": "8c6e950e0cc548ab8f81466566b14054",
       "version_major": 2,
       "version_minor": 0
      },
      "text/plain": [
       "train:   0%|          | 0/2125 [00:00<?, ?it/s]"
      ]
     },
     "metadata": {},
     "output_type": "display_data"
    },
    {
     "name": "stdout",
     "output_type": "stream",
     "text": [
      "Epoch : 45/50 -- Training loss 0.007816171285051273, --- Val loss 0.01468329131603241, --- accuray : 0.9970100189443587, --- recall : 0.99703108399844\n"
     ]
    },
    {
     "data": {
      "application/vnd.jupyter.widget-view+json": {
       "model_id": "010d2ef037f1467193cbf8cb33ea66e0",
       "version_major": 2,
       "version_minor": 0
      },
      "text/plain": [
       "train:   0%|          | 0/2125 [00:00<?, ?it/s]"
      ]
     },
     "metadata": {},
     "output_type": "display_data"
    },
    {
     "name": "stdout",
     "output_type": "stream",
     "text": [
      "Epoch : 46/50 -- Training loss 0.008113262564394624, --- Val loss 0.01682475209236145, --- accuray : 0.9966916972292795, --- recall : 0.996705881408644\n"
     ]
    },
    {
     "data": {
      "application/vnd.jupyter.widget-view+json": {
       "model_id": "481e020785d645498c80eba67ce31a67",
       "version_major": 2,
       "version_minor": 0
      },
      "text/plain": [
       "train:   0%|          | 0/2125 [00:00<?, ?it/s]"
      ]
     },
     "metadata": {},
     "output_type": "display_data"
    },
    {
     "name": "stdout",
     "output_type": "stream",
     "text": [
      "Epoch : 47/50 -- Training loss 0.0076990381396621135, --- Val loss 0.012945466674864292, --- accuray : 0.997518259169183, --- recall : 0.9975288714417786\n"
     ]
    },
    {
     "data": {
      "application/vnd.jupyter.widget-view+json": {
       "model_id": "e17d5ed9ce13479294694929983b3e25",
       "version_major": 2,
       "version_minor": 0
      },
      "text/plain": [
       "train:   0%|          | 0/2125 [00:00<?, ?it/s]"
      ]
     },
     "metadata": {},
     "output_type": "display_data"
    },
    {
     "name": "stdout",
     "output_type": "stream",
     "text": [
      "Epoch : 48/50 -- Training loss 0.007424015452522637, --- Val loss 0.01994343101978302, --- accuray : 0.9966136848166878, --- recall : 0.996630645750972\n"
     ]
    },
    {
     "data": {
      "application/vnd.jupyter.widget-view+json": {
       "model_id": "94439555fbbb4210aed00f71d693cb89",
       "version_major": 2,
       "version_minor": 0
      },
      "text/plain": [
       "train:   0%|          | 0/2125 [00:00<?, ?it/s]"
      ]
     },
     "metadata": {},
     "output_type": "display_data"
    },
    {
     "name": "stdout",
     "output_type": "stream",
     "text": [
      "Epoch : 49/50 -- Training loss 0.008146166022334672, --- Val loss 0.013337187469005585, --- accuray : 0.9970892993231424, --- recall : 0.9971016668202182\n"
     ]
    },
    {
     "data": {
      "application/vnd.jupyter.widget-view+json": {
       "model_id": "1100f6e1f4734952b4c5050786b21906",
       "version_major": 2,
       "version_minor": 0
      },
      "text/plain": [
       "train:   0%|          | 0/2125 [00:00<?, ?it/s]"
      ]
     },
     "metadata": {},
     "output_type": "display_data"
    },
    {
     "name": "stdout",
     "output_type": "stream",
     "text": [
      "Epoch : 50/50 -- Training loss 0.007421190450629384, --- Val loss 0.019442807883024216, --- accuray : 0.9963445432754534, --- recall : 0.9963653855117418\n",
      "execution time:  4934.859855175018\n",
      "Predicted     0     1     2     3     4\n",
      "True                                   \n",
      "0          7457    50    26    19     8\n",
      "1             3  7428     3     0     0\n",
      "2             1     0  7446    21     0\n",
      "3             1     0     0  7486     0\n",
      "4             2     0     3     0  7546\n",
      "              precision    recall  f1-score   support\n",
      "\n",
      "           0       1.00      0.99      0.99      7560\n",
      "           1       0.99      1.00      1.00      7434\n",
      "           2       1.00      1.00      1.00      7468\n",
      "           3       0.99      1.00      1.00      7487\n",
      "           4       1.00      1.00      1.00      7551\n",
      "\n",
      "    accuracy                           1.00     37500\n",
      "   macro avg       1.00      1.00      1.00     37500\n",
      "weighted avg       1.00      1.00      1.00     37500\n",
      "\n"
     ]
    },
    {
     "data": {
      "image/png": "[encoded data removed]",
      "text/plain": [
       "<Figure size 640x480 with 1 Axes>"
      ]
     },
     "metadata": {},
     "output_type": "display_data"
    }
   ],
   "source": [
    "train_a_model(model_4,train_loader,test_set,epochs = epochs,lr=1e-3,outmodelname='../models/C4.pkl')"
   ]
  },
  {
   "cell_type": "code",
   "execution_count": 57,
   "id": "c2915981-b594-4019-9b6f-99de490f6e79",
   "metadata": {},
   "outputs": [
    {
     "name": "stdout",
     "output_type": "stream",
     "text": [
      "              precision    recall  f1-score   support\n",
      "\n",
      "           0      0.992     0.992     0.992     18118\n",
      "           1      0.853     0.833     0.843       556\n",
      "           2      0.952     0.961     0.956      1448\n",
      "           3      0.791     0.796     0.794       162\n",
      "           4      0.991     0.992     0.992      1608\n",
      "\n",
      "    accuracy                          0.985     21892\n",
      "   macro avg      0.916     0.915     0.915     21892\n",
      "weighted avg      0.985     0.985     0.985     21892\n",
      "\n"
     ]
    },
    {
     "data": {
      "image/png": "[encoded data removed]",
      "text/plain": [
       "<Figure size 400x400 with 1 Axes>"
      ]
     },
     "metadata": {},
     "output_type": "display_data"
    }
   ],
   "source": [
    "model_4=joblib.load('../models/C4.pkl')\n",
    "\n",
    "y_true, y_pred, accuracy, recall, loss = evaluate_model(model_4, valid_set)\n",
    "table = pd.crosstab(y_true,y_pred,rownames=['True'],colnames=['Predicted'])\n",
    "fig = plt.figure(figsize=(4,4))\n",
    "ax = fig.add_subplot()\n",
    "\n",
    "sns.heatmap(table,cmap='Blues',annot=True,fmt='d',cbar=False,linecolor='black',ax=ax)\n",
    "ax.set_aspect('equal')\n",
    "print(classification_report(y_true, y_pred,digits=3))"
   ]
  },
  {
   "cell_type": "markdown",
   "id": "0174e5b7-836c-4756-8327-f545eaa93bfc",
   "metadata": {},
   "source": [
    "### filters"
   ]
  },
  {
   "cell_type": "code",
   "execution_count": 60,
   "id": "14700d29-427f-4b1f-913e-67f946ab03f0",
   "metadata": {},
   "outputs": [
    {
     "data": {
      "image/png": "[encoded data removed]",
      "text/plain": [
       "<Figure size 640x480 with 80 Axes>"
      ]
     },
     "metadata": {},
     "output_type": "display_data"
    }
   ],
   "source": [
    "layer1 = model_4[0]\n",
    "N = layer1.weight.shape[0]\n",
    "fig,ax = plt.subplots(nrows=10,ncols=8)\n",
    "ax =ax.flatten()\n",
    "for k in range(min(N,80)):\n",
    "    ax[k].plot(layer1.weight[k,0,:].detach().numpy())\n",
    "    ax[k].set_axis_off()\n",
    "    ax[k].set_ylim([-1.2,1.2])"
   ]
  }
 ],
 "metadata": {
  "kernelspec": {
   "display_name": "Python 3 (ipykernel)",
   "language": "python",
   "name": "python3"
  },
  "language_info": {
   "codemirror_mode": {
    "name": "ipython",
    "version": 3
   },
   "file_extension": ".py",
   "mimetype": "text/x-python",
   "name": "python",
   "nbconvert_exporter": "python",
   "pygments_lexer": "ipython3",
   "version": "3.9.13"
  }
 },
 "nbformat": 4,
 "nbformat_minor": 5
}
